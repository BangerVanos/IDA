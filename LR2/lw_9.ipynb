{
 "cells": [
  {
   "cell_type": "code",
   "execution_count": 1,
   "id": "3aeb7995",
   "metadata": {
    "execution": {
     "iopub.execute_input": "2024-03-24T10:03:57.641906Z",
     "iopub.status.busy": "2024-03-24T10:03:57.640726Z",
     "iopub.status.idle": "2024-03-24T10:04:00.373250Z",
     "shell.execute_reply": "2024-03-24T10:04:00.372114Z"
    },
    "papermill": {
     "duration": 2.74309,
     "end_time": "2024-03-24T10:04:00.375862",
     "exception": false,
     "start_time": "2024-03-24T10:03:57.632772",
     "status": "completed"
    },
    "tags": []
   },
   "outputs": [
    {
     "data": {
      "text/html": [
       "<div>\n",
       "<style scoped>\n",
       "    .dataframe tbody tr th:only-of-type {\n",
       "        vertical-align: middle;\n",
       "    }\n",
       "\n",
       "    .dataframe tbody tr th {\n",
       "        vertical-align: top;\n",
       "    }\n",
       "\n",
       "    .dataframe thead th {\n",
       "        text-align: right;\n",
       "    }\n",
       "</style>\n",
       "<table border=\"1\" class=\"dataframe\">\n",
       "  <thead>\n",
       "    <tr style=\"text-align: right;\">\n",
       "      <th></th>\n",
       "      <th>Id</th>\n",
       "      <th>age</th>\n",
       "      <th>job</th>\n",
       "      <th>marital</th>\n",
       "      <th>education</th>\n",
       "      <th>default</th>\n",
       "      <th>balance</th>\n",
       "      <th>housing</th>\n",
       "      <th>loan</th>\n",
       "      <th>contact</th>\n",
       "      <th>day</th>\n",
       "      <th>month</th>\n",
       "      <th>duration</th>\n",
       "      <th>campaign</th>\n",
       "      <th>pdays</th>\n",
       "      <th>previous</th>\n",
       "      <th>poutcome</th>\n",
       "      <th>y</th>\n",
       "    </tr>\n",
       "  </thead>\n",
       "  <tbody>\n",
       "    <tr>\n",
       "      <th>0</th>\n",
       "      <td>1001</td>\n",
       "      <td>NaN</td>\n",
       "      <td>management</td>\n",
       "      <td>married</td>\n",
       "      <td>tertiary</td>\n",
       "      <td>no</td>\n",
       "      <td>2143.0</td>\n",
       "      <td>yes</td>\n",
       "      <td>no</td>\n",
       "      <td>unknown</td>\n",
       "      <td>5</td>\n",
       "      <td>may</td>\n",
       "      <td>261</td>\n",
       "      <td>1</td>\n",
       "      <td>-1</td>\n",
       "      <td>0</td>\n",
       "      <td>unknown</td>\n",
       "      <td>no</td>\n",
       "    </tr>\n",
       "    <tr>\n",
       "      <th>1</th>\n",
       "      <td>1002</td>\n",
       "      <td>NaN</td>\n",
       "      <td>NaN</td>\n",
       "      <td>single</td>\n",
       "      <td>secondary</td>\n",
       "      <td>no</td>\n",
       "      <td>29.0</td>\n",
       "      <td>yes</td>\n",
       "      <td>no</td>\n",
       "      <td>unknown</td>\n",
       "      <td>5</td>\n",
       "      <td>may</td>\n",
       "      <td>151</td>\n",
       "      <td>1</td>\n",
       "      <td>-1</td>\n",
       "      <td>0</td>\n",
       "      <td>unknown</td>\n",
       "      <td>no</td>\n",
       "    </tr>\n",
       "    <tr>\n",
       "      <th>2</th>\n",
       "      <td>1003</td>\n",
       "      <td>NaN</td>\n",
       "      <td>entrepreneur</td>\n",
       "      <td>married</td>\n",
       "      <td>secondary</td>\n",
       "      <td>no</td>\n",
       "      <td>2.0</td>\n",
       "      <td>yes</td>\n",
       "      <td>yes</td>\n",
       "      <td>unknown</td>\n",
       "      <td>5</td>\n",
       "      <td>may</td>\n",
       "      <td>76</td>\n",
       "      <td>1</td>\n",
       "      <td>-1</td>\n",
       "      <td>0</td>\n",
       "      <td>unknown</td>\n",
       "      <td>no</td>\n",
       "    </tr>\n",
       "    <tr>\n",
       "      <th>3</th>\n",
       "      <td>1004</td>\n",
       "      <td>47.0</td>\n",
       "      <td>blue-collar</td>\n",
       "      <td>married</td>\n",
       "      <td>unknown</td>\n",
       "      <td>no</td>\n",
       "      <td>1506.0</td>\n",
       "      <td>yes</td>\n",
       "      <td>no</td>\n",
       "      <td>unknown</td>\n",
       "      <td>5</td>\n",
       "      <td>may</td>\n",
       "      <td>92</td>\n",
       "      <td>1</td>\n",
       "      <td>-1</td>\n",
       "      <td>0</td>\n",
       "      <td>unknown</td>\n",
       "      <td>no</td>\n",
       "    </tr>\n",
       "    <tr>\n",
       "      <th>4</th>\n",
       "      <td>1005</td>\n",
       "      <td>33.0</td>\n",
       "      <td>unknown</td>\n",
       "      <td>single</td>\n",
       "      <td>unknown</td>\n",
       "      <td>no</td>\n",
       "      <td>1.0</td>\n",
       "      <td>no</td>\n",
       "      <td>no</td>\n",
       "      <td>unknown</td>\n",
       "      <td>5</td>\n",
       "      <td>may</td>\n",
       "      <td>198</td>\n",
       "      <td>1</td>\n",
       "      <td>-1</td>\n",
       "      <td>0</td>\n",
       "      <td>unknown</td>\n",
       "      <td>no</td>\n",
       "    </tr>\n",
       "  </tbody>\n",
       "</table>\n",
       "</div>"
      ],
      "text/plain": [
       "     Id   age           job  marital  education default  balance housing loan  \\\n",
       "0  1001   NaN    management  married   tertiary      no   2143.0     yes   no   \n",
       "1  1002   NaN           NaN   single  secondary      no     29.0     yes   no   \n",
       "2  1003   NaN  entrepreneur  married  secondary      no      2.0     yes  yes   \n",
       "3  1004  47.0   blue-collar  married    unknown      no   1506.0     yes   no   \n",
       "4  1005  33.0       unknown   single    unknown      no      1.0      no   no   \n",
       "\n",
       "   contact  day month  duration  campaign  pdays  previous poutcome   y  \n",
       "0  unknown    5   may       261         1     -1         0  unknown  no  \n",
       "1  unknown    5   may       151         1     -1         0  unknown  no  \n",
       "2  unknown    5   may        76         1     -1         0  unknown  no  \n",
       "3  unknown    5   may        92         1     -1         0  unknown  no  \n",
       "4  unknown    5   may       198         1     -1         0  unknown  no  "
      ]
     },
     "execution_count": 1,
     "metadata": {},
     "output_type": "execute_result"
    }
   ],
   "source": [
    "import numpy as np\n",
    "import pandas as pd\n",
    "import matplotlib.pyplot as plt\n",
    "import seaborn as sns\n",
    "import scipy.stats as st\n",
    "import optuna\n",
    "\n",
    "df=pd.read_csv('/kaggle/input/bank-client-attributes-and-marketing-outcomes/Assignment-2_Data.csv')\n",
    "df.head()"
   ]
  },
  {
   "cell_type": "code",
   "execution_count": 2,
   "id": "7c9b79f5",
   "metadata": {
    "execution": {
     "iopub.execute_input": "2024-03-24T10:04:00.390252Z",
     "iopub.status.busy": "2024-03-24T10:04:00.389789Z",
     "iopub.status.idle": "2024-03-24T10:04:00.456805Z",
     "shell.execute_reply": "2024-03-24T10:04:00.455709Z"
    },
    "papermill": {
     "duration": 0.077136,
     "end_time": "2024-03-24T10:04:00.459288",
     "exception": false,
     "start_time": "2024-03-24T10:04:00.382152",
     "status": "completed"
    },
    "tags": []
   },
   "outputs": [
    {
     "name": "stdout",
     "output_type": "stream",
     "text": [
      "<class 'pandas.core.frame.DataFrame'>\n",
      "RangeIndex: 45211 entries, 0 to 45210\n",
      "Data columns (total 17 columns):\n",
      " #   Column     Non-Null Count  Dtype  \n",
      "---  ------     --------------  -----  \n",
      " 0   age        45199 non-null  float64\n",
      " 1   job        45210 non-null  object \n",
      " 2   marital    45211 non-null  object \n",
      " 3   education  45211 non-null  object \n",
      " 4   default    45211 non-null  object \n",
      " 5   balance    45208 non-null  float64\n",
      " 6   housing    45211 non-null  object \n",
      " 7   loan       45211 non-null  object \n",
      " 8   contact    45211 non-null  object \n",
      " 9   day        45211 non-null  int64  \n",
      " 10  month      45211 non-null  int64  \n",
      " 11  duration   45211 non-null  int64  \n",
      " 12  campaign   45211 non-null  int64  \n",
      " 13  pdays      45211 non-null  int64  \n",
      " 14  previous   45211 non-null  int64  \n",
      " 15  poutcome   45211 non-null  object \n",
      " 16  y          45211 non-null  object \n",
      "dtypes: float64(2), int64(6), object(9)\n",
      "memory usage: 5.9+ MB\n"
     ]
    }
   ],
   "source": [
    "df.drop('Id',axis=1,inplace=True)\n",
    "df['month']=pd.to_datetime(df['month'], format='%b').dt.month.astype('int64')\n",
    "df.info()"
   ]
  },
  {
   "cell_type": "code",
   "execution_count": 3,
   "id": "5c44beb7",
   "metadata": {
    "execution": {
     "iopub.execute_input": "2024-03-24T10:04:00.474717Z",
     "iopub.status.busy": "2024-03-24T10:04:00.473581Z",
     "iopub.status.idle": "2024-03-24T10:04:00.522105Z",
     "shell.execute_reply": "2024-03-24T10:04:00.520942Z"
    },
    "papermill": {
     "duration": 0.058347,
     "end_time": "2024-03-24T10:04:00.524487",
     "exception": false,
     "start_time": "2024-03-24T10:04:00.466140",
     "status": "completed"
    },
    "tags": []
   },
   "outputs": [
    {
     "data": {
      "text/plain": [
       "0"
      ]
     },
     "execution_count": 3,
     "metadata": {},
     "output_type": "execute_result"
    }
   ],
   "source": [
    "df.duplicated().sum()"
   ]
  },
  {
   "cell_type": "code",
   "execution_count": 4,
   "id": "28b274fb",
   "metadata": {
    "execution": {
     "iopub.execute_input": "2024-03-24T10:04:00.538897Z",
     "iopub.status.busy": "2024-03-24T10:04:00.538516Z",
     "iopub.status.idle": "2024-03-24T10:04:00.570203Z",
     "shell.execute_reply": "2024-03-24T10:04:00.569117Z"
    },
    "papermill": {
     "duration": 0.041473,
     "end_time": "2024-03-24T10:04:00.572453",
     "exception": false,
     "start_time": "2024-03-24T10:04:00.530980",
     "status": "completed"
    },
    "tags": []
   },
   "outputs": [
    {
     "data": {
      "text/plain": [
       "age          12\n",
       "job           1\n",
       "marital       0\n",
       "education     0\n",
       "default       0\n",
       "balance       3\n",
       "housing       0\n",
       "loan          0\n",
       "contact       0\n",
       "day           0\n",
       "month         0\n",
       "duration      0\n",
       "campaign      0\n",
       "pdays         0\n",
       "previous      0\n",
       "poutcome      0\n",
       "y             0\n",
       "dtype: int64"
      ]
     },
     "execution_count": 4,
     "metadata": {},
     "output_type": "execute_result"
    }
   ],
   "source": [
    "df.isna().sum()"
   ]
  },
  {
   "cell_type": "code",
   "execution_count": 5,
   "id": "4a59f46a",
   "metadata": {
    "execution": {
     "iopub.execute_input": "2024-03-24T10:04:00.589097Z",
     "iopub.status.busy": "2024-03-24T10:04:00.586996Z",
     "iopub.status.idle": "2024-03-24T10:04:00.646630Z",
     "shell.execute_reply": "2024-03-24T10:04:00.645315Z"
    },
    "papermill": {
     "duration": 0.069895,
     "end_time": "2024-03-24T10:04:00.649182",
     "exception": false,
     "start_time": "2024-03-24T10:04:00.579287",
     "status": "completed"
    },
    "tags": []
   },
   "outputs": [
    {
     "data": {
      "text/plain": [
       "age          0\n",
       "job          0\n",
       "marital      0\n",
       "education    0\n",
       "default      0\n",
       "balance      0\n",
       "housing      0\n",
       "loan         0\n",
       "contact      0\n",
       "day          0\n",
       "month        0\n",
       "duration     0\n",
       "campaign     0\n",
       "pdays        0\n",
       "previous     0\n",
       "poutcome     0\n",
       "y            0\n",
       "dtype: int64"
      ]
     },
     "execution_count": 5,
     "metadata": {},
     "output_type": "execute_result"
    }
   ],
   "source": [
    "df.dropna(inplace=True,ignore_index=True)\n",
    "df.isna().sum()"
   ]
  },
  {
   "cell_type": "code",
   "execution_count": 6,
   "id": "a2e45c87",
   "metadata": {
    "execution": {
     "iopub.execute_input": "2024-03-24T10:04:00.664776Z",
     "iopub.status.busy": "2024-03-24T10:04:00.664337Z",
     "iopub.status.idle": "2024-03-24T10:04:00.962311Z",
     "shell.execute_reply": "2024-03-24T10:04:00.961121Z"
    },
    "papermill": {
     "duration": 0.308512,
     "end_time": "2024-03-24T10:04:00.964797",
     "exception": false,
     "start_time": "2024-03-24T10:04:00.656285",
     "status": "completed"
    },
    "tags": []
   },
   "outputs": [
    {
     "data": {
      "text/plain": [
       "((36157, 16), (9040, 16), (36157,), (9040,))"
      ]
     },
     "execution_count": 6,
     "metadata": {},
     "output_type": "execute_result"
    }
   ],
   "source": [
    "X=df.drop('y',axis=1)\n",
    "y=df['y']\n",
    "from sklearn.model_selection import train_test_split\n",
    "x_train,x_test,y_train,y_test=train_test_split(X,y,test_size=0.2,random_state=42)\n",
    "x_train.shape,x_test.shape,y_train.shape,y_test.shape"
   ]
  },
  {
   "cell_type": "code",
   "execution_count": 7,
   "id": "59f71e7b",
   "metadata": {
    "execution": {
     "iopub.execute_input": "2024-03-24T10:04:00.981010Z",
     "iopub.status.busy": "2024-03-24T10:04:00.979920Z",
     "iopub.status.idle": "2024-03-24T10:04:01.027110Z",
     "shell.execute_reply": "2024-03-24T10:04:01.026036Z"
    },
    "papermill": {
     "duration": 0.057302,
     "end_time": "2024-03-24T10:04:01.029265",
     "exception": false,
     "start_time": "2024-03-24T10:04:00.971963",
     "status": "completed"
    },
    "tags": []
   },
   "outputs": [
    {
     "data": {
      "text/html": [
       "<div>\n",
       "<style scoped>\n",
       "    .dataframe tbody tr th:only-of-type {\n",
       "        vertical-align: middle;\n",
       "    }\n",
       "\n",
       "    .dataframe tbody tr th {\n",
       "        vertical-align: top;\n",
       "    }\n",
       "\n",
       "    .dataframe thead th {\n",
       "        text-align: right;\n",
       "    }\n",
       "</style>\n",
       "<table border=\"1\" class=\"dataframe\">\n",
       "  <thead>\n",
       "    <tr style=\"text-align: right;\">\n",
       "      <th></th>\n",
       "      <th>age</th>\n",
       "      <th>balance</th>\n",
       "      <th>day</th>\n",
       "      <th>month</th>\n",
       "      <th>duration</th>\n",
       "      <th>campaign</th>\n",
       "      <th>pdays</th>\n",
       "      <th>previous</th>\n",
       "    </tr>\n",
       "  </thead>\n",
       "  <tbody>\n",
       "    <tr>\n",
       "      <th>count</th>\n",
       "      <td>36157.000000</td>\n",
       "      <td>36157.000000</td>\n",
       "      <td>36157.000000</td>\n",
       "      <td>36157.000000</td>\n",
       "      <td>36157.000000</td>\n",
       "      <td>36157.000000</td>\n",
       "      <td>36157.000000</td>\n",
       "      <td>36157.000000</td>\n",
       "    </tr>\n",
       "    <tr>\n",
       "      <th>mean</th>\n",
       "      <td>40.940675</td>\n",
       "      <td>1363.607324</td>\n",
       "      <td>15.805764</td>\n",
       "      <td>6.139420</td>\n",
       "      <td>256.826977</td>\n",
       "      <td>2.765578</td>\n",
       "      <td>40.509694</td>\n",
       "      <td>0.586525</td>\n",
       "    </tr>\n",
       "    <tr>\n",
       "      <th>std</th>\n",
       "      <td>10.598572</td>\n",
       "      <td>3027.672744</td>\n",
       "      <td>8.320179</td>\n",
       "      <td>2.408327</td>\n",
       "      <td>255.775383</td>\n",
       "      <td>3.090760</td>\n",
       "      <td>100.516981</td>\n",
       "      <td>2.410281</td>\n",
       "    </tr>\n",
       "    <tr>\n",
       "      <th>min</th>\n",
       "      <td>-1.000000</td>\n",
       "      <td>-6847.000000</td>\n",
       "      <td>1.000000</td>\n",
       "      <td>1.000000</td>\n",
       "      <td>0.000000</td>\n",
       "      <td>1.000000</td>\n",
       "      <td>-1.000000</td>\n",
       "      <td>0.000000</td>\n",
       "    </tr>\n",
       "    <tr>\n",
       "      <th>25%</th>\n",
       "      <td>33.000000</td>\n",
       "      <td>74.000000</td>\n",
       "      <td>8.000000</td>\n",
       "      <td>5.000000</td>\n",
       "      <td>102.000000</td>\n",
       "      <td>1.000000</td>\n",
       "      <td>-1.000000</td>\n",
       "      <td>0.000000</td>\n",
       "    </tr>\n",
       "    <tr>\n",
       "      <th>50%</th>\n",
       "      <td>39.000000</td>\n",
       "      <td>448.000000</td>\n",
       "      <td>16.000000</td>\n",
       "      <td>6.000000</td>\n",
       "      <td>180.000000</td>\n",
       "      <td>2.000000</td>\n",
       "      <td>-1.000000</td>\n",
       "      <td>0.000000</td>\n",
       "    </tr>\n",
       "    <tr>\n",
       "      <th>75%</th>\n",
       "      <td>48.000000</td>\n",
       "      <td>1429.000000</td>\n",
       "      <td>21.000000</td>\n",
       "      <td>8.000000</td>\n",
       "      <td>318.000000</td>\n",
       "      <td>3.000000</td>\n",
       "      <td>-1.000000</td>\n",
       "      <td>0.000000</td>\n",
       "    </tr>\n",
       "    <tr>\n",
       "      <th>max</th>\n",
       "      <td>95.000000</td>\n",
       "      <td>98417.000000</td>\n",
       "      <td>31.000000</td>\n",
       "      <td>12.000000</td>\n",
       "      <td>4918.000000</td>\n",
       "      <td>63.000000</td>\n",
       "      <td>871.000000</td>\n",
       "      <td>275.000000</td>\n",
       "    </tr>\n",
       "  </tbody>\n",
       "</table>\n",
       "</div>"
      ],
      "text/plain": [
       "                age       balance           day         month      duration  \\\n",
       "count  36157.000000  36157.000000  36157.000000  36157.000000  36157.000000   \n",
       "mean      40.940675   1363.607324     15.805764      6.139420    256.826977   \n",
       "std       10.598572   3027.672744      8.320179      2.408327    255.775383   \n",
       "min       -1.000000  -6847.000000      1.000000      1.000000      0.000000   \n",
       "25%       33.000000     74.000000      8.000000      5.000000    102.000000   \n",
       "50%       39.000000    448.000000     16.000000      6.000000    180.000000   \n",
       "75%       48.000000   1429.000000     21.000000      8.000000    318.000000   \n",
       "max       95.000000  98417.000000     31.000000     12.000000   4918.000000   \n",
       "\n",
       "           campaign         pdays      previous  \n",
       "count  36157.000000  36157.000000  36157.000000  \n",
       "mean       2.765578     40.509694      0.586525  \n",
       "std        3.090760    100.516981      2.410281  \n",
       "min        1.000000     -1.000000      0.000000  \n",
       "25%        1.000000     -1.000000      0.000000  \n",
       "50%        2.000000     -1.000000      0.000000  \n",
       "75%        3.000000     -1.000000      0.000000  \n",
       "max       63.000000    871.000000    275.000000  "
      ]
     },
     "execution_count": 7,
     "metadata": {},
     "output_type": "execute_result"
    }
   ],
   "source": [
    "x_train.describe()"
   ]
  },
  {
   "cell_type": "markdown",
   "id": "469f1355",
   "metadata": {
    "papermill": {
     "duration": 0.00695,
     "end_time": "2024-03-24T10:04:01.043418",
     "exception": false,
     "start_time": "2024-03-24T10:04:01.036468",
     "status": "completed"
    },
    "tags": []
   },
   "source": [
    "negative age (?)\n",
    "\n",
    "negative balance (?)\n",
    "\n",
    "duration 0 (?)\n",
    "\n",
    "pdays -1 (?)"
   ]
  },
  {
   "cell_type": "code",
   "execution_count": 8,
   "id": "76d0f7e7",
   "metadata": {
    "execution": {
     "iopub.execute_input": "2024-03-24T10:04:01.060424Z",
     "iopub.status.busy": "2024-03-24T10:04:01.060006Z",
     "iopub.status.idle": "2024-03-24T10:04:01.066159Z",
     "shell.execute_reply": "2024-03-24T10:04:01.064835Z"
    },
    "papermill": {
     "duration": 0.017004,
     "end_time": "2024-03-24T10:04:01.068445",
     "exception": false,
     "start_time": "2024-03-24T10:04:01.051441",
     "status": "completed"
    },
    "tags": []
   },
   "outputs": [],
   "source": [
    "def covariate_transform(df: pd.DataFrame) -> pd.DataFrame:\n",
    "    df.age=df.age.apply(lambda x: 18 if x<18 else x) #assume minimal age of a client is 18 y.o\n",
    "    df.balance=df.balance.apply(lambda x: 0 if x<0 else x) #assume there is no minimal balance (?)\n",
    "    df.duration=df.duration.apply(lambda x: 1 if x<1 else x) #i'm not really sure what duration means here, but i assume duration must be greater than 0 (?)\n",
    "    df.pdays=df.pdays.apply(lambda x: 1 if x<1 else x) #again i'm not really sure what pdays means here, but i assume it means \"previous days\" (?), so i think it should be greater than 0\n",
    "    return df"
   ]
  },
  {
   "cell_type": "code",
   "execution_count": 9,
   "id": "21392d6c",
   "metadata": {
    "execution": {
     "iopub.execute_input": "2024-03-24T10:04:01.084902Z",
     "iopub.status.busy": "2024-03-24T10:04:01.084535Z",
     "iopub.status.idle": "2024-03-24T10:04:01.192638Z",
     "shell.execute_reply": "2024-03-24T10:04:01.191653Z"
    },
    "papermill": {
     "duration": 0.118714,
     "end_time": "2024-03-24T10:04:01.194713",
     "exception": false,
     "start_time": "2024-03-24T10:04:01.075999",
     "status": "completed"
    },
    "tags": []
   },
   "outputs": [
    {
     "data": {
      "text/html": [
       "<div>\n",
       "<style scoped>\n",
       "    .dataframe tbody tr th:only-of-type {\n",
       "        vertical-align: middle;\n",
       "    }\n",
       "\n",
       "    .dataframe tbody tr th {\n",
       "        vertical-align: top;\n",
       "    }\n",
       "\n",
       "    .dataframe thead th {\n",
       "        text-align: right;\n",
       "    }\n",
       "</style>\n",
       "<table border=\"1\" class=\"dataframe\">\n",
       "  <thead>\n",
       "    <tr style=\"text-align: right;\">\n",
       "      <th></th>\n",
       "      <th>age</th>\n",
       "      <th>balance</th>\n",
       "      <th>day</th>\n",
       "      <th>month</th>\n",
       "      <th>duration</th>\n",
       "      <th>campaign</th>\n",
       "      <th>pdays</th>\n",
       "      <th>previous</th>\n",
       "    </tr>\n",
       "  </thead>\n",
       "  <tbody>\n",
       "    <tr>\n",
       "      <th>count</th>\n",
       "      <td>36157.000000</td>\n",
       "      <td>36157.000000</td>\n",
       "      <td>36157.000000</td>\n",
       "      <td>36157.000000</td>\n",
       "      <td>36157.000000</td>\n",
       "      <td>36157.000000</td>\n",
       "      <td>36157.000000</td>\n",
       "      <td>36157.000000</td>\n",
       "    </tr>\n",
       "    <tr>\n",
       "      <th>mean</th>\n",
       "      <td>40.941726</td>\n",
       "      <td>1389.431535</td>\n",
       "      <td>15.805764</td>\n",
       "      <td>6.139420</td>\n",
       "      <td>256.827032</td>\n",
       "      <td>2.765578</td>\n",
       "      <td>42.141909</td>\n",
       "      <td>0.586525</td>\n",
       "    </tr>\n",
       "    <tr>\n",
       "      <th>std</th>\n",
       "      <td>10.595355</td>\n",
       "      <td>3012.971871</td>\n",
       "      <td>8.320179</td>\n",
       "      <td>2.408327</td>\n",
       "      <td>255.775327</td>\n",
       "      <td>3.090760</td>\n",
       "      <td>99.843650</td>\n",
       "      <td>2.410281</td>\n",
       "    </tr>\n",
       "    <tr>\n",
       "      <th>min</th>\n",
       "      <td>18.000000</td>\n",
       "      <td>0.000000</td>\n",
       "      <td>1.000000</td>\n",
       "      <td>1.000000</td>\n",
       "      <td>1.000000</td>\n",
       "      <td>1.000000</td>\n",
       "      <td>1.000000</td>\n",
       "      <td>0.000000</td>\n",
       "    </tr>\n",
       "    <tr>\n",
       "      <th>25%</th>\n",
       "      <td>33.000000</td>\n",
       "      <td>74.000000</td>\n",
       "      <td>8.000000</td>\n",
       "      <td>5.000000</td>\n",
       "      <td>102.000000</td>\n",
       "      <td>1.000000</td>\n",
       "      <td>1.000000</td>\n",
       "      <td>0.000000</td>\n",
       "    </tr>\n",
       "    <tr>\n",
       "      <th>50%</th>\n",
       "      <td>39.000000</td>\n",
       "      <td>448.000000</td>\n",
       "      <td>16.000000</td>\n",
       "      <td>6.000000</td>\n",
       "      <td>180.000000</td>\n",
       "      <td>2.000000</td>\n",
       "      <td>1.000000</td>\n",
       "      <td>0.000000</td>\n",
       "    </tr>\n",
       "    <tr>\n",
       "      <th>75%</th>\n",
       "      <td>48.000000</td>\n",
       "      <td>1429.000000</td>\n",
       "      <td>21.000000</td>\n",
       "      <td>8.000000</td>\n",
       "      <td>318.000000</td>\n",
       "      <td>3.000000</td>\n",
       "      <td>1.000000</td>\n",
       "      <td>0.000000</td>\n",
       "    </tr>\n",
       "    <tr>\n",
       "      <th>max</th>\n",
       "      <td>95.000000</td>\n",
       "      <td>98417.000000</td>\n",
       "      <td>31.000000</td>\n",
       "      <td>12.000000</td>\n",
       "      <td>4918.000000</td>\n",
       "      <td>63.000000</td>\n",
       "      <td>871.000000</td>\n",
       "      <td>275.000000</td>\n",
       "    </tr>\n",
       "  </tbody>\n",
       "</table>\n",
       "</div>"
      ],
      "text/plain": [
       "                age       balance           day         month      duration  \\\n",
       "count  36157.000000  36157.000000  36157.000000  36157.000000  36157.000000   \n",
       "mean      40.941726   1389.431535     15.805764      6.139420    256.827032   \n",
       "std       10.595355   3012.971871      8.320179      2.408327    255.775327   \n",
       "min       18.000000      0.000000      1.000000      1.000000      1.000000   \n",
       "25%       33.000000     74.000000      8.000000      5.000000    102.000000   \n",
       "50%       39.000000    448.000000     16.000000      6.000000    180.000000   \n",
       "75%       48.000000   1429.000000     21.000000      8.000000    318.000000   \n",
       "max       95.000000  98417.000000     31.000000     12.000000   4918.000000   \n",
       "\n",
       "           campaign         pdays      previous  \n",
       "count  36157.000000  36157.000000  36157.000000  \n",
       "mean       2.765578     42.141909      0.586525  \n",
       "std        3.090760     99.843650      2.410281  \n",
       "min        1.000000      1.000000      0.000000  \n",
       "25%        1.000000      1.000000      0.000000  \n",
       "50%        2.000000      1.000000      0.000000  \n",
       "75%        3.000000      1.000000      0.000000  \n",
       "max       63.000000    871.000000    275.000000  "
      ]
     },
     "execution_count": 9,
     "metadata": {},
     "output_type": "execute_result"
    }
   ],
   "source": [
    "x_train=covariate_transform(x_train)\n",
    "x_test=covariate_transform(x_test)\n",
    "x_train.describe()"
   ]
  },
  {
   "cell_type": "code",
   "execution_count": 10,
   "id": "82283892",
   "metadata": {
    "execution": {
     "iopub.execute_input": "2024-03-24T10:04:01.211309Z",
     "iopub.status.busy": "2024-03-24T10:04:01.210921Z",
     "iopub.status.idle": "2024-03-24T10:04:01.237589Z",
     "shell.execute_reply": "2024-03-24T10:04:01.236620Z"
    },
    "papermill": {
     "duration": 0.037431,
     "end_time": "2024-03-24T10:04:01.239584",
     "exception": false,
     "start_time": "2024-03-24T10:04:01.202153",
     "status": "completed"
    },
    "tags": []
   },
   "outputs": [
    {
     "name": "stdout",
     "output_type": "stream",
     "text": [
      "<class 'pandas.core.frame.DataFrame'>\n",
      "Index: 36157 entries, 9324 to 15795\n",
      "Data columns (total 16 columns):\n",
      " #   Column     Non-Null Count  Dtype  \n",
      "---  ------     --------------  -----  \n",
      " 0   age        36157 non-null  float64\n",
      " 1   job        36157 non-null  object \n",
      " 2   marital    36157 non-null  object \n",
      " 3   education  36157 non-null  object \n",
      " 4   default    36157 non-null  object \n",
      " 5   balance    36157 non-null  float64\n",
      " 6   housing    36157 non-null  object \n",
      " 7   loan       36157 non-null  object \n",
      " 8   contact    36157 non-null  object \n",
      " 9   day        36157 non-null  int64  \n",
      " 10  month      36157 non-null  int64  \n",
      " 11  duration   36157 non-null  int64  \n",
      " 12  campaign   36157 non-null  int64  \n",
      " 13  pdays      36157 non-null  int64  \n",
      " 14  previous   36157 non-null  int64  \n",
      " 15  poutcome   36157 non-null  object \n",
      "dtypes: float64(2), int64(6), object(8)\n",
      "memory usage: 4.7+ MB\n"
     ]
    }
   ],
   "source": [
    "x_train.info()"
   ]
  },
  {
   "cell_type": "code",
   "execution_count": 11,
   "id": "68d80f68",
   "metadata": {
    "execution": {
     "iopub.execute_input": "2024-03-24T10:04:01.257216Z",
     "iopub.status.busy": "2024-03-24T10:04:01.256802Z",
     "iopub.status.idle": "2024-03-24T10:04:01.269395Z",
     "shell.execute_reply": "2024-03-24T10:04:01.268325Z"
    },
    "papermill": {
     "duration": 0.02478,
     "end_time": "2024-03-24T10:04:01.272455",
     "exception": false,
     "start_time": "2024-03-24T10:04:01.247675",
     "status": "completed"
    },
    "tags": []
   },
   "outputs": [],
   "source": [
    "cat_col=list(x_train.select_dtypes(include='object').columns)\n",
    "num_col=list(set(x_train.columns.values)-set(cat_col))"
   ]
  },
  {
   "cell_type": "code",
   "execution_count": 12,
   "id": "1c856e2c",
   "metadata": {
    "execution": {
     "iopub.execute_input": "2024-03-24T10:04:01.290587Z",
     "iopub.status.busy": "2024-03-24T10:04:01.290159Z",
     "iopub.status.idle": "2024-03-24T10:04:01.315606Z",
     "shell.execute_reply": "2024-03-24T10:04:01.314488Z"
    },
    "papermill": {
     "duration": 0.037328,
     "end_time": "2024-03-24T10:04:01.317694",
     "exception": false,
     "start_time": "2024-03-24T10:04:01.280366",
     "status": "completed"
    },
    "tags": []
   },
   "outputs": [
    {
     "name": "stdout",
     "output_type": "stream",
     "text": [
      "job:  ['unknown' 'blue-collar' 'technician' 'unemployed' 'admin.' 'management'\n",
      " 'services' 'entrepreneur' 'retired' 'self-employed' 'housemaid' 'student']\n",
      "marital:  ['single' 'married' 'divorced']\n",
      "education:  ['secondary' 'unknown' 'tertiary' 'primary']\n",
      "default:  ['no' 'yes']\n",
      "housing:  ['no' 'yes']\n",
      "loan:  ['no' 'yes']\n",
      "contact:  ['unknown' 'cellular' 'telephone']\n",
      "poutcome:  ['unknown' 'other' 'failure' 'success']\n"
     ]
    }
   ],
   "source": [
    "for col in cat_col:\n",
    "    print(f'{col}: ',x_train[col].unique())"
   ]
  },
  {
   "cell_type": "code",
   "execution_count": 13,
   "id": "2a3fcf33",
   "metadata": {
    "execution": {
     "iopub.execute_input": "2024-03-24T10:04:01.335137Z",
     "iopub.status.busy": "2024-03-24T10:04:01.334395Z",
     "iopub.status.idle": "2024-03-24T10:04:02.273742Z",
     "shell.execute_reply": "2024-03-24T10:04:02.272870Z"
    },
    "papermill": {
     "duration": 0.951781,
     "end_time": "2024-03-24T10:04:02.277228",
     "exception": false,
     "start_time": "2024-03-24T10:04:01.325447",
     "status": "completed"
    },
    "tags": []
   },
   "outputs": [
    {
     "data": {
      "image/png": "[encoded data removed]",
      "text/plain": [
       "<Figure size 1500x1000 with 8 Axes>"
      ]
     },
     "metadata": {},
     "output_type": "display_data"
    }
   ],
   "source": [
    "_, ax = plt.subplots(2, 4, figsize=(15,10))\n",
    "for i in range(len(cat_col)):\n",
    "    fracs=list(x_train[cat_col[i]].value_counts().values)\n",
    "    ax[i//4,i%4].pie(x=fracs,labels=x_train[cat_col[i]].unique(),autopct='%.0f%%')\n",
    "    ax[i//4,i%4].set_xlabel(cat_col[i])"
   ]
  },
  {
   "cell_type": "code",
   "execution_count": 14,
   "id": "7dc0e87e",
   "metadata": {
    "execution": {
     "iopub.execute_input": "2024-03-24T10:04:02.299181Z",
     "iopub.status.busy": "2024-03-24T10:04:02.298468Z",
     "iopub.status.idle": "2024-03-24T10:04:02.420976Z",
     "shell.execute_reply": "2024-03-24T10:04:02.420075Z"
    },
    "papermill": {
     "duration": 0.13582,
     "end_time": "2024-03-24T10:04:02.423105",
     "exception": false,
     "start_time": "2024-03-24T10:04:02.287285",
     "status": "completed"
    },
    "tags": []
   },
   "outputs": [
    {
     "name": "stdout",
     "output_type": "stream",
     "text": [
      "job: significant\n",
      "marital: significant\n",
      "education: significant\n",
      "default: significant\n",
      "housing: significant\n",
      "loan: significant\n",
      "contact: significant\n",
      "poutcome: significant\n"
     ]
    }
   ],
   "source": [
    "#chi2 independency test\n",
    "for col in cat_col:\n",
    "    tab=pd.crosstab(x_train[col],y_train)\n",
    "    if st.chi2_contingency(tab)[1]<0.05:\n",
    "        print(f'{col}: significant')\n",
    "    else:\n",
    "        print(f'{col}: not enough proof')"
   ]
  },
  {
   "cell_type": "code",
   "execution_count": 15,
   "id": "3c50c5b5",
   "metadata": {
    "execution": {
     "iopub.execute_input": "2024-03-24T10:04:02.445203Z",
     "iopub.status.busy": "2024-03-24T10:04:02.444308Z",
     "iopub.status.idle": "2024-03-24T10:04:03.067171Z",
     "shell.execute_reply": "2024-03-24T10:04:03.065977Z"
    },
    "papermill": {
     "duration": 0.63675,
     "end_time": "2024-03-24T10:04:03.069834",
     "exception": false,
     "start_time": "2024-03-24T10:04:02.433084",
     "status": "completed"
    },
    "tags": []
   },
   "outputs": [
    {
     "data": {
      "text/plain": [
       "<Axes: >"
      ]
     },
     "execution_count": 15,
     "metadata": {},
     "output_type": "execute_result"
    },
    {
     "data": {
      "image/png": "[encoded data removed]",
      "text/plain": [
       "<Figure size 2000x700 with 2 Axes>"
      ]
     },
     "metadata": {},
     "output_type": "display_data"
    }
   ],
   "source": [
    "plt.figure(figsize=(20, 7))\n",
    "sns.heatmap(x_train.loc[:,num_col].corr(method='spearman'),vmin=-1,vmax=1,center=0,annot=True)"
   ]
  },
  {
   "cell_type": "code",
   "execution_count": 16,
   "id": "e887d18b",
   "metadata": {
    "execution": {
     "iopub.execute_input": "2024-03-24T10:04:03.097058Z",
     "iopub.status.busy": "2024-03-24T10:04:03.096308Z",
     "iopub.status.idle": "2024-03-24T10:04:04.839716Z",
     "shell.execute_reply": "2024-03-24T10:04:04.838902Z"
    },
    "papermill": {
     "duration": 1.759905,
     "end_time": "2024-03-24T10:04:04.843913",
     "exception": false,
     "start_time": "2024-03-24T10:04:03.084008",
     "status": "completed"
    },
    "tags": []
   },
   "outputs": [
    {
     "data": {
      "image/png": "[encoded data removed]",
      "text/plain": [
       "<Figure size 2000x1000 with 8 Axes>"
      ]
     },
     "metadata": {},
     "output_type": "display_data"
    }
   ],
   "source": [
    "_, ax = plt.subplots(2, 4, figsize=(20,10))\n",
    "for i in range(len(num_col)):\n",
    "    ax[i//4,i%4].hist(x_train[num_col[i]])\n",
    "    ax[i//4,i%4].set_xlabel(num_col[i])"
   ]
  },
  {
   "cell_type": "code",
   "execution_count": 17,
   "id": "e0265395",
   "metadata": {
    "execution": {
     "iopub.execute_input": "2024-03-24T10:04:04.875936Z",
     "iopub.status.busy": "2024-03-24T10:04:04.875537Z",
     "iopub.status.idle": "2024-03-24T10:04:06.446690Z",
     "shell.execute_reply": "2024-03-24T10:04:06.445609Z"
    },
    "papermill": {
     "duration": 1.589429,
     "end_time": "2024-03-24T10:04:06.449927",
     "exception": false,
     "start_time": "2024-03-24T10:04:04.860498",
     "status": "completed"
    },
    "tags": []
   },
   "outputs": [
    {
     "data": {
      "image/png": "[encoded data removed]",
      "text/plain": [
       "<Figure size 3000x1000 with 8 Axes>"
      ]
     },
     "metadata": {},
     "output_type": "display_data"
    }
   ],
   "source": [
    "_, ax = plt.subplots(2, 4, figsize=(30,10))\n",
    "for i in range(len(num_col)):\n",
    "    sns.boxplot(x=y_train,y=x_train[num_col[i]],ax=ax[i//4,i%4])"
   ]
  },
  {
   "cell_type": "code",
   "execution_count": 18,
   "id": "9f611754",
   "metadata": {
    "execution": {
     "iopub.execute_input": "2024-03-24T10:04:06.480588Z",
     "iopub.status.busy": "2024-03-24T10:04:06.480177Z",
     "iopub.status.idle": "2024-03-24T10:04:06.634218Z",
     "shell.execute_reply": "2024-03-24T10:04:06.632870Z"
    },
    "papermill": {
     "duration": 0.172215,
     "end_time": "2024-03-24T10:04:06.636549",
     "exception": false,
     "start_time": "2024-03-24T10:04:06.464334",
     "status": "completed"
    },
    "tags": []
   },
   "outputs": [
    {
     "data": {
      "image/png": "[encoded data removed]",
      "text/plain": [
       "<Figure size 640x480 with 1 Axes>"
      ]
     },
     "metadata": {},
     "output_type": "display_data"
    }
   ],
   "source": [
    "plt.pie(x=y_train.value_counts().values,labels=y_train.unique(),autopct='%.0f%%')\n",
    "plt.xlabel('y')\n",
    "plt.title('y Class Distribution')\n",
    "plt.show()"
   ]
  },
  {
   "cell_type": "code",
   "execution_count": 19,
   "id": "721f0c7c",
   "metadata": {
    "execution": {
     "iopub.execute_input": "2024-03-24T10:04:06.669281Z",
     "iopub.status.busy": "2024-03-24T10:04:06.668707Z",
     "iopub.status.idle": "2024-03-24T10:04:06.774584Z",
     "shell.execute_reply": "2024-03-24T10:04:06.773383Z"
    },
    "papermill": {
     "duration": 0.124993,
     "end_time": "2024-03-24T10:04:06.777059",
     "exception": false,
     "start_time": "2024-03-24T10:04:06.652066",
     "status": "completed"
    },
    "tags": []
   },
   "outputs": [
    {
     "data": {
      "text/html": [
       "<div>\n",
       "<style scoped>\n",
       "    .dataframe tbody tr th:only-of-type {\n",
       "        vertical-align: middle;\n",
       "    }\n",
       "\n",
       "    .dataframe tbody tr th {\n",
       "        vertical-align: top;\n",
       "    }\n",
       "\n",
       "    .dataframe thead th {\n",
       "        text-align: right;\n",
       "    }\n",
       "</style>\n",
       "<table border=\"1\" class=\"dataframe\">\n",
       "  <thead>\n",
       "    <tr style=\"text-align: right;\">\n",
       "      <th></th>\n",
       "      <th>age</th>\n",
       "      <th>balance</th>\n",
       "      <th>day</th>\n",
       "      <th>month</th>\n",
       "      <th>duration</th>\n",
       "      <th>campaign</th>\n",
       "      <th>pdays</th>\n",
       "      <th>previous</th>\n",
       "      <th>job_blue-collar</th>\n",
       "      <th>job_entrepreneur</th>\n",
       "      <th>...</th>\n",
       "      <th>education_tertiary</th>\n",
       "      <th>education_unknown</th>\n",
       "      <th>default_yes</th>\n",
       "      <th>housing_yes</th>\n",
       "      <th>loan_yes</th>\n",
       "      <th>contact_telephone</th>\n",
       "      <th>contact_unknown</th>\n",
       "      <th>poutcome_other</th>\n",
       "      <th>poutcome_success</th>\n",
       "      <th>poutcome_unknown</th>\n",
       "    </tr>\n",
       "  </thead>\n",
       "  <tbody>\n",
       "    <tr>\n",
       "      <th>9324</th>\n",
       "      <td>39.0</td>\n",
       "      <td>0.0</td>\n",
       "      <td>6</td>\n",
       "      <td>6</td>\n",
       "      <td>188</td>\n",
       "      <td>1</td>\n",
       "      <td>1</td>\n",
       "      <td>0</td>\n",
       "      <td>0.0</td>\n",
       "      <td>0.0</td>\n",
       "      <td>...</td>\n",
       "      <td>0.0</td>\n",
       "      <td>0.0</td>\n",
       "      <td>0.0</td>\n",
       "      <td>0.0</td>\n",
       "      <td>0.0</td>\n",
       "      <td>0.0</td>\n",
       "      <td>1.0</td>\n",
       "      <td>0.0</td>\n",
       "      <td>0.0</td>\n",
       "      <td>1.0</td>\n",
       "    </tr>\n",
       "    <tr>\n",
       "      <th>44949</th>\n",
       "      <td>37.0</td>\n",
       "      <td>1403.0</td>\n",
       "      <td>9</td>\n",
       "      <td>10</td>\n",
       "      <td>14</td>\n",
       "      <td>1</td>\n",
       "      <td>1</td>\n",
       "      <td>0</td>\n",
       "      <td>1.0</td>\n",
       "      <td>0.0</td>\n",
       "      <td>...</td>\n",
       "      <td>0.0</td>\n",
       "      <td>0.0</td>\n",
       "      <td>0.0</td>\n",
       "      <td>0.0</td>\n",
       "      <td>0.0</td>\n",
       "      <td>0.0</td>\n",
       "      <td>1.0</td>\n",
       "      <td>0.0</td>\n",
       "      <td>0.0</td>\n",
       "      <td>1.0</td>\n",
       "    </tr>\n",
       "    <tr>\n",
       "      <th>4194</th>\n",
       "      <td>36.0</td>\n",
       "      <td>79.0</td>\n",
       "      <td>19</td>\n",
       "      <td>5</td>\n",
       "      <td>201</td>\n",
       "      <td>14</td>\n",
       "      <td>1</td>\n",
       "      <td>0</td>\n",
       "      <td>1.0</td>\n",
       "      <td>0.0</td>\n",
       "      <td>...</td>\n",
       "      <td>0.0</td>\n",
       "      <td>1.0</td>\n",
       "      <td>0.0</td>\n",
       "      <td>1.0</td>\n",
       "      <td>0.0</td>\n",
       "      <td>0.0</td>\n",
       "      <td>1.0</td>\n",
       "      <td>0.0</td>\n",
       "      <td>0.0</td>\n",
       "      <td>1.0</td>\n",
       "    </tr>\n",
       "    <tr>\n",
       "      <th>20382</th>\n",
       "      <td>33.0</td>\n",
       "      <td>335.0</td>\n",
       "      <td>11</td>\n",
       "      <td>8</td>\n",
       "      <td>566</td>\n",
       "      <td>7</td>\n",
       "      <td>1</td>\n",
       "      <td>0</td>\n",
       "      <td>0.0</td>\n",
       "      <td>0.0</td>\n",
       "      <td>...</td>\n",
       "      <td>0.0</td>\n",
       "      <td>0.0</td>\n",
       "      <td>0.0</td>\n",
       "      <td>0.0</td>\n",
       "      <td>0.0</td>\n",
       "      <td>0.0</td>\n",
       "      <td>0.0</td>\n",
       "      <td>0.0</td>\n",
       "      <td>0.0</td>\n",
       "      <td>1.0</td>\n",
       "    </tr>\n",
       "    <tr>\n",
       "      <th>4497</th>\n",
       "      <td>35.0</td>\n",
       "      <td>0.0</td>\n",
       "      <td>20</td>\n",
       "      <td>5</td>\n",
       "      <td>265</td>\n",
       "      <td>1</td>\n",
       "      <td>1</td>\n",
       "      <td>0</td>\n",
       "      <td>0.0</td>\n",
       "      <td>0.0</td>\n",
       "      <td>...</td>\n",
       "      <td>0.0</td>\n",
       "      <td>0.0</td>\n",
       "      <td>1.0</td>\n",
       "      <td>1.0</td>\n",
       "      <td>0.0</td>\n",
       "      <td>0.0</td>\n",
       "      <td>1.0</td>\n",
       "      <td>0.0</td>\n",
       "      <td>0.0</td>\n",
       "      <td>1.0</td>\n",
       "    </tr>\n",
       "  </tbody>\n",
       "</table>\n",
       "<p>5 rows × 32 columns</p>\n",
       "</div>"
      ],
      "text/plain": [
       "        age  balance  day  month  duration  campaign  pdays  previous  \\\n",
       "9324   39.0      0.0    6      6       188         1      1         0   \n",
       "44949  37.0   1403.0    9     10        14         1      1         0   \n",
       "4194   36.0     79.0   19      5       201        14      1         0   \n",
       "20382  33.0    335.0   11      8       566         7      1         0   \n",
       "4497   35.0      0.0   20      5       265         1      1         0   \n",
       "\n",
       "       job_blue-collar  job_entrepreneur  ...  education_tertiary  \\\n",
       "9324               0.0               0.0  ...                 0.0   \n",
       "44949              1.0               0.0  ...                 0.0   \n",
       "4194               1.0               0.0  ...                 0.0   \n",
       "20382              0.0               0.0  ...                 0.0   \n",
       "4497               0.0               0.0  ...                 0.0   \n",
       "\n",
       "       education_unknown  default_yes  housing_yes  loan_yes  \\\n",
       "9324                 0.0          0.0          0.0       0.0   \n",
       "44949                0.0          0.0          0.0       0.0   \n",
       "4194                 1.0          0.0          1.0       0.0   \n",
       "20382                0.0          0.0          0.0       0.0   \n",
       "4497                 0.0          1.0          1.0       0.0   \n",
       "\n",
       "       contact_telephone  contact_unknown  poutcome_other  poutcome_success  \\\n",
       "9324                 0.0              1.0             0.0               0.0   \n",
       "44949                0.0              1.0             0.0               0.0   \n",
       "4194                 0.0              1.0             0.0               0.0   \n",
       "20382                0.0              0.0             0.0               0.0   \n",
       "4497                 0.0              1.0             0.0               0.0   \n",
       "\n",
       "       poutcome_unknown  \n",
       "9324                1.0  \n",
       "44949               1.0  \n",
       "4194                1.0  \n",
       "20382               1.0  \n",
       "4497                1.0  \n",
       "\n",
       "[5 rows x 32 columns]"
      ]
     },
     "execution_count": 19,
     "metadata": {},
     "output_type": "execute_result"
    }
   ],
   "source": [
    "x_train=pd.get_dummies(x_train,columns=cat_col,dtype='float',drop_first=True)\n",
    "x_test=pd.get_dummies(x_test,columns=cat_col,dtype='float',drop_first=True)\n",
    "x_train.head()"
   ]
  },
  {
   "cell_type": "code",
   "execution_count": 20,
   "id": "413b86d5",
   "metadata": {
    "execution": {
     "iopub.execute_input": "2024-03-24T10:04:06.809743Z",
     "iopub.status.busy": "2024-03-24T10:04:06.808849Z",
     "iopub.status.idle": "2024-03-24T10:04:06.834151Z",
     "shell.execute_reply": "2024-03-24T10:04:06.832802Z"
    },
    "papermill": {
     "duration": 0.044212,
     "end_time": "2024-03-24T10:04:06.836388",
     "exception": false,
     "start_time": "2024-03-24T10:04:06.792176",
     "status": "completed"
    },
    "tags": []
   },
   "outputs": [],
   "source": [
    "target_class={'no':0,'yes':1}\n",
    "y_train=y_train.apply(lambda x: target_class[x])\n",
    "y_test=y_test.apply(lambda x: target_class[x])"
   ]
  },
  {
   "cell_type": "code",
   "execution_count": 21,
   "id": "8a1423b1",
   "metadata": {
    "execution": {
     "iopub.execute_input": "2024-03-24T10:04:06.868936Z",
     "iopub.status.busy": "2024-03-24T10:04:06.868046Z",
     "iopub.status.idle": "2024-03-24T10:04:08.380920Z",
     "shell.execute_reply": "2024-03-24T10:04:08.379973Z"
    },
    "papermill": {
     "duration": 1.532247,
     "end_time": "2024-03-24T10:04:08.383476",
     "exception": false,
     "start_time": "2024-03-24T10:04:06.851229",
     "status": "completed"
    },
    "tags": []
   },
   "outputs": [],
   "source": [
    "from sklearn.preprocessing import MinMaxScaler\n",
    "from imblearn.over_sampling import SMOTE\n",
    "from sklearn.model_selection import StratifiedKFold\n",
    "from lightgbm import LGBMClassifier\n",
    "from sklearn.metrics import f1_score, accuracy_score, confusion_matrix, ConfusionMatrixDisplay, classification_report\n",
    "scaler=MinMaxScaler()\n",
    "scaler.set_output(transform='pandas')\n",
    "sm=SMOTE(k_neighbors=10,random_state=42)\n",
    "cv=StratifiedKFold(5,shuffle=True,random_state=42)"
   ]
  },
  {
   "cell_type": "code",
   "execution_count": 22,
   "id": "ce3a4f02",
   "metadata": {
    "execution": {
     "iopub.execute_input": "2024-03-24T10:04:08.417544Z",
     "iopub.status.busy": "2024-03-24T10:04:08.415910Z",
     "iopub.status.idle": "2024-03-24T10:04:08.428512Z",
     "shell.execute_reply": "2024-03-24T10:04:08.427242Z"
    },
    "papermill": {
     "duration": 0.031678,
     "end_time": "2024-03-24T10:04:08.431353",
     "exception": false,
     "start_time": "2024-03-24T10:04:08.399675",
     "status": "completed"
    },
    "tags": []
   },
   "outputs": [],
   "source": [
    "def objective(trial):\n",
    "    depth=trial.suggest_int(\"max_depth\",6,20,step=1)\n",
    "    estimators=trial.suggest_int(\"n_estimators\",100,900,step=100)\n",
    "    subsample=trial.suggest_float(\"subsample\",0.5,1,step=0.1)\n",
    "    colsample=trial.suggest_float(\"colsample_bytree\",0.5,1,step=0.1)\n",
    "    reg_alpha=trial.suggest_float(\"reg_alpha\",0,2e-1,step=0.025)\n",
    "    reg_lambda=trial.suggest_float(\"reg_lambda\",0,2e-1,step=0.025)\n",
    "    leaves=trial.suggest_int(\"num_leaves\",12,40,step=2)\n",
    "    lr=trial.suggest_float(\"learning_rate\",0.05,0.3,step=0.05)\n",
    "    bin_sample=trial.suggest_int(\"subsample_for_bin\",200000,400000,step=16)\n",
    "\n",
    "    model=LGBMClassifier(num_leaves=leaves,\n",
    "                     max_depth=depth,\n",
    "                     learning_rate=lr,\n",
    "                     n_estimators=estimators,\n",
    "                     subsample=subsample,\n",
    "                     colsample_bytree=colsample,\n",
    "                     reg_alpha=reg_alpha,\n",
    "                     reg_lambda=reg_lambda,\n",
    "                     subsample_for_bin=bin_sample,\n",
    "                     n_jobs=-1,\n",
    "                     random_state=42)\n",
    "    scores=[]\n",
    "    for fold,(train,val) in enumerate(cv.split(x_train,y_train)):\n",
    "        X,y=x_train.copy(),y_train.copy()\n",
    "        x_train1,y_train1,x_val,y_val=X.iloc[train],y.iloc[train],X.iloc[val],y.iloc[val]\n",
    "        x_train1=scaler.fit_transform(x_train1)\n",
    "        x_val=scaler.transform(x_val)\n",
    "        x_train1,y_train1=sm.fit_resample(x_train1,y_train1)\n",
    "        model.fit(x_train1,y_train1)\n",
    "        scores.append(f1_score(y_val,model.predict(x_val)))\n",
    "    return np.mean(scores)"
   ]
  },
  {
   "cell_type": "code",
   "execution_count": 23,
   "id": "23d7d637",
   "metadata": {
    "_kg_hide-output": true,
    "execution": {
     "iopub.execute_input": "2024-03-24T10:04:08.463365Z",
     "iopub.status.busy": "2024-03-24T10:04:08.462956Z",
     "iopub.status.idle": "2024-03-24T10:14:34.173390Z",
     "shell.execute_reply": "2024-03-24T10:14:34.172251Z"
    },
    "papermill": {
     "duration": 625.7293,
     "end_time": "2024-03-24T10:14:34.175779",
     "exception": false,
     "start_time": "2024-03-24T10:04:08.446479",
     "status": "completed"
    },
    "scrolled": true,
    "tags": []
   },
   "outputs": [
    {
     "name": "stderr",
     "output_type": "stream",
     "text": [
      "[I 2024-03-24 10:04:08,466] A new study created in memory with name: no-name-1e07698c-474b-4178-b4ea-001ec4454b70\n"
     ]
    },
    {
     "name": "stdout",
     "output_type": "stream",
     "text": [
      "[LightGBM] [Info] Number of positive: 25558, number of negative: 25558\n",
      "[LightGBM] [Info] Auto-choosing row-wise multi-threading, the overhead of testing was 0.021884 seconds.\n",
      "You can set `force_row_wise=true` to remove the overhead.\n",
      "And if memory is not enough, you can set `force_col_wise=true`.\n",
      "[LightGBM] [Info] Total Bins 6804\n",
      "[LightGBM] [Info] Number of data points in the train set: 51116, number of used features: 32\n",
      "[LightGBM] [Info] [binary:BoostFromScore]: pavg=0.500000 -> initscore=0.000000\n",
      "[LightGBM] [Info] Number of positive: 25558, number of negative: 25558\n",
      "[LightGBM] [Info] Auto-choosing row-wise multi-threading, the overhead of testing was 0.018097 seconds.\n",
      "You can set `force_row_wise=true` to remove the overhead.\n",
      "And if memory is not enough, you can set `force_col_wise=true`.\n",
      "[LightGBM] [Info] Total Bins 6802\n",
      "[LightGBM] [Info] Number of data points in the train set: 51116, number of used features: 32\n",
      "[LightGBM] [Info] [binary:BoostFromScore]: pavg=0.500000 -> initscore=0.000000\n",
      "[LightGBM] [Info] Number of positive: 25558, number of negative: 25558\n",
      "[LightGBM] [Info] Auto-choosing row-wise multi-threading, the overhead of testing was 0.019120 seconds.\n",
      "You can set `force_row_wise=true` to remove the overhead.\n",
      "And if memory is not enough, you can set `force_col_wise=true`.\n",
      "[LightGBM] [Info] Total Bins 6271\n",
      "[LightGBM] [Info] Number of data points in the train set: 51116, number of used features: 32\n",
      "[LightGBM] [Info] [binary:BoostFromScore]: pavg=0.500000 -> initscore=0.000000\n",
      "[LightGBM] [Info] Number of positive: 25559, number of negative: 25559\n",
      "[LightGBM] [Info] Auto-choosing row-wise multi-threading, the overhead of testing was 0.018989 seconds.\n",
      "You can set `force_row_wise=true` to remove the overhead.\n",
      "And if memory is not enough, you can set `force_col_wise=true`.\n",
      "[LightGBM] [Info] Total Bins 6823\n",
      "[LightGBM] [Info] Number of data points in the train set: 51118, number of used features: 32\n",
      "[LightGBM] [Info] [binary:BoostFromScore]: pavg=0.500000 -> initscore=0.000000\n",
      "[LightGBM] [Info] Number of positive: 25559, number of negative: 25559\n",
      "[LightGBM] [Info] Auto-choosing row-wise multi-threading, the overhead of testing was 0.019216 seconds.\n",
      "You can set `force_row_wise=true` to remove the overhead.\n",
      "And if memory is not enough, you can set `force_col_wise=true`.\n",
      "[LightGBM] [Info] Total Bins 6433\n",
      "[LightGBM] [Info] Number of data points in the train set: 51118, number of used features: 32\n",
      "[LightGBM] [Info] [binary:BoostFromScore]: pavg=0.500000 -> initscore=0.000000\n"
     ]
    },
    {
     "name": "stderr",
     "output_type": "stream",
     "text": [
      "[I 2024-03-24 10:04:42,395] Trial 0 finished with value: 0.5668173500483246 and parameters: {'max_depth': 11, 'n_estimators': 900, 'subsample': 0.9, 'colsample_bytree': 0.8, 'reg_alpha': 0.025, 'reg_lambda': 0.025, 'num_leaves': 12, 'learning_rate': 0.3, 'subsample_for_bin': 320224}. Best is trial 0 with value: 0.5668173500483246.\n"
     ]
    },
    {
     "name": "stdout",
     "output_type": "stream",
     "text": [
      "[LightGBM] [Info] Number of positive: 25558, number of negative: 25558\n",
      "[LightGBM] [Info] Auto-choosing row-wise multi-threading, the overhead of testing was 0.018885 seconds.\n",
      "You can set `force_row_wise=true` to remove the overhead.\n",
      "And if memory is not enough, you can set `force_col_wise=true`.\n",
      "[LightGBM] [Info] Total Bins 6804\n",
      "[LightGBM] [Info] Number of data points in the train set: 51116, number of used features: 32\n",
      "[LightGBM] [Info] [binary:BoostFromScore]: pavg=0.500000 -> initscore=0.000000\n",
      "[LightGBM] [Info] Number of positive: 25558, number of negative: 25558\n",
      "[LightGBM] [Info] Auto-choosing col-wise multi-threading, the overhead of testing was 0.024737 seconds.\n",
      "You can set `force_col_wise=true` to remove the overhead.\n",
      "[LightGBM] [Info] Total Bins 6802\n",
      "[LightGBM] [Info] Number of data points in the train set: 51116, number of used features: 32\n",
      "[LightGBM] [Info] [binary:BoostFromScore]: pavg=0.500000 -> initscore=0.000000\n",
      "[LightGBM] [Info] Number of positive: 25558, number of negative: 25558\n",
      "[LightGBM] [Info] Auto-choosing row-wise multi-threading, the overhead of testing was 0.019085 seconds.\n",
      "You can set `force_row_wise=true` to remove the overhead.\n",
      "And if memory is not enough, you can set `force_col_wise=true`.\n",
      "[LightGBM] [Info] Total Bins 6271\n",
      "[LightGBM] [Info] Number of data points in the train set: 51116, number of used features: 32\n",
      "[LightGBM] [Info] [binary:BoostFromScore]: pavg=0.500000 -> initscore=0.000000\n",
      "[LightGBM] [Info] Number of positive: 25559, number of negative: 25559\n",
      "[LightGBM] [Info] Auto-choosing row-wise multi-threading, the overhead of testing was 0.019581 seconds.\n",
      "You can set `force_row_wise=true` to remove the overhead.\n",
      "And if memory is not enough, you can set `force_col_wise=true`.\n",
      "[LightGBM] [Info] Total Bins 6823\n",
      "[LightGBM] [Info] Number of data points in the train set: 51118, number of used features: 32\n",
      "[LightGBM] [Info] [binary:BoostFromScore]: pavg=0.500000 -> initscore=0.000000\n",
      "[LightGBM] [Info] Number of positive: 25559, number of negative: 25559\n",
      "[LightGBM] [Info] Auto-choosing row-wise multi-threading, the overhead of testing was 0.018949 seconds.\n",
      "You can set `force_row_wise=true` to remove the overhead.\n",
      "And if memory is not enough, you can set `force_col_wise=true`.\n",
      "[LightGBM] [Info] Total Bins 6433\n",
      "[LightGBM] [Info] Number of data points in the train set: 51118, number of used features: 32\n",
      "[LightGBM] [Info] [binary:BoostFromScore]: pavg=0.500000 -> initscore=0.000000\n"
     ]
    },
    {
     "name": "stderr",
     "output_type": "stream",
     "text": [
      "[I 2024-03-24 10:04:49,909] Trial 1 finished with value: 0.6005954688814225 and parameters: {'max_depth': 16, 'n_estimators': 100, 'subsample': 1.0, 'colsample_bytree': 0.9, 'reg_alpha': 0.025, 'reg_lambda': 0.025, 'num_leaves': 16, 'learning_rate': 0.1, 'subsample_for_bin': 304944}. Best is trial 1 with value: 0.6005954688814225.\n"
     ]
    },
    {
     "name": "stdout",
     "output_type": "stream",
     "text": [
      "[LightGBM] [Info] Number of positive: 25558, number of negative: 25558\n",
      "[LightGBM] [Info] Auto-choosing col-wise multi-threading, the overhead of testing was 0.025639 seconds.\n",
      "You can set `force_col_wise=true` to remove the overhead.\n",
      "[LightGBM] [Info] Total Bins 6804\n",
      "[LightGBM] [Info] Number of data points in the train set: 51116, number of used features: 32\n",
      "[LightGBM] [Info] [binary:BoostFromScore]: pavg=0.500000 -> initscore=0.000000\n",
      "[LightGBM] [Info] Number of positive: 25558, number of negative: 25558\n",
      "[LightGBM] [Info] Auto-choosing col-wise multi-threading, the overhead of testing was 0.023985 seconds.\n",
      "You can set `force_col_wise=true` to remove the overhead.\n",
      "[LightGBM] [Info] Total Bins 6802\n",
      "[LightGBM] [Info] Number of data points in the train set: 51116, number of used features: 32\n",
      "[LightGBM] [Info] [binary:BoostFromScore]: pavg=0.500000 -> initscore=0.000000\n",
      "[LightGBM] [Info] Number of positive: 25558, number of negative: 25558\n",
      "[LightGBM] [Info] Auto-choosing col-wise multi-threading, the overhead of testing was 0.025146 seconds.\n",
      "You can set `force_col_wise=true` to remove the overhead.\n",
      "[LightGBM] [Info] Total Bins 6271\n",
      "[LightGBM] [Info] Number of data points in the train set: 51116, number of used features: 32\n",
      "[LightGBM] [Info] [binary:BoostFromScore]: pavg=0.500000 -> initscore=0.000000\n",
      "[LightGBM] [Info] Number of positive: 25559, number of negative: 25559\n",
      "[LightGBM] [Info] Auto-choosing col-wise multi-threading, the overhead of testing was 0.025325 seconds.\n",
      "You can set `force_col_wise=true` to remove the overhead.\n",
      "[LightGBM] [Info] Total Bins 6823\n",
      "[LightGBM] [Info] Number of data points in the train set: 51118, number of used features: 32\n",
      "[LightGBM] [Info] [binary:BoostFromScore]: pavg=0.500000 -> initscore=0.000000\n",
      "[LightGBM] [Info] Number of positive: 25559, number of negative: 25559\n",
      "[LightGBM] [Info] Auto-choosing col-wise multi-threading, the overhead of testing was 0.025602 seconds.\n",
      "You can set `force_col_wise=true` to remove the overhead.\n",
      "[LightGBM] [Info] Total Bins 6433\n",
      "[LightGBM] [Info] Number of data points in the train set: 51118, number of used features: 32\n",
      "[LightGBM] [Info] [binary:BoostFromScore]: pavg=0.500000 -> initscore=0.000000\n"
     ]
    },
    {
     "name": "stderr",
     "output_type": "stream",
     "text": [
      "[I 2024-03-24 10:05:05,495] Trial 2 finished with value: 0.5710499086048427 and parameters: {'max_depth': 12, 'n_estimators': 300, 'subsample': 0.8, 'colsample_bytree': 0.5, 'reg_alpha': 0.05, 'reg_lambda': 0.07500000000000001, 'num_leaves': 24, 'learning_rate': 0.25, 'subsample_for_bin': 239936}. Best is trial 1 with value: 0.6005954688814225.\n"
     ]
    },
    {
     "name": "stdout",
     "output_type": "stream",
     "text": [
      "[LightGBM] [Info] Number of positive: 25558, number of negative: 25558\n",
      "[LightGBM] [Info] Auto-choosing row-wise multi-threading, the overhead of testing was 0.018990 seconds.\n",
      "You can set `force_row_wise=true` to remove the overhead.\n",
      "And if memory is not enough, you can set `force_col_wise=true`.\n",
      "[LightGBM] [Info] Total Bins 6804\n",
      "[LightGBM] [Info] Number of data points in the train set: 51116, number of used features: 32\n",
      "[LightGBM] [Info] [binary:BoostFromScore]: pavg=0.500000 -> initscore=0.000000\n",
      "[LightGBM] [Info] Number of positive: 25558, number of negative: 25558\n",
      "[LightGBM] [Info] Auto-choosing col-wise multi-threading, the overhead of testing was 0.024907 seconds.\n",
      "You can set `force_col_wise=true` to remove the overhead.\n",
      "[LightGBM] [Info] Total Bins 6802\n",
      "[LightGBM] [Info] Number of data points in the train set: 51116, number of used features: 32\n",
      "[LightGBM] [Info] [binary:BoostFromScore]: pavg=0.500000 -> initscore=0.000000\n",
      "[LightGBM] [Info] Number of positive: 25558, number of negative: 25558\n",
      "[LightGBM] [Info] Auto-choosing row-wise multi-threading, the overhead of testing was 0.019028 seconds.\n",
      "You can set `force_row_wise=true` to remove the overhead.\n",
      "And if memory is not enough, you can set `force_col_wise=true`.\n",
      "[LightGBM] [Info] Total Bins 6271\n",
      "[LightGBM] [Info] Number of data points in the train set: 51116, number of used features: 32\n",
      "[LightGBM] [Info] [binary:BoostFromScore]: pavg=0.500000 -> initscore=0.000000\n",
      "[LightGBM] [Info] Number of positive: 25559, number of negative: 25559\n",
      "[LightGBM] [Info] Auto-choosing row-wise multi-threading, the overhead of testing was 0.022084 seconds.\n",
      "You can set `force_row_wise=true` to remove the overhead.\n",
      "And if memory is not enough, you can set `force_col_wise=true`.\n",
      "[LightGBM] [Info] Total Bins 6823\n",
      "[LightGBM] [Info] Number of data points in the train set: 51118, number of used features: 32\n",
      "[LightGBM] [Info] [binary:BoostFromScore]: pavg=0.500000 -> initscore=0.000000\n",
      "[LightGBM] [Info] Number of positive: 25559, number of negative: 25559\n",
      "[LightGBM] [Info] Auto-choosing row-wise multi-threading, the overhead of testing was 0.019252 seconds.\n",
      "You can set `force_row_wise=true` to remove the overhead.\n",
      "And if memory is not enough, you can set `force_col_wise=true`.\n",
      "[LightGBM] [Info] Total Bins 6433\n",
      "[LightGBM] [Info] Number of data points in the train set: 51118, number of used features: 32\n",
      "[LightGBM] [Info] [binary:BoostFromScore]: pavg=0.500000 -> initscore=0.000000\n"
     ]
    },
    {
     "name": "stderr",
     "output_type": "stream",
     "text": [
      "[I 2024-03-24 10:05:38,437] Trial 3 finished with value: 0.5596466441064976 and parameters: {'max_depth': 13, 'n_estimators': 600, 'subsample': 0.5, 'colsample_bytree': 0.8, 'reg_alpha': 0.025, 'reg_lambda': 0.0, 'num_leaves': 40, 'learning_rate': 0.3, 'subsample_for_bin': 361680}. Best is trial 1 with value: 0.6005954688814225.\n"
     ]
    },
    {
     "name": "stdout",
     "output_type": "stream",
     "text": [
      "[LightGBM] [Info] Number of positive: 25558, number of negative: 25558\n",
      "[LightGBM] [Info] Auto-choosing col-wise multi-threading, the overhead of testing was 0.025454 seconds.\n",
      "You can set `force_col_wise=true` to remove the overhead.\n",
      "[LightGBM] [Info] Total Bins 6804\n",
      "[LightGBM] [Info] Number of data points in the train set: 51116, number of used features: 32\n",
      "[LightGBM] [Info] [binary:BoostFromScore]: pavg=0.500000 -> initscore=0.000000\n",
      "[LightGBM] [Info] Number of positive: 25558, number of negative: 25558\n",
      "[LightGBM] [Info] Auto-choosing col-wise multi-threading, the overhead of testing was 0.031422 seconds.\n",
      "You can set `force_col_wise=true` to remove the overhead.\n",
      "[LightGBM] [Info] Total Bins 6802\n",
      "[LightGBM] [Info] Number of data points in the train set: 51116, number of used features: 32\n",
      "[LightGBM] [Info] [binary:BoostFromScore]: pavg=0.500000 -> initscore=0.000000\n",
      "[LightGBM] [Info] Number of positive: 25558, number of negative: 25558\n",
      "[LightGBM] [Info] Auto-choosing col-wise multi-threading, the overhead of testing was 0.026076 seconds.\n",
      "You can set `force_col_wise=true` to remove the overhead.\n",
      "[LightGBM] [Info] Total Bins 6271\n",
      "[LightGBM] [Info] Number of data points in the train set: 51116, number of used features: 32\n",
      "[LightGBM] [Info] [binary:BoostFromScore]: pavg=0.500000 -> initscore=0.000000\n",
      "[LightGBM] [Info] Number of positive: 25559, number of negative: 25559\n",
      "[LightGBM] [Info] Auto-choosing col-wise multi-threading, the overhead of testing was 0.025863 seconds.\n",
      "You can set `force_col_wise=true` to remove the overhead.\n",
      "[LightGBM] [Info] Total Bins 6823\n",
      "[LightGBM] [Info] Number of data points in the train set: 51118, number of used features: 32\n",
      "[LightGBM] [Info] [binary:BoostFromScore]: pavg=0.500000 -> initscore=0.000000\n",
      "[LightGBM] [Info] Number of positive: 25559, number of negative: 25559\n",
      "[LightGBM] [Info] Auto-choosing col-wise multi-threading, the overhead of testing was 0.024781 seconds.\n",
      "You can set `force_col_wise=true` to remove the overhead.\n",
      "[LightGBM] [Info] Total Bins 6433\n",
      "[LightGBM] [Info] Number of data points in the train set: 51118, number of used features: 32\n",
      "[LightGBM] [Info] [binary:BoostFromScore]: pavg=0.500000 -> initscore=0.000000\n"
     ]
    },
    {
     "name": "stderr",
     "output_type": "stream",
     "text": [
      "[I 2024-03-24 10:05:45,040] Trial 4 finished with value: 0.5815112517867871 and parameters: {'max_depth': 10, 'n_estimators': 100, 'subsample': 0.9, 'colsample_bytree': 0.7, 'reg_alpha': 0.025, 'reg_lambda': 0.1, 'num_leaves': 12, 'learning_rate': 0.3, 'subsample_for_bin': 251760}. Best is trial 1 with value: 0.6005954688814225.\n"
     ]
    },
    {
     "name": "stdout",
     "output_type": "stream",
     "text": [
      "[LightGBM] [Info] Number of positive: 25558, number of negative: 25558\n",
      "[LightGBM] [Info] Auto-choosing row-wise multi-threading, the overhead of testing was 0.019322 seconds.\n",
      "You can set `force_row_wise=true` to remove the overhead.\n",
      "And if memory is not enough, you can set `force_col_wise=true`.\n",
      "[LightGBM] [Info] Total Bins 6804\n",
      "[LightGBM] [Info] Number of data points in the train set: 51116, number of used features: 32\n",
      "[LightGBM] [Info] [binary:BoostFromScore]: pavg=0.500000 -> initscore=0.000000\n",
      "[LightGBM] [Info] Number of positive: 25558, number of negative: 25558\n",
      "[LightGBM] [Info] Auto-choosing col-wise multi-threading, the overhead of testing was 0.024922 seconds.\n",
      "You can set `force_col_wise=true` to remove the overhead.\n",
      "[LightGBM] [Info] Total Bins 6802\n",
      "[LightGBM] [Info] Number of data points in the train set: 51116, number of used features: 32\n",
      "[LightGBM] [Info] [binary:BoostFromScore]: pavg=0.500000 -> initscore=0.000000\n",
      "[LightGBM] [Info] Number of positive: 25558, number of negative: 25558\n",
      "[LightGBM] [Info] Auto-choosing row-wise multi-threading, the overhead of testing was 0.019234 seconds.\n",
      "You can set `force_row_wise=true` to remove the overhead.\n",
      "And if memory is not enough, you can set `force_col_wise=true`.\n",
      "[LightGBM] [Info] Total Bins 6271\n",
      "[LightGBM] [Info] Number of data points in the train set: 51116, number of used features: 32\n",
      "[LightGBM] [Info] [binary:BoostFromScore]: pavg=0.500000 -> initscore=0.000000\n",
      "[LightGBM] [Info] Number of positive: 25559, number of negative: 25559\n",
      "[LightGBM] [Info] Auto-choosing row-wise multi-threading, the overhead of testing was 0.019495 seconds.\n",
      "You can set `force_row_wise=true` to remove the overhead.\n",
      "And if memory is not enough, you can set `force_col_wise=true`.\n",
      "[LightGBM] [Info] Total Bins 6823\n",
      "[LightGBM] [Info] Number of data points in the train set: 51118, number of used features: 32\n",
      "[LightGBM] [Info] [binary:BoostFromScore]: pavg=0.500000 -> initscore=0.000000\n",
      "[LightGBM] [Info] Number of positive: 25559, number of negative: 25559\n",
      "[LightGBM] [Info] Auto-choosing row-wise multi-threading, the overhead of testing was 0.018966 seconds.\n",
      "You can set `force_row_wise=true` to remove the overhead.\n",
      "And if memory is not enough, you can set `force_col_wise=true`.\n",
      "[LightGBM] [Info] Total Bins 6433\n",
      "[LightGBM] [Info] Number of data points in the train set: 51118, number of used features: 32\n",
      "[LightGBM] [Info] [binary:BoostFromScore]: pavg=0.500000 -> initscore=0.000000\n"
     ]
    },
    {
     "name": "stderr",
     "output_type": "stream",
     "text": [
      "[I 2024-03-24 10:06:02,516] Trial 5 finished with value: 0.5745886690760273 and parameters: {'max_depth': 15, 'n_estimators': 300, 'subsample': 0.8, 'colsample_bytree': 0.8, 'reg_alpha': 0.025, 'reg_lambda': 0.2, 'num_leaves': 34, 'learning_rate': 0.3, 'subsample_for_bin': 378976}. Best is trial 1 with value: 0.6005954688814225.\n"
     ]
    },
    {
     "name": "stdout",
     "output_type": "stream",
     "text": [
      "[LightGBM] [Info] Number of positive: 25558, number of negative: 25558\n",
      "[LightGBM] [Info] Auto-choosing col-wise multi-threading, the overhead of testing was 0.026262 seconds.\n",
      "You can set `force_col_wise=true` to remove the overhead.\n",
      "[LightGBM] [Info] Total Bins 6804\n",
      "[LightGBM] [Info] Number of data points in the train set: 51116, number of used features: 32\n",
      "[LightGBM] [Info] [binary:BoostFromScore]: pavg=0.500000 -> initscore=0.000000\n",
      "[LightGBM] [Info] Number of positive: 25558, number of negative: 25558\n",
      "[LightGBM] [Info] Auto-choosing col-wise multi-threading, the overhead of testing was 0.032834 seconds.\n",
      "You can set `force_col_wise=true` to remove the overhead.\n",
      "[LightGBM] [Info] Total Bins 6802\n",
      "[LightGBM] [Info] Number of data points in the train set: 51116, number of used features: 32\n",
      "[LightGBM] [Info] [binary:BoostFromScore]: pavg=0.500000 -> initscore=0.000000\n",
      "[LightGBM] [Info] Number of positive: 25558, number of negative: 25558\n",
      "[LightGBM] [Info] Auto-choosing col-wise multi-threading, the overhead of testing was 0.026278 seconds.\n",
      "You can set `force_col_wise=true` to remove the overhead.\n",
      "[LightGBM] [Info] Total Bins 6271\n",
      "[LightGBM] [Info] Number of data points in the train set: 51116, number of used features: 32\n",
      "[LightGBM] [Info] [binary:BoostFromScore]: pavg=0.500000 -> initscore=0.000000\n",
      "[LightGBM] [Info] Number of positive: 25559, number of negative: 25559\n",
      "[LightGBM] [Info] Auto-choosing col-wise multi-threading, the overhead of testing was 0.025298 seconds.\n",
      "You can set `force_col_wise=true` to remove the overhead.\n",
      "[LightGBM] [Info] Total Bins 6823\n",
      "[LightGBM] [Info] Number of data points in the train set: 51118, number of used features: 32\n",
      "[LightGBM] [Info] [binary:BoostFromScore]: pavg=0.500000 -> initscore=0.000000\n",
      "[LightGBM] [Info] Number of positive: 25559, number of negative: 25559\n",
      "[LightGBM] [Info] Auto-choosing col-wise multi-threading, the overhead of testing was 0.025658 seconds.\n",
      "You can set `force_col_wise=true` to remove the overhead.\n",
      "[LightGBM] [Info] Total Bins 6433\n",
      "[LightGBM] [Info] Number of data points in the train set: 51118, number of used features: 32\n",
      "[LightGBM] [Info] [binary:BoostFromScore]: pavg=0.500000 -> initscore=0.000000\n"
     ]
    },
    {
     "name": "stderr",
     "output_type": "stream",
     "text": [
      "[I 2024-03-24 10:06:45,183] Trial 6 finished with value: 0.5663628742567427 and parameters: {'max_depth': 14, 'n_estimators': 900, 'subsample': 0.5, 'colsample_bytree': 0.6, 'reg_alpha': 0.0, 'reg_lambda': 0.05, 'num_leaves': 22, 'learning_rate': 0.1, 'subsample_for_bin': 365760}. Best is trial 1 with value: 0.6005954688814225.\n"
     ]
    },
    {
     "name": "stdout",
     "output_type": "stream",
     "text": [
      "[LightGBM] [Info] Number of positive: 25558, number of negative: 25558\n",
      "[LightGBM] [Info] Auto-choosing col-wise multi-threading, the overhead of testing was 0.025953 seconds.\n",
      "You can set `force_col_wise=true` to remove the overhead.\n",
      "[LightGBM] [Info] Total Bins 6804\n",
      "[LightGBM] [Info] Number of data points in the train set: 51116, number of used features: 32\n",
      "[LightGBM] [Info] [binary:BoostFromScore]: pavg=0.500000 -> initscore=0.000000\n",
      "[LightGBM] [Info] Number of positive: 25558, number of negative: 25558\n",
      "[LightGBM] [Info] Auto-choosing col-wise multi-threading, the overhead of testing was 0.024126 seconds.\n",
      "You can set `force_col_wise=true` to remove the overhead.\n",
      "[LightGBM] [Info] Total Bins 6802\n",
      "[LightGBM] [Info] Number of data points in the train set: 51116, number of used features: 32\n",
      "[LightGBM] [Info] [binary:BoostFromScore]: pavg=0.500000 -> initscore=0.000000\n",
      "[LightGBM] [Info] Number of positive: 25558, number of negative: 25558\n",
      "[LightGBM] [Info] Auto-choosing col-wise multi-threading, the overhead of testing was 0.024842 seconds.\n",
      "You can set `force_col_wise=true` to remove the overhead.\n",
      "[LightGBM] [Info] Total Bins 6271\n",
      "[LightGBM] [Info] Number of data points in the train set: 51116, number of used features: 32\n",
      "[LightGBM] [Info] [binary:BoostFromScore]: pavg=0.500000 -> initscore=0.000000\n",
      "[LightGBM] [Info] Number of positive: 25559, number of negative: 25559\n",
      "[LightGBM] [Info] Auto-choosing col-wise multi-threading, the overhead of testing was 0.028483 seconds.\n",
      "You can set `force_col_wise=true` to remove the overhead.\n",
      "[LightGBM] [Info] Total Bins 6823\n",
      "[LightGBM] [Info] Number of data points in the train set: 51118, number of used features: 32\n",
      "[LightGBM] [Info] [binary:BoostFromScore]: pavg=0.500000 -> initscore=0.000000\n",
      "[LightGBM] [Info] Number of positive: 25559, number of negative: 25559\n",
      "[LightGBM] [Info] Auto-choosing col-wise multi-threading, the overhead of testing was 0.025825 seconds.\n",
      "You can set `force_col_wise=true` to remove the overhead.\n",
      "[LightGBM] [Info] Total Bins 6433\n",
      "[LightGBM] [Info] Number of data points in the train set: 51118, number of used features: 32\n",
      "[LightGBM] [Info] [binary:BoostFromScore]: pavg=0.500000 -> initscore=0.000000\n"
     ]
    },
    {
     "name": "stderr",
     "output_type": "stream",
     "text": [
      "[I 2024-03-24 10:07:03,872] Trial 7 finished with value: 0.5643191884114651 and parameters: {'max_depth': 11, 'n_estimators': 300, 'subsample': 0.8, 'colsample_bytree': 0.5, 'reg_alpha': 0.17500000000000002, 'reg_lambda': 0.0, 'num_leaves': 40, 'learning_rate': 0.25, 'subsample_for_bin': 239744}. Best is trial 1 with value: 0.6005954688814225.\n"
     ]
    },
    {
     "name": "stdout",
     "output_type": "stream",
     "text": [
      "[LightGBM] [Info] Number of positive: 25558, number of negative: 25558\n",
      "[LightGBM] [Info] Auto-choosing row-wise multi-threading, the overhead of testing was 0.020097 seconds.\n",
      "You can set `force_row_wise=true` to remove the overhead.\n",
      "And if memory is not enough, you can set `force_col_wise=true`.\n",
      "[LightGBM] [Info] Total Bins 6804\n",
      "[LightGBM] [Info] Number of data points in the train set: 51116, number of used features: 32\n",
      "[LightGBM] [Info] [binary:BoostFromScore]: pavg=0.500000 -> initscore=0.000000\n",
      "[LightGBM] [Warning] No further splits with positive gain, best gain: -inf\n",
      "[LightGBM] [Warning] No further splits with positive gain, best gain: -inf\n",
      "[LightGBM] [Warning] No further splits with positive gain, best gain: -inf\n",
      "[LightGBM] [Warning] No further splits with positive gain, best gain: -inf\n",
      "[LightGBM] [Warning] No further splits with positive gain, best gain: -inf\n",
      "[LightGBM] [Warning] No further splits with positive gain, best gain: -inf\n",
      "[LightGBM] [Warning] No further splits with positive gain, best gain: -inf\n",
      "[LightGBM] [Warning] No further splits with positive gain, best gain: -inf\n",
      "[LightGBM] [Warning] No further splits with positive gain, best gain: -inf\n",
      "[LightGBM] [Warning] No further splits with positive gain, best gain: -inf\n",
      "[LightGBM] [Warning] No further splits with positive gain, best gain: -inf\n",
      "[LightGBM] [Warning] No further splits with positive gain, best gain: -inf\n",
      "[LightGBM] [Warning] No further splits with positive gain, best gain: -inf\n",
      "[LightGBM] [Warning] No further splits with positive gain, best gain: -inf\n",
      "[LightGBM] [Warning] No further splits with positive gain, best gain: -inf\n",
      "[LightGBM] [Warning] No further splits with positive gain, best gain: -inf\n",
      "[LightGBM] [Warning] No further splits with positive gain, best gain: -inf\n",
      "[LightGBM] [Warning] No further splits with positive gain, best gain: -inf\n",
      "[LightGBM] [Warning] No further splits with positive gain, best gain: -inf\n",
      "[LightGBM] [Warning] No further splits with positive gain, best gain: -inf\n",
      "[LightGBM] [Warning] No further splits with positive gain, best gain: -inf\n",
      "[LightGBM] [Warning] No further splits with positive gain, best gain: -inf\n",
      "[LightGBM] [Warning] No further splits with positive gain, best gain: -inf\n",
      "[LightGBM] [Info] Number of positive: 25558, number of negative: 25558\n",
      "[LightGBM] [Info] Auto-choosing col-wise multi-threading, the overhead of testing was 0.024973 seconds.\n",
      "You can set `force_col_wise=true` to remove the overhead.\n",
      "[LightGBM] [Info] Total Bins 6802\n",
      "[LightGBM] [Info] Number of data points in the train set: 51116, number of used features: 32\n",
      "[LightGBM] [Info] [binary:BoostFromScore]: pavg=0.500000 -> initscore=0.000000\n",
      "[LightGBM] [Warning] No further splits with positive gain, best gain: -inf\n",
      "[LightGBM] [Warning] No further splits with positive gain, best gain: -inf\n",
      "[LightGBM] [Warning] No further splits with positive gain, best gain: -inf\n",
      "[LightGBM] [Warning] No further splits with positive gain, best gain: -inf\n",
      "[LightGBM] [Warning] No further splits with positive gain, best gain: -inf\n",
      "[LightGBM] [Warning] No further splits with positive gain, best gain: -inf\n",
      "[LightGBM] [Warning] No further splits with positive gain, best gain: -inf\n",
      "[LightGBM] [Warning] No further splits with positive gain, best gain: -inf\n",
      "[LightGBM] [Warning] No further splits with positive gain, best gain: -inf\n",
      "[LightGBM] [Warning] No further splits with positive gain, best gain: -inf\n",
      "[LightGBM] [Warning] No further splits with positive gain, best gain: -inf\n",
      "[LightGBM] [Warning] No further splits with positive gain, best gain: -inf\n",
      "[LightGBM] [Warning] No further splits with positive gain, best gain: -inf\n",
      "[LightGBM] [Warning] No further splits with positive gain, best gain: -inf\n",
      "[LightGBM] [Warning] No further splits with positive gain, best gain: -inf\n",
      "[LightGBM] [Warning] No further splits with positive gain, best gain: -inf\n",
      "[LightGBM] [Warning] No further splits with positive gain, best gain: -inf\n",
      "[LightGBM] [Warning] No further splits with positive gain, best gain: -inf\n",
      "[LightGBM] [Warning] No further splits with positive gain, best gain: -inf\n",
      "[LightGBM] [Warning] No further splits with positive gain, best gain: -inf\n",
      "[LightGBM] [Info] Number of positive: 25558, number of negative: 25558\n",
      "[LightGBM] [Info] Auto-choosing row-wise multi-threading, the overhead of testing was 0.019328 seconds.\n",
      "You can set `force_row_wise=true` to remove the overhead.\n",
      "And if memory is not enough, you can set `force_col_wise=true`.\n",
      "[LightGBM] [Info] Total Bins 6271\n",
      "[LightGBM] [Info] Number of data points in the train set: 51116, number of used features: 32\n",
      "[LightGBM] [Info] [binary:BoostFromScore]: pavg=0.500000 -> initscore=0.000000\n",
      "[LightGBM] [Warning] No further splits with positive gain, best gain: -inf\n",
      "[LightGBM] [Warning] No further splits with positive gain, best gain: -inf\n",
      "[LightGBM] [Warning] No further splits with positive gain, best gain: -inf\n",
      "[LightGBM] [Warning] No further splits with positive gain, best gain: -inf\n",
      "[LightGBM] [Warning] No further splits with positive gain, best gain: -inf\n",
      "[LightGBM] [Warning] No further splits with positive gain, best gain: -inf\n",
      "[LightGBM] [Warning] No further splits with positive gain, best gain: -inf\n",
      "[LightGBM] [Warning] No further splits with positive gain, best gain: -inf\n",
      "[LightGBM] [Warning] No further splits with positive gain, best gain: -inf\n",
      "[LightGBM] [Warning] No further splits with positive gain, best gain: -inf\n",
      "[LightGBM] [Warning] No further splits with positive gain, best gain: -inf\n",
      "[LightGBM] [Warning] No further splits with positive gain, best gain: -inf\n",
      "[LightGBM] [Warning] No further splits with positive gain, best gain: -inf\n",
      "[LightGBM] [Info] Number of positive: 25559, number of negative: 25559\n",
      "[LightGBM] [Info] Auto-choosing row-wise multi-threading, the overhead of testing was 0.018944 seconds.\n",
      "You can set `force_row_wise=true` to remove the overhead.\n",
      "And if memory is not enough, you can set `force_col_wise=true`.\n",
      "[LightGBM] [Info] Total Bins 6823\n",
      "[LightGBM] [Info] Number of data points in the train set: 51118, number of used features: 32\n",
      "[LightGBM] [Info] [binary:BoostFromScore]: pavg=0.500000 -> initscore=0.000000\n",
      "[LightGBM] [Warning] No further splits with positive gain, best gain: -inf\n",
      "[LightGBM] [Warning] No further splits with positive gain, best gain: -inf\n",
      "[LightGBM] [Warning] No further splits with positive gain, best gain: -inf\n",
      "[LightGBM] [Warning] No further splits with positive gain, best gain: -inf\n",
      "[LightGBM] [Warning] No further splits with positive gain, best gain: -inf\n",
      "[LightGBM] [Warning] No further splits with positive gain, best gain: -inf\n",
      "[LightGBM] [Warning] No further splits with positive gain, best gain: -inf\n",
      "[LightGBM] [Warning] No further splits with positive gain, best gain: -inf\n",
      "[LightGBM] [Warning] No further splits with positive gain, best gain: -inf\n",
      "[LightGBM] [Info] Number of positive: 25559, number of negative: 25559\n",
      "[LightGBM] [Info] Auto-choosing row-wise multi-threading, the overhead of testing was 0.018767 seconds.\n",
      "You can set `force_row_wise=true` to remove the overhead.\n",
      "And if memory is not enough, you can set `force_col_wise=true`.\n",
      "[LightGBM] [Info] Total Bins 6433\n",
      "[LightGBM] [Info] Number of data points in the train set: 51118, number of used features: 32\n",
      "[LightGBM] [Info] [binary:BoostFromScore]: pavg=0.500000 -> initscore=0.000000\n",
      "[LightGBM] [Warning] No further splits with positive gain, best gain: -inf\n",
      "[LightGBM] [Warning] No further splits with positive gain, best gain: -inf\n",
      "[LightGBM] [Warning] No further splits with positive gain, best gain: -inf\n",
      "[LightGBM] [Warning] No further splits with positive gain, best gain: -inf\n",
      "[LightGBM] [Warning] No further splits with positive gain, best gain: -inf\n",
      "[LightGBM] [Warning] No further splits with positive gain, best gain: -inf\n",
      "[LightGBM] [Warning] No further splits with positive gain, best gain: -inf\n",
      "[LightGBM] [Warning] No further splits with positive gain, best gain: -inf\n",
      "[LightGBM] [Warning] No further splits with positive gain, best gain: -inf\n",
      "[LightGBM] [Warning] No further splits with positive gain, best gain: -inf\n",
      "[LightGBM] [Warning] No further splits with positive gain, best gain: -inf\n",
      "[LightGBM] [Warning] No further splits with positive gain, best gain: -inf\n",
      "[LightGBM] [Warning] No further splits with positive gain, best gain: -inf\n",
      "[LightGBM] [Warning] No further splits with positive gain, best gain: -inf\n",
      "[LightGBM] [Warning] No further splits with positive gain, best gain: -inf\n",
      "[LightGBM] [Warning] No further splits with positive gain, best gain: -inf\n",
      "[LightGBM] [Warning] No further splits with positive gain, best gain: -inf\n",
      "[LightGBM] [Warning] No further splits with positive gain, best gain: -inf\n",
      "[LightGBM] [Warning] No further splits with positive gain, best gain: -inf\n",
      "[LightGBM] [Warning] No further splits with positive gain, best gain: -inf\n",
      "[LightGBM] [Warning] No further splits with positive gain, best gain: -inf\n",
      "[LightGBM] [Warning] No further splits with positive gain, best gain: -inf\n",
      "[LightGBM] [Warning] No further splits with positive gain, best gain: -inf\n",
      "[LightGBM] [Warning] No further splits with positive gain, best gain: -inf\n",
      "[LightGBM] [Warning] No further splits with positive gain, best gain: -inf\n"
     ]
    },
    {
     "name": "stderr",
     "output_type": "stream",
     "text": [
      "[I 2024-03-24 10:07:45,829] Trial 8 finished with value: 0.5874897600352986 and parameters: {'max_depth': 6, 'n_estimators': 800, 'subsample': 0.9, 'colsample_bytree': 0.9, 'reg_alpha': 0.15000000000000002, 'reg_lambda': 0.0, 'num_leaves': 22, 'learning_rate': 0.05, 'subsample_for_bin': 372624}. Best is trial 1 with value: 0.6005954688814225.\n"
     ]
    },
    {
     "name": "stdout",
     "output_type": "stream",
     "text": [
      "[LightGBM] [Info] Number of positive: 25558, number of negative: 25558\n",
      "[LightGBM] [Info] Auto-choosing col-wise multi-threading, the overhead of testing was 0.025232 seconds.\n",
      "You can set `force_col_wise=true` to remove the overhead.\n",
      "[LightGBM] [Info] Total Bins 6804\n",
      "[LightGBM] [Info] Number of data points in the train set: 51116, number of used features: 32\n",
      "[LightGBM] [Info] [binary:BoostFromScore]: pavg=0.500000 -> initscore=0.000000\n",
      "[LightGBM] [Info] Number of positive: 25558, number of negative: 25558\n",
      "[LightGBM] [Info] Auto-choosing col-wise multi-threading, the overhead of testing was 0.024053 seconds.\n",
      "You can set `force_col_wise=true` to remove the overhead.\n",
      "[LightGBM] [Info] Total Bins 6802\n",
      "[LightGBM] [Info] Number of data points in the train set: 51116, number of used features: 32\n",
      "[LightGBM] [Info] [binary:BoostFromScore]: pavg=0.500000 -> initscore=0.000000\n",
      "[LightGBM] [Info] Number of positive: 25558, number of negative: 25558\n",
      "[LightGBM] [Info] Auto-choosing col-wise multi-threading, the overhead of testing was 0.026304 seconds.\n",
      "You can set `force_col_wise=true` to remove the overhead.\n",
      "[LightGBM] [Info] Total Bins 6271\n",
      "[LightGBM] [Info] Number of data points in the train set: 51116, number of used features: 32\n",
      "[LightGBM] [Info] [binary:BoostFromScore]: pavg=0.500000 -> initscore=0.000000\n",
      "[LightGBM] [Info] Number of positive: 25559, number of negative: 25559\n",
      "[LightGBM] [Info] Auto-choosing col-wise multi-threading, the overhead of testing was 0.025950 seconds.\n",
      "You can set `force_col_wise=true` to remove the overhead.\n",
      "[LightGBM] [Info] Total Bins 6823\n",
      "[LightGBM] [Info] Number of data points in the train set: 51118, number of used features: 32\n",
      "[LightGBM] [Info] [binary:BoostFromScore]: pavg=0.500000 -> initscore=0.000000\n",
      "[LightGBM] [Info] Number of positive: 25559, number of negative: 25559\n",
      "[LightGBM] [Info] Auto-choosing col-wise multi-threading, the overhead of testing was 0.026871 seconds.\n",
      "You can set `force_col_wise=true` to remove the overhead.\n",
      "[LightGBM] [Info] Total Bins 6433\n",
      "[LightGBM] [Info] Number of data points in the train set: 51118, number of used features: 32\n",
      "[LightGBM] [Info] [binary:BoostFromScore]: pavg=0.500000 -> initscore=0.000000\n"
     ]
    },
    {
     "name": "stderr",
     "output_type": "stream",
     "text": [
      "[I 2024-03-24 10:08:02,108] Trial 9 finished with value: 0.5691058147271763 and parameters: {'max_depth': 15, 'n_estimators': 300, 'subsample': 0.5, 'colsample_bytree': 0.6, 'reg_alpha': 0.05, 'reg_lambda': 0.15000000000000002, 'num_leaves': 30, 'learning_rate': 0.3, 'subsample_for_bin': 294448}. Best is trial 1 with value: 0.6005954688814225.\n"
     ]
    },
    {
     "name": "stdout",
     "output_type": "stream",
     "text": [
      "[LightGBM] [Info] Number of positive: 25558, number of negative: 25558\n",
      "[LightGBM] [Info] Auto-choosing row-wise multi-threading, the overhead of testing was 0.019266 seconds.\n",
      "You can set `force_row_wise=true` to remove the overhead.\n",
      "And if memory is not enough, you can set `force_col_wise=true`.\n",
      "[LightGBM] [Info] Total Bins 6804\n",
      "[LightGBM] [Info] Number of data points in the train set: 51116, number of used features: 32\n",
      "[LightGBM] [Info] [binary:BoostFromScore]: pavg=0.500000 -> initscore=0.000000\n",
      "[LightGBM] [Info] Number of positive: 25558, number of negative: 25558\n",
      "[LightGBM] [Info] Auto-choosing row-wise multi-threading, the overhead of testing was 0.018309 seconds.\n",
      "You can set `force_row_wise=true` to remove the overhead.\n",
      "And if memory is not enough, you can set `force_col_wise=true`.\n",
      "[LightGBM] [Info] Total Bins 6802\n",
      "[LightGBM] [Info] Number of data points in the train set: 51116, number of used features: 32\n",
      "[LightGBM] [Info] [binary:BoostFromScore]: pavg=0.500000 -> initscore=0.000000\n",
      "[LightGBM] [Info] Number of positive: 25558, number of negative: 25558\n",
      "[LightGBM] [Info] Auto-choosing row-wise multi-threading, the overhead of testing was 0.019606 seconds.\n",
      "You can set `force_row_wise=true` to remove the overhead.\n",
      "And if memory is not enough, you can set `force_col_wise=true`.\n",
      "[LightGBM] [Info] Total Bins 6271\n",
      "[LightGBM] [Info] Number of data points in the train set: 51116, number of used features: 32\n",
      "[LightGBM] [Info] [binary:BoostFromScore]: pavg=0.500000 -> initscore=0.000000\n",
      "[LightGBM] [Info] Number of positive: 25559, number of negative: 25559\n",
      "[LightGBM] [Info] Auto-choosing row-wise multi-threading, the overhead of testing was 0.021870 seconds.\n",
      "You can set `force_row_wise=true` to remove the overhead.\n",
      "And if memory is not enough, you can set `force_col_wise=true`.\n",
      "[LightGBM] [Info] Total Bins 6823\n",
      "[LightGBM] [Info] Number of data points in the train set: 51118, number of used features: 32\n",
      "[LightGBM] [Info] [binary:BoostFromScore]: pavg=0.500000 -> initscore=0.000000\n",
      "[LightGBM] [Info] Number of positive: 25559, number of negative: 25559\n",
      "[LightGBM] [Info] Auto-choosing row-wise multi-threading, the overhead of testing was 0.018959 seconds.\n",
      "You can set `force_row_wise=true` to remove the overhead.\n",
      "And if memory is not enough, you can set `force_col_wise=true`.\n",
      "[LightGBM] [Info] Total Bins 6433\n",
      "[LightGBM] [Info] Number of data points in the train set: 51118, number of used features: 32\n",
      "[LightGBM] [Info] [binary:BoostFromScore]: pavg=0.500000 -> initscore=0.000000\n"
     ]
    },
    {
     "name": "stderr",
     "output_type": "stream",
     "text": [
      "[I 2024-03-24 10:08:09,359] Trial 10 finished with value: 0.594811200278339 and parameters: {'max_depth': 20, 'n_estimators': 100, 'subsample': 1.0, 'colsample_bytree': 1.0, 'reg_alpha': 0.1, 'reg_lambda': 0.15000000000000002, 'num_leaves': 18, 'learning_rate': 0.15000000000000002, 'subsample_for_bin': 295856}. Best is trial 1 with value: 0.6005954688814225.\n"
     ]
    },
    {
     "name": "stdout",
     "output_type": "stream",
     "text": [
      "[LightGBM] [Info] Number of positive: 25558, number of negative: 25558\n",
      "[LightGBM] [Info] Auto-choosing row-wise multi-threading, the overhead of testing was 0.019570 seconds.\n",
      "You can set `force_row_wise=true` to remove the overhead.\n",
      "And if memory is not enough, you can set `force_col_wise=true`.\n",
      "[LightGBM] [Info] Total Bins 6804\n",
      "[LightGBM] [Info] Number of data points in the train set: 51116, number of used features: 32\n",
      "[LightGBM] [Info] [binary:BoostFromScore]: pavg=0.500000 -> initscore=0.000000\n",
      "[LightGBM] [Info] Number of positive: 25558, number of negative: 25558\n",
      "[LightGBM] [Info] Auto-choosing row-wise multi-threading, the overhead of testing was 0.018059 seconds.\n",
      "You can set `force_row_wise=true` to remove the overhead.\n",
      "And if memory is not enough, you can set `force_col_wise=true`.\n",
      "[LightGBM] [Info] Total Bins 6802\n",
      "[LightGBM] [Info] Number of data points in the train set: 51116, number of used features: 32\n",
      "[LightGBM] [Info] [binary:BoostFromScore]: pavg=0.500000 -> initscore=0.000000\n",
      "[LightGBM] [Info] Number of positive: 25558, number of negative: 25558\n",
      "[LightGBM] [Info] Auto-choosing row-wise multi-threading, the overhead of testing was 0.019522 seconds.\n",
      "You can set `force_row_wise=true` to remove the overhead.\n",
      "And if memory is not enough, you can set `force_col_wise=true`.\n",
      "[LightGBM] [Info] Total Bins 6271\n",
      "[LightGBM] [Info] Number of data points in the train set: 51116, number of used features: 32\n",
      "[LightGBM] [Info] [binary:BoostFromScore]: pavg=0.500000 -> initscore=0.000000\n",
      "[LightGBM] [Info] Number of positive: 25559, number of negative: 25559\n",
      "[LightGBM] [Info] Auto-choosing row-wise multi-threading, the overhead of testing was 0.019254 seconds.\n",
      "You can set `force_row_wise=true` to remove the overhead.\n",
      "And if memory is not enough, you can set `force_col_wise=true`.\n",
      "[LightGBM] [Info] Total Bins 6823\n",
      "[LightGBM] [Info] Number of data points in the train set: 51118, number of used features: 32\n",
      "[LightGBM] [Info] [binary:BoostFromScore]: pavg=0.500000 -> initscore=0.000000\n",
      "[LightGBM] [Info] Number of positive: 25559, number of negative: 25559\n",
      "[LightGBM] [Info] Auto-choosing row-wise multi-threading, the overhead of testing was 0.018964 seconds.\n",
      "You can set `force_row_wise=true` to remove the overhead.\n",
      "And if memory is not enough, you can set `force_col_wise=true`.\n",
      "[LightGBM] [Info] Total Bins 6433\n",
      "[LightGBM] [Info] Number of data points in the train set: 51118, number of used features: 32\n",
      "[LightGBM] [Info] [binary:BoostFromScore]: pavg=0.500000 -> initscore=0.000000\n"
     ]
    },
    {
     "name": "stderr",
     "output_type": "stream",
     "text": [
      "[I 2024-03-24 10:08:16,610] Trial 11 finished with value: 0.594811200278339 and parameters: {'max_depth': 20, 'n_estimators': 100, 'subsample': 1.0, 'colsample_bytree': 1.0, 'reg_alpha': 0.1, 'reg_lambda': 0.15000000000000002, 'num_leaves': 18, 'learning_rate': 0.15000000000000002, 'subsample_for_bin': 296688}. Best is trial 1 with value: 0.6005954688814225.\n"
     ]
    },
    {
     "name": "stdout",
     "output_type": "stream",
     "text": [
      "[LightGBM] [Info] Number of positive: 25558, number of negative: 25558\n",
      "[LightGBM] [Info] Auto-choosing row-wise multi-threading, the overhead of testing was 0.019193 seconds.\n",
      "You can set `force_row_wise=true` to remove the overhead.\n",
      "And if memory is not enough, you can set `force_col_wise=true`.\n",
      "[LightGBM] [Info] Total Bins 6804\n",
      "[LightGBM] [Info] Number of data points in the train set: 51116, number of used features: 32\n",
      "[LightGBM] [Info] [binary:BoostFromScore]: pavg=0.500000 -> initscore=0.000000\n",
      "[LightGBM] [Info] Number of positive: 25558, number of negative: 25558\n",
      "[LightGBM] [Info] Auto-choosing row-wise multi-threading, the overhead of testing was 0.018156 seconds.\n",
      "You can set `force_row_wise=true` to remove the overhead.\n",
      "And if memory is not enough, you can set `force_col_wise=true`.\n",
      "[LightGBM] [Info] Total Bins 6802\n",
      "[LightGBM] [Info] Number of data points in the train set: 51116, number of used features: 32\n",
      "[LightGBM] [Info] [binary:BoostFromScore]: pavg=0.500000 -> initscore=0.000000\n",
      "[LightGBM] [Info] Number of positive: 25558, number of negative: 25558\n",
      "[LightGBM] [Info] Auto-choosing row-wise multi-threading, the overhead of testing was 0.019372 seconds.\n",
      "You can set `force_row_wise=true` to remove the overhead.\n",
      "And if memory is not enough, you can set `force_col_wise=true`.\n",
      "[LightGBM] [Info] Total Bins 6271\n",
      "[LightGBM] [Info] Number of data points in the train set: 51116, number of used features: 32\n",
      "[LightGBM] [Info] [binary:BoostFromScore]: pavg=0.500000 -> initscore=0.000000\n",
      "[LightGBM] [Info] Number of positive: 25559, number of negative: 25559\n",
      "[LightGBM] [Info] Auto-choosing row-wise multi-threading, the overhead of testing was 0.019298 seconds.\n",
      "You can set `force_row_wise=true` to remove the overhead.\n",
      "And if memory is not enough, you can set `force_col_wise=true`.\n",
      "[LightGBM] [Info] Total Bins 6823\n",
      "[LightGBM] [Info] Number of data points in the train set: 51118, number of used features: 32\n",
      "[LightGBM] [Info] [binary:BoostFromScore]: pavg=0.500000 -> initscore=0.000000\n",
      "[LightGBM] [Info] Number of positive: 25559, number of negative: 25559\n",
      "[LightGBM] [Info] Auto-choosing row-wise multi-threading, the overhead of testing was 0.019040 seconds.\n",
      "You can set `force_row_wise=true` to remove the overhead.\n",
      "And if memory is not enough, you can set `force_col_wise=true`.\n",
      "[LightGBM] [Info] Total Bins 6433\n",
      "[LightGBM] [Info] Number of data points in the train set: 51118, number of used features: 32\n",
      "[LightGBM] [Info] [binary:BoostFromScore]: pavg=0.500000 -> initscore=0.000000\n"
     ]
    },
    {
     "name": "stderr",
     "output_type": "stream",
     "text": [
      "[I 2024-03-24 10:08:23,756] Trial 12 finished with value: 0.597977705975353 and parameters: {'max_depth': 20, 'n_estimators': 100, 'subsample': 1.0, 'colsample_bytree': 1.0, 'reg_alpha': 0.1, 'reg_lambda': 0.15000000000000002, 'num_leaves': 16, 'learning_rate': 0.15000000000000002, 'subsample_for_bin': 327680}. Best is trial 1 with value: 0.6005954688814225.\n"
     ]
    },
    {
     "name": "stdout",
     "output_type": "stream",
     "text": [
      "[LightGBM] [Info] Number of positive: 25558, number of negative: 25558\n",
      "[LightGBM] [Info] Auto-choosing row-wise multi-threading, the overhead of testing was 0.019049 seconds.\n",
      "You can set `force_row_wise=true` to remove the overhead.\n",
      "And if memory is not enough, you can set `force_col_wise=true`.\n",
      "[LightGBM] [Info] Total Bins 6804\n",
      "[LightGBM] [Info] Number of data points in the train set: 51116, number of used features: 32\n",
      "[LightGBM] [Info] [binary:BoostFromScore]: pavg=0.500000 -> initscore=0.000000\n",
      "[LightGBM] [Info] Number of positive: 25558, number of negative: 25558\n",
      "[LightGBM] [Info] Auto-choosing row-wise multi-threading, the overhead of testing was 0.017875 seconds.\n",
      "You can set `force_row_wise=true` to remove the overhead.\n",
      "And if memory is not enough, you can set `force_col_wise=true`.\n",
      "[LightGBM] [Info] Total Bins 6802\n",
      "[LightGBM] [Info] Number of data points in the train set: 51116, number of used features: 32\n",
      "[LightGBM] [Info] [binary:BoostFromScore]: pavg=0.500000 -> initscore=0.000000\n",
      "[LightGBM] [Info] Number of positive: 25558, number of negative: 25558\n",
      "[LightGBM] [Info] Auto-choosing row-wise multi-threading, the overhead of testing was 0.019120 seconds.\n",
      "You can set `force_row_wise=true` to remove the overhead.\n",
      "And if memory is not enough, you can set `force_col_wise=true`.\n",
      "[LightGBM] [Info] Total Bins 6271\n",
      "[LightGBM] [Info] Number of data points in the train set: 51116, number of used features: 32\n",
      "[LightGBM] [Info] [binary:BoostFromScore]: pavg=0.500000 -> initscore=0.000000\n",
      "[LightGBM] [Info] Number of positive: 25559, number of negative: 25559\n",
      "[LightGBM] [Info] Auto-choosing row-wise multi-threading, the overhead of testing was 0.018840 seconds.\n",
      "You can set `force_row_wise=true` to remove the overhead.\n",
      "And if memory is not enough, you can set `force_col_wise=true`.\n",
      "[LightGBM] [Info] Total Bins 6823\n",
      "[LightGBM] [Info] Number of data points in the train set: 51118, number of used features: 32\n",
      "[LightGBM] [Info] [binary:BoostFromScore]: pavg=0.500000 -> initscore=0.000000\n",
      "[LightGBM] [Info] Number of positive: 25559, number of negative: 25559\n",
      "[LightGBM] [Info] Auto-choosing row-wise multi-threading, the overhead of testing was 0.018729 seconds.\n",
      "You can set `force_row_wise=true` to remove the overhead.\n",
      "And if memory is not enough, you can set `force_col_wise=true`.\n",
      "[LightGBM] [Info] Total Bins 6433\n",
      "[LightGBM] [Info] Number of data points in the train set: 51118, number of used features: 32\n",
      "[LightGBM] [Info] [binary:BoostFromScore]: pavg=0.500000 -> initscore=0.000000\n"
     ]
    },
    {
     "name": "stderr",
     "output_type": "stream",
     "text": [
      "[I 2024-03-24 10:08:47,271] Trial 13 finished with value: 0.5857815273965438 and parameters: {'max_depth': 17, 'n_estimators': 500, 'subsample': 1.0, 'colsample_bytree': 0.9, 'reg_alpha': 0.125, 'reg_lambda': 0.2, 'num_leaves': 18, 'learning_rate': 0.1, 'subsample_for_bin': 328944}. Best is trial 1 with value: 0.6005954688814225.\n"
     ]
    },
    {
     "name": "stdout",
     "output_type": "stream",
     "text": [
      "[LightGBM] [Info] Number of positive: 25558, number of negative: 25558\n",
      "[LightGBM] [Info] Auto-choosing row-wise multi-threading, the overhead of testing was 0.019166 seconds.\n",
      "You can set `force_row_wise=true` to remove the overhead.\n",
      "And if memory is not enough, you can set `force_col_wise=true`.\n",
      "[LightGBM] [Info] Total Bins 6804\n",
      "[LightGBM] [Info] Number of data points in the train set: 51116, number of used features: 32\n",
      "[LightGBM] [Info] [binary:BoostFromScore]: pavg=0.500000 -> initscore=0.000000\n",
      "[LightGBM] [Info] Number of positive: 25558, number of negative: 25558\n",
      "[LightGBM] [Info] Auto-choosing row-wise multi-threading, the overhead of testing was 0.017775 seconds.\n",
      "You can set `force_row_wise=true` to remove the overhead.\n",
      "And if memory is not enough, you can set `force_col_wise=true`.\n",
      "[LightGBM] [Info] Total Bins 6802\n",
      "[LightGBM] [Info] Number of data points in the train set: 51116, number of used features: 32\n",
      "[LightGBM] [Info] [binary:BoostFromScore]: pavg=0.500000 -> initscore=0.000000\n",
      "[LightGBM] [Info] Number of positive: 25558, number of negative: 25558\n",
      "[LightGBM] [Info] Auto-choosing row-wise multi-threading, the overhead of testing was 0.019073 seconds.\n",
      "You can set `force_row_wise=true` to remove the overhead.\n",
      "And if memory is not enough, you can set `force_col_wise=true`.\n",
      "[LightGBM] [Info] Total Bins 6271\n",
      "[LightGBM] [Info] Number of data points in the train set: 51116, number of used features: 32\n",
      "[LightGBM] [Info] [binary:BoostFromScore]: pavg=0.500000 -> initscore=0.000000\n",
      "[LightGBM] [Info] Number of positive: 25559, number of negative: 25559\n",
      "[LightGBM] [Info] Auto-choosing row-wise multi-threading, the overhead of testing was 0.018908 seconds.\n",
      "You can set `force_row_wise=true` to remove the overhead.\n",
      "And if memory is not enough, you can set `force_col_wise=true`.\n",
      "[LightGBM] [Info] Total Bins 6823\n",
      "[LightGBM] [Info] Number of data points in the train set: 51118, number of used features: 32\n",
      "[LightGBM] [Info] [binary:BoostFromScore]: pavg=0.500000 -> initscore=0.000000\n",
      "[LightGBM] [Info] Number of positive: 25559, number of negative: 25559\n",
      "[LightGBM] [Info] Auto-choosing row-wise multi-threading, the overhead of testing was 0.018682 seconds.\n",
      "You can set `force_row_wise=true` to remove the overhead.\n",
      "And if memory is not enough, you can set `force_col_wise=true`.\n",
      "[LightGBM] [Info] Total Bins 6433\n",
      "[LightGBM] [Info] Number of data points in the train set: 51118, number of used features: 32\n",
      "[LightGBM] [Info] [binary:BoostFromScore]: pavg=0.500000 -> initscore=0.000000\n"
     ]
    },
    {
     "name": "stderr",
     "output_type": "stream",
     "text": [
      "[I 2024-03-24 10:09:11,731] Trial 14 finished with value: 0.5980486450962316 and parameters: {'max_depth': 18, 'n_estimators': 500, 'subsample': 0.7, 'colsample_bytree': 0.9, 'reg_alpha': 0.2, 'reg_lambda': 0.125, 'num_leaves': 14, 'learning_rate': 0.05, 'subsample_for_bin': 270688}. Best is trial 1 with value: 0.6005954688814225.\n"
     ]
    },
    {
     "name": "stdout",
     "output_type": "stream",
     "text": [
      "[LightGBM] [Info] Number of positive: 25558, number of negative: 25558\n",
      "[LightGBM] [Info] Auto-choosing row-wise multi-threading, the overhead of testing was 0.018709 seconds.\n",
      "You can set `force_row_wise=true` to remove the overhead.\n",
      "And if memory is not enough, you can set `force_col_wise=true`.\n",
      "[LightGBM] [Info] Total Bins 6804\n",
      "[LightGBM] [Info] Number of data points in the train set: 51116, number of used features: 32\n",
      "[LightGBM] [Info] [binary:BoostFromScore]: pavg=0.500000 -> initscore=0.000000\n",
      "[LightGBM] [Info] Number of positive: 25558, number of negative: 25558\n",
      "[LightGBM] [Info] Auto-choosing row-wise multi-threading, the overhead of testing was 0.017993 seconds.\n",
      "You can set `force_row_wise=true` to remove the overhead.\n",
      "And if memory is not enough, you can set `force_col_wise=true`.\n",
      "[LightGBM] [Info] Total Bins 6802\n",
      "[LightGBM] [Info] Number of data points in the train set: 51116, number of used features: 32\n",
      "[LightGBM] [Info] [binary:BoostFromScore]: pavg=0.500000 -> initscore=0.000000\n",
      "[LightGBM] [Info] Number of positive: 25558, number of negative: 25558\n",
      "[LightGBM] [Info] Auto-choosing row-wise multi-threading, the overhead of testing was 0.019165 seconds.\n",
      "You can set `force_row_wise=true` to remove the overhead.\n",
      "And if memory is not enough, you can set `force_col_wise=true`.\n",
      "[LightGBM] [Info] Total Bins 6271\n",
      "[LightGBM] [Info] Number of data points in the train set: 51116, number of used features: 32\n",
      "[LightGBM] [Info] [binary:BoostFromScore]: pavg=0.500000 -> initscore=0.000000\n",
      "[LightGBM] [Info] Number of positive: 25559, number of negative: 25559\n",
      "[LightGBM] [Info] Auto-choosing row-wise multi-threading, the overhead of testing was 0.019159 seconds.\n",
      "You can set `force_row_wise=true` to remove the overhead.\n",
      "And if memory is not enough, you can set `force_col_wise=true`.\n",
      "[LightGBM] [Info] Total Bins 6823\n",
      "[LightGBM] [Info] Number of data points in the train set: 51118, number of used features: 32\n",
      "[LightGBM] [Info] [binary:BoostFromScore]: pavg=0.500000 -> initscore=0.000000\n",
      "[LightGBM] [Info] Number of positive: 25559, number of negative: 25559\n",
      "[LightGBM] [Info] Auto-choosing row-wise multi-threading, the overhead of testing was 0.018856 seconds.\n",
      "You can set `force_row_wise=true` to remove the overhead.\n",
      "And if memory is not enough, you can set `force_col_wise=true`.\n",
      "[LightGBM] [Info] Total Bins 6433\n",
      "[LightGBM] [Info] Number of data points in the train set: 51118, number of used features: 32\n",
      "[LightGBM] [Info] [binary:BoostFromScore]: pavg=0.500000 -> initscore=0.000000\n"
     ]
    },
    {
     "name": "stderr",
     "output_type": "stream",
     "text": [
      "[I 2024-03-24 10:09:45,628] Trial 15 finished with value: 0.5912068156409075 and parameters: {'max_depth': 17, 'n_estimators': 600, 'subsample': 0.6, 'colsample_bytree': 0.9, 'reg_alpha': 0.2, 'reg_lambda': 0.1, 'num_leaves': 28, 'learning_rate': 0.05, 'subsample_for_bin': 269504}. Best is trial 1 with value: 0.6005954688814225.\n"
     ]
    },
    {
     "name": "stdout",
     "output_type": "stream",
     "text": [
      "[LightGBM] [Info] Number of positive: 25558, number of negative: 25558\n",
      "[LightGBM] [Info] Auto-choosing row-wise multi-threading, the overhead of testing was 0.018749 seconds.\n",
      "You can set `force_row_wise=true` to remove the overhead.\n",
      "And if memory is not enough, you can set `force_col_wise=true`.\n",
      "[LightGBM] [Info] Total Bins 6804\n",
      "[LightGBM] [Info] Number of data points in the train set: 51116, number of used features: 32\n",
      "[LightGBM] [Info] [binary:BoostFromScore]: pavg=0.500000 -> initscore=0.000000\n",
      "[LightGBM] [Info] Number of positive: 25558, number of negative: 25558\n",
      "[LightGBM] [Info] Auto-choosing col-wise multi-threading, the overhead of testing was 0.024927 seconds.\n",
      "You can set `force_col_wise=true` to remove the overhead.\n",
      "[LightGBM] [Info] Total Bins 6802\n",
      "[LightGBM] [Info] Number of data points in the train set: 51116, number of used features: 32\n",
      "[LightGBM] [Info] [binary:BoostFromScore]: pavg=0.500000 -> initscore=0.000000\n",
      "[LightGBM] [Info] Number of positive: 25558, number of negative: 25558\n",
      "[LightGBM] [Info] Auto-choosing row-wise multi-threading, the overhead of testing was 0.019063 seconds.\n",
      "You can set `force_row_wise=true` to remove the overhead.\n",
      "And if memory is not enough, you can set `force_col_wise=true`.\n",
      "[LightGBM] [Info] Total Bins 6271\n",
      "[LightGBM] [Info] Number of data points in the train set: 51116, number of used features: 32\n",
      "[LightGBM] [Info] [binary:BoostFromScore]: pavg=0.500000 -> initscore=0.000000\n",
      "[LightGBM] [Info] Number of positive: 25559, number of negative: 25559\n",
      "[LightGBM] [Info] Auto-choosing row-wise multi-threading, the overhead of testing was 0.018854 seconds.\n",
      "You can set `force_row_wise=true` to remove the overhead.\n",
      "And if memory is not enough, you can set `force_col_wise=true`.\n",
      "[LightGBM] [Info] Total Bins 6823\n",
      "[LightGBM] [Info] Number of data points in the train set: 51118, number of used features: 32\n",
      "[LightGBM] [Info] [binary:BoostFromScore]: pavg=0.500000 -> initscore=0.000000\n",
      "[LightGBM] [Info] Number of positive: 25559, number of negative: 25559\n",
      "[LightGBM] [Info] Auto-choosing row-wise multi-threading, the overhead of testing was 0.018778 seconds.\n",
      "You can set `force_row_wise=true` to remove the overhead.\n",
      "And if memory is not enough, you can set `force_col_wise=true`.\n",
      "[LightGBM] [Info] Total Bins 6433\n",
      "[LightGBM] [Info] Number of data points in the train set: 51118, number of used features: 32\n",
      "[LightGBM] [Info] [binary:BoostFromScore]: pavg=0.500000 -> initscore=0.000000\n"
     ]
    },
    {
     "name": "stderr",
     "output_type": "stream",
     "text": [
      "[I 2024-03-24 10:10:08,254] Trial 16 finished with value: 0.5803880678568824 and parameters: {'max_depth': 17, 'n_estimators': 500, 'subsample': 0.7, 'colsample_bytree': 0.9, 'reg_alpha': 0.07500000000000001, 'reg_lambda': 0.05, 'num_leaves': 14, 'learning_rate': 0.1, 'subsample_for_bin': 202624}. Best is trial 1 with value: 0.6005954688814225.\n"
     ]
    },
    {
     "name": "stdout",
     "output_type": "stream",
     "text": [
      "[LightGBM] [Info] Number of positive: 25558, number of negative: 25558\n",
      "[LightGBM] [Info] Auto-choosing col-wise multi-threading, the overhead of testing was 0.024661 seconds.\n",
      "You can set `force_col_wise=true` to remove the overhead.\n",
      "[LightGBM] [Info] Total Bins 6804\n",
      "[LightGBM] [Info] Number of data points in the train set: 51116, number of used features: 32\n",
      "[LightGBM] [Info] [binary:BoostFromScore]: pavg=0.500000 -> initscore=0.000000\n",
      "[LightGBM] [Info] Number of positive: 25558, number of negative: 25558\n",
      "[LightGBM] [Info] Auto-choosing col-wise multi-threading, the overhead of testing was 0.023648 seconds.\n",
      "You can set `force_col_wise=true` to remove the overhead.\n",
      "[LightGBM] [Info] Total Bins 6802\n",
      "[LightGBM] [Info] Number of data points in the train set: 51116, number of used features: 32\n",
      "[LightGBM] [Info] [binary:BoostFromScore]: pavg=0.500000 -> initscore=0.000000\n",
      "[LightGBM] [Info] Number of positive: 25558, number of negative: 25558\n",
      "[LightGBM] [Info] Auto-choosing col-wise multi-threading, the overhead of testing was 0.025316 seconds.\n",
      "You can set `force_col_wise=true` to remove the overhead.\n",
      "[LightGBM] [Info] Total Bins 6271\n",
      "[LightGBM] [Info] Number of data points in the train set: 51116, number of used features: 32\n",
      "[LightGBM] [Info] [binary:BoostFromScore]: pavg=0.500000 -> initscore=0.000000\n",
      "[LightGBM] [Info] Number of positive: 25559, number of negative: 25559\n",
      "[LightGBM] [Info] Auto-choosing col-wise multi-threading, the overhead of testing was 0.025353 seconds.\n",
      "You can set `force_col_wise=true` to remove the overhead.\n",
      "[LightGBM] [Info] Total Bins 6823\n",
      "[LightGBM] [Info] Number of data points in the train set: 51118, number of used features: 32\n",
      "[LightGBM] [Info] [binary:BoostFromScore]: pavg=0.500000 -> initscore=0.000000\n",
      "[LightGBM] [Info] Number of positive: 25559, number of negative: 25559\n",
      "[LightGBM] [Info] Auto-choosing col-wise multi-threading, the overhead of testing was 0.026065 seconds.\n",
      "You can set `force_col_wise=true` to remove the overhead.\n",
      "[LightGBM] [Info] Total Bins 6433\n",
      "[LightGBM] [Info] Number of data points in the train set: 51118, number of used features: 32\n",
      "[LightGBM] [Info] [binary:BoostFromScore]: pavg=0.500000 -> initscore=0.000000\n"
     ]
    },
    {
     "name": "stderr",
     "output_type": "stream",
     "text": [
      "[I 2024-03-24 10:10:44,494] Trial 17 finished with value: 0.5835003809670019 and parameters: {'max_depth': 18, 'n_estimators': 700, 'subsample': 0.7, 'colsample_bytree': 0.7, 'reg_alpha': 0.15000000000000002, 'reg_lambda': 0.125, 'num_leaves': 20, 'learning_rate': 0.05, 'subsample_for_bin': 270128}. Best is trial 1 with value: 0.6005954688814225.\n"
     ]
    },
    {
     "name": "stdout",
     "output_type": "stream",
     "text": [
      "[LightGBM] [Info] Number of positive: 25558, number of negative: 25558\n",
      "[LightGBM] [Info] Auto-choosing row-wise multi-threading, the overhead of testing was 0.019067 seconds.\n",
      "You can set `force_row_wise=true` to remove the overhead.\n",
      "And if memory is not enough, you can set `force_col_wise=true`.\n",
      "[LightGBM] [Info] Total Bins 6804\n",
      "[LightGBM] [Info] Number of data points in the train set: 51116, number of used features: 32\n",
      "[LightGBM] [Info] [binary:BoostFromScore]: pavg=0.500000 -> initscore=0.000000\n",
      "[LightGBM] [Info] Number of positive: 25558, number of negative: 25558\n",
      "[LightGBM] [Info] Auto-choosing row-wise multi-threading, the overhead of testing was 0.018256 seconds.\n",
      "You can set `force_row_wise=true` to remove the overhead.\n",
      "And if memory is not enough, you can set `force_col_wise=true`.\n",
      "[LightGBM] [Info] Total Bins 6802\n",
      "[LightGBM] [Info] Number of data points in the train set: 51116, number of used features: 32\n",
      "[LightGBM] [Info] [binary:BoostFromScore]: pavg=0.500000 -> initscore=0.000000\n",
      "[LightGBM] [Info] Number of positive: 25558, number of negative: 25558\n",
      "[LightGBM] [Info] Auto-choosing row-wise multi-threading, the overhead of testing was 0.018967 seconds.\n",
      "You can set `force_row_wise=true` to remove the overhead.\n",
      "And if memory is not enough, you can set `force_col_wise=true`.\n",
      "[LightGBM] [Info] Total Bins 6271\n",
      "[LightGBM] [Info] Number of data points in the train set: 51116, number of used features: 32\n",
      "[LightGBM] [Info] [binary:BoostFromScore]: pavg=0.500000 -> initscore=0.000000\n",
      "[LightGBM] [Info] Number of positive: 25559, number of negative: 25559\n",
      "[LightGBM] [Info] Auto-choosing row-wise multi-threading, the overhead of testing was 0.024188 seconds.\n",
      "You can set `force_row_wise=true` to remove the overhead.\n",
      "And if memory is not enough, you can set `force_col_wise=true`.\n",
      "[LightGBM] [Info] Total Bins 6823\n",
      "[LightGBM] [Info] Number of data points in the train set: 51118, number of used features: 32\n",
      "[LightGBM] [Info] [binary:BoostFromScore]: pavg=0.500000 -> initscore=0.000000\n",
      "[LightGBM] [Info] Number of positive: 25559, number of negative: 25559\n",
      "[LightGBM] [Info] Auto-choosing col-wise multi-threading, the overhead of testing was 0.026257 seconds.\n",
      "You can set `force_col_wise=true` to remove the overhead.\n",
      "[LightGBM] [Info] Total Bins 6433\n",
      "[LightGBM] [Info] Number of data points in the train set: 51118, number of used features: 32\n",
      "[LightGBM] [Info] [binary:BoostFromScore]: pavg=0.500000 -> initscore=0.000000\n"
     ]
    },
    {
     "name": "stderr",
     "output_type": "stream",
     "text": [
      "[I 2024-03-24 10:11:04,738] Trial 18 finished with value: 0.5855040962013089 and parameters: {'max_depth': 9, 'n_estimators': 400, 'subsample': 0.6, 'colsample_bytree': 0.9, 'reg_alpha': 0.17500000000000002, 'reg_lambda': 0.07500000000000001, 'num_leaves': 14, 'learning_rate': 0.1, 'subsample_for_bin': 211216}. Best is trial 1 with value: 0.6005954688814225.\n"
     ]
    },
    {
     "name": "stdout",
     "output_type": "stream",
     "text": [
      "[LightGBM] [Info] Number of positive: 25558, number of negative: 25558\n",
      "[LightGBM] [Info] Auto-choosing row-wise multi-threading, the overhead of testing was 0.020316 seconds.\n",
      "You can set `force_row_wise=true` to remove the overhead.\n",
      "And if memory is not enough, you can set `force_col_wise=true`.\n",
      "[LightGBM] [Info] Total Bins 6804\n",
      "[LightGBM] [Info] Number of data points in the train set: 51116, number of used features: 32\n",
      "[LightGBM] [Info] [binary:BoostFromScore]: pavg=0.500000 -> initscore=0.000000\n",
      "[LightGBM] [Info] Number of positive: 25558, number of negative: 25558\n",
      "[LightGBM] [Info] Auto-choosing row-wise multi-threading, the overhead of testing was 0.018493 seconds.\n",
      "You can set `force_row_wise=true` to remove the overhead.\n",
      "And if memory is not enough, you can set `force_col_wise=true`.\n",
      "[LightGBM] [Info] Total Bins 6802\n",
      "[LightGBM] [Info] Number of data points in the train set: 51116, number of used features: 32\n",
      "[LightGBM] [Info] [binary:BoostFromScore]: pavg=0.500000 -> initscore=0.000000\n",
      "[LightGBM] [Info] Number of positive: 25558, number of negative: 25558\n",
      "[LightGBM] [Info] Auto-choosing row-wise multi-threading, the overhead of testing was 0.019623 seconds.\n",
      "You can set `force_row_wise=true` to remove the overhead.\n",
      "And if memory is not enough, you can set `force_col_wise=true`.\n",
      "[LightGBM] [Info] Total Bins 6271\n",
      "[LightGBM] [Info] Number of data points in the train set: 51116, number of used features: 32\n",
      "[LightGBM] [Info] [binary:BoostFromScore]: pavg=0.500000 -> initscore=0.000000\n",
      "[LightGBM] [Info] Number of positive: 25559, number of negative: 25559\n",
      "[LightGBM] [Info] Auto-choosing row-wise multi-threading, the overhead of testing was 0.019426 seconds.\n",
      "You can set `force_row_wise=true` to remove the overhead.\n",
      "And if memory is not enough, you can set `force_col_wise=true`.\n",
      "[LightGBM] [Info] Total Bins 6823\n",
      "[LightGBM] [Info] Number of data points in the train set: 51118, number of used features: 32\n",
      "[LightGBM] [Info] [binary:BoostFromScore]: pavg=0.500000 -> initscore=0.000000\n",
      "[LightGBM] [Info] Number of positive: 25559, number of negative: 25559\n",
      "[LightGBM] [Info] Auto-choosing row-wise multi-threading, the overhead of testing was 0.019393 seconds.\n",
      "You can set `force_row_wise=true` to remove the overhead.\n",
      "And if memory is not enough, you can set `force_col_wise=true`.\n",
      "[LightGBM] [Info] Total Bins 6433\n",
      "[LightGBM] [Info] Number of data points in the train set: 51118, number of used features: 32\n",
      "[LightGBM] [Info] [binary:BoostFromScore]: pavg=0.500000 -> initscore=0.000000\n"
     ]
    },
    {
     "name": "stderr",
     "output_type": "stream",
     "text": [
      "[I 2024-03-24 10:11:16,987] Trial 19 finished with value: 0.5877661990121901 and parameters: {'max_depth': 18, 'n_estimators': 200, 'subsample': 0.6, 'colsample_bytree': 1.0, 'reg_alpha': 0.2, 'reg_lambda': 0.1, 'num_leaves': 26, 'learning_rate': 0.2, 'subsample_for_bin': 348336}. Best is trial 1 with value: 0.6005954688814225.\n"
     ]
    },
    {
     "name": "stdout",
     "output_type": "stream",
     "text": [
      "[LightGBM] [Info] Number of positive: 25558, number of negative: 25558\n",
      "[LightGBM] [Info] Auto-choosing row-wise multi-threading, the overhead of testing was 0.018938 seconds.\n",
      "You can set `force_row_wise=true` to remove the overhead.\n",
      "And if memory is not enough, you can set `force_col_wise=true`.\n",
      "[LightGBM] [Info] Total Bins 6804\n",
      "[LightGBM] [Info] Number of data points in the train set: 51116, number of used features: 32\n",
      "[LightGBM] [Info] [binary:BoostFromScore]: pavg=0.500000 -> initscore=0.000000\n",
      "[LightGBM] [Info] Number of positive: 25558, number of negative: 25558\n",
      "[LightGBM] [Info] Auto-choosing col-wise multi-threading, the overhead of testing was 0.026337 seconds.\n",
      "You can set `force_col_wise=true` to remove the overhead.\n",
      "[LightGBM] [Info] Total Bins 6802\n",
      "[LightGBM] [Info] Number of data points in the train set: 51116, number of used features: 32\n",
      "[LightGBM] [Info] [binary:BoostFromScore]: pavg=0.500000 -> initscore=0.000000\n",
      "[LightGBM] [Info] Number of positive: 25558, number of negative: 25558\n",
      "[LightGBM] [Info] Auto-choosing row-wise multi-threading, the overhead of testing was 0.019561 seconds.\n",
      "You can set `force_row_wise=true` to remove the overhead.\n",
      "And if memory is not enough, you can set `force_col_wise=true`.\n",
      "[LightGBM] [Info] Total Bins 6271\n",
      "[LightGBM] [Info] Number of data points in the train set: 51116, number of used features: 32\n",
      "[LightGBM] [Info] [binary:BoostFromScore]: pavg=0.500000 -> initscore=0.000000\n",
      "[LightGBM] [Info] Number of positive: 25559, number of negative: 25559\n",
      "[LightGBM] [Info] Auto-choosing row-wise multi-threading, the overhead of testing was 0.019406 seconds.\n",
      "You can set `force_row_wise=true` to remove the overhead.\n",
      "And if memory is not enough, you can set `force_col_wise=true`.\n",
      "[LightGBM] [Info] Total Bins 6823\n",
      "[LightGBM] [Info] Number of data points in the train set: 51118, number of used features: 32\n",
      "[LightGBM] [Info] [binary:BoostFromScore]: pavg=0.500000 -> initscore=0.000000\n",
      "[LightGBM] [Info] Number of positive: 25559, number of negative: 25559\n",
      "[LightGBM] [Info] Auto-choosing row-wise multi-threading, the overhead of testing was 0.020187 seconds.\n",
      "You can set `force_row_wise=true` to remove the overhead.\n",
      "And if memory is not enough, you can set `force_col_wise=true`.\n",
      "[LightGBM] [Info] Total Bins 6433\n",
      "[LightGBM] [Info] Number of data points in the train set: 51118, number of used features: 32\n",
      "[LightGBM] [Info] [binary:BoostFromScore]: pavg=0.500000 -> initscore=0.000000\n"
     ]
    },
    {
     "name": "stderr",
     "output_type": "stream",
     "text": [
      "[I 2024-03-24 10:11:43,686] Trial 20 finished with value: 0.5967889692202987 and parameters: {'max_depth': 15, 'n_estimators': 400, 'subsample': 0.7, 'colsample_bytree': 0.8, 'reg_alpha': 0.07500000000000001, 'reg_lambda': 0.05, 'num_leaves': 32, 'learning_rate': 0.05, 'subsample_for_bin': 398784}. Best is trial 1 with value: 0.6005954688814225.\n"
     ]
    },
    {
     "name": "stdout",
     "output_type": "stream",
     "text": [
      "[LightGBM] [Info] Number of positive: 25558, number of negative: 25558\n",
      "[LightGBM] [Info] Auto-choosing row-wise multi-threading, the overhead of testing was 0.019365 seconds.\n",
      "You can set `force_row_wise=true` to remove the overhead.\n",
      "And if memory is not enough, you can set `force_col_wise=true`.\n",
      "[LightGBM] [Info] Total Bins 6804\n",
      "[LightGBM] [Info] Number of data points in the train set: 51116, number of used features: 32\n",
      "[LightGBM] [Info] [binary:BoostFromScore]: pavg=0.500000 -> initscore=0.000000\n",
      "[LightGBM] [Info] Number of positive: 25558, number of negative: 25558\n",
      "[LightGBM] [Info] Auto-choosing row-wise multi-threading, the overhead of testing was 0.019500 seconds.\n",
      "You can set `force_row_wise=true` to remove the overhead.\n",
      "And if memory is not enough, you can set `force_col_wise=true`.\n",
      "[LightGBM] [Info] Total Bins 6802\n",
      "[LightGBM] [Info] Number of data points in the train set: 51116, number of used features: 32\n",
      "[LightGBM] [Info] [binary:BoostFromScore]: pavg=0.500000 -> initscore=0.000000\n",
      "[LightGBM] [Info] Number of positive: 25558, number of negative: 25558\n",
      "[LightGBM] [Info] Auto-choosing row-wise multi-threading, the overhead of testing was 0.020014 seconds.\n",
      "You can set `force_row_wise=true` to remove the overhead.\n",
      "And if memory is not enough, you can set `force_col_wise=true`.\n",
      "[LightGBM] [Info] Total Bins 6271\n",
      "[LightGBM] [Info] Number of data points in the train set: 51116, number of used features: 32\n",
      "[LightGBM] [Info] [binary:BoostFromScore]: pavg=0.500000 -> initscore=0.000000\n",
      "[LightGBM] [Info] Number of positive: 25559, number of negative: 25559\n",
      "[LightGBM] [Info] Auto-choosing row-wise multi-threading, the overhead of testing was 0.021367 seconds.\n",
      "You can set `force_row_wise=true` to remove the overhead.\n",
      "And if memory is not enough, you can set `force_col_wise=true`.\n",
      "[LightGBM] [Info] Total Bins 6823\n",
      "[LightGBM] [Info] Number of data points in the train set: 51118, number of used features: 32\n",
      "[LightGBM] [Info] [binary:BoostFromScore]: pavg=0.500000 -> initscore=0.000000\n",
      "[LightGBM] [Info] Number of positive: 25559, number of negative: 25559\n",
      "[LightGBM] [Info] Auto-choosing row-wise multi-threading, the overhead of testing was 0.019126 seconds.\n",
      "You can set `force_row_wise=true` to remove the overhead.\n",
      "And if memory is not enough, you can set `force_col_wise=true`.\n",
      "[LightGBM] [Info] Total Bins 6433\n",
      "[LightGBM] [Info] Number of data points in the train set: 51118, number of used features: 32\n",
      "[LightGBM] [Info] [binary:BoostFromScore]: pavg=0.500000 -> initscore=0.000000\n"
     ]
    },
    {
     "name": "stderr",
     "output_type": "stream",
     "text": [
      "[I 2024-03-24 10:11:55,323] Trial 21 finished with value: 0.5926051053958783 and parameters: {'max_depth': 19, 'n_estimators': 200, 'subsample': 0.9, 'colsample_bytree': 1.0, 'reg_alpha': 0.07500000000000001, 'reg_lambda': 0.17500000000000002, 'num_leaves': 16, 'learning_rate': 0.15000000000000002, 'subsample_for_bin': 320672}. Best is trial 1 with value: 0.6005954688814225.\n"
     ]
    },
    {
     "name": "stdout",
     "output_type": "stream",
     "text": [
      "[LightGBM] [Info] Number of positive: 25558, number of negative: 25558\n",
      "[LightGBM] [Info] Auto-choosing row-wise multi-threading, the overhead of testing was 0.019828 seconds.\n",
      "You can set `force_row_wise=true` to remove the overhead.\n",
      "And if memory is not enough, you can set `force_col_wise=true`.\n",
      "[LightGBM] [Info] Total Bins 6804\n",
      "[LightGBM] [Info] Number of data points in the train set: 51116, number of used features: 32\n",
      "[LightGBM] [Info] [binary:BoostFromScore]: pavg=0.500000 -> initscore=0.000000\n",
      "[LightGBM] [Info] Number of positive: 25558, number of negative: 25558\n",
      "[LightGBM] [Info] Auto-choosing row-wise multi-threading, the overhead of testing was 0.018725 seconds.\n",
      "You can set `force_row_wise=true` to remove the overhead.\n",
      "And if memory is not enough, you can set `force_col_wise=true`.\n",
      "[LightGBM] [Info] Total Bins 6802\n",
      "[LightGBM] [Info] Number of data points in the train set: 51116, number of used features: 32\n",
      "[LightGBM] [Info] [binary:BoostFromScore]: pavg=0.500000 -> initscore=0.000000\n",
      "[LightGBM] [Info] Number of positive: 25558, number of negative: 25558\n",
      "[LightGBM] [Info] Auto-choosing row-wise multi-threading, the overhead of testing was 0.024919 seconds.\n",
      "You can set `force_row_wise=true` to remove the overhead.\n",
      "And if memory is not enough, you can set `force_col_wise=true`.\n",
      "[LightGBM] [Info] Total Bins 6271\n",
      "[LightGBM] [Info] Number of data points in the train set: 51116, number of used features: 32\n",
      "[LightGBM] [Info] [binary:BoostFromScore]: pavg=0.500000 -> initscore=0.000000\n",
      "[LightGBM] [Info] Number of positive: 25559, number of negative: 25559\n",
      "[LightGBM] [Info] Auto-choosing row-wise multi-threading, the overhead of testing was 0.019228 seconds.\n",
      "You can set `force_row_wise=true` to remove the overhead.\n",
      "And if memory is not enough, you can set `force_col_wise=true`.\n",
      "[LightGBM] [Info] Total Bins 6823\n",
      "[LightGBM] [Info] Number of data points in the train set: 51118, number of used features: 32\n",
      "[LightGBM] [Info] [binary:BoostFromScore]: pavg=0.500000 -> initscore=0.000000\n",
      "[LightGBM] [Info] Number of positive: 25559, number of negative: 25559\n",
      "[LightGBM] [Info] Auto-choosing row-wise multi-threading, the overhead of testing was 0.019412 seconds.\n",
      "You can set `force_row_wise=true` to remove the overhead.\n",
      "And if memory is not enough, you can set `force_col_wise=true`.\n",
      "[LightGBM] [Info] Total Bins 6433\n",
      "[LightGBM] [Info] Number of data points in the train set: 51118, number of used features: 32\n",
      "[LightGBM] [Info] [binary:BoostFromScore]: pavg=0.500000 -> initscore=0.000000\n"
     ]
    },
    {
     "name": "stderr",
     "output_type": "stream",
     "text": [
      "[I 2024-03-24 10:12:06,623] Trial 22 finished with value: 0.5831420255696614 and parameters: {'max_depth': 19, 'n_estimators': 200, 'subsample': 1.0, 'colsample_bytree': 1.0, 'reg_alpha': 0.125, 'reg_lambda': 0.125, 'num_leaves': 14, 'learning_rate': 0.2, 'subsample_for_bin': 273056}. Best is trial 1 with value: 0.6005954688814225.\n"
     ]
    },
    {
     "name": "stdout",
     "output_type": "stream",
     "text": [
      "[LightGBM] [Info] Number of positive: 25558, number of negative: 25558\n",
      "[LightGBM] [Info] Auto-choosing row-wise multi-threading, the overhead of testing was 0.020107 seconds.\n",
      "You can set `force_row_wise=true` to remove the overhead.\n",
      "And if memory is not enough, you can set `force_col_wise=true`.\n",
      "[LightGBM] [Info] Total Bins 6804\n",
      "[LightGBM] [Info] Number of data points in the train set: 51116, number of used features: 32\n",
      "[LightGBM] [Info] [binary:BoostFromScore]: pavg=0.500000 -> initscore=0.000000\n",
      "[LightGBM] [Info] Number of positive: 25558, number of negative: 25558\n",
      "[LightGBM] [Info] Auto-choosing col-wise multi-threading, the overhead of testing was 0.025304 seconds.\n",
      "You can set `force_col_wise=true` to remove the overhead.\n",
      "[LightGBM] [Info] Total Bins 6802\n",
      "[LightGBM] [Info] Number of data points in the train set: 51116, number of used features: 32\n",
      "[LightGBM] [Info] [binary:BoostFromScore]: pavg=0.500000 -> initscore=0.000000\n",
      "[LightGBM] [Info] Number of positive: 25558, number of negative: 25558\n",
      "[LightGBM] [Info] Auto-choosing row-wise multi-threading, the overhead of testing was 0.019766 seconds.\n",
      "You can set `force_row_wise=true` to remove the overhead.\n",
      "And if memory is not enough, you can set `force_col_wise=true`.\n",
      "[LightGBM] [Info] Total Bins 6271\n",
      "[LightGBM] [Info] Number of data points in the train set: 51116, number of used features: 32\n",
      "[LightGBM] [Info] [binary:BoostFromScore]: pavg=0.500000 -> initscore=0.000000\n",
      "[LightGBM] [Info] Number of positive: 25559, number of negative: 25559\n",
      "[LightGBM] [Info] Auto-choosing row-wise multi-threading, the overhead of testing was 0.019679 seconds.\n",
      "You can set `force_row_wise=true` to remove the overhead.\n",
      "And if memory is not enough, you can set `force_col_wise=true`.\n",
      "[LightGBM] [Info] Total Bins 6823\n",
      "[LightGBM] [Info] Number of data points in the train set: 51118, number of used features: 32\n",
      "[LightGBM] [Info] [binary:BoostFromScore]: pavg=0.500000 -> initscore=0.000000\n",
      "[LightGBM] [Info] Number of positive: 25559, number of negative: 25559\n",
      "[LightGBM] [Info] Auto-choosing row-wise multi-threading, the overhead of testing was 0.019355 seconds.\n",
      "You can set `force_row_wise=true` to remove the overhead.\n",
      "And if memory is not enough, you can set `force_col_wise=true`.\n",
      "[LightGBM] [Info] Total Bins 6433\n",
      "[LightGBM] [Info] Number of data points in the train set: 51118, number of used features: 32\n",
      "[LightGBM] [Info] [binary:BoostFromScore]: pavg=0.500000 -> initscore=0.000000\n"
     ]
    },
    {
     "name": "stderr",
     "output_type": "stream",
     "text": [
      "[I 2024-03-24 10:12:14,227] Trial 23 finished with value: 0.5980561360707217 and parameters: {'max_depth': 16, 'n_estimators': 100, 'subsample': 0.9, 'colsample_bytree': 0.9, 'reg_alpha': 0.0, 'reg_lambda': 0.125, 'num_leaves': 16, 'learning_rate': 0.1, 'subsample_for_bin': 341312}. Best is trial 1 with value: 0.6005954688814225.\n"
     ]
    },
    {
     "name": "stdout",
     "output_type": "stream",
     "text": [
      "[LightGBM] [Info] Number of positive: 25558, number of negative: 25558\n",
      "[LightGBM] [Info] Auto-choosing row-wise multi-threading, the overhead of testing was 0.019175 seconds.\n",
      "You can set `force_row_wise=true` to remove the overhead.\n",
      "And if memory is not enough, you can set `force_col_wise=true`.\n",
      "[LightGBM] [Info] Total Bins 6804\n",
      "[LightGBM] [Info] Number of data points in the train set: 51116, number of used features: 32\n",
      "[LightGBM] [Info] [binary:BoostFromScore]: pavg=0.500000 -> initscore=0.000000\n",
      "[LightGBM] [Info] Number of positive: 25558, number of negative: 25558\n",
      "[LightGBM] [Info] Auto-choosing row-wise multi-threading, the overhead of testing was 0.018711 seconds.\n",
      "You can set `force_row_wise=true` to remove the overhead.\n",
      "And if memory is not enough, you can set `force_col_wise=true`.\n",
      "[LightGBM] [Info] Total Bins 6802\n",
      "[LightGBM] [Info] Number of data points in the train set: 51116, number of used features: 32\n",
      "[LightGBM] [Info] [binary:BoostFromScore]: pavg=0.500000 -> initscore=0.000000\n",
      "[LightGBM] [Info] Number of positive: 25558, number of negative: 25558\n",
      "[LightGBM] [Info] Auto-choosing row-wise multi-threading, the overhead of testing was 0.019699 seconds.\n",
      "You can set `force_row_wise=true` to remove the overhead.\n",
      "And if memory is not enough, you can set `force_col_wise=true`.\n",
      "[LightGBM] [Info] Total Bins 6271\n",
      "[LightGBM] [Info] Number of data points in the train set: 51116, number of used features: 32\n",
      "[LightGBM] [Info] [binary:BoostFromScore]: pavg=0.500000 -> initscore=0.000000\n",
      "[LightGBM] [Info] Number of positive: 25559, number of negative: 25559\n",
      "[LightGBM] [Info] Auto-choosing row-wise multi-threading, the overhead of testing was 0.019856 seconds.\n",
      "You can set `force_row_wise=true` to remove the overhead.\n",
      "And if memory is not enough, you can set `force_col_wise=true`.\n",
      "[LightGBM] [Info] Total Bins 6823\n",
      "[LightGBM] [Info] Number of data points in the train set: 51118, number of used features: 32\n",
      "[LightGBM] [Info] [binary:BoostFromScore]: pavg=0.500000 -> initscore=0.000000\n",
      "[LightGBM] [Info] Number of positive: 25559, number of negative: 25559\n",
      "[LightGBM] [Info] Auto-choosing row-wise multi-threading, the overhead of testing was 0.019607 seconds.\n",
      "You can set `force_row_wise=true` to remove the overhead.\n",
      "And if memory is not enough, you can set `force_col_wise=true`.\n",
      "[LightGBM] [Info] Total Bins 6433\n",
      "[LightGBM] [Info] Number of data points in the train set: 51118, number of used features: 32\n",
      "[LightGBM] [Info] [binary:BoostFromScore]: pavg=0.500000 -> initscore=0.000000\n"
     ]
    },
    {
     "name": "stderr",
     "output_type": "stream",
     "text": [
      "[I 2024-03-24 10:12:26,488] Trial 24 finished with value: 0.5957667128946297 and parameters: {'max_depth': 16, 'n_estimators': 200, 'subsample': 0.9, 'colsample_bytree': 0.9, 'reg_alpha': 0.0, 'reg_lambda': 0.125, 'num_leaves': 20, 'learning_rate': 0.1, 'subsample_for_bin': 341376}. Best is trial 1 with value: 0.6005954688814225.\n"
     ]
    },
    {
     "name": "stdout",
     "output_type": "stream",
     "text": [
      "[LightGBM] [Info] Number of positive: 25558, number of negative: 25558\n",
      "[LightGBM] [Info] Auto-choosing row-wise multi-threading, the overhead of testing was 0.019845 seconds.\n",
      "You can set `force_row_wise=true` to remove the overhead.\n",
      "And if memory is not enough, you can set `force_col_wise=true`.\n",
      "[LightGBM] [Info] Total Bins 6804\n",
      "[LightGBM] [Info] Number of data points in the train set: 51116, number of used features: 32\n",
      "[LightGBM] [Info] [binary:BoostFromScore]: pavg=0.500000 -> initscore=0.000000\n",
      "[LightGBM] [Info] Number of positive: 25558, number of negative: 25558\n",
      "[LightGBM] [Info] Auto-choosing row-wise multi-threading, the overhead of testing was 0.018282 seconds.\n",
      "You can set `force_row_wise=true` to remove the overhead.\n",
      "And if memory is not enough, you can set `force_col_wise=true`.\n",
      "[LightGBM] [Info] Total Bins 6802\n",
      "[LightGBM] [Info] Number of data points in the train set: 51116, number of used features: 32\n",
      "[LightGBM] [Info] [binary:BoostFromScore]: pavg=0.500000 -> initscore=0.000000\n",
      "[LightGBM] [Info] Number of positive: 25558, number of negative: 25558\n",
      "[LightGBM] [Info] Auto-choosing row-wise multi-threading, the overhead of testing was 0.018965 seconds.\n",
      "You can set `force_row_wise=true` to remove the overhead.\n",
      "And if memory is not enough, you can set `force_col_wise=true`.\n",
      "[LightGBM] [Info] Total Bins 6271\n",
      "[LightGBM] [Info] Number of data points in the train set: 51116, number of used features: 32\n",
      "[LightGBM] [Info] [binary:BoostFromScore]: pavg=0.500000 -> initscore=0.000000\n",
      "[LightGBM] [Info] Number of positive: 25559, number of negative: 25559\n",
      "[LightGBM] [Info] Auto-choosing row-wise multi-threading, the overhead of testing was 0.019416 seconds.\n",
      "You can set `force_row_wise=true` to remove the overhead.\n",
      "And if memory is not enough, you can set `force_col_wise=true`.\n",
      "[LightGBM] [Info] Total Bins 6823\n",
      "[LightGBM] [Info] Number of data points in the train set: 51118, number of used features: 32\n",
      "[LightGBM] [Info] [binary:BoostFromScore]: pavg=0.500000 -> initscore=0.000000\n",
      "[LightGBM] [Info] Number of positive: 25559, number of negative: 25559\n",
      "[LightGBM] [Info] Auto-choosing row-wise multi-threading, the overhead of testing was 0.018703 seconds.\n",
      "You can set `force_row_wise=true` to remove the overhead.\n",
      "And if memory is not enough, you can set `force_col_wise=true`.\n",
      "[LightGBM] [Info] Total Bins 6433\n",
      "[LightGBM] [Info] Number of data points in the train set: 51118, number of used features: 32\n",
      "[LightGBM] [Info] [binary:BoostFromScore]: pavg=0.500000 -> initscore=0.000000\n"
     ]
    },
    {
     "name": "stderr",
     "output_type": "stream",
     "text": [
      "[I 2024-03-24 10:12:45,658] Trial 25 finished with value: 0.5977217683193257 and parameters: {'max_depth': 16, 'n_estimators': 400, 'subsample': 0.8, 'colsample_bytree': 0.8, 'reg_alpha': 0.0, 'reg_lambda': 0.17500000000000002, 'num_leaves': 12, 'learning_rate': 0.05, 'subsample_for_bin': 305664}. Best is trial 1 with value: 0.6005954688814225.\n"
     ]
    },
    {
     "name": "stdout",
     "output_type": "stream",
     "text": [
      "[LightGBM] [Info] Number of positive: 25558, number of negative: 25558\n",
      "[LightGBM] [Info] Auto-choosing row-wise multi-threading, the overhead of testing was 0.018749 seconds.\n",
      "You can set `force_row_wise=true` to remove the overhead.\n",
      "And if memory is not enough, you can set `force_col_wise=true`.\n",
      "[LightGBM] [Info] Total Bins 6804\n",
      "[LightGBM] [Info] Number of data points in the train set: 51116, number of used features: 32\n",
      "[LightGBM] [Info] [binary:BoostFromScore]: pavg=0.500000 -> initscore=0.000000\n",
      "[LightGBM] [Info] Number of positive: 25558, number of negative: 25558\n",
      "[LightGBM] [Info] Auto-choosing row-wise multi-threading, the overhead of testing was 0.018359 seconds.\n",
      "You can set `force_row_wise=true` to remove the overhead.\n",
      "And if memory is not enough, you can set `force_col_wise=true`.\n",
      "[LightGBM] [Info] Total Bins 6802\n",
      "[LightGBM] [Info] Number of data points in the train set: 51116, number of used features: 32\n",
      "[LightGBM] [Info] [binary:BoostFromScore]: pavg=0.500000 -> initscore=0.000000\n",
      "[LightGBM] [Info] Number of positive: 25558, number of negative: 25558\n",
      "[LightGBM] [Info] Auto-choosing row-wise multi-threading, the overhead of testing was 0.019062 seconds.\n",
      "You can set `force_row_wise=true` to remove the overhead.\n",
      "And if memory is not enough, you can set `force_col_wise=true`.\n",
      "[LightGBM] [Info] Total Bins 6271\n",
      "[LightGBM] [Info] Number of data points in the train set: 51116, number of used features: 32\n",
      "[LightGBM] [Info] [binary:BoostFromScore]: pavg=0.500000 -> initscore=0.000000\n",
      "[LightGBM] [Info] Number of positive: 25559, number of negative: 25559\n",
      "[LightGBM] [Info] Auto-choosing row-wise multi-threading, the overhead of testing was 0.018941 seconds.\n",
      "You can set `force_row_wise=true` to remove the overhead.\n",
      "And if memory is not enough, you can set `force_col_wise=true`.\n",
      "[LightGBM] [Info] Total Bins 6823\n",
      "[LightGBM] [Info] Number of data points in the train set: 51118, number of used features: 32\n",
      "[LightGBM] [Info] [binary:BoostFromScore]: pavg=0.500000 -> initscore=0.000000\n",
      "[LightGBM] [Info] Number of positive: 25559, number of negative: 25559\n",
      "[LightGBM] [Info] Auto-choosing row-wise multi-threading, the overhead of testing was 0.018684 seconds.\n",
      "You can set `force_row_wise=true` to remove the overhead.\n",
      "And if memory is not enough, you can set `force_col_wise=true`.\n",
      "[LightGBM] [Info] Total Bins 6433\n",
      "[LightGBM] [Info] Number of data points in the train set: 51118, number of used features: 32\n",
      "[LightGBM] [Info] [binary:BoostFromScore]: pavg=0.500000 -> initscore=0.000000\n"
     ]
    },
    {
     "name": "stderr",
     "output_type": "stream",
     "text": [
      "[I 2024-03-24 10:13:12,666] Trial 26 finished with value: 0.5865698290786734 and parameters: {'max_depth': 14, 'n_estimators': 600, 'subsample': 0.7, 'colsample_bytree': 0.9, 'reg_alpha': 0.05, 'reg_lambda': 0.07500000000000001, 'num_leaves': 16, 'learning_rate': 0.1, 'subsample_for_bin': 277600}. Best is trial 1 with value: 0.6005954688814225.\n"
     ]
    },
    {
     "name": "stdout",
     "output_type": "stream",
     "text": [
      "[LightGBM] [Info] Number of positive: 25558, number of negative: 25558\n",
      "[LightGBM] [Info] Auto-choosing col-wise multi-threading, the overhead of testing was 0.024902 seconds.\n",
      "You can set `force_col_wise=true` to remove the overhead.\n",
      "[LightGBM] [Info] Total Bins 6804\n",
      "[LightGBM] [Info] Number of data points in the train set: 51116, number of used features: 32\n",
      "[LightGBM] [Info] [binary:BoostFromScore]: pavg=0.500000 -> initscore=0.000000\n",
      "[LightGBM] [Info] Number of positive: 25558, number of negative: 25558\n",
      "[LightGBM] [Info] Auto-choosing col-wise multi-threading, the overhead of testing was 0.023745 seconds.\n",
      "You can set `force_col_wise=true` to remove the overhead.\n",
      "[LightGBM] [Info] Total Bins 6802\n",
      "[LightGBM] [Info] Number of data points in the train set: 51116, number of used features: 32\n",
      "[LightGBM] [Info] [binary:BoostFromScore]: pavg=0.500000 -> initscore=0.000000\n",
      "[LightGBM] [Info] Number of positive: 25558, number of negative: 25558\n",
      "[LightGBM] [Info] Auto-choosing col-wise multi-threading, the overhead of testing was 0.025356 seconds.\n",
      "You can set `force_col_wise=true` to remove the overhead.\n",
      "[LightGBM] [Info] Total Bins 6271\n",
      "[LightGBM] [Info] Number of data points in the train set: 51116, number of used features: 32\n",
      "[LightGBM] [Info] [binary:BoostFromScore]: pavg=0.500000 -> initscore=0.000000\n",
      "[LightGBM] [Info] Number of positive: 25559, number of negative: 25559\n",
      "[LightGBM] [Info] Auto-choosing col-wise multi-threading, the overhead of testing was 0.025327 seconds.\n",
      "You can set `force_col_wise=true` to remove the overhead.\n",
      "[LightGBM] [Info] Total Bins 6823\n",
      "[LightGBM] [Info] Number of data points in the train set: 51118, number of used features: 32\n",
      "[LightGBM] [Info] [binary:BoostFromScore]: pavg=0.500000 -> initscore=0.000000\n",
      "[LightGBM] [Info] Number of positive: 25559, number of negative: 25559\n",
      "[LightGBM] [Info] Auto-choosing col-wise multi-threading, the overhead of testing was 0.024798 seconds.\n",
      "You can set `force_col_wise=true` to remove the overhead.\n",
      "[LightGBM] [Info] Total Bins 6433\n",
      "[LightGBM] [Info] Number of data points in the train set: 51118, number of used features: 32\n",
      "[LightGBM] [Info] [binary:BoostFromScore]: pavg=0.500000 -> initscore=0.000000\n"
     ]
    },
    {
     "name": "stderr",
     "output_type": "stream",
     "text": [
      "[I 2024-03-24 10:13:47,235] Trial 27 finished with value: 0.5878581275400431 and parameters: {'max_depth': 18, 'n_estimators': 700, 'subsample': 0.9, 'colsample_bytree': 0.7, 'reg_alpha': 0.0, 'reg_lambda': 0.125, 'num_leaves': 22, 'learning_rate': 0.05, 'subsample_for_bin': 311728}. Best is trial 1 with value: 0.6005954688814225.\n"
     ]
    },
    {
     "name": "stdout",
     "output_type": "stream",
     "text": [
      "[LightGBM] [Info] Number of positive: 25558, number of negative: 25558\n",
      "[LightGBM] [Info] Auto-choosing row-wise multi-threading, the overhead of testing was 0.020670 seconds.\n",
      "You can set `force_row_wise=true` to remove the overhead.\n",
      "And if memory is not enough, you can set `force_col_wise=true`.\n",
      "[LightGBM] [Info] Total Bins 6804\n",
      "[LightGBM] [Info] Number of data points in the train set: 51116, number of used features: 32\n",
      "[LightGBM] [Info] [binary:BoostFromScore]: pavg=0.500000 -> initscore=0.000000\n",
      "[LightGBM] [Info] Number of positive: 25558, number of negative: 25558\n",
      "[LightGBM] [Info] Auto-choosing row-wise multi-threading, the overhead of testing was 0.017815 seconds.\n",
      "You can set `force_row_wise=true` to remove the overhead.\n",
      "And if memory is not enough, you can set `force_col_wise=true`.\n",
      "[LightGBM] [Info] Total Bins 6802\n",
      "[LightGBM] [Info] Number of data points in the train set: 51116, number of used features: 32\n",
      "[LightGBM] [Info] [binary:BoostFromScore]: pavg=0.500000 -> initscore=0.000000\n",
      "[LightGBM] [Info] Number of positive: 25558, number of negative: 25558\n",
      "[LightGBM] [Info] Auto-choosing row-wise multi-threading, the overhead of testing was 0.018849 seconds.\n",
      "You can set `force_row_wise=true` to remove the overhead.\n",
      "And if memory is not enough, you can set `force_col_wise=true`.\n",
      "[LightGBM] [Info] Total Bins 6271\n",
      "[LightGBM] [Info] Number of data points in the train set: 51116, number of used features: 32\n",
      "[LightGBM] [Info] [binary:BoostFromScore]: pavg=0.500000 -> initscore=0.000000\n",
      "[LightGBM] [Info] Number of positive: 25559, number of negative: 25559\n",
      "[LightGBM] [Info] Auto-choosing row-wise multi-threading, the overhead of testing was 0.018838 seconds.\n",
      "You can set `force_row_wise=true` to remove the overhead.\n",
      "And if memory is not enough, you can set `force_col_wise=true`.\n",
      "[LightGBM] [Info] Total Bins 6823\n",
      "[LightGBM] [Info] Number of data points in the train set: 51118, number of used features: 32\n",
      "[LightGBM] [Info] [binary:BoostFromScore]: pavg=0.500000 -> initscore=0.000000\n",
      "[LightGBM] [Info] Number of positive: 25559, number of negative: 25559\n",
      "[LightGBM] [Info] Auto-choosing row-wise multi-threading, the overhead of testing was 0.019146 seconds.\n",
      "You can set `force_row_wise=true` to remove the overhead.\n",
      "And if memory is not enough, you can set `force_col_wise=true`.\n",
      "[LightGBM] [Info] Total Bins 6433\n",
      "[LightGBM] [Info] Number of data points in the train set: 51118, number of used features: 32\n",
      "[LightGBM] [Info] [binary:BoostFromScore]: pavg=0.500000 -> initscore=0.000000\n"
     ]
    },
    {
     "name": "stderr",
     "output_type": "stream",
     "text": [
      "[I 2024-03-24 10:13:59,458] Trial 28 finished with value: 0.5913538811916254 and parameters: {'max_depth': 16, 'n_estimators': 200, 'subsample': 0.8, 'colsample_bytree': 0.9, 'reg_alpha': 0.05, 'reg_lambda': 0.025, 'num_leaves': 20, 'learning_rate': 0.1, 'subsample_for_bin': 344944}. Best is trial 1 with value: 0.6005954688814225.\n"
     ]
    },
    {
     "name": "stdout",
     "output_type": "stream",
     "text": [
      "[LightGBM] [Info] Number of positive: 25558, number of negative: 25558\n",
      "[LightGBM] [Info] Auto-choosing row-wise multi-threading, the overhead of testing was 0.018903 seconds.\n",
      "You can set `force_row_wise=true` to remove the overhead.\n",
      "And if memory is not enough, you can set `force_col_wise=true`.\n",
      "[LightGBM] [Info] Total Bins 6804\n",
      "[LightGBM] [Info] Number of data points in the train set: 51116, number of used features: 32\n",
      "[LightGBM] [Info] [binary:BoostFromScore]: pavg=0.500000 -> initscore=0.000000\n",
      "[LightGBM] [Info] Number of positive: 25558, number of negative: 25558\n",
      "[LightGBM] [Info] Auto-choosing col-wise multi-threading, the overhead of testing was 0.025368 seconds.\n",
      "You can set `force_col_wise=true` to remove the overhead.\n",
      "[LightGBM] [Info] Total Bins 6802\n",
      "[LightGBM] [Info] Number of data points in the train set: 51116, number of used features: 32\n",
      "[LightGBM] [Info] [binary:BoostFromScore]: pavg=0.500000 -> initscore=0.000000\n",
      "[LightGBM] [Info] Number of positive: 25558, number of negative: 25558\n",
      "[LightGBM] [Info] Auto-choosing row-wise multi-threading, the overhead of testing was 0.018958 seconds.\n",
      "You can set `force_row_wise=true` to remove the overhead.\n",
      "And if memory is not enough, you can set `force_col_wise=true`.\n",
      "[LightGBM] [Info] Total Bins 6271\n",
      "[LightGBM] [Info] Number of data points in the train set: 51116, number of used features: 32\n",
      "[LightGBM] [Info] [binary:BoostFromScore]: pavg=0.500000 -> initscore=0.000000\n",
      "[LightGBM] [Info] Number of positive: 25559, number of negative: 25559\n",
      "[LightGBM] [Info] Auto-choosing row-wise multi-threading, the overhead of testing was 0.019489 seconds.\n",
      "You can set `force_row_wise=true` to remove the overhead.\n",
      "And if memory is not enough, you can set `force_col_wise=true`.\n",
      "[LightGBM] [Info] Total Bins 6823\n",
      "[LightGBM] [Info] Number of data points in the train set: 51118, number of used features: 32\n",
      "[LightGBM] [Info] [binary:BoostFromScore]: pavg=0.500000 -> initscore=0.000000\n",
      "[LightGBM] [Info] Number of positive: 25559, number of negative: 25559\n",
      "[LightGBM] [Info] Auto-choosing row-wise multi-threading, the overhead of testing was 0.019115 seconds.\n",
      "You can set `force_row_wise=true` to remove the overhead.\n",
      "And if memory is not enough, you can set `force_col_wise=true`.\n",
      "[LightGBM] [Info] Total Bins 6433\n",
      "[LightGBM] [Info] Number of data points in the train set: 51118, number of used features: 32\n",
      "[LightGBM] [Info] [binary:BoostFromScore]: pavg=0.500000 -> initscore=0.000000\n"
     ]
    },
    {
     "name": "stderr",
     "output_type": "stream",
     "text": [
      "[I 2024-03-24 10:14:34,168] Trial 29 finished with value: 0.5739230494559676 and parameters: {'max_depth': 13, 'n_estimators': 900, 'subsample': 1.0, 'colsample_bytree': 0.8, 'reg_alpha': 0.025, 'reg_lambda': 0.025, 'num_leaves': 12, 'learning_rate': 0.15000000000000002, 'subsample_for_bin': 282560}. Best is trial 1 with value: 0.6005954688814225.\n"
     ]
    }
   ],
   "source": [
    "sampler=optuna.samplers.TPESampler(seed=42)\n",
    "study=optuna.create_study(sampler=sampler,direction='maximize')\n",
    "study.optimize(objective,n_trials=30)"
   ]
  },
  {
   "cell_type": "code",
   "execution_count": 24,
   "id": "f0f19794",
   "metadata": {
    "execution": {
     "iopub.execute_input": "2024-03-24T10:14:34.245043Z",
     "iopub.status.busy": "2024-03-24T10:14:34.243830Z",
     "iopub.status.idle": "2024-03-24T10:14:34.253191Z",
     "shell.execute_reply": "2024-03-24T10:14:34.251780Z"
    },
    "papermill": {
     "duration": 0.048016,
     "end_time": "2024-03-24T10:14:34.255855",
     "exception": false,
     "start_time": "2024-03-24T10:14:34.207839",
     "status": "completed"
    },
    "tags": []
   },
   "outputs": [
    {
     "data": {
      "text/plain": [
       "0.6005954688814225"
      ]
     },
     "execution_count": 24,
     "metadata": {},
     "output_type": "execute_result"
    }
   ],
   "source": [
    "study.best_value"
   ]
  },
  {
   "cell_type": "code",
   "execution_count": 25,
   "id": "16b56ec5",
   "metadata": {
    "execution": {
     "iopub.execute_input": "2024-03-24T10:14:34.401864Z",
     "iopub.status.busy": "2024-03-24T10:14:34.401430Z",
     "iopub.status.idle": "2024-03-24T10:14:34.409674Z",
     "shell.execute_reply": "2024-03-24T10:14:34.408436Z"
    },
    "papermill": {
     "duration": 0.043426,
     "end_time": "2024-03-24T10:14:34.411660",
     "exception": false,
     "start_time": "2024-03-24T10:14:34.368234",
     "status": "completed"
    },
    "tags": []
   },
   "outputs": [
    {
     "data": {
      "text/plain": [
       "{'max_depth': 16,\n",
       " 'n_estimators': 100,\n",
       " 'subsample': 1.0,\n",
       " 'colsample_bytree': 0.9,\n",
       " 'reg_alpha': 0.025,\n",
       " 'reg_lambda': 0.025,\n",
       " 'num_leaves': 16,\n",
       " 'learning_rate': 0.1,\n",
       " 'subsample_for_bin': 304944,\n",
       " 'random_state': 42,\n",
       " 'n_jobs': -1}"
      ]
     },
     "execution_count": 25,
     "metadata": {},
     "output_type": "execute_result"
    }
   ],
   "source": [
    "best_params=study.best_params\n",
    "best_params['random_state']=42\n",
    "best_params['n_jobs']=-1\n",
    "best_params"
   ]
  },
  {
   "cell_type": "code",
   "execution_count": 26,
   "id": "eb2e647c",
   "metadata": {
    "execution": {
     "iopub.execute_input": "2024-03-24T10:14:34.478253Z",
     "iopub.status.busy": "2024-03-24T10:14:34.477875Z",
     "iopub.status.idle": "2024-03-24T10:14:36.226092Z",
     "shell.execute_reply": "2024-03-24T10:14:36.225015Z"
    },
    "papermill": {
     "duration": 1.784038,
     "end_time": "2024-03-24T10:14:36.228698",
     "exception": false,
     "start_time": "2024-03-24T10:14:34.444660",
     "status": "completed"
    },
    "tags": []
   },
   "outputs": [
    {
     "name": "stdout",
     "output_type": "stream",
     "text": [
      "[LightGBM] [Info] Number of positive: 31948, number of negative: 31948\n",
      "[LightGBM] [Info] Auto-choosing row-wise multi-threading, the overhead of testing was 0.023991 seconds.\n",
      "You can set `force_row_wise=true` to remove the overhead.\n",
      "And if memory is not enough, you can set `force_col_wise=true`.\n",
      "[LightGBM] [Info] Total Bins 6999\n",
      "[LightGBM] [Info] Number of data points in the train set: 63896, number of used features: 32\n",
      "[LightGBM] [Info] [binary:BoostFromScore]: pavg=0.500000 -> initscore=0.000000\n"
     ]
    },
    {
     "data": {
      "text/html": [
       "<style>#sk-container-id-1 {color: black;background-color: white;}#sk-container-id-1 pre{padding: 0;}#sk-container-id-1 div.sk-toggleable {background-color: white;}#sk-container-id-1 label.sk-toggleable__label {cursor: pointer;display: block;width: 100%;margin-bottom: 0;padding: 0.3em;box-sizing: border-box;text-align: center;}#sk-container-id-1 label.sk-toggleable__label-arrow:before {content: \"▸\";float: left;margin-right: 0.25em;color: #696969;}#sk-container-id-1 label.sk-toggleable__label-arrow:hover:before {color: black;}#sk-container-id-1 div.sk-estimator:hover label.sk-toggleable__label-arrow:before {color: black;}#sk-container-id-1 div.sk-toggleable__content {max-height: 0;max-width: 0;overflow: hidden;text-align: left;background-color: #f0f8ff;}#sk-container-id-1 div.sk-toggleable__content pre {margin: 0.2em;color: black;border-radius: 0.25em;background-color: #f0f8ff;}#sk-container-id-1 input.sk-toggleable__control:checked~div.sk-toggleable__content {max-height: 200px;max-width: 100%;overflow: auto;}#sk-container-id-1 input.sk-toggleable__control:checked~label.sk-toggleable__label-arrow:before {content: \"▾\";}#sk-container-id-1 div.sk-estimator input.sk-toggleable__control:checked~label.sk-toggleable__label {background-color: #d4ebff;}#sk-container-id-1 div.sk-label input.sk-toggleable__control:checked~label.sk-toggleable__label {background-color: #d4ebff;}#sk-container-id-1 input.sk-hidden--visually {border: 0;clip: rect(1px 1px 1px 1px);clip: rect(1px, 1px, 1px, 1px);height: 1px;margin: -1px;overflow: hidden;padding: 0;position: absolute;width: 1px;}#sk-container-id-1 div.sk-estimator {font-family: monospace;background-color: #f0f8ff;border: 1px dotted black;border-radius: 0.25em;box-sizing: border-box;margin-bottom: 0.5em;}#sk-container-id-1 div.sk-estimator:hover {background-color: #d4ebff;}#sk-container-id-1 div.sk-parallel-item::after {content: \"\";width: 100%;border-bottom: 1px solid gray;flex-grow: 1;}#sk-container-id-1 div.sk-label:hover label.sk-toggleable__label {background-color: #d4ebff;}#sk-container-id-1 div.sk-serial::before {content: \"\";position: absolute;border-left: 1px solid gray;box-sizing: border-box;top: 0;bottom: 0;left: 50%;z-index: 0;}#sk-container-id-1 div.sk-serial {display: flex;flex-direction: column;align-items: center;background-color: white;padding-right: 0.2em;padding-left: 0.2em;position: relative;}#sk-container-id-1 div.sk-item {position: relative;z-index: 1;}#sk-container-id-1 div.sk-parallel {display: flex;align-items: stretch;justify-content: center;background-color: white;position: relative;}#sk-container-id-1 div.sk-item::before, #sk-container-id-1 div.sk-parallel-item::before {content: \"\";position: absolute;border-left: 1px solid gray;box-sizing: border-box;top: 0;bottom: 0;left: 50%;z-index: -1;}#sk-container-id-1 div.sk-parallel-item {display: flex;flex-direction: column;z-index: 1;position: relative;background-color: white;}#sk-container-id-1 div.sk-parallel-item:first-child::after {align-self: flex-end;width: 50%;}#sk-container-id-1 div.sk-parallel-item:last-child::after {align-self: flex-start;width: 50%;}#sk-container-id-1 div.sk-parallel-item:only-child::after {width: 0;}#sk-container-id-1 div.sk-dashed-wrapped {border: 1px dashed gray;margin: 0 0.4em 0.5em 0.4em;box-sizing: border-box;padding-bottom: 0.4em;background-color: white;}#sk-container-id-1 div.sk-label label {font-family: monospace;font-weight: bold;display: inline-block;line-height: 1.2em;}#sk-container-id-1 div.sk-label-container {text-align: center;}#sk-container-id-1 div.sk-container {/* jupyter's `normalize.less` sets `[hidden] { display: none; }` but bootstrap.min.css set `[hidden] { display: none !important; }` so we also need the `!important` here to be able to override the default hidden behavior on the sphinx rendered scikit-learn.org. See: https://github.com/scikit-learn/scikit-learn/issues/21755 */display: inline-block !important;position: relative;}#sk-container-id-1 div.sk-text-repr-fallback {display: none;}</style><div id=\"sk-container-id-1\" class=\"sk-top-container\"><div class=\"sk-text-repr-fallback\"><pre>LGBMClassifier(colsample_bytree=0.9, max_depth=16, n_jobs=-1, num_leaves=16,\n",
       "               random_state=42, reg_alpha=0.025, reg_lambda=0.025,\n",
       "               subsample_for_bin=304944)</pre><b>In a Jupyter environment, please rerun this cell to show the HTML representation or trust the notebook. <br />On GitHub, the HTML representation is unable to render, please try loading this page with nbviewer.org.</b></div><div class=\"sk-container\" hidden><div class=\"sk-item\"><div class=\"sk-estimator sk-toggleable\"><input class=\"sk-toggleable__control sk-hidden--visually\" id=\"sk-estimator-id-1\" type=\"checkbox\" checked><label for=\"sk-estimator-id-1\" class=\"sk-toggleable__label sk-toggleable__label-arrow\">LGBMClassifier</label><div class=\"sk-toggleable__content\"><pre>LGBMClassifier(colsample_bytree=0.9, max_depth=16, n_jobs=-1, num_leaves=16,\n",
       "               random_state=42, reg_alpha=0.025, reg_lambda=0.025,\n",
       "               subsample_for_bin=304944)</pre></div></div></div></div></div>"
      ],
      "text/plain": [
       "LGBMClassifier(colsample_bytree=0.9, max_depth=16, n_jobs=-1, num_leaves=16,\n",
       "               random_state=42, reg_alpha=0.025, reg_lambda=0.025,\n",
       "               subsample_for_bin=304944)"
      ]
     },
     "execution_count": 26,
     "metadata": {},
     "output_type": "execute_result"
    }
   ],
   "source": [
    "x_train=scaler.fit_transform(x_train)\n",
    "x_train,y_train=sm.fit_resample(x_train,y_train)\n",
    "x_test=scaler.transform(x_test)\n",
    "model=LGBMClassifier(**best_params)\n",
    "model.fit(x_train,y_train)"
   ]
  },
  {
   "cell_type": "code",
   "execution_count": 27,
   "id": "2765e96a",
   "metadata": {
    "execution": {
     "iopub.execute_input": "2024-03-24T10:14:36.299451Z",
     "iopub.status.busy": "2024-03-24T10:14:36.298739Z",
     "iopub.status.idle": "2024-03-24T10:14:36.442740Z",
     "shell.execute_reply": "2024-03-24T10:14:36.441503Z"
    },
    "papermill": {
     "duration": 0.181081,
     "end_time": "2024-03-24T10:14:36.445177",
     "exception": false,
     "start_time": "2024-03-24T10:14:36.264096",
     "status": "completed"
    },
    "tags": []
   },
   "outputs": [
    {
     "name": "stdout",
     "output_type": "stream",
     "text": [
      "F1 Score:  0.6023778071334214\n",
      "Accuracy Score:  0.9001106194690266\n"
     ]
    }
   ],
   "source": [
    "print('F1 Score: ', f1_score(y_test,model.predict(x_test)))\n",
    "print('Accuracy Score: ', accuracy_score(y_test,model.predict(x_test)))"
   ]
  },
  {
   "cell_type": "code",
   "execution_count": 28,
   "id": "074a5ebb",
   "metadata": {
    "execution": {
     "iopub.execute_input": "2024-03-24T10:14:36.513333Z",
     "iopub.status.busy": "2024-03-24T10:14:36.512677Z",
     "iopub.status.idle": "2024-03-24T10:14:36.518720Z",
     "shell.execute_reply": "2024-03-24T10:14:36.517870Z"
    },
    "papermill": {
     "duration": 0.042875,
     "end_time": "2024-03-24T10:14:36.521022",
     "exception": false,
     "start_time": "2024-03-24T10:14:36.478147",
     "status": "completed"
    },
    "tags": []
   },
   "outputs": [],
   "source": [
    "def evaluation_parametrics(name,y_val, y_pred):\n",
    "    \n",
    "    print(\"\\n------------------------{}------------------------\\n\".format(name))\n",
    "\n",
    "    cm_test = confusion_matrix(y_val, y_pred)\n",
    "    t1 = ConfusionMatrixDisplay(cm_test)    \n",
    "    print(\"\\nClassification Report\\n\")\n",
    "    print(classification_report(y_val, y_pred))   \n",
    "    print(\"--------------------------------------------------------------------------\")\n",
    "\n",
    "    t1.plot()"
   ]
  },
  {
   "cell_type": "code",
   "execution_count": 29,
   "id": "fcd383cc",
   "metadata": {
    "execution": {
     "iopub.execute_input": "2024-03-24T10:14:36.592114Z",
     "iopub.status.busy": "2024-03-24T10:14:36.591365Z",
     "iopub.status.idle": "2024-03-24T10:14:36.963880Z",
     "shell.execute_reply": "2024-03-24T10:14:36.962747Z"
    },
    "papermill": {
     "duration": 0.410189,
     "end_time": "2024-03-24T10:14:36.966378",
     "exception": false,
     "start_time": "2024-03-24T10:14:36.556189",
     "status": "completed"
    },
    "tags": []
   },
   "outputs": [
    {
     "name": "stdout",
     "output_type": "stream",
     "text": [
      "\n",
      "------------------------Confusion Matrix - Test Dataset------------------------\n",
      "\n",
      "\n",
      "Classification Report\n",
      "\n",
      "              precision    recall  f1-score   support\n",
      "\n",
      "           0       0.95      0.94      0.94      7960\n",
      "           1       0.57      0.63      0.60      1080\n",
      "\n",
      "    accuracy                           0.90      9040\n",
      "   macro avg       0.76      0.78      0.77      9040\n",
      "weighted avg       0.90      0.90      0.90      9040\n",
      "\n",
      "--------------------------------------------------------------------------\n"
     ]
    },
    {
     "data": {
      "image/png": "[encoded data removed]",
      "text/plain": [
       "<Figure size 640x480 with 2 Axes>"
      ]
     },
     "metadata": {},
     "output_type": "display_data"
    }
   ],
   "source": [
    "evaluation_parametrics(\"Confusion Matrix - Test Dataset\", y_test, model.predict(x_test))"
   ]
  },
  {
   "cell_type": "code",
   "execution_count": 30,
   "id": "f9c9aeae",
   "metadata": {
    "execution": {
     "iopub.execute_input": "2024-03-24T10:14:37.035404Z",
     "iopub.status.busy": "2024-03-24T10:14:37.034985Z",
     "iopub.status.idle": "2024-03-24T10:14:37.895452Z",
     "shell.execute_reply": "2024-03-24T10:14:37.894301Z"
    },
    "papermill": {
     "duration": 0.897702,
     "end_time": "2024-03-24T10:14:37.897867",
     "exception": false,
     "start_time": "2024-03-24T10:14:37.000165",
     "status": "completed"
    },
    "tags": []
   },
   "outputs": [
    {
     "name": "stdout",
     "output_type": "stream",
     "text": [
      "\n",
      "------------------------Confusion Matrix - Train Dataset------------------------\n",
      "\n",
      "\n",
      "Classification Report\n",
      "\n",
      "              precision    recall  f1-score   support\n",
      "\n",
      "           0       0.94      0.94      0.94     31948\n",
      "           1       0.94      0.94      0.94     31948\n",
      "\n",
      "    accuracy                           0.94     63896\n",
      "   macro avg       0.94      0.94      0.94     63896\n",
      "weighted avg       0.94      0.94      0.94     63896\n",
      "\n",
      "--------------------------------------------------------------------------\n"
     ]
    },
    {
     "data": {
      "image/png": "[encoded data removed]",
      "text/plain": [
       "<Figure size 640x480 with 2 Axes>"
      ]
     },
     "metadata": {},
     "output_type": "display_data"
    }
   ],
   "source": [
    "evaluation_parametrics(\"Confusion Matrix - Train Dataset\", y_train, model.predict(x_train))"
   ]
  }
 ],
 "metadata": {
  "kaggle": {
   "accelerator": "none",
   "dataSources": [
    {
     "datasetId": 4563297,
     "sourceId": 7794821,
     "sourceType": "datasetVersion"
    }
   ],
   "dockerImageVersionId": 30673,
   "isGpuEnabled": false,
   "isInternetEnabled": true,
   "language": "python",
   "sourceType": "notebook"
  },
  "kernelspec": {
   "display_name": "Python 3",
   "language": "python",
   "name": "python3"
  },
  "language_info": {
   "codemirror_mode": {
    "name": "ipython",
    "version": 3
   },
   "file_extension": ".py",
   "mimetype": "text/x-python",
   "name": "python",
   "nbconvert_exporter": "python",
   "pygments_lexer": "ipython3",
   "version": "3.10.13"
  },
  "papermill": {
   "default_parameters": {},
   "duration": 643.960217,
   "end_time": "2024-03-24T10:14:38.758632",
   "environment_variables": {},
   "exception": null,
   "input_path": "__notebook__.ipynb",
   "output_path": "__notebook__.ipynb",
   "parameters": {},
   "start_time": "2024-03-24T10:03:54.798415",
   "version": "2.5.0"
  }
 },
 "nbformat": 4,
 "nbformat_minor": 5
}
