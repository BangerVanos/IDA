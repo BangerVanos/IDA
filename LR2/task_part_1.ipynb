{
 "cells": [
  {
   "cell_type": "code",
   "execution_count": 2,
   "metadata": {},
   "outputs": [],
   "source": [
    "import pandas as pd"
   ]
  },
  {
   "cell_type": "markdown",
   "metadata": {},
   "source": [
    "## Part 1 Task 1"
   ]
  },
  {
   "cell_type": "code",
   "execution_count": 4,
   "metadata": {},
   "outputs": [
    {
     "data": {
      "text/html": [
       "<div>\n",
       "<style scoped>\n",
       "    .dataframe tbody tr th:only-of-type {\n",
       "        vertical-align: middle;\n",
       "    }\n",
       "\n",
       "    .dataframe tbody tr th {\n",
       "        vertical-align: top;\n",
       "    }\n",
       "\n",
       "    .dataframe thead th {\n",
       "        text-align: right;\n",
       "    }\n",
       "</style>\n",
       "<table border=\"1\" class=\"dataframe\">\n",
       "  <thead>\n",
       "    <tr style=\"text-align: right;\">\n",
       "      <th></th>\n",
       "      <th>champion_name</th>\n",
       "      <th>champion_title</th>\n",
       "      <th>class</th>\n",
       "      <th>playstyle</th>\n",
       "      <th>date_release</th>\n",
       "      <th>last_change</th>\n",
       "      <th>blue_essence_price</th>\n",
       "      <th>rp_price</th>\n",
       "      <th>ressource</th>\n",
       "      <th>HP</th>\n",
       "      <th>...</th>\n",
       "      <th>AR</th>\n",
       "      <th>AR+</th>\n",
       "      <th>AR_lvl18</th>\n",
       "      <th>MR</th>\n",
       "      <th>MR+</th>\n",
       "      <th>MR_lvl18</th>\n",
       "      <th>MS</th>\n",
       "      <th>MS_lvl18</th>\n",
       "      <th>range</th>\n",
       "      <th>range_lvl18</th>\n",
       "    </tr>\n",
       "  </thead>\n",
       "  <tbody>\n",
       "    <tr>\n",
       "      <th>0</th>\n",
       "      <td>Aatrox</td>\n",
       "      <td>the Darkin Blade</td>\n",
       "      <td>Fighter</td>\n",
       "      <td>Juggernaut</td>\n",
       "      <td>13/06/2013</td>\n",
       "      <td>V11.2</td>\n",
       "      <td>4800</td>\n",
       "      <td>880</td>\n",
       "      <td>Blood Well</td>\n",
       "      <td>580.0</td>\n",
       "      <td>...</td>\n",
       "      <td>38.0</td>\n",
       "      <td>3.25</td>\n",
       "      <td>93.25</td>\n",
       "      <td>32.0</td>\n",
       "      <td>1.25</td>\n",
       "      <td>53.25</td>\n",
       "      <td>345</td>\n",
       "      <td>345</td>\n",
       "      <td>175</td>\n",
       "      <td>175</td>\n",
       "    </tr>\n",
       "    <tr>\n",
       "      <th>1</th>\n",
       "      <td>Ahri</td>\n",
       "      <td>the Nine-Tailed Fox</td>\n",
       "      <td>Mage</td>\n",
       "      <td>Burst</td>\n",
       "      <td>14/12/2011</td>\n",
       "      <td>V11.1</td>\n",
       "      <td>3150</td>\n",
       "      <td>790</td>\n",
       "      <td>Mana</td>\n",
       "      <td>526.0</td>\n",
       "      <td>...</td>\n",
       "      <td>21.0</td>\n",
       "      <td>3.50</td>\n",
       "      <td>80.50</td>\n",
       "      <td>30.0</td>\n",
       "      <td>0.50</td>\n",
       "      <td>38.50</td>\n",
       "      <td>330</td>\n",
       "      <td>330</td>\n",
       "      <td>550</td>\n",
       "      <td>550</td>\n",
       "    </tr>\n",
       "    <tr>\n",
       "      <th>2</th>\n",
       "      <td>Akali</td>\n",
       "      <td>the Rogue Assassin</td>\n",
       "      <td>Slayer</td>\n",
       "      <td>Assassin</td>\n",
       "      <td>11/05/2010</td>\n",
       "      <td>V11.10</td>\n",
       "      <td>3150</td>\n",
       "      <td>790</td>\n",
       "      <td>Energy</td>\n",
       "      <td>500.0</td>\n",
       "      <td>...</td>\n",
       "      <td>23.0</td>\n",
       "      <td>3.50</td>\n",
       "      <td>82.50</td>\n",
       "      <td>37.0</td>\n",
       "      <td>1.25</td>\n",
       "      <td>58.25</td>\n",
       "      <td>345</td>\n",
       "      <td>345</td>\n",
       "      <td>125</td>\n",
       "      <td>125</td>\n",
       "    </tr>\n",
       "    <tr>\n",
       "      <th>3</th>\n",
       "      <td>Alistar</td>\n",
       "      <td>the Minotaur</td>\n",
       "      <td>Tank</td>\n",
       "      <td>Vanguard</td>\n",
       "      <td>21/02/2009</td>\n",
       "      <td>V11.8</td>\n",
       "      <td>1350</td>\n",
       "      <td>585</td>\n",
       "      <td>Mana</td>\n",
       "      <td>600.0</td>\n",
       "      <td>...</td>\n",
       "      <td>44.0</td>\n",
       "      <td>3.50</td>\n",
       "      <td>103.50</td>\n",
       "      <td>32.0</td>\n",
       "      <td>1.25</td>\n",
       "      <td>53.25</td>\n",
       "      <td>330</td>\n",
       "      <td>330</td>\n",
       "      <td>125</td>\n",
       "      <td>125</td>\n",
       "    </tr>\n",
       "    <tr>\n",
       "      <th>4</th>\n",
       "      <td>Amumu</td>\n",
       "      <td>the Sad Mummy</td>\n",
       "      <td>Tank</td>\n",
       "      <td>Vanguard</td>\n",
       "      <td>26/06/2009</td>\n",
       "      <td>V11.7</td>\n",
       "      <td>450</td>\n",
       "      <td>260</td>\n",
       "      <td>Mana</td>\n",
       "      <td>615.0</td>\n",
       "      <td>...</td>\n",
       "      <td>30.0</td>\n",
       "      <td>3.80</td>\n",
       "      <td>94.60</td>\n",
       "      <td>32.0</td>\n",
       "      <td>1.25</td>\n",
       "      <td>53.25</td>\n",
       "      <td>335</td>\n",
       "      <td>335</td>\n",
       "      <td>125</td>\n",
       "      <td>125</td>\n",
       "    </tr>\n",
       "    <tr>\n",
       "      <th>5</th>\n",
       "      <td>Anivia</td>\n",
       "      <td>the Cryophoenix</td>\n",
       "      <td>Mage</td>\n",
       "      <td>Battlemage</td>\n",
       "      <td>10/07/2009</td>\n",
       "      <td>V11.8</td>\n",
       "      <td>3150</td>\n",
       "      <td>790</td>\n",
       "      <td>Mana</td>\n",
       "      <td>480.0</td>\n",
       "      <td>...</td>\n",
       "      <td>21.0</td>\n",
       "      <td>4.00</td>\n",
       "      <td>89.00</td>\n",
       "      <td>30.0</td>\n",
       "      <td>0.50</td>\n",
       "      <td>38.50</td>\n",
       "      <td>325</td>\n",
       "      <td>325</td>\n",
       "      <td>600</td>\n",
       "      <td>600</td>\n",
       "    </tr>\n",
       "    <tr>\n",
       "      <th>6</th>\n",
       "      <td>Annie</td>\n",
       "      <td>the Dark Child</td>\n",
       "      <td>Mage</td>\n",
       "      <td>Burst</td>\n",
       "      <td>21/02/2009</td>\n",
       "      <td>V11.8</td>\n",
       "      <td>450</td>\n",
       "      <td>260</td>\n",
       "      <td>Mana</td>\n",
       "      <td>524.0</td>\n",
       "      <td>...</td>\n",
       "      <td>19.0</td>\n",
       "      <td>4.00</td>\n",
       "      <td>87.00</td>\n",
       "      <td>30.0</td>\n",
       "      <td>0.50</td>\n",
       "      <td>38.50</td>\n",
       "      <td>335</td>\n",
       "      <td>335</td>\n",
       "      <td>625</td>\n",
       "      <td>625</td>\n",
       "    </tr>\n",
       "    <tr>\n",
       "      <th>7</th>\n",
       "      <td>Aphelios</td>\n",
       "      <td>the Weapon of the Faithful</td>\n",
       "      <td>Marksman</td>\n",
       "      <td>Marksman</td>\n",
       "      <td>11/12/2019</td>\n",
       "      <td>V11.8</td>\n",
       "      <td>6300</td>\n",
       "      <td>975</td>\n",
       "      <td>Mana</td>\n",
       "      <td>530.0</td>\n",
       "      <td>...</td>\n",
       "      <td>28.0</td>\n",
       "      <td>3.00</td>\n",
       "      <td>79.00</td>\n",
       "      <td>30.0</td>\n",
       "      <td>0.50</td>\n",
       "      <td>34.50</td>\n",
       "      <td>325</td>\n",
       "      <td>325</td>\n",
       "      <td>550</td>\n",
       "      <td>550</td>\n",
       "    </tr>\n",
       "    <tr>\n",
       "      <th>8</th>\n",
       "      <td>Ashe</td>\n",
       "      <td>the Frost Archer</td>\n",
       "      <td>Marksman</td>\n",
       "      <td>Marksman</td>\n",
       "      <td>21/02/2009</td>\n",
       "      <td>V11.7</td>\n",
       "      <td>450</td>\n",
       "      <td>260</td>\n",
       "      <td>Mana</td>\n",
       "      <td>570.0</td>\n",
       "      <td>...</td>\n",
       "      <td>26.0</td>\n",
       "      <td>3.40</td>\n",
       "      <td>83.80</td>\n",
       "      <td>30.0</td>\n",
       "      <td>0.50</td>\n",
       "      <td>38.50</td>\n",
       "      <td>325</td>\n",
       "      <td>325</td>\n",
       "      <td>600</td>\n",
       "      <td>600</td>\n",
       "    </tr>\n",
       "    <tr>\n",
       "      <th>9</th>\n",
       "      <td>Aurelion Sol</td>\n",
       "      <td>The Star Forger</td>\n",
       "      <td>Mage</td>\n",
       "      <td>Battlemage</td>\n",
       "      <td>24/03/2016</td>\n",
       "      <td>V11.10</td>\n",
       "      <td>6300</td>\n",
       "      <td>975</td>\n",
       "      <td>Mana</td>\n",
       "      <td>575.0</td>\n",
       "      <td>...</td>\n",
       "      <td>19.0</td>\n",
       "      <td>3.60</td>\n",
       "      <td>80.20</td>\n",
       "      <td>30.0</td>\n",
       "      <td>0.50</td>\n",
       "      <td>38.50</td>\n",
       "      <td>325</td>\n",
       "      <td>325</td>\n",
       "      <td>550</td>\n",
       "      <td>550</td>\n",
       "    </tr>\n",
       "  </tbody>\n",
       "</table>\n",
       "<p>10 rows × 37 columns</p>\n",
       "</div>"
      ],
      "text/plain": [
       "  champion_name              champion_title     class   playstyle  \\\n",
       "0        Aatrox            the Darkin Blade   Fighter  Juggernaut   \n",
       "1          Ahri         the Nine-Tailed Fox      Mage       Burst   \n",
       "2         Akali          the Rogue Assassin    Slayer    Assassin   \n",
       "3       Alistar                the Minotaur      Tank    Vanguard   \n",
       "4         Amumu               the Sad Mummy      Tank    Vanguard   \n",
       "5        Anivia             the Cryophoenix      Mage  Battlemage   \n",
       "6         Annie              the Dark Child      Mage       Burst   \n",
       "7      Aphelios  the Weapon of the Faithful  Marksman    Marksman   \n",
       "8          Ashe            the Frost Archer  Marksman    Marksman   \n",
       "9  Aurelion Sol             The Star Forger      Mage  Battlemage   \n",
       "\n",
       "  date_release last_change  blue_essence_price  rp_price   ressource     HP  \\\n",
       "0   13/06/2013       V11.2                4800       880  Blood Well  580.0   \n",
       "1   14/12/2011       V11.1                3150       790        Mana  526.0   \n",
       "2   11/05/2010      V11.10                3150       790      Energy  500.0   \n",
       "3   21/02/2009       V11.8                1350       585        Mana  600.0   \n",
       "4   26/06/2009       V11.7                 450       260        Mana  615.0   \n",
       "5   10/07/2009       V11.8                3150       790        Mana  480.0   \n",
       "6   21/02/2009       V11.8                 450       260        Mana  524.0   \n",
       "7   11/12/2019       V11.8                6300       975        Mana  530.0   \n",
       "8   21/02/2009       V11.7                 450       260        Mana  570.0   \n",
       "9   24/03/2016      V11.10                6300       975        Mana  575.0   \n",
       "\n",
       "   ...    AR   AR+  AR_lvl18    MR   MR+  MR_lvl18   MS  MS_lvl18  range  \\\n",
       "0  ...  38.0  3.25     93.25  32.0  1.25     53.25  345       345    175   \n",
       "1  ...  21.0  3.50     80.50  30.0  0.50     38.50  330       330    550   \n",
       "2  ...  23.0  3.50     82.50  37.0  1.25     58.25  345       345    125   \n",
       "3  ...  44.0  3.50    103.50  32.0  1.25     53.25  330       330    125   \n",
       "4  ...  30.0  3.80     94.60  32.0  1.25     53.25  335       335    125   \n",
       "5  ...  21.0  4.00     89.00  30.0  0.50     38.50  325       325    600   \n",
       "6  ...  19.0  4.00     87.00  30.0  0.50     38.50  335       335    625   \n",
       "7  ...  28.0  3.00     79.00  30.0  0.50     34.50  325       325    550   \n",
       "8  ...  26.0  3.40     83.80  30.0  0.50     38.50  325       325    600   \n",
       "9  ...  19.0  3.60     80.20  30.0  0.50     38.50  325       325    550   \n",
       "\n",
       "   range_lvl18  \n",
       "0          175  \n",
       "1          550  \n",
       "2          125  \n",
       "3          125  \n",
       "4          125  \n",
       "5          600  \n",
       "6          625  \n",
       "7          550  \n",
       "8          600  \n",
       "9          550  \n",
       "\n",
       "[10 rows x 37 columns]"
      ]
     },
     "execution_count": 4,
     "metadata": {},
     "output_type": "execute_result"
    }
   ],
   "source": [
    "lol_df = pd.read_csv('lol_champions_stats.csv', sep=';', encoding='latin-1')\n",
    "lol_df.head(10)"
   ]
  },
  {
   "cell_type": "code",
   "execution_count": 5,
   "metadata": {},
   "outputs": [
    {
     "name": "stdout",
     "output_type": "stream",
     "text": [
      "<class 'pandas.core.frame.DataFrame'>\n",
      "RangeIndex: 157 entries, 0 to 156\n",
      "Data columns (total 37 columns):\n",
      " #   Column              Non-Null Count  Dtype  \n",
      "---  ------              --------------  -----  \n",
      " 0   champion_name       157 non-null    object \n",
      " 1   champion_title      157 non-null    object \n",
      " 2   class               157 non-null    object \n",
      " 3   playstyle           157 non-null    object \n",
      " 4   date_release        157 non-null    object \n",
      " 5   last_change         157 non-null    object \n",
      " 6   blue_essence_price  157 non-null    int64  \n",
      " 7   rp_price            157 non-null    int64  \n",
      " 8   ressource           151 non-null    object \n",
      " 9   HP                  157 non-null    float64\n",
      " 10  HP+                 157 non-null    int64  \n",
      " 11  HP_lvl18            157 non-null    float64\n",
      " 12  HP5                 157 non-null    float64\n",
      " 13  HP5+                157 non-null    float64\n",
      " 14  HP5_lvl18           157 non-null    float64\n",
      " 15  MP                  157 non-null    float64\n",
      " 16  MP+                 157 non-null    float64\n",
      " 17  MP_lvl18            131 non-null    float64\n",
      " 18  MP5                 157 non-null    float64\n",
      " 19  MP5+                157 non-null    float64\n",
      " 20  MP5_lvl18           131 non-null    float64\n",
      " 21  AD                  157 non-null    float64\n",
      " 22  AD+                 157 non-null    float64\n",
      " 23  AD_lvl18            157 non-null    float64\n",
      " 24  AS                  157 non-null    float64\n",
      " 25  AS+                 157 non-null    object \n",
      " 26  AS_lvl18            157 non-null    float64\n",
      " 27  AR                  157 non-null    float64\n",
      " 28  AR+                 157 non-null    float64\n",
      " 29  AR_lvl18            157 non-null    float64\n",
      " 30  MR                  157 non-null    float64\n",
      " 31  MR+                 157 non-null    float64\n",
      " 32  MR_lvl18            157 non-null    float64\n",
      " 33  MS                  157 non-null    int64  \n",
      " 34  MS_lvl18            157 non-null    int64  \n",
      " 35  range               157 non-null    int64  \n",
      " 36  range_lvl18         157 non-null    int64  \n",
      "dtypes: float64(22), int64(7), object(8)\n",
      "memory usage: 45.5+ KB\n"
     ]
    }
   ],
   "source": [
    "# Column types to better scale type identification\n",
    "lol_df.info()"
   ]
  },
  {
   "cell_type": "code",
   "execution_count": 6,
   "metadata": {},
   "outputs": [
    {
     "data": {
      "text/html": [
       "<div>\n",
       "<style scoped>\n",
       "    .dataframe tbody tr th:only-of-type {\n",
       "        vertical-align: middle;\n",
       "    }\n",
       "\n",
       "    .dataframe tbody tr th {\n",
       "        vertical-align: top;\n",
       "    }\n",
       "\n",
       "    .dataframe thead th {\n",
       "        text-align: right;\n",
       "    }\n",
       "</style>\n",
       "<table border=\"1\" class=\"dataframe\">\n",
       "  <thead>\n",
       "    <tr style=\"text-align: right;\">\n",
       "      <th></th>\n",
       "      <th>champion_name</th>\n",
       "      <th>MP_lvl18</th>\n",
       "    </tr>\n",
       "  </thead>\n",
       "  <tbody>\n",
       "    <tr>\n",
       "      <th>2</th>\n",
       "      <td>Akali</td>\n",
       "      <td>NaN</td>\n",
       "    </tr>\n",
       "    <tr>\n",
       "      <th>22</th>\n",
       "      <td>Dr. Mundo</td>\n",
       "      <td>NaN</td>\n",
       "    </tr>\n",
       "    <tr>\n",
       "      <th>33</th>\n",
       "      <td>Garen</td>\n",
       "      <td>NaN</td>\n",
       "    </tr>\n",
       "    <tr>\n",
       "      <th>34</th>\n",
       "      <td>Gnar</td>\n",
       "      <td>NaN</td>\n",
       "    </tr>\n",
       "    <tr>\n",
       "      <th>54</th>\n",
       "      <td>Katarina</td>\n",
       "      <td>NaN</td>\n",
       "    </tr>\n",
       "    <tr>\n",
       "      <th>57</th>\n",
       "      <td>Kennen</td>\n",
       "      <td>NaN</td>\n",
       "    </tr>\n",
       "    <tr>\n",
       "      <th>60</th>\n",
       "      <td>Kled</td>\n",
       "      <td>NaN</td>\n",
       "    </tr>\n",
       "    <tr>\n",
       "      <th>61</th>\n",
       "      <td>Kled &amp; Skarl</td>\n",
       "      <td>NaN</td>\n",
       "    </tr>\n",
       "    <tr>\n",
       "      <th>64</th>\n",
       "      <td>Lee Sin</td>\n",
       "      <td>NaN</td>\n",
       "    </tr>\n",
       "    <tr>\n",
       "      <th>75</th>\n",
       "      <td>Gnar Mega</td>\n",
       "      <td>NaN</td>\n",
       "    </tr>\n",
       "    <tr>\n",
       "      <th>77</th>\n",
       "      <td>Mordekaiser</td>\n",
       "      <td>NaN</td>\n",
       "    </tr>\n",
       "    <tr>\n",
       "      <th>96</th>\n",
       "      <td>RekSai</td>\n",
       "      <td>NaN</td>\n",
       "    </tr>\n",
       "    <tr>\n",
       "      <th>98</th>\n",
       "      <td>Renekton</td>\n",
       "      <td>NaN</td>\n",
       "    </tr>\n",
       "    <tr>\n",
       "      <th>99</th>\n",
       "      <td>Rengar</td>\n",
       "      <td>NaN</td>\n",
       "    </tr>\n",
       "    <tr>\n",
       "      <th>100</th>\n",
       "      <td>Riven</td>\n",
       "      <td>NaN</td>\n",
       "    </tr>\n",
       "    <tr>\n",
       "      <th>101</th>\n",
       "      <td>Rumble</td>\n",
       "      <td>NaN</td>\n",
       "    </tr>\n",
       "    <tr>\n",
       "      <th>107</th>\n",
       "      <td>Sett</td>\n",
       "      <td>NaN</td>\n",
       "    </tr>\n",
       "    <tr>\n",
       "      <th>109</th>\n",
       "      <td>Shen</td>\n",
       "      <td>NaN</td>\n",
       "    </tr>\n",
       "    <tr>\n",
       "      <th>110</th>\n",
       "      <td>Shyvana</td>\n",
       "      <td>NaN</td>\n",
       "    </tr>\n",
       "    <tr>\n",
       "      <th>128</th>\n",
       "      <td>Tryndamere</td>\n",
       "      <td>NaN</td>\n",
       "    </tr>\n",
       "    <tr>\n",
       "      <th>138</th>\n",
       "      <td>Viego</td>\n",
       "      <td>NaN</td>\n",
       "    </tr>\n",
       "    <tr>\n",
       "      <th>140</th>\n",
       "      <td>Vladimir</td>\n",
       "      <td>NaN</td>\n",
       "    </tr>\n",
       "    <tr>\n",
       "      <th>147</th>\n",
       "      <td>Yasuo</td>\n",
       "      <td>NaN</td>\n",
       "    </tr>\n",
       "    <tr>\n",
       "      <th>148</th>\n",
       "      <td>Yone</td>\n",
       "      <td>NaN</td>\n",
       "    </tr>\n",
       "    <tr>\n",
       "      <th>151</th>\n",
       "      <td>Zac</td>\n",
       "      <td>NaN</td>\n",
       "    </tr>\n",
       "    <tr>\n",
       "      <th>152</th>\n",
       "      <td>Zed</td>\n",
       "      <td>NaN</td>\n",
       "    </tr>\n",
       "  </tbody>\n",
       "</table>\n",
       "</div>"
      ],
      "text/plain": [
       "    champion_name  MP_lvl18\n",
       "2           Akali       NaN\n",
       "22      Dr. Mundo       NaN\n",
       "33          Garen       NaN\n",
       "34           Gnar       NaN\n",
       "54       Katarina       NaN\n",
       "57         Kennen       NaN\n",
       "60           Kled       NaN\n",
       "61   Kled & Skarl       NaN\n",
       "64        Lee Sin       NaN\n",
       "75      Gnar Mega       NaN\n",
       "77    Mordekaiser       NaN\n",
       "96         RekSai       NaN\n",
       "98       Renekton       NaN\n",
       "99         Rengar       NaN\n",
       "100         Riven       NaN\n",
       "101        Rumble       NaN\n",
       "107          Sett       NaN\n",
       "109          Shen       NaN\n",
       "110       Shyvana       NaN\n",
       "128    Tryndamere       NaN\n",
       "138         Viego       NaN\n",
       "140      Vladimir       NaN\n",
       "147         Yasuo       NaN\n",
       "148          Yone       NaN\n",
       "151           Zac       NaN\n",
       "152           Zed       NaN"
      ]
     },
     "execution_count": 6,
     "metadata": {},
     "output_type": "execute_result"
    }
   ],
   "source": [
    "lol_df[lol_df['MP_lvl18'].isna()][['champion_name', 'MP_lvl18']]"
   ]
  },
  {
   "cell_type": "markdown",
   "metadata": {},
   "source": [
    "### As for task\n",
    "\n",
    "champion_name, champion_title, class, playstyle, resource - nominal\n"
   ]
  },
  {
   "cell_type": "code",
   "execution_count": 7,
   "metadata": {},
   "outputs": [
    {
     "data": {
      "text/plain": [
       "count    157.000000\n",
       "mean       2.500128\n",
       "std        0.840102\n",
       "min        0.500000\n",
       "25%        2.000000\n",
       "50%        2.500000\n",
       "75%        3.200000\n",
       "max        6.000000\n",
       "Name: AS+, dtype: float64"
      ]
     },
     "execution_count": 7,
     "metadata": {},
     "output_type": "execute_result"
    }
   ],
   "source": [
    "# Change numbers with percent to default numbers\n",
    "import numpy as np\n",
    "lol_df['AS+'] = lol_df['AS+'].str.replace('%', '').astype(np.float32)\n",
    "lol_df['AS+'].describe()"
   ]
  },
  {
   "cell_type": "code",
   "execution_count": 8,
   "metadata": {},
   "outputs": [
    {
     "data": {
      "text/plain": [
       "[0.3, 0.5, 0.75, 1.25, 1.75, 4.0]"
      ]
     },
     "execution_count": 8,
     "metadata": {},
     "output_type": "execute_result"
    }
   ],
   "source": [
    "sorted(lol_df['MR+'].value_counts().index.to_list())\n",
    "\n",
    "# MR+ is definitely not intervall"
   ]
  },
  {
   "cell_type": "code",
   "execution_count": 9,
   "metadata": {},
   "outputs": [
    {
     "data": {
      "text/plain": [
       "560.0"
      ]
     },
     "execution_count": 9,
     "metadata": {},
     "output_type": "execute_result"
    }
   ],
   "source": [
    "lol_df['HP'].median()"
   ]
  },
  {
   "cell_type": "markdown",
   "metadata": {},
   "source": [
    "## Part 1 Task 2"
   ]
  },
  {
   "cell_type": "code",
   "execution_count": 10,
   "metadata": {},
   "outputs": [
    {
     "data": {
      "text/plain": [
       "0         high\n",
       "1      average\n",
       "2      average\n",
       "3         high\n",
       "4         high\n",
       "        ...   \n",
       "152       high\n",
       "153    average\n",
       "154    average\n",
       "155       high\n",
       "156    average\n",
       "Name: HP_Rang, Length: 157, dtype: object"
      ]
     },
     "execution_count": 10,
     "metadata": {},
     "output_type": "execute_result"
    }
   ],
   "source": [
    "rang_value = lol_df['HP'].mean()\n",
    "\n",
    "def hp_rang(value):\n",
    "    if value <= rang_value / 1.5:\n",
    "        return 'low'\n",
    "    elif value <= rang_value:\n",
    "        return 'average'\n",
    "    elif value <= rang_value / 0.75:\n",
    "        return 'high'\n",
    "    else:\n",
    "        return 'very_high'\n",
    "\n",
    "lol_df['HP_Rang'] = lol_df['HP'].map(hp_rang)\n",
    "lol_df['HP_Rang']\n"
   ]
  },
  {
   "cell_type": "code",
   "execution_count": 11,
   "metadata": {},
   "outputs": [
    {
     "data": {
      "text/plain": [
       "HP_Rang\n",
       "high       88\n",
       "average    68\n",
       "low         1\n",
       "Name: count, dtype: int64"
      ]
     },
     "execution_count": 11,
     "metadata": {},
     "output_type": "execute_result"
    }
   ],
   "source": [
    "lol_df['HP_Rang'].value_counts()"
   ]
  },
  {
   "cell_type": "markdown",
   "metadata": {},
   "source": [
    "## Part 1 Task 3"
   ]
  },
  {
   "cell_type": "code",
   "execution_count": 12,
   "metadata": {},
   "outputs": [
    {
     "data": {
      "text/plain": [
       "class\n",
       "Fighter           29\n",
       "Slayer            28\n",
       "Mage              26\n",
       "Marksman          22\n",
       "Tank              19\n",
       "Specialist        15\n",
       "Controller         8\n",
       "Controllerer       6\n",
       "Mage Artillery     4\n",
       "Name: count, dtype: int64"
      ]
     },
     "execution_count": 12,
     "metadata": {},
     "output_type": "execute_result"
    }
   ],
   "source": [
    "# Example for nominative scale\n",
    "lol_df['class'].value_counts()\n",
    "\n",
    "# Fighter is mode"
   ]
  },
  {
   "cell_type": "code",
   "execution_count": 13,
   "metadata": {},
   "outputs": [
    {
     "data": {
      "text/plain": [
       "count    157.000000\n",
       "mean       0.544650\n",
       "std        0.294711\n",
       "min        0.000000\n",
       "25%        0.400000\n",
       "50%        0.600000\n",
       "75%        0.800000\n",
       "max        1.000000\n",
       "Name: MP5+, dtype: float64"
      ]
     },
     "execution_count": 13,
     "metadata": {},
     "output_type": "execute_result"
    }
   ],
   "source": [
    "# Example for ordinal scale\n",
    "lol_df['MP5+'].describe()\n"
   ]
  },
  {
   "cell_type": "code",
   "execution_count": null,
   "metadata": {},
   "outputs": [],
   "source": [
    "# As fore the Interval and Ratio scales I cannot tell anythin 'cause I suppose such scales do not exist in dataset"
   ]
  },
  {
   "cell_type": "code",
   "execution_count": 14,
   "metadata": {},
   "outputs": [
    {
     "data": {
      "text/html": [
       "<div>\n",
       "<style scoped>\n",
       "    .dataframe tbody tr th:only-of-type {\n",
       "        vertical-align: middle;\n",
       "    }\n",
       "\n",
       "    .dataframe tbody tr th {\n",
       "        vertical-align: top;\n",
       "    }\n",
       "\n",
       "    .dataframe thead th {\n",
       "        text-align: right;\n",
       "    }\n",
       "</style>\n",
       "<table border=\"1\" class=\"dataframe\">\n",
       "  <thead>\n",
       "    <tr style=\"text-align: right;\">\n",
       "      <th></th>\n",
       "      <th>playstyle</th>\n",
       "      <th>amount</th>\n",
       "    </tr>\n",
       "  </thead>\n",
       "  <tbody>\n",
       "    <tr>\n",
       "      <th>0</th>\n",
       "      <td>Artillery</td>\n",
       "      <td>4</td>\n",
       "    </tr>\n",
       "    <tr>\n",
       "      <th>1</th>\n",
       "      <td>Assassin</td>\n",
       "      <td>16</td>\n",
       "    </tr>\n",
       "    <tr>\n",
       "      <th>2</th>\n",
       "      <td>Battlemage</td>\n",
       "      <td>11</td>\n",
       "    </tr>\n",
       "    <tr>\n",
       "      <th>3</th>\n",
       "      <td>Burst</td>\n",
       "      <td>15</td>\n",
       "    </tr>\n",
       "    <tr>\n",
       "      <th>4</th>\n",
       "      <td>Catcher</td>\n",
       "      <td>7</td>\n",
       "    </tr>\n",
       "    <tr>\n",
       "      <th>5</th>\n",
       "      <td>Diver</td>\n",
       "      <td>15</td>\n",
       "    </tr>\n",
       "    <tr>\n",
       "      <th>6</th>\n",
       "      <td>Enchanter</td>\n",
       "      <td>7</td>\n",
       "    </tr>\n",
       "    <tr>\n",
       "      <th>7</th>\n",
       "      <td>Juggernaut</td>\n",
       "      <td>14</td>\n",
       "    </tr>\n",
       "    <tr>\n",
       "      <th>8</th>\n",
       "      <td>Marksman</td>\n",
       "      <td>22</td>\n",
       "    </tr>\n",
       "    <tr>\n",
       "      <th>9</th>\n",
       "      <td>Skirmisher</td>\n",
       "      <td>12</td>\n",
       "    </tr>\n",
       "    <tr>\n",
       "      <th>10</th>\n",
       "      <td>Specialist</td>\n",
       "      <td>15</td>\n",
       "    </tr>\n",
       "    <tr>\n",
       "      <th>11</th>\n",
       "      <td>Vanguard</td>\n",
       "      <td>13</td>\n",
       "    </tr>\n",
       "    <tr>\n",
       "      <th>12</th>\n",
       "      <td>Warden</td>\n",
       "      <td>6</td>\n",
       "    </tr>\n",
       "  </tbody>\n",
       "</table>\n",
       "</div>"
      ],
      "text/plain": [
       "     playstyle  amount\n",
       "0    Artillery       4\n",
       "1     Assassin      16\n",
       "2   Battlemage      11\n",
       "3        Burst      15\n",
       "4      Catcher       7\n",
       "5        Diver      15\n",
       "6    Enchanter       7\n",
       "7   Juggernaut      14\n",
       "8     Marksman      22\n",
       "9   Skirmisher      12\n",
       "10  Specialist      15\n",
       "11    Vanguard      13\n",
       "12      Warden       6"
      ]
     },
     "execution_count": 14,
     "metadata": {},
     "output_type": "execute_result"
    }
   ],
   "source": [
    "lol_df_class_count = lol_df.groupby('playstyle').count().reset_index()\n",
    "lol_df_class_count.rename(columns={'champion_name': 'amount'}, inplace=True)\n",
    "lol_df_class_count = lol_df_class_count[['playstyle', 'amount']]\n",
    "lol_df_class_count"
   ]
  },
  {
   "cell_type": "code",
   "execution_count": 26,
   "metadata": {},
   "outputs": [
    {
     "data": {
      "text/html": [
       "<div>\n",
       "<style scoped>\n",
       "    .dataframe tbody tr th:only-of-type {\n",
       "        vertical-align: middle;\n",
       "    }\n",
       "\n",
       "    .dataframe tbody tr th {\n",
       "        vertical-align: top;\n",
       "    }\n",
       "\n",
       "    .dataframe thead th {\n",
       "        text-align: right;\n",
       "    }\n",
       "</style>\n",
       "<table border=\"1\" class=\"dataframe\">\n",
       "  <thead>\n",
       "    <tr style=\"text-align: right;\">\n",
       "      <th></th>\n",
       "      <th>time</th>\n",
       "      <th>tavg</th>\n",
       "      <th>tmin</th>\n",
       "      <th>tmax</th>\n",
       "      <th>prcp</th>\n",
       "      <th>wdir</th>\n",
       "      <th>wspd</th>\n",
       "      <th>pres</th>\n",
       "    </tr>\n",
       "  </thead>\n",
       "  <tbody>\n",
       "    <tr>\n",
       "      <th>0</th>\n",
       "      <td>2013-03-01</td>\n",
       "      <td>3.2</td>\n",
       "      <td>1.1</td>\n",
       "      <td>5.0</td>\n",
       "      <td>0.0</td>\n",
       "      <td>342.0</td>\n",
       "      <td>15.1</td>\n",
       "      <td>1002.7</td>\n",
       "    </tr>\n",
       "    <tr>\n",
       "      <th>1</th>\n",
       "      <td>2013-03-02</td>\n",
       "      <td>3.1</td>\n",
       "      <td>1.1</td>\n",
       "      <td>5.6</td>\n",
       "      <td>0.0</td>\n",
       "      <td>307.0</td>\n",
       "      <td>14.4</td>\n",
       "      <td>1004.2</td>\n",
       "    </tr>\n",
       "    <tr>\n",
       "      <th>2</th>\n",
       "      <td>2013-03-03</td>\n",
       "      <td>2.6</td>\n",
       "      <td>0.6</td>\n",
       "      <td>6.1</td>\n",
       "      <td>0.0</td>\n",
       "      <td>-1.0</td>\n",
       "      <td>14.4</td>\n",
       "      <td>1002.6</td>\n",
       "    </tr>\n",
       "    <tr>\n",
       "      <th>3</th>\n",
       "      <td>2013-03-04</td>\n",
       "      <td>1.8</td>\n",
       "      <td>-0.6</td>\n",
       "      <td>5.0</td>\n",
       "      <td>0.0</td>\n",
       "      <td>303.0</td>\n",
       "      <td>28.1</td>\n",
       "      <td>1003.0</td>\n",
       "    </tr>\n",
       "    <tr>\n",
       "      <th>4</th>\n",
       "      <td>2013-03-05</td>\n",
       "      <td>2.9</td>\n",
       "      <td>0.0</td>\n",
       "      <td>6.1</td>\n",
       "      <td>0.0</td>\n",
       "      <td>-1.0</td>\n",
       "      <td>16.6</td>\n",
       "      <td>1013.5</td>\n",
       "    </tr>\n",
       "    <tr>\n",
       "      <th>...</th>\n",
       "      <td>...</td>\n",
       "      <td>...</td>\n",
       "      <td>...</td>\n",
       "      <td>...</td>\n",
       "      <td>...</td>\n",
       "      <td>...</td>\n",
       "      <td>...</td>\n",
       "      <td>...</td>\n",
       "    </tr>\n",
       "    <tr>\n",
       "      <th>3648</th>\n",
       "      <td>2023-02-25</td>\n",
       "      <td>-7.9</td>\n",
       "      <td>-10.6</td>\n",
       "      <td>-6.7</td>\n",
       "      <td>0.3</td>\n",
       "      <td>313.0</td>\n",
       "      <td>11.9</td>\n",
       "      <td>1029.5</td>\n",
       "    </tr>\n",
       "    <tr>\n",
       "      <th>3649</th>\n",
       "      <td>2023-02-26</td>\n",
       "      <td>-4.2</td>\n",
       "      <td>-7.8</td>\n",
       "      <td>3.9</td>\n",
       "      <td>0.0</td>\n",
       "      <td>268.0</td>\n",
       "      <td>11.9</td>\n",
       "      <td>1012.6</td>\n",
       "    </tr>\n",
       "    <tr>\n",
       "      <th>3650</th>\n",
       "      <td>2023-02-27</td>\n",
       "      <td>-1.7</td>\n",
       "      <td>-2.8</td>\n",
       "      <td>-0.6</td>\n",
       "      <td>0.0</td>\n",
       "      <td>46.0</td>\n",
       "      <td>18.7</td>\n",
       "      <td>1014.9</td>\n",
       "    </tr>\n",
       "    <tr>\n",
       "      <th>3651</th>\n",
       "      <td>2023-02-28</td>\n",
       "      <td>0.6</td>\n",
       "      <td>-1.7</td>\n",
       "      <td>2.2</td>\n",
       "      <td>7.1</td>\n",
       "      <td>86.0</td>\n",
       "      <td>23.8</td>\n",
       "      <td>1010.7</td>\n",
       "    </tr>\n",
       "    <tr>\n",
       "      <th>3652</th>\n",
       "      <td>2023-03-01</td>\n",
       "      <td>2.4</td>\n",
       "      <td>0.6</td>\n",
       "      <td>5.6</td>\n",
       "      <td>0.0</td>\n",
       "      <td>12.0</td>\n",
       "      <td>14.0</td>\n",
       "      <td>1019.1</td>\n",
       "    </tr>\n",
       "  </tbody>\n",
       "</table>\n",
       "<p>3653 rows × 8 columns</p>\n",
       "</div>"
      ],
      "text/plain": [
       "            time  tavg  tmin  tmax  prcp   wdir  wspd    pres\n",
       "0     2013-03-01   3.2   1.1   5.0   0.0  342.0  15.1  1002.7\n",
       "1     2013-03-02   3.1   1.1   5.6   0.0  307.0  14.4  1004.2\n",
       "2     2013-03-03   2.6   0.6   6.1   0.0   -1.0  14.4  1002.6\n",
       "3     2013-03-04   1.8  -0.6   5.0   0.0  303.0  28.1  1003.0\n",
       "4     2013-03-05   2.9   0.0   6.1   0.0   -1.0  16.6  1013.5\n",
       "...          ...   ...   ...   ...   ...    ...   ...     ...\n",
       "3648  2023-02-25  -7.9 -10.6  -6.7   0.3  313.0  11.9  1029.5\n",
       "3649  2023-02-26  -4.2  -7.8   3.9   0.0  268.0  11.9  1012.6\n",
       "3650  2023-02-27  -1.7  -2.8  -0.6   0.0   46.0  18.7  1014.9\n",
       "3651  2023-02-28   0.6  -1.7   2.2   7.1   86.0  23.8  1010.7\n",
       "3652  2023-03-01   2.4   0.6   5.6   0.0   12.0  14.0  1019.1\n",
       "\n",
       "[3653 rows x 8 columns]"
      ]
     },
     "execution_count": 26,
     "metadata": {},
     "output_type": "execute_result"
    }
   ],
   "source": [
    "\n"
   ]
  },
  {
   "cell_type": "code",
   "execution_count": 36,
   "metadata": {},
   "outputs": [
    {
     "data": {
      "text/html": [
       "<div>\n",
       "<style scoped>\n",
       "    .dataframe tbody tr th:only-of-type {\n",
       "        vertical-align: middle;\n",
       "    }\n",
       "\n",
       "    .dataframe tbody tr th {\n",
       "        vertical-align: top;\n",
       "    }\n",
       "\n",
       "    .dataframe thead th {\n",
       "        text-align: right;\n",
       "    }\n",
       "</style>\n",
       "<table border=\"1\" class=\"dataframe\">\n",
       "  <thead>\n",
       "    <tr style=\"text-align: right;\">\n",
       "      <th></th>\n",
       "      <th>blue_essence_price</th>\n",
       "      <th>rp_price</th>\n",
       "      <th>HP</th>\n",
       "      <th>HP+</th>\n",
       "      <th>HP_lvl18</th>\n",
       "      <th>HP5</th>\n",
       "      <th>HP5+</th>\n",
       "      <th>HP5_lvl18</th>\n",
       "      <th>MP</th>\n",
       "      <th>MP+</th>\n",
       "      <th>...</th>\n",
       "      <th>AR</th>\n",
       "      <th>AR+</th>\n",
       "      <th>AR_lvl18</th>\n",
       "      <th>MR</th>\n",
       "      <th>MR+</th>\n",
       "      <th>MR_lvl18</th>\n",
       "      <th>MS</th>\n",
       "      <th>MS_lvl18</th>\n",
       "      <th>range</th>\n",
       "      <th>range_lvl18</th>\n",
       "    </tr>\n",
       "  </thead>\n",
       "  <tbody>\n",
       "    <tr>\n",
       "      <th>blue_essence_price</th>\n",
       "      <td>1.000000</td>\n",
       "      <td>0.936931</td>\n",
       "      <td>-0.071830</td>\n",
       "      <td>0.069817</td>\n",
       "      <td>0.063824</td>\n",
       "      <td>0.001157</td>\n",
       "      <td>0.073228</td>\n",
       "      <td>0.060861</td>\n",
       "      <td>0.058653</td>\n",
       "      <td>-0.046165</td>\n",
       "      <td>...</td>\n",
       "      <td>-0.053877</td>\n",
       "      <td>0.101462</td>\n",
       "      <td>0.044605</td>\n",
       "      <td>-0.121481</td>\n",
       "      <td>0.004095</td>\n",
       "      <td>-0.021083</td>\n",
       "      <td>-0.143037</td>\n",
       "      <td>-0.143037</td>\n",
       "      <td>0.091524</td>\n",
       "      <td>0.091524</td>\n",
       "    </tr>\n",
       "    <tr>\n",
       "      <th>rp_price</th>\n",
       "      <td>0.936931</td>\n",
       "      <td>1.000000</td>\n",
       "      <td>-0.104153</td>\n",
       "      <td>0.097773</td>\n",
       "      <td>0.083608</td>\n",
       "      <td>0.026228</td>\n",
       "      <td>0.061212</td>\n",
       "      <td>0.061944</td>\n",
       "      <td>0.080530</td>\n",
       "      <td>-0.041412</td>\n",
       "      <td>...</td>\n",
       "      <td>-0.056104</td>\n",
       "      <td>0.107091</td>\n",
       "      <td>0.046896</td>\n",
       "      <td>-0.130823</td>\n",
       "      <td>0.001840</td>\n",
       "      <td>-0.023833</td>\n",
       "      <td>-0.136748</td>\n",
       "      <td>-0.136748</td>\n",
       "      <td>0.092976</td>\n",
       "      <td>0.092976</td>\n",
       "    </tr>\n",
       "    <tr>\n",
       "      <th>HP</th>\n",
       "      <td>-0.071830</td>\n",
       "      <td>-0.104153</td>\n",
       "      <td>1.000000</td>\n",
       "      <td>0.416824</td>\n",
       "      <td>0.626670</td>\n",
       "      <td>0.218078</td>\n",
       "      <td>0.181361</td>\n",
       "      <td>0.241386</td>\n",
       "      <td>-0.286032</td>\n",
       "      <td>0.006715</td>\n",
       "      <td>...</td>\n",
       "      <td>0.389487</td>\n",
       "      <td>0.031316</td>\n",
       "      <td>0.251136</td>\n",
       "      <td>0.320075</td>\n",
       "      <td>0.374564</td>\n",
       "      <td>0.388612</td>\n",
       "      <td>0.450108</td>\n",
       "      <td>0.450108</td>\n",
       "      <td>-0.465939</td>\n",
       "      <td>-0.465939</td>\n",
       "    </tr>\n",
       "    <tr>\n",
       "      <th>HP+</th>\n",
       "      <td>0.069817</td>\n",
       "      <td>0.097773</td>\n",
       "      <td>0.416824</td>\n",
       "      <td>1.000000</td>\n",
       "      <td>0.954695</td>\n",
       "      <td>0.199610</td>\n",
       "      <td>0.151225</td>\n",
       "      <td>0.208215</td>\n",
       "      <td>-0.075942</td>\n",
       "      <td>0.003136</td>\n",
       "      <td>...</td>\n",
       "      <td>0.016836</td>\n",
       "      <td>0.092495</td>\n",
       "      <td>0.079871</td>\n",
       "      <td>0.217762</td>\n",
       "      <td>0.279841</td>\n",
       "      <td>0.294759</td>\n",
       "      <td>0.229334</td>\n",
       "      <td>0.229334</td>\n",
       "      <td>-0.203228</td>\n",
       "      <td>-0.203228</td>\n",
       "    </tr>\n",
       "    <tr>\n",
       "      <th>HP_lvl18</th>\n",
       "      <td>0.063824</td>\n",
       "      <td>0.083608</td>\n",
       "      <td>0.626670</td>\n",
       "      <td>0.954695</td>\n",
       "      <td>1.000000</td>\n",
       "      <td>0.213362</td>\n",
       "      <td>0.156938</td>\n",
       "      <td>0.219245</td>\n",
       "      <td>-0.141612</td>\n",
       "      <td>-0.013035</td>\n",
       "      <td>...</td>\n",
       "      <td>0.118999</td>\n",
       "      <td>0.111393</td>\n",
       "      <td>0.155519</td>\n",
       "      <td>0.264210</td>\n",
       "      <td>0.345869</td>\n",
       "      <td>0.356899</td>\n",
       "      <td>0.307821</td>\n",
       "      <td>0.307821</td>\n",
       "      <td>-0.302622</td>\n",
       "      <td>-0.302622</td>\n",
       "    </tr>\n",
       "    <tr>\n",
       "      <th>HP5</th>\n",
       "      <td>0.001157</td>\n",
       "      <td>0.026228</td>\n",
       "      <td>0.218078</td>\n",
       "      <td>0.199610</td>\n",
       "      <td>0.213362</td>\n",
       "      <td>1.000000</td>\n",
       "      <td>0.258112</td>\n",
       "      <td>0.652749</td>\n",
       "      <td>-0.086726</td>\n",
       "      <td>0.041275</td>\n",
       "      <td>...</td>\n",
       "      <td>0.355986</td>\n",
       "      <td>0.124523</td>\n",
       "      <td>0.299845</td>\n",
       "      <td>0.408893</td>\n",
       "      <td>0.459401</td>\n",
       "      <td>0.489283</td>\n",
       "      <td>0.418574</td>\n",
       "      <td>0.418574</td>\n",
       "      <td>-0.610548</td>\n",
       "      <td>-0.610548</td>\n",
       "    </tr>\n",
       "    <tr>\n",
       "      <th>HP5+</th>\n",
       "      <td>0.073228</td>\n",
       "      <td>0.061212</td>\n",
       "      <td>0.181361</td>\n",
       "      <td>0.151225</td>\n",
       "      <td>0.156938</td>\n",
       "      <td>0.258112</td>\n",
       "      <td>1.000000</td>\n",
       "      <td>0.899798</td>\n",
       "      <td>-0.224716</td>\n",
       "      <td>-0.110571</td>\n",
       "      <td>...</td>\n",
       "      <td>0.326472</td>\n",
       "      <td>0.160438</td>\n",
       "      <td>0.307011</td>\n",
       "      <td>0.293055</td>\n",
       "      <td>0.568207</td>\n",
       "      <td>0.560085</td>\n",
       "      <td>0.208379</td>\n",
       "      <td>0.208379</td>\n",
       "      <td>-0.369732</td>\n",
       "      <td>-0.369732</td>\n",
       "    </tr>\n",
       "    <tr>\n",
       "      <th>HP5_lvl18</th>\n",
       "      <td>0.060861</td>\n",
       "      <td>0.061944</td>\n",
       "      <td>0.241386</td>\n",
       "      <td>0.208215</td>\n",
       "      <td>0.219245</td>\n",
       "      <td>0.652749</td>\n",
       "      <td>0.899798</td>\n",
       "      <td>1.000000</td>\n",
       "      <td>-0.212818</td>\n",
       "      <td>-0.066353</td>\n",
       "      <td>...</td>\n",
       "      <td>0.412622</td>\n",
       "      <td>0.184131</td>\n",
       "      <td>0.374833</td>\n",
       "      <td>0.414681</td>\n",
       "      <td>0.650349</td>\n",
       "      <td>0.657806</td>\n",
       "      <td>0.349534</td>\n",
       "      <td>0.349534</td>\n",
       "      <td>-0.563787</td>\n",
       "      <td>-0.563787</td>\n",
       "    </tr>\n",
       "    <tr>\n",
       "      <th>MP</th>\n",
       "      <td>0.058653</td>\n",
       "      <td>0.080530</td>\n",
       "      <td>-0.286032</td>\n",
       "      <td>-0.075942</td>\n",
       "      <td>-0.141612</td>\n",
       "      <td>-0.086726</td>\n",
       "      <td>-0.224716</td>\n",
       "      <td>-0.212818</td>\n",
       "      <td>1.000000</td>\n",
       "      <td>0.525127</td>\n",
       "      <td>...</td>\n",
       "      <td>-0.380328</td>\n",
       "      <td>0.038836</td>\n",
       "      <td>-0.194807</td>\n",
       "      <td>-0.204563</td>\n",
       "      <td>-0.383958</td>\n",
       "      <td>-0.376329</td>\n",
       "      <td>-0.216956</td>\n",
       "      <td>-0.216956</td>\n",
       "      <td>0.424229</td>\n",
       "      <td>0.424229</td>\n",
       "    </tr>\n",
       "    <tr>\n",
       "      <th>MP+</th>\n",
       "      <td>-0.046165</td>\n",
       "      <td>-0.041412</td>\n",
       "      <td>0.006715</td>\n",
       "      <td>0.003136</td>\n",
       "      <td>-0.013035</td>\n",
       "      <td>0.041275</td>\n",
       "      <td>-0.110571</td>\n",
       "      <td>-0.066353</td>\n",
       "      <td>0.525127</td>\n",
       "      <td>1.000000</td>\n",
       "      <td>...</td>\n",
       "      <td>-0.012710</td>\n",
       "      <td>0.022992</td>\n",
       "      <td>0.008666</td>\n",
       "      <td>-0.012003</td>\n",
       "      <td>-0.105411</td>\n",
       "      <td>-0.094041</td>\n",
       "      <td>-0.093263</td>\n",
       "      <td>-0.093263</td>\n",
       "      <td>0.066242</td>\n",
       "      <td>0.066242</td>\n",
       "    </tr>\n",
       "    <tr>\n",
       "      <th>MP_lvl18</th>\n",
       "      <td>0.014073</td>\n",
       "      <td>0.033650</td>\n",
       "      <td>0.124823</td>\n",
       "      <td>0.069775</td>\n",
       "      <td>0.066181</td>\n",
       "      <td>0.267141</td>\n",
       "      <td>0.028062</td>\n",
       "      <td>0.154635</td>\n",
       "      <td>0.118135</td>\n",
       "      <td>0.942134</td>\n",
       "      <td>...</td>\n",
       "      <td>0.086787</td>\n",
       "      <td>0.130480</td>\n",
       "      <td>0.142246</td>\n",
       "      <td>0.134955</td>\n",
       "      <td>0.185265</td>\n",
       "      <td>0.188645</td>\n",
       "      <td>-0.011924</td>\n",
       "      <td>-0.011924</td>\n",
       "      <td>-0.207480</td>\n",
       "      <td>-0.207480</td>\n",
       "    </tr>\n",
       "    <tr>\n",
       "      <th>MP5</th>\n",
       "      <td>-0.011776</td>\n",
       "      <td>0.025846</td>\n",
       "      <td>-0.133403</td>\n",
       "      <td>-0.084254</td>\n",
       "      <td>-0.108503</td>\n",
       "      <td>0.016098</td>\n",
       "      <td>-0.132674</td>\n",
       "      <td>-0.095620</td>\n",
       "      <td>0.202408</td>\n",
       "      <td>-0.059714</td>\n",
       "      <td>...</td>\n",
       "      <td>-0.070443</td>\n",
       "      <td>0.007881</td>\n",
       "      <td>-0.035724</td>\n",
       "      <td>0.110090</td>\n",
       "      <td>-0.068862</td>\n",
       "      <td>-0.039951</td>\n",
       "      <td>0.055356</td>\n",
       "      <td>0.055356</td>\n",
       "      <td>0.046315</td>\n",
       "      <td>0.046315</td>\n",
       "    </tr>\n",
       "    <tr>\n",
       "      <th>MP5+</th>\n",
       "      <td>0.026080</td>\n",
       "      <td>0.017385</td>\n",
       "      <td>-0.087685</td>\n",
       "      <td>0.109357</td>\n",
       "      <td>0.062685</td>\n",
       "      <td>-0.039923</td>\n",
       "      <td>-0.169109</td>\n",
       "      <td>-0.146954</td>\n",
       "      <td>0.737483</td>\n",
       "      <td>0.689449</td>\n",
       "      <td>...</td>\n",
       "      <td>-0.259644</td>\n",
       "      <td>-0.067660</td>\n",
       "      <td>-0.199912</td>\n",
       "      <td>-0.085739</td>\n",
       "      <td>-0.289238</td>\n",
       "      <td>-0.266946</td>\n",
       "      <td>-0.178374</td>\n",
       "      <td>-0.178374</td>\n",
       "      <td>0.289927</td>\n",
       "      <td>0.289927</td>\n",
       "    </tr>\n",
       "    <tr>\n",
       "      <th>MP5_lvl18</th>\n",
       "      <td>0.078164</td>\n",
       "      <td>0.068150</td>\n",
       "      <td>-0.121420</td>\n",
       "      <td>0.126279</td>\n",
       "      <td>0.076142</td>\n",
       "      <td>0.080993</td>\n",
       "      <td>-0.145842</td>\n",
       "      <td>-0.043739</td>\n",
       "      <td>0.578014</td>\n",
       "      <td>0.091673</td>\n",
       "      <td>...</td>\n",
       "      <td>-0.251128</td>\n",
       "      <td>-0.024717</td>\n",
       "      <td>-0.167730</td>\n",
       "      <td>-0.009636</td>\n",
       "      <td>-0.182684</td>\n",
       "      <td>-0.148898</td>\n",
       "      <td>-0.160859</td>\n",
       "      <td>-0.160859</td>\n",
       "      <td>0.179957</td>\n",
       "      <td>0.179957</td>\n",
       "    </tr>\n",
       "    <tr>\n",
       "      <th>AD</th>\n",
       "      <td>0.018204</td>\n",
       "      <td>0.009766</td>\n",
       "      <td>0.392172</td>\n",
       "      <td>0.223132</td>\n",
       "      <td>0.283155</td>\n",
       "      <td>0.333267</td>\n",
       "      <td>0.303006</td>\n",
       "      <td>0.387604</td>\n",
       "      <td>-0.380118</td>\n",
       "      <td>-0.018440</td>\n",
       "      <td>...</td>\n",
       "      <td>0.538200</td>\n",
       "      <td>0.038726</td>\n",
       "      <td>0.340830</td>\n",
       "      <td>0.416951</td>\n",
       "      <td>0.572175</td>\n",
       "      <td>0.585468</td>\n",
       "      <td>0.417907</td>\n",
       "      <td>0.417907</td>\n",
       "      <td>-0.631582</td>\n",
       "      <td>-0.631582</td>\n",
       "    </tr>\n",
       "    <tr>\n",
       "      <th>AD+</th>\n",
       "      <td>-0.082756</td>\n",
       "      <td>-0.048129</td>\n",
       "      <td>0.284482</td>\n",
       "      <td>0.262789</td>\n",
       "      <td>0.298037</td>\n",
       "      <td>0.210413</td>\n",
       "      <td>0.336571</td>\n",
       "      <td>0.357415</td>\n",
       "      <td>-0.288990</td>\n",
       "      <td>-0.006051</td>\n",
       "      <td>...</td>\n",
       "      <td>0.325306</td>\n",
       "      <td>0.267860</td>\n",
       "      <td>0.388923</td>\n",
       "      <td>0.198070</td>\n",
       "      <td>0.447304</td>\n",
       "      <td>0.435487</td>\n",
       "      <td>0.259876</td>\n",
       "      <td>0.259876</td>\n",
       "      <td>-0.398776</td>\n",
       "      <td>-0.398776</td>\n",
       "    </tr>\n",
       "    <tr>\n",
       "      <th>AD_lvl18</th>\n",
       "      <td>-0.065139</td>\n",
       "      <td>-0.040166</td>\n",
       "      <td>0.376157</td>\n",
       "      <td>0.286877</td>\n",
       "      <td>0.338483</td>\n",
       "      <td>0.294194</td>\n",
       "      <td>0.384571</td>\n",
       "      <td>0.433068</td>\n",
       "      <td>-0.376637</td>\n",
       "      <td>-0.015417</td>\n",
       "      <td>...</td>\n",
       "      <td>0.461292</td>\n",
       "      <td>0.224875</td>\n",
       "      <td>0.435481</td>\n",
       "      <td>0.314832</td>\n",
       "      <td>0.567071</td>\n",
       "      <td>0.565202</td>\n",
       "      <td>0.367540</td>\n",
       "      <td>0.367540</td>\n",
       "      <td>-0.565688</td>\n",
       "      <td>-0.565688</td>\n",
       "    </tr>\n",
       "    <tr>\n",
       "      <th>AS</th>\n",
       "      <td>-0.061162</td>\n",
       "      <td>-0.019865</td>\n",
       "      <td>0.123271</td>\n",
       "      <td>-0.006110</td>\n",
       "      <td>0.024514</td>\n",
       "      <td>0.005974</td>\n",
       "      <td>0.015133</td>\n",
       "      <td>0.013031</td>\n",
       "      <td>-0.150560</td>\n",
       "      <td>-0.076332</td>\n",
       "      <td>...</td>\n",
       "      <td>0.182174</td>\n",
       "      <td>0.001009</td>\n",
       "      <td>0.108214</td>\n",
       "      <td>0.021059</td>\n",
       "      <td>0.131184</td>\n",
       "      <td>0.120948</td>\n",
       "      <td>0.096769</td>\n",
       "      <td>0.096769</td>\n",
       "      <td>-0.247060</td>\n",
       "      <td>-0.247060</td>\n",
       "    </tr>\n",
       "    <tr>\n",
       "      <th>AS+</th>\n",
       "      <td>0.118029</td>\n",
       "      <td>0.117974</td>\n",
       "      <td>-0.016986</td>\n",
       "      <td>-0.042832</td>\n",
       "      <td>-0.040484</td>\n",
       "      <td>-0.075090</td>\n",
       "      <td>0.145292</td>\n",
       "      <td>0.080562</td>\n",
       "      <td>-0.183621</td>\n",
       "      <td>-0.066590</td>\n",
       "      <td>...</td>\n",
       "      <td>0.112533</td>\n",
       "      <td>-0.195991</td>\n",
       "      <td>-0.078848</td>\n",
       "      <td>-0.009198</td>\n",
       "      <td>-0.029886</td>\n",
       "      <td>-0.026655</td>\n",
       "      <td>0.044914</td>\n",
       "      <td>0.044914</td>\n",
       "      <td>-0.066534</td>\n",
       "      <td>-0.066534</td>\n",
       "    </tr>\n",
       "    <tr>\n",
       "      <th>AS_lvl18</th>\n",
       "      <td>0.059929</td>\n",
       "      <td>0.084997</td>\n",
       "      <td>0.049538</td>\n",
       "      <td>-0.013321</td>\n",
       "      <td>0.001291</td>\n",
       "      <td>-0.045965</td>\n",
       "      <td>0.135179</td>\n",
       "      <td>0.085014</td>\n",
       "      <td>-0.225886</td>\n",
       "      <td>-0.092111</td>\n",
       "      <td>...</td>\n",
       "      <td>0.164370</td>\n",
       "      <td>-0.167217</td>\n",
       "      <td>-0.026892</td>\n",
       "      <td>0.004191</td>\n",
       "      <td>0.033496</td>\n",
       "      <td>0.032173</td>\n",
       "      <td>0.097348</td>\n",
       "      <td>0.097348</td>\n",
       "      <td>-0.172233</td>\n",
       "      <td>-0.172233</td>\n",
       "    </tr>\n",
       "    <tr>\n",
       "      <th>AR</th>\n",
       "      <td>-0.053877</td>\n",
       "      <td>-0.056104</td>\n",
       "      <td>0.389487</td>\n",
       "      <td>0.016836</td>\n",
       "      <td>0.118999</td>\n",
       "      <td>0.355986</td>\n",
       "      <td>0.326472</td>\n",
       "      <td>0.412622</td>\n",
       "      <td>-0.380328</td>\n",
       "      <td>-0.012710</td>\n",
       "      <td>...</td>\n",
       "      <td>1.000000</td>\n",
       "      <td>0.124356</td>\n",
       "      <td>0.684291</td>\n",
       "      <td>0.357520</td>\n",
       "      <td>0.640917</td>\n",
       "      <td>0.634779</td>\n",
       "      <td>0.316657</td>\n",
       "      <td>0.316657</td>\n",
       "      <td>-0.715594</td>\n",
       "      <td>-0.715594</td>\n",
       "    </tr>\n",
       "    <tr>\n",
       "      <th>AR+</th>\n",
       "      <td>0.101462</td>\n",
       "      <td>0.107091</td>\n",
       "      <td>0.031316</td>\n",
       "      <td>0.092495</td>\n",
       "      <td>0.111393</td>\n",
       "      <td>0.124523</td>\n",
       "      <td>0.160438</td>\n",
       "      <td>0.184131</td>\n",
       "      <td>0.038836</td>\n",
       "      <td>0.022992</td>\n",
       "      <td>...</td>\n",
       "      <td>0.124356</td>\n",
       "      <td>1.000000</td>\n",
       "      <td>0.807371</td>\n",
       "      <td>0.118423</td>\n",
       "      <td>0.319648</td>\n",
       "      <td>0.303789</td>\n",
       "      <td>-0.082355</td>\n",
       "      <td>-0.082355</td>\n",
       "      <td>-0.087211</td>\n",
       "      <td>-0.087211</td>\n",
       "    </tr>\n",
       "    <tr>\n",
       "      <th>AR_lvl18</th>\n",
       "      <td>0.044605</td>\n",
       "      <td>0.046896</td>\n",
       "      <td>0.251136</td>\n",
       "      <td>0.079871</td>\n",
       "      <td>0.155519</td>\n",
       "      <td>0.299845</td>\n",
       "      <td>0.307011</td>\n",
       "      <td>0.374833</td>\n",
       "      <td>-0.194807</td>\n",
       "      <td>0.008666</td>\n",
       "      <td>...</td>\n",
       "      <td>0.684291</td>\n",
       "      <td>0.807371</td>\n",
       "      <td>1.000000</td>\n",
       "      <td>0.297368</td>\n",
       "      <td>0.613583</td>\n",
       "      <td>0.598125</td>\n",
       "      <td>0.123827</td>\n",
       "      <td>0.123827</td>\n",
       "      <td>-0.485495</td>\n",
       "      <td>-0.485495</td>\n",
       "    </tr>\n",
       "    <tr>\n",
       "      <th>MR</th>\n",
       "      <td>-0.121481</td>\n",
       "      <td>-0.130823</td>\n",
       "      <td>0.320075</td>\n",
       "      <td>0.217762</td>\n",
       "      <td>0.264210</td>\n",
       "      <td>0.408893</td>\n",
       "      <td>0.293055</td>\n",
       "      <td>0.414681</td>\n",
       "      <td>-0.204563</td>\n",
       "      <td>-0.012003</td>\n",
       "      <td>...</td>\n",
       "      <td>0.357520</td>\n",
       "      <td>0.118423</td>\n",
       "      <td>0.297368</td>\n",
       "      <td>1.000000</td>\n",
       "      <td>0.547708</td>\n",
       "      <td>0.663547</td>\n",
       "      <td>0.397425</td>\n",
       "      <td>0.397425</td>\n",
       "      <td>-0.529579</td>\n",
       "      <td>-0.529579</td>\n",
       "    </tr>\n",
       "    <tr>\n",
       "      <th>MR+</th>\n",
       "      <td>0.004095</td>\n",
       "      <td>0.001840</td>\n",
       "      <td>0.374564</td>\n",
       "      <td>0.279841</td>\n",
       "      <td>0.345869</td>\n",
       "      <td>0.459401</td>\n",
       "      <td>0.568207</td>\n",
       "      <td>0.650349</td>\n",
       "      <td>-0.383958</td>\n",
       "      <td>-0.105411</td>\n",
       "      <td>...</td>\n",
       "      <td>0.640917</td>\n",
       "      <td>0.319648</td>\n",
       "      <td>0.613583</td>\n",
       "      <td>0.547708</td>\n",
       "      <td>1.000000</td>\n",
       "      <td>0.987900</td>\n",
       "      <td>0.394688</td>\n",
       "      <td>0.394688</td>\n",
       "      <td>-0.785154</td>\n",
       "      <td>-0.785154</td>\n",
       "    </tr>\n",
       "    <tr>\n",
       "      <th>MR_lvl18</th>\n",
       "      <td>-0.021083</td>\n",
       "      <td>-0.023833</td>\n",
       "      <td>0.388612</td>\n",
       "      <td>0.294759</td>\n",
       "      <td>0.356899</td>\n",
       "      <td>0.489283</td>\n",
       "      <td>0.560085</td>\n",
       "      <td>0.657806</td>\n",
       "      <td>-0.376329</td>\n",
       "      <td>-0.094041</td>\n",
       "      <td>...</td>\n",
       "      <td>0.634779</td>\n",
       "      <td>0.303789</td>\n",
       "      <td>0.598125</td>\n",
       "      <td>0.663547</td>\n",
       "      <td>0.987900</td>\n",
       "      <td>1.000000</td>\n",
       "      <td>0.424825</td>\n",
       "      <td>0.424825</td>\n",
       "      <td>-0.795462</td>\n",
       "      <td>-0.795462</td>\n",
       "    </tr>\n",
       "    <tr>\n",
       "      <th>MS</th>\n",
       "      <td>-0.143037</td>\n",
       "      <td>-0.136748</td>\n",
       "      <td>0.450108</td>\n",
       "      <td>0.229334</td>\n",
       "      <td>0.307821</td>\n",
       "      <td>0.418574</td>\n",
       "      <td>0.208379</td>\n",
       "      <td>0.349534</td>\n",
       "      <td>-0.216956</td>\n",
       "      <td>-0.093263</td>\n",
       "      <td>...</td>\n",
       "      <td>0.316657</td>\n",
       "      <td>-0.082355</td>\n",
       "      <td>0.123827</td>\n",
       "      <td>0.397425</td>\n",
       "      <td>0.394688</td>\n",
       "      <td>0.424825</td>\n",
       "      <td>1.000000</td>\n",
       "      <td>1.000000</td>\n",
       "      <td>-0.538549</td>\n",
       "      <td>-0.538549</td>\n",
       "    </tr>\n",
       "    <tr>\n",
       "      <th>MS_lvl18</th>\n",
       "      <td>-0.143037</td>\n",
       "      <td>-0.136748</td>\n",
       "      <td>0.450108</td>\n",
       "      <td>0.229334</td>\n",
       "      <td>0.307821</td>\n",
       "      <td>0.418574</td>\n",
       "      <td>0.208379</td>\n",
       "      <td>0.349534</td>\n",
       "      <td>-0.216956</td>\n",
       "      <td>-0.093263</td>\n",
       "      <td>...</td>\n",
       "      <td>0.316657</td>\n",
       "      <td>-0.082355</td>\n",
       "      <td>0.123827</td>\n",
       "      <td>0.397425</td>\n",
       "      <td>0.394688</td>\n",
       "      <td>0.424825</td>\n",
       "      <td>1.000000</td>\n",
       "      <td>1.000000</td>\n",
       "      <td>-0.538549</td>\n",
       "      <td>-0.538549</td>\n",
       "    </tr>\n",
       "    <tr>\n",
       "      <th>range</th>\n",
       "      <td>0.091524</td>\n",
       "      <td>0.092976</td>\n",
       "      <td>-0.465939</td>\n",
       "      <td>-0.203228</td>\n",
       "      <td>-0.302622</td>\n",
       "      <td>-0.610548</td>\n",
       "      <td>-0.369732</td>\n",
       "      <td>-0.563787</td>\n",
       "      <td>0.424229</td>\n",
       "      <td>0.066242</td>\n",
       "      <td>...</td>\n",
       "      <td>-0.715594</td>\n",
       "      <td>-0.087211</td>\n",
       "      <td>-0.485495</td>\n",
       "      <td>-0.529579</td>\n",
       "      <td>-0.785154</td>\n",
       "      <td>-0.795462</td>\n",
       "      <td>-0.538549</td>\n",
       "      <td>-0.538549</td>\n",
       "      <td>1.000000</td>\n",
       "      <td>1.000000</td>\n",
       "    </tr>\n",
       "    <tr>\n",
       "      <th>range_lvl18</th>\n",
       "      <td>0.091524</td>\n",
       "      <td>0.092976</td>\n",
       "      <td>-0.465939</td>\n",
       "      <td>-0.203228</td>\n",
       "      <td>-0.302622</td>\n",
       "      <td>-0.610548</td>\n",
       "      <td>-0.369732</td>\n",
       "      <td>-0.563787</td>\n",
       "      <td>0.424229</td>\n",
       "      <td>0.066242</td>\n",
       "      <td>...</td>\n",
       "      <td>-0.715594</td>\n",
       "      <td>-0.087211</td>\n",
       "      <td>-0.485495</td>\n",
       "      <td>-0.529579</td>\n",
       "      <td>-0.785154</td>\n",
       "      <td>-0.795462</td>\n",
       "      <td>-0.538549</td>\n",
       "      <td>-0.538549</td>\n",
       "      <td>1.000000</td>\n",
       "      <td>1.000000</td>\n",
       "    </tr>\n",
       "  </tbody>\n",
       "</table>\n",
       "<p>30 rows × 30 columns</p>\n",
       "</div>"
      ],
      "text/plain": [
       "                    blue_essence_price  rp_price        HP       HP+  \\\n",
       "blue_essence_price            1.000000  0.936931 -0.071830  0.069817   \n",
       "rp_price                      0.936931  1.000000 -0.104153  0.097773   \n",
       "HP                           -0.071830 -0.104153  1.000000  0.416824   \n",
       "HP+                           0.069817  0.097773  0.416824  1.000000   \n",
       "HP_lvl18                      0.063824  0.083608  0.626670  0.954695   \n",
       "HP5                           0.001157  0.026228  0.218078  0.199610   \n",
       "HP5+                          0.073228  0.061212  0.181361  0.151225   \n",
       "HP5_lvl18                     0.060861  0.061944  0.241386  0.208215   \n",
       "MP                            0.058653  0.080530 -0.286032 -0.075942   \n",
       "MP+                          -0.046165 -0.041412  0.006715  0.003136   \n",
       "MP_lvl18                      0.014073  0.033650  0.124823  0.069775   \n",
       "MP5                          -0.011776  0.025846 -0.133403 -0.084254   \n",
       "MP5+                          0.026080  0.017385 -0.087685  0.109357   \n",
       "MP5_lvl18                     0.078164  0.068150 -0.121420  0.126279   \n",
       "AD                            0.018204  0.009766  0.392172  0.223132   \n",
       "AD+                          -0.082756 -0.048129  0.284482  0.262789   \n",
       "AD_lvl18                     -0.065139 -0.040166  0.376157  0.286877   \n",
       "AS                           -0.061162 -0.019865  0.123271 -0.006110   \n",
       "AS+                           0.118029  0.117974 -0.016986 -0.042832   \n",
       "AS_lvl18                      0.059929  0.084997  0.049538 -0.013321   \n",
       "AR                           -0.053877 -0.056104  0.389487  0.016836   \n",
       "AR+                           0.101462  0.107091  0.031316  0.092495   \n",
       "AR_lvl18                      0.044605  0.046896  0.251136  0.079871   \n",
       "MR                           -0.121481 -0.130823  0.320075  0.217762   \n",
       "MR+                           0.004095  0.001840  0.374564  0.279841   \n",
       "MR_lvl18                     -0.021083 -0.023833  0.388612  0.294759   \n",
       "MS                           -0.143037 -0.136748  0.450108  0.229334   \n",
       "MS_lvl18                     -0.143037 -0.136748  0.450108  0.229334   \n",
       "range                         0.091524  0.092976 -0.465939 -0.203228   \n",
       "range_lvl18                   0.091524  0.092976 -0.465939 -0.203228   \n",
       "\n",
       "                    HP_lvl18       HP5      HP5+  HP5_lvl18        MP  \\\n",
       "blue_essence_price  0.063824  0.001157  0.073228   0.060861  0.058653   \n",
       "rp_price            0.083608  0.026228  0.061212   0.061944  0.080530   \n",
       "HP                  0.626670  0.218078  0.181361   0.241386 -0.286032   \n",
       "HP+                 0.954695  0.199610  0.151225   0.208215 -0.075942   \n",
       "HP_lvl18            1.000000  0.213362  0.156938   0.219245 -0.141612   \n",
       "HP5                 0.213362  1.000000  0.258112   0.652749 -0.086726   \n",
       "HP5+                0.156938  0.258112  1.000000   0.899798 -0.224716   \n",
       "HP5_lvl18           0.219245  0.652749  0.899798   1.000000 -0.212818   \n",
       "MP                 -0.141612 -0.086726 -0.224716  -0.212818  1.000000   \n",
       "MP+                -0.013035  0.041275 -0.110571  -0.066353  0.525127   \n",
       "MP_lvl18            0.066181  0.267141  0.028062   0.154635  0.118135   \n",
       "MP5                -0.108503  0.016098 -0.132674  -0.095620  0.202408   \n",
       "MP5+                0.062685 -0.039923 -0.169109  -0.146954  0.737483   \n",
       "MP5_lvl18           0.076142  0.080993 -0.145842  -0.043739  0.578014   \n",
       "AD                  0.283155  0.333267  0.303006   0.387604 -0.380118   \n",
       "AD+                 0.298037  0.210413  0.336571   0.357415 -0.288990   \n",
       "AD_lvl18            0.338483  0.294194  0.384571   0.433068 -0.376637   \n",
       "AS                  0.024514  0.005974  0.015133   0.013031 -0.150560   \n",
       "AS+                -0.040484 -0.075090  0.145292   0.080562 -0.183621   \n",
       "AS_lvl18            0.001291 -0.045965  0.135179   0.085014 -0.225886   \n",
       "AR                  0.118999  0.355986  0.326472   0.412622 -0.380328   \n",
       "AR+                 0.111393  0.124523  0.160438   0.184131  0.038836   \n",
       "AR_lvl18            0.155519  0.299845  0.307011   0.374833 -0.194807   \n",
       "MR                  0.264210  0.408893  0.293055   0.414681 -0.204563   \n",
       "MR+                 0.345869  0.459401  0.568207   0.650349 -0.383958   \n",
       "MR_lvl18            0.356899  0.489283  0.560085   0.657806 -0.376329   \n",
       "MS                  0.307821  0.418574  0.208379   0.349534 -0.216956   \n",
       "MS_lvl18            0.307821  0.418574  0.208379   0.349534 -0.216956   \n",
       "range              -0.302622 -0.610548 -0.369732  -0.563787  0.424229   \n",
       "range_lvl18        -0.302622 -0.610548 -0.369732  -0.563787  0.424229   \n",
       "\n",
       "                         MP+  ...        AR       AR+  AR_lvl18        MR  \\\n",
       "blue_essence_price -0.046165  ... -0.053877  0.101462  0.044605 -0.121481   \n",
       "rp_price           -0.041412  ... -0.056104  0.107091  0.046896 -0.130823   \n",
       "HP                  0.006715  ...  0.389487  0.031316  0.251136  0.320075   \n",
       "HP+                 0.003136  ...  0.016836  0.092495  0.079871  0.217762   \n",
       "HP_lvl18           -0.013035  ...  0.118999  0.111393  0.155519  0.264210   \n",
       "HP5                 0.041275  ...  0.355986  0.124523  0.299845  0.408893   \n",
       "HP5+               -0.110571  ...  0.326472  0.160438  0.307011  0.293055   \n",
       "HP5_lvl18          -0.066353  ...  0.412622  0.184131  0.374833  0.414681   \n",
       "MP                  0.525127  ... -0.380328  0.038836 -0.194807 -0.204563   \n",
       "MP+                 1.000000  ... -0.012710  0.022992  0.008666 -0.012003   \n",
       "MP_lvl18            0.942134  ...  0.086787  0.130480  0.142246  0.134955   \n",
       "MP5                -0.059714  ... -0.070443  0.007881 -0.035724  0.110090   \n",
       "MP5+                0.689449  ... -0.259644 -0.067660 -0.199912 -0.085739   \n",
       "MP5_lvl18           0.091673  ... -0.251128 -0.024717 -0.167730 -0.009636   \n",
       "AD                 -0.018440  ...  0.538200  0.038726  0.340830  0.416951   \n",
       "AD+                -0.006051  ...  0.325306  0.267860  0.388923  0.198070   \n",
       "AD_lvl18           -0.015417  ...  0.461292  0.224875  0.435481  0.314832   \n",
       "AS                 -0.076332  ...  0.182174  0.001009  0.108214  0.021059   \n",
       "AS+                -0.066590  ...  0.112533 -0.195991 -0.078848 -0.009198   \n",
       "AS_lvl18           -0.092111  ...  0.164370 -0.167217 -0.026892  0.004191   \n",
       "AR                 -0.012710  ...  1.000000  0.124356  0.684291  0.357520   \n",
       "AR+                 0.022992  ...  0.124356  1.000000  0.807371  0.118423   \n",
       "AR_lvl18            0.008666  ...  0.684291  0.807371  1.000000  0.297368   \n",
       "MR                 -0.012003  ...  0.357520  0.118423  0.297368  1.000000   \n",
       "MR+                -0.105411  ...  0.640917  0.319648  0.613583  0.547708   \n",
       "MR_lvl18           -0.094041  ...  0.634779  0.303789  0.598125  0.663547   \n",
       "MS                 -0.093263  ...  0.316657 -0.082355  0.123827  0.397425   \n",
       "MS_lvl18           -0.093263  ...  0.316657 -0.082355  0.123827  0.397425   \n",
       "range               0.066242  ... -0.715594 -0.087211 -0.485495 -0.529579   \n",
       "range_lvl18         0.066242  ... -0.715594 -0.087211 -0.485495 -0.529579   \n",
       "\n",
       "                         MR+  MR_lvl18        MS  MS_lvl18     range  \\\n",
       "blue_essence_price  0.004095 -0.021083 -0.143037 -0.143037  0.091524   \n",
       "rp_price            0.001840 -0.023833 -0.136748 -0.136748  0.092976   \n",
       "HP                  0.374564  0.388612  0.450108  0.450108 -0.465939   \n",
       "HP+                 0.279841  0.294759  0.229334  0.229334 -0.203228   \n",
       "HP_lvl18            0.345869  0.356899  0.307821  0.307821 -0.302622   \n",
       "HP5                 0.459401  0.489283  0.418574  0.418574 -0.610548   \n",
       "HP5+                0.568207  0.560085  0.208379  0.208379 -0.369732   \n",
       "HP5_lvl18           0.650349  0.657806  0.349534  0.349534 -0.563787   \n",
       "MP                 -0.383958 -0.376329 -0.216956 -0.216956  0.424229   \n",
       "MP+                -0.105411 -0.094041 -0.093263 -0.093263  0.066242   \n",
       "MP_lvl18            0.185265  0.188645 -0.011924 -0.011924 -0.207480   \n",
       "MP5                -0.068862 -0.039951  0.055356  0.055356  0.046315   \n",
       "MP5+               -0.289238 -0.266946 -0.178374 -0.178374  0.289927   \n",
       "MP5_lvl18          -0.182684 -0.148898 -0.160859 -0.160859  0.179957   \n",
       "AD                  0.572175  0.585468  0.417907  0.417907 -0.631582   \n",
       "AD+                 0.447304  0.435487  0.259876  0.259876 -0.398776   \n",
       "AD_lvl18            0.567071  0.565202  0.367540  0.367540 -0.565688   \n",
       "AS                  0.131184  0.120948  0.096769  0.096769 -0.247060   \n",
       "AS+                -0.029886 -0.026655  0.044914  0.044914 -0.066534   \n",
       "AS_lvl18            0.033496  0.032173  0.097348  0.097348 -0.172233   \n",
       "AR                  0.640917  0.634779  0.316657  0.316657 -0.715594   \n",
       "AR+                 0.319648  0.303789 -0.082355 -0.082355 -0.087211   \n",
       "AR_lvl18            0.613583  0.598125  0.123827  0.123827 -0.485495   \n",
       "MR                  0.547708  0.663547  0.397425  0.397425 -0.529579   \n",
       "MR+                 1.000000  0.987900  0.394688  0.394688 -0.785154   \n",
       "MR_lvl18            0.987900  1.000000  0.424825  0.424825 -0.795462   \n",
       "MS                  0.394688  0.424825  1.000000  1.000000 -0.538549   \n",
       "MS_lvl18            0.394688  0.424825  1.000000  1.000000 -0.538549   \n",
       "range              -0.785154 -0.795462 -0.538549 -0.538549  1.000000   \n",
       "range_lvl18        -0.785154 -0.795462 -0.538549 -0.538549  1.000000   \n",
       "\n",
       "                    range_lvl18  \n",
       "blue_essence_price     0.091524  \n",
       "rp_price               0.092976  \n",
       "HP                    -0.465939  \n",
       "HP+                   -0.203228  \n",
       "HP_lvl18              -0.302622  \n",
       "HP5                   -0.610548  \n",
       "HP5+                  -0.369732  \n",
       "HP5_lvl18             -0.563787  \n",
       "MP                     0.424229  \n",
       "MP+                    0.066242  \n",
       "MP_lvl18              -0.207480  \n",
       "MP5                    0.046315  \n",
       "MP5+                   0.289927  \n",
       "MP5_lvl18              0.179957  \n",
       "AD                    -0.631582  \n",
       "AD+                   -0.398776  \n",
       "AD_lvl18              -0.565688  \n",
       "AS                    -0.247060  \n",
       "AS+                   -0.066534  \n",
       "AS_lvl18              -0.172233  \n",
       "AR                    -0.715594  \n",
       "AR+                   -0.087211  \n",
       "AR_lvl18              -0.485495  \n",
       "MR                    -0.529579  \n",
       "MR+                   -0.785154  \n",
       "MR_lvl18              -0.795462  \n",
       "MS                    -0.538549  \n",
       "MS_lvl18              -0.538549  \n",
       "range                  1.000000  \n",
       "range_lvl18            1.000000  \n",
       "\n",
       "[30 rows x 30 columns]"
      ]
     },
     "execution_count": 36,
     "metadata": {},
     "output_type": "execute_result"
    }
   ],
   "source": [
    "lol_df.corr(numeric_only=True)"
   ]
  },
  {
   "cell_type": "markdown",
   "metadata": {},
   "source": [
    "## Part 1 Task 4"
   ]
  },
  {
   "cell_type": "code",
   "execution_count": 42,
   "metadata": {},
   "outputs": [
    {
     "data": {
      "application/vnd.plotly.v1+json": {
       "config": {
        "plotlyServerURL": "https://plot.ly"
       },
       "data": [
        {
         "domain": {
          "x": [
           0,
           0.45
          ],
          "y": [
           0,
           1
          ]
         },
         "labels": [
          "Artillery",
          "Assassin",
          "Battlemage",
          "Burst",
          "Catcher",
          "Diver",
          "Enchanter",
          "Juggernaut",
          "Marksman",
          "Skirmisher",
          "Specialist",
          "Vanguard",
          "Warden"
         ],
         "textinfo": "label+percent",
         "type": "pie",
         "values": [
          4,
          16,
          11,
          15,
          7,
          15,
          7,
          14,
          22,
          12,
          15,
          13,
          6
         ]
        },
        {
         "mode": "lines+markers",
         "name": "RP(BEP)",
         "type": "scatter",
         "x": [
          4800,
          3150,
          3150,
          1350,
          450,
          3150,
          450,
          6300,
          450,
          6300,
          4800,
          6300,
          3150,
          4800,
          4800,
          4800,
          6300,
          4800,
          1350,
          3150,
          4800,
          4800,
          450,
          4800,
          6300,
          4800,
          1350,
          3150,
          1350,
          4800,
          4800,
          3150,
          3150,
          450,
          4800,
          3150,
          4800,
          6300,
          4800,
          3150,
          6300,
          4800,
          6300,
          1350,
          4800,
          1350,
          4800,
          6300,
          4800,
          6300,
          4800,
          3150,
          3150,
          3150,
          3150,
          450,
          6300,
          4800,
          4800,
          6300,
          6300,
          6300,
          4800,
          3150,
          4800,
          4800,
          6300,
          4800,
          4800,
          4800,
          3150,
          1350,
          4800,
          4800,
          450,
          4800,
          3150,
          1350,
          1350,
          4800,
          1350,
          4800,
          6300,
          3150,
          4800,
          450,
          3150,
          4800,
          6300,
          3150,
          450,
          6300,
          6300,
          4800,
          6300,
          1350,
          4800,
          6300,
          4800,
          4800,
          4800,
          4800,
          450,
          6300,
          4800,
          6300,
          6300,
          6300,
          3150,
          3150,
          3150,
          450,
          1350,
          450,
          4800,
          3150,
          450,
          4800,
          6300,
          4800,
          6300,
          6300,
          4800,
          1350,
          1350,
          4800,
          1350,
          3150,
          1350,
          1350,
          3150,
          1350,
          3150,
          4800,
          4800,
          1350,
          4800,
          4800,
          6300,
          4800,
          3150,
          3150,
          450,
          4800,
          6300,
          4800,
          1350,
          4800,
          6300,
          4800,
          6300,
          4800,
          4800,
          4800,
          1350,
          6300,
          4800
         ],
         "xaxis": "x",
         "y": [
          880,
          790,
          790,
          585,
          260,
          790,
          260,
          975,
          260,
          975,
          880,
          975,
          790,
          880,
          880,
          880,
          975,
          880,
          585,
          790,
          880,
          880,
          260,
          880,
          975,
          880,
          585,
          790,
          585,
          880,
          880,
          790,
          790,
          260,
          880,
          790,
          880,
          975,
          880,
          790,
          975,
          880,
          975,
          585,
          880,
          585,
          880,
          975,
          880,
          975,
          880,
          790,
          790,
          790,
          790,
          260,
          975,
          880,
          880,
          975,
          975,
          975,
          880,
          790,
          880,
          880,
          975,
          880,
          880,
          880,
          790,
          585,
          880,
          880,
          260,
          880,
          790,
          585,
          585,
          880,
          585,
          880,
          975,
          790,
          880,
          260,
          790,
          880,
          975,
          790,
          260,
          975,
          975,
          880,
          975,
          585,
          880,
          975,
          880,
          880,
          880,
          880,
          260,
          975,
          880,
          975,
          975,
          975,
          790,
          790,
          790,
          260,
          585,
          260,
          880,
          790,
          260,
          880,
          975,
          880,
          975,
          975,
          880,
          585,
          585,
          880,
          585,
          790,
          585,
          585,
          790,
          585,
          790,
          880,
          880,
          585,
          880,
          880,
          975,
          880,
          790,
          790,
          260,
          880,
          975,
          880,
          585,
          880,
          975,
          880,
          975,
          880,
          880,
          880,
          585,
          975,
          880
         ],
         "yaxis": "y"
        }
       ],
       "layout": {
        "template": {
         "data": {
          "bar": [
           {
            "error_x": {
             "color": "#2a3f5f"
            },
            "error_y": {
             "color": "#2a3f5f"
            },
            "marker": {
             "line": {
              "color": "#E5ECF6",
              "width": 0.5
             },
             "pattern": {
              "fillmode": "overlay",
              "size": 10,
              "solidity": 0.2
             }
            },
            "type": "bar"
           }
          ],
          "barpolar": [
           {
            "marker": {
             "line": {
              "color": "#E5ECF6",
              "width": 0.5
             },
             "pattern": {
              "fillmode": "overlay",
              "size": 10,
              "solidity": 0.2
             }
            },
            "type": "barpolar"
           }
          ],
          "carpet": [
           {
            "aaxis": {
             "endlinecolor": "#2a3f5f",
             "gridcolor": "white",
             "linecolor": "white",
             "minorgridcolor": "white",
             "startlinecolor": "#2a3f5f"
            },
            "baxis": {
             "endlinecolor": "#2a3f5f",
             "gridcolor": "white",
             "linecolor": "white",
             "minorgridcolor": "white",
             "startlinecolor": "#2a3f5f"
            },
            "type": "carpet"
           }
          ],
          "choropleth": [
           {
            "colorbar": {
             "outlinewidth": 0,
             "ticks": ""
            },
            "type": "choropleth"
           }
          ],
          "contour": [
           {
            "colorbar": {
             "outlinewidth": 0,
             "ticks": ""
            },
            "colorscale": [
             [
              0,
              "#0d0887"
             ],
             [
              0.1111111111111111,
              "#46039f"
             ],
             [
              0.2222222222222222,
              "#7201a8"
             ],
             [
              0.3333333333333333,
              "#9c179e"
             ],
             [
              0.4444444444444444,
              "#bd3786"
             ],
             [
              0.5555555555555556,
              "#d8576b"
             ],
             [
              0.6666666666666666,
              "#ed7953"
             ],
             [
              0.7777777777777778,
              "#fb9f3a"
             ],
             [
              0.8888888888888888,
              "#fdca26"
             ],
             [
              1,
              "#f0f921"
             ]
            ],
            "type": "contour"
           }
          ],
          "contourcarpet": [
           {
            "colorbar": {
             "outlinewidth": 0,
             "ticks": ""
            },
            "type": "contourcarpet"
           }
          ],
          "heatmap": [
           {
            "colorbar": {
             "outlinewidth": 0,
             "ticks": ""
            },
            "colorscale": [
             [
              0,
              "#0d0887"
             ],
             [
              0.1111111111111111,
              "#46039f"
             ],
             [
              0.2222222222222222,
              "#7201a8"
             ],
             [
              0.3333333333333333,
              "#9c179e"
             ],
             [
              0.4444444444444444,
              "#bd3786"
             ],
             [
              0.5555555555555556,
              "#d8576b"
             ],
             [
              0.6666666666666666,
              "#ed7953"
             ],
             [
              0.7777777777777778,
              "#fb9f3a"
             ],
             [
              0.8888888888888888,
              "#fdca26"
             ],
             [
              1,
              "#f0f921"
             ]
            ],
            "type": "heatmap"
           }
          ],
          "heatmapgl": [
           {
            "colorbar": {
             "outlinewidth": 0,
             "ticks": ""
            },
            "colorscale": [
             [
              0,
              "#0d0887"
             ],
             [
              0.1111111111111111,
              "#46039f"
             ],
             [
              0.2222222222222222,
              "#7201a8"
             ],
             [
              0.3333333333333333,
              "#9c179e"
             ],
             [
              0.4444444444444444,
              "#bd3786"
             ],
             [
              0.5555555555555556,
              "#d8576b"
             ],
             [
              0.6666666666666666,
              "#ed7953"
             ],
             [
              0.7777777777777778,
              "#fb9f3a"
             ],
             [
              0.8888888888888888,
              "#fdca26"
             ],
             [
              1,
              "#f0f921"
             ]
            ],
            "type": "heatmapgl"
           }
          ],
          "histogram": [
           {
            "marker": {
             "pattern": {
              "fillmode": "overlay",
              "size": 10,
              "solidity": 0.2
             }
            },
            "type": "histogram"
           }
          ],
          "histogram2d": [
           {
            "colorbar": {
             "outlinewidth": 0,
             "ticks": ""
            },
            "colorscale": [
             [
              0,
              "#0d0887"
             ],
             [
              0.1111111111111111,
              "#46039f"
             ],
             [
              0.2222222222222222,
              "#7201a8"
             ],
             [
              0.3333333333333333,
              "#9c179e"
             ],
             [
              0.4444444444444444,
              "#bd3786"
             ],
             [
              0.5555555555555556,
              "#d8576b"
             ],
             [
              0.6666666666666666,
              "#ed7953"
             ],
             [
              0.7777777777777778,
              "#fb9f3a"
             ],
             [
              0.8888888888888888,
              "#fdca26"
             ],
             [
              1,
              "#f0f921"
             ]
            ],
            "type": "histogram2d"
           }
          ],
          "histogram2dcontour": [
           {
            "colorbar": {
             "outlinewidth": 0,
             "ticks": ""
            },
            "colorscale": [
             [
              0,
              "#0d0887"
             ],
             [
              0.1111111111111111,
              "#46039f"
             ],
             [
              0.2222222222222222,
              "#7201a8"
             ],
             [
              0.3333333333333333,
              "#9c179e"
             ],
             [
              0.4444444444444444,
              "#bd3786"
             ],
             [
              0.5555555555555556,
              "#d8576b"
             ],
             [
              0.6666666666666666,
              "#ed7953"
             ],
             [
              0.7777777777777778,
              "#fb9f3a"
             ],
             [
              0.8888888888888888,
              "#fdca26"
             ],
             [
              1,
              "#f0f921"
             ]
            ],
            "type": "histogram2dcontour"
           }
          ],
          "mesh3d": [
           {
            "colorbar": {
             "outlinewidth": 0,
             "ticks": ""
            },
            "type": "mesh3d"
           }
          ],
          "parcoords": [
           {
            "line": {
             "colorbar": {
              "outlinewidth": 0,
              "ticks": ""
             }
            },
            "type": "parcoords"
           }
          ],
          "pie": [
           {
            "automargin": true,
            "type": "pie"
           }
          ],
          "scatter": [
           {
            "fillpattern": {
             "fillmode": "overlay",
             "size": 10,
             "solidity": 0.2
            },
            "type": "scatter"
           }
          ],
          "scatter3d": [
           {
            "line": {
             "colorbar": {
              "outlinewidth": 0,
              "ticks": ""
             }
            },
            "marker": {
             "colorbar": {
              "outlinewidth": 0,
              "ticks": ""
             }
            },
            "type": "scatter3d"
           }
          ],
          "scattercarpet": [
           {
            "marker": {
             "colorbar": {
              "outlinewidth": 0,
              "ticks": ""
             }
            },
            "type": "scattercarpet"
           }
          ],
          "scattergeo": [
           {
            "marker": {
             "colorbar": {
              "outlinewidth": 0,
              "ticks": ""
             }
            },
            "type": "scattergeo"
           }
          ],
          "scattergl": [
           {
            "marker": {
             "colorbar": {
              "outlinewidth": 0,
              "ticks": ""
             }
            },
            "type": "scattergl"
           }
          ],
          "scattermapbox": [
           {
            "marker": {
             "colorbar": {
              "outlinewidth": 0,
              "ticks": ""
             }
            },
            "type": "scattermapbox"
           }
          ],
          "scatterpolar": [
           {
            "marker": {
             "colorbar": {
              "outlinewidth": 0,
              "ticks": ""
             }
            },
            "type": "scatterpolar"
           }
          ],
          "scatterpolargl": [
           {
            "marker": {
             "colorbar": {
              "outlinewidth": 0,
              "ticks": ""
             }
            },
            "type": "scatterpolargl"
           }
          ],
          "scatterternary": [
           {
            "marker": {
             "colorbar": {
              "outlinewidth": 0,
              "ticks": ""
             }
            },
            "type": "scatterternary"
           }
          ],
          "surface": [
           {
            "colorbar": {
             "outlinewidth": 0,
             "ticks": ""
            },
            "colorscale": [
             [
              0,
              "#0d0887"
             ],
             [
              0.1111111111111111,
              "#46039f"
             ],
             [
              0.2222222222222222,
              "#7201a8"
             ],
             [
              0.3333333333333333,
              "#9c179e"
             ],
             [
              0.4444444444444444,
              "#bd3786"
             ],
             [
              0.5555555555555556,
              "#d8576b"
             ],
             [
              0.6666666666666666,
              "#ed7953"
             ],
             [
              0.7777777777777778,
              "#fb9f3a"
             ],
             [
              0.8888888888888888,
              "#fdca26"
             ],
             [
              1,
              "#f0f921"
             ]
            ],
            "type": "surface"
           }
          ],
          "table": [
           {
            "cells": {
             "fill": {
              "color": "#EBF0F8"
             },
             "line": {
              "color": "white"
             }
            },
            "header": {
             "fill": {
              "color": "#C8D4E3"
             },
             "line": {
              "color": "white"
             }
            },
            "type": "table"
           }
          ]
         },
         "layout": {
          "annotationdefaults": {
           "arrowcolor": "#2a3f5f",
           "arrowhead": 0,
           "arrowwidth": 1
          },
          "autotypenumbers": "strict",
          "coloraxis": {
           "colorbar": {
            "outlinewidth": 0,
            "ticks": ""
           }
          },
          "colorscale": {
           "diverging": [
            [
             0,
             "#8e0152"
            ],
            [
             0.1,
             "#c51b7d"
            ],
            [
             0.2,
             "#de77ae"
            ],
            [
             0.3,
             "#f1b6da"
            ],
            [
             0.4,
             "#fde0ef"
            ],
            [
             0.5,
             "#f7f7f7"
            ],
            [
             0.6,
             "#e6f5d0"
            ],
            [
             0.7,
             "#b8e186"
            ],
            [
             0.8,
             "#7fbc41"
            ],
            [
             0.9,
             "#4d9221"
            ],
            [
             1,
             "#276419"
            ]
           ],
           "sequential": [
            [
             0,
             "#0d0887"
            ],
            [
             0.1111111111111111,
             "#46039f"
            ],
            [
             0.2222222222222222,
             "#7201a8"
            ],
            [
             0.3333333333333333,
             "#9c179e"
            ],
            [
             0.4444444444444444,
             "#bd3786"
            ],
            [
             0.5555555555555556,
             "#d8576b"
            ],
            [
             0.6666666666666666,
             "#ed7953"
            ],
            [
             0.7777777777777778,
             "#fb9f3a"
            ],
            [
             0.8888888888888888,
             "#fdca26"
            ],
            [
             1,
             "#f0f921"
            ]
           ],
           "sequentialminus": [
            [
             0,
             "#0d0887"
            ],
            [
             0.1111111111111111,
             "#46039f"
            ],
            [
             0.2222222222222222,
             "#7201a8"
            ],
            [
             0.3333333333333333,
             "#9c179e"
            ],
            [
             0.4444444444444444,
             "#bd3786"
            ],
            [
             0.5555555555555556,
             "#d8576b"
            ],
            [
             0.6666666666666666,
             "#ed7953"
            ],
            [
             0.7777777777777778,
             "#fb9f3a"
            ],
            [
             0.8888888888888888,
             "#fdca26"
            ],
            [
             1,
             "#f0f921"
            ]
           ]
          },
          "colorway": [
           "#636efa",
           "#EF553B",
           "#00cc96",
           "#ab63fa",
           "#FFA15A",
           "#19d3f3",
           "#FF6692",
           "#B6E880",
           "#FF97FF",
           "#FECB52"
          ],
          "font": {
           "color": "#2a3f5f"
          },
          "geo": {
           "bgcolor": "white",
           "lakecolor": "white",
           "landcolor": "#E5ECF6",
           "showlakes": true,
           "showland": true,
           "subunitcolor": "white"
          },
          "hoverlabel": {
           "align": "left"
          },
          "hovermode": "closest",
          "mapbox": {
           "style": "light"
          },
          "paper_bgcolor": "white",
          "plot_bgcolor": "#E5ECF6",
          "polar": {
           "angularaxis": {
            "gridcolor": "white",
            "linecolor": "white",
            "ticks": ""
           },
           "bgcolor": "#E5ECF6",
           "radialaxis": {
            "gridcolor": "white",
            "linecolor": "white",
            "ticks": ""
           }
          },
          "scene": {
           "xaxis": {
            "backgroundcolor": "#E5ECF6",
            "gridcolor": "white",
            "gridwidth": 2,
            "linecolor": "white",
            "showbackground": true,
            "ticks": "",
            "zerolinecolor": "white"
           },
           "yaxis": {
            "backgroundcolor": "#E5ECF6",
            "gridcolor": "white",
            "gridwidth": 2,
            "linecolor": "white",
            "showbackground": true,
            "ticks": "",
            "zerolinecolor": "white"
           },
           "zaxis": {
            "backgroundcolor": "#E5ECF6",
            "gridcolor": "white",
            "gridwidth": 2,
            "linecolor": "white",
            "showbackground": true,
            "ticks": "",
            "zerolinecolor": "white"
           }
          },
          "shapedefaults": {
           "line": {
            "color": "#2a3f5f"
           }
          },
          "ternary": {
           "aaxis": {
            "gridcolor": "white",
            "linecolor": "white",
            "ticks": ""
           },
           "baxis": {
            "gridcolor": "white",
            "linecolor": "white",
            "ticks": ""
           },
           "bgcolor": "#E5ECF6",
           "caxis": {
            "gridcolor": "white",
            "linecolor": "white",
            "ticks": ""
           }
          },
          "title": {
           "x": 0.05
          },
          "xaxis": {
           "automargin": true,
           "gridcolor": "white",
           "linecolor": "white",
           "ticks": "",
           "title": {
            "standoff": 15
           },
           "zerolinecolor": "white",
           "zerolinewidth": 2
          },
          "yaxis": {
           "automargin": true,
           "gridcolor": "white",
           "linecolor": "white",
           "ticks": "",
           "title": {
            "standoff": 15
           },
           "zerolinecolor": "white",
           "zerolinewidth": 2
          }
         }
        },
        "title": {
         "text": "Different charts on one figure"
        },
        "xaxis": {
         "anchor": "y",
         "domain": [
          0.55,
          1
         ],
         "title": {
          "text": "Blue essence price"
         }
        },
        "yaxis": {
         "anchor": "x",
         "domain": [
          0,
          1
         ],
         "title": {
          "text": "RP price"
         }
        }
       }
      }
     },
     "metadata": {},
     "output_type": "display_data"
    }
   ],
   "source": [
    "from plotly.subplots import make_subplots\n",
    "import plotly.express as px\n",
    "import plotly.graph_objs as go\n",
    "\n",
    "\n",
    "\n",
    "fig = make_subplots(rows=1, cols=2, specs=[[{'type':'domain'}, {'type':'scatter'}]])\n",
    "fig.add_trace(\n",
    "    go.Pie(labels=lol_df_class_count['playstyle'], values=lol_df_class_count['amount'], textinfo='label+percent'), 1, 1 \n",
    ")\n",
    "fig.add_trace(\n",
    "    go.Scatter(x=lol_df['blue_essence_price'], y=lol_df['rp_price'], name='RP(BEP)', mode='lines+markers'), 1, 2\n",
    ")\n",
    "fig.update_layout(title='Different charts on one figure')\n",
    "fig.update_xaxes(title='Blue essence price', row=1, col=2)\n",
    "fig.update_yaxes(title='RP price', row=1, col=2)\n",
    "fig.show()"
   ]
  },
  {
   "cell_type": "markdown",
   "metadata": {},
   "source": [
    "## Part 1 Task 5"
   ]
  },
  {
   "cell_type": "code",
   "execution_count": 47,
   "metadata": {},
   "outputs": [
    {
     "name": "stdout",
     "output_type": "stream",
     "text": [
      "<class 'pandas.core.frame.DataFrame'>\n",
      "RangeIndex: 3653 entries, 0 to 3652\n",
      "Data columns (total 8 columns):\n",
      " #   Column  Non-Null Count  Dtype  \n",
      "---  ------  --------------  -----  \n",
      " 0   time    3653 non-null   object \n",
      " 1   tavg    3653 non-null   float64\n",
      " 2   tmin    3653 non-null   float64\n",
      " 3   tmax    3653 non-null   float64\n",
      " 4   prcp    3653 non-null   float64\n",
      " 5   wdir    3653 non-null   float64\n",
      " 6   wspd    3653 non-null   float64\n",
      " 7   pres    3653 non-null   float64\n",
      "dtypes: float64(7), object(1)\n",
      "memory usage: 228.4+ KB\n"
     ]
    }
   ],
   "source": [
    "# loading\n",
    "\n",
    "boston_df = pd.read_csv('boston_weather_data.csv')\n",
    "boston_df.fillna(-1, inplace=True)\n",
    "boston_df.info()"
   ]
  },
  {
   "cell_type": "code",
   "execution_count": 49,
   "metadata": {},
   "outputs": [
    {
     "name": "stdout",
     "output_type": "stream",
     "text": [
      "<class 'pandas.core.frame.DataFrame'>\n",
      "RangeIndex: 3653 entries, 0 to 3652\n",
      "Data columns (total 8 columns):\n",
      " #   Column  Non-Null Count  Dtype         \n",
      "---  ------  --------------  -----         \n",
      " 0   time    3653 non-null   datetime64[ns]\n",
      " 1   tavg    3653 non-null   float64       \n",
      " 2   tmin    3653 non-null   float64       \n",
      " 3   tmax    3653 non-null   float64       \n",
      " 4   prcp    3653 non-null   float64       \n",
      " 5   wdir    3653 non-null   float64       \n",
      " 6   wspd    3653 non-null   float64       \n",
      " 7   pres    3653 non-null   float64       \n",
      "dtypes: datetime64[ns](1), float64(7)\n",
      "memory usage: 228.4 KB\n"
     ]
    }
   ],
   "source": [
    "boston_df['time'] = pd.to_datetime(boston_df['time'], format='%Y-%m-%d')\n",
    "boston_df.info()"
   ]
  },
  {
   "cell_type": "code",
   "execution_count": 61,
   "metadata": {},
   "outputs": [
    {
     "data": {
      "text/plain": [
       "0      3.2\n",
       "1      3.1\n",
       "2      2.6\n",
       "3      1.8\n",
       "4      2.9\n",
       "      ... \n",
       "301   -0.7\n",
       "302    1.9\n",
       "303    3.3\n",
       "304    3.6\n",
       "305   -6.3\n",
       "Name: tavg, Length: 306, dtype: float64"
      ]
     },
     "execution_count": 61,
     "metadata": {},
     "output_type": "execute_result"
    }
   ],
   "source": [
    "temp_2013 = boston_df.query(\"time >= '2013-01-01' and time < '2014-01-01'\")['tavg']\n",
    "temp_2013"
   ]
  },
  {
   "cell_type": "code",
   "execution_count": 62,
   "metadata": {},
   "outputs": [
    {
     "data": {
      "text/plain": [
       "3593    11.4\n",
       "3594     6.5\n",
       "3595     4.9\n",
       "3596     5.2\n",
       "3597     5.6\n",
       "3598     1.6\n",
       "3599     3.0\n",
       "3600    -0.2\n",
       "3601     1.4\n",
       "3602     2.7\n",
       "3603    -1.7\n",
       "3604     1.3\n",
       "3605    11.1\n",
       "3606     2.7\n",
       "3607     0.9\n",
       "3608    -0.4\n",
       "3609     3.2\n",
       "3610     7.3\n",
       "3611     4.3\n",
       "3612     1.7\n",
       "3613    -0.4\n",
       "3614    -0.6\n",
       "3615     1.6\n",
       "3616     1.0\n",
       "3617     1.8\n",
       "3618     7.2\n",
       "3619     2.4\n",
       "3620     3.8\n",
       "3621     6.1\n",
       "3622     6.4\n",
       "3623     2.3\n",
       "3624    -3.6\n",
       "3625    -1.2\n",
       "3626    -3.9\n",
       "3627   -17.8\n",
       "3628    -1.1\n",
       "3629     4.9\n",
       "3630    -0.7\n",
       "3631     4.4\n",
       "3632     4.8\n",
       "3633     8.4\n",
       "3634     5.1\n",
       "3635     3.9\n",
       "3636     4.8\n",
       "3637     5.8\n",
       "3638     6.3\n",
       "3639    13.0\n",
       "3640    10.4\n",
       "3641    -0.9\n",
       "3642     3.4\n",
       "3643     9.9\n",
       "3644     5.0\n",
       "3645     4.4\n",
       "3646     0.5\n",
       "3647    -0.9\n",
       "3648    -7.9\n",
       "3649    -4.2\n",
       "3650    -1.7\n",
       "3651     0.6\n",
       "3652     2.4\n",
       "Name: tavg, dtype: float64"
      ]
     },
     "execution_count": 62,
     "metadata": {},
     "output_type": "execute_result"
    }
   ],
   "source": [
    "temp_2023 = boston_df.query(\"time >= '2023-01-01' and time < '2024-01-01'\")['tavg']\n",
    "temp_2023"
   ]
  },
  {
   "cell_type": "code",
   "execution_count": 55,
   "metadata": {},
   "outputs": [],
   "source": [
    "from scipy import stats"
   ]
  },
  {
   "cell_type": "code",
   "execution_count": 63,
   "metadata": {},
   "outputs": [
    {
     "data": {
      "text/plain": [
       "TtestResult(statistic=9.0119610851921, pvalue=1.1642958697576085e-17, df=364.0)"
      ]
     },
     "execution_count": 63,
     "metadata": {},
     "output_type": "execute_result"
    }
   ],
   "source": [
    "stats.ttest_ind(temp_2013, temp_2023)\n",
    "\n",
    "# p-value is significantly less that a=0.05 so we can suppose that average every-day temperature in 2013 and 2023 is not the same"
   ]
  }
 ],
 "metadata": {
  "kernelspec": {
   "display_name": "venv",
   "language": "python",
   "name": "python3"
  },
  "language_info": {
   "codemirror_mode": {
    "name": "ipython",
    "version": 3
   },
   "file_extension": ".py",
   "mimetype": "text/x-python",
   "name": "python",
   "nbconvert_exporter": "python",
   "pygments_lexer": "ipython3",
   "version": "3.12.1"
  }
 },
 "nbformat": 4,
 "nbformat_minor": 2
}
