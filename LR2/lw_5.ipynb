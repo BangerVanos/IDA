{
 "cells": [
  {
   "cell_type": "code",
   "execution_count": 1,
   "metadata": {},
   "outputs": [
    {
     "name": "stderr",
     "output_type": "stream",
     "text": [
      "C:\\Users\\User\\AppData\\Local\\Temp\\ipykernel_10988\\3408715458.py:1: DeprecationWarning: \n",
      "Pyarrow will become a required dependency of pandas in the next major release of pandas (pandas 3.0),\n",
      "(to allow more performant data types, such as the Arrow string type, and better interoperability with other libraries)\n",
      "but was not found to be installed on your system.\n",
      "If this would cause problems for you,\n",
      "please provide us feedback at https://github.com/pandas-dev/pandas/issues/54466\n",
      "        \n",
      "  import pandas as pd\n"
     ]
    }
   ],
   "source": [
    "import pandas as pd\n",
    "import plotly.express as px\n",
    "from sklearn.preprocessing import TargetEncoder\n",
    "from sklearn.feature_selection import f_classif, mutual_info_classif, RFE\n",
    "from sklearn.model_selection import train_test_split\n",
    "from sklearn.svm import SVC\n",
    "import xgboost as xgb\n",
    "from sklearn.metrics import classification_report"
   ]
  },
  {
   "cell_type": "code",
   "execution_count": 2,
   "metadata": {},
   "outputs": [],
   "source": [
    "df = pd.read_csv('data_science_job.csv')\n",
    "df.drop('enrollee_id', axis=1, inplace=True)"
   ]
  },
  {
   "cell_type": "code",
   "execution_count": 3,
   "metadata": {},
   "outputs": [
    {
     "data": {
      "text/plain": [
       "city                         0\n",
       "city_development_index     479\n",
       "gender                    4508\n",
       "relevent_experience          0\n",
       "enrolled_university        386\n",
       "education_level            460\n",
       "major_discipline          2813\n",
       "experience                  65\n",
       "company_size              5938\n",
       "company_type              6140\n",
       "training_hours             766\n",
       "target                       0\n",
       "dtype: int64"
      ]
     },
     "execution_count": 3,
     "metadata": {},
     "output_type": "execute_result"
    }
   ],
   "source": [
    "df.isna().sum()"
   ]
  },
  {
   "cell_type": "code",
   "execution_count": 4,
   "metadata": {},
   "outputs": [],
   "source": [
    "# Fill nan values\n",
    "df['city_development_index'] = df['city_development_index'].fillna(df['city_development_index'].median())\n",
    "df['gender'] = df['gender'].fillna(df['gender'].mode()[0])\n",
    "df['enrolled_university'] = df['enrolled_university'].fillna(df['enrolled_university'].mode()[0])\n",
    "df['education_level'] = df['education_level'].fillna(df['education_level'].mode()[0])\n",
    "df['major_discipline'] = df['major_discipline'].fillna(df['major_discipline'].mode()[0])\n",
    "df['experience'] = df['experience'].fillna(df['experience'].median())\n",
    "df['company_size'] = df['company_size'].fillna(df['company_size'].mode()[0])\n",
    "df['company_type'] = df['company_type'].fillna(df['company_type'].mode()[0])\n",
    "df['training_hours'] = df['training_hours'].fillna(df['training_hours'].median())"
   ]
  },
  {
   "cell_type": "code",
   "execution_count": 5,
   "metadata": {},
   "outputs": [
    {
     "data": {
      "text/plain": [
       "city                      0\n",
       "city_development_index    0\n",
       "gender                    0\n",
       "relevent_experience       0\n",
       "enrolled_university       0\n",
       "education_level           0\n",
       "major_discipline          0\n",
       "experience                0\n",
       "company_size              0\n",
       "company_type              0\n",
       "training_hours            0\n",
       "target                    0\n",
       "dtype: int64"
      ]
     },
     "execution_count": 5,
     "metadata": {},
     "output_type": "execute_result"
    }
   ],
   "source": [
    "df.isna().sum()"
   ]
  },
  {
   "cell_type": "code",
   "execution_count": 6,
   "metadata": {},
   "outputs": [],
   "source": [
    "df['target'] = df['target'].astype('boolean')"
   ]
  },
  {
   "cell_type": "code",
   "execution_count": 7,
   "metadata": {},
   "outputs": [
    {
     "name": "stdout",
     "output_type": "stream",
     "text": [
      "<class 'pandas.core.frame.DataFrame'>\n",
      "RangeIndex: 19158 entries, 0 to 19157\n",
      "Data columns (total 12 columns):\n",
      " #   Column                  Non-Null Count  Dtype  \n",
      "---  ------                  --------------  -----  \n",
      " 0   city                    19158 non-null  object \n",
      " 1   city_development_index  19158 non-null  float64\n",
      " 2   gender                  19158 non-null  object \n",
      " 3   relevent_experience     19158 non-null  object \n",
      " 4   enrolled_university     19158 non-null  object \n",
      " 5   education_level         19158 non-null  object \n",
      " 6   major_discipline        19158 non-null  object \n",
      " 7   experience              19158 non-null  float64\n",
      " 8   company_size            19158 non-null  object \n",
      " 9   company_type            19158 non-null  object \n",
      " 10  training_hours          19158 non-null  float64\n",
      " 11  target                  19158 non-null  boolean\n",
      "dtypes: boolean(1), float64(3), object(8)\n",
      "memory usage: 1.6+ MB\n"
     ]
    }
   ],
   "source": [
    "df.info()"
   ]
  },
  {
   "cell_type": "code",
   "execution_count": 8,
   "metadata": {},
   "outputs": [],
   "source": [
    "tg = TargetEncoder(smooth='auto', target_type='binary')\n",
    "y = df['target']\n",
    "x = df.drop(list(df.select_dtypes(exclude='object').columns), axis=1)\n",
    "\n",
    "x_trans = tg.fit_transform(x, y)\n",
    "df_encoded = pd.DataFrame(x_trans, columns=x.columns)"
   ]
  },
  {
   "cell_type": "code",
   "execution_count": 9,
   "metadata": {},
   "outputs": [
    {
     "data": {
      "text/html": [
       "<div>\n",
       "<style scoped>\n",
       "    .dataframe tbody tr th:only-of-type {\n",
       "        vertical-align: middle;\n",
       "    }\n",
       "\n",
       "    .dataframe tbody tr th {\n",
       "        vertical-align: top;\n",
       "    }\n",
       "\n",
       "    .dataframe thead th {\n",
       "        text-align: right;\n",
       "    }\n",
       "</style>\n",
       "<table border=\"1\" class=\"dataframe\">\n",
       "  <thead>\n",
       "    <tr style=\"text-align: right;\">\n",
       "      <th></th>\n",
       "      <th>city</th>\n",
       "      <th>gender</th>\n",
       "      <th>relevent_experience</th>\n",
       "      <th>enrolled_university</th>\n",
       "      <th>education_level</th>\n",
       "      <th>major_discipline</th>\n",
       "      <th>company_size</th>\n",
       "      <th>company_type</th>\n",
       "      <th>target</th>\n",
       "    </tr>\n",
       "  </thead>\n",
       "  <tbody>\n",
       "    <tr>\n",
       "      <th>0</th>\n",
       "      <td>0.211707</td>\n",
       "      <td>0.248080</td>\n",
       "      <td>0.216106</td>\n",
       "      <td>0.213735</td>\n",
       "      <td>0.278731</td>\n",
       "      <td>0.250740</td>\n",
       "      <td>0.330122</td>\n",
       "      <td>0.261464</td>\n",
       "      <td>True</td>\n",
       "    </tr>\n",
       "    <tr>\n",
       "      <th>1</th>\n",
       "      <td>0.170925</td>\n",
       "      <td>0.248217</td>\n",
       "      <td>0.332470</td>\n",
       "      <td>0.215169</td>\n",
       "      <td>0.276710</td>\n",
       "      <td>0.250398</td>\n",
       "      <td>0.326318</td>\n",
       "      <td>0.259696</td>\n",
       "      <td>False</td>\n",
       "    </tr>\n",
       "    <tr>\n",
       "      <th>2</th>\n",
       "      <td>0.587675</td>\n",
       "      <td>0.248080</td>\n",
       "      <td>0.335021</td>\n",
       "      <td>0.382131</td>\n",
       "      <td>0.278731</td>\n",
       "      <td>0.250740</td>\n",
       "      <td>0.330122</td>\n",
       "      <td>0.261464</td>\n",
       "      <td>False</td>\n",
       "    </tr>\n",
       "    <tr>\n",
       "      <th>3</th>\n",
       "      <td>0.345299</td>\n",
       "      <td>0.248080</td>\n",
       "      <td>0.335021</td>\n",
       "      <td>0.213735</td>\n",
       "      <td>0.278731</td>\n",
       "      <td>0.265090</td>\n",
       "      <td>0.330122</td>\n",
       "      <td>0.261464</td>\n",
       "      <td>True</td>\n",
       "    </tr>\n",
       "    <tr>\n",
       "      <th>4</th>\n",
       "      <td>0.319188</td>\n",
       "      <td>0.248080</td>\n",
       "      <td>0.216106</td>\n",
       "      <td>0.213735</td>\n",
       "      <td>0.213457</td>\n",
       "      <td>0.250740</td>\n",
       "      <td>0.330122</td>\n",
       "      <td>0.129746</td>\n",
       "      <td>False</td>\n",
       "    </tr>\n",
       "    <tr>\n",
       "      <th>...</th>\n",
       "      <td>...</td>\n",
       "      <td>...</td>\n",
       "      <td>...</td>\n",
       "      <td>...</td>\n",
       "      <td>...</td>\n",
       "      <td>...</td>\n",
       "      <td>...</td>\n",
       "      <td>...</td>\n",
       "      <td>...</td>\n",
       "    </tr>\n",
       "    <tr>\n",
       "      <th>19153</th>\n",
       "      <td>0.124565</td>\n",
       "      <td>0.248342</td>\n",
       "      <td>0.340873</td>\n",
       "      <td>0.216304</td>\n",
       "      <td>0.274444</td>\n",
       "      <td>0.202280</td>\n",
       "      <td>0.324627</td>\n",
       "      <td>0.260566</td>\n",
       "      <td>True</td>\n",
       "    </tr>\n",
       "    <tr>\n",
       "      <th>19154</th>\n",
       "      <td>0.213385</td>\n",
       "      <td>0.248855</td>\n",
       "      <td>0.212402</td>\n",
       "      <td>0.211689</td>\n",
       "      <td>0.278982</td>\n",
       "      <td>0.250018</td>\n",
       "      <td>0.329488</td>\n",
       "      <td>0.260766</td>\n",
       "      <td>True</td>\n",
       "    </tr>\n",
       "    <tr>\n",
       "      <th>19155</th>\n",
       "      <td>0.213319</td>\n",
       "      <td>0.247694</td>\n",
       "      <td>0.214752</td>\n",
       "      <td>0.214710</td>\n",
       "      <td>0.279810</td>\n",
       "      <td>0.251587</td>\n",
       "      <td>0.327235</td>\n",
       "      <td>0.260695</td>\n",
       "      <td>False</td>\n",
       "    </tr>\n",
       "    <tr>\n",
       "      <th>19156</th>\n",
       "      <td>0.130955</td>\n",
       "      <td>0.248342</td>\n",
       "      <td>0.213972</td>\n",
       "      <td>0.216304</td>\n",
       "      <td>0.201393</td>\n",
       "      <td>0.251227</td>\n",
       "      <td>0.163150</td>\n",
       "      <td>0.260566</td>\n",
       "      <td>False</td>\n",
       "    </tr>\n",
       "    <tr>\n",
       "      <th>19157</th>\n",
       "      <td>0.150606</td>\n",
       "      <td>0.248080</td>\n",
       "      <td>0.335021</td>\n",
       "      <td>0.213735</td>\n",
       "      <td>0.113752</td>\n",
       "      <td>0.250740</td>\n",
       "      <td>0.330122</td>\n",
       "      <td>0.261464</td>\n",
       "      <td>False</td>\n",
       "    </tr>\n",
       "  </tbody>\n",
       "</table>\n",
       "<p>19158 rows × 9 columns</p>\n",
       "</div>"
      ],
      "text/plain": [
       "           city    gender  relevent_experience  enrolled_university  \\\n",
       "0      0.211707  0.248080             0.216106             0.213735   \n",
       "1      0.170925  0.248217             0.332470             0.215169   \n",
       "2      0.587675  0.248080             0.335021             0.382131   \n",
       "3      0.345299  0.248080             0.335021             0.213735   \n",
       "4      0.319188  0.248080             0.216106             0.213735   \n",
       "...         ...       ...                  ...                  ...   \n",
       "19153  0.124565  0.248342             0.340873             0.216304   \n",
       "19154  0.213385  0.248855             0.212402             0.211689   \n",
       "19155  0.213319  0.247694             0.214752             0.214710   \n",
       "19156  0.130955  0.248342             0.213972             0.216304   \n",
       "19157  0.150606  0.248080             0.335021             0.213735   \n",
       "\n",
       "       education_level  major_discipline  company_size  company_type  target  \n",
       "0             0.278731          0.250740      0.330122      0.261464    True  \n",
       "1             0.276710          0.250398      0.326318      0.259696   False  \n",
       "2             0.278731          0.250740      0.330122      0.261464   False  \n",
       "3             0.278731          0.265090      0.330122      0.261464    True  \n",
       "4             0.213457          0.250740      0.330122      0.129746   False  \n",
       "...                ...               ...           ...           ...     ...  \n",
       "19153         0.274444          0.202280      0.324627      0.260566    True  \n",
       "19154         0.278982          0.250018      0.329488      0.260766    True  \n",
       "19155         0.279810          0.251587      0.327235      0.260695   False  \n",
       "19156         0.201393          0.251227      0.163150      0.260566   False  \n",
       "19157         0.113752          0.250740      0.330122      0.261464   False  \n",
       "\n",
       "[19158 rows x 9 columns]"
      ]
     },
     "execution_count": 9,
     "metadata": {},
     "output_type": "execute_result"
    }
   ],
   "source": [
    "df_encoded['target'] = y\n",
    "df_encoded"
   ]
  },
  {
   "cell_type": "code",
   "execution_count": 10,
   "metadata": {},
   "outputs": [
    {
     "data": {
      "application/vnd.plotly.v1+json": {
       "config": {
        "plotlyServerURL": "https://plot.ly"
       },
       "data": [
        {
         "coloraxis": "coloraxis",
         "hovertemplate": "x: %{x}<br>y: %{y}<br>color: %{z}<extra></extra>",
         "name": "0",
         "texttemplate": "%{z}",
         "type": "heatmap",
         "x": [
          "city",
          "gender",
          "relevent_experience",
          "enrolled_university",
          "education_level",
          "major_discipline",
          "company_size",
          "company_type",
          "target"
         ],
         "xaxis": "x",
         "y": [
          "city",
          "gender",
          "relevent_experience",
          "enrolled_university",
          "education_level",
          "major_discipline",
          "company_size",
          "company_type",
          "target"
         ],
         "yaxis": "y",
         "z": [
          [
           1,
           -0.015331714470600158,
           0.04365268353545831,
           0.13629136083663668,
           0.11917726453475358,
           0.05868914822469265,
           0.04908224491777415,
           0.027343189016012445,
           0.3787780644193894
          ],
          [
           -0.015331714470600158,
           1,
           0.01452282592015835,
           -0.007255917008670909,
           0.0049913870939541985,
           -0.0634810458464238,
           -0.002572877785533678,
           -0.039787523819332135,
           0.00003036094166244289
          ],
          [
           0.04365268353545831,
           0.01452282592015835,
           1,
           0.3743943319344465,
           -0.1625561489940871,
           0.005304894710377582,
           0.2783525926110291,
           0.07009527185339857,
           0.12728231185306366
          ],
          [
           0.13629136083663668,
           -0.007255917008670909,
           0.3743943319344465,
           1,
           -0.02602722663028998,
           0.05989921971722402,
           0.18469709848786592,
           0.04131296970817231,
           0.15076085274361087
          ],
          [
           0.11917726453475358,
           0.0049913870939541985,
           -0.1625561489940871,
           -0.02602722663028998,
           1,
           -0.020588644868529054,
           -0.055447909626143314,
           -0.0022485010109951627,
           0.08821474730004902
          ],
          [
           0.05868914822469265,
           -0.0634810458464238,
           0.005304894710377582,
           0.05989921971722402,
           -0.020588644868529054,
           1,
           -0.005846428000573096,
           0.0376042000626438,
           0.009277023242370973
          ],
          [
           0.04908224491777415,
           -0.002572877785533678,
           0.2783525926110291,
           0.18469709848786592,
           -0.055447909626143314,
           -0.005846428000573096,
           1,
           0.10264240759200641,
           0.1734539648470095
          ],
          [
           0.027343189016012445,
           -0.039787523819332135,
           0.07009527185339857,
           0.04131296970817231,
           -0.0022485010109951627,
           0.0376042000626438,
           0.10264240759200641,
           1,
           0.06426083812754226
          ],
          [
           0.3787780644193894,
           0.00003036094166244289,
           0.12728231185306366,
           0.15076085274361087,
           0.08821474730004902,
           0.009277023242370973,
           0.1734539648470095,
           0.06426083812754226,
           1
          ]
         ]
        }
       ],
       "layout": {
        "coloraxis": {
         "colorscale": [
          [
           0,
           "#0d0887"
          ],
          [
           0.1111111111111111,
           "#46039f"
          ],
          [
           0.2222222222222222,
           "#7201a8"
          ],
          [
           0.3333333333333333,
           "#9c179e"
          ],
          [
           0.4444444444444444,
           "#bd3786"
          ],
          [
           0.5555555555555556,
           "#d8576b"
          ],
          [
           0.6666666666666666,
           "#ed7953"
          ],
          [
           0.7777777777777778,
           "#fb9f3a"
          ],
          [
           0.8888888888888888,
           "#fdca26"
          ],
          [
           1,
           "#f0f921"
          ]
         ]
        },
        "margin": {
         "t": 60
        },
        "template": {
         "data": {
          "bar": [
           {
            "error_x": {
             "color": "#2a3f5f"
            },
            "error_y": {
             "color": "#2a3f5f"
            },
            "marker": {
             "line": {
              "color": "#E5ECF6",
              "width": 0.5
             },
             "pattern": {
              "fillmode": "overlay",
              "size": 10,
              "solidity": 0.2
             }
            },
            "type": "bar"
           }
          ],
          "barpolar": [
           {
            "marker": {
             "line": {
              "color": "#E5ECF6",
              "width": 0.5
             },
             "pattern": {
              "fillmode": "overlay",
              "size": 10,
              "solidity": 0.2
             }
            },
            "type": "barpolar"
           }
          ],
          "carpet": [
           {
            "aaxis": {
             "endlinecolor": "#2a3f5f",
             "gridcolor": "white",
             "linecolor": "white",
             "minorgridcolor": "white",
             "startlinecolor": "#2a3f5f"
            },
            "baxis": {
             "endlinecolor": "#2a3f5f",
             "gridcolor": "white",
             "linecolor": "white",
             "minorgridcolor": "white",
             "startlinecolor": "#2a3f5f"
            },
            "type": "carpet"
           }
          ],
          "choropleth": [
           {
            "colorbar": {
             "outlinewidth": 0,
             "ticks": ""
            },
            "type": "choropleth"
           }
          ],
          "contour": [
           {
            "colorbar": {
             "outlinewidth": 0,
             "ticks": ""
            },
            "colorscale": [
             [
              0,
              "#0d0887"
             ],
             [
              0.1111111111111111,
              "#46039f"
             ],
             [
              0.2222222222222222,
              "#7201a8"
             ],
             [
              0.3333333333333333,
              "#9c179e"
             ],
             [
              0.4444444444444444,
              "#bd3786"
             ],
             [
              0.5555555555555556,
              "#d8576b"
             ],
             [
              0.6666666666666666,
              "#ed7953"
             ],
             [
              0.7777777777777778,
              "#fb9f3a"
             ],
             [
              0.8888888888888888,
              "#fdca26"
             ],
             [
              1,
              "#f0f921"
             ]
            ],
            "type": "contour"
           }
          ],
          "contourcarpet": [
           {
            "colorbar": {
             "outlinewidth": 0,
             "ticks": ""
            },
            "type": "contourcarpet"
           }
          ],
          "heatmap": [
           {
            "colorbar": {
             "outlinewidth": 0,
             "ticks": ""
            },
            "colorscale": [
             [
              0,
              "#0d0887"
             ],
             [
              0.1111111111111111,
              "#46039f"
             ],
             [
              0.2222222222222222,
              "#7201a8"
             ],
             [
              0.3333333333333333,
              "#9c179e"
             ],
             [
              0.4444444444444444,
              "#bd3786"
             ],
             [
              0.5555555555555556,
              "#d8576b"
             ],
             [
              0.6666666666666666,
              "#ed7953"
             ],
             [
              0.7777777777777778,
              "#fb9f3a"
             ],
             [
              0.8888888888888888,
              "#fdca26"
             ],
             [
              1,
              "#f0f921"
             ]
            ],
            "type": "heatmap"
           }
          ],
          "heatmapgl": [
           {
            "colorbar": {
             "outlinewidth": 0,
             "ticks": ""
            },
            "colorscale": [
             [
              0,
              "#0d0887"
             ],
             [
              0.1111111111111111,
              "#46039f"
             ],
             [
              0.2222222222222222,
              "#7201a8"
             ],
             [
              0.3333333333333333,
              "#9c179e"
             ],
             [
              0.4444444444444444,
              "#bd3786"
             ],
             [
              0.5555555555555556,
              "#d8576b"
             ],
             [
              0.6666666666666666,
              "#ed7953"
             ],
             [
              0.7777777777777778,
              "#fb9f3a"
             ],
             [
              0.8888888888888888,
              "#fdca26"
             ],
             [
              1,
              "#f0f921"
             ]
            ],
            "type": "heatmapgl"
           }
          ],
          "histogram": [
           {
            "marker": {
             "pattern": {
              "fillmode": "overlay",
              "size": 10,
              "solidity": 0.2
             }
            },
            "type": "histogram"
           }
          ],
          "histogram2d": [
           {
            "colorbar": {
             "outlinewidth": 0,
             "ticks": ""
            },
            "colorscale": [
             [
              0,
              "#0d0887"
             ],
             [
              0.1111111111111111,
              "#46039f"
             ],
             [
              0.2222222222222222,
              "#7201a8"
             ],
             [
              0.3333333333333333,
              "#9c179e"
             ],
             [
              0.4444444444444444,
              "#bd3786"
             ],
             [
              0.5555555555555556,
              "#d8576b"
             ],
             [
              0.6666666666666666,
              "#ed7953"
             ],
             [
              0.7777777777777778,
              "#fb9f3a"
             ],
             [
              0.8888888888888888,
              "#fdca26"
             ],
             [
              1,
              "#f0f921"
             ]
            ],
            "type": "histogram2d"
           }
          ],
          "histogram2dcontour": [
           {
            "colorbar": {
             "outlinewidth": 0,
             "ticks": ""
            },
            "colorscale": [
             [
              0,
              "#0d0887"
             ],
             [
              0.1111111111111111,
              "#46039f"
             ],
             [
              0.2222222222222222,
              "#7201a8"
             ],
             [
              0.3333333333333333,
              "#9c179e"
             ],
             [
              0.4444444444444444,
              "#bd3786"
             ],
             [
              0.5555555555555556,
              "#d8576b"
             ],
             [
              0.6666666666666666,
              "#ed7953"
             ],
             [
              0.7777777777777778,
              "#fb9f3a"
             ],
             [
              0.8888888888888888,
              "#fdca26"
             ],
             [
              1,
              "#f0f921"
             ]
            ],
            "type": "histogram2dcontour"
           }
          ],
          "mesh3d": [
           {
            "colorbar": {
             "outlinewidth": 0,
             "ticks": ""
            },
            "type": "mesh3d"
           }
          ],
          "parcoords": [
           {
            "line": {
             "colorbar": {
              "outlinewidth": 0,
              "ticks": ""
             }
            },
            "type": "parcoords"
           }
          ],
          "pie": [
           {
            "automargin": true,
            "type": "pie"
           }
          ],
          "scatter": [
           {
            "fillpattern": {
             "fillmode": "overlay",
             "size": 10,
             "solidity": 0.2
            },
            "type": "scatter"
           }
          ],
          "scatter3d": [
           {
            "line": {
             "colorbar": {
              "outlinewidth": 0,
              "ticks": ""
             }
            },
            "marker": {
             "colorbar": {
              "outlinewidth": 0,
              "ticks": ""
             }
            },
            "type": "scatter3d"
           }
          ],
          "scattercarpet": [
           {
            "marker": {
             "colorbar": {
              "outlinewidth": 0,
              "ticks": ""
             }
            },
            "type": "scattercarpet"
           }
          ],
          "scattergeo": [
           {
            "marker": {
             "colorbar": {
              "outlinewidth": 0,
              "ticks": ""
             }
            },
            "type": "scattergeo"
           }
          ],
          "scattergl": [
           {
            "marker": {
             "colorbar": {
              "outlinewidth": 0,
              "ticks": ""
             }
            },
            "type": "scattergl"
           }
          ],
          "scattermapbox": [
           {
            "marker": {
             "colorbar": {
              "outlinewidth": 0,
              "ticks": ""
             }
            },
            "type": "scattermapbox"
           }
          ],
          "scatterpolar": [
           {
            "marker": {
             "colorbar": {
              "outlinewidth": 0,
              "ticks": ""
             }
            },
            "type": "scatterpolar"
           }
          ],
          "scatterpolargl": [
           {
            "marker": {
             "colorbar": {
              "outlinewidth": 0,
              "ticks": ""
             }
            },
            "type": "scatterpolargl"
           }
          ],
          "scatterternary": [
           {
            "marker": {
             "colorbar": {
              "outlinewidth": 0,
              "ticks": ""
             }
            },
            "type": "scatterternary"
           }
          ],
          "surface": [
           {
            "colorbar": {
             "outlinewidth": 0,
             "ticks": ""
            },
            "colorscale": [
             [
              0,
              "#0d0887"
             ],
             [
              0.1111111111111111,
              "#46039f"
             ],
             [
              0.2222222222222222,
              "#7201a8"
             ],
             [
              0.3333333333333333,
              "#9c179e"
             ],
             [
              0.4444444444444444,
              "#bd3786"
             ],
             [
              0.5555555555555556,
              "#d8576b"
             ],
             [
              0.6666666666666666,
              "#ed7953"
             ],
             [
              0.7777777777777778,
              "#fb9f3a"
             ],
             [
              0.8888888888888888,
              "#fdca26"
             ],
             [
              1,
              "#f0f921"
             ]
            ],
            "type": "surface"
           }
          ],
          "table": [
           {
            "cells": {
             "fill": {
              "color": "#EBF0F8"
             },
             "line": {
              "color": "white"
             }
            },
            "header": {
             "fill": {
              "color": "#C8D4E3"
             },
             "line": {
              "color": "white"
             }
            },
            "type": "table"
           }
          ]
         },
         "layout": {
          "annotationdefaults": {
           "arrowcolor": "#2a3f5f",
           "arrowhead": 0,
           "arrowwidth": 1
          },
          "autotypenumbers": "strict",
          "coloraxis": {
           "colorbar": {
            "outlinewidth": 0,
            "ticks": ""
           }
          },
          "colorscale": {
           "diverging": [
            [
             0,
             "#8e0152"
            ],
            [
             0.1,
             "#c51b7d"
            ],
            [
             0.2,
             "#de77ae"
            ],
            [
             0.3,
             "#f1b6da"
            ],
            [
             0.4,
             "#fde0ef"
            ],
            [
             0.5,
             "#f7f7f7"
            ],
            [
             0.6,
             "#e6f5d0"
            ],
            [
             0.7,
             "#b8e186"
            ],
            [
             0.8,
             "#7fbc41"
            ],
            [
             0.9,
             "#4d9221"
            ],
            [
             1,
             "#276419"
            ]
           ],
           "sequential": [
            [
             0,
             "#0d0887"
            ],
            [
             0.1111111111111111,
             "#46039f"
            ],
            [
             0.2222222222222222,
             "#7201a8"
            ],
            [
             0.3333333333333333,
             "#9c179e"
            ],
            [
             0.4444444444444444,
             "#bd3786"
            ],
            [
             0.5555555555555556,
             "#d8576b"
            ],
            [
             0.6666666666666666,
             "#ed7953"
            ],
            [
             0.7777777777777778,
             "#fb9f3a"
            ],
            [
             0.8888888888888888,
             "#fdca26"
            ],
            [
             1,
             "#f0f921"
            ]
           ],
           "sequentialminus": [
            [
             0,
             "#0d0887"
            ],
            [
             0.1111111111111111,
             "#46039f"
            ],
            [
             0.2222222222222222,
             "#7201a8"
            ],
            [
             0.3333333333333333,
             "#9c179e"
            ],
            [
             0.4444444444444444,
             "#bd3786"
            ],
            [
             0.5555555555555556,
             "#d8576b"
            ],
            [
             0.6666666666666666,
             "#ed7953"
            ],
            [
             0.7777777777777778,
             "#fb9f3a"
            ],
            [
             0.8888888888888888,
             "#fdca26"
            ],
            [
             1,
             "#f0f921"
            ]
           ]
          },
          "colorway": [
           "#636efa",
           "#EF553B",
           "#00cc96",
           "#ab63fa",
           "#FFA15A",
           "#19d3f3",
           "#FF6692",
           "#B6E880",
           "#FF97FF",
           "#FECB52"
          ],
          "font": {
           "color": "#2a3f5f"
          },
          "geo": {
           "bgcolor": "white",
           "lakecolor": "white",
           "landcolor": "#E5ECF6",
           "showlakes": true,
           "showland": true,
           "subunitcolor": "white"
          },
          "hoverlabel": {
           "align": "left"
          },
          "hovermode": "closest",
          "mapbox": {
           "style": "light"
          },
          "paper_bgcolor": "white",
          "plot_bgcolor": "#E5ECF6",
          "polar": {
           "angularaxis": {
            "gridcolor": "white",
            "linecolor": "white",
            "ticks": ""
           },
           "bgcolor": "#E5ECF6",
           "radialaxis": {
            "gridcolor": "white",
            "linecolor": "white",
            "ticks": ""
           }
          },
          "scene": {
           "xaxis": {
            "backgroundcolor": "#E5ECF6",
            "gridcolor": "white",
            "gridwidth": 2,
            "linecolor": "white",
            "showbackground": true,
            "ticks": "",
            "zerolinecolor": "white"
           },
           "yaxis": {
            "backgroundcolor": "#E5ECF6",
            "gridcolor": "white",
            "gridwidth": 2,
            "linecolor": "white",
            "showbackground": true,
            "ticks": "",
            "zerolinecolor": "white"
           },
           "zaxis": {
            "backgroundcolor": "#E5ECF6",
            "gridcolor": "white",
            "gridwidth": 2,
            "linecolor": "white",
            "showbackground": true,
            "ticks": "",
            "zerolinecolor": "white"
           }
          },
          "shapedefaults": {
           "line": {
            "color": "#2a3f5f"
           }
          },
          "ternary": {
           "aaxis": {
            "gridcolor": "white",
            "linecolor": "white",
            "ticks": ""
           },
           "baxis": {
            "gridcolor": "white",
            "linecolor": "white",
            "ticks": ""
           },
           "bgcolor": "#E5ECF6",
           "caxis": {
            "gridcolor": "white",
            "linecolor": "white",
            "ticks": ""
           }
          },
          "title": {
           "x": 0.05
          },
          "xaxis": {
           "automargin": true,
           "gridcolor": "white",
           "linecolor": "white",
           "ticks": "",
           "title": {
            "standoff": 15
           },
           "zerolinecolor": "white",
           "zerolinewidth": 2
          },
          "yaxis": {
           "automargin": true,
           "gridcolor": "white",
           "linecolor": "white",
           "ticks": "",
           "title": {
            "standoff": 15
           },
           "zerolinecolor": "white",
           "zerolinewidth": 2
          }
         }
        },
        "xaxis": {
         "anchor": "y",
         "domain": [
          0,
          1
         ]
        },
        "yaxis": {
         "anchor": "x",
         "autorange": "reversed",
         "domain": [
          0,
          1
         ]
        }
       }
      }
     },
     "metadata": {},
     "output_type": "display_data"
    }
   ],
   "source": [
    "fig = px.imshow(\n",
    "    df_encoded.corr(), text_auto=True, aspect='auto'\n",
    ")\n",
    "fig.show()"
   ]
  },
  {
   "cell_type": "code",
   "execution_count": 11,
   "metadata": {},
   "outputs": [
    {
     "data": {
      "text/html": [
       "<div>\n",
       "<style scoped>\n",
       "    .dataframe tbody tr th:only-of-type {\n",
       "        vertical-align: middle;\n",
       "    }\n",
       "\n",
       "    .dataframe tbody tr th {\n",
       "        vertical-align: top;\n",
       "    }\n",
       "\n",
       "    .dataframe thead th {\n",
       "        text-align: right;\n",
       "    }\n",
       "</style>\n",
       "<table border=\"1\" class=\"dataframe\">\n",
       "  <thead>\n",
       "    <tr style=\"text-align: right;\">\n",
       "      <th></th>\n",
       "      <th>city</th>\n",
       "      <th>city_development_index</th>\n",
       "      <th>gender</th>\n",
       "      <th>relevent_experience</th>\n",
       "      <th>enrolled_university</th>\n",
       "      <th>education_level</th>\n",
       "      <th>major_discipline</th>\n",
       "      <th>experience</th>\n",
       "      <th>company_size</th>\n",
       "      <th>company_type</th>\n",
       "      <th>training_hours</th>\n",
       "      <th>target</th>\n",
       "    </tr>\n",
       "  </thead>\n",
       "  <tbody>\n",
       "    <tr>\n",
       "      <th>0</th>\n",
       "      <td>0.211707</td>\n",
       "      <td>0.920</td>\n",
       "      <td>0.248080</td>\n",
       "      <td>0.216106</td>\n",
       "      <td>0.213735</td>\n",
       "      <td>0.278731</td>\n",
       "      <td>0.250740</td>\n",
       "      <td>20.0</td>\n",
       "      <td>0.330122</td>\n",
       "      <td>0.261464</td>\n",
       "      <td>36.0</td>\n",
       "      <td>True</td>\n",
       "    </tr>\n",
       "    <tr>\n",
       "      <th>1</th>\n",
       "      <td>0.170925</td>\n",
       "      <td>0.776</td>\n",
       "      <td>0.248217</td>\n",
       "      <td>0.332470</td>\n",
       "      <td>0.215169</td>\n",
       "      <td>0.276710</td>\n",
       "      <td>0.250398</td>\n",
       "      <td>15.0</td>\n",
       "      <td>0.326318</td>\n",
       "      <td>0.259696</td>\n",
       "      <td>47.0</td>\n",
       "      <td>False</td>\n",
       "    </tr>\n",
       "    <tr>\n",
       "      <th>2</th>\n",
       "      <td>0.587675</td>\n",
       "      <td>0.624</td>\n",
       "      <td>0.248080</td>\n",
       "      <td>0.335021</td>\n",
       "      <td>0.382131</td>\n",
       "      <td>0.278731</td>\n",
       "      <td>0.250740</td>\n",
       "      <td>5.0</td>\n",
       "      <td>0.330122</td>\n",
       "      <td>0.261464</td>\n",
       "      <td>83.0</td>\n",
       "      <td>False</td>\n",
       "    </tr>\n",
       "    <tr>\n",
       "      <th>3</th>\n",
       "      <td>0.345299</td>\n",
       "      <td>0.789</td>\n",
       "      <td>0.248080</td>\n",
       "      <td>0.335021</td>\n",
       "      <td>0.213735</td>\n",
       "      <td>0.278731</td>\n",
       "      <td>0.265090</td>\n",
       "      <td>0.0</td>\n",
       "      <td>0.330122</td>\n",
       "      <td>0.261464</td>\n",
       "      <td>52.0</td>\n",
       "      <td>True</td>\n",
       "    </tr>\n",
       "    <tr>\n",
       "      <th>4</th>\n",
       "      <td>0.319188</td>\n",
       "      <td>0.767</td>\n",
       "      <td>0.248080</td>\n",
       "      <td>0.216106</td>\n",
       "      <td>0.213735</td>\n",
       "      <td>0.213457</td>\n",
       "      <td>0.250740</td>\n",
       "      <td>20.0</td>\n",
       "      <td>0.330122</td>\n",
       "      <td>0.129746</td>\n",
       "      <td>8.0</td>\n",
       "      <td>False</td>\n",
       "    </tr>\n",
       "    <tr>\n",
       "      <th>...</th>\n",
       "      <td>...</td>\n",
       "      <td>...</td>\n",
       "      <td>...</td>\n",
       "      <td>...</td>\n",
       "      <td>...</td>\n",
       "      <td>...</td>\n",
       "      <td>...</td>\n",
       "      <td>...</td>\n",
       "      <td>...</td>\n",
       "      <td>...</td>\n",
       "      <td>...</td>\n",
       "      <td>...</td>\n",
       "    </tr>\n",
       "    <tr>\n",
       "      <th>19153</th>\n",
       "      <td>0.124565</td>\n",
       "      <td>0.878</td>\n",
       "      <td>0.248342</td>\n",
       "      <td>0.340873</td>\n",
       "      <td>0.216304</td>\n",
       "      <td>0.274444</td>\n",
       "      <td>0.202280</td>\n",
       "      <td>14.0</td>\n",
       "      <td>0.324627</td>\n",
       "      <td>0.260566</td>\n",
       "      <td>42.0</td>\n",
       "      <td>True</td>\n",
       "    </tr>\n",
       "    <tr>\n",
       "      <th>19154</th>\n",
       "      <td>0.213385</td>\n",
       "      <td>0.920</td>\n",
       "      <td>0.248855</td>\n",
       "      <td>0.212402</td>\n",
       "      <td>0.211689</td>\n",
       "      <td>0.278982</td>\n",
       "      <td>0.250018</td>\n",
       "      <td>14.0</td>\n",
       "      <td>0.329488</td>\n",
       "      <td>0.260766</td>\n",
       "      <td>52.0</td>\n",
       "      <td>True</td>\n",
       "    </tr>\n",
       "    <tr>\n",
       "      <th>19155</th>\n",
       "      <td>0.213319</td>\n",
       "      <td>0.920</td>\n",
       "      <td>0.247694</td>\n",
       "      <td>0.214752</td>\n",
       "      <td>0.214710</td>\n",
       "      <td>0.279810</td>\n",
       "      <td>0.251587</td>\n",
       "      <td>20.0</td>\n",
       "      <td>0.327235</td>\n",
       "      <td>0.260695</td>\n",
       "      <td>44.0</td>\n",
       "      <td>False</td>\n",
       "    </tr>\n",
       "    <tr>\n",
       "      <th>19156</th>\n",
       "      <td>0.130955</td>\n",
       "      <td>0.802</td>\n",
       "      <td>0.248342</td>\n",
       "      <td>0.213972</td>\n",
       "      <td>0.216304</td>\n",
       "      <td>0.201393</td>\n",
       "      <td>0.251227</td>\n",
       "      <td>0.0</td>\n",
       "      <td>0.163150</td>\n",
       "      <td>0.260566</td>\n",
       "      <td>97.0</td>\n",
       "      <td>False</td>\n",
       "    </tr>\n",
       "    <tr>\n",
       "      <th>19157</th>\n",
       "      <td>0.150606</td>\n",
       "      <td>0.855</td>\n",
       "      <td>0.248080</td>\n",
       "      <td>0.335021</td>\n",
       "      <td>0.213735</td>\n",
       "      <td>0.113752</td>\n",
       "      <td>0.250740</td>\n",
       "      <td>2.0</td>\n",
       "      <td>0.330122</td>\n",
       "      <td>0.261464</td>\n",
       "      <td>127.0</td>\n",
       "      <td>False</td>\n",
       "    </tr>\n",
       "  </tbody>\n",
       "</table>\n",
       "<p>19158 rows × 12 columns</p>\n",
       "</div>"
      ],
      "text/plain": [
       "           city  city_development_index    gender  relevent_experience  \\\n",
       "0      0.211707                   0.920  0.248080             0.216106   \n",
       "1      0.170925                   0.776  0.248217             0.332470   \n",
       "2      0.587675                   0.624  0.248080             0.335021   \n",
       "3      0.345299                   0.789  0.248080             0.335021   \n",
       "4      0.319188                   0.767  0.248080             0.216106   \n",
       "...         ...                     ...       ...                  ...   \n",
       "19153  0.124565                   0.878  0.248342             0.340873   \n",
       "19154  0.213385                   0.920  0.248855             0.212402   \n",
       "19155  0.213319                   0.920  0.247694             0.214752   \n",
       "19156  0.130955                   0.802  0.248342             0.213972   \n",
       "19157  0.150606                   0.855  0.248080             0.335021   \n",
       "\n",
       "       enrolled_university  education_level  major_discipline  experience  \\\n",
       "0                 0.213735         0.278731          0.250740        20.0   \n",
       "1                 0.215169         0.276710          0.250398        15.0   \n",
       "2                 0.382131         0.278731          0.250740         5.0   \n",
       "3                 0.213735         0.278731          0.265090         0.0   \n",
       "4                 0.213735         0.213457          0.250740        20.0   \n",
       "...                    ...              ...               ...         ...   \n",
       "19153             0.216304         0.274444          0.202280        14.0   \n",
       "19154             0.211689         0.278982          0.250018        14.0   \n",
       "19155             0.214710         0.279810          0.251587        20.0   \n",
       "19156             0.216304         0.201393          0.251227         0.0   \n",
       "19157             0.213735         0.113752          0.250740         2.0   \n",
       "\n",
       "       company_size  company_type  training_hours  target  \n",
       "0          0.330122      0.261464            36.0    True  \n",
       "1          0.326318      0.259696            47.0   False  \n",
       "2          0.330122      0.261464            83.0   False  \n",
       "3          0.330122      0.261464            52.0    True  \n",
       "4          0.330122      0.129746             8.0   False  \n",
       "...             ...           ...             ...     ...  \n",
       "19153      0.324627      0.260566            42.0    True  \n",
       "19154      0.329488      0.260766            52.0    True  \n",
       "19155      0.327235      0.260695            44.0   False  \n",
       "19156      0.163150      0.260566            97.0   False  \n",
       "19157      0.330122      0.261464           127.0   False  \n",
       "\n",
       "[19158 rows x 12 columns]"
      ]
     },
     "execution_count": 11,
     "metadata": {},
     "output_type": "execute_result"
    }
   ],
   "source": [
    "final_df = df\n",
    "final_df[df_encoded.columns] = df_encoded\n",
    "final_df"
   ]
  },
  {
   "cell_type": "code",
   "execution_count": 12,
   "metadata": {},
   "outputs": [
    {
     "name": "stdout",
     "output_type": "stream",
     "text": [
      "<class 'pandas.core.frame.DataFrame'>\n",
      "RangeIndex: 19158 entries, 0 to 19157\n",
      "Data columns (total 12 columns):\n",
      " #   Column                  Non-Null Count  Dtype  \n",
      "---  ------                  --------------  -----  \n",
      " 0   city                    19158 non-null  float64\n",
      " 1   city_development_index  19158 non-null  float64\n",
      " 2   gender                  19158 non-null  float64\n",
      " 3   relevent_experience     19158 non-null  float64\n",
      " 4   enrolled_university     19158 non-null  float64\n",
      " 5   education_level         19158 non-null  float64\n",
      " 6   major_discipline        19158 non-null  float64\n",
      " 7   experience              19158 non-null  float64\n",
      " 8   company_size            19158 non-null  float64\n",
      " 9   company_type            19158 non-null  float64\n",
      " 10  training_hours          19158 non-null  float64\n",
      " 11  target                  19158 non-null  boolean\n",
      "dtypes: boolean(1), float64(11)\n",
      "memory usage: 1.6 MB\n"
     ]
    }
   ],
   "source": [
    "final_df.info()"
   ]
  },
  {
   "cell_type": "code",
   "execution_count": 13,
   "metadata": {},
   "outputs": [
    {
     "data": {
      "application/vnd.plotly.v1+json": {
       "config": {
        "plotlyServerURL": "https://plot.ly"
       },
       "data": [
        {
         "coloraxis": "coloraxis",
         "hovertemplate": "x: %{x}<br>y: %{y}<br>color: %{z}<extra></extra>",
         "name": "0",
         "texttemplate": "%{z}",
         "type": "heatmap",
         "x": [
          "city",
          "city_development_index",
          "gender",
          "relevent_experience",
          "enrolled_university",
          "education_level",
          "major_discipline",
          "experience",
          "company_size",
          "company_type",
          "training_hours",
          "target"
         ],
         "xaxis": "x",
         "y": [
          "city",
          "city_development_index",
          "gender",
          "relevent_experience",
          "enrolled_university",
          "education_level",
          "major_discipline",
          "experience",
          "company_size",
          "company_type",
          "training_hours",
          "target"
         ],
         "yaxis": "y",
         "z": [
          [
           1,
           -0.8394310261956138,
           -0.015331714470600158,
           0.04365268353545831,
           0.13629136083663668,
           0.11917726453475358,
           0.05868914822469265,
           -0.303856398838956,
           0.04908224491777415,
           0.027343189016012445,
           0.008382148237225377,
           0.3787780644193894
          ],
          [
           -0.8394310261956138,
           1,
           0.0379394035037692,
           -0.06016695777502019,
           -0.16350467656284529,
           -0.07044381395328145,
           -0.08744245638922775,
           0.32690849066320804,
           -0.07519756545867631,
           -0.04831843314524401,
           -0.0012495018011978382,
           -0.3343997208630148
          ],
          [
           -0.015331714470600158,
           0.0379394035037692,
           1,
           0.01452282592015835,
           -0.007255917008670909,
           0.0049913870939541985,
           -0.0634810458464238,
           -0.03476011010069379,
           -0.002572877785533678,
           -0.039787523819332135,
           0.0014479763630449176,
           0.00003036094166244289
          ],
          [
           0.04365268353545831,
           -0.06016695777502019,
           0.01452282592015835,
           1,
           0.3743943319344465,
           -0.1625561489940871,
           0.005304894710377582,
           -0.3440204658349067,
           0.2783525926110291,
           0.07009527185339857,
           -0.010239922372367488,
           0.12728231185306366
          ],
          [
           0.13629136083663668,
           -0.16350467656284529,
           -0.007255917008670909,
           0.3743943319344465,
           1,
           -0.02602722663028998,
           0.05989921971722402,
           -0.3302695194909653,
           0.18469709848786592,
           0.04131296970817231,
           -0.0031849997503591984,
           0.15076085274361087
          ],
          [
           0.11917726453475358,
           -0.07044381395328145,
           0.0049913870939541985,
           -0.1625561489940871,
           -0.02602722663028998,
           1,
           -0.020588644868529054,
           -0.016030490114558288,
           -0.055447909626143314,
           -0.0022485010109951627,
           0.006281061166113007,
           0.08821474730004902
          ],
          [
           0.05868914822469265,
           -0.08744245638922775,
           -0.0634810458464238,
           0.005304894710377582,
           0.05989921971722402,
           -0.020588644868529054,
           1,
           -0.00687516796675656,
           -0.005846428000573096,
           0.0376042000626438,
           0.00828447482944794,
           0.009277023242370973
          ],
          [
           -0.303856398838956,
           0.32690849066320804,
           -0.03476011010069379,
           -0.3440204658349067,
           -0.3302695194909653,
           -0.016030490114558288,
           -0.00687516796675656,
           1,
           -0.14926529407289546,
           -0.02119736180298994,
           -0.0003520828969855457,
           -0.17796136674501264
          ],
          [
           0.04908224491777415,
           -0.07519756545867631,
           -0.002572877785533678,
           0.2783525926110291,
           0.18469709848786592,
           -0.055447909626143314,
           -0.005846428000573096,
           -0.14926529407289546,
           1,
           0.10264240759200641,
           0.009514986153742563,
           0.1734539648470095
          ],
          [
           0.027343189016012445,
           -0.04831843314524401,
           -0.039787523819332135,
           0.07009527185339857,
           0.04131296970817231,
           -0.0022485010109951627,
           0.0376042000626438,
           -0.02119736180298994,
           0.10264240759200641,
           1,
           -0.008140968883859236,
           0.06426083812754226
          ],
          [
           0.008382148237225377,
           -0.0012495018011978382,
           0.0014479763630449176,
           -0.010239922372367488,
           -0.0031849997503591984,
           0.006281061166113007,
           0.00828447482944794,
           -0.0003520828969855457,
           0.009514986153742563,
           -0.008140968883859236,
           1,
           -0.021156973065424998
          ],
          [
           0.3787780644193894,
           -0.3343997208630148,
           0.00003036094166244289,
           0.12728231185306366,
           0.15076085274361087,
           0.08821474730004902,
           0.009277023242370973,
           -0.17796136674501264,
           0.1734539648470095,
           0.06426083812754226,
           -0.021156973065424998,
           1
          ]
         ]
        }
       ],
       "layout": {
        "coloraxis": {
         "colorscale": [
          [
           0,
           "#0d0887"
          ],
          [
           0.1111111111111111,
           "#46039f"
          ],
          [
           0.2222222222222222,
           "#7201a8"
          ],
          [
           0.3333333333333333,
           "#9c179e"
          ],
          [
           0.4444444444444444,
           "#bd3786"
          ],
          [
           0.5555555555555556,
           "#d8576b"
          ],
          [
           0.6666666666666666,
           "#ed7953"
          ],
          [
           0.7777777777777778,
           "#fb9f3a"
          ],
          [
           0.8888888888888888,
           "#fdca26"
          ],
          [
           1,
           "#f0f921"
          ]
         ]
        },
        "margin": {
         "t": 60
        },
        "template": {
         "data": {
          "bar": [
           {
            "error_x": {
             "color": "#2a3f5f"
            },
            "error_y": {
             "color": "#2a3f5f"
            },
            "marker": {
             "line": {
              "color": "#E5ECF6",
              "width": 0.5
             },
             "pattern": {
              "fillmode": "overlay",
              "size": 10,
              "solidity": 0.2
             }
            },
            "type": "bar"
           }
          ],
          "barpolar": [
           {
            "marker": {
             "line": {
              "color": "#E5ECF6",
              "width": 0.5
             },
             "pattern": {
              "fillmode": "overlay",
              "size": 10,
              "solidity": 0.2
             }
            },
            "type": "barpolar"
           }
          ],
          "carpet": [
           {
            "aaxis": {
             "endlinecolor": "#2a3f5f",
             "gridcolor": "white",
             "linecolor": "white",
             "minorgridcolor": "white",
             "startlinecolor": "#2a3f5f"
            },
            "baxis": {
             "endlinecolor": "#2a3f5f",
             "gridcolor": "white",
             "linecolor": "white",
             "minorgridcolor": "white",
             "startlinecolor": "#2a3f5f"
            },
            "type": "carpet"
           }
          ],
          "choropleth": [
           {
            "colorbar": {
             "outlinewidth": 0,
             "ticks": ""
            },
            "type": "choropleth"
           }
          ],
          "contour": [
           {
            "colorbar": {
             "outlinewidth": 0,
             "ticks": ""
            },
            "colorscale": [
             [
              0,
              "#0d0887"
             ],
             [
              0.1111111111111111,
              "#46039f"
             ],
             [
              0.2222222222222222,
              "#7201a8"
             ],
             [
              0.3333333333333333,
              "#9c179e"
             ],
             [
              0.4444444444444444,
              "#bd3786"
             ],
             [
              0.5555555555555556,
              "#d8576b"
             ],
             [
              0.6666666666666666,
              "#ed7953"
             ],
             [
              0.7777777777777778,
              "#fb9f3a"
             ],
             [
              0.8888888888888888,
              "#fdca26"
             ],
             [
              1,
              "#f0f921"
             ]
            ],
            "type": "contour"
           }
          ],
          "contourcarpet": [
           {
            "colorbar": {
             "outlinewidth": 0,
             "ticks": ""
            },
            "type": "contourcarpet"
           }
          ],
          "heatmap": [
           {
            "colorbar": {
             "outlinewidth": 0,
             "ticks": ""
            },
            "colorscale": [
             [
              0,
              "#0d0887"
             ],
             [
              0.1111111111111111,
              "#46039f"
             ],
             [
              0.2222222222222222,
              "#7201a8"
             ],
             [
              0.3333333333333333,
              "#9c179e"
             ],
             [
              0.4444444444444444,
              "#bd3786"
             ],
             [
              0.5555555555555556,
              "#d8576b"
             ],
             [
              0.6666666666666666,
              "#ed7953"
             ],
             [
              0.7777777777777778,
              "#fb9f3a"
             ],
             [
              0.8888888888888888,
              "#fdca26"
             ],
             [
              1,
              "#f0f921"
             ]
            ],
            "type": "heatmap"
           }
          ],
          "heatmapgl": [
           {
            "colorbar": {
             "outlinewidth": 0,
             "ticks": ""
            },
            "colorscale": [
             [
              0,
              "#0d0887"
             ],
             [
              0.1111111111111111,
              "#46039f"
             ],
             [
              0.2222222222222222,
              "#7201a8"
             ],
             [
              0.3333333333333333,
              "#9c179e"
             ],
             [
              0.4444444444444444,
              "#bd3786"
             ],
             [
              0.5555555555555556,
              "#d8576b"
             ],
             [
              0.6666666666666666,
              "#ed7953"
             ],
             [
              0.7777777777777778,
              "#fb9f3a"
             ],
             [
              0.8888888888888888,
              "#fdca26"
             ],
             [
              1,
              "#f0f921"
             ]
            ],
            "type": "heatmapgl"
           }
          ],
          "histogram": [
           {
            "marker": {
             "pattern": {
              "fillmode": "overlay",
              "size": 10,
              "solidity": 0.2
             }
            },
            "type": "histogram"
           }
          ],
          "histogram2d": [
           {
            "colorbar": {
             "outlinewidth": 0,
             "ticks": ""
            },
            "colorscale": [
             [
              0,
              "#0d0887"
             ],
             [
              0.1111111111111111,
              "#46039f"
             ],
             [
              0.2222222222222222,
              "#7201a8"
             ],
             [
              0.3333333333333333,
              "#9c179e"
             ],
             [
              0.4444444444444444,
              "#bd3786"
             ],
             [
              0.5555555555555556,
              "#d8576b"
             ],
             [
              0.6666666666666666,
              "#ed7953"
             ],
             [
              0.7777777777777778,
              "#fb9f3a"
             ],
             [
              0.8888888888888888,
              "#fdca26"
             ],
             [
              1,
              "#f0f921"
             ]
            ],
            "type": "histogram2d"
           }
          ],
          "histogram2dcontour": [
           {
            "colorbar": {
             "outlinewidth": 0,
             "ticks": ""
            },
            "colorscale": [
             [
              0,
              "#0d0887"
             ],
             [
              0.1111111111111111,
              "#46039f"
             ],
             [
              0.2222222222222222,
              "#7201a8"
             ],
             [
              0.3333333333333333,
              "#9c179e"
             ],
             [
              0.4444444444444444,
              "#bd3786"
             ],
             [
              0.5555555555555556,
              "#d8576b"
             ],
             [
              0.6666666666666666,
              "#ed7953"
             ],
             [
              0.7777777777777778,
              "#fb9f3a"
             ],
             [
              0.8888888888888888,
              "#fdca26"
             ],
             [
              1,
              "#f0f921"
             ]
            ],
            "type": "histogram2dcontour"
           }
          ],
          "mesh3d": [
           {
            "colorbar": {
             "outlinewidth": 0,
             "ticks": ""
            },
            "type": "mesh3d"
           }
          ],
          "parcoords": [
           {
            "line": {
             "colorbar": {
              "outlinewidth": 0,
              "ticks": ""
             }
            },
            "type": "parcoords"
           }
          ],
          "pie": [
           {
            "automargin": true,
            "type": "pie"
           }
          ],
          "scatter": [
           {
            "fillpattern": {
             "fillmode": "overlay",
             "size": 10,
             "solidity": 0.2
            },
            "type": "scatter"
           }
          ],
          "scatter3d": [
           {
            "line": {
             "colorbar": {
              "outlinewidth": 0,
              "ticks": ""
             }
            },
            "marker": {
             "colorbar": {
              "outlinewidth": 0,
              "ticks": ""
             }
            },
            "type": "scatter3d"
           }
          ],
          "scattercarpet": [
           {
            "marker": {
             "colorbar": {
              "outlinewidth": 0,
              "ticks": ""
             }
            },
            "type": "scattercarpet"
           }
          ],
          "scattergeo": [
           {
            "marker": {
             "colorbar": {
              "outlinewidth": 0,
              "ticks": ""
             }
            },
            "type": "scattergeo"
           }
          ],
          "scattergl": [
           {
            "marker": {
             "colorbar": {
              "outlinewidth": 0,
              "ticks": ""
             }
            },
            "type": "scattergl"
           }
          ],
          "scattermapbox": [
           {
            "marker": {
             "colorbar": {
              "outlinewidth": 0,
              "ticks": ""
             }
            },
            "type": "scattermapbox"
           }
          ],
          "scatterpolar": [
           {
            "marker": {
             "colorbar": {
              "outlinewidth": 0,
              "ticks": ""
             }
            },
            "type": "scatterpolar"
           }
          ],
          "scatterpolargl": [
           {
            "marker": {
             "colorbar": {
              "outlinewidth": 0,
              "ticks": ""
             }
            },
            "type": "scatterpolargl"
           }
          ],
          "scatterternary": [
           {
            "marker": {
             "colorbar": {
              "outlinewidth": 0,
              "ticks": ""
             }
            },
            "type": "scatterternary"
           }
          ],
          "surface": [
           {
            "colorbar": {
             "outlinewidth": 0,
             "ticks": ""
            },
            "colorscale": [
             [
              0,
              "#0d0887"
             ],
             [
              0.1111111111111111,
              "#46039f"
             ],
             [
              0.2222222222222222,
              "#7201a8"
             ],
             [
              0.3333333333333333,
              "#9c179e"
             ],
             [
              0.4444444444444444,
              "#bd3786"
             ],
             [
              0.5555555555555556,
              "#d8576b"
             ],
             [
              0.6666666666666666,
              "#ed7953"
             ],
             [
              0.7777777777777778,
              "#fb9f3a"
             ],
             [
              0.8888888888888888,
              "#fdca26"
             ],
             [
              1,
              "#f0f921"
             ]
            ],
            "type": "surface"
           }
          ],
          "table": [
           {
            "cells": {
             "fill": {
              "color": "#EBF0F8"
             },
             "line": {
              "color": "white"
             }
            },
            "header": {
             "fill": {
              "color": "#C8D4E3"
             },
             "line": {
              "color": "white"
             }
            },
            "type": "table"
           }
          ]
         },
         "layout": {
          "annotationdefaults": {
           "arrowcolor": "#2a3f5f",
           "arrowhead": 0,
           "arrowwidth": 1
          },
          "autotypenumbers": "strict",
          "coloraxis": {
           "colorbar": {
            "outlinewidth": 0,
            "ticks": ""
           }
          },
          "colorscale": {
           "diverging": [
            [
             0,
             "#8e0152"
            ],
            [
             0.1,
             "#c51b7d"
            ],
            [
             0.2,
             "#de77ae"
            ],
            [
             0.3,
             "#f1b6da"
            ],
            [
             0.4,
             "#fde0ef"
            ],
            [
             0.5,
             "#f7f7f7"
            ],
            [
             0.6,
             "#e6f5d0"
            ],
            [
             0.7,
             "#b8e186"
            ],
            [
             0.8,
             "#7fbc41"
            ],
            [
             0.9,
             "#4d9221"
            ],
            [
             1,
             "#276419"
            ]
           ],
           "sequential": [
            [
             0,
             "#0d0887"
            ],
            [
             0.1111111111111111,
             "#46039f"
            ],
            [
             0.2222222222222222,
             "#7201a8"
            ],
            [
             0.3333333333333333,
             "#9c179e"
            ],
            [
             0.4444444444444444,
             "#bd3786"
            ],
            [
             0.5555555555555556,
             "#d8576b"
            ],
            [
             0.6666666666666666,
             "#ed7953"
            ],
            [
             0.7777777777777778,
             "#fb9f3a"
            ],
            [
             0.8888888888888888,
             "#fdca26"
            ],
            [
             1,
             "#f0f921"
            ]
           ],
           "sequentialminus": [
            [
             0,
             "#0d0887"
            ],
            [
             0.1111111111111111,
             "#46039f"
            ],
            [
             0.2222222222222222,
             "#7201a8"
            ],
            [
             0.3333333333333333,
             "#9c179e"
            ],
            [
             0.4444444444444444,
             "#bd3786"
            ],
            [
             0.5555555555555556,
             "#d8576b"
            ],
            [
             0.6666666666666666,
             "#ed7953"
            ],
            [
             0.7777777777777778,
             "#fb9f3a"
            ],
            [
             0.8888888888888888,
             "#fdca26"
            ],
            [
             1,
             "#f0f921"
            ]
           ]
          },
          "colorway": [
           "#636efa",
           "#EF553B",
           "#00cc96",
           "#ab63fa",
           "#FFA15A",
           "#19d3f3",
           "#FF6692",
           "#B6E880",
           "#FF97FF",
           "#FECB52"
          ],
          "font": {
           "color": "#2a3f5f"
          },
          "geo": {
           "bgcolor": "white",
           "lakecolor": "white",
           "landcolor": "#E5ECF6",
           "showlakes": true,
           "showland": true,
           "subunitcolor": "white"
          },
          "hoverlabel": {
           "align": "left"
          },
          "hovermode": "closest",
          "mapbox": {
           "style": "light"
          },
          "paper_bgcolor": "white",
          "plot_bgcolor": "#E5ECF6",
          "polar": {
           "angularaxis": {
            "gridcolor": "white",
            "linecolor": "white",
            "ticks": ""
           },
           "bgcolor": "#E5ECF6",
           "radialaxis": {
            "gridcolor": "white",
            "linecolor": "white",
            "ticks": ""
           }
          },
          "scene": {
           "xaxis": {
            "backgroundcolor": "#E5ECF6",
            "gridcolor": "white",
            "gridwidth": 2,
            "linecolor": "white",
            "showbackground": true,
            "ticks": "",
            "zerolinecolor": "white"
           },
           "yaxis": {
            "backgroundcolor": "#E5ECF6",
            "gridcolor": "white",
            "gridwidth": 2,
            "linecolor": "white",
            "showbackground": true,
            "ticks": "",
            "zerolinecolor": "white"
           },
           "zaxis": {
            "backgroundcolor": "#E5ECF6",
            "gridcolor": "white",
            "gridwidth": 2,
            "linecolor": "white",
            "showbackground": true,
            "ticks": "",
            "zerolinecolor": "white"
           }
          },
          "shapedefaults": {
           "line": {
            "color": "#2a3f5f"
           }
          },
          "ternary": {
           "aaxis": {
            "gridcolor": "white",
            "linecolor": "white",
            "ticks": ""
           },
           "baxis": {
            "gridcolor": "white",
            "linecolor": "white",
            "ticks": ""
           },
           "bgcolor": "#E5ECF6",
           "caxis": {
            "gridcolor": "white",
            "linecolor": "white",
            "ticks": ""
           }
          },
          "title": {
           "x": 0.05
          },
          "xaxis": {
           "automargin": true,
           "gridcolor": "white",
           "linecolor": "white",
           "ticks": "",
           "title": {
            "standoff": 15
           },
           "zerolinecolor": "white",
           "zerolinewidth": 2
          },
          "yaxis": {
           "automargin": true,
           "gridcolor": "white",
           "linecolor": "white",
           "ticks": "",
           "title": {
            "standoff": 15
           },
           "zerolinecolor": "white",
           "zerolinewidth": 2
          }
         }
        },
        "xaxis": {
         "anchor": "y",
         "domain": [
          0,
          1
         ]
        },
        "yaxis": {
         "anchor": "x",
         "autorange": "reversed",
         "domain": [
          0,
          1
         ]
        }
       }
      }
     },
     "metadata": {},
     "output_type": "display_data"
    }
   ],
   "source": [
    "# Part 1 Task 1\n",
    "fig = px.imshow(\n",
    "    final_df.corr(), text_auto=True, aspect='auto'\n",
    ")\n",
    "fig.show()"
   ]
  },
  {
   "cell_type": "code",
   "execution_count": 14,
   "metadata": {},
   "outputs": [
    {
     "data": {
      "text/plain": [
       "{'city': 0.45746398,\n",
       " 'city_development_index': 0.12793338,\n",
       " 'relevent_experience': 0.056673724,\n",
       " 'enrolled_university': 0.04256852,\n",
       " 'education_level': 0.049435545,\n",
       " 'company_size': 0.1736853,\n",
       " 'company_type': 0.04254239}"
      ]
     },
     "execution_count": 14,
     "metadata": {},
     "output_type": "execute_result"
    }
   ],
   "source": [
    "# Part 1 Task 2\n",
    "def rforest_feature_selection(threshold = 0.1):\n",
    "    model = xgb.XGBRFClassifier()\n",
    "    x = final_df.drop('target', axis=1)\n",
    "    y = final_df['target']\n",
    "    model.fit(x, y)\n",
    "    features_importances = dict(zip(x.columns.to_list(), list(model.feature_importances_)))\n",
    "    return dict(filter(lambda pair: pair[1] >= threshold, features_importances.items()))\n",
    "rforest_feature_selection(0.02)"
   ]
  },
  {
   "cell_type": "code",
   "execution_count": 15,
   "metadata": {},
   "outputs": [
    {
     "data": {
      "text/plain": [
       "{'city': 0.0,\n",
       " 'city_development_index': 0.0,\n",
       " 'relevent_experience': 5.162093013693399e-70,\n",
       " 'enrolled_university': 8.830957032209763e-98,\n",
       " 'education_level': 2.069559403348117e-34,\n",
       " 'experience': 4.372211179054333e-136,\n",
       " 'company_size': 2.8218687949395375e-129,\n",
       " 'company_type': 5.429812083876602e-19,\n",
       " 'training_hours': 0.0034057479488734804}"
      ]
     },
     "execution_count": 15,
     "metadata": {},
     "output_type": "execute_result"
    }
   ],
   "source": [
    "# Part 1 Task 3\n",
    "def p_value_feature_selection():\n",
    "    x = final_df.drop('target', axis=1)\n",
    "    y = final_df['target']\n",
    "    f_test = f_classif(x, y)\n",
    "    p_values = f_test[1]\n",
    "    features_p_values = dict(zip(x.columns.to_list(), list(p_values)))\n",
    "    return dict(filter(lambda pair: pair[1] < 0.05, features_p_values.items()))\n",
    "p_value_feature_selection()"
   ]
  },
  {
   "cell_type": "code",
   "execution_count": 16,
   "metadata": {},
   "outputs": [
    {
     "data": {
      "text/plain": [
       "{'city': 0.07180882649862652,\n",
       " 'city_development_index': 0.06445761146440487,\n",
       " 'company_size': 0.0157881752944804,\n",
       " 'company_type': 0.0021791471068941526,\n",
       " 'education_level': 0.004823256632876749,\n",
       " 'enrolled_university': 0.010657292227569393}"
      ]
     },
     "execution_count": 16,
     "metadata": {},
     "output_type": "execute_result"
    }
   ],
   "source": [
    "# Part 1 Task 4\n",
    "def mutual_info_feature_selection(percentile=0.5):\n",
    "    x = final_df.drop('target', axis=1)\n",
    "    y = final_df['target']\n",
    "    features_importances = mutual_info_classif(x, y)    \n",
    "    features_importances = dict(zip(x.columns.to_list(), list(features_importances)))\n",
    "    features_importances = dict(sorted(features_importances.items(),\n",
    "                                       key=lambda pair: pair[0])[:round(len(features_importances)*percentile)])\n",
    "    return features_importances    \n",
    "mutual_info_feature_selection()"
   ]
  },
  {
   "cell_type": "code",
   "execution_count": 18,
   "metadata": {},
   "outputs": [
    {
     "data": {
      "text/plain": [
       "{'city': True,\n",
       " 'city_development_index': True,\n",
       " 'enrolled_university': True,\n",
       " 'company_size': True,\n",
       " 'company_type': True}"
      ]
     },
     "execution_count": 18,
     "metadata": {},
     "output_type": "execute_result"
    }
   ],
   "source": [
    "# Part 1 Task 5\n",
    "def rfe_feature_selection(percentile=0.5):\n",
    "    x = final_df.drop('target', axis=1)\n",
    "    y = final_df['target']    \n",
    "    model = RFE(estimator=SVC(kernel='linear'), n_features_to_select=percentile)\n",
    "    model.fit(x, y)\n",
    "    return {feature: True for feature in model.get_feature_names_out()}\n",
    "rfe_feature_selection()\n"
   ]
  },
  {
   "cell_type": "code",
   "execution_count": 17,
   "metadata": {},
   "outputs": [],
   "source": [
    "rfe_selected = {'city': True,\n",
    "                'city_development_index': True,\n",
    "                'enrolled_university': True,\n",
    "                'company_size': True,\n",
    "                'company_type': True}"
   ]
  },
  {
   "cell_type": "code",
   "execution_count": 20,
   "metadata": {},
   "outputs": [
    {
     "name": "stdout",
     "output_type": "stream",
     "text": [
      "              precision    recall  f1-score   support\n",
      "\n",
      "         0.0       0.82      0.90      0.86      2877\n",
      "         1.0       0.56      0.41      0.47       955\n",
      "\n",
      "    accuracy                           0.77      3832\n",
      "   macro avg       0.69      0.65      0.66      3832\n",
      "weighted avg       0.76      0.77      0.76      3832\n",
      "\n"
     ]
    }
   ],
   "source": [
    "# Part 1 Task 6\n",
    "# Random Forest\n",
    "model = xgb.XGBClassifier()\n",
    "x = final_df[list(rforest_feature_selection().keys())]\n",
    "y = final_df['target']\n",
    "x_train, x_test, y_train, y_test = train_test_split(x, y, test_size=0.2, stratify=y)\n",
    "model.fit(x_train, y_train)\n",
    "pred = model.predict(x_test)\n",
    "print(classification_report(y_test, pred))"
   ]
  },
  {
   "cell_type": "code",
   "execution_count": 21,
   "metadata": {},
   "outputs": [
    {
     "name": "stdout",
     "output_type": "stream",
     "text": [
      "              precision    recall  f1-score   support\n",
      "\n",
      "         0.0       0.82      0.89      0.86      2877\n",
      "         1.0       0.56      0.42      0.48       955\n",
      "\n",
      "    accuracy                           0.77      3832\n",
      "   macro avg       0.69      0.65      0.67      3832\n",
      "weighted avg       0.76      0.77      0.76      3832\n",
      "\n"
     ]
    }
   ],
   "source": [
    "# Part 1 Task 6\n",
    "# P-Value\n",
    "model = xgb.XGBClassifier()\n",
    "x = final_df[list(p_value_feature_selection().keys())]\n",
    "y = final_df['target']\n",
    "x_train, x_test, y_train, y_test = train_test_split(x, y, test_size=0.2, stratify=y)\n",
    "model.fit(x_train, y_train)\n",
    "pred = model.predict(x_test)\n",
    "print(classification_report(y_test, pred))"
   ]
  },
  {
   "cell_type": "code",
   "execution_count": 22,
   "metadata": {},
   "outputs": [
    {
     "name": "stdout",
     "output_type": "stream",
     "text": [
      "              precision    recall  f1-score   support\n",
      "\n",
      "         0.0       0.82      0.89      0.86      2877\n",
      "         1.0       0.56      0.42      0.48       955\n",
      "\n",
      "    accuracy                           0.77      3832\n",
      "   macro avg       0.69      0.66      0.67      3832\n",
      "weighted avg       0.76      0.77      0.76      3832\n",
      "\n"
     ]
    }
   ],
   "source": [
    "# Part 1 Task 6\n",
    "# Mutual Info\n",
    "model = xgb.XGBClassifier()\n",
    "x = final_df[list(mutual_info_feature_selection().keys())]\n",
    "y = final_df['target']\n",
    "x_train, x_test, y_train, y_test = train_test_split(x, y, test_size=0.2, stratify=y)\n",
    "model.fit(x_train, y_train)\n",
    "pred = model.predict(x_test)\n",
    "print(classification_report(y_test, pred))"
   ]
  },
  {
   "cell_type": "code",
   "execution_count": 23,
   "metadata": {},
   "outputs": [
    {
     "name": "stdout",
     "output_type": "stream",
     "text": [
      "              precision    recall  f1-score   support\n",
      "\n",
      "         0.0       0.82      0.89      0.85      2877\n",
      "         1.0       0.55      0.41      0.47       955\n",
      "\n",
      "    accuracy                           0.77      3832\n",
      "   macro avg       0.69      0.65      0.66      3832\n",
      "weighted avg       0.75      0.77      0.76      3832\n",
      "\n"
     ]
    }
   ],
   "source": [
    "# Part 1 Task 6\n",
    "# RFE\n",
    "model = xgb.XGBClassifier()\n",
    "x = final_df[list(rfe_selected.keys())]\n",
    "y = final_df['target']\n",
    "x_train, x_test, y_train, y_test = train_test_split(x, y, test_size=0.2, stratify=y)\n",
    "model.fit(x_train, y_train)\n",
    "pred = model.predict(x_test)\n",
    "print(classification_report(y_test, pred))"
   ]
  },
  {
   "cell_type": "code",
   "execution_count": null,
   "metadata": {},
   "outputs": [],
   "source": [
    "# Mutual info is the best fow now"
   ]
  }
 ],
 "metadata": {
  "kernelspec": {
   "display_name": "venv",
   "language": "python",
   "name": "python3"
  },
  "language_info": {
   "codemirror_mode": {
    "name": "ipython",
    "version": 3
   },
   "file_extension": ".py",
   "mimetype": "text/x-python",
   "name": "python",
   "nbconvert_exporter": "python",
   "pygments_lexer": "ipython3",
   "version": "3.12.1"
  }
 },
 "nbformat": 4,
 "nbformat_minor": 2
}
