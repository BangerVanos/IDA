{
 "cells": [
  {
   "cell_type": "code",
   "execution_count": 197,
   "metadata": {},
   "outputs": [],
   "source": [
    "import pandas as pd\n",
    "import plotly.express as px\n",
    "from sklearn.preprocessing import TargetEncoder\n",
    "from sklearn.feature_selection import f_classif, mutual_info_classif, RFE, SequentialFeatureSelector\n",
    "from sklearn.model_selection import train_test_split\n",
    "from sklearn.svm import SVC\n",
    "from sklearn.linear_model import LogisticRegression\n",
    "import xgboost as xgb\n",
    "from sklearn.metrics import classification_report\n",
    "from sklearn.decomposition import PCA, FactorAnalysis\n",
    "from sklearn.discriminant_analysis import LinearDiscriminantAnalysis, QuadraticDiscriminantAnalysis\n",
    "import numpy as np"
   ]
  },
  {
   "cell_type": "code",
   "execution_count": 2,
   "metadata": {},
   "outputs": [],
   "source": [
    "df = pd.read_csv('data_science_job.csv')\n",
    "df.drop('enrollee_id', axis=1, inplace=True)"
   ]
  },
  {
   "cell_type": "code",
   "execution_count": 3,
   "metadata": {},
   "outputs": [
    {
     "data": {
      "text/plain": [
       "city                         0\n",
       "city_development_index     479\n",
       "gender                    4508\n",
       "relevent_experience          0\n",
       "enrolled_university        386\n",
       "education_level            460\n",
       "major_discipline          2813\n",
       "experience                  65\n",
       "company_size              5938\n",
       "company_type              6140\n",
       "training_hours             766\n",
       "target                       0\n",
       "dtype: int64"
      ]
     },
     "execution_count": 3,
     "metadata": {},
     "output_type": "execute_result"
    }
   ],
   "source": [
    "df.isna().sum()"
   ]
  },
  {
   "cell_type": "code",
   "execution_count": 4,
   "metadata": {},
   "outputs": [],
   "source": [
    "# Fill nan values\n",
    "df['city_development_index'] = df['city_development_index'].fillna(df['city_development_index'].median())\n",
    "df['gender'] = df['gender'].fillna(df['gender'].mode()[0])\n",
    "df['enrolled_university'] = df['enrolled_university'].fillna(df['enrolled_university'].mode()[0])\n",
    "df['education_level'] = df['education_level'].fillna(df['education_level'].mode()[0])\n",
    "df['major_discipline'] = df['major_discipline'].fillna(df['major_discipline'].mode()[0])\n",
    "df['experience'] = df['experience'].fillna(df['experience'].median())\n",
    "df['company_size'] = df['company_size'].fillna(df['company_size'].mode()[0])\n",
    "df['company_type'] = df['company_type'].fillna(df['company_type'].mode()[0])\n",
    "df['training_hours'] = df['training_hours'].fillna(df['training_hours'].median())"
   ]
  },
  {
   "cell_type": "code",
   "execution_count": 5,
   "metadata": {},
   "outputs": [
    {
     "data": {
      "text/plain": [
       "city                      0\n",
       "city_development_index    0\n",
       "gender                    0\n",
       "relevent_experience       0\n",
       "enrolled_university       0\n",
       "education_level           0\n",
       "major_discipline          0\n",
       "experience                0\n",
       "company_size              0\n",
       "company_type              0\n",
       "training_hours            0\n",
       "target                    0\n",
       "dtype: int64"
      ]
     },
     "execution_count": 5,
     "metadata": {},
     "output_type": "execute_result"
    }
   ],
   "source": [
    "df.isna().sum()"
   ]
  },
  {
   "cell_type": "code",
   "execution_count": 6,
   "metadata": {},
   "outputs": [],
   "source": [
    "df['target'] = df['target'].astype('boolean')"
   ]
  },
  {
   "cell_type": "code",
   "execution_count": 7,
   "metadata": {},
   "outputs": [
    {
     "name": "stdout",
     "output_type": "stream",
     "text": [
      "<class 'pandas.core.frame.DataFrame'>\n",
      "RangeIndex: 19158 entries, 0 to 19157\n",
      "Data columns (total 12 columns):\n",
      " #   Column                  Non-Null Count  Dtype  \n",
      "---  ------                  --------------  -----  \n",
      " 0   city                    19158 non-null  object \n",
      " 1   city_development_index  19158 non-null  float64\n",
      " 2   gender                  19158 non-null  object \n",
      " 3   relevent_experience     19158 non-null  object \n",
      " 4   enrolled_university     19158 non-null  object \n",
      " 5   education_level         19158 non-null  object \n",
      " 6   major_discipline        19158 non-null  object \n",
      " 7   experience              19158 non-null  float64\n",
      " 8   company_size            19158 non-null  object \n",
      " 9   company_type            19158 non-null  object \n",
      " 10  training_hours          19158 non-null  float64\n",
      " 11  target                  19158 non-null  boolean\n",
      "dtypes: boolean(1), float64(3), object(8)\n",
      "memory usage: 1.6+ MB\n"
     ]
    }
   ],
   "source": [
    "df.info()"
   ]
  },
  {
   "cell_type": "code",
   "execution_count": 8,
   "metadata": {},
   "outputs": [],
   "source": [
    "tg = TargetEncoder(smooth='auto', target_type='binary')\n",
    "y = df['target']\n",
    "x = df.drop(list(df.select_dtypes(exclude='object').columns), axis=1)\n",
    "\n",
    "x_trans = tg.fit_transform(x, y)\n",
    "df_encoded = pd.DataFrame(x_trans, columns=x.columns)"
   ]
  },
  {
   "cell_type": "code",
   "execution_count": 9,
   "metadata": {},
   "outputs": [
    {
     "data": {
      "text/html": [
       "<div>\n",
       "<style scoped>\n",
       "    .dataframe tbody tr th:only-of-type {\n",
       "        vertical-align: middle;\n",
       "    }\n",
       "\n",
       "    .dataframe tbody tr th {\n",
       "        vertical-align: top;\n",
       "    }\n",
       "\n",
       "    .dataframe thead th {\n",
       "        text-align: right;\n",
       "    }\n",
       "</style>\n",
       "<table border=\"1\" class=\"dataframe\">\n",
       "  <thead>\n",
       "    <tr style=\"text-align: right;\">\n",
       "      <th></th>\n",
       "      <th>city</th>\n",
       "      <th>gender</th>\n",
       "      <th>relevent_experience</th>\n",
       "      <th>enrolled_university</th>\n",
       "      <th>education_level</th>\n",
       "      <th>major_discipline</th>\n",
       "      <th>company_size</th>\n",
       "      <th>company_type</th>\n",
       "      <th>target</th>\n",
       "    </tr>\n",
       "  </thead>\n",
       "  <tbody>\n",
       "    <tr>\n",
       "      <th>0</th>\n",
       "      <td>0.210841</td>\n",
       "      <td>0.248272</td>\n",
       "      <td>0.213115</td>\n",
       "      <td>0.215456</td>\n",
       "      <td>0.278311</td>\n",
       "      <td>0.250955</td>\n",
       "      <td>0.330624</td>\n",
       "      <td>0.261022</td>\n",
       "      <td>True</td>\n",
       "    </tr>\n",
       "    <tr>\n",
       "      <th>1</th>\n",
       "      <td>0.149396</td>\n",
       "      <td>0.248272</td>\n",
       "      <td>0.341732</td>\n",
       "      <td>0.215456</td>\n",
       "      <td>0.278311</td>\n",
       "      <td>0.250955</td>\n",
       "      <td>0.330624</td>\n",
       "      <td>0.261022</td>\n",
       "      <td>False</td>\n",
       "    </tr>\n",
       "    <tr>\n",
       "      <th>2</th>\n",
       "      <td>0.585412</td>\n",
       "      <td>0.248540</td>\n",
       "      <td>0.334007</td>\n",
       "      <td>0.378715</td>\n",
       "      <td>0.275560</td>\n",
       "      <td>0.251229</td>\n",
       "      <td>0.326341</td>\n",
       "      <td>0.260967</td>\n",
       "      <td>False</td>\n",
       "    </tr>\n",
       "    <tr>\n",
       "      <th>3</th>\n",
       "      <td>0.358828</td>\n",
       "      <td>0.248540</td>\n",
       "      <td>0.334007</td>\n",
       "      <td>0.213721</td>\n",
       "      <td>0.275560</td>\n",
       "      <td>0.229394</td>\n",
       "      <td>0.326341</td>\n",
       "      <td>0.260967</td>\n",
       "      <td>True</td>\n",
       "    </tr>\n",
       "    <tr>\n",
       "      <th>4</th>\n",
       "      <td>0.311754</td>\n",
       "      <td>0.248168</td>\n",
       "      <td>0.213811</td>\n",
       "      <td>0.214452</td>\n",
       "      <td>0.213910</td>\n",
       "      <td>0.250018</td>\n",
       "      <td>0.326683</td>\n",
       "      <td>0.141869</td>\n",
       "      <td>False</td>\n",
       "    </tr>\n",
       "    <tr>\n",
       "      <th>...</th>\n",
       "      <td>...</td>\n",
       "      <td>...</td>\n",
       "      <td>...</td>\n",
       "      <td>...</td>\n",
       "      <td>...</td>\n",
       "      <td>...</td>\n",
       "      <td>...</td>\n",
       "      <td>...</td>\n",
       "      <td>...</td>\n",
       "    </tr>\n",
       "    <tr>\n",
       "      <th>19153</th>\n",
       "      <td>0.092249</td>\n",
       "      <td>0.248044</td>\n",
       "      <td>0.334392</td>\n",
       "      <td>0.215091</td>\n",
       "      <td>0.280080</td>\n",
       "      <td>0.209107</td>\n",
       "      <td>0.325053</td>\n",
       "      <td>0.259948</td>\n",
       "      <td>True</td>\n",
       "    </tr>\n",
       "    <tr>\n",
       "      <th>19154</th>\n",
       "      <td>0.210841</td>\n",
       "      <td>0.248272</td>\n",
       "      <td>0.213115</td>\n",
       "      <td>0.215456</td>\n",
       "      <td>0.278311</td>\n",
       "      <td>0.250955</td>\n",
       "      <td>0.330624</td>\n",
       "      <td>0.261022</td>\n",
       "      <td>True</td>\n",
       "    </tr>\n",
       "    <tr>\n",
       "      <th>19155</th>\n",
       "      <td>0.214336</td>\n",
       "      <td>0.248044</td>\n",
       "      <td>0.216072</td>\n",
       "      <td>0.215091</td>\n",
       "      <td>0.280080</td>\n",
       "      <td>0.251319</td>\n",
       "      <td>0.325053</td>\n",
       "      <td>0.259948</td>\n",
       "      <td>False</td>\n",
       "    </tr>\n",
       "    <tr>\n",
       "      <th>19156</th>\n",
       "      <td>0.138417</td>\n",
       "      <td>0.248272</td>\n",
       "      <td>0.213115</td>\n",
       "      <td>0.215456</td>\n",
       "      <td>0.197931</td>\n",
       "      <td>0.250955</td>\n",
       "      <td>0.170747</td>\n",
       "      <td>0.261022</td>\n",
       "      <td>False</td>\n",
       "    </tr>\n",
       "    <tr>\n",
       "      <th>19157</th>\n",
       "      <td>0.146329</td>\n",
       "      <td>0.248163</td>\n",
       "      <td>0.340251</td>\n",
       "      <td>0.212891</td>\n",
       "      <td>0.144913</td>\n",
       "      <td>0.250451</td>\n",
       "      <td>0.329140</td>\n",
       "      <td>0.260654</td>\n",
       "      <td>False</td>\n",
       "    </tr>\n",
       "  </tbody>\n",
       "</table>\n",
       "<p>19158 rows × 9 columns</p>\n",
       "</div>"
      ],
      "text/plain": [
       "           city    gender  relevent_experience  enrolled_university  \\\n",
       "0      0.210841  0.248272             0.213115             0.215456   \n",
       "1      0.149396  0.248272             0.341732             0.215456   \n",
       "2      0.585412  0.248540             0.334007             0.378715   \n",
       "3      0.358828  0.248540             0.334007             0.213721   \n",
       "4      0.311754  0.248168             0.213811             0.214452   \n",
       "...         ...       ...                  ...                  ...   \n",
       "19153  0.092249  0.248044             0.334392             0.215091   \n",
       "19154  0.210841  0.248272             0.213115             0.215456   \n",
       "19155  0.214336  0.248044             0.216072             0.215091   \n",
       "19156  0.138417  0.248272             0.213115             0.215456   \n",
       "19157  0.146329  0.248163             0.340251             0.212891   \n",
       "\n",
       "       education_level  major_discipline  company_size  company_type  target  \n",
       "0             0.278311          0.250955      0.330624      0.261022    True  \n",
       "1             0.278311          0.250955      0.330624      0.261022   False  \n",
       "2             0.275560          0.251229      0.326341      0.260967   False  \n",
       "3             0.275560          0.229394      0.326341      0.260967    True  \n",
       "4             0.213910          0.250018      0.326683      0.141869   False  \n",
       "...                ...               ...           ...           ...     ...  \n",
       "19153         0.280080          0.209107      0.325053      0.259948    True  \n",
       "19154         0.278311          0.250955      0.330624      0.261022    True  \n",
       "19155         0.280080          0.251319      0.325053      0.259948   False  \n",
       "19156         0.197931          0.250955      0.170747      0.261022   False  \n",
       "19157         0.144913          0.250451      0.329140      0.260654   False  \n",
       "\n",
       "[19158 rows x 9 columns]"
      ]
     },
     "execution_count": 9,
     "metadata": {},
     "output_type": "execute_result"
    }
   ],
   "source": [
    "df_encoded['target'] = y\n",
    "df_encoded"
   ]
  },
  {
   "cell_type": "code",
   "execution_count": 10,
   "metadata": {},
   "outputs": [
    {
     "data": {
      "application/vnd.plotly.v1+json": {
       "config": {
        "plotlyServerURL": "https://plot.ly"
       },
       "data": [
        {
         "coloraxis": "coloraxis",
         "hovertemplate": "x: %{x}<br>y: %{y}<br>color: %{z}<extra></extra>",
         "name": "0",
         "texttemplate": "%{z}",
         "type": "heatmap",
         "x": [
          "city",
          "gender",
          "relevent_experience",
          "enrolled_university",
          "education_level",
          "major_discipline",
          "company_size",
          "company_type",
          "target"
         ],
         "xaxis": "x",
         "y": [
          "city",
          "gender",
          "relevent_experience",
          "enrolled_university",
          "education_level",
          "major_discipline",
          "company_size",
          "company_type",
          "target"
         ],
         "yaxis": "y",
         "z": [
          [
           1,
           -0.013824871794608059,
           0.04366324236442599,
           0.13757149384047684,
           0.11918043521947352,
           0.055456032553617016,
           0.05102474736083452,
           0.028287041097990667,
           0.377451045242257
          ],
          [
           -0.013824871794608059,
           1,
           0.020603933817719165,
           -0.0050856560915919485,
           -0.005157886925718397,
           -0.06601815131521895,
           -0.008560329917994417,
           -0.038849758218111874,
           0.0010878122860103474
          ],
          [
           0.04366324236442599,
           0.020603933817719165,
           1,
           0.37443165948712026,
           -0.16385892855763712,
           0.000509466383391827,
           0.27938275129978196,
           0.07137213156762973,
           0.12758674745646326
          ],
          [
           0.13757149384047684,
           -0.0050856560915919485,
           0.37443165948712026,
           1,
           -0.024021923876654094,
           0.06189830999878201,
           0.1848884324472254,
           0.042371139396995425,
           0.15063902589005992
          ],
          [
           0.11918043521947352,
           -0.005157886925718397,
           -0.16385892855763712,
           -0.024021923876654094,
           1,
           -0.016381049610517267,
           -0.05737066355363735,
           -0.0013738132763009576,
           0.08967864163572421
          ],
          [
           0.055456032553617016,
           -0.06601815131521895,
           0.000509466383391827,
           0.06189830999878201,
           -0.016381049610517267,
           1,
           -0.008630805656629829,
           0.030975013232456695,
           0.004227725109872489
          ],
          [
           0.05102474736083452,
           -0.008560329917994417,
           0.27938275129978196,
           0.1848884324472254,
           -0.05737066355363735,
           -0.008630805656629829,
           1,
           0.10358252288730618,
           0.17415499934111464
          ],
          [
           0.028287041097990667,
           -0.038849758218111874,
           0.07137213156762973,
           0.042371139396995425,
           -0.0013738132763009576,
           0.030975013232456695,
           0.10358252288730618,
           1,
           0.06619673094380056
          ],
          [
           0.377451045242257,
           0.0010878122860103474,
           0.12758674745646326,
           0.15063902589005992,
           0.08967864163572421,
           0.004227725109872489,
           0.17415499934111464,
           0.06619673094380056,
           1
          ]
         ]
        }
       ],
       "layout": {
        "coloraxis": {
         "colorscale": [
          [
           0,
           "#0d0887"
          ],
          [
           0.1111111111111111,
           "#46039f"
          ],
          [
           0.2222222222222222,
           "#7201a8"
          ],
          [
           0.3333333333333333,
           "#9c179e"
          ],
          [
           0.4444444444444444,
           "#bd3786"
          ],
          [
           0.5555555555555556,
           "#d8576b"
          ],
          [
           0.6666666666666666,
           "#ed7953"
          ],
          [
           0.7777777777777778,
           "#fb9f3a"
          ],
          [
           0.8888888888888888,
           "#fdca26"
          ],
          [
           1,
           "#f0f921"
          ]
         ]
        },
        "margin": {
         "t": 60
        },
        "template": {
         "data": {
          "bar": [
           {
            "error_x": {
             "color": "#2a3f5f"
            },
            "error_y": {
             "color": "#2a3f5f"
            },
            "marker": {
             "line": {
              "color": "#E5ECF6",
              "width": 0.5
             },
             "pattern": {
              "fillmode": "overlay",
              "size": 10,
              "solidity": 0.2
             }
            },
            "type": "bar"
           }
          ],
          "barpolar": [
           {
            "marker": {
             "line": {
              "color": "#E5ECF6",
              "width": 0.5
             },
             "pattern": {
              "fillmode": "overlay",
              "size": 10,
              "solidity": 0.2
             }
            },
            "type": "barpolar"
           }
          ],
          "carpet": [
           {
            "aaxis": {
             "endlinecolor": "#2a3f5f",
             "gridcolor": "white",
             "linecolor": "white",
             "minorgridcolor": "white",
             "startlinecolor": "#2a3f5f"
            },
            "baxis": {
             "endlinecolor": "#2a3f5f",
             "gridcolor": "white",
             "linecolor": "white",
             "minorgridcolor": "white",
             "startlinecolor": "#2a3f5f"
            },
            "type": "carpet"
           }
          ],
          "choropleth": [
           {
            "colorbar": {
             "outlinewidth": 0,
             "ticks": ""
            },
            "type": "choropleth"
           }
          ],
          "contour": [
           {
            "colorbar": {
             "outlinewidth": 0,
             "ticks": ""
            },
            "colorscale": [
             [
              0,
              "#0d0887"
             ],
             [
              0.1111111111111111,
              "#46039f"
             ],
             [
              0.2222222222222222,
              "#7201a8"
             ],
             [
              0.3333333333333333,
              "#9c179e"
             ],
             [
              0.4444444444444444,
              "#bd3786"
             ],
             [
              0.5555555555555556,
              "#d8576b"
             ],
             [
              0.6666666666666666,
              "#ed7953"
             ],
             [
              0.7777777777777778,
              "#fb9f3a"
             ],
             [
              0.8888888888888888,
              "#fdca26"
             ],
             [
              1,
              "#f0f921"
             ]
            ],
            "type": "contour"
           }
          ],
          "contourcarpet": [
           {
            "colorbar": {
             "outlinewidth": 0,
             "ticks": ""
            },
            "type": "contourcarpet"
           }
          ],
          "heatmap": [
           {
            "colorbar": {
             "outlinewidth": 0,
             "ticks": ""
            },
            "colorscale": [
             [
              0,
              "#0d0887"
             ],
             [
              0.1111111111111111,
              "#46039f"
             ],
             [
              0.2222222222222222,
              "#7201a8"
             ],
             [
              0.3333333333333333,
              "#9c179e"
             ],
             [
              0.4444444444444444,
              "#bd3786"
             ],
             [
              0.5555555555555556,
              "#d8576b"
             ],
             [
              0.6666666666666666,
              "#ed7953"
             ],
             [
              0.7777777777777778,
              "#fb9f3a"
             ],
             [
              0.8888888888888888,
              "#fdca26"
             ],
             [
              1,
              "#f0f921"
             ]
            ],
            "type": "heatmap"
           }
          ],
          "heatmapgl": [
           {
            "colorbar": {
             "outlinewidth": 0,
             "ticks": ""
            },
            "colorscale": [
             [
              0,
              "#0d0887"
             ],
             [
              0.1111111111111111,
              "#46039f"
             ],
             [
              0.2222222222222222,
              "#7201a8"
             ],
             [
              0.3333333333333333,
              "#9c179e"
             ],
             [
              0.4444444444444444,
              "#bd3786"
             ],
             [
              0.5555555555555556,
              "#d8576b"
             ],
             [
              0.6666666666666666,
              "#ed7953"
             ],
             [
              0.7777777777777778,
              "#fb9f3a"
             ],
             [
              0.8888888888888888,
              "#fdca26"
             ],
             [
              1,
              "#f0f921"
             ]
            ],
            "type": "heatmapgl"
           }
          ],
          "histogram": [
           {
            "marker": {
             "pattern": {
              "fillmode": "overlay",
              "size": 10,
              "solidity": 0.2
             }
            },
            "type": "histogram"
           }
          ],
          "histogram2d": [
           {
            "colorbar": {
             "outlinewidth": 0,
             "ticks": ""
            },
            "colorscale": [
             [
              0,
              "#0d0887"
             ],
             [
              0.1111111111111111,
              "#46039f"
             ],
             [
              0.2222222222222222,
              "#7201a8"
             ],
             [
              0.3333333333333333,
              "#9c179e"
             ],
             [
              0.4444444444444444,
              "#bd3786"
             ],
             [
              0.5555555555555556,
              "#d8576b"
             ],
             [
              0.6666666666666666,
              "#ed7953"
             ],
             [
              0.7777777777777778,
              "#fb9f3a"
             ],
             [
              0.8888888888888888,
              "#fdca26"
             ],
             [
              1,
              "#f0f921"
             ]
            ],
            "type": "histogram2d"
           }
          ],
          "histogram2dcontour": [
           {
            "colorbar": {
             "outlinewidth": 0,
             "ticks": ""
            },
            "colorscale": [
             [
              0,
              "#0d0887"
             ],
             [
              0.1111111111111111,
              "#46039f"
             ],
             [
              0.2222222222222222,
              "#7201a8"
             ],
             [
              0.3333333333333333,
              "#9c179e"
             ],
             [
              0.4444444444444444,
              "#bd3786"
             ],
             [
              0.5555555555555556,
              "#d8576b"
             ],
             [
              0.6666666666666666,
              "#ed7953"
             ],
             [
              0.7777777777777778,
              "#fb9f3a"
             ],
             [
              0.8888888888888888,
              "#fdca26"
             ],
             [
              1,
              "#f0f921"
             ]
            ],
            "type": "histogram2dcontour"
           }
          ],
          "mesh3d": [
           {
            "colorbar": {
             "outlinewidth": 0,
             "ticks": ""
            },
            "type": "mesh3d"
           }
          ],
          "parcoords": [
           {
            "line": {
             "colorbar": {
              "outlinewidth": 0,
              "ticks": ""
             }
            },
            "type": "parcoords"
           }
          ],
          "pie": [
           {
            "automargin": true,
            "type": "pie"
           }
          ],
          "scatter": [
           {
            "fillpattern": {
             "fillmode": "overlay",
             "size": 10,
             "solidity": 0.2
            },
            "type": "scatter"
           }
          ],
          "scatter3d": [
           {
            "line": {
             "colorbar": {
              "outlinewidth": 0,
              "ticks": ""
             }
            },
            "marker": {
             "colorbar": {
              "outlinewidth": 0,
              "ticks": ""
             }
            },
            "type": "scatter3d"
           }
          ],
          "scattercarpet": [
           {
            "marker": {
             "colorbar": {
              "outlinewidth": 0,
              "ticks": ""
             }
            },
            "type": "scattercarpet"
           }
          ],
          "scattergeo": [
           {
            "marker": {
             "colorbar": {
              "outlinewidth": 0,
              "ticks": ""
             }
            },
            "type": "scattergeo"
           }
          ],
          "scattergl": [
           {
            "marker": {
             "colorbar": {
              "outlinewidth": 0,
              "ticks": ""
             }
            },
            "type": "scattergl"
           }
          ],
          "scattermapbox": [
           {
            "marker": {
             "colorbar": {
              "outlinewidth": 0,
              "ticks": ""
             }
            },
            "type": "scattermapbox"
           }
          ],
          "scatterpolar": [
           {
            "marker": {
             "colorbar": {
              "outlinewidth": 0,
              "ticks": ""
             }
            },
            "type": "scatterpolar"
           }
          ],
          "scatterpolargl": [
           {
            "marker": {
             "colorbar": {
              "outlinewidth": 0,
              "ticks": ""
             }
            },
            "type": "scatterpolargl"
           }
          ],
          "scatterternary": [
           {
            "marker": {
             "colorbar": {
              "outlinewidth": 0,
              "ticks": ""
             }
            },
            "type": "scatterternary"
           }
          ],
          "surface": [
           {
            "colorbar": {
             "outlinewidth": 0,
             "ticks": ""
            },
            "colorscale": [
             [
              0,
              "#0d0887"
             ],
             [
              0.1111111111111111,
              "#46039f"
             ],
             [
              0.2222222222222222,
              "#7201a8"
             ],
             [
              0.3333333333333333,
              "#9c179e"
             ],
             [
              0.4444444444444444,
              "#bd3786"
             ],
             [
              0.5555555555555556,
              "#d8576b"
             ],
             [
              0.6666666666666666,
              "#ed7953"
             ],
             [
              0.7777777777777778,
              "#fb9f3a"
             ],
             [
              0.8888888888888888,
              "#fdca26"
             ],
             [
              1,
              "#f0f921"
             ]
            ],
            "type": "surface"
           }
          ],
          "table": [
           {
            "cells": {
             "fill": {
              "color": "#EBF0F8"
             },
             "line": {
              "color": "white"
             }
            },
            "header": {
             "fill": {
              "color": "#C8D4E3"
             },
             "line": {
              "color": "white"
             }
            },
            "type": "table"
           }
          ]
         },
         "layout": {
          "annotationdefaults": {
           "arrowcolor": "#2a3f5f",
           "arrowhead": 0,
           "arrowwidth": 1
          },
          "autotypenumbers": "strict",
          "coloraxis": {
           "colorbar": {
            "outlinewidth": 0,
            "ticks": ""
           }
          },
          "colorscale": {
           "diverging": [
            [
             0,
             "#8e0152"
            ],
            [
             0.1,
             "#c51b7d"
            ],
            [
             0.2,
             "#de77ae"
            ],
            [
             0.3,
             "#f1b6da"
            ],
            [
             0.4,
             "#fde0ef"
            ],
            [
             0.5,
             "#f7f7f7"
            ],
            [
             0.6,
             "#e6f5d0"
            ],
            [
             0.7,
             "#b8e186"
            ],
            [
             0.8,
             "#7fbc41"
            ],
            [
             0.9,
             "#4d9221"
            ],
            [
             1,
             "#276419"
            ]
           ],
           "sequential": [
            [
             0,
             "#0d0887"
            ],
            [
             0.1111111111111111,
             "#46039f"
            ],
            [
             0.2222222222222222,
             "#7201a8"
            ],
            [
             0.3333333333333333,
             "#9c179e"
            ],
            [
             0.4444444444444444,
             "#bd3786"
            ],
            [
             0.5555555555555556,
             "#d8576b"
            ],
            [
             0.6666666666666666,
             "#ed7953"
            ],
            [
             0.7777777777777778,
             "#fb9f3a"
            ],
            [
             0.8888888888888888,
             "#fdca26"
            ],
            [
             1,
             "#f0f921"
            ]
           ],
           "sequentialminus": [
            [
             0,
             "#0d0887"
            ],
            [
             0.1111111111111111,
             "#46039f"
            ],
            [
             0.2222222222222222,
             "#7201a8"
            ],
            [
             0.3333333333333333,
             "#9c179e"
            ],
            [
             0.4444444444444444,
             "#bd3786"
            ],
            [
             0.5555555555555556,
             "#d8576b"
            ],
            [
             0.6666666666666666,
             "#ed7953"
            ],
            [
             0.7777777777777778,
             "#fb9f3a"
            ],
            [
             0.8888888888888888,
             "#fdca26"
            ],
            [
             1,
             "#f0f921"
            ]
           ]
          },
          "colorway": [
           "#636efa",
           "#EF553B",
           "#00cc96",
           "#ab63fa",
           "#FFA15A",
           "#19d3f3",
           "#FF6692",
           "#B6E880",
           "#FF97FF",
           "#FECB52"
          ],
          "font": {
           "color": "#2a3f5f"
          },
          "geo": {
           "bgcolor": "white",
           "lakecolor": "white",
           "landcolor": "#E5ECF6",
           "showlakes": true,
           "showland": true,
           "subunitcolor": "white"
          },
          "hoverlabel": {
           "align": "left"
          },
          "hovermode": "closest",
          "mapbox": {
           "style": "light"
          },
          "paper_bgcolor": "white",
          "plot_bgcolor": "#E5ECF6",
          "polar": {
           "angularaxis": {
            "gridcolor": "white",
            "linecolor": "white",
            "ticks": ""
           },
           "bgcolor": "#E5ECF6",
           "radialaxis": {
            "gridcolor": "white",
            "linecolor": "white",
            "ticks": ""
           }
          },
          "scene": {
           "xaxis": {
            "backgroundcolor": "#E5ECF6",
            "gridcolor": "white",
            "gridwidth": 2,
            "linecolor": "white",
            "showbackground": true,
            "ticks": "",
            "zerolinecolor": "white"
           },
           "yaxis": {
            "backgroundcolor": "#E5ECF6",
            "gridcolor": "white",
            "gridwidth": 2,
            "linecolor": "white",
            "showbackground": true,
            "ticks": "",
            "zerolinecolor": "white"
           },
           "zaxis": {
            "backgroundcolor": "#E5ECF6",
            "gridcolor": "white",
            "gridwidth": 2,
            "linecolor": "white",
            "showbackground": true,
            "ticks": "",
            "zerolinecolor": "white"
           }
          },
          "shapedefaults": {
           "line": {
            "color": "#2a3f5f"
           }
          },
          "ternary": {
           "aaxis": {
            "gridcolor": "white",
            "linecolor": "white",
            "ticks": ""
           },
           "baxis": {
            "gridcolor": "white",
            "linecolor": "white",
            "ticks": ""
           },
           "bgcolor": "#E5ECF6",
           "caxis": {
            "gridcolor": "white",
            "linecolor": "white",
            "ticks": ""
           }
          },
          "title": {
           "x": 0.05
          },
          "xaxis": {
           "automargin": true,
           "gridcolor": "white",
           "linecolor": "white",
           "ticks": "",
           "title": {
            "standoff": 15
           },
           "zerolinecolor": "white",
           "zerolinewidth": 2
          },
          "yaxis": {
           "automargin": true,
           "gridcolor": "white",
           "linecolor": "white",
           "ticks": "",
           "title": {
            "standoff": 15
           },
           "zerolinecolor": "white",
           "zerolinewidth": 2
          }
         }
        },
        "xaxis": {
         "anchor": "y",
         "domain": [
          0,
          1
         ]
        },
        "yaxis": {
         "anchor": "x",
         "autorange": "reversed",
         "domain": [
          0,
          1
         ]
        }
       }
      }
     },
     "metadata": {},
     "output_type": "display_data"
    }
   ],
   "source": [
    "fig = px.imshow(\n",
    "    df_encoded.corr(), text_auto=True, aspect='auto'\n",
    ")\n",
    "fig.show()"
   ]
  },
  {
   "cell_type": "code",
   "execution_count": 11,
   "metadata": {},
   "outputs": [
    {
     "data": {
      "text/html": [
       "<div>\n",
       "<style scoped>\n",
       "    .dataframe tbody tr th:only-of-type {\n",
       "        vertical-align: middle;\n",
       "    }\n",
       "\n",
       "    .dataframe tbody tr th {\n",
       "        vertical-align: top;\n",
       "    }\n",
       "\n",
       "    .dataframe thead th {\n",
       "        text-align: right;\n",
       "    }\n",
       "</style>\n",
       "<table border=\"1\" class=\"dataframe\">\n",
       "  <thead>\n",
       "    <tr style=\"text-align: right;\">\n",
       "      <th></th>\n",
       "      <th>city</th>\n",
       "      <th>city_development_index</th>\n",
       "      <th>gender</th>\n",
       "      <th>relevent_experience</th>\n",
       "      <th>enrolled_university</th>\n",
       "      <th>education_level</th>\n",
       "      <th>major_discipline</th>\n",
       "      <th>experience</th>\n",
       "      <th>company_size</th>\n",
       "      <th>company_type</th>\n",
       "      <th>training_hours</th>\n",
       "      <th>target</th>\n",
       "    </tr>\n",
       "  </thead>\n",
       "  <tbody>\n",
       "    <tr>\n",
       "      <th>0</th>\n",
       "      <td>0.210841</td>\n",
       "      <td>0.920</td>\n",
       "      <td>0.248272</td>\n",
       "      <td>0.213115</td>\n",
       "      <td>0.215456</td>\n",
       "      <td>0.278311</td>\n",
       "      <td>0.250955</td>\n",
       "      <td>20.0</td>\n",
       "      <td>0.330624</td>\n",
       "      <td>0.261022</td>\n",
       "      <td>36.0</td>\n",
       "      <td>True</td>\n",
       "    </tr>\n",
       "    <tr>\n",
       "      <th>1</th>\n",
       "      <td>0.149396</td>\n",
       "      <td>0.776</td>\n",
       "      <td>0.248272</td>\n",
       "      <td>0.341732</td>\n",
       "      <td>0.215456</td>\n",
       "      <td>0.278311</td>\n",
       "      <td>0.250955</td>\n",
       "      <td>15.0</td>\n",
       "      <td>0.330624</td>\n",
       "      <td>0.261022</td>\n",
       "      <td>47.0</td>\n",
       "      <td>False</td>\n",
       "    </tr>\n",
       "    <tr>\n",
       "      <th>2</th>\n",
       "      <td>0.585412</td>\n",
       "      <td>0.624</td>\n",
       "      <td>0.248540</td>\n",
       "      <td>0.334007</td>\n",
       "      <td>0.378715</td>\n",
       "      <td>0.275560</td>\n",
       "      <td>0.251229</td>\n",
       "      <td>5.0</td>\n",
       "      <td>0.326341</td>\n",
       "      <td>0.260967</td>\n",
       "      <td>83.0</td>\n",
       "      <td>False</td>\n",
       "    </tr>\n",
       "    <tr>\n",
       "      <th>3</th>\n",
       "      <td>0.358828</td>\n",
       "      <td>0.789</td>\n",
       "      <td>0.248540</td>\n",
       "      <td>0.334007</td>\n",
       "      <td>0.213721</td>\n",
       "      <td>0.275560</td>\n",
       "      <td>0.229394</td>\n",
       "      <td>0.0</td>\n",
       "      <td>0.326341</td>\n",
       "      <td>0.260967</td>\n",
       "      <td>52.0</td>\n",
       "      <td>True</td>\n",
       "    </tr>\n",
       "    <tr>\n",
       "      <th>4</th>\n",
       "      <td>0.311754</td>\n",
       "      <td>0.767</td>\n",
       "      <td>0.248168</td>\n",
       "      <td>0.213811</td>\n",
       "      <td>0.214452</td>\n",
       "      <td>0.213910</td>\n",
       "      <td>0.250018</td>\n",
       "      <td>20.0</td>\n",
       "      <td>0.326683</td>\n",
       "      <td>0.141869</td>\n",
       "      <td>8.0</td>\n",
       "      <td>False</td>\n",
       "    </tr>\n",
       "    <tr>\n",
       "      <th>...</th>\n",
       "      <td>...</td>\n",
       "      <td>...</td>\n",
       "      <td>...</td>\n",
       "      <td>...</td>\n",
       "      <td>...</td>\n",
       "      <td>...</td>\n",
       "      <td>...</td>\n",
       "      <td>...</td>\n",
       "      <td>...</td>\n",
       "      <td>...</td>\n",
       "      <td>...</td>\n",
       "      <td>...</td>\n",
       "    </tr>\n",
       "    <tr>\n",
       "      <th>19153</th>\n",
       "      <td>0.092249</td>\n",
       "      <td>0.878</td>\n",
       "      <td>0.248044</td>\n",
       "      <td>0.334392</td>\n",
       "      <td>0.215091</td>\n",
       "      <td>0.280080</td>\n",
       "      <td>0.209107</td>\n",
       "      <td>14.0</td>\n",
       "      <td>0.325053</td>\n",
       "      <td>0.259948</td>\n",
       "      <td>42.0</td>\n",
       "      <td>True</td>\n",
       "    </tr>\n",
       "    <tr>\n",
       "      <th>19154</th>\n",
       "      <td>0.210841</td>\n",
       "      <td>0.920</td>\n",
       "      <td>0.248272</td>\n",
       "      <td>0.213115</td>\n",
       "      <td>0.215456</td>\n",
       "      <td>0.278311</td>\n",
       "      <td>0.250955</td>\n",
       "      <td>14.0</td>\n",
       "      <td>0.330624</td>\n",
       "      <td>0.261022</td>\n",
       "      <td>52.0</td>\n",
       "      <td>True</td>\n",
       "    </tr>\n",
       "    <tr>\n",
       "      <th>19155</th>\n",
       "      <td>0.214336</td>\n",
       "      <td>0.920</td>\n",
       "      <td>0.248044</td>\n",
       "      <td>0.216072</td>\n",
       "      <td>0.215091</td>\n",
       "      <td>0.280080</td>\n",
       "      <td>0.251319</td>\n",
       "      <td>20.0</td>\n",
       "      <td>0.325053</td>\n",
       "      <td>0.259948</td>\n",
       "      <td>44.0</td>\n",
       "      <td>False</td>\n",
       "    </tr>\n",
       "    <tr>\n",
       "      <th>19156</th>\n",
       "      <td>0.138417</td>\n",
       "      <td>0.802</td>\n",
       "      <td>0.248272</td>\n",
       "      <td>0.213115</td>\n",
       "      <td>0.215456</td>\n",
       "      <td>0.197931</td>\n",
       "      <td>0.250955</td>\n",
       "      <td>0.0</td>\n",
       "      <td>0.170747</td>\n",
       "      <td>0.261022</td>\n",
       "      <td>97.0</td>\n",
       "      <td>False</td>\n",
       "    </tr>\n",
       "    <tr>\n",
       "      <th>19157</th>\n",
       "      <td>0.146329</td>\n",
       "      <td>0.855</td>\n",
       "      <td>0.248163</td>\n",
       "      <td>0.340251</td>\n",
       "      <td>0.212891</td>\n",
       "      <td>0.144913</td>\n",
       "      <td>0.250451</td>\n",
       "      <td>2.0</td>\n",
       "      <td>0.329140</td>\n",
       "      <td>0.260654</td>\n",
       "      <td>127.0</td>\n",
       "      <td>False</td>\n",
       "    </tr>\n",
       "  </tbody>\n",
       "</table>\n",
       "<p>19158 rows × 12 columns</p>\n",
       "</div>"
      ],
      "text/plain": [
       "           city  city_development_index    gender  relevent_experience  \\\n",
       "0      0.210841                   0.920  0.248272             0.213115   \n",
       "1      0.149396                   0.776  0.248272             0.341732   \n",
       "2      0.585412                   0.624  0.248540             0.334007   \n",
       "3      0.358828                   0.789  0.248540             0.334007   \n",
       "4      0.311754                   0.767  0.248168             0.213811   \n",
       "...         ...                     ...       ...                  ...   \n",
       "19153  0.092249                   0.878  0.248044             0.334392   \n",
       "19154  0.210841                   0.920  0.248272             0.213115   \n",
       "19155  0.214336                   0.920  0.248044             0.216072   \n",
       "19156  0.138417                   0.802  0.248272             0.213115   \n",
       "19157  0.146329                   0.855  0.248163             0.340251   \n",
       "\n",
       "       enrolled_university  education_level  major_discipline  experience  \\\n",
       "0                 0.215456         0.278311          0.250955        20.0   \n",
       "1                 0.215456         0.278311          0.250955        15.0   \n",
       "2                 0.378715         0.275560          0.251229         5.0   \n",
       "3                 0.213721         0.275560          0.229394         0.0   \n",
       "4                 0.214452         0.213910          0.250018        20.0   \n",
       "...                    ...              ...               ...         ...   \n",
       "19153             0.215091         0.280080          0.209107        14.0   \n",
       "19154             0.215456         0.278311          0.250955        14.0   \n",
       "19155             0.215091         0.280080          0.251319        20.0   \n",
       "19156             0.215456         0.197931          0.250955         0.0   \n",
       "19157             0.212891         0.144913          0.250451         2.0   \n",
       "\n",
       "       company_size  company_type  training_hours  target  \n",
       "0          0.330624      0.261022            36.0    True  \n",
       "1          0.330624      0.261022            47.0   False  \n",
       "2          0.326341      0.260967            83.0   False  \n",
       "3          0.326341      0.260967            52.0    True  \n",
       "4          0.326683      0.141869             8.0   False  \n",
       "...             ...           ...             ...     ...  \n",
       "19153      0.325053      0.259948            42.0    True  \n",
       "19154      0.330624      0.261022            52.0    True  \n",
       "19155      0.325053      0.259948            44.0   False  \n",
       "19156      0.170747      0.261022            97.0   False  \n",
       "19157      0.329140      0.260654           127.0   False  \n",
       "\n",
       "[19158 rows x 12 columns]"
      ]
     },
     "execution_count": 11,
     "metadata": {},
     "output_type": "execute_result"
    }
   ],
   "source": [
    "final_df = df\n",
    "final_df[df_encoded.columns] = df_encoded\n",
    "final_df"
   ]
  },
  {
   "cell_type": "code",
   "execution_count": 12,
   "metadata": {},
   "outputs": [
    {
     "name": "stdout",
     "output_type": "stream",
     "text": [
      "<class 'pandas.core.frame.DataFrame'>\n",
      "RangeIndex: 19158 entries, 0 to 19157\n",
      "Data columns (total 12 columns):\n",
      " #   Column                  Non-Null Count  Dtype  \n",
      "---  ------                  --------------  -----  \n",
      " 0   city                    19158 non-null  float64\n",
      " 1   city_development_index  19158 non-null  float64\n",
      " 2   gender                  19158 non-null  float64\n",
      " 3   relevent_experience     19158 non-null  float64\n",
      " 4   enrolled_university     19158 non-null  float64\n",
      " 5   education_level         19158 non-null  float64\n",
      " 6   major_discipline        19158 non-null  float64\n",
      " 7   experience              19158 non-null  float64\n",
      " 8   company_size            19158 non-null  float64\n",
      " 9   company_type            19158 non-null  float64\n",
      " 10  training_hours          19158 non-null  float64\n",
      " 11  target                  19158 non-null  boolean\n",
      "dtypes: boolean(1), float64(11)\n",
      "memory usage: 1.6 MB\n"
     ]
    }
   ],
   "source": [
    "final_df.info()"
   ]
  },
  {
   "cell_type": "code",
   "execution_count": 13,
   "metadata": {},
   "outputs": [
    {
     "data": {
      "application/vnd.plotly.v1+json": {
       "config": {
        "plotlyServerURL": "https://plot.ly"
       },
       "data": [
        {
         "coloraxis": "coloraxis",
         "hovertemplate": "x: %{x}<br>y: %{y}<br>color: %{z}<extra></extra>",
         "name": "0",
         "texttemplate": "%{z}",
         "type": "heatmap",
         "x": [
          "city",
          "city_development_index",
          "gender",
          "relevent_experience",
          "enrolled_university",
          "education_level",
          "major_discipline",
          "experience",
          "company_size",
          "company_type",
          "training_hours",
          "target"
         ],
         "xaxis": "x",
         "y": [
          "city",
          "city_development_index",
          "gender",
          "relevent_experience",
          "enrolled_university",
          "education_level",
          "major_discipline",
          "experience",
          "company_size",
          "company_type",
          "training_hours",
          "target"
         ],
         "yaxis": "y",
         "z": [
          [
           1,
           -0.8389805479685223,
           -0.013824871794608059,
           0.04366324236442599,
           0.13757149384047684,
           0.11918043521947352,
           0.055456032553617016,
           -0.3022687433105592,
           0.05102474736083452,
           0.028287041097990667,
           0.008950878838521189,
           0.377451045242257
          ],
          [
           -0.8389805479685223,
           1,
           0.039224724464877764,
           -0.06080683429416025,
           -0.16328447449816214,
           -0.06997707865075951,
           -0.08398753326003824,
           0.32690849066320804,
           -0.07545761247401712,
           -0.047382488746526154,
           -0.0012495018011978382,
           -0.3343997208630148
          ],
          [
           -0.013824871794608059,
           0.039224724464877764,
           1,
           0.020603933817719165,
           -0.0050856560915919485,
           -0.005157886925718397,
           -0.06601815131521895,
           -0.034881622998696564,
           -0.008560329917994417,
           -0.038849758218111874,
           0.0003497817791221693,
           0.0010878122860103474
          ],
          [
           0.04366324236442599,
           -0.06080683429416025,
           0.020603933817719165,
           1,
           0.37443165948712026,
           -0.16385892855763712,
           0.000509466383391827,
           -0.34408864548717805,
           0.27938275129978196,
           0.07137213156762973,
           -0.009650406243536877,
           0.12758674745646326
          ],
          [
           0.13757149384047684,
           -0.16328447449816214,
           -0.0050856560915919485,
           0.37443165948712026,
           1,
           -0.024021923876654094,
           0.06189830999878201,
           -0.33014397194783773,
           0.1848884324472254,
           0.042371139396995425,
           -0.00324893300488837,
           0.15063902589005992
          ],
          [
           0.11918043521947352,
           -0.06997707865075951,
           -0.005157886925718397,
           -0.16385892855763712,
           -0.024021923876654094,
           1,
           -0.016381049610517267,
           -0.01774376371416234,
           -0.05737066355363735,
           -0.0013738132763009576,
           0.0062043473832567335,
           0.08967864163572421
          ],
          [
           0.055456032553617016,
           -0.08398753326003824,
           -0.06601815131521895,
           0.000509466383391827,
           0.06189830999878201,
           -0.016381049610517267,
           1,
           0.0003975479410328753,
           -0.008630805656629829,
           0.030975013232456695,
           0.005290937254975882,
           0.004227725109872489
          ],
          [
           -0.3022687433105592,
           0.32690849066320804,
           -0.034881622998696564,
           -0.34408864548717805,
           -0.33014397194783773,
           -0.01774376371416234,
           0.0003975479410328753,
           1,
           -0.1495245122427446,
           -0.0208453493930547,
           -0.0003520828969855457,
           -0.17796136674501264
          ],
          [
           0.05102474736083452,
           -0.07545761247401712,
           -0.008560329917994417,
           0.27938275129978196,
           0.1848884324472254,
           -0.05737066355363735,
           -0.008630805656629829,
           -0.1495245122427446,
           1,
           0.10358252288730618,
           0.009998821541187876,
           0.17415499934111464
          ],
          [
           0.028287041097990667,
           -0.047382488746526154,
           -0.038849758218111874,
           0.07137213156762973,
           0.042371139396995425,
           -0.0013738132763009576,
           0.030975013232456695,
           -0.0208453493930547,
           0.10358252288730618,
           1,
           -0.009258913823723708,
           0.06619673094380056
          ],
          [
           0.008950878838521189,
           -0.0012495018011978382,
           0.0003497817791221693,
           -0.009650406243536877,
           -0.00324893300488837,
           0.0062043473832567335,
           0.005290937254975882,
           -0.0003520828969855457,
           0.009998821541187876,
           -0.009258913823723708,
           1,
           -0.021156973065424998
          ],
          [
           0.377451045242257,
           -0.3343997208630148,
           0.0010878122860103474,
           0.12758674745646326,
           0.15063902589005992,
           0.08967864163572421,
           0.004227725109872489,
           -0.17796136674501264,
           0.17415499934111464,
           0.06619673094380056,
           -0.021156973065424998,
           1
          ]
         ]
        }
       ],
       "layout": {
        "coloraxis": {
         "colorscale": [
          [
           0,
           "#0d0887"
          ],
          [
           0.1111111111111111,
           "#46039f"
          ],
          [
           0.2222222222222222,
           "#7201a8"
          ],
          [
           0.3333333333333333,
           "#9c179e"
          ],
          [
           0.4444444444444444,
           "#bd3786"
          ],
          [
           0.5555555555555556,
           "#d8576b"
          ],
          [
           0.6666666666666666,
           "#ed7953"
          ],
          [
           0.7777777777777778,
           "#fb9f3a"
          ],
          [
           0.8888888888888888,
           "#fdca26"
          ],
          [
           1,
           "#f0f921"
          ]
         ]
        },
        "margin": {
         "t": 60
        },
        "template": {
         "data": {
          "bar": [
           {
            "error_x": {
             "color": "#2a3f5f"
            },
            "error_y": {
             "color": "#2a3f5f"
            },
            "marker": {
             "line": {
              "color": "#E5ECF6",
              "width": 0.5
             },
             "pattern": {
              "fillmode": "overlay",
              "size": 10,
              "solidity": 0.2
             }
            },
            "type": "bar"
           }
          ],
          "barpolar": [
           {
            "marker": {
             "line": {
              "color": "#E5ECF6",
              "width": 0.5
             },
             "pattern": {
              "fillmode": "overlay",
              "size": 10,
              "solidity": 0.2
             }
            },
            "type": "barpolar"
           }
          ],
          "carpet": [
           {
            "aaxis": {
             "endlinecolor": "#2a3f5f",
             "gridcolor": "white",
             "linecolor": "white",
             "minorgridcolor": "white",
             "startlinecolor": "#2a3f5f"
            },
            "baxis": {
             "endlinecolor": "#2a3f5f",
             "gridcolor": "white",
             "linecolor": "white",
             "minorgridcolor": "white",
             "startlinecolor": "#2a3f5f"
            },
            "type": "carpet"
           }
          ],
          "choropleth": [
           {
            "colorbar": {
             "outlinewidth": 0,
             "ticks": ""
            },
            "type": "choropleth"
           }
          ],
          "contour": [
           {
            "colorbar": {
             "outlinewidth": 0,
             "ticks": ""
            },
            "colorscale": [
             [
              0,
              "#0d0887"
             ],
             [
              0.1111111111111111,
              "#46039f"
             ],
             [
              0.2222222222222222,
              "#7201a8"
             ],
             [
              0.3333333333333333,
              "#9c179e"
             ],
             [
              0.4444444444444444,
              "#bd3786"
             ],
             [
              0.5555555555555556,
              "#d8576b"
             ],
             [
              0.6666666666666666,
              "#ed7953"
             ],
             [
              0.7777777777777778,
              "#fb9f3a"
             ],
             [
              0.8888888888888888,
              "#fdca26"
             ],
             [
              1,
              "#f0f921"
             ]
            ],
            "type": "contour"
           }
          ],
          "contourcarpet": [
           {
            "colorbar": {
             "outlinewidth": 0,
             "ticks": ""
            },
            "type": "contourcarpet"
           }
          ],
          "heatmap": [
           {
            "colorbar": {
             "outlinewidth": 0,
             "ticks": ""
            },
            "colorscale": [
             [
              0,
              "#0d0887"
             ],
             [
              0.1111111111111111,
              "#46039f"
             ],
             [
              0.2222222222222222,
              "#7201a8"
             ],
             [
              0.3333333333333333,
              "#9c179e"
             ],
             [
              0.4444444444444444,
              "#bd3786"
             ],
             [
              0.5555555555555556,
              "#d8576b"
             ],
             [
              0.6666666666666666,
              "#ed7953"
             ],
             [
              0.7777777777777778,
              "#fb9f3a"
             ],
             [
              0.8888888888888888,
              "#fdca26"
             ],
             [
              1,
              "#f0f921"
             ]
            ],
            "type": "heatmap"
           }
          ],
          "heatmapgl": [
           {
            "colorbar": {
             "outlinewidth": 0,
             "ticks": ""
            },
            "colorscale": [
             [
              0,
              "#0d0887"
             ],
             [
              0.1111111111111111,
              "#46039f"
             ],
             [
              0.2222222222222222,
              "#7201a8"
             ],
             [
              0.3333333333333333,
              "#9c179e"
             ],
             [
              0.4444444444444444,
              "#bd3786"
             ],
             [
              0.5555555555555556,
              "#d8576b"
             ],
             [
              0.6666666666666666,
              "#ed7953"
             ],
             [
              0.7777777777777778,
              "#fb9f3a"
             ],
             [
              0.8888888888888888,
              "#fdca26"
             ],
             [
              1,
              "#f0f921"
             ]
            ],
            "type": "heatmapgl"
           }
          ],
          "histogram": [
           {
            "marker": {
             "pattern": {
              "fillmode": "overlay",
              "size": 10,
              "solidity": 0.2
             }
            },
            "type": "histogram"
           }
          ],
          "histogram2d": [
           {
            "colorbar": {
             "outlinewidth": 0,
             "ticks": ""
            },
            "colorscale": [
             [
              0,
              "#0d0887"
             ],
             [
              0.1111111111111111,
              "#46039f"
             ],
             [
              0.2222222222222222,
              "#7201a8"
             ],
             [
              0.3333333333333333,
              "#9c179e"
             ],
             [
              0.4444444444444444,
              "#bd3786"
             ],
             [
              0.5555555555555556,
              "#d8576b"
             ],
             [
              0.6666666666666666,
              "#ed7953"
             ],
             [
              0.7777777777777778,
              "#fb9f3a"
             ],
             [
              0.8888888888888888,
              "#fdca26"
             ],
             [
              1,
              "#f0f921"
             ]
            ],
            "type": "histogram2d"
           }
          ],
          "histogram2dcontour": [
           {
            "colorbar": {
             "outlinewidth": 0,
             "ticks": ""
            },
            "colorscale": [
             [
              0,
              "#0d0887"
             ],
             [
              0.1111111111111111,
              "#46039f"
             ],
             [
              0.2222222222222222,
              "#7201a8"
             ],
             [
              0.3333333333333333,
              "#9c179e"
             ],
             [
              0.4444444444444444,
              "#bd3786"
             ],
             [
              0.5555555555555556,
              "#d8576b"
             ],
             [
              0.6666666666666666,
              "#ed7953"
             ],
             [
              0.7777777777777778,
              "#fb9f3a"
             ],
             [
              0.8888888888888888,
              "#fdca26"
             ],
             [
              1,
              "#f0f921"
             ]
            ],
            "type": "histogram2dcontour"
           }
          ],
          "mesh3d": [
           {
            "colorbar": {
             "outlinewidth": 0,
             "ticks": ""
            },
            "type": "mesh3d"
           }
          ],
          "parcoords": [
           {
            "line": {
             "colorbar": {
              "outlinewidth": 0,
              "ticks": ""
             }
            },
            "type": "parcoords"
           }
          ],
          "pie": [
           {
            "automargin": true,
            "type": "pie"
           }
          ],
          "scatter": [
           {
            "fillpattern": {
             "fillmode": "overlay",
             "size": 10,
             "solidity": 0.2
            },
            "type": "scatter"
           }
          ],
          "scatter3d": [
           {
            "line": {
             "colorbar": {
              "outlinewidth": 0,
              "ticks": ""
             }
            },
            "marker": {
             "colorbar": {
              "outlinewidth": 0,
              "ticks": ""
             }
            },
            "type": "scatter3d"
           }
          ],
          "scattercarpet": [
           {
            "marker": {
             "colorbar": {
              "outlinewidth": 0,
              "ticks": ""
             }
            },
            "type": "scattercarpet"
           }
          ],
          "scattergeo": [
           {
            "marker": {
             "colorbar": {
              "outlinewidth": 0,
              "ticks": ""
             }
            },
            "type": "scattergeo"
           }
          ],
          "scattergl": [
           {
            "marker": {
             "colorbar": {
              "outlinewidth": 0,
              "ticks": ""
             }
            },
            "type": "scattergl"
           }
          ],
          "scattermapbox": [
           {
            "marker": {
             "colorbar": {
              "outlinewidth": 0,
              "ticks": ""
             }
            },
            "type": "scattermapbox"
           }
          ],
          "scatterpolar": [
           {
            "marker": {
             "colorbar": {
              "outlinewidth": 0,
              "ticks": ""
             }
            },
            "type": "scatterpolar"
           }
          ],
          "scatterpolargl": [
           {
            "marker": {
             "colorbar": {
              "outlinewidth": 0,
              "ticks": ""
             }
            },
            "type": "scatterpolargl"
           }
          ],
          "scatterternary": [
           {
            "marker": {
             "colorbar": {
              "outlinewidth": 0,
              "ticks": ""
             }
            },
            "type": "scatterternary"
           }
          ],
          "surface": [
           {
            "colorbar": {
             "outlinewidth": 0,
             "ticks": ""
            },
            "colorscale": [
             [
              0,
              "#0d0887"
             ],
             [
              0.1111111111111111,
              "#46039f"
             ],
             [
              0.2222222222222222,
              "#7201a8"
             ],
             [
              0.3333333333333333,
              "#9c179e"
             ],
             [
              0.4444444444444444,
              "#bd3786"
             ],
             [
              0.5555555555555556,
              "#d8576b"
             ],
             [
              0.6666666666666666,
              "#ed7953"
             ],
             [
              0.7777777777777778,
              "#fb9f3a"
             ],
             [
              0.8888888888888888,
              "#fdca26"
             ],
             [
              1,
              "#f0f921"
             ]
            ],
            "type": "surface"
           }
          ],
          "table": [
           {
            "cells": {
             "fill": {
              "color": "#EBF0F8"
             },
             "line": {
              "color": "white"
             }
            },
            "header": {
             "fill": {
              "color": "#C8D4E3"
             },
             "line": {
              "color": "white"
             }
            },
            "type": "table"
           }
          ]
         },
         "layout": {
          "annotationdefaults": {
           "arrowcolor": "#2a3f5f",
           "arrowhead": 0,
           "arrowwidth": 1
          },
          "autotypenumbers": "strict",
          "coloraxis": {
           "colorbar": {
            "outlinewidth": 0,
            "ticks": ""
           }
          },
          "colorscale": {
           "diverging": [
            [
             0,
             "#8e0152"
            ],
            [
             0.1,
             "#c51b7d"
            ],
            [
             0.2,
             "#de77ae"
            ],
            [
             0.3,
             "#f1b6da"
            ],
            [
             0.4,
             "#fde0ef"
            ],
            [
             0.5,
             "#f7f7f7"
            ],
            [
             0.6,
             "#e6f5d0"
            ],
            [
             0.7,
             "#b8e186"
            ],
            [
             0.8,
             "#7fbc41"
            ],
            [
             0.9,
             "#4d9221"
            ],
            [
             1,
             "#276419"
            ]
           ],
           "sequential": [
            [
             0,
             "#0d0887"
            ],
            [
             0.1111111111111111,
             "#46039f"
            ],
            [
             0.2222222222222222,
             "#7201a8"
            ],
            [
             0.3333333333333333,
             "#9c179e"
            ],
            [
             0.4444444444444444,
             "#bd3786"
            ],
            [
             0.5555555555555556,
             "#d8576b"
            ],
            [
             0.6666666666666666,
             "#ed7953"
            ],
            [
             0.7777777777777778,
             "#fb9f3a"
            ],
            [
             0.8888888888888888,
             "#fdca26"
            ],
            [
             1,
             "#f0f921"
            ]
           ],
           "sequentialminus": [
            [
             0,
             "#0d0887"
            ],
            [
             0.1111111111111111,
             "#46039f"
            ],
            [
             0.2222222222222222,
             "#7201a8"
            ],
            [
             0.3333333333333333,
             "#9c179e"
            ],
            [
             0.4444444444444444,
             "#bd3786"
            ],
            [
             0.5555555555555556,
             "#d8576b"
            ],
            [
             0.6666666666666666,
             "#ed7953"
            ],
            [
             0.7777777777777778,
             "#fb9f3a"
            ],
            [
             0.8888888888888888,
             "#fdca26"
            ],
            [
             1,
             "#f0f921"
            ]
           ]
          },
          "colorway": [
           "#636efa",
           "#EF553B",
           "#00cc96",
           "#ab63fa",
           "#FFA15A",
           "#19d3f3",
           "#FF6692",
           "#B6E880",
           "#FF97FF",
           "#FECB52"
          ],
          "font": {
           "color": "#2a3f5f"
          },
          "geo": {
           "bgcolor": "white",
           "lakecolor": "white",
           "landcolor": "#E5ECF6",
           "showlakes": true,
           "showland": true,
           "subunitcolor": "white"
          },
          "hoverlabel": {
           "align": "left"
          },
          "hovermode": "closest",
          "mapbox": {
           "style": "light"
          },
          "paper_bgcolor": "white",
          "plot_bgcolor": "#E5ECF6",
          "polar": {
           "angularaxis": {
            "gridcolor": "white",
            "linecolor": "white",
            "ticks": ""
           },
           "bgcolor": "#E5ECF6",
           "radialaxis": {
            "gridcolor": "white",
            "linecolor": "white",
            "ticks": ""
           }
          },
          "scene": {
           "xaxis": {
            "backgroundcolor": "#E5ECF6",
            "gridcolor": "white",
            "gridwidth": 2,
            "linecolor": "white",
            "showbackground": true,
            "ticks": "",
            "zerolinecolor": "white"
           },
           "yaxis": {
            "backgroundcolor": "#E5ECF6",
            "gridcolor": "white",
            "gridwidth": 2,
            "linecolor": "white",
            "showbackground": true,
            "ticks": "",
            "zerolinecolor": "white"
           },
           "zaxis": {
            "backgroundcolor": "#E5ECF6",
            "gridcolor": "white",
            "gridwidth": 2,
            "linecolor": "white",
            "showbackground": true,
            "ticks": "",
            "zerolinecolor": "white"
           }
          },
          "shapedefaults": {
           "line": {
            "color": "#2a3f5f"
           }
          },
          "ternary": {
           "aaxis": {
            "gridcolor": "white",
            "linecolor": "white",
            "ticks": ""
           },
           "baxis": {
            "gridcolor": "white",
            "linecolor": "white",
            "ticks": ""
           },
           "bgcolor": "#E5ECF6",
           "caxis": {
            "gridcolor": "white",
            "linecolor": "white",
            "ticks": ""
           }
          },
          "title": {
           "x": 0.05
          },
          "xaxis": {
           "automargin": true,
           "gridcolor": "white",
           "linecolor": "white",
           "ticks": "",
           "title": {
            "standoff": 15
           },
           "zerolinecolor": "white",
           "zerolinewidth": 2
          },
          "yaxis": {
           "automargin": true,
           "gridcolor": "white",
           "linecolor": "white",
           "ticks": "",
           "title": {
            "standoff": 15
           },
           "zerolinecolor": "white",
           "zerolinewidth": 2
          }
         }
        },
        "xaxis": {
         "anchor": "y",
         "domain": [
          0,
          1
         ]
        },
        "yaxis": {
         "anchor": "x",
         "autorange": "reversed",
         "domain": [
          0,
          1
         ]
        }
       }
      }
     },
     "metadata": {},
     "output_type": "display_data"
    }
   ],
   "source": [
    "# Part 1 Task 1\n",
    "fig = px.imshow(\n",
    "    final_df.corr(), text_auto=True, aspect='auto'\n",
    ")\n",
    "fig.show()"
   ]
  },
  {
   "cell_type": "code",
   "execution_count": 73,
   "metadata": {},
   "outputs": [],
   "source": [
    "# Part 1 Task 2\n",
    "def rforest_feature_selection(df, target_col, threshold = 0.1):\n",
    "    model = xgb.XGBRFClassifier()\n",
    "    x = df.drop(target_col, axis=1)\n",
    "    y = df[target_col]\n",
    "    model.fit(x, y)\n",
    "    features_importances = dict(zip(x.columns.to_list(), list(model.feature_importances_)))\n",
    "    return dict(filter(lambda pair: pair[1] >= threshold, features_importances.items()))"
   ]
  },
  {
   "cell_type": "code",
   "execution_count": 75,
   "metadata": {},
   "outputs": [],
   "source": [
    "# Part 1 Task 3\n",
    "def p_value_feature_selection(df, target_col):\n",
    "    x = df.drop(target_col, axis=1)\n",
    "    y = df[target_col]\n",
    "    f_test = f_classif(x, y)\n",
    "    p_values = f_test[1]\n",
    "    features_p_values = dict(zip(x.columns.to_list(), list(p_values)))\n",
    "    return dict(filter(lambda pair: pair[1] < 0.05, features_p_values.items()))"
   ]
  },
  {
   "cell_type": "code",
   "execution_count": 78,
   "metadata": {},
   "outputs": [],
   "source": [
    "# Part 1 Task 4\n",
    "def mutual_info_feature_selection(df, target_col, percentile=0.5):\n",
    "    x = df.drop(target_col, axis=1)\n",
    "    y = df[target_col]\n",
    "    features_importances = mutual_info_classif(x, y)    \n",
    "    features_importances = dict(zip(x.columns.to_list(), list(features_importances)))\n",
    "    features_importances = dict(sorted(features_importances.items(),\n",
    "                                       key=lambda pair: pair[0])[:round(len(features_importances)*percentile)])\n",
    "    return features_importances"
   ]
  },
  {
   "cell_type": "code",
   "execution_count": 80,
   "metadata": {},
   "outputs": [],
   "source": [
    "# Part 1 Task 5\n",
    "def rfe_feature_selection(df, target_col, percentile=0.5):\n",
    "    x = df.drop(target_col, axis=1)\n",
    "    y = df[target_col]    \n",
    "    model = RFE(estimator=SVC(kernel='linear'), n_features_to_select=percentile)\n",
    "    model.fit(x, y)\n",
    "    return {feature: True for feature in model.get_feature_names_out()}"
   ]
  },
  {
   "cell_type": "code",
   "execution_count": 17,
   "metadata": {},
   "outputs": [],
   "source": [
    "# Some selected features from data science df 'cause rfe method is kinda slow\n",
    "rfe_selected = {'city': True,\n",
    "                'city_development_index': True,\n",
    "                'enrolled_university': True,\n",
    "                'company_size': True,\n",
    "                'company_type': True}"
   ]
  },
  {
   "cell_type": "code",
   "execution_count": 74,
   "metadata": {},
   "outputs": [
    {
     "name": "stdout",
     "output_type": "stream",
     "text": [
      "              precision    recall  f1-score   support\n",
      "\n",
      "         0.0       0.83      0.88      0.85      2877\n",
      "         1.0       0.56      0.45      0.50       955\n",
      "\n",
      "    accuracy                           0.77      3832\n",
      "   macro avg       0.69      0.66      0.67      3832\n",
      "weighted avg       0.76      0.77      0.76      3832\n",
      "\n"
     ]
    }
   ],
   "source": [
    "# Part 1 Task 6\n",
    "# Random Forest\n",
    "model = xgb.XGBClassifier()\n",
    "x = final_df[list(rforest_feature_selection(\n",
    "    final_df, 'target', 0.02\n",
    ").keys())]\n",
    "y = final_df['target']\n",
    "x_train, x_test, y_train, y_test = train_test_split(x, y, test_size=0.2, stratify=y)\n",
    "model.fit(x_train, y_train)\n",
    "pred = model.predict(x_test)\n",
    "print(classification_report(y_test, pred))"
   ]
  },
  {
   "cell_type": "code",
   "execution_count": 76,
   "metadata": {},
   "outputs": [
    {
     "name": "stdout",
     "output_type": "stream",
     "text": [
      "              precision    recall  f1-score   support\n",
      "\n",
      "         0.0       0.82      0.88      0.85      2877\n",
      "         1.0       0.54      0.43      0.48       955\n",
      "\n",
      "    accuracy                           0.77      3832\n",
      "   macro avg       0.68      0.66      0.66      3832\n",
      "weighted avg       0.75      0.77      0.76      3832\n",
      "\n"
     ]
    }
   ],
   "source": [
    "# Part 1 Task 6\n",
    "# P-Value\n",
    "model = xgb.XGBClassifier()\n",
    "x = final_df[list(p_value_feature_selection(\n",
    "    final_df, 'target'\n",
    ").keys())]\n",
    "y = final_df['target']\n",
    "x_train, x_test, y_train, y_test = train_test_split(x, y, test_size=0.2, stratify=y)\n",
    "model.fit(x_train, y_train)\n",
    "pred = model.predict(x_test)\n",
    "print(classification_report(y_test, pred))"
   ]
  },
  {
   "cell_type": "code",
   "execution_count": 79,
   "metadata": {},
   "outputs": [
    {
     "name": "stdout",
     "output_type": "stream",
     "text": [
      "              precision    recall  f1-score   support\n",
      "\n",
      "         0.0       0.82      0.89      0.85      2877\n",
      "         1.0       0.55      0.41      0.47       955\n",
      "\n",
      "    accuracy                           0.77      3832\n",
      "   macro avg       0.69      0.65      0.66      3832\n",
      "weighted avg       0.75      0.77      0.76      3832\n",
      "\n"
     ]
    }
   ],
   "source": [
    "# Part 1 Task 6\n",
    "# Mutual Info\n",
    "model = xgb.XGBClassifier()\n",
    "x = final_df[list(mutual_info_feature_selection(\n",
    "    final_df, 'target'\n",
    ").keys())]\n",
    "y = final_df['target']\n",
    "x_train, x_test, y_train, y_test = train_test_split(x, y, test_size=0.2, stratify=y)\n",
    "model.fit(x_train, y_train)\n",
    "pred = model.predict(x_test)\n",
    "print(classification_report(y_test, pred))"
   ]
  },
  {
   "cell_type": "code",
   "execution_count": 23,
   "metadata": {},
   "outputs": [
    {
     "name": "stdout",
     "output_type": "stream",
     "text": [
      "              precision    recall  f1-score   support\n",
      "\n",
      "         0.0       0.82      0.89      0.85      2877\n",
      "         1.0       0.55      0.41      0.47       955\n",
      "\n",
      "    accuracy                           0.77      3832\n",
      "   macro avg       0.69      0.65      0.66      3832\n",
      "weighted avg       0.75      0.77      0.76      3832\n",
      "\n"
     ]
    }
   ],
   "source": [
    "# Part 1 Task 6\n",
    "# RFE\n",
    "model = xgb.XGBClassifier()\n",
    "x = final_df[list(rfe_selected.keys())]\n",
    "y = final_df['target']\n",
    "x_train, x_test, y_train, y_test = train_test_split(x, y, test_size=0.2, stratify=y)\n",
    "model.fit(x_train, y_train)\n",
    "pred = model.predict(x_test)\n",
    "print(classification_report(y_test, pred))"
   ]
  },
  {
   "cell_type": "code",
   "execution_count": null,
   "metadata": {},
   "outputs": [],
   "source": [
    "# Mutual info is the best for now"
   ]
  },
  {
   "cell_type": "code",
   "execution_count": 16,
   "metadata": {},
   "outputs": [],
   "source": [
    "body_df = pd.read_csv('bodies_dataset.csv')"
   ]
  },
  {
   "cell_type": "code",
   "execution_count": 17,
   "metadata": {},
   "outputs": [
    {
     "data": {
      "application/vnd.plotly.v1+json": {
       "config": {
        "plotlyServerURL": "https://plot.ly"
       },
       "data": [
        {
         "coloraxis": "coloraxis",
         "hovertemplate": "x: %{x}<br>y: %{y}<br>color: %{z}<extra></extra>",
         "name": "0",
         "texttemplate": "%{z}",
         "type": "heatmap",
         "x": [
          "bia_di",
          "bii_di",
          "bit_di",
          "che_de",
          "che_di",
          "elb_di",
          "wri_di",
          "kne_di",
          "ank_di",
          "sho_gi",
          "che_gi",
          "wai_gi",
          "nav_gi",
          "hip_gi",
          "thi_gi",
          "bic_gi",
          "for_gi",
          "kne_gi",
          "cal_gi",
          "ank_gi",
          "wri_gi",
          "age",
          "wgt",
          "hgt",
          "sex"
         ],
         "xaxis": "x",
         "y": [
          "bia_di",
          "bii_di",
          "bit_di",
          "che_de",
          "che_di",
          "elb_di",
          "wri_di",
          "kne_di",
          "ank_di",
          "sho_gi",
          "che_gi",
          "wai_gi",
          "nav_gi",
          "hip_gi",
          "thi_gi",
          "bic_gi",
          "for_gi",
          "kne_gi",
          "cal_gi",
          "ank_gi",
          "wri_gi",
          "age",
          "wgt",
          "hgt",
          "sex"
         ],
         "yaxis": "y",
         "z": [
          [
           1,
           0.3090358489660933,
           0.48627256595939217,
           0.5832584587907521,
           0.7691406032574727,
           0.7658212438010916,
           0.722838831721313,
           0.6359621088261774,
           0.6614162084055066,
           0.7925957228612149,
           0.7218401439310325,
           0.6416071791603505,
           0.3057127680279497,
           0.3400614695101347,
           0.12192793777157829,
           0.695061818683612,
           0.752642086985359,
           0.5079070351874118,
           0.5108143538945833,
           0.6034678221017238,
           0.7715975893264864,
           0.08608447076739498,
           0.725414463050554,
           0.748921827593248,
           0.7749484399670588
          ],
          [
           0.3090358489660933,
           1,
           0.673456727026036,
           0.3567852125326384,
           0.33116948117411044,
           0.32285725386089437,
           0.27923633273775594,
           0.4377882949638337,
           0.3683128487188277,
           0.2772387689292408,
           0.32568381761846465,
           0.4347002703665919,
           0.5805151634737428,
           0.5641528599509809,
           0.41415507289558523,
           0.29910712391526056,
           0.28968230914636117,
           0.4724691022317432,
           0.40706412793468166,
           0.3358175218264168,
           0.26325455674195897,
           0.2478779152713072,
           0.4957572741649969,
           0.38142409941857697,
           0.11564462933847254
          ],
          [
           0.48627256595939217,
           0.673456727026036,
           1,
           0.4725560409671221,
           0.5241288111648693,
           0.5257579042316184,
           0.4681582526411766,
           0.6083021187001273,
           0.49540567623639276,
           0.4787637344159981,
           0.4880845417653075,
           0.5702148458768173,
           0.6175048322765508,
           0.7482328310452254,
           0.5317738133581265,
           0.48014573132117677,
           0.4780849041309706,
           0.623354741962584,
           0.5929802258393428,
           0.5390627843924352,
           0.47951702821910513,
           0.2711438397148839,
           0.6657252392484759,
           0.48527895366329066,
           0.2624145691597074
          ],
          [
           0.5832584587907521,
           0.3567852125326384,
           0.4725560409671221,
           1,
           0.6650701884325445,
           0.6652376668844436,
           0.6081147399691073,
           0.5502888963537056,
           0.5978539614520454,
           0.7376115429567268,
           0.8065032654539702,
           0.8037548847918101,
           0.6212365086386766,
           0.5563130699199484,
           0.3576540910749698,
           0.7328977447318396,
           0.7175489621177837,
           0.5636516978526445,
           0.5535015590075304,
           0.5873425458409087,
           0.6802407696371746,
           0.3154049444852863,
           0.80073148431982,
           0.5529111172269762,
           0.612886064586163
          ],
          [
           0.7691406032574727,
           0.33116948117411044,
           0.5241288111648693,
           0.6650701884325445,
           1,
           0.7588682345374462,
           0.7308642873395234,
           0.6590648460115925,
           0.6685388744182119,
           0.8706479692936628,
           0.8703062019239526,
           0.7880333636941211,
           0.5012122640349248,
           0.5212072830074416,
           0.3147734810375469,
           0.7923344674864298,
           0.8071175301209663,
           0.5928720708547132,
           0.5969089121481307,
           0.6350210277276138,
           0.7608930777201115,
           0.1928876536386954,
           0.8314645046370416,
           0.6268931472694516,
           0.7029010332263103
          ],
          [
           0.7658212438010916,
           0.32285725386089437,
           0.5257579042316184,
           0.6652376668844436,
           0.7588682345374462,
           1,
           0.8399305102520735,
           0.731504165974327,
           0.8210976531875134,
           0.8194697824721,
           0.8031396363712172,
           0.6946192498196269,
           0.4387605156522888,
           0.439335266808494,
           0.20691658717564054,
           0.804783971477568,
           0.8582062869354989,
           0.5909794187324222,
           0.5799083476585585,
           0.6641618857436739,
           0.8457562957287007,
           0.19859008290107746,
           0.8011937813511323,
           0.7381129258003511,
           0.7729801097312302
          ],
          [
           0.722838831721313,
           0.27923633273775594,
           0.4681582526411766,
           0.6081147399691073,
           0.7308642873395234,
           0.8399305102520735,
           1,
           0.7124843585289296,
           0.7724489266613994,
           0.7783992287174288,
           0.7665426374022373,
           0.6807823707466346,
           0.39927200695203957,
           0.4223687071159491,
           0.19401995220614274,
           0.76215943586226,
           0.8147088438218126,
           0.5818738918187366,
           0.5814377244636874,
           0.65469447790958,
           0.8625527213320072,
           0.20707961578549156,
           0.7646054254476179,
           0.6779616169436289,
           0.7268547395882431
          ],
          [
           0.6359621088261774,
           0.4377882949638337,
           0.6083021187001273,
           0.5502888963537056,
           0.6590648460115925,
           0.731504165974327,
           0.7124843585289296,
           1,
           0.7232729139773334,
           0.6818019334327231,
           0.6522224050584788,
           0.6239674962329742,
           0.4712506238313912,
           0.579593641103825,
           0.43152755071251475,
           0.681405475762412,
           0.7206519040837385,
           0.7338176421696229,
           0.6860934911305472,
           0.6547069931869725,
           0.7311803361547353,
           0.1723359310875898,
           0.7660484797804433,
           0.5880950931918034,
           0.5439263314443802
          ],
          [
           0.6614162084055066,
           0.3683128487188277,
           0.49540567623639276,
           0.5978539614520454,
           0.6685388744182119,
           0.8210976531875134,
           0.7724489266613994,
           0.7232729139773334,
           1,
           0.692111484669009,
           0.7058718291759266,
           0.6369714611052382,
           0.43657450051849245,
           0.40773581843988327,
           0.19262773504504446,
           0.6862886280609067,
           0.7352504456712494,
           0.5423537828306252,
           0.5436159222205104,
           0.6772297517079164,
           0.7627485793002798,
           0.23904361038097688,
           0.7264681753649411,
           0.686450527482415,
           0.6889488724509026
          ],
          [
           0.7925957228612149,
           0.2772387689292408,
           0.4787637344159981,
           0.7376115429567268,
           0.8706479692936628,
           0.8194697824721,
           0.7783992287174288,
           0.6818019334327231,
           0.692111484669009,
           1,
           0.9271922879673841,
           0.8234545933815401,
           0.5154660751554841,
           0.5336717259908499,
           0.32342724085162594,
           0.8951883643176205,
           0.8949837577623386,
           0.6247826219104995,
           0.6270537791014898,
           0.6797567995338366,
           0.840708502012795,
           0.1768383962713313,
           0.8788342445770045,
           0.6657352968671836,
           0.7811421172257097
          ],
          [
           0.7218401439310325,
           0.32568381761846465,
           0.4880845417653075,
           0.8065032654539702,
           0.8703062019239526,
           0.8031396363712172,
           0.7665426374022373,
           0.6522224050584788,
           0.7058718291759266,
           0.9271922879673841,
           1,
           0.8837994299331073,
           0.6229823141783151,
           0.5834990730826581,
           0.3630507676845514,
           0.9081845275201821,
           0.8875908573470945,
           0.614054746978487,
           0.6088643490096491,
           0.6691395893325525,
           0.8246754016368264,
           0.2489667406426173,
           0.8989594620292355,
           0.6187309490997528,
           0.7449279654383567
          ],
          [
           0.6416071791603505,
           0.4347002703665919,
           0.5702148458768173,
           0.8037548847918101,
           0.7880333636941211,
           0.6946192498196269,
           0.6807823707466346,
           0.6239674962329742,
           0.6369714611052382,
           0.8234545933815401,
           0.8837994299331073,
           1,
           0.7547704007275823,
           0.6923506244562537,
           0.42108487867934785,
           0.8047043914325969,
           0.780792412153052,
           0.6582072018884947,
           0.6313445318958704,
           0.6558890812023954,
           0.7289813134033508,
           0.36913120320646414,
           0.9039907799104384,
           0.5529604609499356,
           0.6692025028215247
          ],
          [
           0.3057127680279497,
           0.5805151634737428,
           0.6175048322765508,
           0.6212365086386766,
           0.5012122640349248,
           0.4387605156522888,
           0.39927200695203957,
           0.4712506238313912,
           0.43657450051849245,
           0.5154660751554841,
           0.6229823141783151,
           0.7547704007275823,
           1,
           0.8258923955732701,
           0.6026427922949378,
           0.5578071088831635,
           0.48621814060877405,
           0.6120932316262357,
           0.524778883167808,
           0.5194785458772951,
           0.4354196539415246,
           0.42218789286293323,
           0.711816459778039,
           0.31319682666760446,
           0.20793213780466713
          ],
          [
           0.3400614695101347,
           0.5641528599509809,
           0.7482328310452254,
           0.5563130699199484,
           0.5212072830074416,
           0.439335266808494,
           0.4223687071159491,
           0.579593641103825,
           0.40773581843988327,
           0.5336717259908499,
           0.5834990730826581,
           0.6923506244562537,
           0.8258923955732701,
           1,
           0.8289410582838279,
           0.559884796016531,
           0.5143584912910067,
           0.7349016967642614,
           0.6745804933307594,
           0.5770429496133745,
           0.458856714253116,
           0.22708010913982546,
           0.7629691244940309,
           0.3385839901103551,
           0.15805827578817622
          ],
          [
           0.12192793777157829,
           0.41415507289558523,
           0.5317738133581265,
           0.3576540910749698,
           0.3147734810375469,
           0.20691658717564054,
           0.19401995220614274,
           0.43152755071251475,
           0.19262773504504446,
           0.32342724085162594,
           0.3630507676845514,
           0.42108487867934785,
           0.6026427922949378,
           0.8289410582838279,
           1,
           0.41145797207127166,
           0.34528478780999033,
           0.6384400135110293,
           0.6288901084271258,
           0.42176866318077577,
           0.24161024662607933,
           -0.01985545428116045,
           0.5585626478050424,
           0.11630969470653058,
           -0.07828143149759943
          ],
          [
           0.695061818683612,
           0.29910712391526056,
           0.48014573132117677,
           0.7328977447318396,
           0.7923344674864298,
           0.804783971477568,
           0.76215943586226,
           0.681405475762412,
           0.6862886280609067,
           0.8951883643176205,
           0.9081845275201821,
           0.8047043914325969,
           0.5578071088831635,
           0.559884796016531,
           0.41145797207127166,
           1,
           0.9423755133925948,
           0.6207299276005377,
           0.6374040885555342,
           0.6693240313092957,
           0.8479443198254741,
           0.17895042231190977,
           0.86667220281223,
           0.588415130498243,
           0.742945251037025
          ],
          [
           0.752642086985359,
           0.28968230914636117,
           0.4780849041309706,
           0.7175489621177837,
           0.8071175301209663,
           0.8582062869354989,
           0.8147088438218126,
           0.7206519040837385,
           0.7352504456712494,
           0.8949837577623386,
           0.8875908573470945,
           0.780792412153052,
           0.48621814060877405,
           0.5143584912910067,
           0.34528478780999033,
           0.9423755133925948,
           1,
           0.6575450460338826,
           0.6701917564955867,
           0.712553865557339,
           0.9047085594103466,
           0.14691546062272232,
           0.8695531121527083,
           0.6550178382541387,
           0.7918964806684154
          ],
          [
           0.5079070351874118,
           0.4724691022317432,
           0.623354741962584,
           0.5636516978526445,
           0.5928720708547132,
           0.5909794187324222,
           0.5818738918187366,
           0.7338176421696229,
           0.5423537828306252,
           0.6247826219104995,
           0.614054746978487,
           0.6582072018884947,
           0.6120932316262357,
           0.7349016967642614,
           0.6384400135110293,
           0.6207299276005377,
           0.6575450460338826,
           1,
           0.7958276727926539,
           0.737715419117421,
           0.6409595725736412,
           0.12433498672463598,
           0.7955518338396524,
           0.525701834572104,
           0.3699655469549848
          ],
          [
           0.5108143538945833,
           0.40706412793468166,
           0.5929802258393428,
           0.5535015590075304,
           0.5969089121481307,
           0.5799083476585585,
           0.5814377244636874,
           0.6860934911305472,
           0.5436159222205104,
           0.6270537791014898,
           0.6088643490096491,
           0.6313445318958704,
           0.524778883167808,
           0.6745804933307594,
           0.6288901084271258,
           0.6374040885555342,
           0.6701917564955867,
           0.7958276727926539,
           1,
           0.762221909155972,
           0.6476269273716048,
           0.10605240055729848,
           0.7692825905826739,
           0.4526826471728458,
           0.3866643710708655
          ],
          [
           0.6034678221017238,
           0.3358175218264168,
           0.5390627843924352,
           0.5873425458409087,
           0.6350210277276138,
           0.6641618857436739,
           0.65469447790958,
           0.6547069931869725,
           0.6772297517079164,
           0.6797567995338366,
           0.6691395893325525,
           0.6558890812023954,
           0.5194785458772951,
           0.5770429496133745,
           0.42176866318077577,
           0.6693240313092957,
           0.712553865557339,
           0.737715419117421,
           0.762221909155972,
           1,
           0.7536364781107855,
           0.14105950973098336,
           0.7619984607369645,
           0.5709096410536653,
           0.5247777953108356
          ],
          [
           0.7715975893264864,
           0.26325455674195897,
           0.47951702821910513,
           0.6802407696371746,
           0.7608930777201115,
           0.8457562957287007,
           0.8625527213320072,
           0.7311803361547353,
           0.7627485793002798,
           0.840708502012795,
           0.8246754016368264,
           0.7289813134033508,
           0.4354196539415246,
           0.458856714253116,
           0.24161024662607933,
           0.8479443198254741,
           0.9047085594103466,
           0.6409595725736412,
           0.6476269273716048,
           0.7536364781107855,
           1,
           0.19202405541684728,
           0.8164884066849586,
           0.6908343371350293,
           0.7721082490764959
          ],
          [
           0.08608447076739498,
           0.2478779152713072,
           0.2711438397148839,
           0.3154049444852863,
           0.1928876536386954,
           0.19859008290107746,
           0.20707961578549156,
           0.1723359310875898,
           0.23904361038097688,
           0.1768383962713313,
           0.2489667406426173,
           0.36913120320646414,
           0.42218789286293323,
           0.22708010913982546,
           -0.01985545428116045,
           0.17895042231190977,
           0.14691546062272232,
           0.12433498672463598,
           0.10605240055729848,
           0.14105950973098336,
           0.19202405541684728,
           1,
           0.20726523636644403,
           0.06788349330618113,
           0.15094462135542522
          ],
          [
           0.725414463050554,
           0.4957572741649969,
           0.6657252392484759,
           0.80073148431982,
           0.8314645046370416,
           0.8011937813511323,
           0.7646054254476179,
           0.7660484797804433,
           0.7264681753649411,
           0.8788342445770045,
           0.8989594620292355,
           0.9039907799104384,
           0.711816459778039,
           0.7629691244940309,
           0.5585626478050424,
           0.86667220281223,
           0.8695531121527083,
           0.7955518338396524,
           0.7692825905826739,
           0.7619984607369645,
           0.8164884066849586,
           0.20726523636644403,
           1,
           0.7173010787241639,
           0.6577257546447034
          ],
          [
           0.748921827593248,
           0.38142409941857697,
           0.48527895366329066,
           0.5529111172269762,
           0.6268931472694516,
           0.7381129258003511,
           0.6779616169436289,
           0.5880950931918034,
           0.686450527482415,
           0.6657352968671836,
           0.6187309490997528,
           0.5529604609499356,
           0.31319682666760446,
           0.3385839901103551,
           0.11630969470653058,
           0.588415130498243,
           0.6550178382541387,
           0.525701834572104,
           0.4526826471728458,
           0.5709096410536653,
           0.6908343371350293,
           0.06788349330618113,
           0.7173010787241639,
           1,
           0.684662108900904
          ],
          [
           0.7749484399670588,
           0.11564462933847254,
           0.2624145691597074,
           0.612886064586163,
           0.7029010332263103,
           0.7729801097312302,
           0.7268547395882431,
           0.5439263314443802,
           0.6889488724509026,
           0.7811421172257097,
           0.7449279654383567,
           0.6692025028215247,
           0.20793213780466713,
           0.15805827578817622,
           -0.07828143149759943,
           0.742945251037025,
           0.7918964806684154,
           0.3699655469549848,
           0.3866643710708655,
           0.5247777953108356,
           0.7721082490764959,
           0.15094462135542522,
           0.6577257546447034,
           0.684662108900904,
           1
          ]
         ]
        }
       ],
       "layout": {
        "coloraxis": {
         "colorscale": [
          [
           0,
           "#0d0887"
          ],
          [
           0.1111111111111111,
           "#46039f"
          ],
          [
           0.2222222222222222,
           "#7201a8"
          ],
          [
           0.3333333333333333,
           "#9c179e"
          ],
          [
           0.4444444444444444,
           "#bd3786"
          ],
          [
           0.5555555555555556,
           "#d8576b"
          ],
          [
           0.6666666666666666,
           "#ed7953"
          ],
          [
           0.7777777777777778,
           "#fb9f3a"
          ],
          [
           0.8888888888888888,
           "#fdca26"
          ],
          [
           1,
           "#f0f921"
          ]
         ]
        },
        "margin": {
         "t": 60
        },
        "template": {
         "data": {
          "bar": [
           {
            "error_x": {
             "color": "#2a3f5f"
            },
            "error_y": {
             "color": "#2a3f5f"
            },
            "marker": {
             "line": {
              "color": "#E5ECF6",
              "width": 0.5
             },
             "pattern": {
              "fillmode": "overlay",
              "size": 10,
              "solidity": 0.2
             }
            },
            "type": "bar"
           }
          ],
          "barpolar": [
           {
            "marker": {
             "line": {
              "color": "#E5ECF6",
              "width": 0.5
             },
             "pattern": {
              "fillmode": "overlay",
              "size": 10,
              "solidity": 0.2
             }
            },
            "type": "barpolar"
           }
          ],
          "carpet": [
           {
            "aaxis": {
             "endlinecolor": "#2a3f5f",
             "gridcolor": "white",
             "linecolor": "white",
             "minorgridcolor": "white",
             "startlinecolor": "#2a3f5f"
            },
            "baxis": {
             "endlinecolor": "#2a3f5f",
             "gridcolor": "white",
             "linecolor": "white",
             "minorgridcolor": "white",
             "startlinecolor": "#2a3f5f"
            },
            "type": "carpet"
           }
          ],
          "choropleth": [
           {
            "colorbar": {
             "outlinewidth": 0,
             "ticks": ""
            },
            "type": "choropleth"
           }
          ],
          "contour": [
           {
            "colorbar": {
             "outlinewidth": 0,
             "ticks": ""
            },
            "colorscale": [
             [
              0,
              "#0d0887"
             ],
             [
              0.1111111111111111,
              "#46039f"
             ],
             [
              0.2222222222222222,
              "#7201a8"
             ],
             [
              0.3333333333333333,
              "#9c179e"
             ],
             [
              0.4444444444444444,
              "#bd3786"
             ],
             [
              0.5555555555555556,
              "#d8576b"
             ],
             [
              0.6666666666666666,
              "#ed7953"
             ],
             [
              0.7777777777777778,
              "#fb9f3a"
             ],
             [
              0.8888888888888888,
              "#fdca26"
             ],
             [
              1,
              "#f0f921"
             ]
            ],
            "type": "contour"
           }
          ],
          "contourcarpet": [
           {
            "colorbar": {
             "outlinewidth": 0,
             "ticks": ""
            },
            "type": "contourcarpet"
           }
          ],
          "heatmap": [
           {
            "colorbar": {
             "outlinewidth": 0,
             "ticks": ""
            },
            "colorscale": [
             [
              0,
              "#0d0887"
             ],
             [
              0.1111111111111111,
              "#46039f"
             ],
             [
              0.2222222222222222,
              "#7201a8"
             ],
             [
              0.3333333333333333,
              "#9c179e"
             ],
             [
              0.4444444444444444,
              "#bd3786"
             ],
             [
              0.5555555555555556,
              "#d8576b"
             ],
             [
              0.6666666666666666,
              "#ed7953"
             ],
             [
              0.7777777777777778,
              "#fb9f3a"
             ],
             [
              0.8888888888888888,
              "#fdca26"
             ],
             [
              1,
              "#f0f921"
             ]
            ],
            "type": "heatmap"
           }
          ],
          "heatmapgl": [
           {
            "colorbar": {
             "outlinewidth": 0,
             "ticks": ""
            },
            "colorscale": [
             [
              0,
              "#0d0887"
             ],
             [
              0.1111111111111111,
              "#46039f"
             ],
             [
              0.2222222222222222,
              "#7201a8"
             ],
             [
              0.3333333333333333,
              "#9c179e"
             ],
             [
              0.4444444444444444,
              "#bd3786"
             ],
             [
              0.5555555555555556,
              "#d8576b"
             ],
             [
              0.6666666666666666,
              "#ed7953"
             ],
             [
              0.7777777777777778,
              "#fb9f3a"
             ],
             [
              0.8888888888888888,
              "#fdca26"
             ],
             [
              1,
              "#f0f921"
             ]
            ],
            "type": "heatmapgl"
           }
          ],
          "histogram": [
           {
            "marker": {
             "pattern": {
              "fillmode": "overlay",
              "size": 10,
              "solidity": 0.2
             }
            },
            "type": "histogram"
           }
          ],
          "histogram2d": [
           {
            "colorbar": {
             "outlinewidth": 0,
             "ticks": ""
            },
            "colorscale": [
             [
              0,
              "#0d0887"
             ],
             [
              0.1111111111111111,
              "#46039f"
             ],
             [
              0.2222222222222222,
              "#7201a8"
             ],
             [
              0.3333333333333333,
              "#9c179e"
             ],
             [
              0.4444444444444444,
              "#bd3786"
             ],
             [
              0.5555555555555556,
              "#d8576b"
             ],
             [
              0.6666666666666666,
              "#ed7953"
             ],
             [
              0.7777777777777778,
              "#fb9f3a"
             ],
             [
              0.8888888888888888,
              "#fdca26"
             ],
             [
              1,
              "#f0f921"
             ]
            ],
            "type": "histogram2d"
           }
          ],
          "histogram2dcontour": [
           {
            "colorbar": {
             "outlinewidth": 0,
             "ticks": ""
            },
            "colorscale": [
             [
              0,
              "#0d0887"
             ],
             [
              0.1111111111111111,
              "#46039f"
             ],
             [
              0.2222222222222222,
              "#7201a8"
             ],
             [
              0.3333333333333333,
              "#9c179e"
             ],
             [
              0.4444444444444444,
              "#bd3786"
             ],
             [
              0.5555555555555556,
              "#d8576b"
             ],
             [
              0.6666666666666666,
              "#ed7953"
             ],
             [
              0.7777777777777778,
              "#fb9f3a"
             ],
             [
              0.8888888888888888,
              "#fdca26"
             ],
             [
              1,
              "#f0f921"
             ]
            ],
            "type": "histogram2dcontour"
           }
          ],
          "mesh3d": [
           {
            "colorbar": {
             "outlinewidth": 0,
             "ticks": ""
            },
            "type": "mesh3d"
           }
          ],
          "parcoords": [
           {
            "line": {
             "colorbar": {
              "outlinewidth": 0,
              "ticks": ""
             }
            },
            "type": "parcoords"
           }
          ],
          "pie": [
           {
            "automargin": true,
            "type": "pie"
           }
          ],
          "scatter": [
           {
            "fillpattern": {
             "fillmode": "overlay",
             "size": 10,
             "solidity": 0.2
            },
            "type": "scatter"
           }
          ],
          "scatter3d": [
           {
            "line": {
             "colorbar": {
              "outlinewidth": 0,
              "ticks": ""
             }
            },
            "marker": {
             "colorbar": {
              "outlinewidth": 0,
              "ticks": ""
             }
            },
            "type": "scatter3d"
           }
          ],
          "scattercarpet": [
           {
            "marker": {
             "colorbar": {
              "outlinewidth": 0,
              "ticks": ""
             }
            },
            "type": "scattercarpet"
           }
          ],
          "scattergeo": [
           {
            "marker": {
             "colorbar": {
              "outlinewidth": 0,
              "ticks": ""
             }
            },
            "type": "scattergeo"
           }
          ],
          "scattergl": [
           {
            "marker": {
             "colorbar": {
              "outlinewidth": 0,
              "ticks": ""
             }
            },
            "type": "scattergl"
           }
          ],
          "scattermapbox": [
           {
            "marker": {
             "colorbar": {
              "outlinewidth": 0,
              "ticks": ""
             }
            },
            "type": "scattermapbox"
           }
          ],
          "scatterpolar": [
           {
            "marker": {
             "colorbar": {
              "outlinewidth": 0,
              "ticks": ""
             }
            },
            "type": "scatterpolar"
           }
          ],
          "scatterpolargl": [
           {
            "marker": {
             "colorbar": {
              "outlinewidth": 0,
              "ticks": ""
             }
            },
            "type": "scatterpolargl"
           }
          ],
          "scatterternary": [
           {
            "marker": {
             "colorbar": {
              "outlinewidth": 0,
              "ticks": ""
             }
            },
            "type": "scatterternary"
           }
          ],
          "surface": [
           {
            "colorbar": {
             "outlinewidth": 0,
             "ticks": ""
            },
            "colorscale": [
             [
              0,
              "#0d0887"
             ],
             [
              0.1111111111111111,
              "#46039f"
             ],
             [
              0.2222222222222222,
              "#7201a8"
             ],
             [
              0.3333333333333333,
              "#9c179e"
             ],
             [
              0.4444444444444444,
              "#bd3786"
             ],
             [
              0.5555555555555556,
              "#d8576b"
             ],
             [
              0.6666666666666666,
              "#ed7953"
             ],
             [
              0.7777777777777778,
              "#fb9f3a"
             ],
             [
              0.8888888888888888,
              "#fdca26"
             ],
             [
              1,
              "#f0f921"
             ]
            ],
            "type": "surface"
           }
          ],
          "table": [
           {
            "cells": {
             "fill": {
              "color": "#EBF0F8"
             },
             "line": {
              "color": "white"
             }
            },
            "header": {
             "fill": {
              "color": "#C8D4E3"
             },
             "line": {
              "color": "white"
             }
            },
            "type": "table"
           }
          ]
         },
         "layout": {
          "annotationdefaults": {
           "arrowcolor": "#2a3f5f",
           "arrowhead": 0,
           "arrowwidth": 1
          },
          "autotypenumbers": "strict",
          "coloraxis": {
           "colorbar": {
            "outlinewidth": 0,
            "ticks": ""
           }
          },
          "colorscale": {
           "diverging": [
            [
             0,
             "#8e0152"
            ],
            [
             0.1,
             "#c51b7d"
            ],
            [
             0.2,
             "#de77ae"
            ],
            [
             0.3,
             "#f1b6da"
            ],
            [
             0.4,
             "#fde0ef"
            ],
            [
             0.5,
             "#f7f7f7"
            ],
            [
             0.6,
             "#e6f5d0"
            ],
            [
             0.7,
             "#b8e186"
            ],
            [
             0.8,
             "#7fbc41"
            ],
            [
             0.9,
             "#4d9221"
            ],
            [
             1,
             "#276419"
            ]
           ],
           "sequential": [
            [
             0,
             "#0d0887"
            ],
            [
             0.1111111111111111,
             "#46039f"
            ],
            [
             0.2222222222222222,
             "#7201a8"
            ],
            [
             0.3333333333333333,
             "#9c179e"
            ],
            [
             0.4444444444444444,
             "#bd3786"
            ],
            [
             0.5555555555555556,
             "#d8576b"
            ],
            [
             0.6666666666666666,
             "#ed7953"
            ],
            [
             0.7777777777777778,
             "#fb9f3a"
            ],
            [
             0.8888888888888888,
             "#fdca26"
            ],
            [
             1,
             "#f0f921"
            ]
           ],
           "sequentialminus": [
            [
             0,
             "#0d0887"
            ],
            [
             0.1111111111111111,
             "#46039f"
            ],
            [
             0.2222222222222222,
             "#7201a8"
            ],
            [
             0.3333333333333333,
             "#9c179e"
            ],
            [
             0.4444444444444444,
             "#bd3786"
            ],
            [
             0.5555555555555556,
             "#d8576b"
            ],
            [
             0.6666666666666666,
             "#ed7953"
            ],
            [
             0.7777777777777778,
             "#fb9f3a"
            ],
            [
             0.8888888888888888,
             "#fdca26"
            ],
            [
             1,
             "#f0f921"
            ]
           ]
          },
          "colorway": [
           "#636efa",
           "#EF553B",
           "#00cc96",
           "#ab63fa",
           "#FFA15A",
           "#19d3f3",
           "#FF6692",
           "#B6E880",
           "#FF97FF",
           "#FECB52"
          ],
          "font": {
           "color": "#2a3f5f"
          },
          "geo": {
           "bgcolor": "white",
           "lakecolor": "white",
           "landcolor": "#E5ECF6",
           "showlakes": true,
           "showland": true,
           "subunitcolor": "white"
          },
          "hoverlabel": {
           "align": "left"
          },
          "hovermode": "closest",
          "mapbox": {
           "style": "light"
          },
          "paper_bgcolor": "white",
          "plot_bgcolor": "#E5ECF6",
          "polar": {
           "angularaxis": {
            "gridcolor": "white",
            "linecolor": "white",
            "ticks": ""
           },
           "bgcolor": "#E5ECF6",
           "radialaxis": {
            "gridcolor": "white",
            "linecolor": "white",
            "ticks": ""
           }
          },
          "scene": {
           "xaxis": {
            "backgroundcolor": "#E5ECF6",
            "gridcolor": "white",
            "gridwidth": 2,
            "linecolor": "white",
            "showbackground": true,
            "ticks": "",
            "zerolinecolor": "white"
           },
           "yaxis": {
            "backgroundcolor": "#E5ECF6",
            "gridcolor": "white",
            "gridwidth": 2,
            "linecolor": "white",
            "showbackground": true,
            "ticks": "",
            "zerolinecolor": "white"
           },
           "zaxis": {
            "backgroundcolor": "#E5ECF6",
            "gridcolor": "white",
            "gridwidth": 2,
            "linecolor": "white",
            "showbackground": true,
            "ticks": "",
            "zerolinecolor": "white"
           }
          },
          "shapedefaults": {
           "line": {
            "color": "#2a3f5f"
           }
          },
          "ternary": {
           "aaxis": {
            "gridcolor": "white",
            "linecolor": "white",
            "ticks": ""
           },
           "baxis": {
            "gridcolor": "white",
            "linecolor": "white",
            "ticks": ""
           },
           "bgcolor": "#E5ECF6",
           "caxis": {
            "gridcolor": "white",
            "linecolor": "white",
            "ticks": ""
           }
          },
          "title": {
           "x": 0.05
          },
          "xaxis": {
           "automargin": true,
           "gridcolor": "white",
           "linecolor": "white",
           "ticks": "",
           "title": {
            "standoff": 15
           },
           "zerolinecolor": "white",
           "zerolinewidth": 2
          },
          "yaxis": {
           "automargin": true,
           "gridcolor": "white",
           "linecolor": "white",
           "ticks": "",
           "title": {
            "standoff": 15
           },
           "zerolinecolor": "white",
           "zerolinewidth": 2
          }
         }
        },
        "xaxis": {
         "anchor": "y",
         "domain": [
          0,
          1
         ]
        },
        "yaxis": {
         "anchor": "x",
         "autorange": "reversed",
         "domain": [
          0,
          1
         ]
        }
       }
      }
     },
     "metadata": {},
     "output_type": "display_data"
    }
   ],
   "source": [
    "# Part 2 Task 1\n",
    "fig = px.imshow(\n",
    "    body_df.corr(), text_auto=True, aspect='auto'\n",
    ")\n",
    "fig.show()"
   ]
  },
  {
   "cell_type": "code",
   "execution_count": 20,
   "metadata": {},
   "outputs": [
    {
     "name": "stdout",
     "output_type": "stream",
     "text": [
      "<class 'pandas.core.frame.DataFrame'>\n",
      "RangeIndex: 507 entries, 0 to 506\n",
      "Data columns (total 25 columns):\n",
      " #   Column  Non-Null Count  Dtype  \n",
      "---  ------  --------------  -----  \n",
      " 0   bia_di  507 non-null    float64\n",
      " 1   bii_di  507 non-null    float64\n",
      " 2   bit_di  507 non-null    float64\n",
      " 3   che_de  507 non-null    float64\n",
      " 4   che_di  507 non-null    float64\n",
      " 5   elb_di  507 non-null    float64\n",
      " 6   wri_di  507 non-null    float64\n",
      " 7   kne_di  507 non-null    float64\n",
      " 8   ank_di  507 non-null    float64\n",
      " 9   sho_gi  507 non-null    float64\n",
      " 10  che_gi  507 non-null    float64\n",
      " 11  wai_gi  507 non-null    float64\n",
      " 12  nav_gi  507 non-null    float64\n",
      " 13  hip_gi  507 non-null    float64\n",
      " 14  thi_gi  507 non-null    float64\n",
      " 15  bic_gi  507 non-null    float64\n",
      " 16  for_gi  507 non-null    float64\n",
      " 17  kne_gi  507 non-null    float64\n",
      " 18  cal_gi  507 non-null    float64\n",
      " 19  ank_gi  507 non-null    float64\n",
      " 20  wri_gi  507 non-null    float64\n",
      " 21  age     507 non-null    int64  \n",
      " 22  wgt     507 non-null    float64\n",
      " 23  hgt     507 non-null    float64\n",
      " 24  sex     507 non-null    boolean\n",
      "dtypes: boolean(1), float64(23), int64(1)\n",
      "memory usage: 96.2 KB\n"
     ]
    }
   ],
   "source": [
    "body_df.info()"
   ]
  },
  {
   "cell_type": "code",
   "execution_count": 19,
   "metadata": {},
   "outputs": [],
   "source": [
    "body_df['sex'] = body_df['sex'].astype('boolean')"
   ]
  },
  {
   "cell_type": "code",
   "execution_count": 24,
   "metadata": {},
   "outputs": [
    {
     "name": "stdout",
     "output_type": "stream",
     "text": [
      "              precision    recall  f1-score   support\n",
      "\n",
      "         0.0       0.94      0.98      0.96        52\n",
      "         1.0       0.98      0.94      0.96        50\n",
      "\n",
      "    accuracy                           0.96       102\n",
      "   macro avg       0.96      0.96      0.96       102\n",
      "weighted avg       0.96      0.96      0.96       102\n",
      "\n"
     ]
    }
   ],
   "source": [
    "# Basic prediction. 1 - Male, 0 - Female\n",
    "model = xgb.XGBClassifier()\n",
    "x = body_df.drop('sex', axis=1)\n",
    "y = body_df['sex']\n",
    "x_train, x_test, y_train, y_test = train_test_split(x, y, test_size=0.2, stratify=y)\n",
    "model.fit(x_train, y_train)\n",
    "pred = model.predict(x_test)\n",
    "print(classification_report(y_test, pred))"
   ]
  },
  {
   "cell_type": "code",
   "execution_count": 28,
   "metadata": {},
   "outputs": [],
   "source": [
    "# Part 2 Task 2\n",
    "def columns_to_exclude(feature_df, corr_algo='pearson', exclude_treshold=0.5):\n",
    "    corr_matrix = feature_df.corr(method=corr_algo).abs()\n",
    "    upper = corr_matrix.where(np.triu(np.ones(corr_matrix.shape), k=1).astype(bool))   \n",
    "    to_drop = [column for column in upper.columns if any(upper[column] > exclude_treshold)]\n",
    "    return to_drop"
   ]
  },
  {
   "cell_type": "code",
   "execution_count": 44,
   "metadata": {},
   "outputs": [
    {
     "name": "stdout",
     "output_type": "stream",
     "text": [
      "              precision    recall  f1-score   support\n",
      "\n",
      "         0.0       1.00      0.96      0.98        52\n",
      "         1.0       0.96      1.00      0.98        50\n",
      "\n",
      "    accuracy                           0.98       102\n",
      "   macro avg       0.98      0.98      0.98       102\n",
      "weighted avg       0.98      0.98      0.98       102\n",
      "\n"
     ]
    }
   ],
   "source": [
    "# Part 2 Task 2 prediction\n",
    "model = xgb.XGBClassifier()\n",
    "excluded_cols = columns_to_exclude(body_df.drop('sex', axis=1), exclude_treshold=0.9)\n",
    "x = body_df.drop(excluded_cols + ['sex'], axis=1)\n",
    "y = body_df['sex']\n",
    "x_train, x_test, y_train, y_test = train_test_split(x, y, test_size=0.2, stratify=y)\n",
    "model.fit(x_train, y_train)\n",
    "pred = model.predict(x_test)\n",
    "print(classification_report(y_test, pred))"
   ]
  },
  {
   "cell_type": "code",
   "execution_count": 64,
   "metadata": {},
   "outputs": [
    {
     "data": {
      "text/plain": [
       "['for_gi',\n",
       " 'sho_gi',\n",
       " 'bia_di',\n",
       " 'elb_di',\n",
       " 'wri_gi',\n",
       " 'che_gi',\n",
       " 'bic_gi',\n",
       " 'wri_di',\n",
       " 'che_di',\n",
       " 'ank_di',\n",
       " 'hgt',\n",
       " 'wai_gi']"
      ]
     },
     "execution_count": 64,
     "metadata": {},
     "output_type": "execute_result"
    }
   ],
   "source": [
    "# Part 2 Task 3\n",
    "def select_most_corr_with_target(df, target_name, corr_algo='pearson', percentile=0.5):\n",
    "    target_col: pd.Series = df.corr(method=corr_algo).abs()[target_name]\n",
    "    best_cols = (target_col.sort_values(ascending=False).iloc[1:]\n",
    "                 .head(round(len(target_col)*percentile)))\n",
    "    return best_cols.index.to_list()\n",
    "select_most_corr_with_target(body_df, 'sex')\n",
    "    "
   ]
  },
  {
   "cell_type": "code",
   "execution_count": 87,
   "metadata": {},
   "outputs": [
    {
     "name": "stdout",
     "output_type": "stream",
     "text": [
      "              precision    recall  f1-score   support\n",
      "\n",
      "         0.0       0.96      0.98      0.97        52\n",
      "         1.0       0.98      0.96      0.97        50\n",
      "\n",
      "    accuracy                           0.97       102\n",
      "   macro avg       0.97      0.97      0.97       102\n",
      "weighted avg       0.97      0.97      0.97       102\n",
      "\n"
     ]
    }
   ],
   "source": [
    "# Part 2 task 3 Prediction\n",
    "model = xgb.XGBClassifier()\n",
    "selected_cols = select_most_corr_with_target(body_df, 'sex', percentile=0.8)\n",
    "x = body_df.drop('sex', axis=1)[selected_cols]\n",
    "y = body_df['sex']\n",
    "x_train, x_test, y_train, y_test = train_test_split(x, y, test_size=0.2, stratify=y)\n",
    "model.fit(x_train, y_train)\n",
    "pred = model.predict(x_test)\n",
    "print(classification_report(y_test, pred))"
   ]
  },
  {
   "cell_type": "code",
   "execution_count": 71,
   "metadata": {},
   "outputs": [
    {
     "name": "stdout",
     "output_type": "stream",
     "text": [
      "              precision    recall  f1-score   support\n",
      "\n",
      "         0.0       0.96      1.00      0.98        52\n",
      "         1.0       1.00      0.96      0.98        50\n",
      "\n",
      "    accuracy                           0.98       102\n",
      "   macro avg       0.98      0.98      0.98       102\n",
      "weighted avg       0.98      0.98      0.98       102\n",
      "\n"
     ]
    }
   ],
   "source": [
    "# Part 2 Task 4 Prediction\n",
    "model = xgb.XGBClassifier()\n",
    "excluded_cols = columns_to_exclude(body_df.drop('sex', axis=1), exclude_treshold=0.9, corr_algo='spearman')\n",
    "x = body_df.drop(excluded_cols + ['sex'], axis=1)\n",
    "y = body_df['sex']\n",
    "x_train, x_test, y_train, y_test = train_test_split(x, y, test_size=0.2, stratify=y)\n",
    "model.fit(x_train, y_train)\n",
    "pred = model.predict(x_test)\n",
    "print(classification_report(y_test, pred))"
   ]
  },
  {
   "cell_type": "code",
   "execution_count": 154,
   "metadata": {},
   "outputs": [
    {
     "name": "stdout",
     "output_type": "stream",
     "text": [
      "              precision    recall  f1-score   support\n",
      "\n",
      "         0.0       0.98      0.96      0.97        52\n",
      "         1.0       0.96      0.98      0.97        50\n",
      "\n",
      "    accuracy                           0.97       102\n",
      "   macro avg       0.97      0.97      0.97       102\n",
      "weighted avg       0.97      0.97      0.97       102\n",
      "\n"
     ]
    }
   ],
   "source": [
    "# Some test prediction for body dataset with mutual info feature selection\n",
    "model = xgb.XGBClassifier()\n",
    "x = body_df[list(mutual_info_feature_selection(\n",
    "    body_df, 'sex'\n",
    ").keys())]\n",
    "y = body_df['sex']\n",
    "x_train, x_test, y_train, y_test = train_test_split(x, y, test_size=0.2, stratify=y)\n",
    "model.fit(x_train, y_train)\n",
    "pred = model.predict(x_test)\n",
    "print(classification_report(y_test, pred))"
   ]
  },
  {
   "cell_type": "code",
   "execution_count": 156,
   "metadata": {},
   "outputs": [
    {
     "data": {
      "application/vnd.plotly.v1+json": {
       "config": {
        "plotlyServerURL": "https://plot.ly"
       },
       "data": [
        {
         "coloraxis": "coloraxis",
         "hovertemplate": "x: %{x}<br>y: %{y}<br>color: %{z}<extra></extra>",
         "name": "0",
         "texttemplate": "%{z}",
         "type": "heatmap",
         "x": [
          "bia_di",
          "bii_di",
          "bit_di",
          "che_de",
          "che_di",
          "elb_di",
          "wri_di",
          "kne_di",
          "ank_di",
          "sho_gi",
          "che_gi",
          "wai_gi",
          "nav_gi",
          "hip_gi",
          "thi_gi",
          "bic_gi",
          "for_gi",
          "kne_gi",
          "cal_gi",
          "ank_gi",
          "wri_gi",
          "age",
          "wgt",
          "hgt",
          "sex"
         ],
         "xaxis": "x",
         "y": [
          "bia_di",
          "bii_di",
          "bit_di",
          "che_de",
          "che_di",
          "elb_di",
          "wri_di",
          "kne_di",
          "ank_di",
          "sho_gi",
          "che_gi",
          "wai_gi",
          "nav_gi",
          "hip_gi",
          "thi_gi",
          "bic_gi",
          "for_gi",
          "kne_gi",
          "cal_gi",
          "ank_gi",
          "wri_gi",
          "age",
          "wgt",
          "hgt",
          "sex"
         ],
         "yaxis": "y",
         "z": [
          [
           1,
           0.3064736207627239,
           0.48741307108668286,
           0.5892310912405675,
           0.7745001755595424,
           0.7664911625500783,
           0.7285293692438334,
           0.6437701555129958,
           0.6655683997436163,
           0.7980146475355995,
           0.7283522286597287,
           0.659957173270847,
           0.3238118049376769,
           0.3494963813186385,
           0.1263993545891685,
           0.7006357001560768,
           0.7579468834454623,
           0.5188387401902242,
           0.5146237318737736,
           0.6049852917594049,
           0.7768230130987639,
           0.09913603535539847,
           0.7391923065407016,
           0.7490204082165414,
           0.774666743905064
          ],
          [
           0.3064736207627239,
           1,
           0.6619387819014658,
           0.35189540726011515,
           0.3210665264515399,
           0.31668445664014927,
           0.27588720111309595,
           0.44099554215238007,
           0.3731663607773216,
           0.2702255627797072,
           0.32027364514639056,
           0.4282876346745258,
           0.5718168701820895,
           0.5538633813525442,
           0.40598867210841993,
           0.29991925131299485,
           0.28883204579319377,
           0.46242695394446154,
           0.3953329125781965,
           0.3220447354478887,
           0.25956957742372927,
           0.25429411820497255,
           0.48659801789506857,
           0.3792345589729312,
           0.11786527494060657
          ],
          [
           0.48741307108668286,
           0.6619387819014658,
           1,
           0.4702245528950661,
           0.5279670501913136,
           0.5276487097417396,
           0.47025531333185916,
           0.6122988285315236,
           0.5018679262875066,
           0.48020319778375586,
           0.4921615287722791,
           0.5715156156531029,
           0.6153380872452837,
           0.7484106780752912,
           0.5294960298959662,
           0.48867522152621024,
           0.48337100949677764,
           0.6212620190360243,
           0.5874488296500137,
           0.5370161548866219,
           0.48085055358218454,
           0.2673085549277658,
           0.6696250867706597,
           0.48433190219932604,
           0.2639562661227406
          ],
          [
           0.5892310912405675,
           0.35189540726011515,
           0.4702245528950661,
           1,
           0.6656435669292814,
           0.6702558853174314,
           0.6110973226416692,
           0.5651366447394403,
           0.6001845290933662,
           0.7387384999240962,
           0.805521521429247,
           0.8028853844335501,
           0.6231687862901248,
           0.5599556593409905,
           0.3637777180801872,
           0.742595999460845,
           0.7243941671921833,
           0.5691228878415634,
           0.556023262085947,
           0.5857577837173845,
           0.6838203992409089,
           0.3190836662889628,
           0.7965882456117357,
           0.5526250535401193,
           0.6211736051130166
          ],
          [
           0.7745001755595424,
           0.3210665264515399,
           0.5279670501913136,
           0.6656435669292814,
           1,
           0.7638885428070231,
           0.7348979143815886,
           0.6662009712079414,
           0.6723503202101345,
           0.871815304717205,
           0.8697932216323111,
           0.7902976145160552,
           0.5081986329065055,
           0.5247306401051686,
           0.314365225383987,
           0.7961605618334396,
           0.8108858099365176,
           0.5992823241649217,
           0.5966438755267633,
           0.636629077655221,
           0.7683797792171926,
           0.21400193959903577,
           0.8304636436711259,
           0.6295466459296558,
           0.7053952307087278
          ],
          [
           0.7664911625500783,
           0.31668445664014927,
           0.5276487097417396,
           0.6702558853174314,
           0.7638885428070231,
           1,
           0.8420531525390023,
           0.7404033839519635,
           0.8224215312943937,
           0.8207844744415742,
           0.8059749687150317,
           0.7067782750277741,
           0.4543480909477589,
           0.4497166687589329,
           0.2123685292382264,
           0.8053517811824248,
           0.858892137870726,
           0.6008195411299934,
           0.5823083090186603,
           0.6672661246875924,
           0.8467311130629327,
           0.20813317158308772,
           0.8101725629227651,
           0.7360938402364161,
           0.7698774327995562
          ],
          [
           0.7285293692438334,
           0.27588720111309595,
           0.47025531333185916,
           0.6110973226416692,
           0.7348979143815886,
           0.8420531525390023,
           1,
           0.717348752820659,
           0.7786011712456764,
           0.77807607523395,
           0.7686583826440601,
           0.6856049851177108,
           0.41348928884995984,
           0.43029135043027666,
           0.19858703618760884,
           0.7632973459645958,
           0.8168302319208169,
           0.5930554550649767,
           0.5819668096732162,
           0.6623659103068044,
           0.8653628192318046,
           0.21175578525340574,
           0.7735145976374138,
           0.6813681025509306,
           0.7259115914701489
          ],
          [
           0.6437701555129958,
           0.44099554215238007,
           0.6122988285315236,
           0.5651366447394403,
           0.6662009712079414,
           0.7404033839519635,
           0.717348752820659,
           1,
           0.7342473186547354,
           0.6892042315837396,
           0.663348267126371,
           0.6421593503099935,
           0.48615105956104365,
           0.5845030938228266,
           0.426287287731385,
           0.6929104065970656,
           0.7302578918728576,
           0.7354842369738375,
           0.6818111168693405,
           0.6583163021049876,
           0.7394948048378203,
           0.19130354126732,
           0.7789461954202258,
           0.5963908437281478,
           0.550984112268676
          ],
          [
           0.6655683997436163,
           0.3731663607773216,
           0.5018679262875066,
           0.6001845290933662,
           0.6723503202101345,
           0.8224215312943937,
           0.7786011712456764,
           0.7342473186547354,
           1,
           0.6957042424089385,
           0.712155484912049,
           0.6474349158697836,
           0.456698746140865,
           0.42263529596840205,
           0.2009516700840827,
           0.6905546231464349,
           0.7372303533369865,
           0.5510591063077116,
           0.5434389386918614,
           0.6738366845216138,
           0.7627413916943422,
           0.2553117142780353,
           0.7378128379940136,
           0.6849964613045558,
           0.6858244998164624
          ],
          [
           0.7980146475355995,
           0.2702255627797072,
           0.48020319778375586,
           0.7387384999240962,
           0.871815304717205,
           0.8207844744415742,
           0.77807607523395,
           0.6892042315837396,
           0.6957042424089385,
           1,
           0.9262570347580936,
           0.8338680628467772,
           0.524568581961747,
           0.5363969755368496,
           0.3246744833373474,
           0.8960245982315926,
           0.896535907696207,
           0.6314821906894534,
           0.6282233695556146,
           0.6835546180558061,
           0.8447274888128109,
           0.19300258369252427,
           0.881973649083917,
           0.6689047231640339,
           0.7828494534645449
          ],
          [
           0.7283522286597287,
           0.32027364514639056,
           0.4921615287722791,
           0.805521521429247,
           0.8697932216323111,
           0.8059749687150317,
           0.7686583826440601,
           0.663348267126371,
           0.712155484912049,
           0.9262570347580936,
           1,
           0.8919455857467038,
           0.6323883773187897,
           0.5897818137646896,
           0.36879698861564575,
           0.9104270911150179,
           0.8912282340029203,
           0.6217576480045072,
           0.610876874341223,
           0.6739489245779559,
           0.8302668932756541,
           0.2607453762615343,
           0.9021044328587611,
           0.6222922086895214,
           0.747144490995924
          ],
          [
           0.659957173270847,
           0.4282876346745258,
           0.5715156156531029,
           0.8028853844335501,
           0.7902976145160552,
           0.7067782750277741,
           0.6856049851177108,
           0.6421593503099935,
           0.6474349158697836,
           0.8338680628467772,
           0.8919455857467038,
           1,
           0.7537497701937677,
           0.6952363419081955,
           0.42884241029132153,
           0.8245214181230395,
           0.7983025740208124,
           0.664444200493266,
           0.6330139958002564,
           0.6635214630283505,
           0.7426354337598232,
           0.36855545738592965,
           0.906330212834047,
           0.5635031478945621,
           0.6832354508773637
          ],
          [
           0.3238118049376769,
           0.5718168701820895,
           0.6153380872452837,
           0.6231687862901248,
           0.5081986329065055,
           0.4543480909477589,
           0.41348928884995984,
           0.48615105956104365,
           0.456698746140865,
           0.524568581961747,
           0.6323883773187897,
           0.7537497701937677,
           1,
           0.8215116457802898,
           0.5993722888056567,
           0.5776260428833,
           0.5019767344992415,
           0.6106863620640475,
           0.5220680264119929,
           0.5272596836984466,
           0.4492150068942519,
           0.43762424228047714,
           0.7163866534980879,
           0.3295559705118366,
           0.22059849750394278
          ],
          [
           0.3494963813186385,
           0.5538633813525442,
           0.7484106780752912,
           0.5599556593409905,
           0.5247306401051686,
           0.4497166687589329,
           0.43029135043027666,
           0.5845030938228266,
           0.42263529596840205,
           0.5363969755368496,
           0.5897818137646896,
           0.6952363419081955,
           0.8215116457802898,
           1,
           0.8262244227289048,
           0.5738616910146188,
           0.5255446687099,
           0.7335730053887802,
           0.6711202995193123,
           0.58498494282156,
           0.4690178407063198,
           0.23807296907205677,
           0.7667377520279924,
           0.34981715486044956,
           0.16380965784546805
          ],
          [
           0.1263993545891685,
           0.40598867210841993,
           0.5294960298959662,
           0.3637777180801872,
           0.314365225383987,
           0.2123685292382264,
           0.19858703618760884,
           0.426287287731385,
           0.2009516700840827,
           0.3246744833373474,
           0.36879698861564575,
           0.42884241029132153,
           0.5993722888056567,
           0.8262244227289048,
           1,
           0.41759516199016744,
           0.3494571722801423,
           0.6357771254279235,
           0.6276690777072932,
           0.42949912078664176,
           0.24910450874112694,
           -0.005641736079586577,
           0.5609249019567367,
           0.1231493259972685,
           -0.07716930987687523
          ],
          [
           0.7006357001560768,
           0.29991925131299485,
           0.48867522152621024,
           0.742595999460845,
           0.7961605618334396,
           0.8053517811824248,
           0.7632973459645958,
           0.6929104065970656,
           0.6905546231464349,
           0.8960245982315926,
           0.9104270911150179,
           0.8245214181230395,
           0.5776260428833,
           0.5738616910146188,
           0.41759516199016744,
           1,
           0.9430015142420547,
           0.6348789986600883,
           0.6437244795017091,
           0.6778941806624635,
           0.8522652258326829,
           0.20151644024172083,
           0.8782134164618594,
           0.5908414262692604,
           0.7456435664317922
          ],
          [
           0.7579468834454623,
           0.28883204579319377,
           0.48337100949677764,
           0.7243941671921833,
           0.8108858099365176,
           0.858892137870726,
           0.8168302319208169,
           0.7302578918728576,
           0.7372303533369865,
           0.896535907696207,
           0.8912282340029203,
           0.7983025740208124,
           0.5019767344992415,
           0.5255446687099,
           0.3494571722801423,
           0.9430015142420547,
           1,
           0.666933640738109,
           0.6734821127461912,
           0.71621427265684,
           0.9078440427199117,
           0.16254790617348275,
           0.8803751170153844,
           0.65833064723035,
           0.7932290194242391
          ],
          [
           0.5188387401902242,
           0.46242695394446154,
           0.6212620190360243,
           0.5691228878415634,
           0.5992823241649217,
           0.6008195411299934,
           0.5930554550649767,
           0.7354842369738375,
           0.5510591063077116,
           0.6314821906894534,
           0.6217576480045072,
           0.664444200493266,
           0.6106863620640475,
           0.7335730053887802,
           0.6357771254279235,
           0.6348789986600883,
           0.666933640738109,
           1,
           0.7936539378039559,
           0.7443676063759663,
           0.6526790537875877,
           0.13215325872110123,
           0.800183731770664,
           0.5357806107802734,
           0.3781909530117859
          ],
          [
           0.5146237318737736,
           0.3953329125781965,
           0.5874488296500137,
           0.556023262085947,
           0.5966438755267633,
           0.5823083090186603,
           0.5819668096732162,
           0.6818111168693405,
           0.5434389386918614,
           0.6282233695556146,
           0.610876874341223,
           0.6330139958002564,
           0.5220680264119929,
           0.6711202995193123,
           0.6276690777072932,
           0.6437244795017091,
           0.6734821127461912,
           0.7936539378039559,
           1,
           0.7645828505746124,
           0.6496983404269311,
           0.11263992022993684,
           0.7697416745834647,
           0.4572407649219666,
           0.38888080549993165
          ],
          [
           0.6049852917594049,
           0.3220447354478887,
           0.5370161548866219,
           0.5857577837173845,
           0.636629077655221,
           0.6672661246875924,
           0.6623659103068044,
           0.6583163021049876,
           0.6738366845216138,
           0.6835546180558061,
           0.6739489245779559,
           0.6635214630283505,
           0.5272596836984466,
           0.58498494282156,
           0.42949912078664176,
           0.6778941806624635,
           0.71621427265684,
           0.7443676063759663,
           0.7645828505746124,
           1,
           0.7555115418822771,
           0.14954864220296515,
           0.764757762288231,
           0.5679892517166183,
           0.5255662455618058
          ],
          [
           0.7768230130987639,
           0.25956957742372927,
           0.48085055358218454,
           0.6838203992409089,
           0.7683797792171926,
           0.8467311130629327,
           0.8653628192318046,
           0.7394948048378203,
           0.7627413916943422,
           0.8447274888128109,
           0.8302668932756541,
           0.7426354337598232,
           0.4492150068942519,
           0.4690178407063198,
           0.24910450874112694,
           0.8522652258326829,
           0.9078440427199117,
           0.6526790537875877,
           0.6496983404269311,
           0.7555115418822771,
           1,
           0.19381126397628734,
           0.8284130978442727,
           0.6933179069479056,
           0.7728945832977837
          ],
          [
           0.09913603535539847,
           0.25429411820497255,
           0.2673085549277658,
           0.3190836662889628,
           0.21400193959903577,
           0.20813317158308772,
           0.21175578525340574,
           0.19130354126732,
           0.2553117142780353,
           0.19300258369252427,
           0.2607453762615343,
           0.36855545738592965,
           0.43762424228047714,
           0.23807296907205677,
           -0.005641736079586577,
           0.20151644024172083,
           0.16254790617348275,
           0.13215325872110123,
           0.11263992022993684,
           0.14954864220296515,
           0.19381126397628734,
           1,
           0.22547626885882602,
           0.08279282552281769,
           0.15692649462972885
          ],
          [
           0.7391923065407016,
           0.48659801789506857,
           0.6696250867706597,
           0.7965882456117357,
           0.8304636436711259,
           0.8101725629227651,
           0.7735145976374138,
           0.7789461954202258,
           0.7378128379940136,
           0.881973649083917,
           0.9021044328587611,
           0.906330212834047,
           0.7163866534980879,
           0.7667377520279924,
           0.5609249019567367,
           0.8782134164618594,
           0.8803751170153844,
           0.800183731770664,
           0.7697416745834647,
           0.764757762288231,
           0.8284130978442727,
           0.22547626885882602,
           1,
           0.7274677431287058,
           0.6679328426646345
          ],
          [
           0.7490204082165414,
           0.3792345589729312,
           0.48433190219932604,
           0.5526250535401193,
           0.6295466459296558,
           0.7360938402364161,
           0.6813681025509306,
           0.5963908437281478,
           0.6849964613045558,
           0.6689047231640339,
           0.6222922086895214,
           0.5635031478945621,
           0.3295559705118366,
           0.34981715486044956,
           0.1231493259972685,
           0.5908414262692604,
           0.65833064723035,
           0.5357806107802734,
           0.4572407649219666,
           0.5679892517166183,
           0.6933179069479056,
           0.08279282552281769,
           0.7274677431287058,
           1,
           0.6847953780851626
          ],
          [
           0.774666743905064,
           0.11786527494060657,
           0.2639562661227406,
           0.6211736051130166,
           0.7053952307087278,
           0.7698774327995562,
           0.7259115914701489,
           0.550984112268676,
           0.6858244998164624,
           0.7828494534645449,
           0.747144490995924,
           0.6832354508773637,
           0.22059849750394278,
           0.16380965784546805,
           -0.07716930987687523,
           0.7456435664317922,
           0.7932290194242391,
           0.3781909530117859,
           0.38888080549993165,
           0.5255662455618058,
           0.7728945832977837,
           0.15692649462972885,
           0.6679328426646345,
           0.6847953780851626,
           1
          ]
         ]
        }
       ],
       "layout": {
        "coloraxis": {
         "colorscale": [
          [
           0,
           "#0d0887"
          ],
          [
           0.1111111111111111,
           "#46039f"
          ],
          [
           0.2222222222222222,
           "#7201a8"
          ],
          [
           0.3333333333333333,
           "#9c179e"
          ],
          [
           0.4444444444444444,
           "#bd3786"
          ],
          [
           0.5555555555555556,
           "#d8576b"
          ],
          [
           0.6666666666666666,
           "#ed7953"
          ],
          [
           0.7777777777777778,
           "#fb9f3a"
          ],
          [
           0.8888888888888888,
           "#fdca26"
          ],
          [
           1,
           "#f0f921"
          ]
         ]
        },
        "margin": {
         "t": 60
        },
        "template": {
         "data": {
          "bar": [
           {
            "error_x": {
             "color": "#2a3f5f"
            },
            "error_y": {
             "color": "#2a3f5f"
            },
            "marker": {
             "line": {
              "color": "#E5ECF6",
              "width": 0.5
             },
             "pattern": {
              "fillmode": "overlay",
              "size": 10,
              "solidity": 0.2
             }
            },
            "type": "bar"
           }
          ],
          "barpolar": [
           {
            "marker": {
             "line": {
              "color": "#E5ECF6",
              "width": 0.5
             },
             "pattern": {
              "fillmode": "overlay",
              "size": 10,
              "solidity": 0.2
             }
            },
            "type": "barpolar"
           }
          ],
          "carpet": [
           {
            "aaxis": {
             "endlinecolor": "#2a3f5f",
             "gridcolor": "white",
             "linecolor": "white",
             "minorgridcolor": "white",
             "startlinecolor": "#2a3f5f"
            },
            "baxis": {
             "endlinecolor": "#2a3f5f",
             "gridcolor": "white",
             "linecolor": "white",
             "minorgridcolor": "white",
             "startlinecolor": "#2a3f5f"
            },
            "type": "carpet"
           }
          ],
          "choropleth": [
           {
            "colorbar": {
             "outlinewidth": 0,
             "ticks": ""
            },
            "type": "choropleth"
           }
          ],
          "contour": [
           {
            "colorbar": {
             "outlinewidth": 0,
             "ticks": ""
            },
            "colorscale": [
             [
              0,
              "#0d0887"
             ],
             [
              0.1111111111111111,
              "#46039f"
             ],
             [
              0.2222222222222222,
              "#7201a8"
             ],
             [
              0.3333333333333333,
              "#9c179e"
             ],
             [
              0.4444444444444444,
              "#bd3786"
             ],
             [
              0.5555555555555556,
              "#d8576b"
             ],
             [
              0.6666666666666666,
              "#ed7953"
             ],
             [
              0.7777777777777778,
              "#fb9f3a"
             ],
             [
              0.8888888888888888,
              "#fdca26"
             ],
             [
              1,
              "#f0f921"
             ]
            ],
            "type": "contour"
           }
          ],
          "contourcarpet": [
           {
            "colorbar": {
             "outlinewidth": 0,
             "ticks": ""
            },
            "type": "contourcarpet"
           }
          ],
          "heatmap": [
           {
            "colorbar": {
             "outlinewidth": 0,
             "ticks": ""
            },
            "colorscale": [
             [
              0,
              "#0d0887"
             ],
             [
              0.1111111111111111,
              "#46039f"
             ],
             [
              0.2222222222222222,
              "#7201a8"
             ],
             [
              0.3333333333333333,
              "#9c179e"
             ],
             [
              0.4444444444444444,
              "#bd3786"
             ],
             [
              0.5555555555555556,
              "#d8576b"
             ],
             [
              0.6666666666666666,
              "#ed7953"
             ],
             [
              0.7777777777777778,
              "#fb9f3a"
             ],
             [
              0.8888888888888888,
              "#fdca26"
             ],
             [
              1,
              "#f0f921"
             ]
            ],
            "type": "heatmap"
           }
          ],
          "heatmapgl": [
           {
            "colorbar": {
             "outlinewidth": 0,
             "ticks": ""
            },
            "colorscale": [
             [
              0,
              "#0d0887"
             ],
             [
              0.1111111111111111,
              "#46039f"
             ],
             [
              0.2222222222222222,
              "#7201a8"
             ],
             [
              0.3333333333333333,
              "#9c179e"
             ],
             [
              0.4444444444444444,
              "#bd3786"
             ],
             [
              0.5555555555555556,
              "#d8576b"
             ],
             [
              0.6666666666666666,
              "#ed7953"
             ],
             [
              0.7777777777777778,
              "#fb9f3a"
             ],
             [
              0.8888888888888888,
              "#fdca26"
             ],
             [
              1,
              "#f0f921"
             ]
            ],
            "type": "heatmapgl"
           }
          ],
          "histogram": [
           {
            "marker": {
             "pattern": {
              "fillmode": "overlay",
              "size": 10,
              "solidity": 0.2
             }
            },
            "type": "histogram"
           }
          ],
          "histogram2d": [
           {
            "colorbar": {
             "outlinewidth": 0,
             "ticks": ""
            },
            "colorscale": [
             [
              0,
              "#0d0887"
             ],
             [
              0.1111111111111111,
              "#46039f"
             ],
             [
              0.2222222222222222,
              "#7201a8"
             ],
             [
              0.3333333333333333,
              "#9c179e"
             ],
             [
              0.4444444444444444,
              "#bd3786"
             ],
             [
              0.5555555555555556,
              "#d8576b"
             ],
             [
              0.6666666666666666,
              "#ed7953"
             ],
             [
              0.7777777777777778,
              "#fb9f3a"
             ],
             [
              0.8888888888888888,
              "#fdca26"
             ],
             [
              1,
              "#f0f921"
             ]
            ],
            "type": "histogram2d"
           }
          ],
          "histogram2dcontour": [
           {
            "colorbar": {
             "outlinewidth": 0,
             "ticks": ""
            },
            "colorscale": [
             [
              0,
              "#0d0887"
             ],
             [
              0.1111111111111111,
              "#46039f"
             ],
             [
              0.2222222222222222,
              "#7201a8"
             ],
             [
              0.3333333333333333,
              "#9c179e"
             ],
             [
              0.4444444444444444,
              "#bd3786"
             ],
             [
              0.5555555555555556,
              "#d8576b"
             ],
             [
              0.6666666666666666,
              "#ed7953"
             ],
             [
              0.7777777777777778,
              "#fb9f3a"
             ],
             [
              0.8888888888888888,
              "#fdca26"
             ],
             [
              1,
              "#f0f921"
             ]
            ],
            "type": "histogram2dcontour"
           }
          ],
          "mesh3d": [
           {
            "colorbar": {
             "outlinewidth": 0,
             "ticks": ""
            },
            "type": "mesh3d"
           }
          ],
          "parcoords": [
           {
            "line": {
             "colorbar": {
              "outlinewidth": 0,
              "ticks": ""
             }
            },
            "type": "parcoords"
           }
          ],
          "pie": [
           {
            "automargin": true,
            "type": "pie"
           }
          ],
          "scatter": [
           {
            "fillpattern": {
             "fillmode": "overlay",
             "size": 10,
             "solidity": 0.2
            },
            "type": "scatter"
           }
          ],
          "scatter3d": [
           {
            "line": {
             "colorbar": {
              "outlinewidth": 0,
              "ticks": ""
             }
            },
            "marker": {
             "colorbar": {
              "outlinewidth": 0,
              "ticks": ""
             }
            },
            "type": "scatter3d"
           }
          ],
          "scattercarpet": [
           {
            "marker": {
             "colorbar": {
              "outlinewidth": 0,
              "ticks": ""
             }
            },
            "type": "scattercarpet"
           }
          ],
          "scattergeo": [
           {
            "marker": {
             "colorbar": {
              "outlinewidth": 0,
              "ticks": ""
             }
            },
            "type": "scattergeo"
           }
          ],
          "scattergl": [
           {
            "marker": {
             "colorbar": {
              "outlinewidth": 0,
              "ticks": ""
             }
            },
            "type": "scattergl"
           }
          ],
          "scattermapbox": [
           {
            "marker": {
             "colorbar": {
              "outlinewidth": 0,
              "ticks": ""
             }
            },
            "type": "scattermapbox"
           }
          ],
          "scatterpolar": [
           {
            "marker": {
             "colorbar": {
              "outlinewidth": 0,
              "ticks": ""
             }
            },
            "type": "scatterpolar"
           }
          ],
          "scatterpolargl": [
           {
            "marker": {
             "colorbar": {
              "outlinewidth": 0,
              "ticks": ""
             }
            },
            "type": "scatterpolargl"
           }
          ],
          "scatterternary": [
           {
            "marker": {
             "colorbar": {
              "outlinewidth": 0,
              "ticks": ""
             }
            },
            "type": "scatterternary"
           }
          ],
          "surface": [
           {
            "colorbar": {
             "outlinewidth": 0,
             "ticks": ""
            },
            "colorscale": [
             [
              0,
              "#0d0887"
             ],
             [
              0.1111111111111111,
              "#46039f"
             ],
             [
              0.2222222222222222,
              "#7201a8"
             ],
             [
              0.3333333333333333,
              "#9c179e"
             ],
             [
              0.4444444444444444,
              "#bd3786"
             ],
             [
              0.5555555555555556,
              "#d8576b"
             ],
             [
              0.6666666666666666,
              "#ed7953"
             ],
             [
              0.7777777777777778,
              "#fb9f3a"
             ],
             [
              0.8888888888888888,
              "#fdca26"
             ],
             [
              1,
              "#f0f921"
             ]
            ],
            "type": "surface"
           }
          ],
          "table": [
           {
            "cells": {
             "fill": {
              "color": "#EBF0F8"
             },
             "line": {
              "color": "white"
             }
            },
            "header": {
             "fill": {
              "color": "#C8D4E3"
             },
             "line": {
              "color": "white"
             }
            },
            "type": "table"
           }
          ]
         },
         "layout": {
          "annotationdefaults": {
           "arrowcolor": "#2a3f5f",
           "arrowhead": 0,
           "arrowwidth": 1
          },
          "autotypenumbers": "strict",
          "coloraxis": {
           "colorbar": {
            "outlinewidth": 0,
            "ticks": ""
           }
          },
          "colorscale": {
           "diverging": [
            [
             0,
             "#8e0152"
            ],
            [
             0.1,
             "#c51b7d"
            ],
            [
             0.2,
             "#de77ae"
            ],
            [
             0.3,
             "#f1b6da"
            ],
            [
             0.4,
             "#fde0ef"
            ],
            [
             0.5,
             "#f7f7f7"
            ],
            [
             0.6,
             "#e6f5d0"
            ],
            [
             0.7,
             "#b8e186"
            ],
            [
             0.8,
             "#7fbc41"
            ],
            [
             0.9,
             "#4d9221"
            ],
            [
             1,
             "#276419"
            ]
           ],
           "sequential": [
            [
             0,
             "#0d0887"
            ],
            [
             0.1111111111111111,
             "#46039f"
            ],
            [
             0.2222222222222222,
             "#7201a8"
            ],
            [
             0.3333333333333333,
             "#9c179e"
            ],
            [
             0.4444444444444444,
             "#bd3786"
            ],
            [
             0.5555555555555556,
             "#d8576b"
            ],
            [
             0.6666666666666666,
             "#ed7953"
            ],
            [
             0.7777777777777778,
             "#fb9f3a"
            ],
            [
             0.8888888888888888,
             "#fdca26"
            ],
            [
             1,
             "#f0f921"
            ]
           ],
           "sequentialminus": [
            [
             0,
             "#0d0887"
            ],
            [
             0.1111111111111111,
             "#46039f"
            ],
            [
             0.2222222222222222,
             "#7201a8"
            ],
            [
             0.3333333333333333,
             "#9c179e"
            ],
            [
             0.4444444444444444,
             "#bd3786"
            ],
            [
             0.5555555555555556,
             "#d8576b"
            ],
            [
             0.6666666666666666,
             "#ed7953"
            ],
            [
             0.7777777777777778,
             "#fb9f3a"
            ],
            [
             0.8888888888888888,
             "#fdca26"
            ],
            [
             1,
             "#f0f921"
            ]
           ]
          },
          "colorway": [
           "#636efa",
           "#EF553B",
           "#00cc96",
           "#ab63fa",
           "#FFA15A",
           "#19d3f3",
           "#FF6692",
           "#B6E880",
           "#FF97FF",
           "#FECB52"
          ],
          "font": {
           "color": "#2a3f5f"
          },
          "geo": {
           "bgcolor": "white",
           "lakecolor": "white",
           "landcolor": "#E5ECF6",
           "showlakes": true,
           "showland": true,
           "subunitcolor": "white"
          },
          "hoverlabel": {
           "align": "left"
          },
          "hovermode": "closest",
          "mapbox": {
           "style": "light"
          },
          "paper_bgcolor": "white",
          "plot_bgcolor": "#E5ECF6",
          "polar": {
           "angularaxis": {
            "gridcolor": "white",
            "linecolor": "white",
            "ticks": ""
           },
           "bgcolor": "#E5ECF6",
           "radialaxis": {
            "gridcolor": "white",
            "linecolor": "white",
            "ticks": ""
           }
          },
          "scene": {
           "xaxis": {
            "backgroundcolor": "#E5ECF6",
            "gridcolor": "white",
            "gridwidth": 2,
            "linecolor": "white",
            "showbackground": true,
            "ticks": "",
            "zerolinecolor": "white"
           },
           "yaxis": {
            "backgroundcolor": "#E5ECF6",
            "gridcolor": "white",
            "gridwidth": 2,
            "linecolor": "white",
            "showbackground": true,
            "ticks": "",
            "zerolinecolor": "white"
           },
           "zaxis": {
            "backgroundcolor": "#E5ECF6",
            "gridcolor": "white",
            "gridwidth": 2,
            "linecolor": "white",
            "showbackground": true,
            "ticks": "",
            "zerolinecolor": "white"
           }
          },
          "shapedefaults": {
           "line": {
            "color": "#2a3f5f"
           }
          },
          "ternary": {
           "aaxis": {
            "gridcolor": "white",
            "linecolor": "white",
            "ticks": ""
           },
           "baxis": {
            "gridcolor": "white",
            "linecolor": "white",
            "ticks": ""
           },
           "bgcolor": "#E5ECF6",
           "caxis": {
            "gridcolor": "white",
            "linecolor": "white",
            "ticks": ""
           }
          },
          "title": {
           "x": 0.05
          },
          "xaxis": {
           "automargin": true,
           "gridcolor": "white",
           "linecolor": "white",
           "ticks": "",
           "title": {
            "standoff": 15
           },
           "zerolinecolor": "white",
           "zerolinewidth": 2
          },
          "yaxis": {
           "automargin": true,
           "gridcolor": "white",
           "linecolor": "white",
           "ticks": "",
           "title": {
            "standoff": 15
           },
           "zerolinecolor": "white",
           "zerolinewidth": 2
          }
         }
        },
        "xaxis": {
         "anchor": "y",
         "domain": [
          0,
          1
         ]
        },
        "yaxis": {
         "anchor": "x",
         "autorange": "reversed",
         "domain": [
          0,
          1
         ]
        }
       }
      }
     },
     "metadata": {},
     "output_type": "display_data"
    }
   ],
   "source": [
    "# Part 2 Task 6 Log normalization\n",
    "x = body_df.drop('sex', axis=1)\n",
    "for col in x.columns:\n",
    "    x[col] = x[col].apply(lambda val: np.log(val) if val != 0 else 0)\n",
    "y = body_df['sex']\n",
    "fig = px.imshow(\n",
    "    pd.concat([x, y], axis=1).corr(), text_auto=True, aspect='auto'\n",
    ")\n",
    "fig.show()"
   ]
  },
  {
   "cell_type": "code",
   "execution_count": 157,
   "metadata": {},
   "outputs": [
    {
     "name": "stdout",
     "output_type": "stream",
     "text": [
      "              precision    recall  f1-score   support\n",
      "\n",
      "         0.0       1.00      0.96      0.98        52\n",
      "         1.0       0.96      1.00      0.98        50\n",
      "\n",
      "    accuracy                           0.98       102\n",
      "   macro avg       0.98      0.98      0.98       102\n",
      "weighted avg       0.98      0.98      0.98       102\n",
      "\n"
     ]
    }
   ],
   "source": [
    "# Some prediction for Part 2 task 6\n",
    "x = body_df.drop('sex', axis=1)\n",
    "for col in x.columns:\n",
    "    x[col] = x[col].apply(lambda val: np.log(val) if val != 0 else 0)\n",
    "y = body_df['sex']\n",
    "x_train, x_test, y_train, y_test = train_test_split(x, y, test_size=0.2, stratify=y)\n",
    "model.fit(x_train, y_train)\n",
    "pred = model.predict(x_test)\n",
    "print(classification_report(y_test, pred))"
   ]
  },
  {
   "cell_type": "code",
   "execution_count": 164,
   "metadata": {},
   "outputs": [],
   "source": [
    "# Part 3 Task 1\n",
    "def rfe_feature_selection_general(df, target_col, estimator, percentile=0.5):\n",
    "    x = df.drop(target_col, axis=1)\n",
    "    y = df[target_col]    \n",
    "    model = RFE(estimator=estimator, n_features_to_select=percentile)\n",
    "    model.fit(x, y)\n",
    "    return {feature: True for feature in model.get_feature_names_out()}"
   ]
  },
  {
   "cell_type": "code",
   "execution_count": 168,
   "metadata": {},
   "outputs": [
    {
     "name": "stderr",
     "output_type": "stream",
     "text": [
      "d:\\Programs\\Programming\\BSUIR\\IDA\\LR2\\.venv\\Lib\\site-packages\\sklearn\\linear_model\\_logistic.py:469: ConvergenceWarning:\n",
      "\n",
      "lbfgs failed to converge (status=1):\n",
      "STOP: TOTAL NO. of ITERATIONS REACHED LIMIT.\n",
      "\n",
      "Increase the number of iterations (max_iter) or scale the data as shown in:\n",
      "    https://scikit-learn.org/stable/modules/preprocessing.html\n",
      "Please also refer to the documentation for alternative solver options:\n",
      "    https://scikit-learn.org/stable/modules/linear_model.html#logistic-regression\n",
      "\n",
      "d:\\Programs\\Programming\\BSUIR\\IDA\\LR2\\.venv\\Lib\\site-packages\\sklearn\\linear_model\\_logistic.py:469: ConvergenceWarning:\n",
      "\n",
      "lbfgs failed to converge (status=1):\n",
      "STOP: TOTAL NO. of ITERATIONS REACHED LIMIT.\n",
      "\n",
      "Increase the number of iterations (max_iter) or scale the data as shown in:\n",
      "    https://scikit-learn.org/stable/modules/preprocessing.html\n",
      "Please also refer to the documentation for alternative solver options:\n",
      "    https://scikit-learn.org/stable/modules/linear_model.html#logistic-regression\n",
      "\n",
      "d:\\Programs\\Programming\\BSUIR\\IDA\\LR2\\.venv\\Lib\\site-packages\\sklearn\\linear_model\\_logistic.py:469: ConvergenceWarning:\n",
      "\n",
      "lbfgs failed to converge (status=1):\n",
      "STOP: TOTAL NO. of ITERATIONS REACHED LIMIT.\n",
      "\n",
      "Increase the number of iterations (max_iter) or scale the data as shown in:\n",
      "    https://scikit-learn.org/stable/modules/preprocessing.html\n",
      "Please also refer to the documentation for alternative solver options:\n",
      "    https://scikit-learn.org/stable/modules/linear_model.html#logistic-regression\n",
      "\n",
      "d:\\Programs\\Programming\\BSUIR\\IDA\\LR2\\.venv\\Lib\\site-packages\\sklearn\\linear_model\\_logistic.py:469: ConvergenceWarning:\n",
      "\n",
      "lbfgs failed to converge (status=1):\n",
      "STOP: TOTAL NO. of ITERATIONS REACHED LIMIT.\n",
      "\n",
      "Increase the number of iterations (max_iter) or scale the data as shown in:\n",
      "    https://scikit-learn.org/stable/modules/preprocessing.html\n",
      "Please also refer to the documentation for alternative solver options:\n",
      "    https://scikit-learn.org/stable/modules/linear_model.html#logistic-regression\n",
      "\n",
      "d:\\Programs\\Programming\\BSUIR\\IDA\\LR2\\.venv\\Lib\\site-packages\\sklearn\\linear_model\\_logistic.py:469: ConvergenceWarning:\n",
      "\n",
      "lbfgs failed to converge (status=1):\n",
      "STOP: TOTAL NO. of ITERATIONS REACHED LIMIT.\n",
      "\n",
      "Increase the number of iterations (max_iter) or scale the data as shown in:\n",
      "    https://scikit-learn.org/stable/modules/preprocessing.html\n",
      "Please also refer to the documentation for alternative solver options:\n",
      "    https://scikit-learn.org/stable/modules/linear_model.html#logistic-regression\n",
      "\n",
      "d:\\Programs\\Programming\\BSUIR\\IDA\\LR2\\.venv\\Lib\\site-packages\\sklearn\\linear_model\\_logistic.py:469: ConvergenceWarning:\n",
      "\n",
      "lbfgs failed to converge (status=1):\n",
      "STOP: TOTAL NO. of ITERATIONS REACHED LIMIT.\n",
      "\n",
      "Increase the number of iterations (max_iter) or scale the data as shown in:\n",
      "    https://scikit-learn.org/stable/modules/preprocessing.html\n",
      "Please also refer to the documentation for alternative solver options:\n",
      "    https://scikit-learn.org/stable/modules/linear_model.html#logistic-regression\n",
      "\n",
      "d:\\Programs\\Programming\\BSUIR\\IDA\\LR2\\.venv\\Lib\\site-packages\\sklearn\\linear_model\\_logistic.py:469: ConvergenceWarning:\n",
      "\n",
      "lbfgs failed to converge (status=1):\n",
      "STOP: TOTAL NO. of ITERATIONS REACHED LIMIT.\n",
      "\n",
      "Increase the number of iterations (max_iter) or scale the data as shown in:\n",
      "    https://scikit-learn.org/stable/modules/preprocessing.html\n",
      "Please also refer to the documentation for alternative solver options:\n",
      "    https://scikit-learn.org/stable/modules/linear_model.html#logistic-regression\n",
      "\n",
      "d:\\Programs\\Programming\\BSUIR\\IDA\\LR2\\.venv\\Lib\\site-packages\\sklearn\\linear_model\\_logistic.py:469: ConvergenceWarning:\n",
      "\n",
      "lbfgs failed to converge (status=1):\n",
      "STOP: TOTAL NO. of ITERATIONS REACHED LIMIT.\n",
      "\n",
      "Increase the number of iterations (max_iter) or scale the data as shown in:\n",
      "    https://scikit-learn.org/stable/modules/preprocessing.html\n",
      "Please also refer to the documentation for alternative solver options:\n",
      "    https://scikit-learn.org/stable/modules/linear_model.html#logistic-regression\n",
      "\n",
      "d:\\Programs\\Programming\\BSUIR\\IDA\\LR2\\.venv\\Lib\\site-packages\\sklearn\\linear_model\\_logistic.py:469: ConvergenceWarning:\n",
      "\n",
      "lbfgs failed to converge (status=1):\n",
      "STOP: TOTAL NO. of ITERATIONS REACHED LIMIT.\n",
      "\n",
      "Increase the number of iterations (max_iter) or scale the data as shown in:\n",
      "    https://scikit-learn.org/stable/modules/preprocessing.html\n",
      "Please also refer to the documentation for alternative solver options:\n",
      "    https://scikit-learn.org/stable/modules/linear_model.html#logistic-regression\n",
      "\n",
      "d:\\Programs\\Programming\\BSUIR\\IDA\\LR2\\.venv\\Lib\\site-packages\\sklearn\\linear_model\\_logistic.py:469: ConvergenceWarning:\n",
      "\n",
      "lbfgs failed to converge (status=1):\n",
      "STOP: TOTAL NO. of ITERATIONS REACHED LIMIT.\n",
      "\n",
      "Increase the number of iterations (max_iter) or scale the data as shown in:\n",
      "    https://scikit-learn.org/stable/modules/preprocessing.html\n",
      "Please also refer to the documentation for alternative solver options:\n",
      "    https://scikit-learn.org/stable/modules/linear_model.html#logistic-regression\n",
      "\n",
      "d:\\Programs\\Programming\\BSUIR\\IDA\\LR2\\.venv\\Lib\\site-packages\\sklearn\\linear_model\\_logistic.py:469: ConvergenceWarning:\n",
      "\n",
      "lbfgs failed to converge (status=1):\n",
      "STOP: TOTAL NO. of ITERATIONS REACHED LIMIT.\n",
      "\n",
      "Increase the number of iterations (max_iter) or scale the data as shown in:\n",
      "    https://scikit-learn.org/stable/modules/preprocessing.html\n",
      "Please also refer to the documentation for alternative solver options:\n",
      "    https://scikit-learn.org/stable/modules/linear_model.html#logistic-regression\n",
      "\n"
     ]
    },
    {
     "name": "stdout",
     "output_type": "stream",
     "text": [
      "              precision    recall  f1-score   support\n",
      "\n",
      "         0.0       0.96      1.00      0.98        52\n",
      "         1.0       1.00      0.96      0.98        50\n",
      "\n",
      "    accuracy                           0.98       102\n",
      "   macro avg       0.98      0.98      0.98       102\n",
      "weighted avg       0.98      0.98      0.98       102\n",
      "\n"
     ]
    },
    {
     "name": "stderr",
     "output_type": "stream",
     "text": [
      "d:\\Programs\\Programming\\BSUIR\\IDA\\LR2\\.venv\\Lib\\site-packages\\sklearn\\linear_model\\_logistic.py:469: ConvergenceWarning:\n",
      "\n",
      "lbfgs failed to converge (status=1):\n",
      "STOP: TOTAL NO. of ITERATIONS REACHED LIMIT.\n",
      "\n",
      "Increase the number of iterations (max_iter) or scale the data as shown in:\n",
      "    https://scikit-learn.org/stable/modules/preprocessing.html\n",
      "Please also refer to the documentation for alternative solver options:\n",
      "    https://scikit-learn.org/stable/modules/linear_model.html#logistic-regression\n",
      "\n",
      "d:\\Programs\\Programming\\BSUIR\\IDA\\LR2\\.venv\\Lib\\site-packages\\sklearn\\linear_model\\_logistic.py:469: ConvergenceWarning:\n",
      "\n",
      "lbfgs failed to converge (status=1):\n",
      "STOP: TOTAL NO. of ITERATIONS REACHED LIMIT.\n",
      "\n",
      "Increase the number of iterations (max_iter) or scale the data as shown in:\n",
      "    https://scikit-learn.org/stable/modules/preprocessing.html\n",
      "Please also refer to the documentation for alternative solver options:\n",
      "    https://scikit-learn.org/stable/modules/linear_model.html#logistic-regression\n",
      "\n"
     ]
    }
   ],
   "source": [
    "# Part 3 Task 1\n",
    "model = xgb.XGBClassifier()\n",
    "selected_features = list(rfe_feature_selection_general(body_df, 'sex', LogisticRegression()).keys())\n",
    "x = body_df[selected_features]\n",
    "y = body_df['sex']\n",
    "x_train, x_test, y_train, y_test = train_test_split(x, y, test_size=0.2, stratify=y)\n",
    "model.fit(x_train, y_train)\n",
    "pred = model.predict(x_test)\n",
    "print(classification_report(y_test, pred))"
   ]
  },
  {
   "cell_type": "code",
   "execution_count": 170,
   "metadata": {},
   "outputs": [],
   "source": [
    "# Part 3 Task 2\n",
    "def seq_feature_selection_general(df, target_col, estimator, percentile=0.5):\n",
    "    x = df.drop(target_col, axis=1)\n",
    "    y = df[target_col]    \n",
    "    model = SequentialFeatureSelector(estimator=estimator, n_features_to_select=percentile)\n",
    "    model.fit(x, y)\n",
    "    return {feature: True for feature in model.get_feature_names_out()}"
   ]
  },
  {
   "cell_type": "code",
   "execution_count": 171,
   "metadata": {},
   "outputs": [
    {
     "name": "stdout",
     "output_type": "stream",
     "text": [
      "              precision    recall  f1-score   support\n",
      "\n",
      "         0.0       0.98      0.98      0.98        52\n",
      "         1.0       0.98      0.98      0.98        50\n",
      "\n",
      "    accuracy                           0.98       102\n",
      "   macro avg       0.98      0.98      0.98       102\n",
      "weighted avg       0.98      0.98      0.98       102\n",
      "\n"
     ]
    }
   ],
   "source": [
    "# Part 3 Task 2\n",
    "model = xgb.XGBClassifier()\n",
    "selected_features = list(seq_feature_selection_general(body_df, 'sex', SVC(kernel='linear')).keys())\n",
    "x = body_df[selected_features]\n",
    "y = body_df['sex']\n",
    "x_train, x_test, y_train, y_test = train_test_split(x, y, test_size=0.2, stratify=y)\n",
    "model.fit(x_train, y_train)\n",
    "pred = model.predict(x_test)\n",
    "print(classification_report(y_test, pred))"
   ]
  },
  {
   "cell_type": "code",
   "execution_count": 173,
   "metadata": {},
   "outputs": [
    {
     "data": {
      "text/html": [
       "<div>\n",
       "<style scoped>\n",
       "    .dataframe tbody tr th:only-of-type {\n",
       "        vertical-align: middle;\n",
       "    }\n",
       "\n",
       "    .dataframe tbody tr th {\n",
       "        vertical-align: top;\n",
       "    }\n",
       "\n",
       "    .dataframe thead th {\n",
       "        text-align: right;\n",
       "    }\n",
       "</style>\n",
       "<table border=\"1\" class=\"dataframe\">\n",
       "  <thead>\n",
       "    <tr style=\"text-align: right;\">\n",
       "      <th></th>\n",
       "      <th>train-auc-mean</th>\n",
       "      <th>train-auc-std</th>\n",
       "      <th>test-auc-mean</th>\n",
       "      <th>test-auc-std</th>\n",
       "    </tr>\n",
       "  </thead>\n",
       "  <tbody>\n",
       "    <tr>\n",
       "      <th>40</th>\n",
       "      <td>0.994054</td>\n",
       "      <td>0.000623</td>\n",
       "      <td>0.983727</td>\n",
       "      <td>0.004057</td>\n",
       "    </tr>\n",
       "    <tr>\n",
       "      <th>41</th>\n",
       "      <td>0.994194</td>\n",
       "      <td>0.000576</td>\n",
       "      <td>0.983680</td>\n",
       "      <td>0.004008</td>\n",
       "    </tr>\n",
       "    <tr>\n",
       "      <th>42</th>\n",
       "      <td>0.994159</td>\n",
       "      <td>0.000600</td>\n",
       "      <td>0.983773</td>\n",
       "      <td>0.003882</td>\n",
       "    </tr>\n",
       "    <tr>\n",
       "      <th>43</th>\n",
       "      <td>0.994159</td>\n",
       "      <td>0.000600</td>\n",
       "      <td>0.983773</td>\n",
       "      <td>0.003882</td>\n",
       "    </tr>\n",
       "    <tr>\n",
       "      <th>44</th>\n",
       "      <td>0.994194</td>\n",
       "      <td>0.000623</td>\n",
       "      <td>0.983866</td>\n",
       "      <td>0.003991</td>\n",
       "    </tr>\n",
       "    <tr>\n",
       "      <th>45</th>\n",
       "      <td>0.994369</td>\n",
       "      <td>0.000673</td>\n",
       "      <td>0.984287</td>\n",
       "      <td>0.003800</td>\n",
       "    </tr>\n",
       "    <tr>\n",
       "      <th>46</th>\n",
       "      <td>0.994358</td>\n",
       "      <td>0.000666</td>\n",
       "      <td>0.984287</td>\n",
       "      <td>0.003800</td>\n",
       "    </tr>\n",
       "    <tr>\n",
       "      <th>47</th>\n",
       "      <td>0.994439</td>\n",
       "      <td>0.000723</td>\n",
       "      <td>0.984427</td>\n",
       "      <td>0.003770</td>\n",
       "    </tr>\n",
       "    <tr>\n",
       "      <th>48</th>\n",
       "      <td>0.994498</td>\n",
       "      <td>0.000744</td>\n",
       "      <td>0.984568</td>\n",
       "      <td>0.004073</td>\n",
       "    </tr>\n",
       "    <tr>\n",
       "      <th>49</th>\n",
       "      <td>0.994498</td>\n",
       "      <td>0.000722</td>\n",
       "      <td>0.984615</td>\n",
       "      <td>0.004009</td>\n",
       "    </tr>\n",
       "  </tbody>\n",
       "</table>\n",
       "</div>"
      ],
      "text/plain": [
       "    train-auc-mean  train-auc-std  test-auc-mean  test-auc-std\n",
       "40        0.994054       0.000623       0.983727      0.004057\n",
       "41        0.994194       0.000576       0.983680      0.004008\n",
       "42        0.994159       0.000600       0.983773      0.003882\n",
       "43        0.994159       0.000600       0.983773      0.003882\n",
       "44        0.994194       0.000623       0.983866      0.003991\n",
       "45        0.994369       0.000673       0.984287      0.003800\n",
       "46        0.994358       0.000666       0.984287      0.003800\n",
       "47        0.994439       0.000723       0.984427      0.003770\n",
       "48        0.994498       0.000744       0.984568      0.004073\n",
       "49        0.994498       0.000722       0.984615      0.004009"
      ]
     },
     "execution_count": 173,
     "metadata": {},
     "output_type": "execute_result"
    }
   ],
   "source": [
    "# Part 3 Task 3\n",
    "selected_features = list(seq_feature_selection_general(body_df, 'sex', SVC(kernel='linear')).keys())\n",
    "x = body_df[selected_features]\n",
    "y = body_df['sex']\n",
    "params = {'objective':'binary:logistic',\n",
    "          'colsample_bytree': 0.3,\n",
    "          'learning_rate': 0.1,\n",
    "          'max_depth': 5,\n",
    "          'alpha': 10}\n",
    "xgb_matrix = xgb.DMatrix(data=x, label=y)\n",
    "xgb_cv = xgb.cv(dtrain=xgb_matrix, params=params, nfold=3,\n",
    "                num_boost_round=50, early_stopping_rounds=10, metrics=\"auc\", as_pandas=True, seed=123)\n",
    "xgb_cv.tail(10)\n",
    "# Pretty good hyperparameters and feature selection because auc is good\n",
    "# But that is not unusual as this dataset is very simple with clean data"
   ]
  },
  {
   "cell_type": "code",
   "execution_count": null,
   "metadata": {},
   "outputs": [],
   "source": [
    "# There are pretty many examples for Part 3 Task 4, 5"
   ]
  },
  {
   "cell_type": "code",
   "execution_count": 182,
   "metadata": {},
   "outputs": [
    {
     "data": {
      "text/html": [
       "<div>\n",
       "<style scoped>\n",
       "    .dataframe tbody tr th:only-of-type {\n",
       "        vertical-align: middle;\n",
       "    }\n",
       "\n",
       "    .dataframe tbody tr th {\n",
       "        vertical-align: top;\n",
       "    }\n",
       "\n",
       "    .dataframe thead th {\n",
       "        text-align: right;\n",
       "    }\n",
       "</style>\n",
       "<table border=\"1\" class=\"dataframe\">\n",
       "  <thead>\n",
       "    <tr style=\"text-align: right;\">\n",
       "      <th></th>\n",
       "      <th>PC_0</th>\n",
       "      <th>PC_1</th>\n",
       "      <th>PC_2</th>\n",
       "      <th>PC_3</th>\n",
       "      <th>PC_4</th>\n",
       "      <th>sex</th>\n",
       "    </tr>\n",
       "  </thead>\n",
       "  <tbody>\n",
       "    <tr>\n",
       "      <th>0</th>\n",
       "      <td>-10.490298</td>\n",
       "      <td>-13.659059</td>\n",
       "      <td>-2.865011</td>\n",
       "      <td>-0.705562</td>\n",
       "      <td>0.745252</td>\n",
       "      <td>True</td>\n",
       "    </tr>\n",
       "    <tr>\n",
       "      <th>1</th>\n",
       "      <td>5.823066</td>\n",
       "      <td>-9.048384</td>\n",
       "      <td>-0.550563</td>\n",
       "      <td>0.561438</td>\n",
       "      <td>-4.259364</td>\n",
       "      <td>True</td>\n",
       "    </tr>\n",
       "    <tr>\n",
       "      <th>2</th>\n",
       "      <td>18.646961</td>\n",
       "      <td>-14.379482</td>\n",
       "      <td>-7.898175</td>\n",
       "      <td>-11.558640</td>\n",
       "      <td>-1.388464</td>\n",
       "      <td>True</td>\n",
       "    </tr>\n",
       "    <tr>\n",
       "      <th>3</th>\n",
       "      <td>3.264429</td>\n",
       "      <td>-14.930076</td>\n",
       "      <td>-5.264511</td>\n",
       "      <td>-9.780748</td>\n",
       "      <td>-4.167361</td>\n",
       "      <td>True</td>\n",
       "    </tr>\n",
       "    <tr>\n",
       "      <th>4</th>\n",
       "      <td>11.998789</td>\n",
       "      <td>-14.640156</td>\n",
       "      <td>-0.422695</td>\n",
       "      <td>-10.526607</td>\n",
       "      <td>-1.781660</td>\n",
       "      <td>True</td>\n",
       "    </tr>\n",
       "    <tr>\n",
       "      <th>5</th>\n",
       "      <td>13.116381</td>\n",
       "      <td>-17.191444</td>\n",
       "      <td>-3.242018</td>\n",
       "      <td>1.854384</td>\n",
       "      <td>-0.421257</td>\n",
       "      <td>True</td>\n",
       "    </tr>\n",
       "    <tr>\n",
       "      <th>6</th>\n",
       "      <td>29.911921</td>\n",
       "      <td>-15.348237</td>\n",
       "      <td>-1.875510</td>\n",
       "      <td>0.271622</td>\n",
       "      <td>7.993347</td>\n",
       "      <td>True</td>\n",
       "    </tr>\n",
       "    <tr>\n",
       "      <th>7</th>\n",
       "      <td>16.656044</td>\n",
       "      <td>-14.988888</td>\n",
       "      <td>-6.693347</td>\n",
       "      <td>-2.883872</td>\n",
       "      <td>4.958083</td>\n",
       "      <td>True</td>\n",
       "    </tr>\n",
       "    <tr>\n",
       "      <th>8</th>\n",
       "      <td>-13.338402</td>\n",
       "      <td>-17.081836</td>\n",
       "      <td>-10.139796</td>\n",
       "      <td>1.818015</td>\n",
       "      <td>3.529042</td>\n",
       "      <td>True</td>\n",
       "    </tr>\n",
       "    <tr>\n",
       "      <th>9</th>\n",
       "      <td>15.322727</td>\n",
       "      <td>-17.308233</td>\n",
       "      <td>1.481761</td>\n",
       "      <td>-5.697221</td>\n",
       "      <td>6.250296</td>\n",
       "      <td>True</td>\n",
       "    </tr>\n",
       "  </tbody>\n",
       "</table>\n",
       "</div>"
      ],
      "text/plain": [
       "        PC_0       PC_1       PC_2       PC_3      PC_4   sex\n",
       "0 -10.490298 -13.659059  -2.865011  -0.705562  0.745252  True\n",
       "1   5.823066  -9.048384  -0.550563   0.561438 -4.259364  True\n",
       "2  18.646961 -14.379482  -7.898175 -11.558640 -1.388464  True\n",
       "3   3.264429 -14.930076  -5.264511  -9.780748 -4.167361  True\n",
       "4  11.998789 -14.640156  -0.422695 -10.526607 -1.781660  True\n",
       "5  13.116381 -17.191444  -3.242018   1.854384 -0.421257  True\n",
       "6  29.911921 -15.348237  -1.875510   0.271622  7.993347  True\n",
       "7  16.656044 -14.988888  -6.693347  -2.883872  4.958083  True\n",
       "8 -13.338402 -17.081836 -10.139796   1.818015  3.529042  True\n",
       "9  15.322727 -17.308233   1.481761  -5.697221  6.250296  True"
      ]
     },
     "execution_count": 182,
     "metadata": {},
     "output_type": "execute_result"
    }
   ],
   "source": [
    "# Part 4 Task 1\n",
    "pca = PCA(n_components=5)\n",
    "x = pca.fit_transform(body_df.drop('sex', axis=1))\n",
    "pca_df = pd.DataFrame(data=x, columns=[f'PC_{i}' for i in range(x.shape[1])])\n",
    "pca_df = pd.concat([pca_df, body_df['sex']], axis=1)\n",
    "pca_df.head(10)"
   ]
  },
  {
   "cell_type": "code",
   "execution_count": 183,
   "metadata": {},
   "outputs": [
    {
     "data": {
      "application/vnd.plotly.v1+json": {
       "config": {
        "plotlyServerURL": "https://plot.ly"
       },
       "data": [
        {
         "coloraxis": "coloraxis",
         "hovertemplate": "x: %{x}<br>y: %{y}<br>color: %{z}<extra></extra>",
         "name": "0",
         "texttemplate": "%{z}",
         "type": "heatmap",
         "x": [
          "PC_0",
          "PC_1",
          "PC_2",
          "PC_3",
          "PC_4",
          "sex"
         ],
         "xaxis": "x",
         "y": [
          "PC_0",
          "PC_1",
          "PC_2",
          "PC_3",
          "PC_4",
          "sex"
         ],
         "yaxis": "y",
         "z": [
          [
           1,
           -1.1988838232763592e-16,
           1.0144963782342545e-16,
           -1.9421708176994368e-17,
           -1.0200574299878245e-17,
           0.6916249817889918
          ],
          [
           -1.1988838232763592e-16,
           1,
           2.6543254855075502e-17,
           -1.486943577729296e-17,
           4.7986211809630797e-17,
           -0.3451716698490311
          ],
          [
           1.0144963782342545e-16,
           2.6543254855075502e-17,
           1,
           1.2635449339690662e-16,
           -6.666113086353426e-17,
           -0.4457372404125101
          ],
          [
           -1.9421708176994368e-17,
           -1.486943577729296e-17,
           1.2635449339690662e-16,
           1,
           -5.4947625739511724e-18,
           0.1334181090139048
          ],
          [
           -1.0200574299878245e-17,
           4.7986211809630797e-17,
           -6.666113086353426e-17,
           -5.4947625739511724e-18,
           1,
           -0.108291668870622
          ],
          [
           0.6916249817889918,
           -0.3451716698490311,
           -0.4457372404125101,
           0.1334181090139048,
           -0.108291668870622,
           1
          ]
         ]
        }
       ],
       "layout": {
        "coloraxis": {
         "colorscale": [
          [
           0,
           "#0d0887"
          ],
          [
           0.1111111111111111,
           "#46039f"
          ],
          [
           0.2222222222222222,
           "#7201a8"
          ],
          [
           0.3333333333333333,
           "#9c179e"
          ],
          [
           0.4444444444444444,
           "#bd3786"
          ],
          [
           0.5555555555555556,
           "#d8576b"
          ],
          [
           0.6666666666666666,
           "#ed7953"
          ],
          [
           0.7777777777777778,
           "#fb9f3a"
          ],
          [
           0.8888888888888888,
           "#fdca26"
          ],
          [
           1,
           "#f0f921"
          ]
         ]
        },
        "margin": {
         "t": 60
        },
        "template": {
         "data": {
          "bar": [
           {
            "error_x": {
             "color": "#2a3f5f"
            },
            "error_y": {
             "color": "#2a3f5f"
            },
            "marker": {
             "line": {
              "color": "#E5ECF6",
              "width": 0.5
             },
             "pattern": {
              "fillmode": "overlay",
              "size": 10,
              "solidity": 0.2
             }
            },
            "type": "bar"
           }
          ],
          "barpolar": [
           {
            "marker": {
             "line": {
              "color": "#E5ECF6",
              "width": 0.5
             },
             "pattern": {
              "fillmode": "overlay",
              "size": 10,
              "solidity": 0.2
             }
            },
            "type": "barpolar"
           }
          ],
          "carpet": [
           {
            "aaxis": {
             "endlinecolor": "#2a3f5f",
             "gridcolor": "white",
             "linecolor": "white",
             "minorgridcolor": "white",
             "startlinecolor": "#2a3f5f"
            },
            "baxis": {
             "endlinecolor": "#2a3f5f",
             "gridcolor": "white",
             "linecolor": "white",
             "minorgridcolor": "white",
             "startlinecolor": "#2a3f5f"
            },
            "type": "carpet"
           }
          ],
          "choropleth": [
           {
            "colorbar": {
             "outlinewidth": 0,
             "ticks": ""
            },
            "type": "choropleth"
           }
          ],
          "contour": [
           {
            "colorbar": {
             "outlinewidth": 0,
             "ticks": ""
            },
            "colorscale": [
             [
              0,
              "#0d0887"
             ],
             [
              0.1111111111111111,
              "#46039f"
             ],
             [
              0.2222222222222222,
              "#7201a8"
             ],
             [
              0.3333333333333333,
              "#9c179e"
             ],
             [
              0.4444444444444444,
              "#bd3786"
             ],
             [
              0.5555555555555556,
              "#d8576b"
             ],
             [
              0.6666666666666666,
              "#ed7953"
             ],
             [
              0.7777777777777778,
              "#fb9f3a"
             ],
             [
              0.8888888888888888,
              "#fdca26"
             ],
             [
              1,
              "#f0f921"
             ]
            ],
            "type": "contour"
           }
          ],
          "contourcarpet": [
           {
            "colorbar": {
             "outlinewidth": 0,
             "ticks": ""
            },
            "type": "contourcarpet"
           }
          ],
          "heatmap": [
           {
            "colorbar": {
             "outlinewidth": 0,
             "ticks": ""
            },
            "colorscale": [
             [
              0,
              "#0d0887"
             ],
             [
              0.1111111111111111,
              "#46039f"
             ],
             [
              0.2222222222222222,
              "#7201a8"
             ],
             [
              0.3333333333333333,
              "#9c179e"
             ],
             [
              0.4444444444444444,
              "#bd3786"
             ],
             [
              0.5555555555555556,
              "#d8576b"
             ],
             [
              0.6666666666666666,
              "#ed7953"
             ],
             [
              0.7777777777777778,
              "#fb9f3a"
             ],
             [
              0.8888888888888888,
              "#fdca26"
             ],
             [
              1,
              "#f0f921"
             ]
            ],
            "type": "heatmap"
           }
          ],
          "heatmapgl": [
           {
            "colorbar": {
             "outlinewidth": 0,
             "ticks": ""
            },
            "colorscale": [
             [
              0,
              "#0d0887"
             ],
             [
              0.1111111111111111,
              "#46039f"
             ],
             [
              0.2222222222222222,
              "#7201a8"
             ],
             [
              0.3333333333333333,
              "#9c179e"
             ],
             [
              0.4444444444444444,
              "#bd3786"
             ],
             [
              0.5555555555555556,
              "#d8576b"
             ],
             [
              0.6666666666666666,
              "#ed7953"
             ],
             [
              0.7777777777777778,
              "#fb9f3a"
             ],
             [
              0.8888888888888888,
              "#fdca26"
             ],
             [
              1,
              "#f0f921"
             ]
            ],
            "type": "heatmapgl"
           }
          ],
          "histogram": [
           {
            "marker": {
             "pattern": {
              "fillmode": "overlay",
              "size": 10,
              "solidity": 0.2
             }
            },
            "type": "histogram"
           }
          ],
          "histogram2d": [
           {
            "colorbar": {
             "outlinewidth": 0,
             "ticks": ""
            },
            "colorscale": [
             [
              0,
              "#0d0887"
             ],
             [
              0.1111111111111111,
              "#46039f"
             ],
             [
              0.2222222222222222,
              "#7201a8"
             ],
             [
              0.3333333333333333,
              "#9c179e"
             ],
             [
              0.4444444444444444,
              "#bd3786"
             ],
             [
              0.5555555555555556,
              "#d8576b"
             ],
             [
              0.6666666666666666,
              "#ed7953"
             ],
             [
              0.7777777777777778,
              "#fb9f3a"
             ],
             [
              0.8888888888888888,
              "#fdca26"
             ],
             [
              1,
              "#f0f921"
             ]
            ],
            "type": "histogram2d"
           }
          ],
          "histogram2dcontour": [
           {
            "colorbar": {
             "outlinewidth": 0,
             "ticks": ""
            },
            "colorscale": [
             [
              0,
              "#0d0887"
             ],
             [
              0.1111111111111111,
              "#46039f"
             ],
             [
              0.2222222222222222,
              "#7201a8"
             ],
             [
              0.3333333333333333,
              "#9c179e"
             ],
             [
              0.4444444444444444,
              "#bd3786"
             ],
             [
              0.5555555555555556,
              "#d8576b"
             ],
             [
              0.6666666666666666,
              "#ed7953"
             ],
             [
              0.7777777777777778,
              "#fb9f3a"
             ],
             [
              0.8888888888888888,
              "#fdca26"
             ],
             [
              1,
              "#f0f921"
             ]
            ],
            "type": "histogram2dcontour"
           }
          ],
          "mesh3d": [
           {
            "colorbar": {
             "outlinewidth": 0,
             "ticks": ""
            },
            "type": "mesh3d"
           }
          ],
          "parcoords": [
           {
            "line": {
             "colorbar": {
              "outlinewidth": 0,
              "ticks": ""
             }
            },
            "type": "parcoords"
           }
          ],
          "pie": [
           {
            "automargin": true,
            "type": "pie"
           }
          ],
          "scatter": [
           {
            "fillpattern": {
             "fillmode": "overlay",
             "size": 10,
             "solidity": 0.2
            },
            "type": "scatter"
           }
          ],
          "scatter3d": [
           {
            "line": {
             "colorbar": {
              "outlinewidth": 0,
              "ticks": ""
             }
            },
            "marker": {
             "colorbar": {
              "outlinewidth": 0,
              "ticks": ""
             }
            },
            "type": "scatter3d"
           }
          ],
          "scattercarpet": [
           {
            "marker": {
             "colorbar": {
              "outlinewidth": 0,
              "ticks": ""
             }
            },
            "type": "scattercarpet"
           }
          ],
          "scattergeo": [
           {
            "marker": {
             "colorbar": {
              "outlinewidth": 0,
              "ticks": ""
             }
            },
            "type": "scattergeo"
           }
          ],
          "scattergl": [
           {
            "marker": {
             "colorbar": {
              "outlinewidth": 0,
              "ticks": ""
             }
            },
            "type": "scattergl"
           }
          ],
          "scattermapbox": [
           {
            "marker": {
             "colorbar": {
              "outlinewidth": 0,
              "ticks": ""
             }
            },
            "type": "scattermapbox"
           }
          ],
          "scatterpolar": [
           {
            "marker": {
             "colorbar": {
              "outlinewidth": 0,
              "ticks": ""
             }
            },
            "type": "scatterpolar"
           }
          ],
          "scatterpolargl": [
           {
            "marker": {
             "colorbar": {
              "outlinewidth": 0,
              "ticks": ""
             }
            },
            "type": "scatterpolargl"
           }
          ],
          "scatterternary": [
           {
            "marker": {
             "colorbar": {
              "outlinewidth": 0,
              "ticks": ""
             }
            },
            "type": "scatterternary"
           }
          ],
          "surface": [
           {
            "colorbar": {
             "outlinewidth": 0,
             "ticks": ""
            },
            "colorscale": [
             [
              0,
              "#0d0887"
             ],
             [
              0.1111111111111111,
              "#46039f"
             ],
             [
              0.2222222222222222,
              "#7201a8"
             ],
             [
              0.3333333333333333,
              "#9c179e"
             ],
             [
              0.4444444444444444,
              "#bd3786"
             ],
             [
              0.5555555555555556,
              "#d8576b"
             ],
             [
              0.6666666666666666,
              "#ed7953"
             ],
             [
              0.7777777777777778,
              "#fb9f3a"
             ],
             [
              0.8888888888888888,
              "#fdca26"
             ],
             [
              1,
              "#f0f921"
             ]
            ],
            "type": "surface"
           }
          ],
          "table": [
           {
            "cells": {
             "fill": {
              "color": "#EBF0F8"
             },
             "line": {
              "color": "white"
             }
            },
            "header": {
             "fill": {
              "color": "#C8D4E3"
             },
             "line": {
              "color": "white"
             }
            },
            "type": "table"
           }
          ]
         },
         "layout": {
          "annotationdefaults": {
           "arrowcolor": "#2a3f5f",
           "arrowhead": 0,
           "arrowwidth": 1
          },
          "autotypenumbers": "strict",
          "coloraxis": {
           "colorbar": {
            "outlinewidth": 0,
            "ticks": ""
           }
          },
          "colorscale": {
           "diverging": [
            [
             0,
             "#8e0152"
            ],
            [
             0.1,
             "#c51b7d"
            ],
            [
             0.2,
             "#de77ae"
            ],
            [
             0.3,
             "#f1b6da"
            ],
            [
             0.4,
             "#fde0ef"
            ],
            [
             0.5,
             "#f7f7f7"
            ],
            [
             0.6,
             "#e6f5d0"
            ],
            [
             0.7,
             "#b8e186"
            ],
            [
             0.8,
             "#7fbc41"
            ],
            [
             0.9,
             "#4d9221"
            ],
            [
             1,
             "#276419"
            ]
           ],
           "sequential": [
            [
             0,
             "#0d0887"
            ],
            [
             0.1111111111111111,
             "#46039f"
            ],
            [
             0.2222222222222222,
             "#7201a8"
            ],
            [
             0.3333333333333333,
             "#9c179e"
            ],
            [
             0.4444444444444444,
             "#bd3786"
            ],
            [
             0.5555555555555556,
             "#d8576b"
            ],
            [
             0.6666666666666666,
             "#ed7953"
            ],
            [
             0.7777777777777778,
             "#fb9f3a"
            ],
            [
             0.8888888888888888,
             "#fdca26"
            ],
            [
             1,
             "#f0f921"
            ]
           ],
           "sequentialminus": [
            [
             0,
             "#0d0887"
            ],
            [
             0.1111111111111111,
             "#46039f"
            ],
            [
             0.2222222222222222,
             "#7201a8"
            ],
            [
             0.3333333333333333,
             "#9c179e"
            ],
            [
             0.4444444444444444,
             "#bd3786"
            ],
            [
             0.5555555555555556,
             "#d8576b"
            ],
            [
             0.6666666666666666,
             "#ed7953"
            ],
            [
             0.7777777777777778,
             "#fb9f3a"
            ],
            [
             0.8888888888888888,
             "#fdca26"
            ],
            [
             1,
             "#f0f921"
            ]
           ]
          },
          "colorway": [
           "#636efa",
           "#EF553B",
           "#00cc96",
           "#ab63fa",
           "#FFA15A",
           "#19d3f3",
           "#FF6692",
           "#B6E880",
           "#FF97FF",
           "#FECB52"
          ],
          "font": {
           "color": "#2a3f5f"
          },
          "geo": {
           "bgcolor": "white",
           "lakecolor": "white",
           "landcolor": "#E5ECF6",
           "showlakes": true,
           "showland": true,
           "subunitcolor": "white"
          },
          "hoverlabel": {
           "align": "left"
          },
          "hovermode": "closest",
          "mapbox": {
           "style": "light"
          },
          "paper_bgcolor": "white",
          "plot_bgcolor": "#E5ECF6",
          "polar": {
           "angularaxis": {
            "gridcolor": "white",
            "linecolor": "white",
            "ticks": ""
           },
           "bgcolor": "#E5ECF6",
           "radialaxis": {
            "gridcolor": "white",
            "linecolor": "white",
            "ticks": ""
           }
          },
          "scene": {
           "xaxis": {
            "backgroundcolor": "#E5ECF6",
            "gridcolor": "white",
            "gridwidth": 2,
            "linecolor": "white",
            "showbackground": true,
            "ticks": "",
            "zerolinecolor": "white"
           },
           "yaxis": {
            "backgroundcolor": "#E5ECF6",
            "gridcolor": "white",
            "gridwidth": 2,
            "linecolor": "white",
            "showbackground": true,
            "ticks": "",
            "zerolinecolor": "white"
           },
           "zaxis": {
            "backgroundcolor": "#E5ECF6",
            "gridcolor": "white",
            "gridwidth": 2,
            "linecolor": "white",
            "showbackground": true,
            "ticks": "",
            "zerolinecolor": "white"
           }
          },
          "shapedefaults": {
           "line": {
            "color": "#2a3f5f"
           }
          },
          "ternary": {
           "aaxis": {
            "gridcolor": "white",
            "linecolor": "white",
            "ticks": ""
           },
           "baxis": {
            "gridcolor": "white",
            "linecolor": "white",
            "ticks": ""
           },
           "bgcolor": "#E5ECF6",
           "caxis": {
            "gridcolor": "white",
            "linecolor": "white",
            "ticks": ""
           }
          },
          "title": {
           "x": 0.05
          },
          "xaxis": {
           "automargin": true,
           "gridcolor": "white",
           "linecolor": "white",
           "ticks": "",
           "title": {
            "standoff": 15
           },
           "zerolinecolor": "white",
           "zerolinewidth": 2
          },
          "yaxis": {
           "automargin": true,
           "gridcolor": "white",
           "linecolor": "white",
           "ticks": "",
           "title": {
            "standoff": 15
           },
           "zerolinecolor": "white",
           "zerolinewidth": 2
          }
         }
        },
        "xaxis": {
         "anchor": "y",
         "domain": [
          0,
          1
         ]
        },
        "yaxis": {
         "anchor": "x",
         "autorange": "reversed",
         "domain": [
          0,
          1
         ]
        }
       }
      }
     },
     "metadata": {},
     "output_type": "display_data"
    }
   ],
   "source": [
    "fig = px.imshow(\n",
    "    pca_df.corr(), text_auto=True, aspect='auto'\n",
    ")\n",
    "fig.show()"
   ]
  },
  {
   "cell_type": "code",
   "execution_count": 187,
   "metadata": {},
   "outputs": [
    {
     "name": "stdout",
     "output_type": "stream",
     "text": [
      "              precision    recall  f1-score   support\n",
      "\n",
      "         0.0       0.94      0.98      0.96        52\n",
      "         1.0       0.98      0.94      0.96        50\n",
      "\n",
      "    accuracy                           0.96       102\n",
      "   macro avg       0.96      0.96      0.96       102\n",
      "weighted avg       0.96      0.96      0.96       102\n",
      "\n"
     ]
    }
   ],
   "source": [
    "# Part 4 Task 1 prediction\n",
    "model = xgb.XGBClassifier()\n",
    "x = pca_df.drop('sex', axis=1)\n",
    "y = pca_df['sex']\n",
    "x_train, x_test, y_train, y_test = train_test_split(x, y, test_size=0.2, stratify=y)\n",
    "model.fit(x_train, y_train)\n",
    "pred = model.predict(x_test)\n",
    "print(classification_report(y_test, pred))"
   ]
  },
  {
   "cell_type": "code",
   "execution_count": 185,
   "metadata": {},
   "outputs": [
    {
     "data": {
      "text/html": [
       "<div>\n",
       "<style scoped>\n",
       "    .dataframe tbody tr th:only-of-type {\n",
       "        vertical-align: middle;\n",
       "    }\n",
       "\n",
       "    .dataframe tbody tr th {\n",
       "        vertical-align: top;\n",
       "    }\n",
       "\n",
       "    .dataframe thead th {\n",
       "        text-align: right;\n",
       "    }\n",
       "</style>\n",
       "<table border=\"1\" class=\"dataframe\">\n",
       "  <thead>\n",
       "    <tr style=\"text-align: right;\">\n",
       "      <th></th>\n",
       "      <th>FCT_0</th>\n",
       "      <th>FCT_1</th>\n",
       "      <th>FCT_2</th>\n",
       "      <th>FCT_3</th>\n",
       "      <th>FCT_4</th>\n",
       "      <th>sex</th>\n",
       "    </tr>\n",
       "  </thead>\n",
       "  <tbody>\n",
       "    <tr>\n",
       "      <th>0</th>\n",
       "      <td>-0.221462</td>\n",
       "      <td>-1.090733</td>\n",
       "      <td>-0.819623</td>\n",
       "      <td>-0.063725</td>\n",
       "      <td>0.307778</td>\n",
       "      <td>True</td>\n",
       "    </tr>\n",
       "    <tr>\n",
       "      <th>1</th>\n",
       "      <td>0.414076</td>\n",
       "      <td>-1.197151</td>\n",
       "      <td>-0.670763</td>\n",
       "      <td>-0.581306</td>\n",
       "      <td>-0.811410</td>\n",
       "      <td>True</td>\n",
       "    </tr>\n",
       "    <tr>\n",
       "      <th>2</th>\n",
       "      <td>0.707939</td>\n",
       "      <td>-0.613972</td>\n",
       "      <td>-0.590315</td>\n",
       "      <td>-0.403670</td>\n",
       "      <td>1.463259</td>\n",
       "      <td>True</td>\n",
       "    </tr>\n",
       "    <tr>\n",
       "      <th>3</th>\n",
       "      <td>0.206736</td>\n",
       "      <td>-0.868786</td>\n",
       "      <td>-1.027632</td>\n",
       "      <td>-1.693469</td>\n",
       "      <td>0.549782</td>\n",
       "      <td>True</td>\n",
       "    </tr>\n",
       "    <tr>\n",
       "      <th>4</th>\n",
       "      <td>0.701544</td>\n",
       "      <td>-0.654559</td>\n",
       "      <td>-1.604080</td>\n",
       "      <td>-1.255173</td>\n",
       "      <td>-0.124161</td>\n",
       "      <td>True</td>\n",
       "    </tr>\n",
       "    <tr>\n",
       "      <th>5</th>\n",
       "      <td>0.542622</td>\n",
       "      <td>-0.880815</td>\n",
       "      <td>-0.344529</td>\n",
       "      <td>0.355252</td>\n",
       "      <td>1.354393</td>\n",
       "      <td>True</td>\n",
       "    </tr>\n",
       "    <tr>\n",
       "      <th>6</th>\n",
       "      <td>1.626882</td>\n",
       "      <td>-1.013501</td>\n",
       "      <td>-1.663049</td>\n",
       "      <td>1.558841</td>\n",
       "      <td>-0.766149</td>\n",
       "      <td>True</td>\n",
       "    </tr>\n",
       "    <tr>\n",
       "      <th>7</th>\n",
       "      <td>0.810047</td>\n",
       "      <td>-0.967865</td>\n",
       "      <td>-1.176365</td>\n",
       "      <td>-0.517873</td>\n",
       "      <td>0.329133</td>\n",
       "      <td>True</td>\n",
       "    </tr>\n",
       "    <tr>\n",
       "      <th>8</th>\n",
       "      <td>-0.317620</td>\n",
       "      <td>-1.800342</td>\n",
       "      <td>-1.065672</td>\n",
       "      <td>0.077525</td>\n",
       "      <td>0.192501</td>\n",
       "      <td>True</td>\n",
       "    </tr>\n",
       "    <tr>\n",
       "      <th>9</th>\n",
       "      <td>0.897955</td>\n",
       "      <td>-0.394139</td>\n",
       "      <td>-1.942368</td>\n",
       "      <td>0.249758</td>\n",
       "      <td>0.172522</td>\n",
       "      <td>True</td>\n",
       "    </tr>\n",
       "  </tbody>\n",
       "</table>\n",
       "</div>"
      ],
      "text/plain": [
       "      FCT_0     FCT_1     FCT_2     FCT_3     FCT_4   sex\n",
       "0 -0.221462 -1.090733 -0.819623 -0.063725  0.307778  True\n",
       "1  0.414076 -1.197151 -0.670763 -0.581306 -0.811410  True\n",
       "2  0.707939 -0.613972 -0.590315 -0.403670  1.463259  True\n",
       "3  0.206736 -0.868786 -1.027632 -1.693469  0.549782  True\n",
       "4  0.701544 -0.654559 -1.604080 -1.255173 -0.124161  True\n",
       "5  0.542622 -0.880815 -0.344529  0.355252  1.354393  True\n",
       "6  1.626882 -1.013501 -1.663049  1.558841 -0.766149  True\n",
       "7  0.810047 -0.967865 -1.176365 -0.517873  0.329133  True\n",
       "8 -0.317620 -1.800342 -1.065672  0.077525  0.192501  True\n",
       "9  0.897955 -0.394139 -1.942368  0.249758  0.172522  True"
      ]
     },
     "execution_count": 185,
     "metadata": {},
     "output_type": "execute_result"
    }
   ],
   "source": [
    "# Part 4 Task 2\n",
    "fct_analysis = FactorAnalysis(n_components=5)\n",
    "x = fct_analysis.fit_transform(body_df.drop('sex', axis=1))\n",
    "fct_df = pd.DataFrame(data=x, columns=[f'FCT_{i}' for i in range(x.shape[1])])\n",
    "fct_df = pd.concat([fct_df, body_df['sex']], axis=1)\n",
    "fct_df.head(10)"
   ]
  },
  {
   "cell_type": "code",
   "execution_count": 186,
   "metadata": {},
   "outputs": [
    {
     "data": {
      "application/vnd.plotly.v1+json": {
       "config": {
        "plotlyServerURL": "https://plot.ly"
       },
       "data": [
        {
         "coloraxis": "coloraxis",
         "hovertemplate": "x: %{x}<br>y: %{y}<br>color: %{z}<extra></extra>",
         "name": "0",
         "texttemplate": "%{z}",
         "type": "heatmap",
         "x": [
          "FCT_0",
          "FCT_1",
          "FCT_2",
          "FCT_3",
          "FCT_4",
          "sex"
         ],
         "xaxis": "x",
         "y": [
          "FCT_0",
          "FCT_1",
          "FCT_2",
          "FCT_3",
          "FCT_4",
          "sex"
         ],
         "yaxis": "y",
         "z": [
          [
           1,
           5.362609669992735e-14,
           -7.930760624354231e-13,
           -2.3406805367723585e-12,
           2.3757195109956802e-11,
           0.7139612776366668
          ],
          [
           5.362609669992735e-14,
           1,
           -4.897221498553612e-9,
           -1.4779105253853076e-9,
           1.0317627718144587e-7,
           -0.5635556928707415
          ],
          [
           -7.930760624354231e-13,
           -4.897221498553612e-9,
           1,
           -3.047507092392782e-8,
           -0.0000015897187646536908,
           0.04525432104377391
          ],
          [
           -2.3406805367723585e-12,
           -1.4779105253853076e-9,
           -3.047507092392782e-8,
           1,
           -1.209138520458145e-7,
           -0.06657921543526958
          ],
          [
           2.3757195109956802e-11,
           1.0317627718144587e-7,
           -0.0000015897187646536908,
           -1.209138520458145e-7,
           1,
           0.05198354603913747
          ],
          [
           0.7139612776366668,
           -0.5635556928707415,
           0.04525432104377391,
           -0.06657921543526958,
           0.05198354603913747,
           1
          ]
         ]
        }
       ],
       "layout": {
        "coloraxis": {
         "colorscale": [
          [
           0,
           "#0d0887"
          ],
          [
           0.1111111111111111,
           "#46039f"
          ],
          [
           0.2222222222222222,
           "#7201a8"
          ],
          [
           0.3333333333333333,
           "#9c179e"
          ],
          [
           0.4444444444444444,
           "#bd3786"
          ],
          [
           0.5555555555555556,
           "#d8576b"
          ],
          [
           0.6666666666666666,
           "#ed7953"
          ],
          [
           0.7777777777777778,
           "#fb9f3a"
          ],
          [
           0.8888888888888888,
           "#fdca26"
          ],
          [
           1,
           "#f0f921"
          ]
         ]
        },
        "margin": {
         "t": 60
        },
        "template": {
         "data": {
          "bar": [
           {
            "error_x": {
             "color": "#2a3f5f"
            },
            "error_y": {
             "color": "#2a3f5f"
            },
            "marker": {
             "line": {
              "color": "#E5ECF6",
              "width": 0.5
             },
             "pattern": {
              "fillmode": "overlay",
              "size": 10,
              "solidity": 0.2
             }
            },
            "type": "bar"
           }
          ],
          "barpolar": [
           {
            "marker": {
             "line": {
              "color": "#E5ECF6",
              "width": 0.5
             },
             "pattern": {
              "fillmode": "overlay",
              "size": 10,
              "solidity": 0.2
             }
            },
            "type": "barpolar"
           }
          ],
          "carpet": [
           {
            "aaxis": {
             "endlinecolor": "#2a3f5f",
             "gridcolor": "white",
             "linecolor": "white",
             "minorgridcolor": "white",
             "startlinecolor": "#2a3f5f"
            },
            "baxis": {
             "endlinecolor": "#2a3f5f",
             "gridcolor": "white",
             "linecolor": "white",
             "minorgridcolor": "white",
             "startlinecolor": "#2a3f5f"
            },
            "type": "carpet"
           }
          ],
          "choropleth": [
           {
            "colorbar": {
             "outlinewidth": 0,
             "ticks": ""
            },
            "type": "choropleth"
           }
          ],
          "contour": [
           {
            "colorbar": {
             "outlinewidth": 0,
             "ticks": ""
            },
            "colorscale": [
             [
              0,
              "#0d0887"
             ],
             [
              0.1111111111111111,
              "#46039f"
             ],
             [
              0.2222222222222222,
              "#7201a8"
             ],
             [
              0.3333333333333333,
              "#9c179e"
             ],
             [
              0.4444444444444444,
              "#bd3786"
             ],
             [
              0.5555555555555556,
              "#d8576b"
             ],
             [
              0.6666666666666666,
              "#ed7953"
             ],
             [
              0.7777777777777778,
              "#fb9f3a"
             ],
             [
              0.8888888888888888,
              "#fdca26"
             ],
             [
              1,
              "#f0f921"
             ]
            ],
            "type": "contour"
           }
          ],
          "contourcarpet": [
           {
            "colorbar": {
             "outlinewidth": 0,
             "ticks": ""
            },
            "type": "contourcarpet"
           }
          ],
          "heatmap": [
           {
            "colorbar": {
             "outlinewidth": 0,
             "ticks": ""
            },
            "colorscale": [
             [
              0,
              "#0d0887"
             ],
             [
              0.1111111111111111,
              "#46039f"
             ],
             [
              0.2222222222222222,
              "#7201a8"
             ],
             [
              0.3333333333333333,
              "#9c179e"
             ],
             [
              0.4444444444444444,
              "#bd3786"
             ],
             [
              0.5555555555555556,
              "#d8576b"
             ],
             [
              0.6666666666666666,
              "#ed7953"
             ],
             [
              0.7777777777777778,
              "#fb9f3a"
             ],
             [
              0.8888888888888888,
              "#fdca26"
             ],
             [
              1,
              "#f0f921"
             ]
            ],
            "type": "heatmap"
           }
          ],
          "heatmapgl": [
           {
            "colorbar": {
             "outlinewidth": 0,
             "ticks": ""
            },
            "colorscale": [
             [
              0,
              "#0d0887"
             ],
             [
              0.1111111111111111,
              "#46039f"
             ],
             [
              0.2222222222222222,
              "#7201a8"
             ],
             [
              0.3333333333333333,
              "#9c179e"
             ],
             [
              0.4444444444444444,
              "#bd3786"
             ],
             [
              0.5555555555555556,
              "#d8576b"
             ],
             [
              0.6666666666666666,
              "#ed7953"
             ],
             [
              0.7777777777777778,
              "#fb9f3a"
             ],
             [
              0.8888888888888888,
              "#fdca26"
             ],
             [
              1,
              "#f0f921"
             ]
            ],
            "type": "heatmapgl"
           }
          ],
          "histogram": [
           {
            "marker": {
             "pattern": {
              "fillmode": "overlay",
              "size": 10,
              "solidity": 0.2
             }
            },
            "type": "histogram"
           }
          ],
          "histogram2d": [
           {
            "colorbar": {
             "outlinewidth": 0,
             "ticks": ""
            },
            "colorscale": [
             [
              0,
              "#0d0887"
             ],
             [
              0.1111111111111111,
              "#46039f"
             ],
             [
              0.2222222222222222,
              "#7201a8"
             ],
             [
              0.3333333333333333,
              "#9c179e"
             ],
             [
              0.4444444444444444,
              "#bd3786"
             ],
             [
              0.5555555555555556,
              "#d8576b"
             ],
             [
              0.6666666666666666,
              "#ed7953"
             ],
             [
              0.7777777777777778,
              "#fb9f3a"
             ],
             [
              0.8888888888888888,
              "#fdca26"
             ],
             [
              1,
              "#f0f921"
             ]
            ],
            "type": "histogram2d"
           }
          ],
          "histogram2dcontour": [
           {
            "colorbar": {
             "outlinewidth": 0,
             "ticks": ""
            },
            "colorscale": [
             [
              0,
              "#0d0887"
             ],
             [
              0.1111111111111111,
              "#46039f"
             ],
             [
              0.2222222222222222,
              "#7201a8"
             ],
             [
              0.3333333333333333,
              "#9c179e"
             ],
             [
              0.4444444444444444,
              "#bd3786"
             ],
             [
              0.5555555555555556,
              "#d8576b"
             ],
             [
              0.6666666666666666,
              "#ed7953"
             ],
             [
              0.7777777777777778,
              "#fb9f3a"
             ],
             [
              0.8888888888888888,
              "#fdca26"
             ],
             [
              1,
              "#f0f921"
             ]
            ],
            "type": "histogram2dcontour"
           }
          ],
          "mesh3d": [
           {
            "colorbar": {
             "outlinewidth": 0,
             "ticks": ""
            },
            "type": "mesh3d"
           }
          ],
          "parcoords": [
           {
            "line": {
             "colorbar": {
              "outlinewidth": 0,
              "ticks": ""
             }
            },
            "type": "parcoords"
           }
          ],
          "pie": [
           {
            "automargin": true,
            "type": "pie"
           }
          ],
          "scatter": [
           {
            "fillpattern": {
             "fillmode": "overlay",
             "size": 10,
             "solidity": 0.2
            },
            "type": "scatter"
           }
          ],
          "scatter3d": [
           {
            "line": {
             "colorbar": {
              "outlinewidth": 0,
              "ticks": ""
             }
            },
            "marker": {
             "colorbar": {
              "outlinewidth": 0,
              "ticks": ""
             }
            },
            "type": "scatter3d"
           }
          ],
          "scattercarpet": [
           {
            "marker": {
             "colorbar": {
              "outlinewidth": 0,
              "ticks": ""
             }
            },
            "type": "scattercarpet"
           }
          ],
          "scattergeo": [
           {
            "marker": {
             "colorbar": {
              "outlinewidth": 0,
              "ticks": ""
             }
            },
            "type": "scattergeo"
           }
          ],
          "scattergl": [
           {
            "marker": {
             "colorbar": {
              "outlinewidth": 0,
              "ticks": ""
             }
            },
            "type": "scattergl"
           }
          ],
          "scattermapbox": [
           {
            "marker": {
             "colorbar": {
              "outlinewidth": 0,
              "ticks": ""
             }
            },
            "type": "scattermapbox"
           }
          ],
          "scatterpolar": [
           {
            "marker": {
             "colorbar": {
              "outlinewidth": 0,
              "ticks": ""
             }
            },
            "type": "scatterpolar"
           }
          ],
          "scatterpolargl": [
           {
            "marker": {
             "colorbar": {
              "outlinewidth": 0,
              "ticks": ""
             }
            },
            "type": "scatterpolargl"
           }
          ],
          "scatterternary": [
           {
            "marker": {
             "colorbar": {
              "outlinewidth": 0,
              "ticks": ""
             }
            },
            "type": "scatterternary"
           }
          ],
          "surface": [
           {
            "colorbar": {
             "outlinewidth": 0,
             "ticks": ""
            },
            "colorscale": [
             [
              0,
              "#0d0887"
             ],
             [
              0.1111111111111111,
              "#46039f"
             ],
             [
              0.2222222222222222,
              "#7201a8"
             ],
             [
              0.3333333333333333,
              "#9c179e"
             ],
             [
              0.4444444444444444,
              "#bd3786"
             ],
             [
              0.5555555555555556,
              "#d8576b"
             ],
             [
              0.6666666666666666,
              "#ed7953"
             ],
             [
              0.7777777777777778,
              "#fb9f3a"
             ],
             [
              0.8888888888888888,
              "#fdca26"
             ],
             [
              1,
              "#f0f921"
             ]
            ],
            "type": "surface"
           }
          ],
          "table": [
           {
            "cells": {
             "fill": {
              "color": "#EBF0F8"
             },
             "line": {
              "color": "white"
             }
            },
            "header": {
             "fill": {
              "color": "#C8D4E3"
             },
             "line": {
              "color": "white"
             }
            },
            "type": "table"
           }
          ]
         },
         "layout": {
          "annotationdefaults": {
           "arrowcolor": "#2a3f5f",
           "arrowhead": 0,
           "arrowwidth": 1
          },
          "autotypenumbers": "strict",
          "coloraxis": {
           "colorbar": {
            "outlinewidth": 0,
            "ticks": ""
           }
          },
          "colorscale": {
           "diverging": [
            [
             0,
             "#8e0152"
            ],
            [
             0.1,
             "#c51b7d"
            ],
            [
             0.2,
             "#de77ae"
            ],
            [
             0.3,
             "#f1b6da"
            ],
            [
             0.4,
             "#fde0ef"
            ],
            [
             0.5,
             "#f7f7f7"
            ],
            [
             0.6,
             "#e6f5d0"
            ],
            [
             0.7,
             "#b8e186"
            ],
            [
             0.8,
             "#7fbc41"
            ],
            [
             0.9,
             "#4d9221"
            ],
            [
             1,
             "#276419"
            ]
           ],
           "sequential": [
            [
             0,
             "#0d0887"
            ],
            [
             0.1111111111111111,
             "#46039f"
            ],
            [
             0.2222222222222222,
             "#7201a8"
            ],
            [
             0.3333333333333333,
             "#9c179e"
            ],
            [
             0.4444444444444444,
             "#bd3786"
            ],
            [
             0.5555555555555556,
             "#d8576b"
            ],
            [
             0.6666666666666666,
             "#ed7953"
            ],
            [
             0.7777777777777778,
             "#fb9f3a"
            ],
            [
             0.8888888888888888,
             "#fdca26"
            ],
            [
             1,
             "#f0f921"
            ]
           ],
           "sequentialminus": [
            [
             0,
             "#0d0887"
            ],
            [
             0.1111111111111111,
             "#46039f"
            ],
            [
             0.2222222222222222,
             "#7201a8"
            ],
            [
             0.3333333333333333,
             "#9c179e"
            ],
            [
             0.4444444444444444,
             "#bd3786"
            ],
            [
             0.5555555555555556,
             "#d8576b"
            ],
            [
             0.6666666666666666,
             "#ed7953"
            ],
            [
             0.7777777777777778,
             "#fb9f3a"
            ],
            [
             0.8888888888888888,
             "#fdca26"
            ],
            [
             1,
             "#f0f921"
            ]
           ]
          },
          "colorway": [
           "#636efa",
           "#EF553B",
           "#00cc96",
           "#ab63fa",
           "#FFA15A",
           "#19d3f3",
           "#FF6692",
           "#B6E880",
           "#FF97FF",
           "#FECB52"
          ],
          "font": {
           "color": "#2a3f5f"
          },
          "geo": {
           "bgcolor": "white",
           "lakecolor": "white",
           "landcolor": "#E5ECF6",
           "showlakes": true,
           "showland": true,
           "subunitcolor": "white"
          },
          "hoverlabel": {
           "align": "left"
          },
          "hovermode": "closest",
          "mapbox": {
           "style": "light"
          },
          "paper_bgcolor": "white",
          "plot_bgcolor": "#E5ECF6",
          "polar": {
           "angularaxis": {
            "gridcolor": "white",
            "linecolor": "white",
            "ticks": ""
           },
           "bgcolor": "#E5ECF6",
           "radialaxis": {
            "gridcolor": "white",
            "linecolor": "white",
            "ticks": ""
           }
          },
          "scene": {
           "xaxis": {
            "backgroundcolor": "#E5ECF6",
            "gridcolor": "white",
            "gridwidth": 2,
            "linecolor": "white",
            "showbackground": true,
            "ticks": "",
            "zerolinecolor": "white"
           },
           "yaxis": {
            "backgroundcolor": "#E5ECF6",
            "gridcolor": "white",
            "gridwidth": 2,
            "linecolor": "white",
            "showbackground": true,
            "ticks": "",
            "zerolinecolor": "white"
           },
           "zaxis": {
            "backgroundcolor": "#E5ECF6",
            "gridcolor": "white",
            "gridwidth": 2,
            "linecolor": "white",
            "showbackground": true,
            "ticks": "",
            "zerolinecolor": "white"
           }
          },
          "shapedefaults": {
           "line": {
            "color": "#2a3f5f"
           }
          },
          "ternary": {
           "aaxis": {
            "gridcolor": "white",
            "linecolor": "white",
            "ticks": ""
           },
           "baxis": {
            "gridcolor": "white",
            "linecolor": "white",
            "ticks": ""
           },
           "bgcolor": "#E5ECF6",
           "caxis": {
            "gridcolor": "white",
            "linecolor": "white",
            "ticks": ""
           }
          },
          "title": {
           "x": 0.05
          },
          "xaxis": {
           "automargin": true,
           "gridcolor": "white",
           "linecolor": "white",
           "ticks": "",
           "title": {
            "standoff": 15
           },
           "zerolinecolor": "white",
           "zerolinewidth": 2
          },
          "yaxis": {
           "automargin": true,
           "gridcolor": "white",
           "linecolor": "white",
           "ticks": "",
           "title": {
            "standoff": 15
           },
           "zerolinecolor": "white",
           "zerolinewidth": 2
          }
         }
        },
        "xaxis": {
         "anchor": "y",
         "domain": [
          0,
          1
         ]
        },
        "yaxis": {
         "anchor": "x",
         "autorange": "reversed",
         "domain": [
          0,
          1
         ]
        }
       }
      }
     },
     "metadata": {},
     "output_type": "display_data"
    }
   ],
   "source": [
    "fig = px.imshow(\n",
    "    fct_df.corr(), text_auto=True, aspect='auto'\n",
    ")\n",
    "fig.show()"
   ]
  },
  {
   "cell_type": "code",
   "execution_count": 188,
   "metadata": {},
   "outputs": [
    {
     "name": "stdout",
     "output_type": "stream",
     "text": [
      "              precision    recall  f1-score   support\n",
      "\n",
      "         0.0       0.98      0.98      0.98        52\n",
      "         1.0       0.98      0.98      0.98        50\n",
      "\n",
      "    accuracy                           0.98       102\n",
      "   macro avg       0.98      0.98      0.98       102\n",
      "weighted avg       0.98      0.98      0.98       102\n",
      "\n"
     ]
    }
   ],
   "source": [
    "# Part 4 Task 2 prediction\n",
    "model = xgb.XGBClassifier()\n",
    "x = fct_df.drop('sex', axis=1)\n",
    "y = fct_df['sex']\n",
    "x_train, x_test, y_train, y_test = train_test_split(x, y, test_size=0.2, stratify=y)\n",
    "model.fit(x_train, y_train)\n",
    "pred = model.predict(x_test)\n",
    "print(classification_report(y_test, pred))"
   ]
  },
  {
   "cell_type": "code",
   "execution_count": 191,
   "metadata": {},
   "outputs": [],
   "source": [
    "# Part 4 Task 3\n",
    "x = body_df.drop('sex', axis=1)\n",
    "for col in x.columns:\n",
    "    x[col] = x[col].apply(lambda val: np.log(val) if val != 0 else 0)\n",
    "x = PCA(n_components=5).fit_transform(x)\n",
    "pca_norm_df = pd.DataFrame(data=x, columns=[f'PCA_{i}' for i in range(x.shape[1])])\n",
    "y = body_df['sex']"
   ]
  },
  {
   "cell_type": "code",
   "execution_count": 194,
   "metadata": {},
   "outputs": [
    {
     "name": "stdout",
     "output_type": "stream",
     "text": [
      "              precision    recall  f1-score   support\n",
      "\n",
      "         0.0       1.00      1.00      1.00        52\n",
      "         1.0       1.00      1.00      1.00        50\n",
      "\n",
      "    accuracy                           1.00       102\n",
      "   macro avg       1.00      1.00      1.00       102\n",
      "weighted avg       1.00      1.00      1.00       102\n",
      "\n"
     ]
    }
   ],
   "source": [
    "# Part 4 Task 3 prediction\n",
    "model = xgb.XGBClassifier()\n",
    "x = pca_norm_df\n",
    "x_train, x_test, y_train, y_test = train_test_split(x, y, test_size=0.2, stratify=y)\n",
    "model.fit(x_train, y_train)\n",
    "pred = model.predict(x_test)\n",
    "print(classification_report(y_test, pred))"
   ]
  },
  {
   "cell_type": "code",
   "execution_count": 201,
   "metadata": {},
   "outputs": [
    {
     "data": {
      "text/html": [
       "<div>\n",
       "<style scoped>\n",
       "    .dataframe tbody tr th:only-of-type {\n",
       "        vertical-align: middle;\n",
       "    }\n",
       "\n",
       "    .dataframe tbody tr th {\n",
       "        vertical-align: top;\n",
       "    }\n",
       "\n",
       "    .dataframe thead th {\n",
       "        text-align: right;\n",
       "    }\n",
       "</style>\n",
       "<table border=\"1\" class=\"dataframe\">\n",
       "  <thead>\n",
       "    <tr style=\"text-align: right;\">\n",
       "      <th></th>\n",
       "      <th>LDA_0</th>\n",
       "    </tr>\n",
       "  </thead>\n",
       "  <tbody>\n",
       "    <tr>\n",
       "      <th>0</th>\n",
       "      <td>0.069537</td>\n",
       "    </tr>\n",
       "    <tr>\n",
       "      <th>1</th>\n",
       "      <td>0.256200</td>\n",
       "    </tr>\n",
       "    <tr>\n",
       "      <th>2</th>\n",
       "      <td>2.774584</td>\n",
       "    </tr>\n",
       "    <tr>\n",
       "      <th>3</th>\n",
       "      <td>1.362764</td>\n",
       "    </tr>\n",
       "    <tr>\n",
       "      <th>4</th>\n",
       "      <td>0.035786</td>\n",
       "    </tr>\n",
       "    <tr>\n",
       "      <th>...</th>\n",
       "      <td>...</td>\n",
       "    </tr>\n",
       "    <tr>\n",
       "      <th>19153</th>\n",
       "      <td>0.063493</td>\n",
       "    </tr>\n",
       "    <tr>\n",
       "      <th>19154</th>\n",
       "      <td>0.076029</td>\n",
       "    </tr>\n",
       "    <tr>\n",
       "      <th>19155</th>\n",
       "      <td>0.063075</td>\n",
       "    </tr>\n",
       "    <tr>\n",
       "      <th>19156</th>\n",
       "      <td>-1.225021</td>\n",
       "    </tr>\n",
       "    <tr>\n",
       "      <th>19157</th>\n",
       "      <td>-0.458922</td>\n",
       "    </tr>\n",
       "  </tbody>\n",
       "</table>\n",
       "<p>19158 rows × 1 columns</p>\n",
       "</div>"
      ],
      "text/plain": [
       "          LDA_0\n",
       "0      0.069537\n",
       "1      0.256200\n",
       "2      2.774584\n",
       "3      1.362764\n",
       "4      0.035786\n",
       "...         ...\n",
       "19153  0.063493\n",
       "19154  0.076029\n",
       "19155  0.063075\n",
       "19156 -1.225021\n",
       "19157 -0.458922\n",
       "\n",
       "[19158 rows x 1 columns]"
      ]
     },
     "execution_count": 201,
     "metadata": {},
     "output_type": "execute_result"
    }
   ],
   "source": [
    "# Part 4 Task 4 Linear Discriminant Analysis\n",
    "x = final_df.drop('target', axis=1)\n",
    "y = final_df['target']\n",
    "lda = LinearDiscriminantAnalysis(n_components=1)\n",
    "lda.fit(x, y)\n",
    "lda_data = lda.transform(x)\n",
    "lda_df = pd.DataFrame(data=lda_data,\n",
    "                      columns=[f'LDA_{i}' for i in range(lda_data.shape[1])])\n",
    "lda_df"
   ]
  },
  {
   "cell_type": "code",
   "execution_count": 202,
   "metadata": {},
   "outputs": [
    {
     "name": "stdout",
     "output_type": "stream",
     "text": [
      "              precision    recall  f1-score   support\n",
      "\n",
      "         0.0       0.81      0.91      0.86      2877\n",
      "         1.0       0.56      0.36      0.44       955\n",
      "\n",
      "    accuracy                           0.77      3832\n",
      "   macro avg       0.69      0.64      0.65      3832\n",
      "weighted avg       0.75      0.77      0.75      3832\n",
      "\n"
     ]
    }
   ],
   "source": [
    "# Part 4 Task 4 Prediction\n",
    "model = xgb.XGBClassifier()\n",
    "x = lda_df\n",
    "y = final_df['target']\n",
    "x_train, x_test, y_train, y_test = train_test_split(x, y, test_size=0.2, stratify=y)\n",
    "model.fit(x_train, y_train)\n",
    "pred = model.predict(x_test)\n",
    "print(classification_report(y_test, pred))\n",
    "\n"
   ]
  },
  {
   "cell_type": "code",
   "execution_count": 203,
   "metadata": {},
   "outputs": [
    {
     "data": {
      "text/html": [
       "<div>\n",
       "<style scoped>\n",
       "    .dataframe tbody tr th:only-of-type {\n",
       "        vertical-align: middle;\n",
       "    }\n",
       "\n",
       "    .dataframe tbody tr th {\n",
       "        vertical-align: top;\n",
       "    }\n",
       "\n",
       "    .dataframe thead th {\n",
       "        text-align: right;\n",
       "    }\n",
       "</style>\n",
       "<table border=\"1\" class=\"dataframe\">\n",
       "  <thead>\n",
       "    <tr style=\"text-align: right;\">\n",
       "      <th></th>\n",
       "      <th>LDA_0</th>\n",
       "    </tr>\n",
       "  </thead>\n",
       "  <tbody>\n",
       "    <tr>\n",
       "      <th>0</th>\n",
       "      <td>2.066052</td>\n",
       "    </tr>\n",
       "    <tr>\n",
       "      <th>1</th>\n",
       "      <td>2.896961</td>\n",
       "    </tr>\n",
       "    <tr>\n",
       "      <th>2</th>\n",
       "      <td>3.290126</td>\n",
       "    </tr>\n",
       "    <tr>\n",
       "      <th>3</th>\n",
       "      <td>2.845850</td>\n",
       "    </tr>\n",
       "    <tr>\n",
       "      <th>4</th>\n",
       "      <td>2.841371</td>\n",
       "    </tr>\n",
       "    <tr>\n",
       "      <th>...</th>\n",
       "      <td>...</td>\n",
       "    </tr>\n",
       "    <tr>\n",
       "      <th>502</th>\n",
       "      <td>-2.523492</td>\n",
       "    </tr>\n",
       "    <tr>\n",
       "      <th>503</th>\n",
       "      <td>-2.354823</td>\n",
       "    </tr>\n",
       "    <tr>\n",
       "      <th>504</th>\n",
       "      <td>-2.238751</td>\n",
       "    </tr>\n",
       "    <tr>\n",
       "      <th>505</th>\n",
       "      <td>-2.168563</td>\n",
       "    </tr>\n",
       "    <tr>\n",
       "      <th>506</th>\n",
       "      <td>-1.821657</td>\n",
       "    </tr>\n",
       "  </tbody>\n",
       "</table>\n",
       "<p>507 rows × 1 columns</p>\n",
       "</div>"
      ],
      "text/plain": [
       "        LDA_0\n",
       "0    2.066052\n",
       "1    2.896961\n",
       "2    3.290126\n",
       "3    2.845850\n",
       "4    2.841371\n",
       "..        ...\n",
       "502 -2.523492\n",
       "503 -2.354823\n",
       "504 -2.238751\n",
       "505 -2.168563\n",
       "506 -1.821657\n",
       "\n",
       "[507 rows x 1 columns]"
      ]
     },
     "execution_count": 203,
     "metadata": {},
     "output_type": "execute_result"
    }
   ],
   "source": [
    "# Part 4 Task 4.2\n",
    "x = body_df.drop('sex', axis=1)\n",
    "y = body_df['sex']\n",
    "lda = LinearDiscriminantAnalysis(n_components=1)\n",
    "lda.fit(x, y)\n",
    "lda_data = lda.transform(x)\n",
    "lda_df = pd.DataFrame(data=lda_data,\n",
    "                      columns=[f'LDA_{i}' for i in range(lda_data.shape[1])])\n",
    "lda_df"
   ]
  },
  {
   "cell_type": "code",
   "execution_count": 204,
   "metadata": {},
   "outputs": [
    {
     "name": "stdout",
     "output_type": "stream",
     "text": [
      "              precision    recall  f1-score   support\n",
      "\n",
      "         0.0       1.00      0.96      0.98        52\n",
      "         1.0       0.96      1.00      0.98        50\n",
      "\n",
      "    accuracy                           0.98       102\n",
      "   macro avg       0.98      0.98      0.98       102\n",
      "weighted avg       0.98      0.98      0.98       102\n",
      "\n"
     ]
    }
   ],
   "source": [
    "model = xgb.XGBClassifier()\n",
    "x = lda_df\n",
    "y = body_df['sex']\n",
    "x_train, x_test, y_train, y_test = train_test_split(x, y, test_size=0.2, stratify=y)\n",
    "model.fit(x_train, y_train)\n",
    "pred = model.predict(x_test)\n",
    "print(classification_report(y_test, pred))\n"
   ]
  },
  {
   "cell_type": "code",
   "execution_count": 208,
   "metadata": {},
   "outputs": [
    {
     "name": "stdout",
     "output_type": "stream",
     "text": [
      "              precision    recall  f1-score   support\n",
      "\n",
      "         0.0       0.84      0.86      0.85      2877\n",
      "         1.0       0.55      0.51      0.53       955\n",
      "\n",
      "    accuracy                           0.77      3832\n",
      "   macro avg       0.70      0.69      0.69      3832\n",
      "weighted avg       0.77      0.77      0.77      3832\n",
      "\n"
     ]
    }
   ],
   "source": [
    "# Part 4 Task 4 QDA\n",
    "x = final_df.drop('target', axis=1)\n",
    "y = final_df['target']\n",
    "x_train, x_test, y_train, y_test = train_test_split(x, y, test_size=0.2, stratify=y)\n",
    "qda = QuadraticDiscriminantAnalysis()\n",
    "qda.fit(x_train, y_train)\n",
    "pred = qda.predict(x_test)\n",
    "print(classification_report(y_test, pred))"
   ]
  },
  {
   "cell_type": "code",
   "execution_count": null,
   "metadata": {},
   "outputs": [],
   "source": [
    "# Part 4 Task 5 is already presented higher because I'ValueError\n",
    "# already made tons on predictions with LDA and PCA"
   ]
  }
 ],
 "metadata": {
  "kernelspec": {
   "display_name": "venv",
   "language": "python",
   "name": "python3"
  },
  "language_info": {
   "codemirror_mode": {
    "name": "ipython",
    "version": 3
   },
   "file_extension": ".py",
   "mimetype": "text/x-python",
   "name": "python",
   "nbconvert_exporter": "python",
   "pygments_lexer": "ipython3",
   "version": "3.12.1"
  }
 },
 "nbformat": 4,
 "nbformat_minor": 2
}
