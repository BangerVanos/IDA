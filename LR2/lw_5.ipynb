{
 "cells": [
  {
   "cell_type": "code",
   "execution_count": 220,
   "metadata": {},
   "outputs": [
    {
     "name": "stderr",
     "output_type": "stream",
     "text": [
      "d:\\Programs\\Programming\\BSUIR\\IDA\\LR2\\.venv\\Lib\\site-packages\\tqdm\\auto.py:21: TqdmWarning:\n",
      "\n",
      "IProgress not found. Please update jupyter and ipywidgets. See https://ipywidgets.readthedocs.io/en/stable/user_install.html\n",
      "\n"
     ]
    }
   ],
   "source": [
    "import pandas as pd\n",
    "import plotly.express as px\n",
    "from sklearn.preprocessing import TargetEncoder\n",
    "from sklearn.feature_selection import f_classif, mutual_info_classif, RFE, SequentialFeatureSelector\n",
    "from sklearn.model_selection import train_test_split\n",
    "from sklearn.svm import SVC\n",
    "from sklearn.linear_model import LogisticRegression\n",
    "import xgboost as xgb\n",
    "from sklearn.metrics import classification_report\n",
    "from sklearn.decomposition import PCA, FactorAnalysis\n",
    "from sklearn.discriminant_analysis import LinearDiscriminantAnalysis, QuadraticDiscriminantAnalysis\n",
    "from sklearn.manifold import TSNE\n",
    "import umap\n",
    "import numpy as np"
   ]
  },
  {
   "cell_type": "code",
   "execution_count": 2,
   "metadata": {},
   "outputs": [],
   "source": [
    "df = pd.read_csv('data_science_job.csv')\n",
    "df.drop('enrollee_id', axis=1, inplace=True)"
   ]
  },
  {
   "cell_type": "code",
   "execution_count": 3,
   "metadata": {},
   "outputs": [
    {
     "data": {
      "text/plain": [
       "city                         0\n",
       "city_development_index     479\n",
       "gender                    4508\n",
       "relevent_experience          0\n",
       "enrolled_university        386\n",
       "education_level            460\n",
       "major_discipline          2813\n",
       "experience                  65\n",
       "company_size              5938\n",
       "company_type              6140\n",
       "training_hours             766\n",
       "target                       0\n",
       "dtype: int64"
      ]
     },
     "execution_count": 3,
     "metadata": {},
     "output_type": "execute_result"
    }
   ],
   "source": [
    "df.isna().sum()"
   ]
  },
  {
   "cell_type": "code",
   "execution_count": 4,
   "metadata": {},
   "outputs": [],
   "source": [
    "# Fill nan values\n",
    "df['city_development_index'] = df['city_development_index'].fillna(df['city_development_index'].median())\n",
    "df['gender'] = df['gender'].fillna(df['gender'].mode()[0])\n",
    "df['enrolled_university'] = df['enrolled_university'].fillna(df['enrolled_university'].mode()[0])\n",
    "df['education_level'] = df['education_level'].fillna(df['education_level'].mode()[0])\n",
    "df['major_discipline'] = df['major_discipline'].fillna(df['major_discipline'].mode()[0])\n",
    "df['experience'] = df['experience'].fillna(df['experience'].median())\n",
    "df['company_size'] = df['company_size'].fillna(df['company_size'].mode()[0])\n",
    "df['company_type'] = df['company_type'].fillna(df['company_type'].mode()[0])\n",
    "df['training_hours'] = df['training_hours'].fillna(df['training_hours'].median())"
   ]
  },
  {
   "cell_type": "code",
   "execution_count": 5,
   "metadata": {},
   "outputs": [
    {
     "data": {
      "text/plain": [
       "city                      0\n",
       "city_development_index    0\n",
       "gender                    0\n",
       "relevent_experience       0\n",
       "enrolled_university       0\n",
       "education_level           0\n",
       "major_discipline          0\n",
       "experience                0\n",
       "company_size              0\n",
       "company_type              0\n",
       "training_hours            0\n",
       "target                    0\n",
       "dtype: int64"
      ]
     },
     "execution_count": 5,
     "metadata": {},
     "output_type": "execute_result"
    }
   ],
   "source": [
    "df.isna().sum()"
   ]
  },
  {
   "cell_type": "code",
   "execution_count": 6,
   "metadata": {},
   "outputs": [],
   "source": [
    "df['target'] = df['target'].astype('boolean')"
   ]
  },
  {
   "cell_type": "code",
   "execution_count": 7,
   "metadata": {},
   "outputs": [
    {
     "name": "stdout",
     "output_type": "stream",
     "text": [
      "<class 'pandas.core.frame.DataFrame'>\n",
      "RangeIndex: 19158 entries, 0 to 19157\n",
      "Data columns (total 12 columns):\n",
      " #   Column                  Non-Null Count  Dtype  \n",
      "---  ------                  --------------  -----  \n",
      " 0   city                    19158 non-null  object \n",
      " 1   city_development_index  19158 non-null  float64\n",
      " 2   gender                  19158 non-null  object \n",
      " 3   relevent_experience     19158 non-null  object \n",
      " 4   enrolled_university     19158 non-null  object \n",
      " 5   education_level         19158 non-null  object \n",
      " 6   major_discipline        19158 non-null  object \n",
      " 7   experience              19158 non-null  float64\n",
      " 8   company_size            19158 non-null  object \n",
      " 9   company_type            19158 non-null  object \n",
      " 10  training_hours          19158 non-null  float64\n",
      " 11  target                  19158 non-null  boolean\n",
      "dtypes: boolean(1), float64(3), object(8)\n",
      "memory usage: 1.6+ MB\n"
     ]
    }
   ],
   "source": [
    "df.info()"
   ]
  },
  {
   "cell_type": "code",
   "execution_count": 8,
   "metadata": {},
   "outputs": [],
   "source": [
    "tg = TargetEncoder(smooth='auto', target_type='binary')\n",
    "y = df['target']\n",
    "x = df.drop(list(df.select_dtypes(exclude='object').columns), axis=1)\n",
    "\n",
    "x_trans = tg.fit_transform(x, y)\n",
    "df_encoded = pd.DataFrame(x_trans, columns=x.columns)"
   ]
  },
  {
   "cell_type": "code",
   "execution_count": 9,
   "metadata": {},
   "outputs": [
    {
     "data": {
      "text/html": [
       "<div>\n",
       "<style scoped>\n",
       "    .dataframe tbody tr th:only-of-type {\n",
       "        vertical-align: middle;\n",
       "    }\n",
       "\n",
       "    .dataframe tbody tr th {\n",
       "        vertical-align: top;\n",
       "    }\n",
       "\n",
       "    .dataframe thead th {\n",
       "        text-align: right;\n",
       "    }\n",
       "</style>\n",
       "<table border=\"1\" class=\"dataframe\">\n",
       "  <thead>\n",
       "    <tr style=\"text-align: right;\">\n",
       "      <th></th>\n",
       "      <th>city</th>\n",
       "      <th>gender</th>\n",
       "      <th>relevent_experience</th>\n",
       "      <th>enrolled_university</th>\n",
       "      <th>education_level</th>\n",
       "      <th>major_discipline</th>\n",
       "      <th>company_size</th>\n",
       "      <th>company_type</th>\n",
       "      <th>target</th>\n",
       "    </tr>\n",
       "  </thead>\n",
       "  <tbody>\n",
       "    <tr>\n",
       "      <th>0</th>\n",
       "      <td>0.210841</td>\n",
       "      <td>0.248272</td>\n",
       "      <td>0.213115</td>\n",
       "      <td>0.215456</td>\n",
       "      <td>0.278311</td>\n",
       "      <td>0.250955</td>\n",
       "      <td>0.330624</td>\n",
       "      <td>0.261022</td>\n",
       "      <td>True</td>\n",
       "    </tr>\n",
       "    <tr>\n",
       "      <th>1</th>\n",
       "      <td>0.149396</td>\n",
       "      <td>0.248272</td>\n",
       "      <td>0.341732</td>\n",
       "      <td>0.215456</td>\n",
       "      <td>0.278311</td>\n",
       "      <td>0.250955</td>\n",
       "      <td>0.330624</td>\n",
       "      <td>0.261022</td>\n",
       "      <td>False</td>\n",
       "    </tr>\n",
       "    <tr>\n",
       "      <th>2</th>\n",
       "      <td>0.585412</td>\n",
       "      <td>0.248540</td>\n",
       "      <td>0.334007</td>\n",
       "      <td>0.378715</td>\n",
       "      <td>0.275560</td>\n",
       "      <td>0.251229</td>\n",
       "      <td>0.326341</td>\n",
       "      <td>0.260967</td>\n",
       "      <td>False</td>\n",
       "    </tr>\n",
       "    <tr>\n",
       "      <th>3</th>\n",
       "      <td>0.358828</td>\n",
       "      <td>0.248540</td>\n",
       "      <td>0.334007</td>\n",
       "      <td>0.213721</td>\n",
       "      <td>0.275560</td>\n",
       "      <td>0.229394</td>\n",
       "      <td>0.326341</td>\n",
       "      <td>0.260967</td>\n",
       "      <td>True</td>\n",
       "    </tr>\n",
       "    <tr>\n",
       "      <th>4</th>\n",
       "      <td>0.311754</td>\n",
       "      <td>0.248168</td>\n",
       "      <td>0.213811</td>\n",
       "      <td>0.214452</td>\n",
       "      <td>0.213910</td>\n",
       "      <td>0.250018</td>\n",
       "      <td>0.326683</td>\n",
       "      <td>0.141869</td>\n",
       "      <td>False</td>\n",
       "    </tr>\n",
       "    <tr>\n",
       "      <th>...</th>\n",
       "      <td>...</td>\n",
       "      <td>...</td>\n",
       "      <td>...</td>\n",
       "      <td>...</td>\n",
       "      <td>...</td>\n",
       "      <td>...</td>\n",
       "      <td>...</td>\n",
       "      <td>...</td>\n",
       "      <td>...</td>\n",
       "    </tr>\n",
       "    <tr>\n",
       "      <th>19153</th>\n",
       "      <td>0.092249</td>\n",
       "      <td>0.248044</td>\n",
       "      <td>0.334392</td>\n",
       "      <td>0.215091</td>\n",
       "      <td>0.280080</td>\n",
       "      <td>0.209107</td>\n",
       "      <td>0.325053</td>\n",
       "      <td>0.259948</td>\n",
       "      <td>True</td>\n",
       "    </tr>\n",
       "    <tr>\n",
       "      <th>19154</th>\n",
       "      <td>0.210841</td>\n",
       "      <td>0.248272</td>\n",
       "      <td>0.213115</td>\n",
       "      <td>0.215456</td>\n",
       "      <td>0.278311</td>\n",
       "      <td>0.250955</td>\n",
       "      <td>0.330624</td>\n",
       "      <td>0.261022</td>\n",
       "      <td>True</td>\n",
       "    </tr>\n",
       "    <tr>\n",
       "      <th>19155</th>\n",
       "      <td>0.214336</td>\n",
       "      <td>0.248044</td>\n",
       "      <td>0.216072</td>\n",
       "      <td>0.215091</td>\n",
       "      <td>0.280080</td>\n",
       "      <td>0.251319</td>\n",
       "      <td>0.325053</td>\n",
       "      <td>0.259948</td>\n",
       "      <td>False</td>\n",
       "    </tr>\n",
       "    <tr>\n",
       "      <th>19156</th>\n",
       "      <td>0.138417</td>\n",
       "      <td>0.248272</td>\n",
       "      <td>0.213115</td>\n",
       "      <td>0.215456</td>\n",
       "      <td>0.197931</td>\n",
       "      <td>0.250955</td>\n",
       "      <td>0.170747</td>\n",
       "      <td>0.261022</td>\n",
       "      <td>False</td>\n",
       "    </tr>\n",
       "    <tr>\n",
       "      <th>19157</th>\n",
       "      <td>0.146329</td>\n",
       "      <td>0.248163</td>\n",
       "      <td>0.340251</td>\n",
       "      <td>0.212891</td>\n",
       "      <td>0.144913</td>\n",
       "      <td>0.250451</td>\n",
       "      <td>0.329140</td>\n",
       "      <td>0.260654</td>\n",
       "      <td>False</td>\n",
       "    </tr>\n",
       "  </tbody>\n",
       "</table>\n",
       "<p>19158 rows × 9 columns</p>\n",
       "</div>"
      ],
      "text/plain": [
       "           city    gender  relevent_experience  enrolled_university  \\\n",
       "0      0.210841  0.248272             0.213115             0.215456   \n",
       "1      0.149396  0.248272             0.341732             0.215456   \n",
       "2      0.585412  0.248540             0.334007             0.378715   \n",
       "3      0.358828  0.248540             0.334007             0.213721   \n",
       "4      0.311754  0.248168             0.213811             0.214452   \n",
       "...         ...       ...                  ...                  ...   \n",
       "19153  0.092249  0.248044             0.334392             0.215091   \n",
       "19154  0.210841  0.248272             0.213115             0.215456   \n",
       "19155  0.214336  0.248044             0.216072             0.215091   \n",
       "19156  0.138417  0.248272             0.213115             0.215456   \n",
       "19157  0.146329  0.248163             0.340251             0.212891   \n",
       "\n",
       "       education_level  major_discipline  company_size  company_type  target  \n",
       "0             0.278311          0.250955      0.330624      0.261022    True  \n",
       "1             0.278311          0.250955      0.330624      0.261022   False  \n",
       "2             0.275560          0.251229      0.326341      0.260967   False  \n",
       "3             0.275560          0.229394      0.326341      0.260967    True  \n",
       "4             0.213910          0.250018      0.326683      0.141869   False  \n",
       "...                ...               ...           ...           ...     ...  \n",
       "19153         0.280080          0.209107      0.325053      0.259948    True  \n",
       "19154         0.278311          0.250955      0.330624      0.261022    True  \n",
       "19155         0.280080          0.251319      0.325053      0.259948   False  \n",
       "19156         0.197931          0.250955      0.170747      0.261022   False  \n",
       "19157         0.144913          0.250451      0.329140      0.260654   False  \n",
       "\n",
       "[19158 rows x 9 columns]"
      ]
     },
     "execution_count": 9,
     "metadata": {},
     "output_type": "execute_result"
    }
   ],
   "source": [
    "df_encoded['target'] = y\n",
    "df_encoded"
   ]
  },
  {
   "cell_type": "code",
   "execution_count": 10,
   "metadata": {},
   "outputs": [
    {
     "data": {
      "application/vnd.plotly.v1+json": {
       "config": {
        "plotlyServerURL": "https://plot.ly"
       },
       "data": [
        {
         "coloraxis": "coloraxis",
         "hovertemplate": "x: %{x}<br>y: %{y}<br>color: %{z}<extra></extra>",
         "name": "0",
         "texttemplate": "%{z}",
         "type": "heatmap",
         "x": [
          "city",
          "gender",
          "relevent_experience",
          "enrolled_university",
          "education_level",
          "major_discipline",
          "company_size",
          "company_type",
          "target"
         ],
         "xaxis": "x",
         "y": [
          "city",
          "gender",
          "relevent_experience",
          "enrolled_university",
          "education_level",
          "major_discipline",
          "company_size",
          "company_type",
          "target"
         ],
         "yaxis": "y",
         "z": [
          [
           1,
           -0.013824871794608059,
           0.04366324236442599,
           0.13757149384047684,
           0.11918043521947352,
           0.055456032553617016,
           0.05102474736083452,
           0.028287041097990667,
           0.377451045242257
          ],
          [
           -0.013824871794608059,
           1,
           0.020603933817719165,
           -0.0050856560915919485,
           -0.005157886925718397,
           -0.06601815131521895,
           -0.008560329917994417,
           -0.038849758218111874,
           0.0010878122860103474
          ],
          [
           0.04366324236442599,
           0.020603933817719165,
           1,
           0.37443165948712026,
           -0.16385892855763712,
           0.000509466383391827,
           0.27938275129978196,
           0.07137213156762973,
           0.12758674745646326
          ],
          [
           0.13757149384047684,
           -0.0050856560915919485,
           0.37443165948712026,
           1,
           -0.024021923876654094,
           0.06189830999878201,
           0.1848884324472254,
           0.042371139396995425,
           0.15063902589005992
          ],
          [
           0.11918043521947352,
           -0.005157886925718397,
           -0.16385892855763712,
           -0.024021923876654094,
           1,
           -0.016381049610517267,
           -0.05737066355363735,
           -0.0013738132763009576,
           0.08967864163572421
          ],
          [
           0.055456032553617016,
           -0.06601815131521895,
           0.000509466383391827,
           0.06189830999878201,
           -0.016381049610517267,
           1,
           -0.008630805656629829,
           0.030975013232456695,
           0.004227725109872489
          ],
          [
           0.05102474736083452,
           -0.008560329917994417,
           0.27938275129978196,
           0.1848884324472254,
           -0.05737066355363735,
           -0.008630805656629829,
           1,
           0.10358252288730618,
           0.17415499934111464
          ],
          [
           0.028287041097990667,
           -0.038849758218111874,
           0.07137213156762973,
           0.042371139396995425,
           -0.0013738132763009576,
           0.030975013232456695,
           0.10358252288730618,
           1,
           0.06619673094380056
          ],
          [
           0.377451045242257,
           0.0010878122860103474,
           0.12758674745646326,
           0.15063902589005992,
           0.08967864163572421,
           0.004227725109872489,
           0.17415499934111464,
           0.06619673094380056,
           1
          ]
         ]
        }
       ],
       "layout": {
        "coloraxis": {
         "colorscale": [
          [
           0,
           "#0d0887"
          ],
          [
           0.1111111111111111,
           "#46039f"
          ],
          [
           0.2222222222222222,
           "#7201a8"
          ],
          [
           0.3333333333333333,
           "#9c179e"
          ],
          [
           0.4444444444444444,
           "#bd3786"
          ],
          [
           0.5555555555555556,
           "#d8576b"
          ],
          [
           0.6666666666666666,
           "#ed7953"
          ],
          [
           0.7777777777777778,
           "#fb9f3a"
          ],
          [
           0.8888888888888888,
           "#fdca26"
          ],
          [
           1,
           "#f0f921"
          ]
         ]
        },
        "margin": {
         "t": 60
        },
        "template": {
         "data": {
          "bar": [
           {
            "error_x": {
             "color": "#2a3f5f"
            },
            "error_y": {
             "color": "#2a3f5f"
            },
            "marker": {
             "line": {
              "color": "#E5ECF6",
              "width": 0.5
             },
             "pattern": {
              "fillmode": "overlay",
              "size": 10,
              "solidity": 0.2
             }
            },
            "type": "bar"
           }
          ],
          "barpolar": [
           {
            "marker": {
             "line": {
              "color": "#E5ECF6",
              "width": 0.5
             },
             "pattern": {
              "fillmode": "overlay",
              "size": 10,
              "solidity": 0.2
             }
            },
            "type": "barpolar"
           }
          ],
          "carpet": [
           {
            "aaxis": {
             "endlinecolor": "#2a3f5f",
             "gridcolor": "white",
             "linecolor": "white",
             "minorgridcolor": "white",
             "startlinecolor": "#2a3f5f"
            },
            "baxis": {
             "endlinecolor": "#2a3f5f",
             "gridcolor": "white",
             "linecolor": "white",
             "minorgridcolor": "white",
             "startlinecolor": "#2a3f5f"
            },
            "type": "carpet"
           }
          ],
          "choropleth": [
           {
            "colorbar": {
             "outlinewidth": 0,
             "ticks": ""
            },
            "type": "choropleth"
           }
          ],
          "contour": [
           {
            "colorbar": {
             "outlinewidth": 0,
             "ticks": ""
            },
            "colorscale": [
             [
              0,
              "#0d0887"
             ],
             [
              0.1111111111111111,
              "#46039f"
             ],
             [
              0.2222222222222222,
              "#7201a8"
             ],
             [
              0.3333333333333333,
              "#9c179e"
             ],
             [
              0.4444444444444444,
              "#bd3786"
             ],
             [
              0.5555555555555556,
              "#d8576b"
             ],
             [
              0.6666666666666666,
              "#ed7953"
             ],
             [
              0.7777777777777778,
              "#fb9f3a"
             ],
             [
              0.8888888888888888,
              "#fdca26"
             ],
             [
              1,
              "#f0f921"
             ]
            ],
            "type": "contour"
           }
          ],
          "contourcarpet": [
           {
            "colorbar": {
             "outlinewidth": 0,
             "ticks": ""
            },
            "type": "contourcarpet"
           }
          ],
          "heatmap": [
           {
            "colorbar": {
             "outlinewidth": 0,
             "ticks": ""
            },
            "colorscale": [
             [
              0,
              "#0d0887"
             ],
             [
              0.1111111111111111,
              "#46039f"
             ],
             [
              0.2222222222222222,
              "#7201a8"
             ],
             [
              0.3333333333333333,
              "#9c179e"
             ],
             [
              0.4444444444444444,
              "#bd3786"
             ],
             [
              0.5555555555555556,
              "#d8576b"
             ],
             [
              0.6666666666666666,
              "#ed7953"
             ],
             [
              0.7777777777777778,
              "#fb9f3a"
             ],
             [
              0.8888888888888888,
              "#fdca26"
             ],
             [
              1,
              "#f0f921"
             ]
            ],
            "type": "heatmap"
           }
          ],
          "heatmapgl": [
           {
            "colorbar": {
             "outlinewidth": 0,
             "ticks": ""
            },
            "colorscale": [
             [
              0,
              "#0d0887"
             ],
             [
              0.1111111111111111,
              "#46039f"
             ],
             [
              0.2222222222222222,
              "#7201a8"
             ],
             [
              0.3333333333333333,
              "#9c179e"
             ],
             [
              0.4444444444444444,
              "#bd3786"
             ],
             [
              0.5555555555555556,
              "#d8576b"
             ],
             [
              0.6666666666666666,
              "#ed7953"
             ],
             [
              0.7777777777777778,
              "#fb9f3a"
             ],
             [
              0.8888888888888888,
              "#fdca26"
             ],
             [
              1,
              "#f0f921"
             ]
            ],
            "type": "heatmapgl"
           }
          ],
          "histogram": [
           {
            "marker": {
             "pattern": {
              "fillmode": "overlay",
              "size": 10,
              "solidity": 0.2
             }
            },
            "type": "histogram"
           }
          ],
          "histogram2d": [
           {
            "colorbar": {
             "outlinewidth": 0,
             "ticks": ""
            },
            "colorscale": [
             [
              0,
              "#0d0887"
             ],
             [
              0.1111111111111111,
              "#46039f"
             ],
             [
              0.2222222222222222,
              "#7201a8"
             ],
             [
              0.3333333333333333,
              "#9c179e"
             ],
             [
              0.4444444444444444,
              "#bd3786"
             ],
             [
              0.5555555555555556,
              "#d8576b"
             ],
             [
              0.6666666666666666,
              "#ed7953"
             ],
             [
              0.7777777777777778,
              "#fb9f3a"
             ],
             [
              0.8888888888888888,
              "#fdca26"
             ],
             [
              1,
              "#f0f921"
             ]
            ],
            "type": "histogram2d"
           }
          ],
          "histogram2dcontour": [
           {
            "colorbar": {
             "outlinewidth": 0,
             "ticks": ""
            },
            "colorscale": [
             [
              0,
              "#0d0887"
             ],
             [
              0.1111111111111111,
              "#46039f"
             ],
             [
              0.2222222222222222,
              "#7201a8"
             ],
             [
              0.3333333333333333,
              "#9c179e"
             ],
             [
              0.4444444444444444,
              "#bd3786"
             ],
             [
              0.5555555555555556,
              "#d8576b"
             ],
             [
              0.6666666666666666,
              "#ed7953"
             ],
             [
              0.7777777777777778,
              "#fb9f3a"
             ],
             [
              0.8888888888888888,
              "#fdca26"
             ],
             [
              1,
              "#f0f921"
             ]
            ],
            "type": "histogram2dcontour"
           }
          ],
          "mesh3d": [
           {
            "colorbar": {
             "outlinewidth": 0,
             "ticks": ""
            },
            "type": "mesh3d"
           }
          ],
          "parcoords": [
           {
            "line": {
             "colorbar": {
              "outlinewidth": 0,
              "ticks": ""
             }
            },
            "type": "parcoords"
           }
          ],
          "pie": [
           {
            "automargin": true,
            "type": "pie"
           }
          ],
          "scatter": [
           {
            "fillpattern": {
             "fillmode": "overlay",
             "size": 10,
             "solidity": 0.2
            },
            "type": "scatter"
           }
          ],
          "scatter3d": [
           {
            "line": {
             "colorbar": {
              "outlinewidth": 0,
              "ticks": ""
             }
            },
            "marker": {
             "colorbar": {
              "outlinewidth": 0,
              "ticks": ""
             }
            },
            "type": "scatter3d"
           }
          ],
          "scattercarpet": [
           {
            "marker": {
             "colorbar": {
              "outlinewidth": 0,
              "ticks": ""
             }
            },
            "type": "scattercarpet"
           }
          ],
          "scattergeo": [
           {
            "marker": {
             "colorbar": {
              "outlinewidth": 0,
              "ticks": ""
             }
            },
            "type": "scattergeo"
           }
          ],
          "scattergl": [
           {
            "marker": {
             "colorbar": {
              "outlinewidth": 0,
              "ticks": ""
             }
            },
            "type": "scattergl"
           }
          ],
          "scattermapbox": [
           {
            "marker": {
             "colorbar": {
              "outlinewidth": 0,
              "ticks": ""
             }
            },
            "type": "scattermapbox"
           }
          ],
          "scatterpolar": [
           {
            "marker": {
             "colorbar": {
              "outlinewidth": 0,
              "ticks": ""
             }
            },
            "type": "scatterpolar"
           }
          ],
          "scatterpolargl": [
           {
            "marker": {
             "colorbar": {
              "outlinewidth": 0,
              "ticks": ""
             }
            },
            "type": "scatterpolargl"
           }
          ],
          "scatterternary": [
           {
            "marker": {
             "colorbar": {
              "outlinewidth": 0,
              "ticks": ""
             }
            },
            "type": "scatterternary"
           }
          ],
          "surface": [
           {
            "colorbar": {
             "outlinewidth": 0,
             "ticks": ""
            },
            "colorscale": [
             [
              0,
              "#0d0887"
             ],
             [
              0.1111111111111111,
              "#46039f"
             ],
             [
              0.2222222222222222,
              "#7201a8"
             ],
             [
              0.3333333333333333,
              "#9c179e"
             ],
             [
              0.4444444444444444,
              "#bd3786"
             ],
             [
              0.5555555555555556,
              "#d8576b"
             ],
             [
              0.6666666666666666,
              "#ed7953"
             ],
             [
              0.7777777777777778,
              "#fb9f3a"
             ],
             [
              0.8888888888888888,
              "#fdca26"
             ],
             [
              1,
              "#f0f921"
             ]
            ],
            "type": "surface"
           }
          ],
          "table": [
           {
            "cells": {
             "fill": {
              "color": "#EBF0F8"
             },
             "line": {
              "color": "white"
             }
            },
            "header": {
             "fill": {
              "color": "#C8D4E3"
             },
             "line": {
              "color": "white"
             }
            },
            "type": "table"
           }
          ]
         },
         "layout": {
          "annotationdefaults": {
           "arrowcolor": "#2a3f5f",
           "arrowhead": 0,
           "arrowwidth": 1
          },
          "autotypenumbers": "strict",
          "coloraxis": {
           "colorbar": {
            "outlinewidth": 0,
            "ticks": ""
           }
          },
          "colorscale": {
           "diverging": [
            [
             0,
             "#8e0152"
            ],
            [
             0.1,
             "#c51b7d"
            ],
            [
             0.2,
             "#de77ae"
            ],
            [
             0.3,
             "#f1b6da"
            ],
            [
             0.4,
             "#fde0ef"
            ],
            [
             0.5,
             "#f7f7f7"
            ],
            [
             0.6,
             "#e6f5d0"
            ],
            [
             0.7,
             "#b8e186"
            ],
            [
             0.8,
             "#7fbc41"
            ],
            [
             0.9,
             "#4d9221"
            ],
            [
             1,
             "#276419"
            ]
           ],
           "sequential": [
            [
             0,
             "#0d0887"
            ],
            [
             0.1111111111111111,
             "#46039f"
            ],
            [
             0.2222222222222222,
             "#7201a8"
            ],
            [
             0.3333333333333333,
             "#9c179e"
            ],
            [
             0.4444444444444444,
             "#bd3786"
            ],
            [
             0.5555555555555556,
             "#d8576b"
            ],
            [
             0.6666666666666666,
             "#ed7953"
            ],
            [
             0.7777777777777778,
             "#fb9f3a"
            ],
            [
             0.8888888888888888,
             "#fdca26"
            ],
            [
             1,
             "#f0f921"
            ]
           ],
           "sequentialminus": [
            [
             0,
             "#0d0887"
            ],
            [
             0.1111111111111111,
             "#46039f"
            ],
            [
             0.2222222222222222,
             "#7201a8"
            ],
            [
             0.3333333333333333,
             "#9c179e"
            ],
            [
             0.4444444444444444,
             "#bd3786"
            ],
            [
             0.5555555555555556,
             "#d8576b"
            ],
            [
             0.6666666666666666,
             "#ed7953"
            ],
            [
             0.7777777777777778,
             "#fb9f3a"
            ],
            [
             0.8888888888888888,
             "#fdca26"
            ],
            [
             1,
             "#f0f921"
            ]
           ]
          },
          "colorway": [
           "#636efa",
           "#EF553B",
           "#00cc96",
           "#ab63fa",
           "#FFA15A",
           "#19d3f3",
           "#FF6692",
           "#B6E880",
           "#FF97FF",
           "#FECB52"
          ],
          "font": {
           "color": "#2a3f5f"
          },
          "geo": {
           "bgcolor": "white",
           "lakecolor": "white",
           "landcolor": "#E5ECF6",
           "showlakes": true,
           "showland": true,
           "subunitcolor": "white"
          },
          "hoverlabel": {
           "align": "left"
          },
          "hovermode": "closest",
          "mapbox": {
           "style": "light"
          },
          "paper_bgcolor": "white",
          "plot_bgcolor": "#E5ECF6",
          "polar": {
           "angularaxis": {
            "gridcolor": "white",
            "linecolor": "white",
            "ticks": ""
           },
           "bgcolor": "#E5ECF6",
           "radialaxis": {
            "gridcolor": "white",
            "linecolor": "white",
            "ticks": ""
           }
          },
          "scene": {
           "xaxis": {
            "backgroundcolor": "#E5ECF6",
            "gridcolor": "white",
            "gridwidth": 2,
            "linecolor": "white",
            "showbackground": true,
            "ticks": "",
            "zerolinecolor": "white"
           },
           "yaxis": {
            "backgroundcolor": "#E5ECF6",
            "gridcolor": "white",
            "gridwidth": 2,
            "linecolor": "white",
            "showbackground": true,
            "ticks": "",
            "zerolinecolor": "white"
           },
           "zaxis": {
            "backgroundcolor": "#E5ECF6",
            "gridcolor": "white",
            "gridwidth": 2,
            "linecolor": "white",
            "showbackground": true,
            "ticks": "",
            "zerolinecolor": "white"
           }
          },
          "shapedefaults": {
           "line": {
            "color": "#2a3f5f"
           }
          },
          "ternary": {
           "aaxis": {
            "gridcolor": "white",
            "linecolor": "white",
            "ticks": ""
           },
           "baxis": {
            "gridcolor": "white",
            "linecolor": "white",
            "ticks": ""
           },
           "bgcolor": "#E5ECF6",
           "caxis": {
            "gridcolor": "white",
            "linecolor": "white",
            "ticks": ""
           }
          },
          "title": {
           "x": 0.05
          },
          "xaxis": {
           "automargin": true,
           "gridcolor": "white",
           "linecolor": "white",
           "ticks": "",
           "title": {
            "standoff": 15
           },
           "zerolinecolor": "white",
           "zerolinewidth": 2
          },
          "yaxis": {
           "automargin": true,
           "gridcolor": "white",
           "linecolor": "white",
           "ticks": "",
           "title": {
            "standoff": 15
           },
           "zerolinecolor": "white",
           "zerolinewidth": 2
          }
         }
        },
        "xaxis": {
         "anchor": "y",
         "domain": [
          0,
          1
         ]
        },
        "yaxis": {
         "anchor": "x",
         "autorange": "reversed",
         "domain": [
          0,
          1
         ]
        }
       }
      }
     },
     "metadata": {},
     "output_type": "display_data"
    }
   ],
   "source": [
    "fig = px.imshow(\n",
    "    df_encoded.corr(), text_auto=True, aspect='auto'\n",
    ")\n",
    "fig.show()"
   ]
  },
  {
   "cell_type": "code",
   "execution_count": 11,
   "metadata": {},
   "outputs": [
    {
     "data": {
      "text/html": [
       "<div>\n",
       "<style scoped>\n",
       "    .dataframe tbody tr th:only-of-type {\n",
       "        vertical-align: middle;\n",
       "    }\n",
       "\n",
       "    .dataframe tbody tr th {\n",
       "        vertical-align: top;\n",
       "    }\n",
       "\n",
       "    .dataframe thead th {\n",
       "        text-align: right;\n",
       "    }\n",
       "</style>\n",
       "<table border=\"1\" class=\"dataframe\">\n",
       "  <thead>\n",
       "    <tr style=\"text-align: right;\">\n",
       "      <th></th>\n",
       "      <th>city</th>\n",
       "      <th>city_development_index</th>\n",
       "      <th>gender</th>\n",
       "      <th>relevent_experience</th>\n",
       "      <th>enrolled_university</th>\n",
       "      <th>education_level</th>\n",
       "      <th>major_discipline</th>\n",
       "      <th>experience</th>\n",
       "      <th>company_size</th>\n",
       "      <th>company_type</th>\n",
       "      <th>training_hours</th>\n",
       "      <th>target</th>\n",
       "    </tr>\n",
       "  </thead>\n",
       "  <tbody>\n",
       "    <tr>\n",
       "      <th>0</th>\n",
       "      <td>0.210841</td>\n",
       "      <td>0.920</td>\n",
       "      <td>0.248272</td>\n",
       "      <td>0.213115</td>\n",
       "      <td>0.215456</td>\n",
       "      <td>0.278311</td>\n",
       "      <td>0.250955</td>\n",
       "      <td>20.0</td>\n",
       "      <td>0.330624</td>\n",
       "      <td>0.261022</td>\n",
       "      <td>36.0</td>\n",
       "      <td>True</td>\n",
       "    </tr>\n",
       "    <tr>\n",
       "      <th>1</th>\n",
       "      <td>0.149396</td>\n",
       "      <td>0.776</td>\n",
       "      <td>0.248272</td>\n",
       "      <td>0.341732</td>\n",
       "      <td>0.215456</td>\n",
       "      <td>0.278311</td>\n",
       "      <td>0.250955</td>\n",
       "      <td>15.0</td>\n",
       "      <td>0.330624</td>\n",
       "      <td>0.261022</td>\n",
       "      <td>47.0</td>\n",
       "      <td>False</td>\n",
       "    </tr>\n",
       "    <tr>\n",
       "      <th>2</th>\n",
       "      <td>0.585412</td>\n",
       "      <td>0.624</td>\n",
       "      <td>0.248540</td>\n",
       "      <td>0.334007</td>\n",
       "      <td>0.378715</td>\n",
       "      <td>0.275560</td>\n",
       "      <td>0.251229</td>\n",
       "      <td>5.0</td>\n",
       "      <td>0.326341</td>\n",
       "      <td>0.260967</td>\n",
       "      <td>83.0</td>\n",
       "      <td>False</td>\n",
       "    </tr>\n",
       "    <tr>\n",
       "      <th>3</th>\n",
       "      <td>0.358828</td>\n",
       "      <td>0.789</td>\n",
       "      <td>0.248540</td>\n",
       "      <td>0.334007</td>\n",
       "      <td>0.213721</td>\n",
       "      <td>0.275560</td>\n",
       "      <td>0.229394</td>\n",
       "      <td>0.0</td>\n",
       "      <td>0.326341</td>\n",
       "      <td>0.260967</td>\n",
       "      <td>52.0</td>\n",
       "      <td>True</td>\n",
       "    </tr>\n",
       "    <tr>\n",
       "      <th>4</th>\n",
       "      <td>0.311754</td>\n",
       "      <td>0.767</td>\n",
       "      <td>0.248168</td>\n",
       "      <td>0.213811</td>\n",
       "      <td>0.214452</td>\n",
       "      <td>0.213910</td>\n",
       "      <td>0.250018</td>\n",
       "      <td>20.0</td>\n",
       "      <td>0.326683</td>\n",
       "      <td>0.141869</td>\n",
       "      <td>8.0</td>\n",
       "      <td>False</td>\n",
       "    </tr>\n",
       "    <tr>\n",
       "      <th>...</th>\n",
       "      <td>...</td>\n",
       "      <td>...</td>\n",
       "      <td>...</td>\n",
       "      <td>...</td>\n",
       "      <td>...</td>\n",
       "      <td>...</td>\n",
       "      <td>...</td>\n",
       "      <td>...</td>\n",
       "      <td>...</td>\n",
       "      <td>...</td>\n",
       "      <td>...</td>\n",
       "      <td>...</td>\n",
       "    </tr>\n",
       "    <tr>\n",
       "      <th>19153</th>\n",
       "      <td>0.092249</td>\n",
       "      <td>0.878</td>\n",
       "      <td>0.248044</td>\n",
       "      <td>0.334392</td>\n",
       "      <td>0.215091</td>\n",
       "      <td>0.280080</td>\n",
       "      <td>0.209107</td>\n",
       "      <td>14.0</td>\n",
       "      <td>0.325053</td>\n",
       "      <td>0.259948</td>\n",
       "      <td>42.0</td>\n",
       "      <td>True</td>\n",
       "    </tr>\n",
       "    <tr>\n",
       "      <th>19154</th>\n",
       "      <td>0.210841</td>\n",
       "      <td>0.920</td>\n",
       "      <td>0.248272</td>\n",
       "      <td>0.213115</td>\n",
       "      <td>0.215456</td>\n",
       "      <td>0.278311</td>\n",
       "      <td>0.250955</td>\n",
       "      <td>14.0</td>\n",
       "      <td>0.330624</td>\n",
       "      <td>0.261022</td>\n",
       "      <td>52.0</td>\n",
       "      <td>True</td>\n",
       "    </tr>\n",
       "    <tr>\n",
       "      <th>19155</th>\n",
       "      <td>0.214336</td>\n",
       "      <td>0.920</td>\n",
       "      <td>0.248044</td>\n",
       "      <td>0.216072</td>\n",
       "      <td>0.215091</td>\n",
       "      <td>0.280080</td>\n",
       "      <td>0.251319</td>\n",
       "      <td>20.0</td>\n",
       "      <td>0.325053</td>\n",
       "      <td>0.259948</td>\n",
       "      <td>44.0</td>\n",
       "      <td>False</td>\n",
       "    </tr>\n",
       "    <tr>\n",
       "      <th>19156</th>\n",
       "      <td>0.138417</td>\n",
       "      <td>0.802</td>\n",
       "      <td>0.248272</td>\n",
       "      <td>0.213115</td>\n",
       "      <td>0.215456</td>\n",
       "      <td>0.197931</td>\n",
       "      <td>0.250955</td>\n",
       "      <td>0.0</td>\n",
       "      <td>0.170747</td>\n",
       "      <td>0.261022</td>\n",
       "      <td>97.0</td>\n",
       "      <td>False</td>\n",
       "    </tr>\n",
       "    <tr>\n",
       "      <th>19157</th>\n",
       "      <td>0.146329</td>\n",
       "      <td>0.855</td>\n",
       "      <td>0.248163</td>\n",
       "      <td>0.340251</td>\n",
       "      <td>0.212891</td>\n",
       "      <td>0.144913</td>\n",
       "      <td>0.250451</td>\n",
       "      <td>2.0</td>\n",
       "      <td>0.329140</td>\n",
       "      <td>0.260654</td>\n",
       "      <td>127.0</td>\n",
       "      <td>False</td>\n",
       "    </tr>\n",
       "  </tbody>\n",
       "</table>\n",
       "<p>19158 rows × 12 columns</p>\n",
       "</div>"
      ],
      "text/plain": [
       "           city  city_development_index    gender  relevent_experience  \\\n",
       "0      0.210841                   0.920  0.248272             0.213115   \n",
       "1      0.149396                   0.776  0.248272             0.341732   \n",
       "2      0.585412                   0.624  0.248540             0.334007   \n",
       "3      0.358828                   0.789  0.248540             0.334007   \n",
       "4      0.311754                   0.767  0.248168             0.213811   \n",
       "...         ...                     ...       ...                  ...   \n",
       "19153  0.092249                   0.878  0.248044             0.334392   \n",
       "19154  0.210841                   0.920  0.248272             0.213115   \n",
       "19155  0.214336                   0.920  0.248044             0.216072   \n",
       "19156  0.138417                   0.802  0.248272             0.213115   \n",
       "19157  0.146329                   0.855  0.248163             0.340251   \n",
       "\n",
       "       enrolled_university  education_level  major_discipline  experience  \\\n",
       "0                 0.215456         0.278311          0.250955        20.0   \n",
       "1                 0.215456         0.278311          0.250955        15.0   \n",
       "2                 0.378715         0.275560          0.251229         5.0   \n",
       "3                 0.213721         0.275560          0.229394         0.0   \n",
       "4                 0.214452         0.213910          0.250018        20.0   \n",
       "...                    ...              ...               ...         ...   \n",
       "19153             0.215091         0.280080          0.209107        14.0   \n",
       "19154             0.215456         0.278311          0.250955        14.0   \n",
       "19155             0.215091         0.280080          0.251319        20.0   \n",
       "19156             0.215456         0.197931          0.250955         0.0   \n",
       "19157             0.212891         0.144913          0.250451         2.0   \n",
       "\n",
       "       company_size  company_type  training_hours  target  \n",
       "0          0.330624      0.261022            36.0    True  \n",
       "1          0.330624      0.261022            47.0   False  \n",
       "2          0.326341      0.260967            83.0   False  \n",
       "3          0.326341      0.260967            52.0    True  \n",
       "4          0.326683      0.141869             8.0   False  \n",
       "...             ...           ...             ...     ...  \n",
       "19153      0.325053      0.259948            42.0    True  \n",
       "19154      0.330624      0.261022            52.0    True  \n",
       "19155      0.325053      0.259948            44.0   False  \n",
       "19156      0.170747      0.261022            97.0   False  \n",
       "19157      0.329140      0.260654           127.0   False  \n",
       "\n",
       "[19158 rows x 12 columns]"
      ]
     },
     "execution_count": 11,
     "metadata": {},
     "output_type": "execute_result"
    }
   ],
   "source": [
    "final_df = df\n",
    "final_df[df_encoded.columns] = df_encoded\n",
    "final_df"
   ]
  },
  {
   "cell_type": "code",
   "execution_count": 12,
   "metadata": {},
   "outputs": [
    {
     "name": "stdout",
     "output_type": "stream",
     "text": [
      "<class 'pandas.core.frame.DataFrame'>\n",
      "RangeIndex: 19158 entries, 0 to 19157\n",
      "Data columns (total 12 columns):\n",
      " #   Column                  Non-Null Count  Dtype  \n",
      "---  ------                  --------------  -----  \n",
      " 0   city                    19158 non-null  float64\n",
      " 1   city_development_index  19158 non-null  float64\n",
      " 2   gender                  19158 non-null  float64\n",
      " 3   relevent_experience     19158 non-null  float64\n",
      " 4   enrolled_university     19158 non-null  float64\n",
      " 5   education_level         19158 non-null  float64\n",
      " 6   major_discipline        19158 non-null  float64\n",
      " 7   experience              19158 non-null  float64\n",
      " 8   company_size            19158 non-null  float64\n",
      " 9   company_type            19158 non-null  float64\n",
      " 10  training_hours          19158 non-null  float64\n",
      " 11  target                  19158 non-null  boolean\n",
      "dtypes: boolean(1), float64(11)\n",
      "memory usage: 1.6 MB\n"
     ]
    }
   ],
   "source": [
    "final_df.info()"
   ]
  },
  {
   "cell_type": "code",
   "execution_count": 13,
   "metadata": {},
   "outputs": [
    {
     "data": {
      "application/vnd.plotly.v1+json": {
       "config": {
        "plotlyServerURL": "https://plot.ly"
       },
       "data": [
        {
         "coloraxis": "coloraxis",
         "hovertemplate": "x: %{x}<br>y: %{y}<br>color: %{z}<extra></extra>",
         "name": "0",
         "texttemplate": "%{z}",
         "type": "heatmap",
         "x": [
          "city",
          "city_development_index",
          "gender",
          "relevent_experience",
          "enrolled_university",
          "education_level",
          "major_discipline",
          "experience",
          "company_size",
          "company_type",
          "training_hours",
          "target"
         ],
         "xaxis": "x",
         "y": [
          "city",
          "city_development_index",
          "gender",
          "relevent_experience",
          "enrolled_university",
          "education_level",
          "major_discipline",
          "experience",
          "company_size",
          "company_type",
          "training_hours",
          "target"
         ],
         "yaxis": "y",
         "z": [
          [
           1,
           -0.8389805479685223,
           -0.013824871794608059,
           0.04366324236442599,
           0.13757149384047684,
           0.11918043521947352,
           0.055456032553617016,
           -0.3022687433105592,
           0.05102474736083452,
           0.028287041097990667,
           0.008950878838521189,
           0.377451045242257
          ],
          [
           -0.8389805479685223,
           1,
           0.039224724464877764,
           -0.06080683429416025,
           -0.16328447449816214,
           -0.06997707865075951,
           -0.08398753326003824,
           0.32690849066320804,
           -0.07545761247401712,
           -0.047382488746526154,
           -0.0012495018011978382,
           -0.3343997208630148
          ],
          [
           -0.013824871794608059,
           0.039224724464877764,
           1,
           0.020603933817719165,
           -0.0050856560915919485,
           -0.005157886925718397,
           -0.06601815131521895,
           -0.034881622998696564,
           -0.008560329917994417,
           -0.038849758218111874,
           0.0003497817791221693,
           0.0010878122860103474
          ],
          [
           0.04366324236442599,
           -0.06080683429416025,
           0.020603933817719165,
           1,
           0.37443165948712026,
           -0.16385892855763712,
           0.000509466383391827,
           -0.34408864548717805,
           0.27938275129978196,
           0.07137213156762973,
           -0.009650406243536877,
           0.12758674745646326
          ],
          [
           0.13757149384047684,
           -0.16328447449816214,
           -0.0050856560915919485,
           0.37443165948712026,
           1,
           -0.024021923876654094,
           0.06189830999878201,
           -0.33014397194783773,
           0.1848884324472254,
           0.042371139396995425,
           -0.00324893300488837,
           0.15063902589005992
          ],
          [
           0.11918043521947352,
           -0.06997707865075951,
           -0.005157886925718397,
           -0.16385892855763712,
           -0.024021923876654094,
           1,
           -0.016381049610517267,
           -0.01774376371416234,
           -0.05737066355363735,
           -0.0013738132763009576,
           0.0062043473832567335,
           0.08967864163572421
          ],
          [
           0.055456032553617016,
           -0.08398753326003824,
           -0.06601815131521895,
           0.000509466383391827,
           0.06189830999878201,
           -0.016381049610517267,
           1,
           0.0003975479410328753,
           -0.008630805656629829,
           0.030975013232456695,
           0.005290937254975882,
           0.004227725109872489
          ],
          [
           -0.3022687433105592,
           0.32690849066320804,
           -0.034881622998696564,
           -0.34408864548717805,
           -0.33014397194783773,
           -0.01774376371416234,
           0.0003975479410328753,
           1,
           -0.1495245122427446,
           -0.0208453493930547,
           -0.0003520828969855457,
           -0.17796136674501264
          ],
          [
           0.05102474736083452,
           -0.07545761247401712,
           -0.008560329917994417,
           0.27938275129978196,
           0.1848884324472254,
           -0.05737066355363735,
           -0.008630805656629829,
           -0.1495245122427446,
           1,
           0.10358252288730618,
           0.009998821541187876,
           0.17415499934111464
          ],
          [
           0.028287041097990667,
           -0.047382488746526154,
           -0.038849758218111874,
           0.07137213156762973,
           0.042371139396995425,
           -0.0013738132763009576,
           0.030975013232456695,
           -0.0208453493930547,
           0.10358252288730618,
           1,
           -0.009258913823723708,
           0.06619673094380056
          ],
          [
           0.008950878838521189,
           -0.0012495018011978382,
           0.0003497817791221693,
           -0.009650406243536877,
           -0.00324893300488837,
           0.0062043473832567335,
           0.005290937254975882,
           -0.0003520828969855457,
           0.009998821541187876,
           -0.009258913823723708,
           1,
           -0.021156973065424998
          ],
          [
           0.377451045242257,
           -0.3343997208630148,
           0.0010878122860103474,
           0.12758674745646326,
           0.15063902589005992,
           0.08967864163572421,
           0.004227725109872489,
           -0.17796136674501264,
           0.17415499934111464,
           0.06619673094380056,
           -0.021156973065424998,
           1
          ]
         ]
        }
       ],
       "layout": {
        "coloraxis": {
         "colorscale": [
          [
           0,
           "#0d0887"
          ],
          [
           0.1111111111111111,
           "#46039f"
          ],
          [
           0.2222222222222222,
           "#7201a8"
          ],
          [
           0.3333333333333333,
           "#9c179e"
          ],
          [
           0.4444444444444444,
           "#bd3786"
          ],
          [
           0.5555555555555556,
           "#d8576b"
          ],
          [
           0.6666666666666666,
           "#ed7953"
          ],
          [
           0.7777777777777778,
           "#fb9f3a"
          ],
          [
           0.8888888888888888,
           "#fdca26"
          ],
          [
           1,
           "#f0f921"
          ]
         ]
        },
        "margin": {
         "t": 60
        },
        "template": {
         "data": {
          "bar": [
           {
            "error_x": {
             "color": "#2a3f5f"
            },
            "error_y": {
             "color": "#2a3f5f"
            },
            "marker": {
             "line": {
              "color": "#E5ECF6",
              "width": 0.5
             },
             "pattern": {
              "fillmode": "overlay",
              "size": 10,
              "solidity": 0.2
             }
            },
            "type": "bar"
           }
          ],
          "barpolar": [
           {
            "marker": {
             "line": {
              "color": "#E5ECF6",
              "width": 0.5
             },
             "pattern": {
              "fillmode": "overlay",
              "size": 10,
              "solidity": 0.2
             }
            },
            "type": "barpolar"
           }
          ],
          "carpet": [
           {
            "aaxis": {
             "endlinecolor": "#2a3f5f",
             "gridcolor": "white",
             "linecolor": "white",
             "minorgridcolor": "white",
             "startlinecolor": "#2a3f5f"
            },
            "baxis": {
             "endlinecolor": "#2a3f5f",
             "gridcolor": "white",
             "linecolor": "white",
             "minorgridcolor": "white",
             "startlinecolor": "#2a3f5f"
            },
            "type": "carpet"
           }
          ],
          "choropleth": [
           {
            "colorbar": {
             "outlinewidth": 0,
             "ticks": ""
            },
            "type": "choropleth"
           }
          ],
          "contour": [
           {
            "colorbar": {
             "outlinewidth": 0,
             "ticks": ""
            },
            "colorscale": [
             [
              0,
              "#0d0887"
             ],
             [
              0.1111111111111111,
              "#46039f"
             ],
             [
              0.2222222222222222,
              "#7201a8"
             ],
             [
              0.3333333333333333,
              "#9c179e"
             ],
             [
              0.4444444444444444,
              "#bd3786"
             ],
             [
              0.5555555555555556,
              "#d8576b"
             ],
             [
              0.6666666666666666,
              "#ed7953"
             ],
             [
              0.7777777777777778,
              "#fb9f3a"
             ],
             [
              0.8888888888888888,
              "#fdca26"
             ],
             [
              1,
              "#f0f921"
             ]
            ],
            "type": "contour"
           }
          ],
          "contourcarpet": [
           {
            "colorbar": {
             "outlinewidth": 0,
             "ticks": ""
            },
            "type": "contourcarpet"
           }
          ],
          "heatmap": [
           {
            "colorbar": {
             "outlinewidth": 0,
             "ticks": ""
            },
            "colorscale": [
             [
              0,
              "#0d0887"
             ],
             [
              0.1111111111111111,
              "#46039f"
             ],
             [
              0.2222222222222222,
              "#7201a8"
             ],
             [
              0.3333333333333333,
              "#9c179e"
             ],
             [
              0.4444444444444444,
              "#bd3786"
             ],
             [
              0.5555555555555556,
              "#d8576b"
             ],
             [
              0.6666666666666666,
              "#ed7953"
             ],
             [
              0.7777777777777778,
              "#fb9f3a"
             ],
             [
              0.8888888888888888,
              "#fdca26"
             ],
             [
              1,
              "#f0f921"
             ]
            ],
            "type": "heatmap"
           }
          ],
          "heatmapgl": [
           {
            "colorbar": {
             "outlinewidth": 0,
             "ticks": ""
            },
            "colorscale": [
             [
              0,
              "#0d0887"
             ],
             [
              0.1111111111111111,
              "#46039f"
             ],
             [
              0.2222222222222222,
              "#7201a8"
             ],
             [
              0.3333333333333333,
              "#9c179e"
             ],
             [
              0.4444444444444444,
              "#bd3786"
             ],
             [
              0.5555555555555556,
              "#d8576b"
             ],
             [
              0.6666666666666666,
              "#ed7953"
             ],
             [
              0.7777777777777778,
              "#fb9f3a"
             ],
             [
              0.8888888888888888,
              "#fdca26"
             ],
             [
              1,
              "#f0f921"
             ]
            ],
            "type": "heatmapgl"
           }
          ],
          "histogram": [
           {
            "marker": {
             "pattern": {
              "fillmode": "overlay",
              "size": 10,
              "solidity": 0.2
             }
            },
            "type": "histogram"
           }
          ],
          "histogram2d": [
           {
            "colorbar": {
             "outlinewidth": 0,
             "ticks": ""
            },
            "colorscale": [
             [
              0,
              "#0d0887"
             ],
             [
              0.1111111111111111,
              "#46039f"
             ],
             [
              0.2222222222222222,
              "#7201a8"
             ],
             [
              0.3333333333333333,
              "#9c179e"
             ],
             [
              0.4444444444444444,
              "#bd3786"
             ],
             [
              0.5555555555555556,
              "#d8576b"
             ],
             [
              0.6666666666666666,
              "#ed7953"
             ],
             [
              0.7777777777777778,
              "#fb9f3a"
             ],
             [
              0.8888888888888888,
              "#fdca26"
             ],
             [
              1,
              "#f0f921"
             ]
            ],
            "type": "histogram2d"
           }
          ],
          "histogram2dcontour": [
           {
            "colorbar": {
             "outlinewidth": 0,
             "ticks": ""
            },
            "colorscale": [
             [
              0,
              "#0d0887"
             ],
             [
              0.1111111111111111,
              "#46039f"
             ],
             [
              0.2222222222222222,
              "#7201a8"
             ],
             [
              0.3333333333333333,
              "#9c179e"
             ],
             [
              0.4444444444444444,
              "#bd3786"
             ],
             [
              0.5555555555555556,
              "#d8576b"
             ],
             [
              0.6666666666666666,
              "#ed7953"
             ],
             [
              0.7777777777777778,
              "#fb9f3a"
             ],
             [
              0.8888888888888888,
              "#fdca26"
             ],
             [
              1,
              "#f0f921"
             ]
            ],
            "type": "histogram2dcontour"
           }
          ],
          "mesh3d": [
           {
            "colorbar": {
             "outlinewidth": 0,
             "ticks": ""
            },
            "type": "mesh3d"
           }
          ],
          "parcoords": [
           {
            "line": {
             "colorbar": {
              "outlinewidth": 0,
              "ticks": ""
             }
            },
            "type": "parcoords"
           }
          ],
          "pie": [
           {
            "automargin": true,
            "type": "pie"
           }
          ],
          "scatter": [
           {
            "fillpattern": {
             "fillmode": "overlay",
             "size": 10,
             "solidity": 0.2
            },
            "type": "scatter"
           }
          ],
          "scatter3d": [
           {
            "line": {
             "colorbar": {
              "outlinewidth": 0,
              "ticks": ""
             }
            },
            "marker": {
             "colorbar": {
              "outlinewidth": 0,
              "ticks": ""
             }
            },
            "type": "scatter3d"
           }
          ],
          "scattercarpet": [
           {
            "marker": {
             "colorbar": {
              "outlinewidth": 0,
              "ticks": ""
             }
            },
            "type": "scattercarpet"
           }
          ],
          "scattergeo": [
           {
            "marker": {
             "colorbar": {
              "outlinewidth": 0,
              "ticks": ""
             }
            },
            "type": "scattergeo"
           }
          ],
          "scattergl": [
           {
            "marker": {
             "colorbar": {
              "outlinewidth": 0,
              "ticks": ""
             }
            },
            "type": "scattergl"
           }
          ],
          "scattermapbox": [
           {
            "marker": {
             "colorbar": {
              "outlinewidth": 0,
              "ticks": ""
             }
            },
            "type": "scattermapbox"
           }
          ],
          "scatterpolar": [
           {
            "marker": {
             "colorbar": {
              "outlinewidth": 0,
              "ticks": ""
             }
            },
            "type": "scatterpolar"
           }
          ],
          "scatterpolargl": [
           {
            "marker": {
             "colorbar": {
              "outlinewidth": 0,
              "ticks": ""
             }
            },
            "type": "scatterpolargl"
           }
          ],
          "scatterternary": [
           {
            "marker": {
             "colorbar": {
              "outlinewidth": 0,
              "ticks": ""
             }
            },
            "type": "scatterternary"
           }
          ],
          "surface": [
           {
            "colorbar": {
             "outlinewidth": 0,
             "ticks": ""
            },
            "colorscale": [
             [
              0,
              "#0d0887"
             ],
             [
              0.1111111111111111,
              "#46039f"
             ],
             [
              0.2222222222222222,
              "#7201a8"
             ],
             [
              0.3333333333333333,
              "#9c179e"
             ],
             [
              0.4444444444444444,
              "#bd3786"
             ],
             [
              0.5555555555555556,
              "#d8576b"
             ],
             [
              0.6666666666666666,
              "#ed7953"
             ],
             [
              0.7777777777777778,
              "#fb9f3a"
             ],
             [
              0.8888888888888888,
              "#fdca26"
             ],
             [
              1,
              "#f0f921"
             ]
            ],
            "type": "surface"
           }
          ],
          "table": [
           {
            "cells": {
             "fill": {
              "color": "#EBF0F8"
             },
             "line": {
              "color": "white"
             }
            },
            "header": {
             "fill": {
              "color": "#C8D4E3"
             },
             "line": {
              "color": "white"
             }
            },
            "type": "table"
           }
          ]
         },
         "layout": {
          "annotationdefaults": {
           "arrowcolor": "#2a3f5f",
           "arrowhead": 0,
           "arrowwidth": 1
          },
          "autotypenumbers": "strict",
          "coloraxis": {
           "colorbar": {
            "outlinewidth": 0,
            "ticks": ""
           }
          },
          "colorscale": {
           "diverging": [
            [
             0,
             "#8e0152"
            ],
            [
             0.1,
             "#c51b7d"
            ],
            [
             0.2,
             "#de77ae"
            ],
            [
             0.3,
             "#f1b6da"
            ],
            [
             0.4,
             "#fde0ef"
            ],
            [
             0.5,
             "#f7f7f7"
            ],
            [
             0.6,
             "#e6f5d0"
            ],
            [
             0.7,
             "#b8e186"
            ],
            [
             0.8,
             "#7fbc41"
            ],
            [
             0.9,
             "#4d9221"
            ],
            [
             1,
             "#276419"
            ]
           ],
           "sequential": [
            [
             0,
             "#0d0887"
            ],
            [
             0.1111111111111111,
             "#46039f"
            ],
            [
             0.2222222222222222,
             "#7201a8"
            ],
            [
             0.3333333333333333,
             "#9c179e"
            ],
            [
             0.4444444444444444,
             "#bd3786"
            ],
            [
             0.5555555555555556,
             "#d8576b"
            ],
            [
             0.6666666666666666,
             "#ed7953"
            ],
            [
             0.7777777777777778,
             "#fb9f3a"
            ],
            [
             0.8888888888888888,
             "#fdca26"
            ],
            [
             1,
             "#f0f921"
            ]
           ],
           "sequentialminus": [
            [
             0,
             "#0d0887"
            ],
            [
             0.1111111111111111,
             "#46039f"
            ],
            [
             0.2222222222222222,
             "#7201a8"
            ],
            [
             0.3333333333333333,
             "#9c179e"
            ],
            [
             0.4444444444444444,
             "#bd3786"
            ],
            [
             0.5555555555555556,
             "#d8576b"
            ],
            [
             0.6666666666666666,
             "#ed7953"
            ],
            [
             0.7777777777777778,
             "#fb9f3a"
            ],
            [
             0.8888888888888888,
             "#fdca26"
            ],
            [
             1,
             "#f0f921"
            ]
           ]
          },
          "colorway": [
           "#636efa",
           "#EF553B",
           "#00cc96",
           "#ab63fa",
           "#FFA15A",
           "#19d3f3",
           "#FF6692",
           "#B6E880",
           "#FF97FF",
           "#FECB52"
          ],
          "font": {
           "color": "#2a3f5f"
          },
          "geo": {
           "bgcolor": "white",
           "lakecolor": "white",
           "landcolor": "#E5ECF6",
           "showlakes": true,
           "showland": true,
           "subunitcolor": "white"
          },
          "hoverlabel": {
           "align": "left"
          },
          "hovermode": "closest",
          "mapbox": {
           "style": "light"
          },
          "paper_bgcolor": "white",
          "plot_bgcolor": "#E5ECF6",
          "polar": {
           "angularaxis": {
            "gridcolor": "white",
            "linecolor": "white",
            "ticks": ""
           },
           "bgcolor": "#E5ECF6",
           "radialaxis": {
            "gridcolor": "white",
            "linecolor": "white",
            "ticks": ""
           }
          },
          "scene": {
           "xaxis": {
            "backgroundcolor": "#E5ECF6",
            "gridcolor": "white",
            "gridwidth": 2,
            "linecolor": "white",
            "showbackground": true,
            "ticks": "",
            "zerolinecolor": "white"
           },
           "yaxis": {
            "backgroundcolor": "#E5ECF6",
            "gridcolor": "white",
            "gridwidth": 2,
            "linecolor": "white",
            "showbackground": true,
            "ticks": "",
            "zerolinecolor": "white"
           },
           "zaxis": {
            "backgroundcolor": "#E5ECF6",
            "gridcolor": "white",
            "gridwidth": 2,
            "linecolor": "white",
            "showbackground": true,
            "ticks": "",
            "zerolinecolor": "white"
           }
          },
          "shapedefaults": {
           "line": {
            "color": "#2a3f5f"
           }
          },
          "ternary": {
           "aaxis": {
            "gridcolor": "white",
            "linecolor": "white",
            "ticks": ""
           },
           "baxis": {
            "gridcolor": "white",
            "linecolor": "white",
            "ticks": ""
           },
           "bgcolor": "#E5ECF6",
           "caxis": {
            "gridcolor": "white",
            "linecolor": "white",
            "ticks": ""
           }
          },
          "title": {
           "x": 0.05
          },
          "xaxis": {
           "automargin": true,
           "gridcolor": "white",
           "linecolor": "white",
           "ticks": "",
           "title": {
            "standoff": 15
           },
           "zerolinecolor": "white",
           "zerolinewidth": 2
          },
          "yaxis": {
           "automargin": true,
           "gridcolor": "white",
           "linecolor": "white",
           "ticks": "",
           "title": {
            "standoff": 15
           },
           "zerolinecolor": "white",
           "zerolinewidth": 2
          }
         }
        },
        "xaxis": {
         "anchor": "y",
         "domain": [
          0,
          1
         ]
        },
        "yaxis": {
         "anchor": "x",
         "autorange": "reversed",
         "domain": [
          0,
          1
         ]
        }
       }
      }
     },
     "metadata": {},
     "output_type": "display_data"
    }
   ],
   "source": [
    "# Part 1 Task 1\n",
    "fig = px.imshow(\n",
    "    final_df.corr(), text_auto=True, aspect='auto'\n",
    ")\n",
    "fig.show()"
   ]
  },
  {
   "cell_type": "code",
   "execution_count": 73,
   "metadata": {},
   "outputs": [],
   "source": [
    "# Part 1 Task 2\n",
    "def rforest_feature_selection(df, target_col, threshold = 0.1):\n",
    "    model = xgb.XGBRFClassifier()\n",
    "    x = df.drop(target_col, axis=1)\n",
    "    y = df[target_col]\n",
    "    model.fit(x, y)\n",
    "    features_importances = dict(zip(x.columns.to_list(), list(model.feature_importances_)))\n",
    "    return dict(filter(lambda pair: pair[1] >= threshold, features_importances.items()))"
   ]
  },
  {
   "cell_type": "code",
   "execution_count": 75,
   "metadata": {},
   "outputs": [],
   "source": [
    "# Part 1 Task 3\n",
    "def p_value_feature_selection(df, target_col):\n",
    "    x = df.drop(target_col, axis=1)\n",
    "    y = df[target_col]\n",
    "    f_test = f_classif(x, y)\n",
    "    p_values = f_test[1]\n",
    "    features_p_values = dict(zip(x.columns.to_list(), list(p_values)))\n",
    "    return dict(filter(lambda pair: pair[1] < 0.05, features_p_values.items()))"
   ]
  },
  {
   "cell_type": "code",
   "execution_count": 78,
   "metadata": {},
   "outputs": [],
   "source": [
    "# Part 1 Task 4\n",
    "def mutual_info_feature_selection(df, target_col, percentile=0.5):\n",
    "    x = df.drop(target_col, axis=1)\n",
    "    y = df[target_col]\n",
    "    features_importances = mutual_info_classif(x, y)    \n",
    "    features_importances = dict(zip(x.columns.to_list(), list(features_importances)))\n",
    "    features_importances = dict(sorted(features_importances.items(),\n",
    "                                       key=lambda pair: pair[0])[:round(len(features_importances)*percentile)])\n",
    "    return features_importances"
   ]
  },
  {
   "cell_type": "code",
   "execution_count": 80,
   "metadata": {},
   "outputs": [],
   "source": [
    "# Part 1 Task 5\n",
    "def rfe_feature_selection(df, target_col, percentile=0.5):\n",
    "    x = df.drop(target_col, axis=1)\n",
    "    y = df[target_col]    \n",
    "    model = RFE(estimator=SVC(kernel='linear'), n_features_to_select=percentile)\n",
    "    model.fit(x, y)\n",
    "    return {feature: True for feature in model.get_feature_names_out()}"
   ]
  },
  {
   "cell_type": "code",
   "execution_count": 17,
   "metadata": {},
   "outputs": [],
   "source": [
    "# Some selected features from data science df 'cause rfe method is kinda slow\n",
    "rfe_selected = {'city': True,\n",
    "                'city_development_index': True,\n",
    "                'enrolled_university': True,\n",
    "                'company_size': True,\n",
    "                'company_type': True}"
   ]
  },
  {
   "cell_type": "code",
   "execution_count": 74,
   "metadata": {},
   "outputs": [
    {
     "name": "stdout",
     "output_type": "stream",
     "text": [
      "              precision    recall  f1-score   support\n",
      "\n",
      "         0.0       0.83      0.88      0.85      2877\n",
      "         1.0       0.56      0.45      0.50       955\n",
      "\n",
      "    accuracy                           0.77      3832\n",
      "   macro avg       0.69      0.66      0.67      3832\n",
      "weighted avg       0.76      0.77      0.76      3832\n",
      "\n"
     ]
    }
   ],
   "source": [
    "# Part 1 Task 6\n",
    "# Random Forest\n",
    "model = xgb.XGBClassifier()\n",
    "x = final_df[list(rforest_feature_selection(\n",
    "    final_df, 'target', 0.02\n",
    ").keys())]\n",
    "y = final_df['target']\n",
    "x_train, x_test, y_train, y_test = train_test_split(x, y, test_size=0.2, stratify=y)\n",
    "model.fit(x_train, y_train)\n",
    "pred = model.predict(x_test)\n",
    "print(classification_report(y_test, pred))"
   ]
  },
  {
   "cell_type": "code",
   "execution_count": 76,
   "metadata": {},
   "outputs": [
    {
     "name": "stdout",
     "output_type": "stream",
     "text": [
      "              precision    recall  f1-score   support\n",
      "\n",
      "         0.0       0.82      0.88      0.85      2877\n",
      "         1.0       0.54      0.43      0.48       955\n",
      "\n",
      "    accuracy                           0.77      3832\n",
      "   macro avg       0.68      0.66      0.66      3832\n",
      "weighted avg       0.75      0.77      0.76      3832\n",
      "\n"
     ]
    }
   ],
   "source": [
    "# Part 1 Task 6\n",
    "# P-Value\n",
    "model = xgb.XGBClassifier()\n",
    "x = final_df[list(p_value_feature_selection(\n",
    "    final_df, 'target'\n",
    ").keys())]\n",
    "y = final_df['target']\n",
    "x_train, x_test, y_train, y_test = train_test_split(x, y, test_size=0.2, stratify=y)\n",
    "model.fit(x_train, y_train)\n",
    "pred = model.predict(x_test)\n",
    "print(classification_report(y_test, pred))"
   ]
  },
  {
   "cell_type": "code",
   "execution_count": 79,
   "metadata": {},
   "outputs": [
    {
     "name": "stdout",
     "output_type": "stream",
     "text": [
      "              precision    recall  f1-score   support\n",
      "\n",
      "         0.0       0.82      0.89      0.85      2877\n",
      "         1.0       0.55      0.41      0.47       955\n",
      "\n",
      "    accuracy                           0.77      3832\n",
      "   macro avg       0.69      0.65      0.66      3832\n",
      "weighted avg       0.75      0.77      0.76      3832\n",
      "\n"
     ]
    }
   ],
   "source": [
    "# Part 1 Task 6\n",
    "# Mutual Info\n",
    "model = xgb.XGBClassifier()\n",
    "x = final_df[list(mutual_info_feature_selection(\n",
    "    final_df, 'target'\n",
    ").keys())]\n",
    "y = final_df['target']\n",
    "x_train, x_test, y_train, y_test = train_test_split(x, y, test_size=0.2, stratify=y)\n",
    "model.fit(x_train, y_train)\n",
    "pred = model.predict(x_test)\n",
    "print(classification_report(y_test, pred))"
   ]
  },
  {
   "cell_type": "code",
   "execution_count": 23,
   "metadata": {},
   "outputs": [
    {
     "name": "stdout",
     "output_type": "stream",
     "text": [
      "              precision    recall  f1-score   support\n",
      "\n",
      "         0.0       0.82      0.89      0.85      2877\n",
      "         1.0       0.55      0.41      0.47       955\n",
      "\n",
      "    accuracy                           0.77      3832\n",
      "   macro avg       0.69      0.65      0.66      3832\n",
      "weighted avg       0.75      0.77      0.76      3832\n",
      "\n"
     ]
    }
   ],
   "source": [
    "# Part 1 Task 6\n",
    "# RFE\n",
    "model = xgb.XGBClassifier()\n",
    "x = final_df[list(rfe_selected.keys())]\n",
    "y = final_df['target']\n",
    "x_train, x_test, y_train, y_test = train_test_split(x, y, test_size=0.2, stratify=y)\n",
    "model.fit(x_train, y_train)\n",
    "pred = model.predict(x_test)\n",
    "print(classification_report(y_test, pred))"
   ]
  },
  {
   "cell_type": "code",
   "execution_count": null,
   "metadata": {},
   "outputs": [],
   "source": [
    "# RForest is the best for now"
   ]
  },
  {
   "cell_type": "code",
   "execution_count": 16,
   "metadata": {},
   "outputs": [],
   "source": [
    "body_df = pd.read_csv('bodies_dataset.csv')"
   ]
  },
  {
   "cell_type": "code",
   "execution_count": 17,
   "metadata": {},
   "outputs": [
    {
     "data": {
      "application/vnd.plotly.v1+json": {
       "config": {
        "plotlyServerURL": "https://plot.ly"
       },
       "data": [
        {
         "coloraxis": "coloraxis",
         "hovertemplate": "x: %{x}<br>y: %{y}<br>color: %{z}<extra></extra>",
         "name": "0",
         "texttemplate": "%{z}",
         "type": "heatmap",
         "x": [
          "bia_di",
          "bii_di",
          "bit_di",
          "che_de",
          "che_di",
          "elb_di",
          "wri_di",
          "kne_di",
          "ank_di",
          "sho_gi",
          "che_gi",
          "wai_gi",
          "nav_gi",
          "hip_gi",
          "thi_gi",
          "bic_gi",
          "for_gi",
          "kne_gi",
          "cal_gi",
          "ank_gi",
          "wri_gi",
          "age",
          "wgt",
          "hgt",
          "sex"
         ],
         "xaxis": "x",
         "y": [
          "bia_di",
          "bii_di",
          "bit_di",
          "che_de",
          "che_di",
          "elb_di",
          "wri_di",
          "kne_di",
          "ank_di",
          "sho_gi",
          "che_gi",
          "wai_gi",
          "nav_gi",
          "hip_gi",
          "thi_gi",
          "bic_gi",
          "for_gi",
          "kne_gi",
          "cal_gi",
          "ank_gi",
          "wri_gi",
          "age",
          "wgt",
          "hgt",
          "sex"
         ],
         "yaxis": "y",
         "z": [
          [
           1,
           0.3090358489660933,
           0.48627256595939217,
           0.5832584587907521,
           0.7691406032574727,
           0.7658212438010916,
           0.722838831721313,
           0.6359621088261774,
           0.6614162084055066,
           0.7925957228612149,
           0.7218401439310325,
           0.6416071791603505,
           0.3057127680279497,
           0.3400614695101347,
           0.12192793777157829,
           0.695061818683612,
           0.752642086985359,
           0.5079070351874118,
           0.5108143538945833,
           0.6034678221017238,
           0.7715975893264864,
           0.08608447076739498,
           0.725414463050554,
           0.748921827593248,
           0.7749484399670588
          ],
          [
           0.3090358489660933,
           1,
           0.673456727026036,
           0.3567852125326384,
           0.33116948117411044,
           0.32285725386089437,
           0.27923633273775594,
           0.4377882949638337,
           0.3683128487188277,
           0.2772387689292408,
           0.32568381761846465,
           0.4347002703665919,
           0.5805151634737428,
           0.5641528599509809,
           0.41415507289558523,
           0.29910712391526056,
           0.28968230914636117,
           0.4724691022317432,
           0.40706412793468166,
           0.3358175218264168,
           0.26325455674195897,
           0.2478779152713072,
           0.4957572741649969,
           0.38142409941857697,
           0.11564462933847254
          ],
          [
           0.48627256595939217,
           0.673456727026036,
           1,
           0.4725560409671221,
           0.5241288111648693,
           0.5257579042316184,
           0.4681582526411766,
           0.6083021187001273,
           0.49540567623639276,
           0.4787637344159981,
           0.4880845417653075,
           0.5702148458768173,
           0.6175048322765508,
           0.7482328310452254,
           0.5317738133581265,
           0.48014573132117677,
           0.4780849041309706,
           0.623354741962584,
           0.5929802258393428,
           0.5390627843924352,
           0.47951702821910513,
           0.2711438397148839,
           0.6657252392484759,
           0.48527895366329066,
           0.2624145691597074
          ],
          [
           0.5832584587907521,
           0.3567852125326384,
           0.4725560409671221,
           1,
           0.6650701884325445,
           0.6652376668844436,
           0.6081147399691073,
           0.5502888963537056,
           0.5978539614520454,
           0.7376115429567268,
           0.8065032654539702,
           0.8037548847918101,
           0.6212365086386766,
           0.5563130699199484,
           0.3576540910749698,
           0.7328977447318396,
           0.7175489621177837,
           0.5636516978526445,
           0.5535015590075304,
           0.5873425458409087,
           0.6802407696371746,
           0.3154049444852863,
           0.80073148431982,
           0.5529111172269762,
           0.612886064586163
          ],
          [
           0.7691406032574727,
           0.33116948117411044,
           0.5241288111648693,
           0.6650701884325445,
           1,
           0.7588682345374462,
           0.7308642873395234,
           0.6590648460115925,
           0.6685388744182119,
           0.8706479692936628,
           0.8703062019239526,
           0.7880333636941211,
           0.5012122640349248,
           0.5212072830074416,
           0.3147734810375469,
           0.7923344674864298,
           0.8071175301209663,
           0.5928720708547132,
           0.5969089121481307,
           0.6350210277276138,
           0.7608930777201115,
           0.1928876536386954,
           0.8314645046370416,
           0.6268931472694516,
           0.7029010332263103
          ],
          [
           0.7658212438010916,
           0.32285725386089437,
           0.5257579042316184,
           0.6652376668844436,
           0.7588682345374462,
           1,
           0.8399305102520735,
           0.731504165974327,
           0.8210976531875134,
           0.8194697824721,
           0.8031396363712172,
           0.6946192498196269,
           0.4387605156522888,
           0.439335266808494,
           0.20691658717564054,
           0.804783971477568,
           0.8582062869354989,
           0.5909794187324222,
           0.5799083476585585,
           0.6641618857436739,
           0.8457562957287007,
           0.19859008290107746,
           0.8011937813511323,
           0.7381129258003511,
           0.7729801097312302
          ],
          [
           0.722838831721313,
           0.27923633273775594,
           0.4681582526411766,
           0.6081147399691073,
           0.7308642873395234,
           0.8399305102520735,
           1,
           0.7124843585289296,
           0.7724489266613994,
           0.7783992287174288,
           0.7665426374022373,
           0.6807823707466346,
           0.39927200695203957,
           0.4223687071159491,
           0.19401995220614274,
           0.76215943586226,
           0.8147088438218126,
           0.5818738918187366,
           0.5814377244636874,
           0.65469447790958,
           0.8625527213320072,
           0.20707961578549156,
           0.7646054254476179,
           0.6779616169436289,
           0.7268547395882431
          ],
          [
           0.6359621088261774,
           0.4377882949638337,
           0.6083021187001273,
           0.5502888963537056,
           0.6590648460115925,
           0.731504165974327,
           0.7124843585289296,
           1,
           0.7232729139773334,
           0.6818019334327231,
           0.6522224050584788,
           0.6239674962329742,
           0.4712506238313912,
           0.579593641103825,
           0.43152755071251475,
           0.681405475762412,
           0.7206519040837385,
           0.7338176421696229,
           0.6860934911305472,
           0.6547069931869725,
           0.7311803361547353,
           0.1723359310875898,
           0.7660484797804433,
           0.5880950931918034,
           0.5439263314443802
          ],
          [
           0.6614162084055066,
           0.3683128487188277,
           0.49540567623639276,
           0.5978539614520454,
           0.6685388744182119,
           0.8210976531875134,
           0.7724489266613994,
           0.7232729139773334,
           1,
           0.692111484669009,
           0.7058718291759266,
           0.6369714611052382,
           0.43657450051849245,
           0.40773581843988327,
           0.19262773504504446,
           0.6862886280609067,
           0.7352504456712494,
           0.5423537828306252,
           0.5436159222205104,
           0.6772297517079164,
           0.7627485793002798,
           0.23904361038097688,
           0.7264681753649411,
           0.686450527482415,
           0.6889488724509026
          ],
          [
           0.7925957228612149,
           0.2772387689292408,
           0.4787637344159981,
           0.7376115429567268,
           0.8706479692936628,
           0.8194697824721,
           0.7783992287174288,
           0.6818019334327231,
           0.692111484669009,
           1,
           0.9271922879673841,
           0.8234545933815401,
           0.5154660751554841,
           0.5336717259908499,
           0.32342724085162594,
           0.8951883643176205,
           0.8949837577623386,
           0.6247826219104995,
           0.6270537791014898,
           0.6797567995338366,
           0.840708502012795,
           0.1768383962713313,
           0.8788342445770045,
           0.6657352968671836,
           0.7811421172257097
          ],
          [
           0.7218401439310325,
           0.32568381761846465,
           0.4880845417653075,
           0.8065032654539702,
           0.8703062019239526,
           0.8031396363712172,
           0.7665426374022373,
           0.6522224050584788,
           0.7058718291759266,
           0.9271922879673841,
           1,
           0.8837994299331073,
           0.6229823141783151,
           0.5834990730826581,
           0.3630507676845514,
           0.9081845275201821,
           0.8875908573470945,
           0.614054746978487,
           0.6088643490096491,
           0.6691395893325525,
           0.8246754016368264,
           0.2489667406426173,
           0.8989594620292355,
           0.6187309490997528,
           0.7449279654383567
          ],
          [
           0.6416071791603505,
           0.4347002703665919,
           0.5702148458768173,
           0.8037548847918101,
           0.7880333636941211,
           0.6946192498196269,
           0.6807823707466346,
           0.6239674962329742,
           0.6369714611052382,
           0.8234545933815401,
           0.8837994299331073,
           1,
           0.7547704007275823,
           0.6923506244562537,
           0.42108487867934785,
           0.8047043914325969,
           0.780792412153052,
           0.6582072018884947,
           0.6313445318958704,
           0.6558890812023954,
           0.7289813134033508,
           0.36913120320646414,
           0.9039907799104384,
           0.5529604609499356,
           0.6692025028215247
          ],
          [
           0.3057127680279497,
           0.5805151634737428,
           0.6175048322765508,
           0.6212365086386766,
           0.5012122640349248,
           0.4387605156522888,
           0.39927200695203957,
           0.4712506238313912,
           0.43657450051849245,
           0.5154660751554841,
           0.6229823141783151,
           0.7547704007275823,
           1,
           0.8258923955732701,
           0.6026427922949378,
           0.5578071088831635,
           0.48621814060877405,
           0.6120932316262357,
           0.524778883167808,
           0.5194785458772951,
           0.4354196539415246,
           0.42218789286293323,
           0.711816459778039,
           0.31319682666760446,
           0.20793213780466713
          ],
          [
           0.3400614695101347,
           0.5641528599509809,
           0.7482328310452254,
           0.5563130699199484,
           0.5212072830074416,
           0.439335266808494,
           0.4223687071159491,
           0.579593641103825,
           0.40773581843988327,
           0.5336717259908499,
           0.5834990730826581,
           0.6923506244562537,
           0.8258923955732701,
           1,
           0.8289410582838279,
           0.559884796016531,
           0.5143584912910067,
           0.7349016967642614,
           0.6745804933307594,
           0.5770429496133745,
           0.458856714253116,
           0.22708010913982546,
           0.7629691244940309,
           0.3385839901103551,
           0.15805827578817622
          ],
          [
           0.12192793777157829,
           0.41415507289558523,
           0.5317738133581265,
           0.3576540910749698,
           0.3147734810375469,
           0.20691658717564054,
           0.19401995220614274,
           0.43152755071251475,
           0.19262773504504446,
           0.32342724085162594,
           0.3630507676845514,
           0.42108487867934785,
           0.6026427922949378,
           0.8289410582838279,
           1,
           0.41145797207127166,
           0.34528478780999033,
           0.6384400135110293,
           0.6288901084271258,
           0.42176866318077577,
           0.24161024662607933,
           -0.01985545428116045,
           0.5585626478050424,
           0.11630969470653058,
           -0.07828143149759943
          ],
          [
           0.695061818683612,
           0.29910712391526056,
           0.48014573132117677,
           0.7328977447318396,
           0.7923344674864298,
           0.804783971477568,
           0.76215943586226,
           0.681405475762412,
           0.6862886280609067,
           0.8951883643176205,
           0.9081845275201821,
           0.8047043914325969,
           0.5578071088831635,
           0.559884796016531,
           0.41145797207127166,
           1,
           0.9423755133925948,
           0.6207299276005377,
           0.6374040885555342,
           0.6693240313092957,
           0.8479443198254741,
           0.17895042231190977,
           0.86667220281223,
           0.588415130498243,
           0.742945251037025
          ],
          [
           0.752642086985359,
           0.28968230914636117,
           0.4780849041309706,
           0.7175489621177837,
           0.8071175301209663,
           0.8582062869354989,
           0.8147088438218126,
           0.7206519040837385,
           0.7352504456712494,
           0.8949837577623386,
           0.8875908573470945,
           0.780792412153052,
           0.48621814060877405,
           0.5143584912910067,
           0.34528478780999033,
           0.9423755133925948,
           1,
           0.6575450460338826,
           0.6701917564955867,
           0.712553865557339,
           0.9047085594103466,
           0.14691546062272232,
           0.8695531121527083,
           0.6550178382541387,
           0.7918964806684154
          ],
          [
           0.5079070351874118,
           0.4724691022317432,
           0.623354741962584,
           0.5636516978526445,
           0.5928720708547132,
           0.5909794187324222,
           0.5818738918187366,
           0.7338176421696229,
           0.5423537828306252,
           0.6247826219104995,
           0.614054746978487,
           0.6582072018884947,
           0.6120932316262357,
           0.7349016967642614,
           0.6384400135110293,
           0.6207299276005377,
           0.6575450460338826,
           1,
           0.7958276727926539,
           0.737715419117421,
           0.6409595725736412,
           0.12433498672463598,
           0.7955518338396524,
           0.525701834572104,
           0.3699655469549848
          ],
          [
           0.5108143538945833,
           0.40706412793468166,
           0.5929802258393428,
           0.5535015590075304,
           0.5969089121481307,
           0.5799083476585585,
           0.5814377244636874,
           0.6860934911305472,
           0.5436159222205104,
           0.6270537791014898,
           0.6088643490096491,
           0.6313445318958704,
           0.524778883167808,
           0.6745804933307594,
           0.6288901084271258,
           0.6374040885555342,
           0.6701917564955867,
           0.7958276727926539,
           1,
           0.762221909155972,
           0.6476269273716048,
           0.10605240055729848,
           0.7692825905826739,
           0.4526826471728458,
           0.3866643710708655
          ],
          [
           0.6034678221017238,
           0.3358175218264168,
           0.5390627843924352,
           0.5873425458409087,
           0.6350210277276138,
           0.6641618857436739,
           0.65469447790958,
           0.6547069931869725,
           0.6772297517079164,
           0.6797567995338366,
           0.6691395893325525,
           0.6558890812023954,
           0.5194785458772951,
           0.5770429496133745,
           0.42176866318077577,
           0.6693240313092957,
           0.712553865557339,
           0.737715419117421,
           0.762221909155972,
           1,
           0.7536364781107855,
           0.14105950973098336,
           0.7619984607369645,
           0.5709096410536653,
           0.5247777953108356
          ],
          [
           0.7715975893264864,
           0.26325455674195897,
           0.47951702821910513,
           0.6802407696371746,
           0.7608930777201115,
           0.8457562957287007,
           0.8625527213320072,
           0.7311803361547353,
           0.7627485793002798,
           0.840708502012795,
           0.8246754016368264,
           0.7289813134033508,
           0.4354196539415246,
           0.458856714253116,
           0.24161024662607933,
           0.8479443198254741,
           0.9047085594103466,
           0.6409595725736412,
           0.6476269273716048,
           0.7536364781107855,
           1,
           0.19202405541684728,
           0.8164884066849586,
           0.6908343371350293,
           0.7721082490764959
          ],
          [
           0.08608447076739498,
           0.2478779152713072,
           0.2711438397148839,
           0.3154049444852863,
           0.1928876536386954,
           0.19859008290107746,
           0.20707961578549156,
           0.1723359310875898,
           0.23904361038097688,
           0.1768383962713313,
           0.2489667406426173,
           0.36913120320646414,
           0.42218789286293323,
           0.22708010913982546,
           -0.01985545428116045,
           0.17895042231190977,
           0.14691546062272232,
           0.12433498672463598,
           0.10605240055729848,
           0.14105950973098336,
           0.19202405541684728,
           1,
           0.20726523636644403,
           0.06788349330618113,
           0.15094462135542522
          ],
          [
           0.725414463050554,
           0.4957572741649969,
           0.6657252392484759,
           0.80073148431982,
           0.8314645046370416,
           0.8011937813511323,
           0.7646054254476179,
           0.7660484797804433,
           0.7264681753649411,
           0.8788342445770045,
           0.8989594620292355,
           0.9039907799104384,
           0.711816459778039,
           0.7629691244940309,
           0.5585626478050424,
           0.86667220281223,
           0.8695531121527083,
           0.7955518338396524,
           0.7692825905826739,
           0.7619984607369645,
           0.8164884066849586,
           0.20726523636644403,
           1,
           0.7173010787241639,
           0.6577257546447034
          ],
          [
           0.748921827593248,
           0.38142409941857697,
           0.48527895366329066,
           0.5529111172269762,
           0.6268931472694516,
           0.7381129258003511,
           0.6779616169436289,
           0.5880950931918034,
           0.686450527482415,
           0.6657352968671836,
           0.6187309490997528,
           0.5529604609499356,
           0.31319682666760446,
           0.3385839901103551,
           0.11630969470653058,
           0.588415130498243,
           0.6550178382541387,
           0.525701834572104,
           0.4526826471728458,
           0.5709096410536653,
           0.6908343371350293,
           0.06788349330618113,
           0.7173010787241639,
           1,
           0.684662108900904
          ],
          [
           0.7749484399670588,
           0.11564462933847254,
           0.2624145691597074,
           0.612886064586163,
           0.7029010332263103,
           0.7729801097312302,
           0.7268547395882431,
           0.5439263314443802,
           0.6889488724509026,
           0.7811421172257097,
           0.7449279654383567,
           0.6692025028215247,
           0.20793213780466713,
           0.15805827578817622,
           -0.07828143149759943,
           0.742945251037025,
           0.7918964806684154,
           0.3699655469549848,
           0.3866643710708655,
           0.5247777953108356,
           0.7721082490764959,
           0.15094462135542522,
           0.6577257546447034,
           0.684662108900904,
           1
          ]
         ]
        }
       ],
       "layout": {
        "coloraxis": {
         "colorscale": [
          [
           0,
           "#0d0887"
          ],
          [
           0.1111111111111111,
           "#46039f"
          ],
          [
           0.2222222222222222,
           "#7201a8"
          ],
          [
           0.3333333333333333,
           "#9c179e"
          ],
          [
           0.4444444444444444,
           "#bd3786"
          ],
          [
           0.5555555555555556,
           "#d8576b"
          ],
          [
           0.6666666666666666,
           "#ed7953"
          ],
          [
           0.7777777777777778,
           "#fb9f3a"
          ],
          [
           0.8888888888888888,
           "#fdca26"
          ],
          [
           1,
           "#f0f921"
          ]
         ]
        },
        "margin": {
         "t": 60
        },
        "template": {
         "data": {
          "bar": [
           {
            "error_x": {
             "color": "#2a3f5f"
            },
            "error_y": {
             "color": "#2a3f5f"
            },
            "marker": {
             "line": {
              "color": "#E5ECF6",
              "width": 0.5
             },
             "pattern": {
              "fillmode": "overlay",
              "size": 10,
              "solidity": 0.2
             }
            },
            "type": "bar"
           }
          ],
          "barpolar": [
           {
            "marker": {
             "line": {
              "color": "#E5ECF6",
              "width": 0.5
             },
             "pattern": {
              "fillmode": "overlay",
              "size": 10,
              "solidity": 0.2
             }
            },
            "type": "barpolar"
           }
          ],
          "carpet": [
           {
            "aaxis": {
             "endlinecolor": "#2a3f5f",
             "gridcolor": "white",
             "linecolor": "white",
             "minorgridcolor": "white",
             "startlinecolor": "#2a3f5f"
            },
            "baxis": {
             "endlinecolor": "#2a3f5f",
             "gridcolor": "white",
             "linecolor": "white",
             "minorgridcolor": "white",
             "startlinecolor": "#2a3f5f"
            },
            "type": "carpet"
           }
          ],
          "choropleth": [
           {
            "colorbar": {
             "outlinewidth": 0,
             "ticks": ""
            },
            "type": "choropleth"
           }
          ],
          "contour": [
           {
            "colorbar": {
             "outlinewidth": 0,
             "ticks": ""
            },
            "colorscale": [
             [
              0,
              "#0d0887"
             ],
             [
              0.1111111111111111,
              "#46039f"
             ],
             [
              0.2222222222222222,
              "#7201a8"
             ],
             [
              0.3333333333333333,
              "#9c179e"
             ],
             [
              0.4444444444444444,
              "#bd3786"
             ],
             [
              0.5555555555555556,
              "#d8576b"
             ],
             [
              0.6666666666666666,
              "#ed7953"
             ],
             [
              0.7777777777777778,
              "#fb9f3a"
             ],
             [
              0.8888888888888888,
              "#fdca26"
             ],
             [
              1,
              "#f0f921"
             ]
            ],
            "type": "contour"
           }
          ],
          "contourcarpet": [
           {
            "colorbar": {
             "outlinewidth": 0,
             "ticks": ""
            },
            "type": "contourcarpet"
           }
          ],
          "heatmap": [
           {
            "colorbar": {
             "outlinewidth": 0,
             "ticks": ""
            },
            "colorscale": [
             [
              0,
              "#0d0887"
             ],
             [
              0.1111111111111111,
              "#46039f"
             ],
             [
              0.2222222222222222,
              "#7201a8"
             ],
             [
              0.3333333333333333,
              "#9c179e"
             ],
             [
              0.4444444444444444,
              "#bd3786"
             ],
             [
              0.5555555555555556,
              "#d8576b"
             ],
             [
              0.6666666666666666,
              "#ed7953"
             ],
             [
              0.7777777777777778,
              "#fb9f3a"
             ],
             [
              0.8888888888888888,
              "#fdca26"
             ],
             [
              1,
              "#f0f921"
             ]
            ],
            "type": "heatmap"
           }
          ],
          "heatmapgl": [
           {
            "colorbar": {
             "outlinewidth": 0,
             "ticks": ""
            },
            "colorscale": [
             [
              0,
              "#0d0887"
             ],
             [
              0.1111111111111111,
              "#46039f"
             ],
             [
              0.2222222222222222,
              "#7201a8"
             ],
             [
              0.3333333333333333,
              "#9c179e"
             ],
             [
              0.4444444444444444,
              "#bd3786"
             ],
             [
              0.5555555555555556,
              "#d8576b"
             ],
             [
              0.6666666666666666,
              "#ed7953"
             ],
             [
              0.7777777777777778,
              "#fb9f3a"
             ],
             [
              0.8888888888888888,
              "#fdca26"
             ],
             [
              1,
              "#f0f921"
             ]
            ],
            "type": "heatmapgl"
           }
          ],
          "histogram": [
           {
            "marker": {
             "pattern": {
              "fillmode": "overlay",
              "size": 10,
              "solidity": 0.2
             }
            },
            "type": "histogram"
           }
          ],
          "histogram2d": [
           {
            "colorbar": {
             "outlinewidth": 0,
             "ticks": ""
            },
            "colorscale": [
             [
              0,
              "#0d0887"
             ],
             [
              0.1111111111111111,
              "#46039f"
             ],
             [
              0.2222222222222222,
              "#7201a8"
             ],
             [
              0.3333333333333333,
              "#9c179e"
             ],
             [
              0.4444444444444444,
              "#bd3786"
             ],
             [
              0.5555555555555556,
              "#d8576b"
             ],
             [
              0.6666666666666666,
              "#ed7953"
             ],
             [
              0.7777777777777778,
              "#fb9f3a"
             ],
             [
              0.8888888888888888,
              "#fdca26"
             ],
             [
              1,
              "#f0f921"
             ]
            ],
            "type": "histogram2d"
           }
          ],
          "histogram2dcontour": [
           {
            "colorbar": {
             "outlinewidth": 0,
             "ticks": ""
            },
            "colorscale": [
             [
              0,
              "#0d0887"
             ],
             [
              0.1111111111111111,
              "#46039f"
             ],
             [
              0.2222222222222222,
              "#7201a8"
             ],
             [
              0.3333333333333333,
              "#9c179e"
             ],
             [
              0.4444444444444444,
              "#bd3786"
             ],
             [
              0.5555555555555556,
              "#d8576b"
             ],
             [
              0.6666666666666666,
              "#ed7953"
             ],
             [
              0.7777777777777778,
              "#fb9f3a"
             ],
             [
              0.8888888888888888,
              "#fdca26"
             ],
             [
              1,
              "#f0f921"
             ]
            ],
            "type": "histogram2dcontour"
           }
          ],
          "mesh3d": [
           {
            "colorbar": {
             "outlinewidth": 0,
             "ticks": ""
            },
            "type": "mesh3d"
           }
          ],
          "parcoords": [
           {
            "line": {
             "colorbar": {
              "outlinewidth": 0,
              "ticks": ""
             }
            },
            "type": "parcoords"
           }
          ],
          "pie": [
           {
            "automargin": true,
            "type": "pie"
           }
          ],
          "scatter": [
           {
            "fillpattern": {
             "fillmode": "overlay",
             "size": 10,
             "solidity": 0.2
            },
            "type": "scatter"
           }
          ],
          "scatter3d": [
           {
            "line": {
             "colorbar": {
              "outlinewidth": 0,
              "ticks": ""
             }
            },
            "marker": {
             "colorbar": {
              "outlinewidth": 0,
              "ticks": ""
             }
            },
            "type": "scatter3d"
           }
          ],
          "scattercarpet": [
           {
            "marker": {
             "colorbar": {
              "outlinewidth": 0,
              "ticks": ""
             }
            },
            "type": "scattercarpet"
           }
          ],
          "scattergeo": [
           {
            "marker": {
             "colorbar": {
              "outlinewidth": 0,
              "ticks": ""
             }
            },
            "type": "scattergeo"
           }
          ],
          "scattergl": [
           {
            "marker": {
             "colorbar": {
              "outlinewidth": 0,
              "ticks": ""
             }
            },
            "type": "scattergl"
           }
          ],
          "scattermapbox": [
           {
            "marker": {
             "colorbar": {
              "outlinewidth": 0,
              "ticks": ""
             }
            },
            "type": "scattermapbox"
           }
          ],
          "scatterpolar": [
           {
            "marker": {
             "colorbar": {
              "outlinewidth": 0,
              "ticks": ""
             }
            },
            "type": "scatterpolar"
           }
          ],
          "scatterpolargl": [
           {
            "marker": {
             "colorbar": {
              "outlinewidth": 0,
              "ticks": ""
             }
            },
            "type": "scatterpolargl"
           }
          ],
          "scatterternary": [
           {
            "marker": {
             "colorbar": {
              "outlinewidth": 0,
              "ticks": ""
             }
            },
            "type": "scatterternary"
           }
          ],
          "surface": [
           {
            "colorbar": {
             "outlinewidth": 0,
             "ticks": ""
            },
            "colorscale": [
             [
              0,
              "#0d0887"
             ],
             [
              0.1111111111111111,
              "#46039f"
             ],
             [
              0.2222222222222222,
              "#7201a8"
             ],
             [
              0.3333333333333333,
              "#9c179e"
             ],
             [
              0.4444444444444444,
              "#bd3786"
             ],
             [
              0.5555555555555556,
              "#d8576b"
             ],
             [
              0.6666666666666666,
              "#ed7953"
             ],
             [
              0.7777777777777778,
              "#fb9f3a"
             ],
             [
              0.8888888888888888,
              "#fdca26"
             ],
             [
              1,
              "#f0f921"
             ]
            ],
            "type": "surface"
           }
          ],
          "table": [
           {
            "cells": {
             "fill": {
              "color": "#EBF0F8"
             },
             "line": {
              "color": "white"
             }
            },
            "header": {
             "fill": {
              "color": "#C8D4E3"
             },
             "line": {
              "color": "white"
             }
            },
            "type": "table"
           }
          ]
         },
         "layout": {
          "annotationdefaults": {
           "arrowcolor": "#2a3f5f",
           "arrowhead": 0,
           "arrowwidth": 1
          },
          "autotypenumbers": "strict",
          "coloraxis": {
           "colorbar": {
            "outlinewidth": 0,
            "ticks": ""
           }
          },
          "colorscale": {
           "diverging": [
            [
             0,
             "#8e0152"
            ],
            [
             0.1,
             "#c51b7d"
            ],
            [
             0.2,
             "#de77ae"
            ],
            [
             0.3,
             "#f1b6da"
            ],
            [
             0.4,
             "#fde0ef"
            ],
            [
             0.5,
             "#f7f7f7"
            ],
            [
             0.6,
             "#e6f5d0"
            ],
            [
             0.7,
             "#b8e186"
            ],
            [
             0.8,
             "#7fbc41"
            ],
            [
             0.9,
             "#4d9221"
            ],
            [
             1,
             "#276419"
            ]
           ],
           "sequential": [
            [
             0,
             "#0d0887"
            ],
            [
             0.1111111111111111,
             "#46039f"
            ],
            [
             0.2222222222222222,
             "#7201a8"
            ],
            [
             0.3333333333333333,
             "#9c179e"
            ],
            [
             0.4444444444444444,
             "#bd3786"
            ],
            [
             0.5555555555555556,
             "#d8576b"
            ],
            [
             0.6666666666666666,
             "#ed7953"
            ],
            [
             0.7777777777777778,
             "#fb9f3a"
            ],
            [
             0.8888888888888888,
             "#fdca26"
            ],
            [
             1,
             "#f0f921"
            ]
           ],
           "sequentialminus": [
            [
             0,
             "#0d0887"
            ],
            [
             0.1111111111111111,
             "#46039f"
            ],
            [
             0.2222222222222222,
             "#7201a8"
            ],
            [
             0.3333333333333333,
             "#9c179e"
            ],
            [
             0.4444444444444444,
             "#bd3786"
            ],
            [
             0.5555555555555556,
             "#d8576b"
            ],
            [
             0.6666666666666666,
             "#ed7953"
            ],
            [
             0.7777777777777778,
             "#fb9f3a"
            ],
            [
             0.8888888888888888,
             "#fdca26"
            ],
            [
             1,
             "#f0f921"
            ]
           ]
          },
          "colorway": [
           "#636efa",
           "#EF553B",
           "#00cc96",
           "#ab63fa",
           "#FFA15A",
           "#19d3f3",
           "#FF6692",
           "#B6E880",
           "#FF97FF",
           "#FECB52"
          ],
          "font": {
           "color": "#2a3f5f"
          },
          "geo": {
           "bgcolor": "white",
           "lakecolor": "white",
           "landcolor": "#E5ECF6",
           "showlakes": true,
           "showland": true,
           "subunitcolor": "white"
          },
          "hoverlabel": {
           "align": "left"
          },
          "hovermode": "closest",
          "mapbox": {
           "style": "light"
          },
          "paper_bgcolor": "white",
          "plot_bgcolor": "#E5ECF6",
          "polar": {
           "angularaxis": {
            "gridcolor": "white",
            "linecolor": "white",
            "ticks": ""
           },
           "bgcolor": "#E5ECF6",
           "radialaxis": {
            "gridcolor": "white",
            "linecolor": "white",
            "ticks": ""
           }
          },
          "scene": {
           "xaxis": {
            "backgroundcolor": "#E5ECF6",
            "gridcolor": "white",
            "gridwidth": 2,
            "linecolor": "white",
            "showbackground": true,
            "ticks": "",
            "zerolinecolor": "white"
           },
           "yaxis": {
            "backgroundcolor": "#E5ECF6",
            "gridcolor": "white",
            "gridwidth": 2,
            "linecolor": "white",
            "showbackground": true,
            "ticks": "",
            "zerolinecolor": "white"
           },
           "zaxis": {
            "backgroundcolor": "#E5ECF6",
            "gridcolor": "white",
            "gridwidth": 2,
            "linecolor": "white",
            "showbackground": true,
            "ticks": "",
            "zerolinecolor": "white"
           }
          },
          "shapedefaults": {
           "line": {
            "color": "#2a3f5f"
           }
          },
          "ternary": {
           "aaxis": {
            "gridcolor": "white",
            "linecolor": "white",
            "ticks": ""
           },
           "baxis": {
            "gridcolor": "white",
            "linecolor": "white",
            "ticks": ""
           },
           "bgcolor": "#E5ECF6",
           "caxis": {
            "gridcolor": "white",
            "linecolor": "white",
            "ticks": ""
           }
          },
          "title": {
           "x": 0.05
          },
          "xaxis": {
           "automargin": true,
           "gridcolor": "white",
           "linecolor": "white",
           "ticks": "",
           "title": {
            "standoff": 15
           },
           "zerolinecolor": "white",
           "zerolinewidth": 2
          },
          "yaxis": {
           "automargin": true,
           "gridcolor": "white",
           "linecolor": "white",
           "ticks": "",
           "title": {
            "standoff": 15
           },
           "zerolinecolor": "white",
           "zerolinewidth": 2
          }
         }
        },
        "xaxis": {
         "anchor": "y",
         "domain": [
          0,
          1
         ]
        },
        "yaxis": {
         "anchor": "x",
         "autorange": "reversed",
         "domain": [
          0,
          1
         ]
        }
       }
      }
     },
     "metadata": {},
     "output_type": "display_data"
    }
   ],
   "source": [
    "# Part 2 Task 1\n",
    "fig = px.imshow(\n",
    "    body_df.corr(), text_auto=True, aspect='auto'\n",
    ")\n",
    "fig.show()"
   ]
  },
  {
   "cell_type": "code",
   "execution_count": 20,
   "metadata": {},
   "outputs": [
    {
     "name": "stdout",
     "output_type": "stream",
     "text": [
      "<class 'pandas.core.frame.DataFrame'>\n",
      "RangeIndex: 507 entries, 0 to 506\n",
      "Data columns (total 25 columns):\n",
      " #   Column  Non-Null Count  Dtype  \n",
      "---  ------  --------------  -----  \n",
      " 0   bia_di  507 non-null    float64\n",
      " 1   bii_di  507 non-null    float64\n",
      " 2   bit_di  507 non-null    float64\n",
      " 3   che_de  507 non-null    float64\n",
      " 4   che_di  507 non-null    float64\n",
      " 5   elb_di  507 non-null    float64\n",
      " 6   wri_di  507 non-null    float64\n",
      " 7   kne_di  507 non-null    float64\n",
      " 8   ank_di  507 non-null    float64\n",
      " 9   sho_gi  507 non-null    float64\n",
      " 10  che_gi  507 non-null    float64\n",
      " 11  wai_gi  507 non-null    float64\n",
      " 12  nav_gi  507 non-null    float64\n",
      " 13  hip_gi  507 non-null    float64\n",
      " 14  thi_gi  507 non-null    float64\n",
      " 15  bic_gi  507 non-null    float64\n",
      " 16  for_gi  507 non-null    float64\n",
      " 17  kne_gi  507 non-null    float64\n",
      " 18  cal_gi  507 non-null    float64\n",
      " 19  ank_gi  507 non-null    float64\n",
      " 20  wri_gi  507 non-null    float64\n",
      " 21  age     507 non-null    int64  \n",
      " 22  wgt     507 non-null    float64\n",
      " 23  hgt     507 non-null    float64\n",
      " 24  sex     507 non-null    boolean\n",
      "dtypes: boolean(1), float64(23), int64(1)\n",
      "memory usage: 96.2 KB\n"
     ]
    }
   ],
   "source": [
    "body_df.info()"
   ]
  },
  {
   "cell_type": "code",
   "execution_count": 19,
   "metadata": {},
   "outputs": [],
   "source": [
    "body_df['sex'] = body_df['sex'].astype('boolean')"
   ]
  },
  {
   "cell_type": "code",
   "execution_count": 24,
   "metadata": {},
   "outputs": [
    {
     "name": "stdout",
     "output_type": "stream",
     "text": [
      "              precision    recall  f1-score   support\n",
      "\n",
      "         0.0       0.94      0.98      0.96        52\n",
      "         1.0       0.98      0.94      0.96        50\n",
      "\n",
      "    accuracy                           0.96       102\n",
      "   macro avg       0.96      0.96      0.96       102\n",
      "weighted avg       0.96      0.96      0.96       102\n",
      "\n"
     ]
    }
   ],
   "source": [
    "# Basic prediction. 1 - Male, 0 - Female\n",
    "model = xgb.XGBClassifier()\n",
    "x = body_df.drop('sex', axis=1)\n",
    "y = body_df['sex']\n",
    "x_train, x_test, y_train, y_test = train_test_split(x, y, test_size=0.2, stratify=y)\n",
    "model.fit(x_train, y_train)\n",
    "pred = model.predict(x_test)\n",
    "print(classification_report(y_test, pred))"
   ]
  },
  {
   "cell_type": "code",
   "execution_count": 28,
   "metadata": {},
   "outputs": [],
   "source": [
    "# Part 2 Task 2\n",
    "def columns_to_exclude(feature_df, corr_algo='pearson', exclude_treshold=0.5):\n",
    "    corr_matrix = feature_df.corr(method=corr_algo).abs()\n",
    "    upper = corr_matrix.where(np.triu(np.ones(corr_matrix.shape), k=1).astype(bool))   \n",
    "    to_drop = [column for column in upper.columns if any(upper[column] > exclude_treshold)]\n",
    "    return to_drop"
   ]
  },
  {
   "cell_type": "code",
   "execution_count": 44,
   "metadata": {},
   "outputs": [
    {
     "name": "stdout",
     "output_type": "stream",
     "text": [
      "              precision    recall  f1-score   support\n",
      "\n",
      "         0.0       1.00      0.96      0.98        52\n",
      "         1.0       0.96      1.00      0.98        50\n",
      "\n",
      "    accuracy                           0.98       102\n",
      "   macro avg       0.98      0.98      0.98       102\n",
      "weighted avg       0.98      0.98      0.98       102\n",
      "\n"
     ]
    }
   ],
   "source": [
    "# Part 2 Task 2 prediction\n",
    "model = xgb.XGBClassifier()\n",
    "excluded_cols = columns_to_exclude(body_df.drop('sex', axis=1), exclude_treshold=0.9)\n",
    "x = body_df.drop(excluded_cols + ['sex'], axis=1)\n",
    "y = body_df['sex']\n",
    "x_train, x_test, y_train, y_test = train_test_split(x, y, test_size=0.2, stratify=y)\n",
    "model.fit(x_train, y_train)\n",
    "pred = model.predict(x_test)\n",
    "print(classification_report(y_test, pred))"
   ]
  },
  {
   "cell_type": "code",
   "execution_count": 64,
   "metadata": {},
   "outputs": [
    {
     "data": {
      "text/plain": [
       "['for_gi',\n",
       " 'sho_gi',\n",
       " 'bia_di',\n",
       " 'elb_di',\n",
       " 'wri_gi',\n",
       " 'che_gi',\n",
       " 'bic_gi',\n",
       " 'wri_di',\n",
       " 'che_di',\n",
       " 'ank_di',\n",
       " 'hgt',\n",
       " 'wai_gi']"
      ]
     },
     "execution_count": 64,
     "metadata": {},
     "output_type": "execute_result"
    }
   ],
   "source": [
    "# Part 2 Task 3\n",
    "def select_most_corr_with_target(df, target_name, corr_algo='pearson', percentile=0.5):\n",
    "    target_col: pd.Series = df.corr(method=corr_algo).abs()[target_name]\n",
    "    best_cols = (target_col.sort_values(ascending=False).iloc[1:]\n",
    "                 .head(round(len(target_col)*percentile)))\n",
    "    return best_cols.index.to_list()\n",
    "select_most_corr_with_target(body_df, 'sex')\n",
    "    "
   ]
  },
  {
   "cell_type": "code",
   "execution_count": 87,
   "metadata": {},
   "outputs": [
    {
     "name": "stdout",
     "output_type": "stream",
     "text": [
      "              precision    recall  f1-score   support\n",
      "\n",
      "         0.0       0.96      0.98      0.97        52\n",
      "         1.0       0.98      0.96      0.97        50\n",
      "\n",
      "    accuracy                           0.97       102\n",
      "   macro avg       0.97      0.97      0.97       102\n",
      "weighted avg       0.97      0.97      0.97       102\n",
      "\n"
     ]
    }
   ],
   "source": [
    "# Part 2 task 3 Prediction\n",
    "model = xgb.XGBClassifier()\n",
    "selected_cols = select_most_corr_with_target(body_df, 'sex', percentile=0.8)\n",
    "x = body_df.drop('sex', axis=1)[selected_cols]\n",
    "y = body_df['sex']\n",
    "x_train, x_test, y_train, y_test = train_test_split(x, y, test_size=0.2, stratify=y)\n",
    "model.fit(x_train, y_train)\n",
    "pred = model.predict(x_test)\n",
    "print(classification_report(y_test, pred))"
   ]
  },
  {
   "cell_type": "code",
   "execution_count": 71,
   "metadata": {},
   "outputs": [
    {
     "name": "stdout",
     "output_type": "stream",
     "text": [
      "              precision    recall  f1-score   support\n",
      "\n",
      "         0.0       0.96      1.00      0.98        52\n",
      "         1.0       1.00      0.96      0.98        50\n",
      "\n",
      "    accuracy                           0.98       102\n",
      "   macro avg       0.98      0.98      0.98       102\n",
      "weighted avg       0.98      0.98      0.98       102\n",
      "\n"
     ]
    }
   ],
   "source": [
    "# Part 2 Task 4 Prediction\n",
    "model = xgb.XGBClassifier()\n",
    "excluded_cols = columns_to_exclude(body_df.drop('sex', axis=1), exclude_treshold=0.9, corr_algo='spearman')\n",
    "x = body_df.drop(excluded_cols + ['sex'], axis=1)\n",
    "y = body_df['sex']\n",
    "x_train, x_test, y_train, y_test = train_test_split(x, y, test_size=0.2, stratify=y)\n",
    "model.fit(x_train, y_train)\n",
    "pred = model.predict(x_test)\n",
    "print(classification_report(y_test, pred))"
   ]
  },
  {
   "cell_type": "code",
   "execution_count": 154,
   "metadata": {},
   "outputs": [
    {
     "name": "stdout",
     "output_type": "stream",
     "text": [
      "              precision    recall  f1-score   support\n",
      "\n",
      "         0.0       0.98      0.96      0.97        52\n",
      "         1.0       0.96      0.98      0.97        50\n",
      "\n",
      "    accuracy                           0.97       102\n",
      "   macro avg       0.97      0.97      0.97       102\n",
      "weighted avg       0.97      0.97      0.97       102\n",
      "\n"
     ]
    }
   ],
   "source": [
    "# Some test prediction for body dataset with mutual info feature selection\n",
    "model = xgb.XGBClassifier()\n",
    "x = body_df[list(mutual_info_feature_selection(\n",
    "    body_df, 'sex'\n",
    ").keys())]\n",
    "y = body_df['sex']\n",
    "x_train, x_test, y_train, y_test = train_test_split(x, y, test_size=0.2, stratify=y)\n",
    "model.fit(x_train, y_train)\n",
    "pred = model.predict(x_test)\n",
    "print(classification_report(y_test, pred))"
   ]
  },
  {
   "cell_type": "code",
   "execution_count": 156,
   "metadata": {},
   "outputs": [
    {
     "data": {
      "application/vnd.plotly.v1+json": {
       "config": {
        "plotlyServerURL": "https://plot.ly"
       },
       "data": [
        {
         "coloraxis": "coloraxis",
         "hovertemplate": "x: %{x}<br>y: %{y}<br>color: %{z}<extra></extra>",
         "name": "0",
         "texttemplate": "%{z}",
         "type": "heatmap",
         "x": [
          "bia_di",
          "bii_di",
          "bit_di",
          "che_de",
          "che_di",
          "elb_di",
          "wri_di",
          "kne_di",
          "ank_di",
          "sho_gi",
          "che_gi",
          "wai_gi",
          "nav_gi",
          "hip_gi",
          "thi_gi",
          "bic_gi",
          "for_gi",
          "kne_gi",
          "cal_gi",
          "ank_gi",
          "wri_gi",
          "age",
          "wgt",
          "hgt",
          "sex"
         ],
         "xaxis": "x",
         "y": [
          "bia_di",
          "bii_di",
          "bit_di",
          "che_de",
          "che_di",
          "elb_di",
          "wri_di",
          "kne_di",
          "ank_di",
          "sho_gi",
          "che_gi",
          "wai_gi",
          "nav_gi",
          "hip_gi",
          "thi_gi",
          "bic_gi",
          "for_gi",
          "kne_gi",
          "cal_gi",
          "ank_gi",
          "wri_gi",
          "age",
          "wgt",
          "hgt",
          "sex"
         ],
         "yaxis": "y",
         "z": [
          [
           1,
           0.3064736207627239,
           0.48741307108668286,
           0.5892310912405675,
           0.7745001755595424,
           0.7664911625500783,
           0.7285293692438334,
           0.6437701555129958,
           0.6655683997436163,
           0.7980146475355995,
           0.7283522286597287,
           0.659957173270847,
           0.3238118049376769,
           0.3494963813186385,
           0.1263993545891685,
           0.7006357001560768,
           0.7579468834454623,
           0.5188387401902242,
           0.5146237318737736,
           0.6049852917594049,
           0.7768230130987639,
           0.09913603535539847,
           0.7391923065407016,
           0.7490204082165414,
           0.774666743905064
          ],
          [
           0.3064736207627239,
           1,
           0.6619387819014658,
           0.35189540726011515,
           0.3210665264515399,
           0.31668445664014927,
           0.27588720111309595,
           0.44099554215238007,
           0.3731663607773216,
           0.2702255627797072,
           0.32027364514639056,
           0.4282876346745258,
           0.5718168701820895,
           0.5538633813525442,
           0.40598867210841993,
           0.29991925131299485,
           0.28883204579319377,
           0.46242695394446154,
           0.3953329125781965,
           0.3220447354478887,
           0.25956957742372927,
           0.25429411820497255,
           0.48659801789506857,
           0.3792345589729312,
           0.11786527494060657
          ],
          [
           0.48741307108668286,
           0.6619387819014658,
           1,
           0.4702245528950661,
           0.5279670501913136,
           0.5276487097417396,
           0.47025531333185916,
           0.6122988285315236,
           0.5018679262875066,
           0.48020319778375586,
           0.4921615287722791,
           0.5715156156531029,
           0.6153380872452837,
           0.7484106780752912,
           0.5294960298959662,
           0.48867522152621024,
           0.48337100949677764,
           0.6212620190360243,
           0.5874488296500137,
           0.5370161548866219,
           0.48085055358218454,
           0.2673085549277658,
           0.6696250867706597,
           0.48433190219932604,
           0.2639562661227406
          ],
          [
           0.5892310912405675,
           0.35189540726011515,
           0.4702245528950661,
           1,
           0.6656435669292814,
           0.6702558853174314,
           0.6110973226416692,
           0.5651366447394403,
           0.6001845290933662,
           0.7387384999240962,
           0.805521521429247,
           0.8028853844335501,
           0.6231687862901248,
           0.5599556593409905,
           0.3637777180801872,
           0.742595999460845,
           0.7243941671921833,
           0.5691228878415634,
           0.556023262085947,
           0.5857577837173845,
           0.6838203992409089,
           0.3190836662889628,
           0.7965882456117357,
           0.5526250535401193,
           0.6211736051130166
          ],
          [
           0.7745001755595424,
           0.3210665264515399,
           0.5279670501913136,
           0.6656435669292814,
           1,
           0.7638885428070231,
           0.7348979143815886,
           0.6662009712079414,
           0.6723503202101345,
           0.871815304717205,
           0.8697932216323111,
           0.7902976145160552,
           0.5081986329065055,
           0.5247306401051686,
           0.314365225383987,
           0.7961605618334396,
           0.8108858099365176,
           0.5992823241649217,
           0.5966438755267633,
           0.636629077655221,
           0.7683797792171926,
           0.21400193959903577,
           0.8304636436711259,
           0.6295466459296558,
           0.7053952307087278
          ],
          [
           0.7664911625500783,
           0.31668445664014927,
           0.5276487097417396,
           0.6702558853174314,
           0.7638885428070231,
           1,
           0.8420531525390023,
           0.7404033839519635,
           0.8224215312943937,
           0.8207844744415742,
           0.8059749687150317,
           0.7067782750277741,
           0.4543480909477589,
           0.4497166687589329,
           0.2123685292382264,
           0.8053517811824248,
           0.858892137870726,
           0.6008195411299934,
           0.5823083090186603,
           0.6672661246875924,
           0.8467311130629327,
           0.20813317158308772,
           0.8101725629227651,
           0.7360938402364161,
           0.7698774327995562
          ],
          [
           0.7285293692438334,
           0.27588720111309595,
           0.47025531333185916,
           0.6110973226416692,
           0.7348979143815886,
           0.8420531525390023,
           1,
           0.717348752820659,
           0.7786011712456764,
           0.77807607523395,
           0.7686583826440601,
           0.6856049851177108,
           0.41348928884995984,
           0.43029135043027666,
           0.19858703618760884,
           0.7632973459645958,
           0.8168302319208169,
           0.5930554550649767,
           0.5819668096732162,
           0.6623659103068044,
           0.8653628192318046,
           0.21175578525340574,
           0.7735145976374138,
           0.6813681025509306,
           0.7259115914701489
          ],
          [
           0.6437701555129958,
           0.44099554215238007,
           0.6122988285315236,
           0.5651366447394403,
           0.6662009712079414,
           0.7404033839519635,
           0.717348752820659,
           1,
           0.7342473186547354,
           0.6892042315837396,
           0.663348267126371,
           0.6421593503099935,
           0.48615105956104365,
           0.5845030938228266,
           0.426287287731385,
           0.6929104065970656,
           0.7302578918728576,
           0.7354842369738375,
           0.6818111168693405,
           0.6583163021049876,
           0.7394948048378203,
           0.19130354126732,
           0.7789461954202258,
           0.5963908437281478,
           0.550984112268676
          ],
          [
           0.6655683997436163,
           0.3731663607773216,
           0.5018679262875066,
           0.6001845290933662,
           0.6723503202101345,
           0.8224215312943937,
           0.7786011712456764,
           0.7342473186547354,
           1,
           0.6957042424089385,
           0.712155484912049,
           0.6474349158697836,
           0.456698746140865,
           0.42263529596840205,
           0.2009516700840827,
           0.6905546231464349,
           0.7372303533369865,
           0.5510591063077116,
           0.5434389386918614,
           0.6738366845216138,
           0.7627413916943422,
           0.2553117142780353,
           0.7378128379940136,
           0.6849964613045558,
           0.6858244998164624
          ],
          [
           0.7980146475355995,
           0.2702255627797072,
           0.48020319778375586,
           0.7387384999240962,
           0.871815304717205,
           0.8207844744415742,
           0.77807607523395,
           0.6892042315837396,
           0.6957042424089385,
           1,
           0.9262570347580936,
           0.8338680628467772,
           0.524568581961747,
           0.5363969755368496,
           0.3246744833373474,
           0.8960245982315926,
           0.896535907696207,
           0.6314821906894534,
           0.6282233695556146,
           0.6835546180558061,
           0.8447274888128109,
           0.19300258369252427,
           0.881973649083917,
           0.6689047231640339,
           0.7828494534645449
          ],
          [
           0.7283522286597287,
           0.32027364514639056,
           0.4921615287722791,
           0.805521521429247,
           0.8697932216323111,
           0.8059749687150317,
           0.7686583826440601,
           0.663348267126371,
           0.712155484912049,
           0.9262570347580936,
           1,
           0.8919455857467038,
           0.6323883773187897,
           0.5897818137646896,
           0.36879698861564575,
           0.9104270911150179,
           0.8912282340029203,
           0.6217576480045072,
           0.610876874341223,
           0.6739489245779559,
           0.8302668932756541,
           0.2607453762615343,
           0.9021044328587611,
           0.6222922086895214,
           0.747144490995924
          ],
          [
           0.659957173270847,
           0.4282876346745258,
           0.5715156156531029,
           0.8028853844335501,
           0.7902976145160552,
           0.7067782750277741,
           0.6856049851177108,
           0.6421593503099935,
           0.6474349158697836,
           0.8338680628467772,
           0.8919455857467038,
           1,
           0.7537497701937677,
           0.6952363419081955,
           0.42884241029132153,
           0.8245214181230395,
           0.7983025740208124,
           0.664444200493266,
           0.6330139958002564,
           0.6635214630283505,
           0.7426354337598232,
           0.36855545738592965,
           0.906330212834047,
           0.5635031478945621,
           0.6832354508773637
          ],
          [
           0.3238118049376769,
           0.5718168701820895,
           0.6153380872452837,
           0.6231687862901248,
           0.5081986329065055,
           0.4543480909477589,
           0.41348928884995984,
           0.48615105956104365,
           0.456698746140865,
           0.524568581961747,
           0.6323883773187897,
           0.7537497701937677,
           1,
           0.8215116457802898,
           0.5993722888056567,
           0.5776260428833,
           0.5019767344992415,
           0.6106863620640475,
           0.5220680264119929,
           0.5272596836984466,
           0.4492150068942519,
           0.43762424228047714,
           0.7163866534980879,
           0.3295559705118366,
           0.22059849750394278
          ],
          [
           0.3494963813186385,
           0.5538633813525442,
           0.7484106780752912,
           0.5599556593409905,
           0.5247306401051686,
           0.4497166687589329,
           0.43029135043027666,
           0.5845030938228266,
           0.42263529596840205,
           0.5363969755368496,
           0.5897818137646896,
           0.6952363419081955,
           0.8215116457802898,
           1,
           0.8262244227289048,
           0.5738616910146188,
           0.5255446687099,
           0.7335730053887802,
           0.6711202995193123,
           0.58498494282156,
           0.4690178407063198,
           0.23807296907205677,
           0.7667377520279924,
           0.34981715486044956,
           0.16380965784546805
          ],
          [
           0.1263993545891685,
           0.40598867210841993,
           0.5294960298959662,
           0.3637777180801872,
           0.314365225383987,
           0.2123685292382264,
           0.19858703618760884,
           0.426287287731385,
           0.2009516700840827,
           0.3246744833373474,
           0.36879698861564575,
           0.42884241029132153,
           0.5993722888056567,
           0.8262244227289048,
           1,
           0.41759516199016744,
           0.3494571722801423,
           0.6357771254279235,
           0.6276690777072932,
           0.42949912078664176,
           0.24910450874112694,
           -0.005641736079586577,
           0.5609249019567367,
           0.1231493259972685,
           -0.07716930987687523
          ],
          [
           0.7006357001560768,
           0.29991925131299485,
           0.48867522152621024,
           0.742595999460845,
           0.7961605618334396,
           0.8053517811824248,
           0.7632973459645958,
           0.6929104065970656,
           0.6905546231464349,
           0.8960245982315926,
           0.9104270911150179,
           0.8245214181230395,
           0.5776260428833,
           0.5738616910146188,
           0.41759516199016744,
           1,
           0.9430015142420547,
           0.6348789986600883,
           0.6437244795017091,
           0.6778941806624635,
           0.8522652258326829,
           0.20151644024172083,
           0.8782134164618594,
           0.5908414262692604,
           0.7456435664317922
          ],
          [
           0.7579468834454623,
           0.28883204579319377,
           0.48337100949677764,
           0.7243941671921833,
           0.8108858099365176,
           0.858892137870726,
           0.8168302319208169,
           0.7302578918728576,
           0.7372303533369865,
           0.896535907696207,
           0.8912282340029203,
           0.7983025740208124,
           0.5019767344992415,
           0.5255446687099,
           0.3494571722801423,
           0.9430015142420547,
           1,
           0.666933640738109,
           0.6734821127461912,
           0.71621427265684,
           0.9078440427199117,
           0.16254790617348275,
           0.8803751170153844,
           0.65833064723035,
           0.7932290194242391
          ],
          [
           0.5188387401902242,
           0.46242695394446154,
           0.6212620190360243,
           0.5691228878415634,
           0.5992823241649217,
           0.6008195411299934,
           0.5930554550649767,
           0.7354842369738375,
           0.5510591063077116,
           0.6314821906894534,
           0.6217576480045072,
           0.664444200493266,
           0.6106863620640475,
           0.7335730053887802,
           0.6357771254279235,
           0.6348789986600883,
           0.666933640738109,
           1,
           0.7936539378039559,
           0.7443676063759663,
           0.6526790537875877,
           0.13215325872110123,
           0.800183731770664,
           0.5357806107802734,
           0.3781909530117859
          ],
          [
           0.5146237318737736,
           0.3953329125781965,
           0.5874488296500137,
           0.556023262085947,
           0.5966438755267633,
           0.5823083090186603,
           0.5819668096732162,
           0.6818111168693405,
           0.5434389386918614,
           0.6282233695556146,
           0.610876874341223,
           0.6330139958002564,
           0.5220680264119929,
           0.6711202995193123,
           0.6276690777072932,
           0.6437244795017091,
           0.6734821127461912,
           0.7936539378039559,
           1,
           0.7645828505746124,
           0.6496983404269311,
           0.11263992022993684,
           0.7697416745834647,
           0.4572407649219666,
           0.38888080549993165
          ],
          [
           0.6049852917594049,
           0.3220447354478887,
           0.5370161548866219,
           0.5857577837173845,
           0.636629077655221,
           0.6672661246875924,
           0.6623659103068044,
           0.6583163021049876,
           0.6738366845216138,
           0.6835546180558061,
           0.6739489245779559,
           0.6635214630283505,
           0.5272596836984466,
           0.58498494282156,
           0.42949912078664176,
           0.6778941806624635,
           0.71621427265684,
           0.7443676063759663,
           0.7645828505746124,
           1,
           0.7555115418822771,
           0.14954864220296515,
           0.764757762288231,
           0.5679892517166183,
           0.5255662455618058
          ],
          [
           0.7768230130987639,
           0.25956957742372927,
           0.48085055358218454,
           0.6838203992409089,
           0.7683797792171926,
           0.8467311130629327,
           0.8653628192318046,
           0.7394948048378203,
           0.7627413916943422,
           0.8447274888128109,
           0.8302668932756541,
           0.7426354337598232,
           0.4492150068942519,
           0.4690178407063198,
           0.24910450874112694,
           0.8522652258326829,
           0.9078440427199117,
           0.6526790537875877,
           0.6496983404269311,
           0.7555115418822771,
           1,
           0.19381126397628734,
           0.8284130978442727,
           0.6933179069479056,
           0.7728945832977837
          ],
          [
           0.09913603535539847,
           0.25429411820497255,
           0.2673085549277658,
           0.3190836662889628,
           0.21400193959903577,
           0.20813317158308772,
           0.21175578525340574,
           0.19130354126732,
           0.2553117142780353,
           0.19300258369252427,
           0.2607453762615343,
           0.36855545738592965,
           0.43762424228047714,
           0.23807296907205677,
           -0.005641736079586577,
           0.20151644024172083,
           0.16254790617348275,
           0.13215325872110123,
           0.11263992022993684,
           0.14954864220296515,
           0.19381126397628734,
           1,
           0.22547626885882602,
           0.08279282552281769,
           0.15692649462972885
          ],
          [
           0.7391923065407016,
           0.48659801789506857,
           0.6696250867706597,
           0.7965882456117357,
           0.8304636436711259,
           0.8101725629227651,
           0.7735145976374138,
           0.7789461954202258,
           0.7378128379940136,
           0.881973649083917,
           0.9021044328587611,
           0.906330212834047,
           0.7163866534980879,
           0.7667377520279924,
           0.5609249019567367,
           0.8782134164618594,
           0.8803751170153844,
           0.800183731770664,
           0.7697416745834647,
           0.764757762288231,
           0.8284130978442727,
           0.22547626885882602,
           1,
           0.7274677431287058,
           0.6679328426646345
          ],
          [
           0.7490204082165414,
           0.3792345589729312,
           0.48433190219932604,
           0.5526250535401193,
           0.6295466459296558,
           0.7360938402364161,
           0.6813681025509306,
           0.5963908437281478,
           0.6849964613045558,
           0.6689047231640339,
           0.6222922086895214,
           0.5635031478945621,
           0.3295559705118366,
           0.34981715486044956,
           0.1231493259972685,
           0.5908414262692604,
           0.65833064723035,
           0.5357806107802734,
           0.4572407649219666,
           0.5679892517166183,
           0.6933179069479056,
           0.08279282552281769,
           0.7274677431287058,
           1,
           0.6847953780851626
          ],
          [
           0.774666743905064,
           0.11786527494060657,
           0.2639562661227406,
           0.6211736051130166,
           0.7053952307087278,
           0.7698774327995562,
           0.7259115914701489,
           0.550984112268676,
           0.6858244998164624,
           0.7828494534645449,
           0.747144490995924,
           0.6832354508773637,
           0.22059849750394278,
           0.16380965784546805,
           -0.07716930987687523,
           0.7456435664317922,
           0.7932290194242391,
           0.3781909530117859,
           0.38888080549993165,
           0.5255662455618058,
           0.7728945832977837,
           0.15692649462972885,
           0.6679328426646345,
           0.6847953780851626,
           1
          ]
         ]
        }
       ],
       "layout": {
        "coloraxis": {
         "colorscale": [
          [
           0,
           "#0d0887"
          ],
          [
           0.1111111111111111,
           "#46039f"
          ],
          [
           0.2222222222222222,
           "#7201a8"
          ],
          [
           0.3333333333333333,
           "#9c179e"
          ],
          [
           0.4444444444444444,
           "#bd3786"
          ],
          [
           0.5555555555555556,
           "#d8576b"
          ],
          [
           0.6666666666666666,
           "#ed7953"
          ],
          [
           0.7777777777777778,
           "#fb9f3a"
          ],
          [
           0.8888888888888888,
           "#fdca26"
          ],
          [
           1,
           "#f0f921"
          ]
         ]
        },
        "margin": {
         "t": 60
        },
        "template": {
         "data": {
          "bar": [
           {
            "error_x": {
             "color": "#2a3f5f"
            },
            "error_y": {
             "color": "#2a3f5f"
            },
            "marker": {
             "line": {
              "color": "#E5ECF6",
              "width": 0.5
             },
             "pattern": {
              "fillmode": "overlay",
              "size": 10,
              "solidity": 0.2
             }
            },
            "type": "bar"
           }
          ],
          "barpolar": [
           {
            "marker": {
             "line": {
              "color": "#E5ECF6",
              "width": 0.5
             },
             "pattern": {
              "fillmode": "overlay",
              "size": 10,
              "solidity": 0.2
             }
            },
            "type": "barpolar"
           }
          ],
          "carpet": [
           {
            "aaxis": {
             "endlinecolor": "#2a3f5f",
             "gridcolor": "white",
             "linecolor": "white",
             "minorgridcolor": "white",
             "startlinecolor": "#2a3f5f"
            },
            "baxis": {
             "endlinecolor": "#2a3f5f",
             "gridcolor": "white",
             "linecolor": "white",
             "minorgridcolor": "white",
             "startlinecolor": "#2a3f5f"
            },
            "type": "carpet"
           }
          ],
          "choropleth": [
           {
            "colorbar": {
             "outlinewidth": 0,
             "ticks": ""
            },
            "type": "choropleth"
           }
          ],
          "contour": [
           {
            "colorbar": {
             "outlinewidth": 0,
             "ticks": ""
            },
            "colorscale": [
             [
              0,
              "#0d0887"
             ],
             [
              0.1111111111111111,
              "#46039f"
             ],
             [
              0.2222222222222222,
              "#7201a8"
             ],
             [
              0.3333333333333333,
              "#9c179e"
             ],
             [
              0.4444444444444444,
              "#bd3786"
             ],
             [
              0.5555555555555556,
              "#d8576b"
             ],
             [
              0.6666666666666666,
              "#ed7953"
             ],
             [
              0.7777777777777778,
              "#fb9f3a"
             ],
             [
              0.8888888888888888,
              "#fdca26"
             ],
             [
              1,
              "#f0f921"
             ]
            ],
            "type": "contour"
           }
          ],
          "contourcarpet": [
           {
            "colorbar": {
             "outlinewidth": 0,
             "ticks": ""
            },
            "type": "contourcarpet"
           }
          ],
          "heatmap": [
           {
            "colorbar": {
             "outlinewidth": 0,
             "ticks": ""
            },
            "colorscale": [
             [
              0,
              "#0d0887"
             ],
             [
              0.1111111111111111,
              "#46039f"
             ],
             [
              0.2222222222222222,
              "#7201a8"
             ],
             [
              0.3333333333333333,
              "#9c179e"
             ],
             [
              0.4444444444444444,
              "#bd3786"
             ],
             [
              0.5555555555555556,
              "#d8576b"
             ],
             [
              0.6666666666666666,
              "#ed7953"
             ],
             [
              0.7777777777777778,
              "#fb9f3a"
             ],
             [
              0.8888888888888888,
              "#fdca26"
             ],
             [
              1,
              "#f0f921"
             ]
            ],
            "type": "heatmap"
           }
          ],
          "heatmapgl": [
           {
            "colorbar": {
             "outlinewidth": 0,
             "ticks": ""
            },
            "colorscale": [
             [
              0,
              "#0d0887"
             ],
             [
              0.1111111111111111,
              "#46039f"
             ],
             [
              0.2222222222222222,
              "#7201a8"
             ],
             [
              0.3333333333333333,
              "#9c179e"
             ],
             [
              0.4444444444444444,
              "#bd3786"
             ],
             [
              0.5555555555555556,
              "#d8576b"
             ],
             [
              0.6666666666666666,
              "#ed7953"
             ],
             [
              0.7777777777777778,
              "#fb9f3a"
             ],
             [
              0.8888888888888888,
              "#fdca26"
             ],
             [
              1,
              "#f0f921"
             ]
            ],
            "type": "heatmapgl"
           }
          ],
          "histogram": [
           {
            "marker": {
             "pattern": {
              "fillmode": "overlay",
              "size": 10,
              "solidity": 0.2
             }
            },
            "type": "histogram"
           }
          ],
          "histogram2d": [
           {
            "colorbar": {
             "outlinewidth": 0,
             "ticks": ""
            },
            "colorscale": [
             [
              0,
              "#0d0887"
             ],
             [
              0.1111111111111111,
              "#46039f"
             ],
             [
              0.2222222222222222,
              "#7201a8"
             ],
             [
              0.3333333333333333,
              "#9c179e"
             ],
             [
              0.4444444444444444,
              "#bd3786"
             ],
             [
              0.5555555555555556,
              "#d8576b"
             ],
             [
              0.6666666666666666,
              "#ed7953"
             ],
             [
              0.7777777777777778,
              "#fb9f3a"
             ],
             [
              0.8888888888888888,
              "#fdca26"
             ],
             [
              1,
              "#f0f921"
             ]
            ],
            "type": "histogram2d"
           }
          ],
          "histogram2dcontour": [
           {
            "colorbar": {
             "outlinewidth": 0,
             "ticks": ""
            },
            "colorscale": [
             [
              0,
              "#0d0887"
             ],
             [
              0.1111111111111111,
              "#46039f"
             ],
             [
              0.2222222222222222,
              "#7201a8"
             ],
             [
              0.3333333333333333,
              "#9c179e"
             ],
             [
              0.4444444444444444,
              "#bd3786"
             ],
             [
              0.5555555555555556,
              "#d8576b"
             ],
             [
              0.6666666666666666,
              "#ed7953"
             ],
             [
              0.7777777777777778,
              "#fb9f3a"
             ],
             [
              0.8888888888888888,
              "#fdca26"
             ],
             [
              1,
              "#f0f921"
             ]
            ],
            "type": "histogram2dcontour"
           }
          ],
          "mesh3d": [
           {
            "colorbar": {
             "outlinewidth": 0,
             "ticks": ""
            },
            "type": "mesh3d"
           }
          ],
          "parcoords": [
           {
            "line": {
             "colorbar": {
              "outlinewidth": 0,
              "ticks": ""
             }
            },
            "type": "parcoords"
           }
          ],
          "pie": [
           {
            "automargin": true,
            "type": "pie"
           }
          ],
          "scatter": [
           {
            "fillpattern": {
             "fillmode": "overlay",
             "size": 10,
             "solidity": 0.2
            },
            "type": "scatter"
           }
          ],
          "scatter3d": [
           {
            "line": {
             "colorbar": {
              "outlinewidth": 0,
              "ticks": ""
             }
            },
            "marker": {
             "colorbar": {
              "outlinewidth": 0,
              "ticks": ""
             }
            },
            "type": "scatter3d"
           }
          ],
          "scattercarpet": [
           {
            "marker": {
             "colorbar": {
              "outlinewidth": 0,
              "ticks": ""
             }
            },
            "type": "scattercarpet"
           }
          ],
          "scattergeo": [
           {
            "marker": {
             "colorbar": {
              "outlinewidth": 0,
              "ticks": ""
             }
            },
            "type": "scattergeo"
           }
          ],
          "scattergl": [
           {
            "marker": {
             "colorbar": {
              "outlinewidth": 0,
              "ticks": ""
             }
            },
            "type": "scattergl"
           }
          ],
          "scattermapbox": [
           {
            "marker": {
             "colorbar": {
              "outlinewidth": 0,
              "ticks": ""
             }
            },
            "type": "scattermapbox"
           }
          ],
          "scatterpolar": [
           {
            "marker": {
             "colorbar": {
              "outlinewidth": 0,
              "ticks": ""
             }
            },
            "type": "scatterpolar"
           }
          ],
          "scatterpolargl": [
           {
            "marker": {
             "colorbar": {
              "outlinewidth": 0,
              "ticks": ""
             }
            },
            "type": "scatterpolargl"
           }
          ],
          "scatterternary": [
           {
            "marker": {
             "colorbar": {
              "outlinewidth": 0,
              "ticks": ""
             }
            },
            "type": "scatterternary"
           }
          ],
          "surface": [
           {
            "colorbar": {
             "outlinewidth": 0,
             "ticks": ""
            },
            "colorscale": [
             [
              0,
              "#0d0887"
             ],
             [
              0.1111111111111111,
              "#46039f"
             ],
             [
              0.2222222222222222,
              "#7201a8"
             ],
             [
              0.3333333333333333,
              "#9c179e"
             ],
             [
              0.4444444444444444,
              "#bd3786"
             ],
             [
              0.5555555555555556,
              "#d8576b"
             ],
             [
              0.6666666666666666,
              "#ed7953"
             ],
             [
              0.7777777777777778,
              "#fb9f3a"
             ],
             [
              0.8888888888888888,
              "#fdca26"
             ],
             [
              1,
              "#f0f921"
             ]
            ],
            "type": "surface"
           }
          ],
          "table": [
           {
            "cells": {
             "fill": {
              "color": "#EBF0F8"
             },
             "line": {
              "color": "white"
             }
            },
            "header": {
             "fill": {
              "color": "#C8D4E3"
             },
             "line": {
              "color": "white"
             }
            },
            "type": "table"
           }
          ]
         },
         "layout": {
          "annotationdefaults": {
           "arrowcolor": "#2a3f5f",
           "arrowhead": 0,
           "arrowwidth": 1
          },
          "autotypenumbers": "strict",
          "coloraxis": {
           "colorbar": {
            "outlinewidth": 0,
            "ticks": ""
           }
          },
          "colorscale": {
           "diverging": [
            [
             0,
             "#8e0152"
            ],
            [
             0.1,
             "#c51b7d"
            ],
            [
             0.2,
             "#de77ae"
            ],
            [
             0.3,
             "#f1b6da"
            ],
            [
             0.4,
             "#fde0ef"
            ],
            [
             0.5,
             "#f7f7f7"
            ],
            [
             0.6,
             "#e6f5d0"
            ],
            [
             0.7,
             "#b8e186"
            ],
            [
             0.8,
             "#7fbc41"
            ],
            [
             0.9,
             "#4d9221"
            ],
            [
             1,
             "#276419"
            ]
           ],
           "sequential": [
            [
             0,
             "#0d0887"
            ],
            [
             0.1111111111111111,
             "#46039f"
            ],
            [
             0.2222222222222222,
             "#7201a8"
            ],
            [
             0.3333333333333333,
             "#9c179e"
            ],
            [
             0.4444444444444444,
             "#bd3786"
            ],
            [
             0.5555555555555556,
             "#d8576b"
            ],
            [
             0.6666666666666666,
             "#ed7953"
            ],
            [
             0.7777777777777778,
             "#fb9f3a"
            ],
            [
             0.8888888888888888,
             "#fdca26"
            ],
            [
             1,
             "#f0f921"
            ]
           ],
           "sequentialminus": [
            [
             0,
             "#0d0887"
            ],
            [
             0.1111111111111111,
             "#46039f"
            ],
            [
             0.2222222222222222,
             "#7201a8"
            ],
            [
             0.3333333333333333,
             "#9c179e"
            ],
            [
             0.4444444444444444,
             "#bd3786"
            ],
            [
             0.5555555555555556,
             "#d8576b"
            ],
            [
             0.6666666666666666,
             "#ed7953"
            ],
            [
             0.7777777777777778,
             "#fb9f3a"
            ],
            [
             0.8888888888888888,
             "#fdca26"
            ],
            [
             1,
             "#f0f921"
            ]
           ]
          },
          "colorway": [
           "#636efa",
           "#EF553B",
           "#00cc96",
           "#ab63fa",
           "#FFA15A",
           "#19d3f3",
           "#FF6692",
           "#B6E880",
           "#FF97FF",
           "#FECB52"
          ],
          "font": {
           "color": "#2a3f5f"
          },
          "geo": {
           "bgcolor": "white",
           "lakecolor": "white",
           "landcolor": "#E5ECF6",
           "showlakes": true,
           "showland": true,
           "subunitcolor": "white"
          },
          "hoverlabel": {
           "align": "left"
          },
          "hovermode": "closest",
          "mapbox": {
           "style": "light"
          },
          "paper_bgcolor": "white",
          "plot_bgcolor": "#E5ECF6",
          "polar": {
           "angularaxis": {
            "gridcolor": "white",
            "linecolor": "white",
            "ticks": ""
           },
           "bgcolor": "#E5ECF6",
           "radialaxis": {
            "gridcolor": "white",
            "linecolor": "white",
            "ticks": ""
           }
          },
          "scene": {
           "xaxis": {
            "backgroundcolor": "#E5ECF6",
            "gridcolor": "white",
            "gridwidth": 2,
            "linecolor": "white",
            "showbackground": true,
            "ticks": "",
            "zerolinecolor": "white"
           },
           "yaxis": {
            "backgroundcolor": "#E5ECF6",
            "gridcolor": "white",
            "gridwidth": 2,
            "linecolor": "white",
            "showbackground": true,
            "ticks": "",
            "zerolinecolor": "white"
           },
           "zaxis": {
            "backgroundcolor": "#E5ECF6",
            "gridcolor": "white",
            "gridwidth": 2,
            "linecolor": "white",
            "showbackground": true,
            "ticks": "",
            "zerolinecolor": "white"
           }
          },
          "shapedefaults": {
           "line": {
            "color": "#2a3f5f"
           }
          },
          "ternary": {
           "aaxis": {
            "gridcolor": "white",
            "linecolor": "white",
            "ticks": ""
           },
           "baxis": {
            "gridcolor": "white",
            "linecolor": "white",
            "ticks": ""
           },
           "bgcolor": "#E5ECF6",
           "caxis": {
            "gridcolor": "white",
            "linecolor": "white",
            "ticks": ""
           }
          },
          "title": {
           "x": 0.05
          },
          "xaxis": {
           "automargin": true,
           "gridcolor": "white",
           "linecolor": "white",
           "ticks": "",
           "title": {
            "standoff": 15
           },
           "zerolinecolor": "white",
           "zerolinewidth": 2
          },
          "yaxis": {
           "automargin": true,
           "gridcolor": "white",
           "linecolor": "white",
           "ticks": "",
           "title": {
            "standoff": 15
           },
           "zerolinecolor": "white",
           "zerolinewidth": 2
          }
         }
        },
        "xaxis": {
         "anchor": "y",
         "domain": [
          0,
          1
         ]
        },
        "yaxis": {
         "anchor": "x",
         "autorange": "reversed",
         "domain": [
          0,
          1
         ]
        }
       }
      }
     },
     "metadata": {},
     "output_type": "display_data"
    }
   ],
   "source": [
    "# Part 2 Task 6 Log normalization\n",
    "x = body_df.drop('sex', axis=1)\n",
    "for col in x.columns:\n",
    "    x[col] = x[col].apply(lambda val: np.log(val) if val != 0 else 0)\n",
    "y = body_df['sex']\n",
    "fig = px.imshow(\n",
    "    pd.concat([x, y], axis=1).corr(), text_auto=True, aspect='auto'\n",
    ")\n",
    "fig.show()"
   ]
  },
  {
   "cell_type": "code",
   "execution_count": 157,
   "metadata": {},
   "outputs": [
    {
     "name": "stdout",
     "output_type": "stream",
     "text": [
      "              precision    recall  f1-score   support\n",
      "\n",
      "         0.0       1.00      0.96      0.98        52\n",
      "         1.0       0.96      1.00      0.98        50\n",
      "\n",
      "    accuracy                           0.98       102\n",
      "   macro avg       0.98      0.98      0.98       102\n",
      "weighted avg       0.98      0.98      0.98       102\n",
      "\n"
     ]
    }
   ],
   "source": [
    "# Some prediction for Part 2 task 6\n",
    "x = body_df.drop('sex', axis=1)\n",
    "for col in x.columns:\n",
    "    x[col] = x[col].apply(lambda val: np.log(val) if val != 0 else 0)\n",
    "y = body_df['sex']\n",
    "x_train, x_test, y_train, y_test = train_test_split(x, y, test_size=0.2, stratify=y)\n",
    "model.fit(x_train, y_train)\n",
    "pred = model.predict(x_test)\n",
    "print(classification_report(y_test, pred))"
   ]
  },
  {
   "cell_type": "code",
   "execution_count": 164,
   "metadata": {},
   "outputs": [],
   "source": [
    "# Part 3 Task 1\n",
    "def rfe_feature_selection_general(df, target_col, estimator, percentile=0.5):\n",
    "    x = df.drop(target_col, axis=1)\n",
    "    y = df[target_col]    \n",
    "    model = RFE(estimator=estimator, n_features_to_select=percentile)\n",
    "    model.fit(x, y)\n",
    "    return {feature: True for feature in model.get_feature_names_out()}"
   ]
  },
  {
   "cell_type": "code",
   "execution_count": 168,
   "metadata": {},
   "outputs": [
    {
     "name": "stderr",
     "output_type": "stream",
     "text": [
      "d:\\Programs\\Programming\\BSUIR\\IDA\\LR2\\.venv\\Lib\\site-packages\\sklearn\\linear_model\\_logistic.py:469: ConvergenceWarning:\n",
      "\n",
      "lbfgs failed to converge (status=1):\n",
      "STOP: TOTAL NO. of ITERATIONS REACHED LIMIT.\n",
      "\n",
      "Increase the number of iterations (max_iter) or scale the data as shown in:\n",
      "    https://scikit-learn.org/stable/modules/preprocessing.html\n",
      "Please also refer to the documentation for alternative solver options:\n",
      "    https://scikit-learn.org/stable/modules/linear_model.html#logistic-regression\n",
      "\n",
      "d:\\Programs\\Programming\\BSUIR\\IDA\\LR2\\.venv\\Lib\\site-packages\\sklearn\\linear_model\\_logistic.py:469: ConvergenceWarning:\n",
      "\n",
      "lbfgs failed to converge (status=1):\n",
      "STOP: TOTAL NO. of ITERATIONS REACHED LIMIT.\n",
      "\n",
      "Increase the number of iterations (max_iter) or scale the data as shown in:\n",
      "    https://scikit-learn.org/stable/modules/preprocessing.html\n",
      "Please also refer to the documentation for alternative solver options:\n",
      "    https://scikit-learn.org/stable/modules/linear_model.html#logistic-regression\n",
      "\n",
      "d:\\Programs\\Programming\\BSUIR\\IDA\\LR2\\.venv\\Lib\\site-packages\\sklearn\\linear_model\\_logistic.py:469: ConvergenceWarning:\n",
      "\n",
      "lbfgs failed to converge (status=1):\n",
      "STOP: TOTAL NO. of ITERATIONS REACHED LIMIT.\n",
      "\n",
      "Increase the number of iterations (max_iter) or scale the data as shown in:\n",
      "    https://scikit-learn.org/stable/modules/preprocessing.html\n",
      "Please also refer to the documentation for alternative solver options:\n",
      "    https://scikit-learn.org/stable/modules/linear_model.html#logistic-regression\n",
      "\n",
      "d:\\Programs\\Programming\\BSUIR\\IDA\\LR2\\.venv\\Lib\\site-packages\\sklearn\\linear_model\\_logistic.py:469: ConvergenceWarning:\n",
      "\n",
      "lbfgs failed to converge (status=1):\n",
      "STOP: TOTAL NO. of ITERATIONS REACHED LIMIT.\n",
      "\n",
      "Increase the number of iterations (max_iter) or scale the data as shown in:\n",
      "    https://scikit-learn.org/stable/modules/preprocessing.html\n",
      "Please also refer to the documentation for alternative solver options:\n",
      "    https://scikit-learn.org/stable/modules/linear_model.html#logistic-regression\n",
      "\n",
      "d:\\Programs\\Programming\\BSUIR\\IDA\\LR2\\.venv\\Lib\\site-packages\\sklearn\\linear_model\\_logistic.py:469: ConvergenceWarning:\n",
      "\n",
      "lbfgs failed to converge (status=1):\n",
      "STOP: TOTAL NO. of ITERATIONS REACHED LIMIT.\n",
      "\n",
      "Increase the number of iterations (max_iter) or scale the data as shown in:\n",
      "    https://scikit-learn.org/stable/modules/preprocessing.html\n",
      "Please also refer to the documentation for alternative solver options:\n",
      "    https://scikit-learn.org/stable/modules/linear_model.html#logistic-regression\n",
      "\n",
      "d:\\Programs\\Programming\\BSUIR\\IDA\\LR2\\.venv\\Lib\\site-packages\\sklearn\\linear_model\\_logistic.py:469: ConvergenceWarning:\n",
      "\n",
      "lbfgs failed to converge (status=1):\n",
      "STOP: TOTAL NO. of ITERATIONS REACHED LIMIT.\n",
      "\n",
      "Increase the number of iterations (max_iter) or scale the data as shown in:\n",
      "    https://scikit-learn.org/stable/modules/preprocessing.html\n",
      "Please also refer to the documentation for alternative solver options:\n",
      "    https://scikit-learn.org/stable/modules/linear_model.html#logistic-regression\n",
      "\n",
      "d:\\Programs\\Programming\\BSUIR\\IDA\\LR2\\.venv\\Lib\\site-packages\\sklearn\\linear_model\\_logistic.py:469: ConvergenceWarning:\n",
      "\n",
      "lbfgs failed to converge (status=1):\n",
      "STOP: TOTAL NO. of ITERATIONS REACHED LIMIT.\n",
      "\n",
      "Increase the number of iterations (max_iter) or scale the data as shown in:\n",
      "    https://scikit-learn.org/stable/modules/preprocessing.html\n",
      "Please also refer to the documentation for alternative solver options:\n",
      "    https://scikit-learn.org/stable/modules/linear_model.html#logistic-regression\n",
      "\n",
      "d:\\Programs\\Programming\\BSUIR\\IDA\\LR2\\.venv\\Lib\\site-packages\\sklearn\\linear_model\\_logistic.py:469: ConvergenceWarning:\n",
      "\n",
      "lbfgs failed to converge (status=1):\n",
      "STOP: TOTAL NO. of ITERATIONS REACHED LIMIT.\n",
      "\n",
      "Increase the number of iterations (max_iter) or scale the data as shown in:\n",
      "    https://scikit-learn.org/stable/modules/preprocessing.html\n",
      "Please also refer to the documentation for alternative solver options:\n",
      "    https://scikit-learn.org/stable/modules/linear_model.html#logistic-regression\n",
      "\n",
      "d:\\Programs\\Programming\\BSUIR\\IDA\\LR2\\.venv\\Lib\\site-packages\\sklearn\\linear_model\\_logistic.py:469: ConvergenceWarning:\n",
      "\n",
      "lbfgs failed to converge (status=1):\n",
      "STOP: TOTAL NO. of ITERATIONS REACHED LIMIT.\n",
      "\n",
      "Increase the number of iterations (max_iter) or scale the data as shown in:\n",
      "    https://scikit-learn.org/stable/modules/preprocessing.html\n",
      "Please also refer to the documentation for alternative solver options:\n",
      "    https://scikit-learn.org/stable/modules/linear_model.html#logistic-regression\n",
      "\n",
      "d:\\Programs\\Programming\\BSUIR\\IDA\\LR2\\.venv\\Lib\\site-packages\\sklearn\\linear_model\\_logistic.py:469: ConvergenceWarning:\n",
      "\n",
      "lbfgs failed to converge (status=1):\n",
      "STOP: TOTAL NO. of ITERATIONS REACHED LIMIT.\n",
      "\n",
      "Increase the number of iterations (max_iter) or scale the data as shown in:\n",
      "    https://scikit-learn.org/stable/modules/preprocessing.html\n",
      "Please also refer to the documentation for alternative solver options:\n",
      "    https://scikit-learn.org/stable/modules/linear_model.html#logistic-regression\n",
      "\n",
      "d:\\Programs\\Programming\\BSUIR\\IDA\\LR2\\.venv\\Lib\\site-packages\\sklearn\\linear_model\\_logistic.py:469: ConvergenceWarning:\n",
      "\n",
      "lbfgs failed to converge (status=1):\n",
      "STOP: TOTAL NO. of ITERATIONS REACHED LIMIT.\n",
      "\n",
      "Increase the number of iterations (max_iter) or scale the data as shown in:\n",
      "    https://scikit-learn.org/stable/modules/preprocessing.html\n",
      "Please also refer to the documentation for alternative solver options:\n",
      "    https://scikit-learn.org/stable/modules/linear_model.html#logistic-regression\n",
      "\n"
     ]
    },
    {
     "name": "stdout",
     "output_type": "stream",
     "text": [
      "              precision    recall  f1-score   support\n",
      "\n",
      "         0.0       0.96      1.00      0.98        52\n",
      "         1.0       1.00      0.96      0.98        50\n",
      "\n",
      "    accuracy                           0.98       102\n",
      "   macro avg       0.98      0.98      0.98       102\n",
      "weighted avg       0.98      0.98      0.98       102\n",
      "\n"
     ]
    },
    {
     "name": "stderr",
     "output_type": "stream",
     "text": [
      "d:\\Programs\\Programming\\BSUIR\\IDA\\LR2\\.venv\\Lib\\site-packages\\sklearn\\linear_model\\_logistic.py:469: ConvergenceWarning:\n",
      "\n",
      "lbfgs failed to converge (status=1):\n",
      "STOP: TOTAL NO. of ITERATIONS REACHED LIMIT.\n",
      "\n",
      "Increase the number of iterations (max_iter) or scale the data as shown in:\n",
      "    https://scikit-learn.org/stable/modules/preprocessing.html\n",
      "Please also refer to the documentation for alternative solver options:\n",
      "    https://scikit-learn.org/stable/modules/linear_model.html#logistic-regression\n",
      "\n",
      "d:\\Programs\\Programming\\BSUIR\\IDA\\LR2\\.venv\\Lib\\site-packages\\sklearn\\linear_model\\_logistic.py:469: ConvergenceWarning:\n",
      "\n",
      "lbfgs failed to converge (status=1):\n",
      "STOP: TOTAL NO. of ITERATIONS REACHED LIMIT.\n",
      "\n",
      "Increase the number of iterations (max_iter) or scale the data as shown in:\n",
      "    https://scikit-learn.org/stable/modules/preprocessing.html\n",
      "Please also refer to the documentation for alternative solver options:\n",
      "    https://scikit-learn.org/stable/modules/linear_model.html#logistic-regression\n",
      "\n"
     ]
    }
   ],
   "source": [
    "# Part 3 Task 1\n",
    "model = xgb.XGBClassifier()\n",
    "selected_features = list(rfe_feature_selection_general(body_df, 'sex', LogisticRegression()).keys())\n",
    "x = body_df[selected_features]\n",
    "y = body_df['sex']\n",
    "x_train, x_test, y_train, y_test = train_test_split(x, y, test_size=0.2, stratify=y)\n",
    "model.fit(x_train, y_train)\n",
    "pred = model.predict(x_test)\n",
    "print(classification_report(y_test, pred))"
   ]
  },
  {
   "cell_type": "code",
   "execution_count": 170,
   "metadata": {},
   "outputs": [],
   "source": [
    "# Part 3 Task 2\n",
    "def seq_feature_selection_general(df, target_col, estimator, percentile=0.5):\n",
    "    x = df.drop(target_col, axis=1)\n",
    "    y = df[target_col]    \n",
    "    model = SequentialFeatureSelector(estimator=estimator, n_features_to_select=percentile)\n",
    "    model.fit(x, y)\n",
    "    return {feature: True for feature in model.get_feature_names_out()}"
   ]
  },
  {
   "cell_type": "code",
   "execution_count": 171,
   "metadata": {},
   "outputs": [
    {
     "name": "stdout",
     "output_type": "stream",
     "text": [
      "              precision    recall  f1-score   support\n",
      "\n",
      "         0.0       0.98      0.98      0.98        52\n",
      "         1.0       0.98      0.98      0.98        50\n",
      "\n",
      "    accuracy                           0.98       102\n",
      "   macro avg       0.98      0.98      0.98       102\n",
      "weighted avg       0.98      0.98      0.98       102\n",
      "\n"
     ]
    }
   ],
   "source": [
    "# Part 3 Task 2\n",
    "model = xgb.XGBClassifier()\n",
    "selected_features = list(seq_feature_selection_general(body_df, 'sex', SVC(kernel='linear')).keys())\n",
    "x = body_df[selected_features]\n",
    "y = body_df['sex']\n",
    "x_train, x_test, y_train, y_test = train_test_split(x, y, test_size=0.2, stratify=y)\n",
    "model.fit(x_train, y_train)\n",
    "pred = model.predict(x_test)\n",
    "print(classification_report(y_test, pred))"
   ]
  },
  {
   "cell_type": "code",
   "execution_count": 173,
   "metadata": {},
   "outputs": [
    {
     "data": {
      "text/html": [
       "<div>\n",
       "<style scoped>\n",
       "    .dataframe tbody tr th:only-of-type {\n",
       "        vertical-align: middle;\n",
       "    }\n",
       "\n",
       "    .dataframe tbody tr th {\n",
       "        vertical-align: top;\n",
       "    }\n",
       "\n",
       "    .dataframe thead th {\n",
       "        text-align: right;\n",
       "    }\n",
       "</style>\n",
       "<table border=\"1\" class=\"dataframe\">\n",
       "  <thead>\n",
       "    <tr style=\"text-align: right;\">\n",
       "      <th></th>\n",
       "      <th>train-auc-mean</th>\n",
       "      <th>train-auc-std</th>\n",
       "      <th>test-auc-mean</th>\n",
       "      <th>test-auc-std</th>\n",
       "    </tr>\n",
       "  </thead>\n",
       "  <tbody>\n",
       "    <tr>\n",
       "      <th>40</th>\n",
       "      <td>0.994054</td>\n",
       "      <td>0.000623</td>\n",
       "      <td>0.983727</td>\n",
       "      <td>0.004057</td>\n",
       "    </tr>\n",
       "    <tr>\n",
       "      <th>41</th>\n",
       "      <td>0.994194</td>\n",
       "      <td>0.000576</td>\n",
       "      <td>0.983680</td>\n",
       "      <td>0.004008</td>\n",
       "    </tr>\n",
       "    <tr>\n",
       "      <th>42</th>\n",
       "      <td>0.994159</td>\n",
       "      <td>0.000600</td>\n",
       "      <td>0.983773</td>\n",
       "      <td>0.003882</td>\n",
       "    </tr>\n",
       "    <tr>\n",
       "      <th>43</th>\n",
       "      <td>0.994159</td>\n",
       "      <td>0.000600</td>\n",
       "      <td>0.983773</td>\n",
       "      <td>0.003882</td>\n",
       "    </tr>\n",
       "    <tr>\n",
       "      <th>44</th>\n",
       "      <td>0.994194</td>\n",
       "      <td>0.000623</td>\n",
       "      <td>0.983866</td>\n",
       "      <td>0.003991</td>\n",
       "    </tr>\n",
       "    <tr>\n",
       "      <th>45</th>\n",
       "      <td>0.994369</td>\n",
       "      <td>0.000673</td>\n",
       "      <td>0.984287</td>\n",
       "      <td>0.003800</td>\n",
       "    </tr>\n",
       "    <tr>\n",
       "      <th>46</th>\n",
       "      <td>0.994358</td>\n",
       "      <td>0.000666</td>\n",
       "      <td>0.984287</td>\n",
       "      <td>0.003800</td>\n",
       "    </tr>\n",
       "    <tr>\n",
       "      <th>47</th>\n",
       "      <td>0.994439</td>\n",
       "      <td>0.000723</td>\n",
       "      <td>0.984427</td>\n",
       "      <td>0.003770</td>\n",
       "    </tr>\n",
       "    <tr>\n",
       "      <th>48</th>\n",
       "      <td>0.994498</td>\n",
       "      <td>0.000744</td>\n",
       "      <td>0.984568</td>\n",
       "      <td>0.004073</td>\n",
       "    </tr>\n",
       "    <tr>\n",
       "      <th>49</th>\n",
       "      <td>0.994498</td>\n",
       "      <td>0.000722</td>\n",
       "      <td>0.984615</td>\n",
       "      <td>0.004009</td>\n",
       "    </tr>\n",
       "  </tbody>\n",
       "</table>\n",
       "</div>"
      ],
      "text/plain": [
       "    train-auc-mean  train-auc-std  test-auc-mean  test-auc-std\n",
       "40        0.994054       0.000623       0.983727      0.004057\n",
       "41        0.994194       0.000576       0.983680      0.004008\n",
       "42        0.994159       0.000600       0.983773      0.003882\n",
       "43        0.994159       0.000600       0.983773      0.003882\n",
       "44        0.994194       0.000623       0.983866      0.003991\n",
       "45        0.994369       0.000673       0.984287      0.003800\n",
       "46        0.994358       0.000666       0.984287      0.003800\n",
       "47        0.994439       0.000723       0.984427      0.003770\n",
       "48        0.994498       0.000744       0.984568      0.004073\n",
       "49        0.994498       0.000722       0.984615      0.004009"
      ]
     },
     "execution_count": 173,
     "metadata": {},
     "output_type": "execute_result"
    }
   ],
   "source": [
    "# Part 3 Task 3\n",
    "selected_features = list(seq_feature_selection_general(body_df, 'sex', SVC(kernel='linear')).keys())\n",
    "x = body_df[selected_features]\n",
    "y = body_df['sex']\n",
    "params = {'objective':'binary:logistic',\n",
    "          'colsample_bytree': 0.3,\n",
    "          'learning_rate': 0.1,\n",
    "          'max_depth': 5,\n",
    "          'alpha': 10}\n",
    "xgb_matrix = xgb.DMatrix(data=x, label=y)\n",
    "xgb_cv = xgb.cv(dtrain=xgb_matrix, params=params, nfold=3,\n",
    "                num_boost_round=50, early_stopping_rounds=10, metrics=\"auc\", as_pandas=True, seed=123)\n",
    "xgb_cv.tail(10)\n",
    "# Pretty good hyperparameters and feature selection because auc is good\n",
    "# But that is not unusual as this dataset is very simple with clean data"
   ]
  },
  {
   "cell_type": "code",
   "execution_count": null,
   "metadata": {},
   "outputs": [],
   "source": [
    "# There are pretty many examples for Part 3 Task 4, 5"
   ]
  },
  {
   "cell_type": "code",
   "execution_count": 182,
   "metadata": {},
   "outputs": [
    {
     "data": {
      "text/html": [
       "<div>\n",
       "<style scoped>\n",
       "    .dataframe tbody tr th:only-of-type {\n",
       "        vertical-align: middle;\n",
       "    }\n",
       "\n",
       "    .dataframe tbody tr th {\n",
       "        vertical-align: top;\n",
       "    }\n",
       "\n",
       "    .dataframe thead th {\n",
       "        text-align: right;\n",
       "    }\n",
       "</style>\n",
       "<table border=\"1\" class=\"dataframe\">\n",
       "  <thead>\n",
       "    <tr style=\"text-align: right;\">\n",
       "      <th></th>\n",
       "      <th>PC_0</th>\n",
       "      <th>PC_1</th>\n",
       "      <th>PC_2</th>\n",
       "      <th>PC_3</th>\n",
       "      <th>PC_4</th>\n",
       "      <th>sex</th>\n",
       "    </tr>\n",
       "  </thead>\n",
       "  <tbody>\n",
       "    <tr>\n",
       "      <th>0</th>\n",
       "      <td>-10.490298</td>\n",
       "      <td>-13.659059</td>\n",
       "      <td>-2.865011</td>\n",
       "      <td>-0.705562</td>\n",
       "      <td>0.745252</td>\n",
       "      <td>True</td>\n",
       "    </tr>\n",
       "    <tr>\n",
       "      <th>1</th>\n",
       "      <td>5.823066</td>\n",
       "      <td>-9.048384</td>\n",
       "      <td>-0.550563</td>\n",
       "      <td>0.561438</td>\n",
       "      <td>-4.259364</td>\n",
       "      <td>True</td>\n",
       "    </tr>\n",
       "    <tr>\n",
       "      <th>2</th>\n",
       "      <td>18.646961</td>\n",
       "      <td>-14.379482</td>\n",
       "      <td>-7.898175</td>\n",
       "      <td>-11.558640</td>\n",
       "      <td>-1.388464</td>\n",
       "      <td>True</td>\n",
       "    </tr>\n",
       "    <tr>\n",
       "      <th>3</th>\n",
       "      <td>3.264429</td>\n",
       "      <td>-14.930076</td>\n",
       "      <td>-5.264511</td>\n",
       "      <td>-9.780748</td>\n",
       "      <td>-4.167361</td>\n",
       "      <td>True</td>\n",
       "    </tr>\n",
       "    <tr>\n",
       "      <th>4</th>\n",
       "      <td>11.998789</td>\n",
       "      <td>-14.640156</td>\n",
       "      <td>-0.422695</td>\n",
       "      <td>-10.526607</td>\n",
       "      <td>-1.781660</td>\n",
       "      <td>True</td>\n",
       "    </tr>\n",
       "    <tr>\n",
       "      <th>5</th>\n",
       "      <td>13.116381</td>\n",
       "      <td>-17.191444</td>\n",
       "      <td>-3.242018</td>\n",
       "      <td>1.854384</td>\n",
       "      <td>-0.421257</td>\n",
       "      <td>True</td>\n",
       "    </tr>\n",
       "    <tr>\n",
       "      <th>6</th>\n",
       "      <td>29.911921</td>\n",
       "      <td>-15.348237</td>\n",
       "      <td>-1.875510</td>\n",
       "      <td>0.271622</td>\n",
       "      <td>7.993347</td>\n",
       "      <td>True</td>\n",
       "    </tr>\n",
       "    <tr>\n",
       "      <th>7</th>\n",
       "      <td>16.656044</td>\n",
       "      <td>-14.988888</td>\n",
       "      <td>-6.693347</td>\n",
       "      <td>-2.883872</td>\n",
       "      <td>4.958083</td>\n",
       "      <td>True</td>\n",
       "    </tr>\n",
       "    <tr>\n",
       "      <th>8</th>\n",
       "      <td>-13.338402</td>\n",
       "      <td>-17.081836</td>\n",
       "      <td>-10.139796</td>\n",
       "      <td>1.818015</td>\n",
       "      <td>3.529042</td>\n",
       "      <td>True</td>\n",
       "    </tr>\n",
       "    <tr>\n",
       "      <th>9</th>\n",
       "      <td>15.322727</td>\n",
       "      <td>-17.308233</td>\n",
       "      <td>1.481761</td>\n",
       "      <td>-5.697221</td>\n",
       "      <td>6.250296</td>\n",
       "      <td>True</td>\n",
       "    </tr>\n",
       "  </tbody>\n",
       "</table>\n",
       "</div>"
      ],
      "text/plain": [
       "        PC_0       PC_1       PC_2       PC_3      PC_4   sex\n",
       "0 -10.490298 -13.659059  -2.865011  -0.705562  0.745252  True\n",
       "1   5.823066  -9.048384  -0.550563   0.561438 -4.259364  True\n",
       "2  18.646961 -14.379482  -7.898175 -11.558640 -1.388464  True\n",
       "3   3.264429 -14.930076  -5.264511  -9.780748 -4.167361  True\n",
       "4  11.998789 -14.640156  -0.422695 -10.526607 -1.781660  True\n",
       "5  13.116381 -17.191444  -3.242018   1.854384 -0.421257  True\n",
       "6  29.911921 -15.348237  -1.875510   0.271622  7.993347  True\n",
       "7  16.656044 -14.988888  -6.693347  -2.883872  4.958083  True\n",
       "8 -13.338402 -17.081836 -10.139796   1.818015  3.529042  True\n",
       "9  15.322727 -17.308233   1.481761  -5.697221  6.250296  True"
      ]
     },
     "execution_count": 182,
     "metadata": {},
     "output_type": "execute_result"
    }
   ],
   "source": [
    "# Part 4 Task 1\n",
    "pca = PCA(n_components=5)\n",
    "x = pca.fit_transform(body_df.drop('sex', axis=1))\n",
    "pca_df = pd.DataFrame(data=x, columns=[f'PC_{i}' for i in range(x.shape[1])])\n",
    "pca_df = pd.concat([pca_df, body_df['sex']], axis=1)\n",
    "pca_df.head(10)"
   ]
  },
  {
   "cell_type": "code",
   "execution_count": 183,
   "metadata": {},
   "outputs": [
    {
     "data": {
      "application/vnd.plotly.v1+json": {
       "config": {
        "plotlyServerURL": "https://plot.ly"
       },
       "data": [
        {
         "coloraxis": "coloraxis",
         "hovertemplate": "x: %{x}<br>y: %{y}<br>color: %{z}<extra></extra>",
         "name": "0",
         "texttemplate": "%{z}",
         "type": "heatmap",
         "x": [
          "PC_0",
          "PC_1",
          "PC_2",
          "PC_3",
          "PC_4",
          "sex"
         ],
         "xaxis": "x",
         "y": [
          "PC_0",
          "PC_1",
          "PC_2",
          "PC_3",
          "PC_4",
          "sex"
         ],
         "yaxis": "y",
         "z": [
          [
           1,
           -1.1988838232763592e-16,
           1.0144963782342545e-16,
           -1.9421708176994368e-17,
           -1.0200574299878245e-17,
           0.6916249817889918
          ],
          [
           -1.1988838232763592e-16,
           1,
           2.6543254855075502e-17,
           -1.486943577729296e-17,
           4.7986211809630797e-17,
           -0.3451716698490311
          ],
          [
           1.0144963782342545e-16,
           2.6543254855075502e-17,
           1,
           1.2635449339690662e-16,
           -6.666113086353426e-17,
           -0.4457372404125101
          ],
          [
           -1.9421708176994368e-17,
           -1.486943577729296e-17,
           1.2635449339690662e-16,
           1,
           -5.4947625739511724e-18,
           0.1334181090139048
          ],
          [
           -1.0200574299878245e-17,
           4.7986211809630797e-17,
           -6.666113086353426e-17,
           -5.4947625739511724e-18,
           1,
           -0.108291668870622
          ],
          [
           0.6916249817889918,
           -0.3451716698490311,
           -0.4457372404125101,
           0.1334181090139048,
           -0.108291668870622,
           1
          ]
         ]
        }
       ],
       "layout": {
        "coloraxis": {
         "colorscale": [
          [
           0,
           "#0d0887"
          ],
          [
           0.1111111111111111,
           "#46039f"
          ],
          [
           0.2222222222222222,
           "#7201a8"
          ],
          [
           0.3333333333333333,
           "#9c179e"
          ],
          [
           0.4444444444444444,
           "#bd3786"
          ],
          [
           0.5555555555555556,
           "#d8576b"
          ],
          [
           0.6666666666666666,
           "#ed7953"
          ],
          [
           0.7777777777777778,
           "#fb9f3a"
          ],
          [
           0.8888888888888888,
           "#fdca26"
          ],
          [
           1,
           "#f0f921"
          ]
         ]
        },
        "margin": {
         "t": 60
        },
        "template": {
         "data": {
          "bar": [
           {
            "error_x": {
             "color": "#2a3f5f"
            },
            "error_y": {
             "color": "#2a3f5f"
            },
            "marker": {
             "line": {
              "color": "#E5ECF6",
              "width": 0.5
             },
             "pattern": {
              "fillmode": "overlay",
              "size": 10,
              "solidity": 0.2
             }
            },
            "type": "bar"
           }
          ],
          "barpolar": [
           {
            "marker": {
             "line": {
              "color": "#E5ECF6",
              "width": 0.5
             },
             "pattern": {
              "fillmode": "overlay",
              "size": 10,
              "solidity": 0.2
             }
            },
            "type": "barpolar"
           }
          ],
          "carpet": [
           {
            "aaxis": {
             "endlinecolor": "#2a3f5f",
             "gridcolor": "white",
             "linecolor": "white",
             "minorgridcolor": "white",
             "startlinecolor": "#2a3f5f"
            },
            "baxis": {
             "endlinecolor": "#2a3f5f",
             "gridcolor": "white",
             "linecolor": "white",
             "minorgridcolor": "white",
             "startlinecolor": "#2a3f5f"
            },
            "type": "carpet"
           }
          ],
          "choropleth": [
           {
            "colorbar": {
             "outlinewidth": 0,
             "ticks": ""
            },
            "type": "choropleth"
           }
          ],
          "contour": [
           {
            "colorbar": {
             "outlinewidth": 0,
             "ticks": ""
            },
            "colorscale": [
             [
              0,
              "#0d0887"
             ],
             [
              0.1111111111111111,
              "#46039f"
             ],
             [
              0.2222222222222222,
              "#7201a8"
             ],
             [
              0.3333333333333333,
              "#9c179e"
             ],
             [
              0.4444444444444444,
              "#bd3786"
             ],
             [
              0.5555555555555556,
              "#d8576b"
             ],
             [
              0.6666666666666666,
              "#ed7953"
             ],
             [
              0.7777777777777778,
              "#fb9f3a"
             ],
             [
              0.8888888888888888,
              "#fdca26"
             ],
             [
              1,
              "#f0f921"
             ]
            ],
            "type": "contour"
           }
          ],
          "contourcarpet": [
           {
            "colorbar": {
             "outlinewidth": 0,
             "ticks": ""
            },
            "type": "contourcarpet"
           }
          ],
          "heatmap": [
           {
            "colorbar": {
             "outlinewidth": 0,
             "ticks": ""
            },
            "colorscale": [
             [
              0,
              "#0d0887"
             ],
             [
              0.1111111111111111,
              "#46039f"
             ],
             [
              0.2222222222222222,
              "#7201a8"
             ],
             [
              0.3333333333333333,
              "#9c179e"
             ],
             [
              0.4444444444444444,
              "#bd3786"
             ],
             [
              0.5555555555555556,
              "#d8576b"
             ],
             [
              0.6666666666666666,
              "#ed7953"
             ],
             [
              0.7777777777777778,
              "#fb9f3a"
             ],
             [
              0.8888888888888888,
              "#fdca26"
             ],
             [
              1,
              "#f0f921"
             ]
            ],
            "type": "heatmap"
           }
          ],
          "heatmapgl": [
           {
            "colorbar": {
             "outlinewidth": 0,
             "ticks": ""
            },
            "colorscale": [
             [
              0,
              "#0d0887"
             ],
             [
              0.1111111111111111,
              "#46039f"
             ],
             [
              0.2222222222222222,
              "#7201a8"
             ],
             [
              0.3333333333333333,
              "#9c179e"
             ],
             [
              0.4444444444444444,
              "#bd3786"
             ],
             [
              0.5555555555555556,
              "#d8576b"
             ],
             [
              0.6666666666666666,
              "#ed7953"
             ],
             [
              0.7777777777777778,
              "#fb9f3a"
             ],
             [
              0.8888888888888888,
              "#fdca26"
             ],
             [
              1,
              "#f0f921"
             ]
            ],
            "type": "heatmapgl"
           }
          ],
          "histogram": [
           {
            "marker": {
             "pattern": {
              "fillmode": "overlay",
              "size": 10,
              "solidity": 0.2
             }
            },
            "type": "histogram"
           }
          ],
          "histogram2d": [
           {
            "colorbar": {
             "outlinewidth": 0,
             "ticks": ""
            },
            "colorscale": [
             [
              0,
              "#0d0887"
             ],
             [
              0.1111111111111111,
              "#46039f"
             ],
             [
              0.2222222222222222,
              "#7201a8"
             ],
             [
              0.3333333333333333,
              "#9c179e"
             ],
             [
              0.4444444444444444,
              "#bd3786"
             ],
             [
              0.5555555555555556,
              "#d8576b"
             ],
             [
              0.6666666666666666,
              "#ed7953"
             ],
             [
              0.7777777777777778,
              "#fb9f3a"
             ],
             [
              0.8888888888888888,
              "#fdca26"
             ],
             [
              1,
              "#f0f921"
             ]
            ],
            "type": "histogram2d"
           }
          ],
          "histogram2dcontour": [
           {
            "colorbar": {
             "outlinewidth": 0,
             "ticks": ""
            },
            "colorscale": [
             [
              0,
              "#0d0887"
             ],
             [
              0.1111111111111111,
              "#46039f"
             ],
             [
              0.2222222222222222,
              "#7201a8"
             ],
             [
              0.3333333333333333,
              "#9c179e"
             ],
             [
              0.4444444444444444,
              "#bd3786"
             ],
             [
              0.5555555555555556,
              "#d8576b"
             ],
             [
              0.6666666666666666,
              "#ed7953"
             ],
             [
              0.7777777777777778,
              "#fb9f3a"
             ],
             [
              0.8888888888888888,
              "#fdca26"
             ],
             [
              1,
              "#f0f921"
             ]
            ],
            "type": "histogram2dcontour"
           }
          ],
          "mesh3d": [
           {
            "colorbar": {
             "outlinewidth": 0,
             "ticks": ""
            },
            "type": "mesh3d"
           }
          ],
          "parcoords": [
           {
            "line": {
             "colorbar": {
              "outlinewidth": 0,
              "ticks": ""
             }
            },
            "type": "parcoords"
           }
          ],
          "pie": [
           {
            "automargin": true,
            "type": "pie"
           }
          ],
          "scatter": [
           {
            "fillpattern": {
             "fillmode": "overlay",
             "size": 10,
             "solidity": 0.2
            },
            "type": "scatter"
           }
          ],
          "scatter3d": [
           {
            "line": {
             "colorbar": {
              "outlinewidth": 0,
              "ticks": ""
             }
            },
            "marker": {
             "colorbar": {
              "outlinewidth": 0,
              "ticks": ""
             }
            },
            "type": "scatter3d"
           }
          ],
          "scattercarpet": [
           {
            "marker": {
             "colorbar": {
              "outlinewidth": 0,
              "ticks": ""
             }
            },
            "type": "scattercarpet"
           }
          ],
          "scattergeo": [
           {
            "marker": {
             "colorbar": {
              "outlinewidth": 0,
              "ticks": ""
             }
            },
            "type": "scattergeo"
           }
          ],
          "scattergl": [
           {
            "marker": {
             "colorbar": {
              "outlinewidth": 0,
              "ticks": ""
             }
            },
            "type": "scattergl"
           }
          ],
          "scattermapbox": [
           {
            "marker": {
             "colorbar": {
              "outlinewidth": 0,
              "ticks": ""
             }
            },
            "type": "scattermapbox"
           }
          ],
          "scatterpolar": [
           {
            "marker": {
             "colorbar": {
              "outlinewidth": 0,
              "ticks": ""
             }
            },
            "type": "scatterpolar"
           }
          ],
          "scatterpolargl": [
           {
            "marker": {
             "colorbar": {
              "outlinewidth": 0,
              "ticks": ""
             }
            },
            "type": "scatterpolargl"
           }
          ],
          "scatterternary": [
           {
            "marker": {
             "colorbar": {
              "outlinewidth": 0,
              "ticks": ""
             }
            },
            "type": "scatterternary"
           }
          ],
          "surface": [
           {
            "colorbar": {
             "outlinewidth": 0,
             "ticks": ""
            },
            "colorscale": [
             [
              0,
              "#0d0887"
             ],
             [
              0.1111111111111111,
              "#46039f"
             ],
             [
              0.2222222222222222,
              "#7201a8"
             ],
             [
              0.3333333333333333,
              "#9c179e"
             ],
             [
              0.4444444444444444,
              "#bd3786"
             ],
             [
              0.5555555555555556,
              "#d8576b"
             ],
             [
              0.6666666666666666,
              "#ed7953"
             ],
             [
              0.7777777777777778,
              "#fb9f3a"
             ],
             [
              0.8888888888888888,
              "#fdca26"
             ],
             [
              1,
              "#f0f921"
             ]
            ],
            "type": "surface"
           }
          ],
          "table": [
           {
            "cells": {
             "fill": {
              "color": "#EBF0F8"
             },
             "line": {
              "color": "white"
             }
            },
            "header": {
             "fill": {
              "color": "#C8D4E3"
             },
             "line": {
              "color": "white"
             }
            },
            "type": "table"
           }
          ]
         },
         "layout": {
          "annotationdefaults": {
           "arrowcolor": "#2a3f5f",
           "arrowhead": 0,
           "arrowwidth": 1
          },
          "autotypenumbers": "strict",
          "coloraxis": {
           "colorbar": {
            "outlinewidth": 0,
            "ticks": ""
           }
          },
          "colorscale": {
           "diverging": [
            [
             0,
             "#8e0152"
            ],
            [
             0.1,
             "#c51b7d"
            ],
            [
             0.2,
             "#de77ae"
            ],
            [
             0.3,
             "#f1b6da"
            ],
            [
             0.4,
             "#fde0ef"
            ],
            [
             0.5,
             "#f7f7f7"
            ],
            [
             0.6,
             "#e6f5d0"
            ],
            [
             0.7,
             "#b8e186"
            ],
            [
             0.8,
             "#7fbc41"
            ],
            [
             0.9,
             "#4d9221"
            ],
            [
             1,
             "#276419"
            ]
           ],
           "sequential": [
            [
             0,
             "#0d0887"
            ],
            [
             0.1111111111111111,
             "#46039f"
            ],
            [
             0.2222222222222222,
             "#7201a8"
            ],
            [
             0.3333333333333333,
             "#9c179e"
            ],
            [
             0.4444444444444444,
             "#bd3786"
            ],
            [
             0.5555555555555556,
             "#d8576b"
            ],
            [
             0.6666666666666666,
             "#ed7953"
            ],
            [
             0.7777777777777778,
             "#fb9f3a"
            ],
            [
             0.8888888888888888,
             "#fdca26"
            ],
            [
             1,
             "#f0f921"
            ]
           ],
           "sequentialminus": [
            [
             0,
             "#0d0887"
            ],
            [
             0.1111111111111111,
             "#46039f"
            ],
            [
             0.2222222222222222,
             "#7201a8"
            ],
            [
             0.3333333333333333,
             "#9c179e"
            ],
            [
             0.4444444444444444,
             "#bd3786"
            ],
            [
             0.5555555555555556,
             "#d8576b"
            ],
            [
             0.6666666666666666,
             "#ed7953"
            ],
            [
             0.7777777777777778,
             "#fb9f3a"
            ],
            [
             0.8888888888888888,
             "#fdca26"
            ],
            [
             1,
             "#f0f921"
            ]
           ]
          },
          "colorway": [
           "#636efa",
           "#EF553B",
           "#00cc96",
           "#ab63fa",
           "#FFA15A",
           "#19d3f3",
           "#FF6692",
           "#B6E880",
           "#FF97FF",
           "#FECB52"
          ],
          "font": {
           "color": "#2a3f5f"
          },
          "geo": {
           "bgcolor": "white",
           "lakecolor": "white",
           "landcolor": "#E5ECF6",
           "showlakes": true,
           "showland": true,
           "subunitcolor": "white"
          },
          "hoverlabel": {
           "align": "left"
          },
          "hovermode": "closest",
          "mapbox": {
           "style": "light"
          },
          "paper_bgcolor": "white",
          "plot_bgcolor": "#E5ECF6",
          "polar": {
           "angularaxis": {
            "gridcolor": "white",
            "linecolor": "white",
            "ticks": ""
           },
           "bgcolor": "#E5ECF6",
           "radialaxis": {
            "gridcolor": "white",
            "linecolor": "white",
            "ticks": ""
           }
          },
          "scene": {
           "xaxis": {
            "backgroundcolor": "#E5ECF6",
            "gridcolor": "white",
            "gridwidth": 2,
            "linecolor": "white",
            "showbackground": true,
            "ticks": "",
            "zerolinecolor": "white"
           },
           "yaxis": {
            "backgroundcolor": "#E5ECF6",
            "gridcolor": "white",
            "gridwidth": 2,
            "linecolor": "white",
            "showbackground": true,
            "ticks": "",
            "zerolinecolor": "white"
           },
           "zaxis": {
            "backgroundcolor": "#E5ECF6",
            "gridcolor": "white",
            "gridwidth": 2,
            "linecolor": "white",
            "showbackground": true,
            "ticks": "",
            "zerolinecolor": "white"
           }
          },
          "shapedefaults": {
           "line": {
            "color": "#2a3f5f"
           }
          },
          "ternary": {
           "aaxis": {
            "gridcolor": "white",
            "linecolor": "white",
            "ticks": ""
           },
           "baxis": {
            "gridcolor": "white",
            "linecolor": "white",
            "ticks": ""
           },
           "bgcolor": "#E5ECF6",
           "caxis": {
            "gridcolor": "white",
            "linecolor": "white",
            "ticks": ""
           }
          },
          "title": {
           "x": 0.05
          },
          "xaxis": {
           "automargin": true,
           "gridcolor": "white",
           "linecolor": "white",
           "ticks": "",
           "title": {
            "standoff": 15
           },
           "zerolinecolor": "white",
           "zerolinewidth": 2
          },
          "yaxis": {
           "automargin": true,
           "gridcolor": "white",
           "linecolor": "white",
           "ticks": "",
           "title": {
            "standoff": 15
           },
           "zerolinecolor": "white",
           "zerolinewidth": 2
          }
         }
        },
        "xaxis": {
         "anchor": "y",
         "domain": [
          0,
          1
         ]
        },
        "yaxis": {
         "anchor": "x",
         "autorange": "reversed",
         "domain": [
          0,
          1
         ]
        }
       }
      }
     },
     "metadata": {},
     "output_type": "display_data"
    }
   ],
   "source": [
    "fig = px.imshow(\n",
    "    pca_df.corr(), text_auto=True, aspect='auto'\n",
    ")\n",
    "fig.show()"
   ]
  },
  {
   "cell_type": "code",
   "execution_count": 187,
   "metadata": {},
   "outputs": [
    {
     "name": "stdout",
     "output_type": "stream",
     "text": [
      "              precision    recall  f1-score   support\n",
      "\n",
      "         0.0       0.94      0.98      0.96        52\n",
      "         1.0       0.98      0.94      0.96        50\n",
      "\n",
      "    accuracy                           0.96       102\n",
      "   macro avg       0.96      0.96      0.96       102\n",
      "weighted avg       0.96      0.96      0.96       102\n",
      "\n"
     ]
    }
   ],
   "source": [
    "# Part 4 Task 1 prediction\n",
    "model = xgb.XGBClassifier()\n",
    "x = pca_df.drop('sex', axis=1)\n",
    "y = pca_df['sex']\n",
    "x_train, x_test, y_train, y_test = train_test_split(x, y, test_size=0.2, stratify=y)\n",
    "model.fit(x_train, y_train)\n",
    "pred = model.predict(x_test)\n",
    "print(classification_report(y_test, pred))"
   ]
  },
  {
   "cell_type": "code",
   "execution_count": 185,
   "metadata": {},
   "outputs": [
    {
     "data": {
      "text/html": [
       "<div>\n",
       "<style scoped>\n",
       "    .dataframe tbody tr th:only-of-type {\n",
       "        vertical-align: middle;\n",
       "    }\n",
       "\n",
       "    .dataframe tbody tr th {\n",
       "        vertical-align: top;\n",
       "    }\n",
       "\n",
       "    .dataframe thead th {\n",
       "        text-align: right;\n",
       "    }\n",
       "</style>\n",
       "<table border=\"1\" class=\"dataframe\">\n",
       "  <thead>\n",
       "    <tr style=\"text-align: right;\">\n",
       "      <th></th>\n",
       "      <th>FCT_0</th>\n",
       "      <th>FCT_1</th>\n",
       "      <th>FCT_2</th>\n",
       "      <th>FCT_3</th>\n",
       "      <th>FCT_4</th>\n",
       "      <th>sex</th>\n",
       "    </tr>\n",
       "  </thead>\n",
       "  <tbody>\n",
       "    <tr>\n",
       "      <th>0</th>\n",
       "      <td>-0.221462</td>\n",
       "      <td>-1.090733</td>\n",
       "      <td>-0.819623</td>\n",
       "      <td>-0.063725</td>\n",
       "      <td>0.307778</td>\n",
       "      <td>True</td>\n",
       "    </tr>\n",
       "    <tr>\n",
       "      <th>1</th>\n",
       "      <td>0.414076</td>\n",
       "      <td>-1.197151</td>\n",
       "      <td>-0.670763</td>\n",
       "      <td>-0.581306</td>\n",
       "      <td>-0.811410</td>\n",
       "      <td>True</td>\n",
       "    </tr>\n",
       "    <tr>\n",
       "      <th>2</th>\n",
       "      <td>0.707939</td>\n",
       "      <td>-0.613972</td>\n",
       "      <td>-0.590315</td>\n",
       "      <td>-0.403670</td>\n",
       "      <td>1.463259</td>\n",
       "      <td>True</td>\n",
       "    </tr>\n",
       "    <tr>\n",
       "      <th>3</th>\n",
       "      <td>0.206736</td>\n",
       "      <td>-0.868786</td>\n",
       "      <td>-1.027632</td>\n",
       "      <td>-1.693469</td>\n",
       "      <td>0.549782</td>\n",
       "      <td>True</td>\n",
       "    </tr>\n",
       "    <tr>\n",
       "      <th>4</th>\n",
       "      <td>0.701544</td>\n",
       "      <td>-0.654559</td>\n",
       "      <td>-1.604080</td>\n",
       "      <td>-1.255173</td>\n",
       "      <td>-0.124161</td>\n",
       "      <td>True</td>\n",
       "    </tr>\n",
       "    <tr>\n",
       "      <th>5</th>\n",
       "      <td>0.542622</td>\n",
       "      <td>-0.880815</td>\n",
       "      <td>-0.344529</td>\n",
       "      <td>0.355252</td>\n",
       "      <td>1.354393</td>\n",
       "      <td>True</td>\n",
       "    </tr>\n",
       "    <tr>\n",
       "      <th>6</th>\n",
       "      <td>1.626882</td>\n",
       "      <td>-1.013501</td>\n",
       "      <td>-1.663049</td>\n",
       "      <td>1.558841</td>\n",
       "      <td>-0.766149</td>\n",
       "      <td>True</td>\n",
       "    </tr>\n",
       "    <tr>\n",
       "      <th>7</th>\n",
       "      <td>0.810047</td>\n",
       "      <td>-0.967865</td>\n",
       "      <td>-1.176365</td>\n",
       "      <td>-0.517873</td>\n",
       "      <td>0.329133</td>\n",
       "      <td>True</td>\n",
       "    </tr>\n",
       "    <tr>\n",
       "      <th>8</th>\n",
       "      <td>-0.317620</td>\n",
       "      <td>-1.800342</td>\n",
       "      <td>-1.065672</td>\n",
       "      <td>0.077525</td>\n",
       "      <td>0.192501</td>\n",
       "      <td>True</td>\n",
       "    </tr>\n",
       "    <tr>\n",
       "      <th>9</th>\n",
       "      <td>0.897955</td>\n",
       "      <td>-0.394139</td>\n",
       "      <td>-1.942368</td>\n",
       "      <td>0.249758</td>\n",
       "      <td>0.172522</td>\n",
       "      <td>True</td>\n",
       "    </tr>\n",
       "  </tbody>\n",
       "</table>\n",
       "</div>"
      ],
      "text/plain": [
       "      FCT_0     FCT_1     FCT_2     FCT_3     FCT_4   sex\n",
       "0 -0.221462 -1.090733 -0.819623 -0.063725  0.307778  True\n",
       "1  0.414076 -1.197151 -0.670763 -0.581306 -0.811410  True\n",
       "2  0.707939 -0.613972 -0.590315 -0.403670  1.463259  True\n",
       "3  0.206736 -0.868786 -1.027632 -1.693469  0.549782  True\n",
       "4  0.701544 -0.654559 -1.604080 -1.255173 -0.124161  True\n",
       "5  0.542622 -0.880815 -0.344529  0.355252  1.354393  True\n",
       "6  1.626882 -1.013501 -1.663049  1.558841 -0.766149  True\n",
       "7  0.810047 -0.967865 -1.176365 -0.517873  0.329133  True\n",
       "8 -0.317620 -1.800342 -1.065672  0.077525  0.192501  True\n",
       "9  0.897955 -0.394139 -1.942368  0.249758  0.172522  True"
      ]
     },
     "execution_count": 185,
     "metadata": {},
     "output_type": "execute_result"
    }
   ],
   "source": [
    "# Part 4 Task 2\n",
    "fct_analysis = FactorAnalysis(n_components=5)\n",
    "x = fct_analysis.fit_transform(body_df.drop('sex', axis=1))\n",
    "fct_df = pd.DataFrame(data=x, columns=[f'FCT_{i}' for i in range(x.shape[1])])\n",
    "fct_df = pd.concat([fct_df, body_df['sex']], axis=1)\n",
    "fct_df.head(10)"
   ]
  },
  {
   "cell_type": "code",
   "execution_count": 186,
   "metadata": {},
   "outputs": [
    {
     "data": {
      "application/vnd.plotly.v1+json": {
       "config": {
        "plotlyServerURL": "https://plot.ly"
       },
       "data": [
        {
         "coloraxis": "coloraxis",
         "hovertemplate": "x: %{x}<br>y: %{y}<br>color: %{z}<extra></extra>",
         "name": "0",
         "texttemplate": "%{z}",
         "type": "heatmap",
         "x": [
          "FCT_0",
          "FCT_1",
          "FCT_2",
          "FCT_3",
          "FCT_4",
          "sex"
         ],
         "xaxis": "x",
         "y": [
          "FCT_0",
          "FCT_1",
          "FCT_2",
          "FCT_3",
          "FCT_4",
          "sex"
         ],
         "yaxis": "y",
         "z": [
          [
           1,
           5.362609669992735e-14,
           -7.930760624354231e-13,
           -2.3406805367723585e-12,
           2.3757195109956802e-11,
           0.7139612776366668
          ],
          [
           5.362609669992735e-14,
           1,
           -4.897221498553612e-9,
           -1.4779105253853076e-9,
           1.0317627718144587e-7,
           -0.5635556928707415
          ],
          [
           -7.930760624354231e-13,
           -4.897221498553612e-9,
           1,
           -3.047507092392782e-8,
           -0.0000015897187646536908,
           0.04525432104377391
          ],
          [
           -2.3406805367723585e-12,
           -1.4779105253853076e-9,
           -3.047507092392782e-8,
           1,
           -1.209138520458145e-7,
           -0.06657921543526958
          ],
          [
           2.3757195109956802e-11,
           1.0317627718144587e-7,
           -0.0000015897187646536908,
           -1.209138520458145e-7,
           1,
           0.05198354603913747
          ],
          [
           0.7139612776366668,
           -0.5635556928707415,
           0.04525432104377391,
           -0.06657921543526958,
           0.05198354603913747,
           1
          ]
         ]
        }
       ],
       "layout": {
        "coloraxis": {
         "colorscale": [
          [
           0,
           "#0d0887"
          ],
          [
           0.1111111111111111,
           "#46039f"
          ],
          [
           0.2222222222222222,
           "#7201a8"
          ],
          [
           0.3333333333333333,
           "#9c179e"
          ],
          [
           0.4444444444444444,
           "#bd3786"
          ],
          [
           0.5555555555555556,
           "#d8576b"
          ],
          [
           0.6666666666666666,
           "#ed7953"
          ],
          [
           0.7777777777777778,
           "#fb9f3a"
          ],
          [
           0.8888888888888888,
           "#fdca26"
          ],
          [
           1,
           "#f0f921"
          ]
         ]
        },
        "margin": {
         "t": 60
        },
        "template": {
         "data": {
          "bar": [
           {
            "error_x": {
             "color": "#2a3f5f"
            },
            "error_y": {
             "color": "#2a3f5f"
            },
            "marker": {
             "line": {
              "color": "#E5ECF6",
              "width": 0.5
             },
             "pattern": {
              "fillmode": "overlay",
              "size": 10,
              "solidity": 0.2
             }
            },
            "type": "bar"
           }
          ],
          "barpolar": [
           {
            "marker": {
             "line": {
              "color": "#E5ECF6",
              "width": 0.5
             },
             "pattern": {
              "fillmode": "overlay",
              "size": 10,
              "solidity": 0.2
             }
            },
            "type": "barpolar"
           }
          ],
          "carpet": [
           {
            "aaxis": {
             "endlinecolor": "#2a3f5f",
             "gridcolor": "white",
             "linecolor": "white",
             "minorgridcolor": "white",
             "startlinecolor": "#2a3f5f"
            },
            "baxis": {
             "endlinecolor": "#2a3f5f",
             "gridcolor": "white",
             "linecolor": "white",
             "minorgridcolor": "white",
             "startlinecolor": "#2a3f5f"
            },
            "type": "carpet"
           }
          ],
          "choropleth": [
           {
            "colorbar": {
             "outlinewidth": 0,
             "ticks": ""
            },
            "type": "choropleth"
           }
          ],
          "contour": [
           {
            "colorbar": {
             "outlinewidth": 0,
             "ticks": ""
            },
            "colorscale": [
             [
              0,
              "#0d0887"
             ],
             [
              0.1111111111111111,
              "#46039f"
             ],
             [
              0.2222222222222222,
              "#7201a8"
             ],
             [
              0.3333333333333333,
              "#9c179e"
             ],
             [
              0.4444444444444444,
              "#bd3786"
             ],
             [
              0.5555555555555556,
              "#d8576b"
             ],
             [
              0.6666666666666666,
              "#ed7953"
             ],
             [
              0.7777777777777778,
              "#fb9f3a"
             ],
             [
              0.8888888888888888,
              "#fdca26"
             ],
             [
              1,
              "#f0f921"
             ]
            ],
            "type": "contour"
           }
          ],
          "contourcarpet": [
           {
            "colorbar": {
             "outlinewidth": 0,
             "ticks": ""
            },
            "type": "contourcarpet"
           }
          ],
          "heatmap": [
           {
            "colorbar": {
             "outlinewidth": 0,
             "ticks": ""
            },
            "colorscale": [
             [
              0,
              "#0d0887"
             ],
             [
              0.1111111111111111,
              "#46039f"
             ],
             [
              0.2222222222222222,
              "#7201a8"
             ],
             [
              0.3333333333333333,
              "#9c179e"
             ],
             [
              0.4444444444444444,
              "#bd3786"
             ],
             [
              0.5555555555555556,
              "#d8576b"
             ],
             [
              0.6666666666666666,
              "#ed7953"
             ],
             [
              0.7777777777777778,
              "#fb9f3a"
             ],
             [
              0.8888888888888888,
              "#fdca26"
             ],
             [
              1,
              "#f0f921"
             ]
            ],
            "type": "heatmap"
           }
          ],
          "heatmapgl": [
           {
            "colorbar": {
             "outlinewidth": 0,
             "ticks": ""
            },
            "colorscale": [
             [
              0,
              "#0d0887"
             ],
             [
              0.1111111111111111,
              "#46039f"
             ],
             [
              0.2222222222222222,
              "#7201a8"
             ],
             [
              0.3333333333333333,
              "#9c179e"
             ],
             [
              0.4444444444444444,
              "#bd3786"
             ],
             [
              0.5555555555555556,
              "#d8576b"
             ],
             [
              0.6666666666666666,
              "#ed7953"
             ],
             [
              0.7777777777777778,
              "#fb9f3a"
             ],
             [
              0.8888888888888888,
              "#fdca26"
             ],
             [
              1,
              "#f0f921"
             ]
            ],
            "type": "heatmapgl"
           }
          ],
          "histogram": [
           {
            "marker": {
             "pattern": {
              "fillmode": "overlay",
              "size": 10,
              "solidity": 0.2
             }
            },
            "type": "histogram"
           }
          ],
          "histogram2d": [
           {
            "colorbar": {
             "outlinewidth": 0,
             "ticks": ""
            },
            "colorscale": [
             [
              0,
              "#0d0887"
             ],
             [
              0.1111111111111111,
              "#46039f"
             ],
             [
              0.2222222222222222,
              "#7201a8"
             ],
             [
              0.3333333333333333,
              "#9c179e"
             ],
             [
              0.4444444444444444,
              "#bd3786"
             ],
             [
              0.5555555555555556,
              "#d8576b"
             ],
             [
              0.6666666666666666,
              "#ed7953"
             ],
             [
              0.7777777777777778,
              "#fb9f3a"
             ],
             [
              0.8888888888888888,
              "#fdca26"
             ],
             [
              1,
              "#f0f921"
             ]
            ],
            "type": "histogram2d"
           }
          ],
          "histogram2dcontour": [
           {
            "colorbar": {
             "outlinewidth": 0,
             "ticks": ""
            },
            "colorscale": [
             [
              0,
              "#0d0887"
             ],
             [
              0.1111111111111111,
              "#46039f"
             ],
             [
              0.2222222222222222,
              "#7201a8"
             ],
             [
              0.3333333333333333,
              "#9c179e"
             ],
             [
              0.4444444444444444,
              "#bd3786"
             ],
             [
              0.5555555555555556,
              "#d8576b"
             ],
             [
              0.6666666666666666,
              "#ed7953"
             ],
             [
              0.7777777777777778,
              "#fb9f3a"
             ],
             [
              0.8888888888888888,
              "#fdca26"
             ],
             [
              1,
              "#f0f921"
             ]
            ],
            "type": "histogram2dcontour"
           }
          ],
          "mesh3d": [
           {
            "colorbar": {
             "outlinewidth": 0,
             "ticks": ""
            },
            "type": "mesh3d"
           }
          ],
          "parcoords": [
           {
            "line": {
             "colorbar": {
              "outlinewidth": 0,
              "ticks": ""
             }
            },
            "type": "parcoords"
           }
          ],
          "pie": [
           {
            "automargin": true,
            "type": "pie"
           }
          ],
          "scatter": [
           {
            "fillpattern": {
             "fillmode": "overlay",
             "size": 10,
             "solidity": 0.2
            },
            "type": "scatter"
           }
          ],
          "scatter3d": [
           {
            "line": {
             "colorbar": {
              "outlinewidth": 0,
              "ticks": ""
             }
            },
            "marker": {
             "colorbar": {
              "outlinewidth": 0,
              "ticks": ""
             }
            },
            "type": "scatter3d"
           }
          ],
          "scattercarpet": [
           {
            "marker": {
             "colorbar": {
              "outlinewidth": 0,
              "ticks": ""
             }
            },
            "type": "scattercarpet"
           }
          ],
          "scattergeo": [
           {
            "marker": {
             "colorbar": {
              "outlinewidth": 0,
              "ticks": ""
             }
            },
            "type": "scattergeo"
           }
          ],
          "scattergl": [
           {
            "marker": {
             "colorbar": {
              "outlinewidth": 0,
              "ticks": ""
             }
            },
            "type": "scattergl"
           }
          ],
          "scattermapbox": [
           {
            "marker": {
             "colorbar": {
              "outlinewidth": 0,
              "ticks": ""
             }
            },
            "type": "scattermapbox"
           }
          ],
          "scatterpolar": [
           {
            "marker": {
             "colorbar": {
              "outlinewidth": 0,
              "ticks": ""
             }
            },
            "type": "scatterpolar"
           }
          ],
          "scatterpolargl": [
           {
            "marker": {
             "colorbar": {
              "outlinewidth": 0,
              "ticks": ""
             }
            },
            "type": "scatterpolargl"
           }
          ],
          "scatterternary": [
           {
            "marker": {
             "colorbar": {
              "outlinewidth": 0,
              "ticks": ""
             }
            },
            "type": "scatterternary"
           }
          ],
          "surface": [
           {
            "colorbar": {
             "outlinewidth": 0,
             "ticks": ""
            },
            "colorscale": [
             [
              0,
              "#0d0887"
             ],
             [
              0.1111111111111111,
              "#46039f"
             ],
             [
              0.2222222222222222,
              "#7201a8"
             ],
             [
              0.3333333333333333,
              "#9c179e"
             ],
             [
              0.4444444444444444,
              "#bd3786"
             ],
             [
              0.5555555555555556,
              "#d8576b"
             ],
             [
              0.6666666666666666,
              "#ed7953"
             ],
             [
              0.7777777777777778,
              "#fb9f3a"
             ],
             [
              0.8888888888888888,
              "#fdca26"
             ],
             [
              1,
              "#f0f921"
             ]
            ],
            "type": "surface"
           }
          ],
          "table": [
           {
            "cells": {
             "fill": {
              "color": "#EBF0F8"
             },
             "line": {
              "color": "white"
             }
            },
            "header": {
             "fill": {
              "color": "#C8D4E3"
             },
             "line": {
              "color": "white"
             }
            },
            "type": "table"
           }
          ]
         },
         "layout": {
          "annotationdefaults": {
           "arrowcolor": "#2a3f5f",
           "arrowhead": 0,
           "arrowwidth": 1
          },
          "autotypenumbers": "strict",
          "coloraxis": {
           "colorbar": {
            "outlinewidth": 0,
            "ticks": ""
           }
          },
          "colorscale": {
           "diverging": [
            [
             0,
             "#8e0152"
            ],
            [
             0.1,
             "#c51b7d"
            ],
            [
             0.2,
             "#de77ae"
            ],
            [
             0.3,
             "#f1b6da"
            ],
            [
             0.4,
             "#fde0ef"
            ],
            [
             0.5,
             "#f7f7f7"
            ],
            [
             0.6,
             "#e6f5d0"
            ],
            [
             0.7,
             "#b8e186"
            ],
            [
             0.8,
             "#7fbc41"
            ],
            [
             0.9,
             "#4d9221"
            ],
            [
             1,
             "#276419"
            ]
           ],
           "sequential": [
            [
             0,
             "#0d0887"
            ],
            [
             0.1111111111111111,
             "#46039f"
            ],
            [
             0.2222222222222222,
             "#7201a8"
            ],
            [
             0.3333333333333333,
             "#9c179e"
            ],
            [
             0.4444444444444444,
             "#bd3786"
            ],
            [
             0.5555555555555556,
             "#d8576b"
            ],
            [
             0.6666666666666666,
             "#ed7953"
            ],
            [
             0.7777777777777778,
             "#fb9f3a"
            ],
            [
             0.8888888888888888,
             "#fdca26"
            ],
            [
             1,
             "#f0f921"
            ]
           ],
           "sequentialminus": [
            [
             0,
             "#0d0887"
            ],
            [
             0.1111111111111111,
             "#46039f"
            ],
            [
             0.2222222222222222,
             "#7201a8"
            ],
            [
             0.3333333333333333,
             "#9c179e"
            ],
            [
             0.4444444444444444,
             "#bd3786"
            ],
            [
             0.5555555555555556,
             "#d8576b"
            ],
            [
             0.6666666666666666,
             "#ed7953"
            ],
            [
             0.7777777777777778,
             "#fb9f3a"
            ],
            [
             0.8888888888888888,
             "#fdca26"
            ],
            [
             1,
             "#f0f921"
            ]
           ]
          },
          "colorway": [
           "#636efa",
           "#EF553B",
           "#00cc96",
           "#ab63fa",
           "#FFA15A",
           "#19d3f3",
           "#FF6692",
           "#B6E880",
           "#FF97FF",
           "#FECB52"
          ],
          "font": {
           "color": "#2a3f5f"
          },
          "geo": {
           "bgcolor": "white",
           "lakecolor": "white",
           "landcolor": "#E5ECF6",
           "showlakes": true,
           "showland": true,
           "subunitcolor": "white"
          },
          "hoverlabel": {
           "align": "left"
          },
          "hovermode": "closest",
          "mapbox": {
           "style": "light"
          },
          "paper_bgcolor": "white",
          "plot_bgcolor": "#E5ECF6",
          "polar": {
           "angularaxis": {
            "gridcolor": "white",
            "linecolor": "white",
            "ticks": ""
           },
           "bgcolor": "#E5ECF6",
           "radialaxis": {
            "gridcolor": "white",
            "linecolor": "white",
            "ticks": ""
           }
          },
          "scene": {
           "xaxis": {
            "backgroundcolor": "#E5ECF6",
            "gridcolor": "white",
            "gridwidth": 2,
            "linecolor": "white",
            "showbackground": true,
            "ticks": "",
            "zerolinecolor": "white"
           },
           "yaxis": {
            "backgroundcolor": "#E5ECF6",
            "gridcolor": "white",
            "gridwidth": 2,
            "linecolor": "white",
            "showbackground": true,
            "ticks": "",
            "zerolinecolor": "white"
           },
           "zaxis": {
            "backgroundcolor": "#E5ECF6",
            "gridcolor": "white",
            "gridwidth": 2,
            "linecolor": "white",
            "showbackground": true,
            "ticks": "",
            "zerolinecolor": "white"
           }
          },
          "shapedefaults": {
           "line": {
            "color": "#2a3f5f"
           }
          },
          "ternary": {
           "aaxis": {
            "gridcolor": "white",
            "linecolor": "white",
            "ticks": ""
           },
           "baxis": {
            "gridcolor": "white",
            "linecolor": "white",
            "ticks": ""
           },
           "bgcolor": "#E5ECF6",
           "caxis": {
            "gridcolor": "white",
            "linecolor": "white",
            "ticks": ""
           }
          },
          "title": {
           "x": 0.05
          },
          "xaxis": {
           "automargin": true,
           "gridcolor": "white",
           "linecolor": "white",
           "ticks": "",
           "title": {
            "standoff": 15
           },
           "zerolinecolor": "white",
           "zerolinewidth": 2
          },
          "yaxis": {
           "automargin": true,
           "gridcolor": "white",
           "linecolor": "white",
           "ticks": "",
           "title": {
            "standoff": 15
           },
           "zerolinecolor": "white",
           "zerolinewidth": 2
          }
         }
        },
        "xaxis": {
         "anchor": "y",
         "domain": [
          0,
          1
         ]
        },
        "yaxis": {
         "anchor": "x",
         "autorange": "reversed",
         "domain": [
          0,
          1
         ]
        }
       }
      }
     },
     "metadata": {},
     "output_type": "display_data"
    }
   ],
   "source": [
    "fig = px.imshow(\n",
    "    fct_df.corr(), text_auto=True, aspect='auto'\n",
    ")\n",
    "fig.show()"
   ]
  },
  {
   "cell_type": "code",
   "execution_count": 188,
   "metadata": {},
   "outputs": [
    {
     "name": "stdout",
     "output_type": "stream",
     "text": [
      "              precision    recall  f1-score   support\n",
      "\n",
      "         0.0       0.98      0.98      0.98        52\n",
      "         1.0       0.98      0.98      0.98        50\n",
      "\n",
      "    accuracy                           0.98       102\n",
      "   macro avg       0.98      0.98      0.98       102\n",
      "weighted avg       0.98      0.98      0.98       102\n",
      "\n"
     ]
    }
   ],
   "source": [
    "# Part 4 Task 2 prediction\n",
    "model = xgb.XGBClassifier()\n",
    "x = fct_df.drop('sex', axis=1)\n",
    "y = fct_df['sex']\n",
    "x_train, x_test, y_train, y_test = train_test_split(x, y, test_size=0.2, stratify=y)\n",
    "model.fit(x_train, y_train)\n",
    "pred = model.predict(x_test)\n",
    "print(classification_report(y_test, pred))"
   ]
  },
  {
   "cell_type": "code",
   "execution_count": 191,
   "metadata": {},
   "outputs": [],
   "source": [
    "# Part 4 Task 3\n",
    "x = body_df.drop('sex', axis=1)\n",
    "for col in x.columns:\n",
    "    x[col] = x[col].apply(lambda val: np.log(val) if val != 0 else 0)\n",
    "x = PCA(n_components=5).fit_transform(x)\n",
    "pca_norm_df = pd.DataFrame(data=x, columns=[f'PCA_{i}' for i in range(x.shape[1])])\n",
    "y = body_df['sex']"
   ]
  },
  {
   "cell_type": "code",
   "execution_count": 194,
   "metadata": {},
   "outputs": [
    {
     "name": "stdout",
     "output_type": "stream",
     "text": [
      "              precision    recall  f1-score   support\n",
      "\n",
      "         0.0       1.00      1.00      1.00        52\n",
      "         1.0       1.00      1.00      1.00        50\n",
      "\n",
      "    accuracy                           1.00       102\n",
      "   macro avg       1.00      1.00      1.00       102\n",
      "weighted avg       1.00      1.00      1.00       102\n",
      "\n"
     ]
    }
   ],
   "source": [
    "# Part 4 Task 3 prediction\n",
    "model = xgb.XGBClassifier()\n",
    "x = pca_norm_df\n",
    "x_train, x_test, y_train, y_test = train_test_split(x, y, test_size=0.2, stratify=y)\n",
    "model.fit(x_train, y_train)\n",
    "pred = model.predict(x_test)\n",
    "print(classification_report(y_test, pred))"
   ]
  },
  {
   "cell_type": "code",
   "execution_count": 201,
   "metadata": {},
   "outputs": [
    {
     "data": {
      "text/html": [
       "<div>\n",
       "<style scoped>\n",
       "    .dataframe tbody tr th:only-of-type {\n",
       "        vertical-align: middle;\n",
       "    }\n",
       "\n",
       "    .dataframe tbody tr th {\n",
       "        vertical-align: top;\n",
       "    }\n",
       "\n",
       "    .dataframe thead th {\n",
       "        text-align: right;\n",
       "    }\n",
       "</style>\n",
       "<table border=\"1\" class=\"dataframe\">\n",
       "  <thead>\n",
       "    <tr style=\"text-align: right;\">\n",
       "      <th></th>\n",
       "      <th>LDA_0</th>\n",
       "    </tr>\n",
       "  </thead>\n",
       "  <tbody>\n",
       "    <tr>\n",
       "      <th>0</th>\n",
       "      <td>0.069537</td>\n",
       "    </tr>\n",
       "    <tr>\n",
       "      <th>1</th>\n",
       "      <td>0.256200</td>\n",
       "    </tr>\n",
       "    <tr>\n",
       "      <th>2</th>\n",
       "      <td>2.774584</td>\n",
       "    </tr>\n",
       "    <tr>\n",
       "      <th>3</th>\n",
       "      <td>1.362764</td>\n",
       "    </tr>\n",
       "    <tr>\n",
       "      <th>4</th>\n",
       "      <td>0.035786</td>\n",
       "    </tr>\n",
       "    <tr>\n",
       "      <th>...</th>\n",
       "      <td>...</td>\n",
       "    </tr>\n",
       "    <tr>\n",
       "      <th>19153</th>\n",
       "      <td>0.063493</td>\n",
       "    </tr>\n",
       "    <tr>\n",
       "      <th>19154</th>\n",
       "      <td>0.076029</td>\n",
       "    </tr>\n",
       "    <tr>\n",
       "      <th>19155</th>\n",
       "      <td>0.063075</td>\n",
       "    </tr>\n",
       "    <tr>\n",
       "      <th>19156</th>\n",
       "      <td>-1.225021</td>\n",
       "    </tr>\n",
       "    <tr>\n",
       "      <th>19157</th>\n",
       "      <td>-0.458922</td>\n",
       "    </tr>\n",
       "  </tbody>\n",
       "</table>\n",
       "<p>19158 rows × 1 columns</p>\n",
       "</div>"
      ],
      "text/plain": [
       "          LDA_0\n",
       "0      0.069537\n",
       "1      0.256200\n",
       "2      2.774584\n",
       "3      1.362764\n",
       "4      0.035786\n",
       "...         ...\n",
       "19153  0.063493\n",
       "19154  0.076029\n",
       "19155  0.063075\n",
       "19156 -1.225021\n",
       "19157 -0.458922\n",
       "\n",
       "[19158 rows x 1 columns]"
      ]
     },
     "execution_count": 201,
     "metadata": {},
     "output_type": "execute_result"
    }
   ],
   "source": [
    "# Part 4 Task 4 Linear Discriminant Analysis\n",
    "x = final_df.drop('target', axis=1)\n",
    "y = final_df['target']\n",
    "lda = LinearDiscriminantAnalysis(n_components=1)\n",
    "lda.fit(x, y)\n",
    "lda_data = lda.transform(x)\n",
    "lda_df = pd.DataFrame(data=lda_data,\n",
    "                      columns=[f'LDA_{i}' for i in range(lda_data.shape[1])])\n",
    "lda_df"
   ]
  },
  {
   "cell_type": "code",
   "execution_count": 202,
   "metadata": {},
   "outputs": [
    {
     "name": "stdout",
     "output_type": "stream",
     "text": [
      "              precision    recall  f1-score   support\n",
      "\n",
      "         0.0       0.81      0.91      0.86      2877\n",
      "         1.0       0.56      0.36      0.44       955\n",
      "\n",
      "    accuracy                           0.77      3832\n",
      "   macro avg       0.69      0.64      0.65      3832\n",
      "weighted avg       0.75      0.77      0.75      3832\n",
      "\n"
     ]
    }
   ],
   "source": [
    "# Part 4 Task 4 Prediction\n",
    "model = xgb.XGBClassifier()\n",
    "x = lda_df\n",
    "y = final_df['target']\n",
    "x_train, x_test, y_train, y_test = train_test_split(x, y, test_size=0.2, stratify=y)\n",
    "model.fit(x_train, y_train)\n",
    "pred = model.predict(x_test)\n",
    "print(classification_report(y_test, pred))\n",
    "\n"
   ]
  },
  {
   "cell_type": "code",
   "execution_count": 203,
   "metadata": {},
   "outputs": [
    {
     "data": {
      "text/html": [
       "<div>\n",
       "<style scoped>\n",
       "    .dataframe tbody tr th:only-of-type {\n",
       "        vertical-align: middle;\n",
       "    }\n",
       "\n",
       "    .dataframe tbody tr th {\n",
       "        vertical-align: top;\n",
       "    }\n",
       "\n",
       "    .dataframe thead th {\n",
       "        text-align: right;\n",
       "    }\n",
       "</style>\n",
       "<table border=\"1\" class=\"dataframe\">\n",
       "  <thead>\n",
       "    <tr style=\"text-align: right;\">\n",
       "      <th></th>\n",
       "      <th>LDA_0</th>\n",
       "    </tr>\n",
       "  </thead>\n",
       "  <tbody>\n",
       "    <tr>\n",
       "      <th>0</th>\n",
       "      <td>2.066052</td>\n",
       "    </tr>\n",
       "    <tr>\n",
       "      <th>1</th>\n",
       "      <td>2.896961</td>\n",
       "    </tr>\n",
       "    <tr>\n",
       "      <th>2</th>\n",
       "      <td>3.290126</td>\n",
       "    </tr>\n",
       "    <tr>\n",
       "      <th>3</th>\n",
       "      <td>2.845850</td>\n",
       "    </tr>\n",
       "    <tr>\n",
       "      <th>4</th>\n",
       "      <td>2.841371</td>\n",
       "    </tr>\n",
       "    <tr>\n",
       "      <th>...</th>\n",
       "      <td>...</td>\n",
       "    </tr>\n",
       "    <tr>\n",
       "      <th>502</th>\n",
       "      <td>-2.523492</td>\n",
       "    </tr>\n",
       "    <tr>\n",
       "      <th>503</th>\n",
       "      <td>-2.354823</td>\n",
       "    </tr>\n",
       "    <tr>\n",
       "      <th>504</th>\n",
       "      <td>-2.238751</td>\n",
       "    </tr>\n",
       "    <tr>\n",
       "      <th>505</th>\n",
       "      <td>-2.168563</td>\n",
       "    </tr>\n",
       "    <tr>\n",
       "      <th>506</th>\n",
       "      <td>-1.821657</td>\n",
       "    </tr>\n",
       "  </tbody>\n",
       "</table>\n",
       "<p>507 rows × 1 columns</p>\n",
       "</div>"
      ],
      "text/plain": [
       "        LDA_0\n",
       "0    2.066052\n",
       "1    2.896961\n",
       "2    3.290126\n",
       "3    2.845850\n",
       "4    2.841371\n",
       "..        ...\n",
       "502 -2.523492\n",
       "503 -2.354823\n",
       "504 -2.238751\n",
       "505 -2.168563\n",
       "506 -1.821657\n",
       "\n",
       "[507 rows x 1 columns]"
      ]
     },
     "execution_count": 203,
     "metadata": {},
     "output_type": "execute_result"
    }
   ],
   "source": [
    "# Part 4 Task 4.2\n",
    "x = body_df.drop('sex', axis=1)\n",
    "y = body_df['sex']\n",
    "lda = LinearDiscriminantAnalysis(n_components=1)\n",
    "lda.fit(x, y)\n",
    "lda_data = lda.transform(x)\n",
    "lda_df = pd.DataFrame(data=lda_data,\n",
    "                      columns=[f'LDA_{i}' for i in range(lda_data.shape[1])])\n",
    "lda_df"
   ]
  },
  {
   "cell_type": "code",
   "execution_count": 204,
   "metadata": {},
   "outputs": [
    {
     "name": "stdout",
     "output_type": "stream",
     "text": [
      "              precision    recall  f1-score   support\n",
      "\n",
      "         0.0       1.00      0.96      0.98        52\n",
      "         1.0       0.96      1.00      0.98        50\n",
      "\n",
      "    accuracy                           0.98       102\n",
      "   macro avg       0.98      0.98      0.98       102\n",
      "weighted avg       0.98      0.98      0.98       102\n",
      "\n"
     ]
    }
   ],
   "source": [
    "model = xgb.XGBClassifier()\n",
    "x = lda_df\n",
    "y = body_df['sex']\n",
    "x_train, x_test, y_train, y_test = train_test_split(x, y, test_size=0.2, stratify=y)\n",
    "model.fit(x_train, y_train)\n",
    "pred = model.predict(x_test)\n",
    "print(classification_report(y_test, pred))\n"
   ]
  },
  {
   "cell_type": "code",
   "execution_count": 208,
   "metadata": {},
   "outputs": [
    {
     "name": "stdout",
     "output_type": "stream",
     "text": [
      "              precision    recall  f1-score   support\n",
      "\n",
      "         0.0       0.84      0.86      0.85      2877\n",
      "         1.0       0.55      0.51      0.53       955\n",
      "\n",
      "    accuracy                           0.77      3832\n",
      "   macro avg       0.70      0.69      0.69      3832\n",
      "weighted avg       0.77      0.77      0.77      3832\n",
      "\n"
     ]
    }
   ],
   "source": [
    "# Part 4 Task 4 QDA\n",
    "x = final_df.drop('target', axis=1)\n",
    "y = final_df['target']\n",
    "x_train, x_test, y_train, y_test = train_test_split(x, y, test_size=0.2, stratify=y)\n",
    "qda = QuadraticDiscriminantAnalysis()\n",
    "qda.fit(x_train, y_train)\n",
    "pred = qda.predict(x_test)\n",
    "print(classification_report(y_test, pred))"
   ]
  },
  {
   "cell_type": "code",
   "execution_count": null,
   "metadata": {},
   "outputs": [],
   "source": [
    "# Part 4 Task 5 is already presented higher because I'ValueError\n",
    "# already made tons on predictions with LDA and PCA"
   ]
  },
  {
   "cell_type": "code",
   "execution_count": 219,
   "metadata": {},
   "outputs": [],
   "source": [
    "# Part 5 Task 1-2\n",
    "n_components = 2\n",
    "learning_rate = 100\n",
    "iters = 1000\n",
    "x = body_df.drop('sex', axis=1)\n",
    "y = body_df['sex']\n",
    "tsne = TSNE(n_components=n_components, learning_rate=learning_rate,\n",
    "            n_iter=250)\n",
    "x_tsne = tsne.fit_transform(x)\n",
    "tsne_df = pd.DataFrame(data=x_tsne,\n",
    "                       columns=[f'TSNE_{i}' for i in range(n_components)])\n",
    "tsne_df['sex'] = y\n"
   ]
  },
  {
   "cell_type": "code",
   "execution_count": 211,
   "metadata": {},
   "outputs": [
    {
     "data": {
      "application/vnd.plotly.v1+json": {
       "config": {
        "plotlyServerURL": "https://plot.ly"
       },
       "data": [
        {
         "hovertemplate": "sex=True<br>TSNE_0=%{x}<br>TSNE_1=%{y}<extra></extra>",
         "legendgroup": "True",
         "marker": {
          "color": "#636efa",
          "symbol": "circle"
         },
         "mode": "markers",
         "name": "True",
         "orientation": "v",
         "showlegend": true,
         "type": "scatter",
         "x": [
          -0.05051640793681145,
          0.4160252511501312,
          0.7508693933486938,
          0.42652902007102966,
          0.6162936687469482,
          0.5946906208992004,
          0.9184274673461914,
          0.6748826503753662,
          -0.05110449343919754,
          0.6569753289222717,
          0.6249644756317139,
          0.7768931984901428,
          0.94859379529953,
          0.5625779628753662,
          0.3993101119995117,
          0.6679760217666626,
          0.9526478052139282,
          0.2840784192085266,
          0.4021953046321869,
          0.8757091164588928,
          0.7558947205543518,
          0.6197690963745117,
          0.2987433969974518,
          0.8982717990875244,
          0.7709501385688782,
          0.9796649813652039,
          0.8026324510574341,
          0.388153612613678,
          -0.25608956813812256,
          -0.5052827000617981,
          0.4714064598083496,
          0.3847741484642029,
          0.4111853539943695,
          0.754111111164093,
          0.32620373368263245,
          -0.4708409309387207,
          0.3178093135356903,
          -0.2646270990371704,
          0.2622479200363159,
          0.660884439945221,
          0.9350986480712891,
          0.9070041179656982,
          0.3940525949001312,
          0.4640306532382965,
          0.8823577761650085,
          0.9210469126701355,
          0.7422418594360352,
          1.012808084487915,
          0.4543199837207794,
          -0.35587388277053833,
          0.593291699886322,
          0.8943819999694824,
          0.6494045257568359,
          0.9432150721549988,
          -0.6710389852523804,
          -0.8376696705818176,
          -0.12799698114395142,
          0.7168589234352112,
          0.9458408355712891,
          0.5249353051185608,
          0.3263944089412689,
          0.9260691404342651,
          0.30402734875679016,
          0.06268206238746643,
          0.3526609241962433,
          -0.02277873456478119,
          0.5307480096817017,
          0.2975710332393646,
          1.0752688646316528,
          0.18169444799423218,
          0.8559066653251648,
          0.7560718655586243,
          0.12154602259397507,
          0.19448837637901306,
          0.3880467414855957,
          0.09651481360197067,
          0.4077548384666443,
          -0.6143742799758911,
          0.42486855387687683,
          0.9685991406440735,
          1.0585960149765015,
          0.6542374491691589,
          0.39414435625076294,
          0.27523282170295715,
          0.4094255268573761,
          0.5227246284484863,
          0.5337684154510498,
          0.9040433764457703,
          0.5869035720825195,
          0.4688580632209778,
          0.23887477815151215,
          0.521614670753479,
          0.42624446749687195,
          0.19398872554302216,
          1.0708942413330078,
          0.2555727958679199,
          -0.06138240545988083,
          0.5560523271560669,
          0.8770464062690735,
          0.9925379753112793,
          0.9043214321136475,
          0.32820120453834534,
          -0.8291425108909607,
          0.3823566138744354,
          -0.8065033555030823,
          -0.4035734534263611,
          0.8807029724121094,
          0.402731329202652,
          -0.38679754734039307,
          0.39769595861434937,
          -0.14910049736499786,
          0.9591818451881409,
          -0.08052042126655579,
          0.9977619647979736,
          0.8941115140914917,
          0.2907409071922302,
          0.5437859296798706,
          1.032470464706421,
          0.8545734882354736,
          -0.3060074746608734,
          0.805800199508667,
          0.6796278357505798,
          0.4493134617805481,
          1.080933690071106,
          0.5225279927253723,
          0.8616446256637573,
          0.8492052555084229,
          0.9969820976257324,
          0.9601054787635803,
          0.9625351428985596,
          0.6477003693580627,
          0.7779480814933777,
          0.9528775215148926,
          1.02043879032135,
          0.4752831757068634,
          0.8453030586242676,
          0.23335015773773193,
          0.930347740650177,
          0.08268335461616516,
          0.5076540112495422,
          1.0683021545410156,
          0.980825662612915,
          0.7912307381629944,
          0.9871024489402771,
          1.0367156267166138,
          0.7950099110603333,
          0.4190736413002014,
          0.3673746883869171,
          0.30972620844841003,
          0.8324645757675171,
          0.7191935777664185,
          -0.11845037341117859,
          0.6444256901741028,
          0.8399645090103149,
          0.8092769384384155,
          0.2678649127483368,
          0.29792317748069763,
          0.07824809104204178,
          1.0636603832244873,
          0.39135587215423584,
          1.0411372184753418,
          0.9690524339675903,
          0.9890376925468445,
          0.6458431482315063,
          0.322576105594635,
          1.018669605255127,
          0.930651068687439,
          0.8501906991004944,
          1.049520492553711,
          0.42460212111473083,
          0.9169449806213379,
          0.5963242650032043,
          0.8573632836341858,
          0.5819973349571228,
          0.9781222343444824,
          0.8731407523155212,
          0.9277705550193787,
          0.8945106267929077,
          0.7985120415687561,
          0.839747428894043,
          0.43282338976860046,
          0.8444442749023438,
          0.9276659488677979,
          1.0110162496566772,
          0.9941216111183167,
          0.9939975142478943,
          0.9619295597076416,
          0.43311193585395813,
          0.8025122284889221,
          0.8564961552619934,
          0.854473352432251,
          0.8714059591293335,
          0.40796926617622375,
          1.0350123643875122,
          1.023137092590332,
          0.4455244839191437,
          0.6873000264167786,
          0.9966520071029663,
          0.9905965328216553,
          0.800679624080658,
          -0.10694637894630432,
          1.0130503177642822,
          0.7775828838348389,
          0.8332217335700989,
          0.8822140693664551,
          0.4015129804611206,
          0.22361670434474945,
          0.89723140001297,
          0.5806452035903931,
          0.9904220104217529,
          0.6189067959785461,
          1.0613425970077515,
          0.9926326274871826,
          0.37647685408592224,
          0.6288277506828308,
          0.9131295680999756,
          0.735975980758667,
          0.9238207340240479,
          0.6440184116363525,
          0.8738130927085876,
          1.0728094577789307,
          0.7108895778656006,
          0.433420866727829,
          0.9892486333847046,
          1.032185673713684,
          0.6719475388526917,
          0.1422043740749359,
          0.7813066840171814,
          0.5581204891204834,
          0.9725771546363831,
          0.9253210425376892,
          0.9145432710647583,
          0.5083284378051758,
          0.6890438199043274,
          0.9130896925926208,
          0.6103723645210266,
          0.7235123515129089,
          0.34936991333961487,
          0.9776833057403564,
          0.9753735661506653,
          0.2826095521450043,
          0.8387235999107361,
          0.7600083947181702,
          1.0565550327301025,
          0.8681766986846924,
          0.9062452912330627,
          0.7976191639900208
         ],
         "xaxis": "x",
         "y": [
          0.0012724314583465457,
          -0.010845234617590904,
          -0.019542118534445763,
          -0.011117971502244473,
          -0.01604684442281723,
          -0.015485807321965694,
          -0.023894185200333595,
          -0.01756860688328743,
          0.0012878382112830877,
          -0.017103468999266624,
          -0.01627172715961933,
          -0.020218107849359512,
          -0.024677908048033714,
          -0.014651603065431118,
          -0.010411056689918041,
          -0.017389211803674698,
          -0.024783054366707802,
          -0.0074180057272315025,
          -0.010485862381756306,
          -0.02278476022183895,
          -0.01967274583876133,
          -0.016137052327394485,
          -0.007798871956765652,
          -0.023370834067463875,
          -0.020063839852809906,
          -0.025484824553132057,
          -0.020886724814772606,
          -0.010121241211891174,
          0.006611834745854139,
          0.013084329664707184,
          -0.012283632531762123,
          -0.010033397004008293,
          -0.010719415731728077,
          -0.01962641254067421,
          -0.008512195199728012,
          0.01218981109559536,
          -0.00829409621655941,
          0.0068337018601596355,
          -0.006851044483482838,
          -0.01720489375293255,
          -0.024327319115400314,
          -0.023597635328769684,
          -0.010274416767060757,
          -0.012091930955648422,
          -0.022957397624850273,
          -0.02396259643137455,
          -0.01931810937821865,
          -0.026345733553171158,
          -0.011839726939797401,
          0.00920372549444437,
          -0.015449355356395245,
          -0.023269683122634888,
          -0.016906775534152985,
          -0.02453821338713169,
          0.01738951914012432,
          0.021717477589845657,
          0.0032849416602402925,
          -0.018658766523003578,
          -0.024606285616755486,
          -0.01367400586605072,
          -0.008517121896147728,
          -0.024092748761177063,
          -0.00793616846203804,
          -0.001667527947574854,
          -0.009199315682053566,
          0.0005520702106878161,
          -0.013824831694364548,
          -0.007768609095364809,
          -0.02796795777976513,
          -0.004758698400110006,
          -0.02227041870355606,
          -0.01967731863260269,
          -0.003196549601852894,
          -0.00509102875366807,
          -0.010118403472006321,
          -0.0025463097263127565,
          -0.010630413889884949,
          0.015917794778943062,
          -0.011074750684201717,
          -0.025197336450219154,
          -0.02753494679927826,
          -0.017032433301210403,
          -0.010276725515723228,
          -0.00718825776129961,
          -0.010673741810023785,
          -0.013616519048810005,
          -0.013903334736824036,
          -0.02352074533700943,
          -0.015283428132534027,
          -0.012217321433126926,
          -0.006243892014026642,
          -0.013587603345513344,
          -0.011110608465969563,
          -0.005078100133687258,
          -0.02785440906882286,
          -0.0066776094026863575,
          0.0015547765651717782,
          -0.014482120051980019,
          -0.02281944639980793,
          -0.02581922896206379,
          -0.02352786809206009,
          -0.008564070798456669,
          0.021495969966053963,
          -0.00997061189264059,
          0.020908016711473465,
          0.01044263131916523,
          -0.022914472967386246,
          -0.01049975585192442,
          0.010006889700889587,
          -0.01036913227289915,
          0.0038330964744091034,
          -0.024952827021479607,
          0.0020519555546343327,
          -0.02595488354563713,
          -0.023262685164809227,
          -0.007591115310788155,
          -0.014163569547235966,
          -0.026856407523155212,
          -0.022235842421650887,
          0.007908487692475319,
          -0.020969022065401077,
          -0.017691928893327713,
          -0.01170981302857399,
          -0.028115134686231613,
          -0.013611485250294209,
          -0.022419484332203865,
          -0.022096455097198486,
          -0.0259346142411232,
          -0.02497679553925991,
          -0.02503991685807705,
          -0.016862597316503525,
          -0.020245486870408058,
          -0.02478906884789467,
          -0.026543911546468735,
          -0.012384248897433281,
          -0.021994953975081444,
          -0.006100494880229235,
          -0.02420390024781227,
          -0.002187182893976569,
          -0.013225061818957329,
          -0.027786999940872192,
          -0.025514937937259674,
          -0.020590607076883316,
          -0.02567807212471962,
          -0.026966700330376625,
          -0.020688701421022415,
          -0.01092439889907837,
          -0.009581501595675945,
          -0.008084144443273544,
          -0.0216615442186594,
          -0.018719516694545746,
          0.0030370692256838083,
          -0.01677751913666725,
          -0.021856283769011497,
          -0.021059250459074974,
          -0.006996870972216129,
          -0.00777769647538662,
          -0.0020719077438116074,
          -0.027666503563523293,
          -0.010204357095062733,
          -0.027081480249762535,
          -0.025209233164787292,
          -0.025728248059749603,
          -0.016814298927783966,
          -0.00841791182756424,
          -0.026497993618249893,
          -0.02421177551150322,
          -0.02212194725871086,
          -0.027299311012029648,
          -0.011067881248891354,
          -0.023855801671743393,
          -0.015528039075434208,
          -0.022308172658085823,
          -0.015155944041907787,
          -0.025444699451327324,
          -0.022718004882335663,
          -0.024137062951922417,
          -0.023273104801774025,
          -0.020779753103852272,
          -0.0218507032841444,
          -0.011281436309218407,
          -0.021972641348838806,
          -0.0241341982036829,
          -0.02629910409450531,
          -0.02586035616695881,
          -0.025857064872980118,
          -0.025024188682436943,
          -0.011288907378911972,
          -0.020883578807115555,
          -0.022285670042037964,
          -0.022233162075281143,
          -0.022672856226563454,
          -0.010635876096785069,
          -0.026922402903437614,
          -0.026613939553499222,
          -0.01161134336143732,
          -0.017891038209199905,
          -0.0259260144084692,
          -0.025768758729100227,
          -0.020836034789681435,
          0.002738232258707285,
          -0.026351947337388992,
          -0.02023608796298504,
          -0.021681128069758415,
          -0.022953718900680542,
          -0.010468222200870514,
          -0.005847651977092028,
          -0.023343615233898163,
          -0.015120796859264374,
          -0.025764163583517075,
          -0.01611470803618431,
          -0.027606260031461716,
          -0.025821581482887268,
          -0.009817905724048615,
          -0.016372237354516983,
          -0.023756662383675575,
          -0.01915539614856243,
          -0.02403433620929718,
          -0.01676705852150917,
          -0.022735513746738434,
          -0.027904074639081955,
          -0.01850373111665249,
          -0.011296975426375866,
          -0.025733834132552147,
          -0.026849018409848213,
          -0.017492275685071945,
          -0.0037330409977585077,
          -0.020332759246230125,
          -0.01453584898263216,
          -0.025300679728388786,
          -0.024073312059044838,
          -0.023793404921889305,
          -0.013242590241134167,
          -0.017936348915100098,
          -0.023755691945552826,
          -0.015893002972006798,
          -0.018831612542271614,
          -0.009113804437220097,
          -0.02543334849178791,
          -0.025373373180627823,
          -0.007379833608865738,
          -0.021824058145284653,
          -0.0197795107960701,
          -0.027481941506266594,
          -0.02258910983800888,
          -0.023577842861413956,
          -0.02075641229748726
         ],
         "yaxis": "y"
        },
        {
         "hovertemplate": "sex=False<br>TSNE_0=%{x}<br>TSNE_1=%{y}<extra></extra>",
         "legendgroup": "False",
         "marker": {
          "color": "#EF553B",
          "symbol": "circle"
         },
         "mode": "markers",
         "name": "False",
         "orientation": "v",
         "showlegend": true,
         "type": "scatter",
         "x": [
          -0.9660351872444153,
          -0.9007431268692017,
          -1.095895528793335,
          -0.4095464050769806,
          -0.7986459136009216,
          -0.8349500298500061,
          -1.1008421182632446,
          -0.2817091941833496,
          -0.26118946075439453,
          0.5463613271713257,
          -0.9079384207725525,
          -0.9464583992958069,
          -0.5673121809959412,
          -1.101284146308899,
          -1.0611916780471802,
          -1.0654547214508057,
          -1.0163847208023071,
          -0.07222121953964233,
          -1.1023896932601929,
          -0.24476802349090576,
          -1.0052697658538818,
          0.5455867052078247,
          -0.7823845744132996,
          0.7635402679443359,
          -0.1949261575937271,
          -0.907864511013031,
          -0.6434251666069031,
          -0.10893741250038147,
          -0.18802234530448914,
          -1.0935286283493042,
          -0.9923804998397827,
          -0.9124718904495239,
          0.6935482621192932,
          -0.9523211121559143,
          -1.0958083868026733,
          -0.9573488831520081,
          0.1938236653804779,
          -0.949542760848999,
          -0.25171229243278503,
          -0.8432748317718506,
          -0.6118640899658203,
          -0.6608195900917053,
          -0.9331268668174744,
          -1.0568523406982422,
          -0.7355162501335144,
          -0.8153963685035706,
          -0.8678618669509888,
          -1.0487921237945557,
          -0.0015585675137117505,
          -0.5172487497329712,
          -0.5599997639656067,
          -0.10232492536306381,
          -0.8838300108909607,
          -1.099523901939392,
          -0.949213981628418,
          -0.939792275428772,
          -0.5880056023597717,
          -0.7625842094421387,
          -0.6339083909988403,
          -0.7236676812171936,
          -0.92006516456604,
          -0.042319413274526596,
          -0.6852919459342957,
          -0.2061571180820465,
          0.6476381421089172,
          -0.9806482791900635,
          -1.0145938396453857,
          0.13638663291931152,
          -0.5814255475997925,
          -0.8200249671936035,
          -1.0362986326217651,
          -0.9856529235839844,
          -0.8999086618423462,
          -0.8994032144546509,
          -0.5340502262115479,
          -0.7345929741859436,
          -0.8949686288833618,
          -0.9521157145500183,
          0.1262577772140503,
          -0.4130411148071289,
          -0.2546357810497284,
          -0.8390806913375854,
          -0.33684661984443665,
          0.2408946454524994,
          -0.9788935780525208,
          -0.8424133658409119,
          -0.9143190979957581,
          -1.0696542263031006,
          -0.40447336435317993,
          -0.8774159550666809,
          -0.3952357769012451,
          -0.8001348376274109,
          -0.6630535125732422,
          -1.0953929424285889,
          -0.9197060465812683,
          -1.0631617307662964,
          -0.7621393799781799,
          -0.7914687991142273,
          -0.2134467214345932,
          -0.4946901500225067,
          -0.9275429248809814,
          -0.1332796961069107,
          -0.9612038135528564,
          -0.1255238950252533,
          -0.7070758938789368,
          -0.8678345084190369,
          -0.3468654453754425,
          -0.5069271326065063,
          -0.1358662247657776,
          -0.28167638182640076,
          -0.7591560482978821,
          1.0651978254318237,
          -0.944927453994751,
          -0.41137808561325073,
          -0.7733544111251831,
          -1.0247032642364502,
          -0.7347452640533447,
          -0.8860657215118408,
          -1.1123440265655518,
          -0.9882392287254333,
          -1.0657734870910645,
          -0.5461546778678894,
          -1.1122281551361084,
          -0.6835684180259705,
          -0.8406322598457336,
          -0.49283716082572937,
          -0.9426031708717346,
          0.3625577688217163,
          -0.9261802434921265,
          -0.7778783440589905,
          -0.7283406257629395,
          -0.7713821530342102,
          -0.897874653339386,
          -1.1129496097564697,
          -0.49296873807907104,
          -1.073315143585205,
          -0.5923779010772705,
          -1.0724893808364868,
          -0.41895025968551636,
          -0.81405109167099,
          -0.8342986106872559,
          -0.9492996335029602,
          -0.7263103127479553,
          -0.9244682788848877,
          -0.9165388345718384,
          -0.6383468508720398,
          -0.9743971228599548,
          -0.7471572756767273,
          -0.23702852427959442,
          -0.28611069917678833,
          -0.4430840313434601,
          -0.7814301252365112,
          -0.34033581614494324,
          -0.9397716522216797,
          -0.016524076461791992,
          -0.7855484485626221,
          -0.679036021232605,
          -0.3669793903827667,
          -0.1285049319267273,
          0.75803542137146,
          -0.8918822407722473,
          -0.7533807158470154,
          -0.1409502774477005,
          0.22767522931098938,
          -0.4063691198825836,
          -0.14485307037830353,
          -0.2952788174152374,
          -0.29023557901382446,
          -0.7311941981315613,
          -0.5886503458023071,
          -0.4172798693180084,
          -0.6840574741363525,
          0.5652851462364197,
          0.2262583076953888,
          -0.7812719941139221,
          -0.5513409972190857,
          -0.649148166179657,
          -0.05765242874622345,
          -0.3774687349796295,
          -1.0591243505477905,
          0.27928876876831055,
          -0.8621228337287903,
          -0.8721613883972168,
          -0.826316773891449,
          -0.1187867522239685,
          -0.34358832240104675,
          -1.0772290229797363,
          -0.6538949608802795,
          -0.18744955956935883,
          -0.702045202255249,
          -0.2855824828147888,
          -0.7907239198684692,
          -0.9332464933395386,
          -0.24175459146499634,
          0.31306183338165283,
          -0.5089582800865173,
          -0.3284413516521454,
          -0.7897365093231201,
          -0.7556349039077759,
          -0.7480818033218384,
          -0.06265947222709656,
          -0.7313411235809326,
          -0.7829193472862244,
          -0.8948326110839844,
          -0.5867611169815063,
          -0.11175815016031265,
          -0.6728691458702087,
          -1.0672048330307007,
          -0.01265754271298647,
          0.35296541452407837,
          -0.2558510899543762,
          -0.5952724814414978,
          -0.6069651246070862,
          -0.8686997294425964,
          -0.8187059164047241,
          -0.015028947032988071,
          -0.9912033081054688,
          -0.49887415766716003,
          0.7040723562240601,
          -0.2532878518104553,
          -0.03814215213060379,
          -0.7694820165634155,
          0.07989250868558884,
          -0.5834619998931885,
          -0.8165239691734314,
          -0.8362653255462646,
          1.0326043367385864,
          -0.9334566593170166,
          0.10191436111927032,
          0.3676690459251404,
          -0.46204692125320435,
          0.08460618555545807,
          -0.366212397813797,
          -0.6018245220184326,
          0.7901188135147095,
          -0.5371343493461609,
          -0.7706462740898132,
          -0.9355058073997498,
          -0.82650226354599,
          -0.6350327134132385,
          0.05263650789856911,
          -0.5897989869117737,
          -0.8964731693267822,
          -0.3731522858142853,
          -0.6025517582893372,
          -0.7780846357345581,
          -1.0564849376678467,
          -0.7911266088485718,
          -0.3857058584690094,
          -0.5154654383659363,
          -0.3228283226490021,
          0.10943467915058136,
          -0.1860121339559555,
          -0.33879774808883667,
          0.29191169142723083,
          -0.13689057528972626,
          -0.8526170253753662,
          -1.0395787954330444,
          -0.17503289878368378,
          -0.006576318293809891
         ],
         "xaxis": "x",
         "y": [
          0.02505166083574295,
          0.023355739191174507,
          0.02842448465526104,
          0.010597794316709042,
          0.020703913643956184,
          0.02164684794843197,
          0.028552962467074394,
          0.007277393713593483,
          0.006744408514350653,
          -0.014230354689061642,
          0.023542646318674088,
          0.024543076753616333,
          0.014695367775857449,
          0.028564486652612686,
          0.027523094788193703,
          0.027633804827928543,
          0.02635922282934189,
          0.0018363085109740496,
          0.02859320677816868,
          0.006317866500467062,
          0.026070665568113327,
          -0.014210308901965618,
          0.020281529054045677,
          -0.019871344789862633,
          0.005023330915719271,
          0.023540662601590157,
          0.016672344878315926,
          0.0027899337001144886,
          0.004844094626605511,
          0.028363071382045746,
          0.025735819712281227,
          0.02366037480533123,
          -0.01805349439382553,
          0.02469532936811447,
          0.028422215953469276,
          0.024825962260365486,
          -0.00507380859926343,
          0.024623289704322815,
          0.006498265080153942,
          0.021863041445612907,
          0.015852687880396843,
          0.017123917117714882,
          0.024196865037083626,
          0.027410369366407394,
          0.01906433142721653,
          0.02113901823759079,
          0.022501720115542412,
          0.027201063930988312,
          8.882547604116553e-7,
          0.01339512038975954,
          0.014505350962281227,
          0.002618134021759033,
          0.022916508838534355,
          0.02851857803761959,
          0.024614742025732994,
          0.024370023980736732,
          0.015232834964990616,
          0.019767314195632935,
          0.016425244510173798,
          0.018756477162241936,
          0.023857606574892998,
          0.0010596290230751038,
          0.01775973290205002,
          0.005315032321959734,
          -0.016860991716384888,
          0.025431158021092415,
          0.02631274051964283,
          -0.0035821078345179558,
          0.015062009915709496,
          0.02125909924507141,
          0.026876578107476234,
          0.025561116635799408,
          0.023334041237831116,
          0.023320993408560753,
          0.01383150927722454,
          0.019040273502469063,
          0.02320576272904873,
          0.02469007484614849,
          -0.003319207578897476,
          0.01068851538002491,
          0.006574186962097883,
          0.021754242479801178,
          0.008709460496902466,
          -0.0062963529489934444,
          0.02538551203906536,
          0.021840717643499374,
          0.023708319291472435,
          0.027742907404899597,
          0.010466049425303936,
          0.022749844938516617,
          0.010226044803857803,
          0.020742662250995636,
          0.0171821191906929,
          0.028411410748958588,
          0.023848263546824455,
          0.027574433013796806,
          0.019755827262997627,
          0.020517420023679733,
          0.005504392087459564,
          0.012809144333004951,
          0.024051925167441368,
          0.003422107081860304,
          0.024926092475652695,
          0.0032207828480750322,
          0.01832554303109646,
          0.022500958293676376,
          0.008969680406153202,
          0.013127095997333527,
          0.0034893506672233343,
          0.007276519667357206,
          0.019678300246596336,
          -0.027706440538167953,
          0.024503348395228386,
          0.010645304806530476,
          0.020046928897500038,
          0.02657533623278141,
          0.01904413476586342,
          0.022974509745836258,
          0.028851764276623726,
          0.025628289207816124,
          0.02764207124710083,
          0.01414590235799551,
          0.028848694637417793,
          0.017715057358145714,
          0.021794458851218224,
          0.012761077843606472,
          0.024443045258522034,
          -0.009456385858356953,
          0.024016406387090683,
          0.020164620131254196,
          0.018877863883972168,
          0.01999586634337902,
          0.023281143978238106,
          0.028867404907941818,
          0.01276441477239132,
          0.02783801779150963,
          0.015346450731158257,
          0.027816643938422203,
          0.010842177085578442,
          0.02110455557703972,
          0.021629899740219116,
          0.024616887792944908,
          0.018825173377990723,
          0.02397199720144272,
          0.02376597747206688,
          0.01654035970568657,
          0.02526855655014515,
          0.019366241991519928,
          0.006116952747106552,
          0.007391666527837515,
          0.011468760669231415,
          0.020256754010915756,
          0.008799991570413113,
          0.0243695005774498,
          0.0003896900452673435,
          0.020363762974739075,
          0.01759723760187626,
          0.009492098353803158,
          0.003298224415630102,
          -0.019728459417819977,
          0.02312553860247135,
          0.019528236240148544,
          0.0036214047577232122,
          -0.005953165702521801,
          0.010515178553760052,
          0.003722565248608589,
          0.007629819214344025,
          0.007498918101191521,
          0.018952006474137306,
          0.015249736607074738,
          0.010798651725053787,
          0.017727836966514587,
          -0.01472192071378231,
          -0.005916198715567589,
          0.020252760499715805,
          0.014280625618994236,
          0.01682065613567829,
          0.0014579223934561014,
          0.009764580056071281,
          0.027469420805573463,
          -0.007293718867003918,
          0.022352570667862892,
          0.022613294422626495,
          0.02142263576388359,
          0.003045798745006323,
          0.008884587325155735,
          0.027939610183238983,
          0.016944289207458496,
          0.00482920091599226,
          0.01819487474858761,
          0.007377974689006805,
          0.020498191937804222,
          0.024199984967708588,
          0.006239654961973429,
          -0.008170900866389275,
          0.01317980233579874,
          0.008491222746670246,
          0.02047250047326088,
          0.019586849957704544,
          0.019390612840652466,
          0.0015878278063610196,
          0.018955785781145096,
          0.020295508205890656,
          0.0232022013515234,
          0.015200535766780376,
          0.002863141242414713,
          0.017437225207686424,
          0.02767934650182724,
          0.00028922289493493736,
          -0.009207340888679028,
          0.006605729926377535,
          0.01542172022163868,
          0.01572534628212452,
          0.02252342365682125,
          0.021225081756711006,
          0.00035076888161711395,
          0.025705257430672646,
          0.012917841784656048,
          -0.018326831981539726,
          0.006539147347211838,
          0.0009510735399089754,
          0.019946403801441193,
          -0.0021146819926798344,
          0.01511488389223814,
          0.021168287843465805,
          0.021680813282728195,
          -0.026859864592552185,
          0.024205420166254044,
          -0.0026866288390010595,
          -0.009589252062141895,
          0.011961416341364384,
          -0.002237065928056836,
          0.009472187608480453,
          0.01559183094650507,
          -0.020561615005135536,
          0.013911702670156956,
          0.019976668059825897,
          0.024258486926555634,
          0.021427711471915245,
          0.01645440049469471,
          -0.0014066750882193446,
          0.01527945976704359,
          0.023244937881827354,
          0.009652524255216122,
          0.01561072189360857,
          0.020169809460639954,
          0.02740078791975975,
          0.020508619025349617,
          0.00997857190668583,
          0.013348827138543129,
          0.00834536924958229,
          -0.002881971886381507,
          0.0047918651252985,
          0.008760151453316212,
          -0.007621499244123697,
          0.003515998600050807,
          0.022105641663074493,
          0.02696170099079609,
          0.0045065912418067455,
          0.00013121237861923873
         ],
         "yaxis": "y"
        }
       ],
       "layout": {
        "legend": {
         "title": {
          "text": "sex"
         },
         "tracegroupgap": 0
        },
        "margin": {
         "t": 60
        },
        "template": {
         "data": {
          "bar": [
           {
            "error_x": {
             "color": "#2a3f5f"
            },
            "error_y": {
             "color": "#2a3f5f"
            },
            "marker": {
             "line": {
              "color": "#E5ECF6",
              "width": 0.5
             },
             "pattern": {
              "fillmode": "overlay",
              "size": 10,
              "solidity": 0.2
             }
            },
            "type": "bar"
           }
          ],
          "barpolar": [
           {
            "marker": {
             "line": {
              "color": "#E5ECF6",
              "width": 0.5
             },
             "pattern": {
              "fillmode": "overlay",
              "size": 10,
              "solidity": 0.2
             }
            },
            "type": "barpolar"
           }
          ],
          "carpet": [
           {
            "aaxis": {
             "endlinecolor": "#2a3f5f",
             "gridcolor": "white",
             "linecolor": "white",
             "minorgridcolor": "white",
             "startlinecolor": "#2a3f5f"
            },
            "baxis": {
             "endlinecolor": "#2a3f5f",
             "gridcolor": "white",
             "linecolor": "white",
             "minorgridcolor": "white",
             "startlinecolor": "#2a3f5f"
            },
            "type": "carpet"
           }
          ],
          "choropleth": [
           {
            "colorbar": {
             "outlinewidth": 0,
             "ticks": ""
            },
            "type": "choropleth"
           }
          ],
          "contour": [
           {
            "colorbar": {
             "outlinewidth": 0,
             "ticks": ""
            },
            "colorscale": [
             [
              0,
              "#0d0887"
             ],
             [
              0.1111111111111111,
              "#46039f"
             ],
             [
              0.2222222222222222,
              "#7201a8"
             ],
             [
              0.3333333333333333,
              "#9c179e"
             ],
             [
              0.4444444444444444,
              "#bd3786"
             ],
             [
              0.5555555555555556,
              "#d8576b"
             ],
             [
              0.6666666666666666,
              "#ed7953"
             ],
             [
              0.7777777777777778,
              "#fb9f3a"
             ],
             [
              0.8888888888888888,
              "#fdca26"
             ],
             [
              1,
              "#f0f921"
             ]
            ],
            "type": "contour"
           }
          ],
          "contourcarpet": [
           {
            "colorbar": {
             "outlinewidth": 0,
             "ticks": ""
            },
            "type": "contourcarpet"
           }
          ],
          "heatmap": [
           {
            "colorbar": {
             "outlinewidth": 0,
             "ticks": ""
            },
            "colorscale": [
             [
              0,
              "#0d0887"
             ],
             [
              0.1111111111111111,
              "#46039f"
             ],
             [
              0.2222222222222222,
              "#7201a8"
             ],
             [
              0.3333333333333333,
              "#9c179e"
             ],
             [
              0.4444444444444444,
              "#bd3786"
             ],
             [
              0.5555555555555556,
              "#d8576b"
             ],
             [
              0.6666666666666666,
              "#ed7953"
             ],
             [
              0.7777777777777778,
              "#fb9f3a"
             ],
             [
              0.8888888888888888,
              "#fdca26"
             ],
             [
              1,
              "#f0f921"
             ]
            ],
            "type": "heatmap"
           }
          ],
          "heatmapgl": [
           {
            "colorbar": {
             "outlinewidth": 0,
             "ticks": ""
            },
            "colorscale": [
             [
              0,
              "#0d0887"
             ],
             [
              0.1111111111111111,
              "#46039f"
             ],
             [
              0.2222222222222222,
              "#7201a8"
             ],
             [
              0.3333333333333333,
              "#9c179e"
             ],
             [
              0.4444444444444444,
              "#bd3786"
             ],
             [
              0.5555555555555556,
              "#d8576b"
             ],
             [
              0.6666666666666666,
              "#ed7953"
             ],
             [
              0.7777777777777778,
              "#fb9f3a"
             ],
             [
              0.8888888888888888,
              "#fdca26"
             ],
             [
              1,
              "#f0f921"
             ]
            ],
            "type": "heatmapgl"
           }
          ],
          "histogram": [
           {
            "marker": {
             "pattern": {
              "fillmode": "overlay",
              "size": 10,
              "solidity": 0.2
             }
            },
            "type": "histogram"
           }
          ],
          "histogram2d": [
           {
            "colorbar": {
             "outlinewidth": 0,
             "ticks": ""
            },
            "colorscale": [
             [
              0,
              "#0d0887"
             ],
             [
              0.1111111111111111,
              "#46039f"
             ],
             [
              0.2222222222222222,
              "#7201a8"
             ],
             [
              0.3333333333333333,
              "#9c179e"
             ],
             [
              0.4444444444444444,
              "#bd3786"
             ],
             [
              0.5555555555555556,
              "#d8576b"
             ],
             [
              0.6666666666666666,
              "#ed7953"
             ],
             [
              0.7777777777777778,
              "#fb9f3a"
             ],
             [
              0.8888888888888888,
              "#fdca26"
             ],
             [
              1,
              "#f0f921"
             ]
            ],
            "type": "histogram2d"
           }
          ],
          "histogram2dcontour": [
           {
            "colorbar": {
             "outlinewidth": 0,
             "ticks": ""
            },
            "colorscale": [
             [
              0,
              "#0d0887"
             ],
             [
              0.1111111111111111,
              "#46039f"
             ],
             [
              0.2222222222222222,
              "#7201a8"
             ],
             [
              0.3333333333333333,
              "#9c179e"
             ],
             [
              0.4444444444444444,
              "#bd3786"
             ],
             [
              0.5555555555555556,
              "#d8576b"
             ],
             [
              0.6666666666666666,
              "#ed7953"
             ],
             [
              0.7777777777777778,
              "#fb9f3a"
             ],
             [
              0.8888888888888888,
              "#fdca26"
             ],
             [
              1,
              "#f0f921"
             ]
            ],
            "type": "histogram2dcontour"
           }
          ],
          "mesh3d": [
           {
            "colorbar": {
             "outlinewidth": 0,
             "ticks": ""
            },
            "type": "mesh3d"
           }
          ],
          "parcoords": [
           {
            "line": {
             "colorbar": {
              "outlinewidth": 0,
              "ticks": ""
             }
            },
            "type": "parcoords"
           }
          ],
          "pie": [
           {
            "automargin": true,
            "type": "pie"
           }
          ],
          "scatter": [
           {
            "fillpattern": {
             "fillmode": "overlay",
             "size": 10,
             "solidity": 0.2
            },
            "type": "scatter"
           }
          ],
          "scatter3d": [
           {
            "line": {
             "colorbar": {
              "outlinewidth": 0,
              "ticks": ""
             }
            },
            "marker": {
             "colorbar": {
              "outlinewidth": 0,
              "ticks": ""
             }
            },
            "type": "scatter3d"
           }
          ],
          "scattercarpet": [
           {
            "marker": {
             "colorbar": {
              "outlinewidth": 0,
              "ticks": ""
             }
            },
            "type": "scattercarpet"
           }
          ],
          "scattergeo": [
           {
            "marker": {
             "colorbar": {
              "outlinewidth": 0,
              "ticks": ""
             }
            },
            "type": "scattergeo"
           }
          ],
          "scattergl": [
           {
            "marker": {
             "colorbar": {
              "outlinewidth": 0,
              "ticks": ""
             }
            },
            "type": "scattergl"
           }
          ],
          "scattermapbox": [
           {
            "marker": {
             "colorbar": {
              "outlinewidth": 0,
              "ticks": ""
             }
            },
            "type": "scattermapbox"
           }
          ],
          "scatterpolar": [
           {
            "marker": {
             "colorbar": {
              "outlinewidth": 0,
              "ticks": ""
             }
            },
            "type": "scatterpolar"
           }
          ],
          "scatterpolargl": [
           {
            "marker": {
             "colorbar": {
              "outlinewidth": 0,
              "ticks": ""
             }
            },
            "type": "scatterpolargl"
           }
          ],
          "scatterternary": [
           {
            "marker": {
             "colorbar": {
              "outlinewidth": 0,
              "ticks": ""
             }
            },
            "type": "scatterternary"
           }
          ],
          "surface": [
           {
            "colorbar": {
             "outlinewidth": 0,
             "ticks": ""
            },
            "colorscale": [
             [
              0,
              "#0d0887"
             ],
             [
              0.1111111111111111,
              "#46039f"
             ],
             [
              0.2222222222222222,
              "#7201a8"
             ],
             [
              0.3333333333333333,
              "#9c179e"
             ],
             [
              0.4444444444444444,
              "#bd3786"
             ],
             [
              0.5555555555555556,
              "#d8576b"
             ],
             [
              0.6666666666666666,
              "#ed7953"
             ],
             [
              0.7777777777777778,
              "#fb9f3a"
             ],
             [
              0.8888888888888888,
              "#fdca26"
             ],
             [
              1,
              "#f0f921"
             ]
            ],
            "type": "surface"
           }
          ],
          "table": [
           {
            "cells": {
             "fill": {
              "color": "#EBF0F8"
             },
             "line": {
              "color": "white"
             }
            },
            "header": {
             "fill": {
              "color": "#C8D4E3"
             },
             "line": {
              "color": "white"
             }
            },
            "type": "table"
           }
          ]
         },
         "layout": {
          "annotationdefaults": {
           "arrowcolor": "#2a3f5f",
           "arrowhead": 0,
           "arrowwidth": 1
          },
          "autotypenumbers": "strict",
          "coloraxis": {
           "colorbar": {
            "outlinewidth": 0,
            "ticks": ""
           }
          },
          "colorscale": {
           "diverging": [
            [
             0,
             "#8e0152"
            ],
            [
             0.1,
             "#c51b7d"
            ],
            [
             0.2,
             "#de77ae"
            ],
            [
             0.3,
             "#f1b6da"
            ],
            [
             0.4,
             "#fde0ef"
            ],
            [
             0.5,
             "#f7f7f7"
            ],
            [
             0.6,
             "#e6f5d0"
            ],
            [
             0.7,
             "#b8e186"
            ],
            [
             0.8,
             "#7fbc41"
            ],
            [
             0.9,
             "#4d9221"
            ],
            [
             1,
             "#276419"
            ]
           ],
           "sequential": [
            [
             0,
             "#0d0887"
            ],
            [
             0.1111111111111111,
             "#46039f"
            ],
            [
             0.2222222222222222,
             "#7201a8"
            ],
            [
             0.3333333333333333,
             "#9c179e"
            ],
            [
             0.4444444444444444,
             "#bd3786"
            ],
            [
             0.5555555555555556,
             "#d8576b"
            ],
            [
             0.6666666666666666,
             "#ed7953"
            ],
            [
             0.7777777777777778,
             "#fb9f3a"
            ],
            [
             0.8888888888888888,
             "#fdca26"
            ],
            [
             1,
             "#f0f921"
            ]
           ],
           "sequentialminus": [
            [
             0,
             "#0d0887"
            ],
            [
             0.1111111111111111,
             "#46039f"
            ],
            [
             0.2222222222222222,
             "#7201a8"
            ],
            [
             0.3333333333333333,
             "#9c179e"
            ],
            [
             0.4444444444444444,
             "#bd3786"
            ],
            [
             0.5555555555555556,
             "#d8576b"
            ],
            [
             0.6666666666666666,
             "#ed7953"
            ],
            [
             0.7777777777777778,
             "#fb9f3a"
            ],
            [
             0.8888888888888888,
             "#fdca26"
            ],
            [
             1,
             "#f0f921"
            ]
           ]
          },
          "colorway": [
           "#636efa",
           "#EF553B",
           "#00cc96",
           "#ab63fa",
           "#FFA15A",
           "#19d3f3",
           "#FF6692",
           "#B6E880",
           "#FF97FF",
           "#FECB52"
          ],
          "font": {
           "color": "#2a3f5f"
          },
          "geo": {
           "bgcolor": "white",
           "lakecolor": "white",
           "landcolor": "#E5ECF6",
           "showlakes": true,
           "showland": true,
           "subunitcolor": "white"
          },
          "hoverlabel": {
           "align": "left"
          },
          "hovermode": "closest",
          "mapbox": {
           "style": "light"
          },
          "paper_bgcolor": "white",
          "plot_bgcolor": "#E5ECF6",
          "polar": {
           "angularaxis": {
            "gridcolor": "white",
            "linecolor": "white",
            "ticks": ""
           },
           "bgcolor": "#E5ECF6",
           "radialaxis": {
            "gridcolor": "white",
            "linecolor": "white",
            "ticks": ""
           }
          },
          "scene": {
           "xaxis": {
            "backgroundcolor": "#E5ECF6",
            "gridcolor": "white",
            "gridwidth": 2,
            "linecolor": "white",
            "showbackground": true,
            "ticks": "",
            "zerolinecolor": "white"
           },
           "yaxis": {
            "backgroundcolor": "#E5ECF6",
            "gridcolor": "white",
            "gridwidth": 2,
            "linecolor": "white",
            "showbackground": true,
            "ticks": "",
            "zerolinecolor": "white"
           },
           "zaxis": {
            "backgroundcolor": "#E5ECF6",
            "gridcolor": "white",
            "gridwidth": 2,
            "linecolor": "white",
            "showbackground": true,
            "ticks": "",
            "zerolinecolor": "white"
           }
          },
          "shapedefaults": {
           "line": {
            "color": "#2a3f5f"
           }
          },
          "ternary": {
           "aaxis": {
            "gridcolor": "white",
            "linecolor": "white",
            "ticks": ""
           },
           "baxis": {
            "gridcolor": "white",
            "linecolor": "white",
            "ticks": ""
           },
           "bgcolor": "#E5ECF6",
           "caxis": {
            "gridcolor": "white",
            "linecolor": "white",
            "ticks": ""
           }
          },
          "title": {
           "x": 0.05
          },
          "xaxis": {
           "automargin": true,
           "gridcolor": "white",
           "linecolor": "white",
           "ticks": "",
           "title": {
            "standoff": 15
           },
           "zerolinecolor": "white",
           "zerolinewidth": 2
          },
          "yaxis": {
           "automargin": true,
           "gridcolor": "white",
           "linecolor": "white",
           "ticks": "",
           "title": {
            "standoff": 15
           },
           "zerolinecolor": "white",
           "zerolinewidth": 2
          }
         }
        },
        "xaxis": {
         "anchor": "y",
         "domain": [
          0,
          1
         ],
         "title": {
          "text": "TSNE_0"
         }
        },
        "yaxis": {
         "anchor": "x",
         "domain": [
          0,
          1
         ],
         "title": {
          "text": "TSNE_1"
         }
        }
       }
      }
     },
     "metadata": {},
     "output_type": "display_data"
    }
   ],
   "source": [
    "fig = px.scatter(tsne_df, x='TSNE_0', y='TSNE_1', color='sex')\n",
    "fig.show()"
   ]
  },
  {
   "cell_type": "code",
   "execution_count": 216,
   "metadata": {},
   "outputs": [
    {
     "data": {
      "application/vnd.plotly.v1+json": {
       "config": {
        "plotlyServerURL": "https://plot.ly"
       },
       "data": [
        {
         "hovertemplate": "sex=True<br>PCA_0=%{x}<br>PCA_1=%{y}<extra></extra>",
         "legendgroup": "True",
         "marker": {
          "color": "#636efa",
          "symbol": "circle"
         },
         "mode": "markers",
         "name": "True",
         "orientation": "v",
         "showlegend": true,
         "type": "scatter",
         "x": [
          -10.490297556718318,
          5.823065940001499,
          18.646960863362185,
          3.26442916753812,
          11.998789105584668,
          13.116381048439923,
          29.911921102883348,
          16.656044098336345,
          -13.33840233133508,
          15.322727488341464,
          13.466525835605934,
          20.56306900012283,
          32.2283222964304,
          13.848613834343249,
          6.085253955870004,
          17.08503793623682,
          34.57999976764368,
          -1.1243094657810886,
          6.536504033507192,
          26.51999981489882,
          19.706756596279163,
          13.052318102541276,
          -1.0063348928622258,
          28.78483550411724,
          19.307076958615827,
          37.463462170683584,
          24.224352343660495,
          4.074301703373372,
          -10.75376457761135,
          -16.442142444179563,
          7.452633963983457,
          3.36857217140022,
          3.41359654029933,
          17.849978659150864,
          1.2576738476385865,
          -16.849082191375842,
          0.2649786172372916,
          -11.516178010939816,
          -1.4021701648934437,
          15.464243082909924,
          31.794481606503247,
          29.30100994346876,
          4.9990286642021005,
          6.2650709329763785,
          27.309271750832416,
          30.658290085492364,
          17.97370324724389,
          42.723439701506145,
          9.736548490723088,
          -15.444357398346888,
          13.325602318632038,
          27.387683745894492,
          16.849696962492526,
          33.20822624239124,
          -22.055494097244548,
          -26.79690178117951,
          -8.322167019762158,
          18.313429665288865,
          33.31259790912198,
          10.467156261334383,
          1.322335291032026,
          31.989798909130258,
          -0.4072730644435363,
          -6.867622637178381,
          1.0637406957670088,
          -3.8479414189570242,
          10.289461147685104,
          3.68257937314294,
          61.13675297875385,
          -5.295364010154678,
          26.067669514209584,
          19.438513963168443,
          -1.6658772245674591,
          -4.075980697557715,
          3.2428133577538407,
          -6.766545320254276,
          5.569666075743756,
          -20.41624381204526,
          5.75806396014513,
          36.227842396424116,
          53.88193771099126,
          13.756884729776377,
          4.185991680007731,
          -1.2901055206333434,
          5.853743184283101,
          10.191507466810261,
          11.877533373037817,
          29.19199259034487,
          14.047826151518182,
          8.748496628945208,
          -2.4986762386032804,
          8.90608759376243,
          6.922590152347334,
          -4.953499360006889,
          58.407730033261835,
          0.5937941145182057,
          -8.078078872677601,
          10.240488849928363,
          25.830521461131863,
          40.120164286752384,
          27.55696110246075,
          1.4857810529307396,
          -23.520049324107354,
          4.34364352987491,
          -26.01065544368554,
          -12.73951597949876,
          27.499981488731255,
          6.734019847498349,
          -10.968015820872422,
          4.899770189897658,
          -8.207454684871713,
          34.34192753763554,
          -7.47901811354824,
          41.43779747607223,
          28.195001647653733,
          -2.211200311237264,
          10.720846869642209,
          45.883240496195725,
          24.752393004045146,
          -16.686894811421038,
          22.04317765679171,
          15.679403928794118,
          7.184358037356312,
          72.8618191400893,
          13.566632914016433,
          25.115630239694877,
          25.41489013382023,
          39.89574203532109,
          40.143966310690914,
          35.95099415486838,
          17.159031373215253,
          21.74503851656597,
          33.41091427173567,
          44.008083327719945,
          8.782729230875537,
          26.354542218369634,
          -1.0941565056371942,
          35.81366291605809,
          -7.809902407419937,
          11.580043185393865,
          59.33808485833053,
          38.699836908052326,
          21.029663055871985,
          40.163529735940806,
          50.19321806746647,
          21.16625946524796,
          6.630362751869006,
          3.92568407846512,
          5.65299477739386,
          24.16289324559028,
          19.611707726656096,
          -13.661779846256293,
          15.914079922369176,
          23.355178848672185,
          27.945892758156205,
          -0.585965463238972,
          -0.7752274759018366,
          -5.78354001903152,
          59.91921430861984,
          5.17551491899346,
          53.840969521932486,
          37.13346782282733,
          42.501023767928224,
          14.766079760581885,
          0.6650475261482174,
          46.3325157786599,
          41.08152058424364,
          25.021669151142692,
          50.69168983187878,
          8.439371896862962,
          32.57644026262933,
          13.469798792152774,
          25.567831360016623,
          13.773363883066075,
          38.2150259328138,
          25.989941329327987,
          31.876738977565264,
          28.524512773722254,
          21.368487454933312,
          23.06995297983194,
          7.41455764631065,
          23.248195854669838,
          30.583145679974486,
          43.65697355428854,
          39.59383375954082,
          40.78509460726216,
          35.94426832709771,
          6.174431550556291,
          26.3376838093152,
          25.736862521934658,
          28.066035789975146,
          25.306744878143473,
          6.082346419943301,
          51.95632299819244,
          47.88143002562007,
          11.104560754230688,
          16.428489800051683,
          44.41577750289748,
          39.238825490688654,
          24.103806663544947,
          -6.492306475286646,
          46.921166752717355,
          23.17377016804185,
          23.405781350979886,
          26.36103484507362,
          4.765428826899244,
          2.44930548924868,
          28.188640278574074,
          15.410324410666538,
          39.127612629580256,
          13.966802636898935,
          53.42776290136986,
          38.85949212672324,
          2.8572515558088587,
          18.469611554157026,
          32.221414046524465,
          18.91290307221838,
          30.67430746135394,
          14.099028956139502,
          26.924440406548698,
          59.23188013054439,
          19.673217452897937,
          7.910864345690267,
          38.849254047290586,
          52.132412084815044,
          16.598779884634496,
          -0.4992678955052067,
          24.45557262194592,
          10.213825435236304,
          37.354507274711025,
          36.12347779856269,
          33.007591716351975,
          10.712091959111618,
          18.702199286774825,
          29.330256817112044,
          14.840003251344482,
          23.777987553043754,
          1.9228512275998306,
          38.93348811928676,
          37.98489142120723,
          -2.734405210093286,
          23.52546708085613,
          21.886890536569226,
          49.03459974218155,
          24.941244918434695,
          29.30100295549379,
          19.719863579903393
         ],
         "xaxis": "x",
         "y": [
          -13.659059012186333,
          -9.048384151541972,
          -14.37948171220452,
          -14.930076332066063,
          -14.64015628753662,
          -17.19144391873128,
          -15.348237117977222,
          -14.988887571759323,
          -17.08183602828677,
          -17.308233437838496,
          -13.104962451126315,
          -16.34918792913245,
          -15.541290375262308,
          -4.600458694028112,
          -6.324045367615737,
          -15.046895125470591,
          -6.23434905137701,
          -16.129229453948767,
          -3.731400070229402,
          -11.050281943091388,
          -7.208357669108133,
          -14.388714814990458,
          -15.119563532371584,
          -8.927343804986277,
          -11.254541344185226,
          -12.059725751300078,
          -8.133646005120161,
          -14.394099468129625,
          -4.752399060188282,
          -8.347441564254702,
          -13.98651112691518,
          -17.30507733038019,
          -16.92077413890766,
          -11.30470642696982,
          -9.846871333118669,
          -7.709352385325246,
          -17.44780040342981,
          -7.339897396122313,
          -12.54800061724189,
          -18.219164749738344,
          -11.039940667121638,
          -13.278175095951399,
          -9.935144317186824,
          -5.275079802897465,
          -4.847703896137914,
          -11.505910523613924,
          -12.747478052978881,
          -12.164585679386512,
          -5.570682387315199,
          -5.2878493907033945,
          -11.183147968669894,
          -12.87841273382029,
          -3.8278716403671473,
          -12.374771972308741,
          -4.798774752487793,
          -12.276068803270938,
          14.757464211284214,
          5.907003614033988,
          8.203340986090117,
          11.109464425563374,
          -8.289813071928942,
          10.77646994741676,
          -2.336820763909333,
          -11.467600559060473,
          -13.788931556093472,
          24.23319747157815,
          -12.844661730344695,
          -1.6171572951460564,
          -0.2613288089919475,
          -2.4731707363301516,
          5.119093944488406,
          2.2845783488670883,
          -4.0739877652802905,
          -12.237046735049091,
          -16.480034409198936,
          -5.696816380133735,
          -7.85315069467889,
          -10.562531275373056,
          -14.315208755564035,
          -16.101742308900796,
          5.409359560539695,
          -12.667964362535319,
          -12.67644287659288,
          -5.75261224295353,
          -4.3732188280804705,
          -1.7731225317066932,
          -19.458314237038216,
          -3.8848411882581533,
          -13.68813615613545,
          -9.911971784333376,
          -9.390519391015943,
          3.6547593862947836,
          -5.0943035338612095,
          -14.537098177176095,
          -0.8268877959119787,
          1.772807486592074,
          -11.228356843429049,
          -15.603862509777422,
          -10.476589769968848,
          11.85850625533337,
          -12.891983427216658,
          -14.159599685809965,
          0.23537743407180278,
          -1.8926507155812327,
          -16.48473620173147,
          -5.321888445230045,
          -2.212417855091058,
          -6.450283774557165,
          -6.49748668302962,
          -10.77194763045206,
          -7.653820945931935,
          -11.973214874155568,
          -5.352825234952384,
          7.943810769996126,
          8.842238052462974,
          -11.934285838272151,
          -6.583007173188253,
          -6.438595608474644,
          -4.897226046714983,
          -11.052493780906588,
          -12.750213217208566,
          -6.503230854667039,
          -9.164601082292757,
          -3.760950324000114,
          7.543214766099052,
          -7.837583925719296,
          -15.135265471617071,
          -2.1427678215789614,
          17.503640545825817,
          -13.137917281103773,
          11.919590122448415,
          7.828717008209376,
          8.761345690323356,
          2.4323623571962516,
          -14.073290943914438,
          22.618030720399638,
          -1.0065961359261912,
          17.758820981428073,
          -8.75401932259607,
          -12.324920375279055,
          -13.568333804099312,
          16.445343444267245,
          -9.250308564920099,
          10.862353182361012,
          11.577952912675116,
          -0.13792681594196493,
          -3.598113692896491,
          -5.574241644707429,
          2.312783928762876,
          -8.537563936060236,
          4.5211037346803264,
          -8.59629782452993,
          -9.057498600061562,
          -6.8754003492061795,
          2.879560792335979,
          -9.520190650628995,
          -15.113869833188978,
          1.7951429009442477,
          8.951563206227023,
          -1.3272500541080994,
          14.41229349176495,
          -2.378245994184899,
          15.463943486262389,
          5.146278955346479,
          -6.222266227429233,
          -16.81861813961198,
          16.369580389947487,
          -14.807122706682545,
          -0.35006205694342335,
          -4.201469469018828,
          6.837737823456164,
          -7.898477346037811,
          -10.315243569804908,
          -2.729786464646816,
          -10.162422632601276,
          -8.070113888143013,
          -1.2376532302153085,
          2.8867512468545073,
          -2.4994717324072324,
          -7.020971226028611,
          -0.16951308562275427,
          -6.83935518618454,
          -13.50956425726038,
          -1.21865180081062,
          -10.472551657561725,
          14.311146845221822,
          20.06282984546055,
          11.889148782626618,
          18.403575491362485,
          2.0294215712959245,
          9.280717772170236,
          -10.942791167311567,
          3.3970097979373746,
          15.848346096819384,
          9.817358364045285,
          20.99854833523621,
          -12.608083725274767,
          2.8866545337692546,
          -12.44744020118012,
          6.735576522036929,
          -8.207252090368307,
          20.94040286204539,
          6.405911051268251,
          -10.738559144518371,
          4.483179544839459,
          -12.18119113422955,
          19.997415935951985,
          -9.106556018416175,
          5.57688225291275,
          2.200950241443428,
          -1.6370747945140967,
          -10.210433778573067,
          -1.2752720490424923,
          -4.916066567978797,
          0.13034157151369113,
          4.288369573282822,
          5.973632109967651,
          14.872436679751845,
          -16.528374753569476,
          3.7675207863040985,
          -0.49458993982698296,
          -6.135126285656388,
          -5.369131437337813,
          2.500969034621118,
          1.2774343204472547,
          11.520305301073536,
          19.008726649082796,
          7.887235220621808,
          3.387697549240341,
          4.077425160858433,
          27.45075562128961,
          8.835109648022168,
          1.1989729604590733,
          19.798208898496405,
          -9.203873114284326,
          -10.43669753363299,
          9.512604332909083,
          -14.052144038111916,
          -13.720919188647352,
          6.569940258703287,
          -6.745058599607904,
          -8.66349684373003,
          10.088155302293877,
          -4.85610273997106,
          -12.216875668586773,
          -3.779396269633948,
          0.04179094880376842
         ],
         "yaxis": "y"
        },
        {
         "hovertemplate": "sex=False<br>PCA_0=%{x}<br>PCA_1=%{y}<extra></extra>",
         "legendgroup": "False",
         "marker": {
          "color": "#EF553B",
          "symbol": "circle"
         },
         "mode": "markers",
         "name": "False",
         "orientation": "v",
         "showlegend": true,
         "type": "scatter",
         "x": [
          -32.159155348036975,
          -29.130169948677434,
          -45.942615133264006,
          -12.557230242202898,
          -23.490587884258264,
          -26.233739863319077,
          -46.72801723368318,
          -7.602972635139331,
          -5.365779936659441,
          20.232436230346217,
          -28.283427589599867,
          -32.56642788736782,
          -15.846738867984756,
          -50.108289099659395,
          -39.584430614207974,
          -38.707747786658985,
          -39.44700011454409,
          3.3905239282738537,
          -48.163098238802945,
          -6.680867495934675,
          -35.91627895000723,
          18.607704579121563,
          -23.0723524832796,
          26.049492774839848,
          -1.2714328359606095,
          -29.39684273500805,
          -19.197868299852363,
          -4.705543115608156,
          -3.2427439682100827,
          -45.2940105975454,
          -43.54966692191074,
          -30.063161835966465,
          20.84738673007806,
          -31.660498134457573,
          -46.72308397497469,
          -31.91569433944601,
          10.720476554717603,
          -30.063739536371344,
          -6.429408364702186,
          -24.8092967939805,
          -17.780419724604045,
          -18.846001302900934,
          -30.267952338752256,
          -37.51521581079408,
          -20.60930403972774,
          -23.33324658231611,
          -26.994482467643063,
          -38.49062549178693,
          4.203494529351131,
          -15.223002339705449,
          -16.40247242893542,
          -0.23739765823057687,
          -26.329804382090952,
          -45.356686098284996,
          -32.01159340235303,
          -31.24915889334044,
          -16.195496076979346,
          -21.28234952941454,
          -17.308525274186046,
          -19.990158725077794,
          -29.286622922258978,
          4.294179452734545,
          -20.298707719982843,
          -3.133508720697843,
          22.669723356708694,
          -32.52823475295247,
          -35.23813040109127,
          13.52738624119976,
          -17.474500723745162,
          -26.681943186195017,
          -41.432184383637946,
          -35.209514542298194,
          -33.29188746625015,
          -27.00067075217213,
          -13.246017791414166,
          -26.249281378739155,
          -27.567822286920418,
          -39.17042236418749,
          8.006348682412806,
          -12.378298339913602,
          -4.955614495773847,
          -23.708183914731023,
          -10.99641653941078,
          7.059866935242207,
          -36.072870850015754,
          -23.174786281840632,
          -32.78874308993309,
          -40.45600774920479,
          -10.514535770529307,
          -29.37491941971247,
          -12.49049442078561,
          -23.768046743687815,
          -17.61592912672131,
          -44.79384992798619,
          -28.70911071320565,
          -39.483641863583195,
          -21.894941947154646,
          -24.73090664406369,
          -6.288214269376565,
          -13.422190704575481,
          -30.95130419560342,
          -1.4108975958678203,
          -33.6228290513347,
          -1.69720849250932,
          -19.245071479042796,
          -25.811591822717528,
          -7.093395381640097,
          -13.801408260414918,
          -1.3206497735888236,
          -6.47310013337491,
          -21.758294788229392,
          57.974262006940606,
          -30.79836878417352,
          -12.87385300486416,
          -23.040329566479137,
          -35.91438475917917,
          -20.232684276547438,
          -27.180731237383075,
          -52.149852169650224,
          -35.22503093731329,
          -40.34378710790933,
          -14.858258282807936,
          -53.15754632468292,
          -19.960399463081686,
          -24.600169443422523,
          -13.303480325087769,
          -35.36954636563916,
          4.562506472581494,
          -29.919589809972106,
          -22.723020772927345,
          -21.289170645147873,
          -22.147000671974176,
          -27.343613076129714,
          -52.173611212698816,
          -13.844925648475025,
          -40.63972676055941,
          -16.82871677132742,
          -39.93489946409203,
          -12.61013043962284,
          -25.784812868021938,
          -24.936178764062433,
          -31.541321242884262,
          -20.624472101739443,
          -31.793124662425992,
          -28.73535826267904,
          -19.97349626419074,
          -34.04424987171394,
          -23.72497578034174,
          -5.020195468916777,
          -5.2981111462195045,
          -14.199405896553156,
          -23.73560594565783,
          -8.63446455242834,
          -31.755494261305344,
          3.1357994745296893,
          -24.644162593341356,
          -19.44220234071971,
          -11.578469683133608,
          -0.4030077463986182,
          32.28288458499015,
          -26.7368053970403,
          -22.9935498576722,
          -0.8324245175115114,
          13.763907351919752,
          -10.2492190659474,
          -2.140022583342213,
          -9.53727485749988,
          -5.594651238125627,
          -19.33005689452733,
          -15.569005780705815,
          -13.237581449496751,
          -20.261880688659435,
          24.89046174292166,
          11.33810126649158,
          -23.799831963791295,
          -15.194198270412686,
          -18.823488206251568,
          4.1881811654115,
          -13.05916327180164,
          -39.49319491978791,
          13.371816422391092,
          -27.408051268364048,
          -27.609291835799215,
          -28.235184962501737,
          -0.8413184144434653,
          -6.992031914790353,
          -41.87786410909417,
          -18.473076226965016,
          -3.981807041891561,
          -21.29789445775875,
          -8.56886331121393,
          -23.947601189972737,
          -37.95964814639122,
          -2.935013967840512,
          14.15637391272036,
          -13.984719017874088,
          -8.10848523351873,
          -25.61569194500126,
          -25.621477025766577,
          -22.212430968526157,
          2.8562622854677104,
          -21.260685551095015,
          -23.47315055804699,
          -28.059103921331467,
          -16.84199068200134,
          -0.9739986709764957,
          -20.738567906565038,
          -41.390981892167595,
          6.342540455060842,
          16.892924992086332,
          -4.98686523126836,
          -16.304156999876295,
          -18.291960027188846,
          -27.054651130918064,
          -26.326265537142216,
          3.6168677977179517,
          -34.72594869679225,
          -13.565790401064351,
          27.36799227802292,
          -6.430428438635762,
          0.5141047215098009,
          -21.209420823573005,
          7.010509092604557,
          -17.45524000623076,
          -22.49750508987474,
          -27.653162220325875,
          59.43729452955756,
          -30.567489734280706,
          9.91148489722625,
          18.705749124270667,
          -12.006950545486344,
          6.03408695372823,
          -9.29977088539695,
          -21.23485478000934,
          29.61266716375775,
          -14.418718236485986,
          -23.55173164399334,
          -30.845181914789716,
          -24.812314439932525,
          -20.071146924906778,
          0.5336716462242179,
          -15.934862851236133,
          -28.587581878924016,
          -10.613063305985428,
          -17.75342969657254,
          -22.909934306250076,
          -40.87535893068713,
          -23.565105037303027,
          -11.459458402009584,
          -14.501399794710808,
          -8.625110523805578,
          7.7510940127046775,
          -3.4641712085410847,
          -6.770986248932421,
          14.428211528141548,
          1.6443355975536749,
          -25.843139604715244,
          -40.48259699352179,
          -2.5886780368960833,
          3.5539477186027657
         ],
         "xaxis": "x",
         "y": [
          -0.5128952986982505,
          -10.5954649089644,
          -5.498766360329827,
          9.464777393663665,
          -0.8595726160658331,
          -3.3251467092301836,
          -4.411323706855486,
          2.007541986933102,
          4.63353285460613,
          20.045431390904028,
          -0.6369048846682903,
          -6.555393886604616,
          -3.7297136515265366,
          5.9982441984788615,
          -4.850748062299878,
          3.592473614140617,
          -2.174311432463641,
          7.774158441469623,
          -4.018154892751478,
          -3.9707742345164587,
          2.828416208765227,
          0.8266271840521984,
          0.08148691969204039,
          -1.0024772552547223,
          -3.060754674109201,
          -1.6554893013822485,
          -3.316111333957455,
          3.9235333886602444,
          -2.9454961662180743,
          -5.139962818979913,
          18.00805749476338,
          -3.0090438306472955,
          -4.925961957865835,
          1.4450289798074392,
          3.3370138582266877,
          -6.841017957535703,
          6.202908533246374,
          1.7540558769333836,
          0.8089996159584533,
          -6.919549304927695,
          -3.7700049585788324,
          -1.015760768522463,
          -6.624134057296466,
          -4.841400139239802,
          -1.7490530145504706,
          -7.985399316480871,
          -6.069006002015699,
          -3.1260148026697396,
          1.4329633861724462,
          15.660770475879936,
          -8.173171859666596,
          5.15740912432837,
          -1.5127566967059505,
          -7.022194564082232,
          -2.346405195258071,
          -5.604175298127844,
          -4.072546409345809,
          -6.497952755713768,
          12.008175717613003,
          -4.434249978280657,
          8.913624859865521,
          2.32051819496428,
          2.433284366708152,
          -5.32996960702162,
          21.0210583128998,
          -3.1593282989114795,
          -9.25269372939916,
          22.38403392675636,
          -3.9942654300048406,
          9.594341967490562,
          10.843581632460099,
          2.8948243911810008,
          10.980323995176274,
          -1.3175189489125134,
          16.09128203713449,
          22.462246862115915,
          -0.4678527287896092,
          20.83023772996384,
          12.040554026938059,
          -13.022719047454755,
          -2.771181501415442,
          -8.56340739982911,
          -7.621775253157931,
          -3.446627741719921,
          -2.099262688766223,
          -8.888394935772963,
          16.70357403747653,
          -2.0851161509410407,
          -5.8447462929948575,
          -3.5965808694870405,
          4.883518237615073,
          0.12737633833548123,
          10.668233518963307,
          -5.993022127381814,
          -2.0194466640323174,
          -9.19879691509508,
          -5.587996516805405,
          6.425762298783469,
          -11.270070359816211,
          0.10841672890193046,
          1.8815413127846083,
          13.723187197022355,
          -5.009994788346572,
          1.0458031412992739,
          3.4214515030105623,
          -5.493952521740839,
          -9.363069118497377,
          0.7589820465718136,
          -2.583676566321031,
          -7.805855782582205,
          0.5269691460748148,
          6.639132150925997,
          -1.5519229744588006,
          -3.9286212104729596,
          -6.161308397434875,
          0.47140208805060124,
          -4.6402038114798865,
          -6.489809360667221,
          -4.540471556077345,
          -13.161532240842634,
          -5.861087795463068,
          -1.4247120683251608,
          2.2780757688833266,
          8.702428698580265,
          -9.066158509879166,
          1.4723438747771822,
          13.153099763998751,
          8.969562847740804,
          -3.7737938560608217,
          -3.973540958866493,
          -1.0729630062922713,
          -5.770027827440564,
          -3.589177773617575,
          -8.434154693313642,
          -0.7257391157975926,
          -1.653808522344624,
          -0.41348117739123463,
          0.526448718483097,
          -7.910825892609355,
          7.831706562704395,
          0.30404970370008366,
          -4.70351055850735,
          0.8410657307782812,
          1.3249338839073428,
          -4.4661859938130375,
          -4.384334556317518,
          -0.7167971383286743,
          10.13889390332756,
          18.771865545042996,
          12.943202518021053,
          21.19916950219775,
          7.22116177077237,
          19.012216494166182,
          3.4192855584293906,
          7.715728131665464,
          7.637834244731329,
          11.828048352086803,
          27.82757131544472,
          12.213472275120868,
          23.641421085544184,
          -3.961299253286539,
          -0.6920901612947858,
          -1.2729312421745038,
          23.2495636184722,
          5.112442894217788,
          10.903542452125693,
          37.79903199876354,
          -6.603801594411155,
          4.473860963376539,
          8.8114975104564,
          20.246682807193025,
          10.814631618617808,
          6.120480537120816,
          15.816642449046551,
          1.0180143136336135,
          -4.681336386128905,
          13.666878181473603,
          21.12222648963467,
          30.172679907297578,
          -3.736304378717528,
          2.0723607268470547,
          -1.4350039763466178,
          -3.624955851617127,
          9.682604905263457,
          9.876002179545852,
          -2.417232458363085,
          1.8039089963695703,
          4.799126427376443,
          12.309151950912147,
          11.662110886041251,
          10.335547518162585,
          6.318555864066053,
          12.777980356730803,
          25.76042585928209,
          7.678231758416222,
          6.148800733133717,
          13.124123752916045,
          10.47426163359628,
          12.945346025583378,
          9.298577728095632,
          17.79221354648307,
          11.594206456393701,
          -4.197296082355011,
          -3.1734985470005292,
          4.413048749029056,
          17.576987611380716,
          15.80750788270649,
          3.9763349602189924,
          33.247967396053404,
          7.2908320170325975,
          -4.778756270107197,
          8.393117467879941,
          3.2651498262812355,
          -3.697922053418633,
          -5.117130323296686,
          15.481593663511134,
          -3.4357399663266417,
          2.8256864908966524,
          8.242937898977834,
          8.324231791384921,
          20.968847666698938,
          0.3753322505584835,
          3.225599981981811,
          -4.288899513452068,
          -0.5296721590945227,
          7.931760265540772,
          26.344236551096795,
          -1.9414142810018014,
          18.12686295566568,
          19.961722060017888,
          1.7523213626814045,
          3.254410939554598,
          -1.2661766190634556,
          17.109741345158444,
          18.294503402816407,
          -2.328892079582407,
          9.786786390229327,
          4.565200720863491,
          1.9655272737041274,
          1.1993190809755976,
          -10.916563981989958,
          8.244150514096363,
          -1.8715497408659414,
          29.52945873861972,
          2.3920131839698544,
          -0.7031737485571968,
          7.502353102326504,
          5.470378156118172,
          13.48255726687401,
          -5.08468114707275,
          -5.094314283949585,
          18.092250818056286,
          4.353616606053973,
          6.269299635910259,
          26.220768897814274,
          -0.6245907585407268,
          -5.259853522838733,
          4.717363428004854,
          3.5349132997839146,
          18.23729334250975
         ],
         "yaxis": "y"
        }
       ],
       "layout": {
        "legend": {
         "title": {
          "text": "sex"
         },
         "tracegroupgap": 0
        },
        "margin": {
         "t": 60
        },
        "template": {
         "data": {
          "bar": [
           {
            "error_x": {
             "color": "#2a3f5f"
            },
            "error_y": {
             "color": "#2a3f5f"
            },
            "marker": {
             "line": {
              "color": "#E5ECF6",
              "width": 0.5
             },
             "pattern": {
              "fillmode": "overlay",
              "size": 10,
              "solidity": 0.2
             }
            },
            "type": "bar"
           }
          ],
          "barpolar": [
           {
            "marker": {
             "line": {
              "color": "#E5ECF6",
              "width": 0.5
             },
             "pattern": {
              "fillmode": "overlay",
              "size": 10,
              "solidity": 0.2
             }
            },
            "type": "barpolar"
           }
          ],
          "carpet": [
           {
            "aaxis": {
             "endlinecolor": "#2a3f5f",
             "gridcolor": "white",
             "linecolor": "white",
             "minorgridcolor": "white",
             "startlinecolor": "#2a3f5f"
            },
            "baxis": {
             "endlinecolor": "#2a3f5f",
             "gridcolor": "white",
             "linecolor": "white",
             "minorgridcolor": "white",
             "startlinecolor": "#2a3f5f"
            },
            "type": "carpet"
           }
          ],
          "choropleth": [
           {
            "colorbar": {
             "outlinewidth": 0,
             "ticks": ""
            },
            "type": "choropleth"
           }
          ],
          "contour": [
           {
            "colorbar": {
             "outlinewidth": 0,
             "ticks": ""
            },
            "colorscale": [
             [
              0,
              "#0d0887"
             ],
             [
              0.1111111111111111,
              "#46039f"
             ],
             [
              0.2222222222222222,
              "#7201a8"
             ],
             [
              0.3333333333333333,
              "#9c179e"
             ],
             [
              0.4444444444444444,
              "#bd3786"
             ],
             [
              0.5555555555555556,
              "#d8576b"
             ],
             [
              0.6666666666666666,
              "#ed7953"
             ],
             [
              0.7777777777777778,
              "#fb9f3a"
             ],
             [
              0.8888888888888888,
              "#fdca26"
             ],
             [
              1,
              "#f0f921"
             ]
            ],
            "type": "contour"
           }
          ],
          "contourcarpet": [
           {
            "colorbar": {
             "outlinewidth": 0,
             "ticks": ""
            },
            "type": "contourcarpet"
           }
          ],
          "heatmap": [
           {
            "colorbar": {
             "outlinewidth": 0,
             "ticks": ""
            },
            "colorscale": [
             [
              0,
              "#0d0887"
             ],
             [
              0.1111111111111111,
              "#46039f"
             ],
             [
              0.2222222222222222,
              "#7201a8"
             ],
             [
              0.3333333333333333,
              "#9c179e"
             ],
             [
              0.4444444444444444,
              "#bd3786"
             ],
             [
              0.5555555555555556,
              "#d8576b"
             ],
             [
              0.6666666666666666,
              "#ed7953"
             ],
             [
              0.7777777777777778,
              "#fb9f3a"
             ],
             [
              0.8888888888888888,
              "#fdca26"
             ],
             [
              1,
              "#f0f921"
             ]
            ],
            "type": "heatmap"
           }
          ],
          "heatmapgl": [
           {
            "colorbar": {
             "outlinewidth": 0,
             "ticks": ""
            },
            "colorscale": [
             [
              0,
              "#0d0887"
             ],
             [
              0.1111111111111111,
              "#46039f"
             ],
             [
              0.2222222222222222,
              "#7201a8"
             ],
             [
              0.3333333333333333,
              "#9c179e"
             ],
             [
              0.4444444444444444,
              "#bd3786"
             ],
             [
              0.5555555555555556,
              "#d8576b"
             ],
             [
              0.6666666666666666,
              "#ed7953"
             ],
             [
              0.7777777777777778,
              "#fb9f3a"
             ],
             [
              0.8888888888888888,
              "#fdca26"
             ],
             [
              1,
              "#f0f921"
             ]
            ],
            "type": "heatmapgl"
           }
          ],
          "histogram": [
           {
            "marker": {
             "pattern": {
              "fillmode": "overlay",
              "size": 10,
              "solidity": 0.2
             }
            },
            "type": "histogram"
           }
          ],
          "histogram2d": [
           {
            "colorbar": {
             "outlinewidth": 0,
             "ticks": ""
            },
            "colorscale": [
             [
              0,
              "#0d0887"
             ],
             [
              0.1111111111111111,
              "#46039f"
             ],
             [
              0.2222222222222222,
              "#7201a8"
             ],
             [
              0.3333333333333333,
              "#9c179e"
             ],
             [
              0.4444444444444444,
              "#bd3786"
             ],
             [
              0.5555555555555556,
              "#d8576b"
             ],
             [
              0.6666666666666666,
              "#ed7953"
             ],
             [
              0.7777777777777778,
              "#fb9f3a"
             ],
             [
              0.8888888888888888,
              "#fdca26"
             ],
             [
              1,
              "#f0f921"
             ]
            ],
            "type": "histogram2d"
           }
          ],
          "histogram2dcontour": [
           {
            "colorbar": {
             "outlinewidth": 0,
             "ticks": ""
            },
            "colorscale": [
             [
              0,
              "#0d0887"
             ],
             [
              0.1111111111111111,
              "#46039f"
             ],
             [
              0.2222222222222222,
              "#7201a8"
             ],
             [
              0.3333333333333333,
              "#9c179e"
             ],
             [
              0.4444444444444444,
              "#bd3786"
             ],
             [
              0.5555555555555556,
              "#d8576b"
             ],
             [
              0.6666666666666666,
              "#ed7953"
             ],
             [
              0.7777777777777778,
              "#fb9f3a"
             ],
             [
              0.8888888888888888,
              "#fdca26"
             ],
             [
              1,
              "#f0f921"
             ]
            ],
            "type": "histogram2dcontour"
           }
          ],
          "mesh3d": [
           {
            "colorbar": {
             "outlinewidth": 0,
             "ticks": ""
            },
            "type": "mesh3d"
           }
          ],
          "parcoords": [
           {
            "line": {
             "colorbar": {
              "outlinewidth": 0,
              "ticks": ""
             }
            },
            "type": "parcoords"
           }
          ],
          "pie": [
           {
            "automargin": true,
            "type": "pie"
           }
          ],
          "scatter": [
           {
            "fillpattern": {
             "fillmode": "overlay",
             "size": 10,
             "solidity": 0.2
            },
            "type": "scatter"
           }
          ],
          "scatter3d": [
           {
            "line": {
             "colorbar": {
              "outlinewidth": 0,
              "ticks": ""
             }
            },
            "marker": {
             "colorbar": {
              "outlinewidth": 0,
              "ticks": ""
             }
            },
            "type": "scatter3d"
           }
          ],
          "scattercarpet": [
           {
            "marker": {
             "colorbar": {
              "outlinewidth": 0,
              "ticks": ""
             }
            },
            "type": "scattercarpet"
           }
          ],
          "scattergeo": [
           {
            "marker": {
             "colorbar": {
              "outlinewidth": 0,
              "ticks": ""
             }
            },
            "type": "scattergeo"
           }
          ],
          "scattergl": [
           {
            "marker": {
             "colorbar": {
              "outlinewidth": 0,
              "ticks": ""
             }
            },
            "type": "scattergl"
           }
          ],
          "scattermapbox": [
           {
            "marker": {
             "colorbar": {
              "outlinewidth": 0,
              "ticks": ""
             }
            },
            "type": "scattermapbox"
           }
          ],
          "scatterpolar": [
           {
            "marker": {
             "colorbar": {
              "outlinewidth": 0,
              "ticks": ""
             }
            },
            "type": "scatterpolar"
           }
          ],
          "scatterpolargl": [
           {
            "marker": {
             "colorbar": {
              "outlinewidth": 0,
              "ticks": ""
             }
            },
            "type": "scatterpolargl"
           }
          ],
          "scatterternary": [
           {
            "marker": {
             "colorbar": {
              "outlinewidth": 0,
              "ticks": ""
             }
            },
            "type": "scatterternary"
           }
          ],
          "surface": [
           {
            "colorbar": {
             "outlinewidth": 0,
             "ticks": ""
            },
            "colorscale": [
             [
              0,
              "#0d0887"
             ],
             [
              0.1111111111111111,
              "#46039f"
             ],
             [
              0.2222222222222222,
              "#7201a8"
             ],
             [
              0.3333333333333333,
              "#9c179e"
             ],
             [
              0.4444444444444444,
              "#bd3786"
             ],
             [
              0.5555555555555556,
              "#d8576b"
             ],
             [
              0.6666666666666666,
              "#ed7953"
             ],
             [
              0.7777777777777778,
              "#fb9f3a"
             ],
             [
              0.8888888888888888,
              "#fdca26"
             ],
             [
              1,
              "#f0f921"
             ]
            ],
            "type": "surface"
           }
          ],
          "table": [
           {
            "cells": {
             "fill": {
              "color": "#EBF0F8"
             },
             "line": {
              "color": "white"
             }
            },
            "header": {
             "fill": {
              "color": "#C8D4E3"
             },
             "line": {
              "color": "white"
             }
            },
            "type": "table"
           }
          ]
         },
         "layout": {
          "annotationdefaults": {
           "arrowcolor": "#2a3f5f",
           "arrowhead": 0,
           "arrowwidth": 1
          },
          "autotypenumbers": "strict",
          "coloraxis": {
           "colorbar": {
            "outlinewidth": 0,
            "ticks": ""
           }
          },
          "colorscale": {
           "diverging": [
            [
             0,
             "#8e0152"
            ],
            [
             0.1,
             "#c51b7d"
            ],
            [
             0.2,
             "#de77ae"
            ],
            [
             0.3,
             "#f1b6da"
            ],
            [
             0.4,
             "#fde0ef"
            ],
            [
             0.5,
             "#f7f7f7"
            ],
            [
             0.6,
             "#e6f5d0"
            ],
            [
             0.7,
             "#b8e186"
            ],
            [
             0.8,
             "#7fbc41"
            ],
            [
             0.9,
             "#4d9221"
            ],
            [
             1,
             "#276419"
            ]
           ],
           "sequential": [
            [
             0,
             "#0d0887"
            ],
            [
             0.1111111111111111,
             "#46039f"
            ],
            [
             0.2222222222222222,
             "#7201a8"
            ],
            [
             0.3333333333333333,
             "#9c179e"
            ],
            [
             0.4444444444444444,
             "#bd3786"
            ],
            [
             0.5555555555555556,
             "#d8576b"
            ],
            [
             0.6666666666666666,
             "#ed7953"
            ],
            [
             0.7777777777777778,
             "#fb9f3a"
            ],
            [
             0.8888888888888888,
             "#fdca26"
            ],
            [
             1,
             "#f0f921"
            ]
           ],
           "sequentialminus": [
            [
             0,
             "#0d0887"
            ],
            [
             0.1111111111111111,
             "#46039f"
            ],
            [
             0.2222222222222222,
             "#7201a8"
            ],
            [
             0.3333333333333333,
             "#9c179e"
            ],
            [
             0.4444444444444444,
             "#bd3786"
            ],
            [
             0.5555555555555556,
             "#d8576b"
            ],
            [
             0.6666666666666666,
             "#ed7953"
            ],
            [
             0.7777777777777778,
             "#fb9f3a"
            ],
            [
             0.8888888888888888,
             "#fdca26"
            ],
            [
             1,
             "#f0f921"
            ]
           ]
          },
          "colorway": [
           "#636efa",
           "#EF553B",
           "#00cc96",
           "#ab63fa",
           "#FFA15A",
           "#19d3f3",
           "#FF6692",
           "#B6E880",
           "#FF97FF",
           "#FECB52"
          ],
          "font": {
           "color": "#2a3f5f"
          },
          "geo": {
           "bgcolor": "white",
           "lakecolor": "white",
           "landcolor": "#E5ECF6",
           "showlakes": true,
           "showland": true,
           "subunitcolor": "white"
          },
          "hoverlabel": {
           "align": "left"
          },
          "hovermode": "closest",
          "mapbox": {
           "style": "light"
          },
          "paper_bgcolor": "white",
          "plot_bgcolor": "#E5ECF6",
          "polar": {
           "angularaxis": {
            "gridcolor": "white",
            "linecolor": "white",
            "ticks": ""
           },
           "bgcolor": "#E5ECF6",
           "radialaxis": {
            "gridcolor": "white",
            "linecolor": "white",
            "ticks": ""
           }
          },
          "scene": {
           "xaxis": {
            "backgroundcolor": "#E5ECF6",
            "gridcolor": "white",
            "gridwidth": 2,
            "linecolor": "white",
            "showbackground": true,
            "ticks": "",
            "zerolinecolor": "white"
           },
           "yaxis": {
            "backgroundcolor": "#E5ECF6",
            "gridcolor": "white",
            "gridwidth": 2,
            "linecolor": "white",
            "showbackground": true,
            "ticks": "",
            "zerolinecolor": "white"
           },
           "zaxis": {
            "backgroundcolor": "#E5ECF6",
            "gridcolor": "white",
            "gridwidth": 2,
            "linecolor": "white",
            "showbackground": true,
            "ticks": "",
            "zerolinecolor": "white"
           }
          },
          "shapedefaults": {
           "line": {
            "color": "#2a3f5f"
           }
          },
          "ternary": {
           "aaxis": {
            "gridcolor": "white",
            "linecolor": "white",
            "ticks": ""
           },
           "baxis": {
            "gridcolor": "white",
            "linecolor": "white",
            "ticks": ""
           },
           "bgcolor": "#E5ECF6",
           "caxis": {
            "gridcolor": "white",
            "linecolor": "white",
            "ticks": ""
           }
          },
          "title": {
           "x": 0.05
          },
          "xaxis": {
           "automargin": true,
           "gridcolor": "white",
           "linecolor": "white",
           "ticks": "",
           "title": {
            "standoff": 15
           },
           "zerolinecolor": "white",
           "zerolinewidth": 2
          },
          "yaxis": {
           "automargin": true,
           "gridcolor": "white",
           "linecolor": "white",
           "ticks": "",
           "title": {
            "standoff": 15
           },
           "zerolinecolor": "white",
           "zerolinewidth": 2
          }
         }
        },
        "xaxis": {
         "anchor": "y",
         "domain": [
          0,
          1
         ],
         "title": {
          "text": "PCA_0"
         }
        },
        "yaxis": {
         "anchor": "x",
         "domain": [
          0,
          1
         ],
         "title": {
          "text": "PCA_1"
         }
        }
       }
      }
     },
     "metadata": {},
     "output_type": "display_data"
    }
   ],
   "source": [
    "pca = PCA(n_components=2)\n",
    "x = pca.fit_transform(body_df.drop('sex', axis=1))\n",
    "pca_df = pd.DataFrame(data=x, columns=[f'PCA_{i}' for i in range(x.shape[1])])\n",
    "pca_df['sex'] = body_df['sex']\n",
    "fig = px.scatter(pca_df, x='PCA_0', y='PCA_1', color='sex')\n",
    "fig.show()"
   ]
  },
  {
   "cell_type": "code",
   "execution_count": 221,
   "metadata": {},
   "outputs": [],
   "source": [
    "# Part 4 Task 4\n",
    "x = body_df.drop('sex', axis=1)\n",
    "y = body_df['sex']\n",
    "umap_model = umap.UMAP()\n",
    "umap_model.fit(x, y)\n",
    "umap_data = umap_model.transform(x)\n",
    "umap_df = pd.DataFrame(\n",
    "    data=umap_data, columns=['UMAP_1', 'UMAP_2']\n",
    ")\n",
    "umap_df['sex'] = y\n"
   ]
  },
  {
   "cell_type": "code",
   "execution_count": 222,
   "metadata": {},
   "outputs": [
    {
     "data": {
      "application/vnd.plotly.v1+json": {
       "config": {
        "plotlyServerURL": "https://plot.ly"
       },
       "data": [
        {
         "hovertemplate": "sex=True<br>UMAP_1=%{x}<br>UMAP_2=%{y}<extra></extra>",
         "legendgroup": "True",
         "marker": {
          "color": "#636efa",
          "symbol": "circle"
         },
         "mode": "markers",
         "name": "True",
         "orientation": "v",
         "showlegend": true,
         "type": "scatter",
         "x": [
          5.344235897064209,
          4.297002792358398,
          3.0362722873687744,
          4.072446823120117,
          3.5710489749908447,
          3.421379804611206,
          1.881908655166626,
          3.311858654022217,
          5.3218913078308105,
          3.3275272846221924,
          3.2873692512512207,
          2.729127883911133,
          1.836272120475769,
          3.8173224925994873,
          4.27135705947876,
          3.3423612117767334,
          1.830886721611023,
          4.837841033935547,
          4.469858169555664,
          2.2405765056610107,
          2.596574068069458,
          3.4155972003936768,
          4.9095659255981445,
          2.188854217529297,
          2.611384630203247,
          1.8331489562988281,
          2.3698015213012695,
          4.208479881286621,
          5.627293109893799,
          5.730658054351807,
          3.8614730834960938,
          4.701995372772217,
          4.128509521484375,
          3.030754327774048,
          4.4453511238098145,
          5.792821407318115,
          4.651054382324219,
          5.633011341094971,
          4.60067892074585,
          3.2878901958465576,
          1.9536439180374146,
          2.1471893787384033,
          4.266889572143555,
          4.468579292297363,
          2.4319634437561035,
          1.982652187347412,
          3.1066112518310547,
          1.665906310081482,
          4.074113368988037,
          5.769918441772461,
          3.7927494049072266,
          2.0805814266204834,
          4.115502834320068,
          1.8265886306762695,
          6.0740742683410645,
          6.1461076736450195,
          4.681816577911377,
          3.8274810314178467,
          2.676255702972412,
          4.358734607696533,
          4.56957483291626,
          3.104341506958008,
          5.166473388671875,
          5.209366321563721,
          4.299612998962402,
          4.676398754119873,
          3.7793784141540527,
          4.344933032989502,
          1.4225025177001953,
          5.305620193481445,
          2.9960432052612305,
          3.705512762069702,
          5.162354946136475,
          4.862384796142578,
          4.700687885284424,
          5.444717884063721,
          4.402944564819336,
          5.957650661468506,
          4.167685031890869,
          1.6915749311447144,
          1.5717113018035889,
          3.168421506881714,
          4.305816173553467,
          5.248961448669434,
          4.7961578369140625,
          4.6447625160217285,
          3.647977352142334,
          2.5489141941070557,
          3.6424922943115234,
          4.217041492462158,
          4.634367942810059,
          4.448190689086914,
          4.184026718139648,
          4.694038391113281,
          1.4505159854888916,
          5.196000576019287,
          5.463680744171143,
          3.5059773921966553,
          2.1455116271972656,
          2.265479803085327,
          2.0872702598571777,
          4.494917392730713,
          6.117425441741943,
          4.978026390075684,
          6.117074489593506,
          5.672330856323242,
          2.7297017574310303,
          4.3103508949279785,
          5.755821228027344,
          4.588326930999756,
          5.541224956512451,
          1.87954843044281,
          5.592984199523926,
          2.177098512649536,
          2.8876829147338867,
          4.504251956939697,
          4.316936016082764,
          1.6503238677978516,
          2.79101300239563,
          5.766650676727295,
          2.4033095836639404,
          3.3158044815063477,
          4.229995250701904,
          1.472793698310852,
          3.7266688346862793,
          2.8220343589782715,
          2.8851981163024902,
          2.1073687076568604,
          2.1334991455078125,
          1.7808384895324707,
          3.85269832611084,
          3.781726360321045,
          2.7358996868133545,
          1.7635903358459473,
          4.1797590255737305,
          3.4946365356445312,
          5.172995090484619,
          2.418405055999756,
          5.36561393737793,
          3.9102671146392822,
          1.3915672302246094,
          2.675027847290039,
          2.9524075984954834,
          2.459277629852295,
          2.046147584915161,
          3.1242499351501465,
          4.8291497230529785,
          4.71561336517334,
          4.716266632080078,
          2.363497734069824,
          3.930417537689209,
          5.5721235275268555,
          3.969374418258667,
          2.7676820755004883,
          2.7711548805236816,
          4.898072719573975,
          5.060152053833008,
          5.418632507324219,
          1.6163371801376343,
          5.01027774810791,
          1.8680241107940674,
          2.1846001148223877,
          2.547607660293579,
          4.101167678833008,
          4.427353858947754,
          1.5544540882110596,
          1.9928466081619263,
          2.2380011081695557,
          1.528398036956787,
          4.286718845367432,
          2.5634796619415283,
          3.7534682750701904,
          2.516484022140503,
          4.301953315734863,
          1.6574350595474243,
          2.595378875732422,
          2.947821617126465,
          2.7340893745422363,
          2.7524220943450928,
          2.5617170333862305,
          4.59169340133667,
          2.5608723163604736,
          1.986832618713379,
          2.440828561782837,
          1.6110711097717285,
          2.5976312160491943,
          2.773013114929199,
          4.580020427703857,
          3.841576099395752,
          3.5343246459960938,
          3.5884554386138916,
          2.141282558441162,
          4.702154159545898,
          2.0151312351226807,
          2.0391290187835693,
          4.336828708648682,
          3.481344223022461,
          1.7516183853149414,
          1.6073280572891235,
          3.6788830757141113,
          5.66504430770874,
          2.568239450454712,
          3.618978977203369,
          2.6401309967041016,
          3.0727663040161133,
          4.356956958770752,
          4.574559211730957,
          2.152921676635742,
          3.8090980052948,
          2.281014919281006,
          4.032527446746826,
          1.4437404870986938,
          1.9064626693725586,
          4.873915672302246,
          2.650730848312378,
          2.6752777099609375,
          3.817018508911133,
          2.9468190670013428,
          3.2374165058135986,
          3.260802745819092,
          1.5611335039138794,
          4.139817237854004,
          4.8633036613464355,
          2.1761813163757324,
          2.317173719406128,
          4.014156341552734,
          4.632667064666748,
          3.7608301639556885,
          4.173779487609863,
          2.76765775680542,
          2.993948459625244,
          2.8588321208953857,
          4.862514972686768,
          4.002634048461914,
          2.380779504776001,
          3.7388997077941895,
          3.3925232887268066,
          4.779130458831787,
          1.7444987297058105,
          2.4697351455688477,
          4.911253929138184,
          2.561403512954712,
          3.881939172744751,
          1.325650691986084,
          2.1496284008026123,
          2.5930891036987305,
          3.2426986694335938
         ],
         "xaxis": "x",
         "y": [
          18.684703826904297,
          17.718128204345703,
          17.26058006286621,
          18.628173828125,
          18.34870719909668,
          18.09116554260254,
          16.67045021057129,
          17.942886352539062,
          18.573139190673828,
          18.198495864868164,
          18.022022247314453,
          17.62760353088379,
          16.227006912231445,
          17.503341674804688,
          17.605880737304688,
          18.04460906982422,
          16.275672912597656,
          18.459808349609375,
          17.516565322875977,
          16.88079833984375,
          16.731287002563477,
          18.178817749023438,
          18.516334533691406,
          16.688074111938477,
          17.417171478271484,
          15.935884475708008,
          16.711193084716797,
          18.709434509277344,
          18.477216720581055,
          18.863601684570312,
          18.525434494018555,
          18.333351135253906,
          18.71388053894043,
          17.554271697998047,
          17.94547462463379,
          18.794309616088867,
          18.609193801879883,
          18.603355407714844,
          18.62310218811035,
          18.038251876831055,
          16.42513656616211,
          17.14508056640625,
          18.01983070373535,
          16.94575309753418,
          16.447431564331055,
          16.51359748840332,
          17.720632553100586,
          15.519186019897461,
          17.630001068115234,
          18.306076049804688,
          17.578792572021484,
          17.074378967285156,
          16.749649047851562,
          16.469297409057617,
          18.46050453186035,
          18.442697525024414,
          15.58171272277832,
          15.245553970336914,
          15.179072380065918,
          15.473902702331543,
          18.190975189208984,
          14.850534439086914,
          17.809581756591797,
          18.51970672607422,
          18.68016815185547,
          15.51247501373291,
          17.894393920898438,
          17.423606872558594,
          14.878518104553223,
          17.769506454467773,
          15.243011474609375,
          15.44054889678955,
          17.878286361694336,
          18.577848434448242,
          18.32611846923828,
          18.108190536499023,
          17.887374877929688,
          18.432790756225586,
          18.681190490722656,
          16.125225067138672,
          14.715280532836914,
          18.011838912963867,
          18.43193244934082,
          17.64133071899414,
          17.282604217529297,
          16.55921173095703,
          18.078428268432617,
          16.108203887939453,
          17.899919509887695,
          17.942190170288086,
          18.71707534790039,
          16.159082412719727,
          17.493223190307617,
          18.79567527770996,
          14.813712120056152,
          17.33722686767578,
          18.573619842529297,
          18.318084716796875,
          16.66901969909668,
          14.64786148071289,
          16.556251525878906,
          18.764921188354492,
          18.489473342895508,
          17.168439865112305,
          18.42102813720703,
          18.475570678710938,
          16.336780548095703,
          17.546344757080078,
          18.832901000976562,
          18.0650691986084,
          18.484399795532227,
          16.284183502197266,
          18.386436462402344,
          14.730096817016602,
          15.003015518188477,
          18.633298873901367,
          16.77349853515625,
          15.163308143615723,
          16.426490783691406,
          18.68813705444336,
          17.244497299194336,
          17.06894874572754,
          17.89299964904785,
          14.883864402770996,
          15.93571662902832,
          16.681787490844727,
          16.9520206451416,
          15.031132698059082,
          14.50666618347168,
          16.208635330200195,
          15.599200248718262,
          15.30445384979248,
          14.595624923706055,
          14.909241676330566,
          18.625534057617188,
          14.836798667907715,
          17.68342399597168,
          14.543295860290527,
          18.26598358154297,
          17.622814178466797,
          15.123138427734375,
          14.428288459777832,
          16.8300724029541,
          14.481148719787598,
          14.469465255737305,
          16.088720321655273,
          17.353134155273438,
          17.69428253173828,
          17.32520866394043,
          17.135536193847656,
          15.461044311523438,
          18.448570251464844,
          16.956159591674805,
          16.461624145507812,
          16.195289611816406,
          18.211223602294922,
          18.369972229003906,
          18.033756256103516,
          14.666474342346191,
          17.184640884399414,
          14.509013175964355,
          15.684540748596191,
          14.499587059020996,
          15.472189903259277,
          17.588844299316406,
          15.792927742004395,
          14.599434852600098,
          17.236494064331055,
          14.879295349121094,
          17.43836212158203,
          15.044194221496582,
          17.476455688476562,
          16.73651123046875,
          16.614288330078125,
          16.00737762451172,
          16.49220085144043,
          15.30794906616211,
          15.481842994689941,
          16.546424865722656,
          16.85887908935547,
          17.187131881713867,
          16.69720458984375,
          16.527284622192383,
          15.047096252441406,
          15.9306640625,
          14.452317237854004,
          14.496679306030273,
          15.628276824951172,
          14.965909004211426,
          15.124887466430664,
          15.002507209777832,
          17.071949005126953,
          17.16058921813965,
          14.418401718139648,
          14.547321319580078,
          15.36696720123291,
          17.639427185058594,
          14.877813339233398,
          15.966557502746582,
          15.108168601989746,
          18.82527732849121,
          14.376693725585938,
          15.224127769470215,
          16.808549880981445,
          15.331978797912598,
          18.010700225830078,
          15.521963119506836,
          16.53316307067871,
          15.848289489746094,
          14.851099014282227,
          16.647672653198242,
          15.021724700927734,
          15.165740013122559,
          17.345378875732422,
          16.57256317138672,
          15.06243896484375,
          15.358582496643066,
          14.70843505859375,
          17.98179817199707,
          15.191591262817383,
          14.766242027282715,
          16.409507751464844,
          17.341943740844727,
          14.892388343811035,
          14.773483276367188,
          15.304285049438477,
          15.537205696105957,
          15.302631378173828,
          16.169904708862305,
          14.678017616271973,
          14.492758750915527,
          14.865030288696289,
          17.042892456054688,
          15.270171165466309,
          16.36541175842285,
          17.66554832458496,
          15.687286376953125,
          18.42415428161621,
          16.109832763671875,
          14.73812198638916,
          18.01040267944336,
          16.854976654052734,
          15.120930671691895,
          15.200902938842773,
          17.06768035888672,
          16.10907745361328,
          15.780051231384277
         ],
         "yaxis": "y"
        },
        {
         "hovertemplate": "sex=False<br>UMAP_1=%{x}<br>UMAP_2=%{y}<extra></extra>",
         "legendgroup": "False",
         "marker": {
          "color": "#EF553B",
          "symbol": "circle"
         },
         "mode": "markers",
         "name": "False",
         "orientation": "v",
         "showlegend": true,
         "type": "scatter",
         "x": [
          20.31598472595215,
          20.590717315673828,
          19.74823760986328,
          21.045652389526367,
          21.421602249145508,
          20.375093460083008,
          19.68531608581543,
          21.55657386779785,
          21.24295425415039,
          20.523483276367188,
          19.777172088623047,
          20.06173324584961,
          21.625328063964844,
          19.353843688964844,
          19.959903717041016,
          19.636608123779297,
          19.956817626953125,
          20.854930877685547,
          19.67680549621582,
          21.703731536865234,
          19.950931549072266,
          21.069353103637695,
          20.52391815185547,
          21.12699317932129,
          21.72281265258789,
          19.865161895751953,
          21.623010635375977,
          20.82436180114746,
          21.78760528564453,
          19.578243255615234,
          19.133424758911133,
          20.612218856811523,
          21.119367599487305,
          20.31519317626953,
          19.55601692199707,
          20.978002548217773,
          21.02878761291504,
          20.29438591003418,
          21.489736557006836,
          21.15247344970703,
          21.548812866210938,
          21.00760841369629,
          20.572160720825195,
          19.869251251220703,
          21.19628143310547,
          21.140771865844727,
          20.924287796020508,
          19.974319458007812,
          21.302661895751953,
          19.848926544189453,
          21.542821884155273,
          21.285375595092773,
          20.88592529296875,
          19.66728401184082,
          20.766294479370117,
          20.136219024658203,
          21.766521453857422,
          21.34662437438965,
          19.60743522644043,
          21.304895401000977,
          19.272829055786133,
          21.334169387817383,
          21.044321060180664,
          21.676389694213867,
          20.548980712890625,
          20.67226791381836,
          20.0479793548584,
          20.541728973388672,
          21.724102020263672,
          19.084203720092773,
          19.30510139465332,
          19.599689483642578,
          19.097021102905273,
          21.03927993774414,
          19.224872589111328,
          19.03491973876953,
          20.69558334350586,
          19.096921920776367,
          20.57457160949707,
          21.798961639404297,
          21.623741149902344,
          21.297740936279297,
          21.60511589050293,
          21.517763137817383,
          19.722278594970703,
          21.318761825561523,
          19.111194610595703,
          19.79831314086914,
          21.941986083984375,
          20.28922462463379,
          21.172393798828125,
          20.23419189453125,
          19.077138900756836,
          19.64464569091797,
          21.02513885498047,
          19.876317977905273,
          21.342161178588867,
          20.164289474487305,
          21.798852920532227,
          21.079849243164062,
          20.47405242919922,
          21.16022491455078,
          20.137916564941406,
          21.397939682006836,
          20.0130615234375,
          20.228286743164062,
          21.85858154296875,
          21.077909469604492,
          21.666162490844727,
          21.6478271484375,
          20.401975631713867,
          20.20917510986328,
          20.487102508544922,
          21.385831832885742,
          21.017887115478516,
          19.89929962158203,
          20.73336410522461,
          21.214862823486328,
          19.634584426879883,
          20.775272369384766,
          19.82485580444336,
          21.159618377685547,
          19.43865966796875,
          19.803279876708984,
          21.368785858154297,
          21.46419334411621,
          19.456892013549805,
          19.988534927368164,
          20.925485610961914,
          21.411745071411133,
          21.170820236206055,
          21.09251594543457,
          21.185802459716797,
          19.62100601196289,
          21.04277801513672,
          19.645843505859375,
          21.130842208862305,
          19.666507720947266,
          21.515148162841797,
          20.00320816040039,
          20.035669326782227,
          21.162153244018555,
          20.57877540588379,
          19.62636375427246,
          21.185182571411133,
          21.62520980834961,
          20.49201011657715,
          20.004135131835938,
          20.103931427001953,
          20.19660758972168,
          19.764854431152344,
          19.1059513092041,
          19.904874801635742,
          19.61646842956543,
          20.913240432739258,
          19.26470375061035,
          19.54114532470703,
          19.761892318725586,
          20.66936492919922,
          20.542984008789062,
          20.10092544555664,
          21.238346099853516,
          21.402774810791016,
          20.64984130859375,
          20.75924301147461,
          20.555126190185547,
          19.6425838470459,
          21.80476188659668,
          19.86112403869629,
          19.847625732421875,
          19.825937271118164,
          19.221439361572266,
          21.036985397338867,
          20.479167938232422,
          20.732189178466797,
          21.837032318115234,
          19.34187889099121,
          20.512554168701172,
          19.70108985900879,
          19.77525520324707,
          21.142650604248047,
          20.194168090820312,
          21.048492431640625,
          19.587696075439453,
          20.60535430908203,
          21.718111038208008,
          19.388097763061523,
          20.304351806640625,
          20.50163459777832,
          19.61930274963379,
          20.549034118652344,
          19.120805740356445,
          19.35482406616211,
          19.658716201782227,
          21.107437133789062,
          20.50515365600586,
          20.32459831237793,
          19.764514923095703,
          19.49467658996582,
          19.245168685913086,
          20.651592254638672,
          19.660051345825195,
          21.250633239746094,
          21.050235748291016,
          21.02716064453125,
          20.230960845947266,
          19.18659019470215,
          19.494098663330078,
          19.596120834350586,
          20.979469299316406,
          21.711305618286133,
          20.004478454589844,
          21.568702697753906,
          20.284746170043945,
          20.62578010559082,
          20.654584884643555,
          19.842777252197266,
          21.074378967285156,
          20.731061935424805,
          21.15278434753418,
          20.04738998413086,
          20.4484806060791,
          21.150102615356445,
          21.749755859375,
          19.74394416809082,
          19.653465270996094,
          20.272319793701172,
          19.75287437438965,
          20.58317756652832,
          20.68775749206543,
          20.901222229003906,
          21.26902961730957,
          20.954612731933594,
          19.751937866210938,
          20.601024627685547,
          21.773866653442383,
          19.501258850097656,
          20.041667938232422,
          20.23758888244629,
          21.07325553894043,
          21.629972457885742,
          20.068971633911133,
          19.984834671020508,
          19.520519256591797,
          20.986125946044922,
          21.181354522705078,
          19.383840560913086,
          19.613582611083984,
          20.0669002532959,
          21.787965774536133,
          21.518535614013672,
          20.637548446655273,
          21.042564392089844,
          20.594789505004883,
          20.451866149902344,
          21.300830841064453,
          21.10917091369629,
          19.405197143554688,
          20.930171966552734,
          20.375659942626953
         ],
         "xaxis": "x",
         "y": [
          -11.847956657409668,
          -11.02047348022461,
          -12.663909912109375,
          -8.948942184448242,
          -11.036845207214355,
          -10.608922958374023,
          -12.641018867492676,
          -8.131326675415039,
          -8.421903610229492,
          -6.806264400482178,
          -10.913009643554688,
          -11.094830513000488,
          -9.539338111877441,
          -12.301468849182129,
          -12.401346206665039,
          -12.057275772094727,
          -11.772747993469238,
          -8.021658897399902,
          -12.594005584716797,
          -8.336588859558105,
          -11.901501655578613,
          -6.957474708557129,
          -10.392537117004395,
          -6.827910900115967,
          -8.179773330688477,
          -10.882394790649414,
          -9.704773902893066,
          -8.372638702392578,
          -8.252912521362305,
          -12.458385467529297,
          -11.021723747253418,
          -11.547015190124512,
          -6.829118251800537,
          -11.720884323120117,
          -12.3233060836792,
          -11.77061939239502,
          -7.286643028259277,
          -11.705360412597656,
          -8.00338363647461,
          -11.0231294631958,
          -9.78488540649414,
          -9.928314208984375,
          -11.303552627563477,
          -12.260042190551758,
          -10.203652381896973,
          -10.791069984436035,
          -11.055761337280273,
          -12.297989845275879,
          -7.60223913192749,
          -8.834148406982422,
          -9.909972190856934,
          -7.727075099945068,
          -11.345074653625488,
          -12.44991397857666,
          -11.652863502502441,
          -11.112638473510742,
          -9.54809856414795,
          -10.729388236999512,
          -9.32895278930664,
          -10.510177612304688,
          -10.766448974609375,
          -7.691780090332031,
          -9.857706069946289,
          -8.17776107788086,
          -6.728672981262207,
          -11.67240047454834,
          -12.03576946258545,
          -7.430788993835449,
          -9.565606117248535,
          -10.114377975463867,
          -11.598363876342773,
          -11.219056129455566,
          -10.59755802154541,
          -11.570466995239258,
          -9.237686157226562,
          -9.799068450927734,
          -11.392940521240234,
          -10.86196231842041,
          -7.594721794128418,
          -8.979682922363281,
          -8.754616737365723,
          -11.181191444396973,
          -8.976204872131348,
          -7.691704273223877,
          -11.215807914733887,
          -11.280494689941406,
          -10.761364936828613,
          -12.357686996459961,
          -8.724715232849121,
          -10.871267318725586,
          -8.701058387756348,
          -10.405863761901855,
          -9.66434097290039,
          -12.528809547424316,
          -11.593559265136719,
          -12.373833656311035,
          -10.87873649597168,
          -10.084123611450195,
          -8.777029991149902,
          -9.350157737731934,
          -11.699079513549805,
          -7.857453346252441,
          -11.181982040405273,
          -7.7379069328308105,
          -9.831133842468262,
          -10.765214920043945,
          -8.648528099060059,
          -9.392152786254883,
          -8.073375701904297,
          -8.802702903747559,
          -10.20654296875,
          -6.147207736968994,
          -11.748047828674316,
          -9.027975082397461,
          -10.604046821594238,
          -11.949234962463379,
          -10.50561237335205,
          -11.241943359375,
          -12.652626037597656,
          -11.820266723632812,
          -12.479540824890137,
          -9.9188232421875,
          -12.519295692443848,
          -9.31755256652832,
          -11.179594993591309,
          -9.360891342163086,
          -11.168082237243652,
          -7.629399299621582,
          -11.6934814453125,
          -10.920479774475098,
          -10.28322982788086,
          -10.542811393737793,
          -11.56734561920166,
          -12.651847839355469,
          -9.264654159545898,
          -12.306989669799805,
          -9.765422821044922,
          -12.196696281433105,
          -9.045487403869629,
          -10.175450325012207,
          -10.415610313415527,
          -11.64238166809082,
          -9.99616527557373,
          -10.905973434448242,
          -11.597909927368164,
          -9.847668647766113,
          -11.86864185333252,
          -9.686284065246582,
          -8.11247730255127,
          -8.186750411987305,
          -8.552896499633789,
          -9.929452896118164,
          -8.394723892211914,
          -11.145182609558105,
          -7.588883399963379,
          -9.9060697555542,
          -9.444160461425781,
          -8.372224807739258,
          -7.7928361892700195,
          -6.703226089477539,
          -10.789854049682617,
          -10.36446762084961,
          -8.085835456848145,
          -7.1429948806762695,
          -9.086341857910156,
          -7.9368367195129395,
          -8.361302375793457,
          -8.572206497192383,
          -9.840531349182129,
          -9.191265106201172,
          -8.46519947052002,
          -9.514970779418945,
          -6.954861640930176,
          -7.381752967834473,
          -10.335650444030762,
          -9.454033851623535,
          -9.426316261291504,
          -7.6686787605285645,
          -8.339400291442871,
          -12.167322158813477,
          -7.09184455871582,
          -10.765388488769531,
          -11.163402557373047,
          -10.088924407958984,
          -7.8262248039245605,
          -8.90668773651123,
          -12.176840782165527,
          -9.509858131408691,
          -7.936177730560303,
          -9.580865859985352,
          -8.080551147460938,
          -9.91775894165039,
          -10.915547370910645,
          -8.261260986328125,
          -7.081277370452881,
          -9.087329864501953,
          -8.45755386352539,
          -10.056203842163086,
          -9.728752136230469,
          -9.789554595947266,
          -7.714500427246094,
          -9.713507652282715,
          -10.741209030151367,
          -11.406266212463379,
          -9.601456642150879,
          -7.833839416503906,
          -9.597140312194824,
          -12.0138521194458,
          -8.234733581542969,
          -7.079995632171631,
          -8.406058311462402,
          -9.331828117370605,
          -9.525365829467773,
          -10.667074203491211,
          -10.707256317138672,
          -7.506426811218262,
          -11.409603118896484,
          -9.356548309326172,
          -6.725458145141602,
          -7.972720146179199,
          -7.83671760559082,
          -10.413235664367676,
          -7.387867450714111,
          -9.5706205368042,
          -10.490384101867676,
          -10.280784606933594,
          -6.214836597442627,
          -10.931116104125977,
          -7.352329730987549,
          -6.906166076660156,
          -9.130544662475586,
          -7.585764408111572,
          -9.159140586853027,
          -9.076386451721191,
          -6.648860454559326,
          -9.457412719726562,
          -9.856607437133789,
          -11.606477737426758,
          -10.527292251586914,
          -9.859458923339844,
          -8.393179893493652,
          -9.302035331726074,
          -10.854341506958008,
          -8.512041091918945,
          -9.679468154907227,
          -10.333763122558594,
          -11.80864429473877,
          -10.060691833496094,
          -8.584712028503418,
          -9.379096984863281,
          -8.778068542480469,
          -7.256782531738281,
          -8.299911499023438,
          -8.888862609863281,
          -7.065673351287842,
          -8.231996536254883,
          -11.145246505737305,
          -11.595199584960938,
          -8.278543472290039,
          -7.601003170013428
         ],
         "yaxis": "y"
        }
       ],
       "layout": {
        "legend": {
         "title": {
          "text": "sex"
         },
         "tracegroupgap": 0
        },
        "margin": {
         "t": 60
        },
        "template": {
         "data": {
          "bar": [
           {
            "error_x": {
             "color": "#2a3f5f"
            },
            "error_y": {
             "color": "#2a3f5f"
            },
            "marker": {
             "line": {
              "color": "#E5ECF6",
              "width": 0.5
             },
             "pattern": {
              "fillmode": "overlay",
              "size": 10,
              "solidity": 0.2
             }
            },
            "type": "bar"
           }
          ],
          "barpolar": [
           {
            "marker": {
             "line": {
              "color": "#E5ECF6",
              "width": 0.5
             },
             "pattern": {
              "fillmode": "overlay",
              "size": 10,
              "solidity": 0.2
             }
            },
            "type": "barpolar"
           }
          ],
          "carpet": [
           {
            "aaxis": {
             "endlinecolor": "#2a3f5f",
             "gridcolor": "white",
             "linecolor": "white",
             "minorgridcolor": "white",
             "startlinecolor": "#2a3f5f"
            },
            "baxis": {
             "endlinecolor": "#2a3f5f",
             "gridcolor": "white",
             "linecolor": "white",
             "minorgridcolor": "white",
             "startlinecolor": "#2a3f5f"
            },
            "type": "carpet"
           }
          ],
          "choropleth": [
           {
            "colorbar": {
             "outlinewidth": 0,
             "ticks": ""
            },
            "type": "choropleth"
           }
          ],
          "contour": [
           {
            "colorbar": {
             "outlinewidth": 0,
             "ticks": ""
            },
            "colorscale": [
             [
              0,
              "#0d0887"
             ],
             [
              0.1111111111111111,
              "#46039f"
             ],
             [
              0.2222222222222222,
              "#7201a8"
             ],
             [
              0.3333333333333333,
              "#9c179e"
             ],
             [
              0.4444444444444444,
              "#bd3786"
             ],
             [
              0.5555555555555556,
              "#d8576b"
             ],
             [
              0.6666666666666666,
              "#ed7953"
             ],
             [
              0.7777777777777778,
              "#fb9f3a"
             ],
             [
              0.8888888888888888,
              "#fdca26"
             ],
             [
              1,
              "#f0f921"
             ]
            ],
            "type": "contour"
           }
          ],
          "contourcarpet": [
           {
            "colorbar": {
             "outlinewidth": 0,
             "ticks": ""
            },
            "type": "contourcarpet"
           }
          ],
          "heatmap": [
           {
            "colorbar": {
             "outlinewidth": 0,
             "ticks": ""
            },
            "colorscale": [
             [
              0,
              "#0d0887"
             ],
             [
              0.1111111111111111,
              "#46039f"
             ],
             [
              0.2222222222222222,
              "#7201a8"
             ],
             [
              0.3333333333333333,
              "#9c179e"
             ],
             [
              0.4444444444444444,
              "#bd3786"
             ],
             [
              0.5555555555555556,
              "#d8576b"
             ],
             [
              0.6666666666666666,
              "#ed7953"
             ],
             [
              0.7777777777777778,
              "#fb9f3a"
             ],
             [
              0.8888888888888888,
              "#fdca26"
             ],
             [
              1,
              "#f0f921"
             ]
            ],
            "type": "heatmap"
           }
          ],
          "heatmapgl": [
           {
            "colorbar": {
             "outlinewidth": 0,
             "ticks": ""
            },
            "colorscale": [
             [
              0,
              "#0d0887"
             ],
             [
              0.1111111111111111,
              "#46039f"
             ],
             [
              0.2222222222222222,
              "#7201a8"
             ],
             [
              0.3333333333333333,
              "#9c179e"
             ],
             [
              0.4444444444444444,
              "#bd3786"
             ],
             [
              0.5555555555555556,
              "#d8576b"
             ],
             [
              0.6666666666666666,
              "#ed7953"
             ],
             [
              0.7777777777777778,
              "#fb9f3a"
             ],
             [
              0.8888888888888888,
              "#fdca26"
             ],
             [
              1,
              "#f0f921"
             ]
            ],
            "type": "heatmapgl"
           }
          ],
          "histogram": [
           {
            "marker": {
             "pattern": {
              "fillmode": "overlay",
              "size": 10,
              "solidity": 0.2
             }
            },
            "type": "histogram"
           }
          ],
          "histogram2d": [
           {
            "colorbar": {
             "outlinewidth": 0,
             "ticks": ""
            },
            "colorscale": [
             [
              0,
              "#0d0887"
             ],
             [
              0.1111111111111111,
              "#46039f"
             ],
             [
              0.2222222222222222,
              "#7201a8"
             ],
             [
              0.3333333333333333,
              "#9c179e"
             ],
             [
              0.4444444444444444,
              "#bd3786"
             ],
             [
              0.5555555555555556,
              "#d8576b"
             ],
             [
              0.6666666666666666,
              "#ed7953"
             ],
             [
              0.7777777777777778,
              "#fb9f3a"
             ],
             [
              0.8888888888888888,
              "#fdca26"
             ],
             [
              1,
              "#f0f921"
             ]
            ],
            "type": "histogram2d"
           }
          ],
          "histogram2dcontour": [
           {
            "colorbar": {
             "outlinewidth": 0,
             "ticks": ""
            },
            "colorscale": [
             [
              0,
              "#0d0887"
             ],
             [
              0.1111111111111111,
              "#46039f"
             ],
             [
              0.2222222222222222,
              "#7201a8"
             ],
             [
              0.3333333333333333,
              "#9c179e"
             ],
             [
              0.4444444444444444,
              "#bd3786"
             ],
             [
              0.5555555555555556,
              "#d8576b"
             ],
             [
              0.6666666666666666,
              "#ed7953"
             ],
             [
              0.7777777777777778,
              "#fb9f3a"
             ],
             [
              0.8888888888888888,
              "#fdca26"
             ],
             [
              1,
              "#f0f921"
             ]
            ],
            "type": "histogram2dcontour"
           }
          ],
          "mesh3d": [
           {
            "colorbar": {
             "outlinewidth": 0,
             "ticks": ""
            },
            "type": "mesh3d"
           }
          ],
          "parcoords": [
           {
            "line": {
             "colorbar": {
              "outlinewidth": 0,
              "ticks": ""
             }
            },
            "type": "parcoords"
           }
          ],
          "pie": [
           {
            "automargin": true,
            "type": "pie"
           }
          ],
          "scatter": [
           {
            "fillpattern": {
             "fillmode": "overlay",
             "size": 10,
             "solidity": 0.2
            },
            "type": "scatter"
           }
          ],
          "scatter3d": [
           {
            "line": {
             "colorbar": {
              "outlinewidth": 0,
              "ticks": ""
             }
            },
            "marker": {
             "colorbar": {
              "outlinewidth": 0,
              "ticks": ""
             }
            },
            "type": "scatter3d"
           }
          ],
          "scattercarpet": [
           {
            "marker": {
             "colorbar": {
              "outlinewidth": 0,
              "ticks": ""
             }
            },
            "type": "scattercarpet"
           }
          ],
          "scattergeo": [
           {
            "marker": {
             "colorbar": {
              "outlinewidth": 0,
              "ticks": ""
             }
            },
            "type": "scattergeo"
           }
          ],
          "scattergl": [
           {
            "marker": {
             "colorbar": {
              "outlinewidth": 0,
              "ticks": ""
             }
            },
            "type": "scattergl"
           }
          ],
          "scattermapbox": [
           {
            "marker": {
             "colorbar": {
              "outlinewidth": 0,
              "ticks": ""
             }
            },
            "type": "scattermapbox"
           }
          ],
          "scatterpolar": [
           {
            "marker": {
             "colorbar": {
              "outlinewidth": 0,
              "ticks": ""
             }
            },
            "type": "scatterpolar"
           }
          ],
          "scatterpolargl": [
           {
            "marker": {
             "colorbar": {
              "outlinewidth": 0,
              "ticks": ""
             }
            },
            "type": "scatterpolargl"
           }
          ],
          "scatterternary": [
           {
            "marker": {
             "colorbar": {
              "outlinewidth": 0,
              "ticks": ""
             }
            },
            "type": "scatterternary"
           }
          ],
          "surface": [
           {
            "colorbar": {
             "outlinewidth": 0,
             "ticks": ""
            },
            "colorscale": [
             [
              0,
              "#0d0887"
             ],
             [
              0.1111111111111111,
              "#46039f"
             ],
             [
              0.2222222222222222,
              "#7201a8"
             ],
             [
              0.3333333333333333,
              "#9c179e"
             ],
             [
              0.4444444444444444,
              "#bd3786"
             ],
             [
              0.5555555555555556,
              "#d8576b"
             ],
             [
              0.6666666666666666,
              "#ed7953"
             ],
             [
              0.7777777777777778,
              "#fb9f3a"
             ],
             [
              0.8888888888888888,
              "#fdca26"
             ],
             [
              1,
              "#f0f921"
             ]
            ],
            "type": "surface"
           }
          ],
          "table": [
           {
            "cells": {
             "fill": {
              "color": "#EBF0F8"
             },
             "line": {
              "color": "white"
             }
            },
            "header": {
             "fill": {
              "color": "#C8D4E3"
             },
             "line": {
              "color": "white"
             }
            },
            "type": "table"
           }
          ]
         },
         "layout": {
          "annotationdefaults": {
           "arrowcolor": "#2a3f5f",
           "arrowhead": 0,
           "arrowwidth": 1
          },
          "autotypenumbers": "strict",
          "coloraxis": {
           "colorbar": {
            "outlinewidth": 0,
            "ticks": ""
           }
          },
          "colorscale": {
           "diverging": [
            [
             0,
             "#8e0152"
            ],
            [
             0.1,
             "#c51b7d"
            ],
            [
             0.2,
             "#de77ae"
            ],
            [
             0.3,
             "#f1b6da"
            ],
            [
             0.4,
             "#fde0ef"
            ],
            [
             0.5,
             "#f7f7f7"
            ],
            [
             0.6,
             "#e6f5d0"
            ],
            [
             0.7,
             "#b8e186"
            ],
            [
             0.8,
             "#7fbc41"
            ],
            [
             0.9,
             "#4d9221"
            ],
            [
             1,
             "#276419"
            ]
           ],
           "sequential": [
            [
             0,
             "#0d0887"
            ],
            [
             0.1111111111111111,
             "#46039f"
            ],
            [
             0.2222222222222222,
             "#7201a8"
            ],
            [
             0.3333333333333333,
             "#9c179e"
            ],
            [
             0.4444444444444444,
             "#bd3786"
            ],
            [
             0.5555555555555556,
             "#d8576b"
            ],
            [
             0.6666666666666666,
             "#ed7953"
            ],
            [
             0.7777777777777778,
             "#fb9f3a"
            ],
            [
             0.8888888888888888,
             "#fdca26"
            ],
            [
             1,
             "#f0f921"
            ]
           ],
           "sequentialminus": [
            [
             0,
             "#0d0887"
            ],
            [
             0.1111111111111111,
             "#46039f"
            ],
            [
             0.2222222222222222,
             "#7201a8"
            ],
            [
             0.3333333333333333,
             "#9c179e"
            ],
            [
             0.4444444444444444,
             "#bd3786"
            ],
            [
             0.5555555555555556,
             "#d8576b"
            ],
            [
             0.6666666666666666,
             "#ed7953"
            ],
            [
             0.7777777777777778,
             "#fb9f3a"
            ],
            [
             0.8888888888888888,
             "#fdca26"
            ],
            [
             1,
             "#f0f921"
            ]
           ]
          },
          "colorway": [
           "#636efa",
           "#EF553B",
           "#00cc96",
           "#ab63fa",
           "#FFA15A",
           "#19d3f3",
           "#FF6692",
           "#B6E880",
           "#FF97FF",
           "#FECB52"
          ],
          "font": {
           "color": "#2a3f5f"
          },
          "geo": {
           "bgcolor": "white",
           "lakecolor": "white",
           "landcolor": "#E5ECF6",
           "showlakes": true,
           "showland": true,
           "subunitcolor": "white"
          },
          "hoverlabel": {
           "align": "left"
          },
          "hovermode": "closest",
          "mapbox": {
           "style": "light"
          },
          "paper_bgcolor": "white",
          "plot_bgcolor": "#E5ECF6",
          "polar": {
           "angularaxis": {
            "gridcolor": "white",
            "linecolor": "white",
            "ticks": ""
           },
           "bgcolor": "#E5ECF6",
           "radialaxis": {
            "gridcolor": "white",
            "linecolor": "white",
            "ticks": ""
           }
          },
          "scene": {
           "xaxis": {
            "backgroundcolor": "#E5ECF6",
            "gridcolor": "white",
            "gridwidth": 2,
            "linecolor": "white",
            "showbackground": true,
            "ticks": "",
            "zerolinecolor": "white"
           },
           "yaxis": {
            "backgroundcolor": "#E5ECF6",
            "gridcolor": "white",
            "gridwidth": 2,
            "linecolor": "white",
            "showbackground": true,
            "ticks": "",
            "zerolinecolor": "white"
           },
           "zaxis": {
            "backgroundcolor": "#E5ECF6",
            "gridcolor": "white",
            "gridwidth": 2,
            "linecolor": "white",
            "showbackground": true,
            "ticks": "",
            "zerolinecolor": "white"
           }
          },
          "shapedefaults": {
           "line": {
            "color": "#2a3f5f"
           }
          },
          "ternary": {
           "aaxis": {
            "gridcolor": "white",
            "linecolor": "white",
            "ticks": ""
           },
           "baxis": {
            "gridcolor": "white",
            "linecolor": "white",
            "ticks": ""
           },
           "bgcolor": "#E5ECF6",
           "caxis": {
            "gridcolor": "white",
            "linecolor": "white",
            "ticks": ""
           }
          },
          "title": {
           "x": 0.05
          },
          "xaxis": {
           "automargin": true,
           "gridcolor": "white",
           "linecolor": "white",
           "ticks": "",
           "title": {
            "standoff": 15
           },
           "zerolinecolor": "white",
           "zerolinewidth": 2
          },
          "yaxis": {
           "automargin": true,
           "gridcolor": "white",
           "linecolor": "white",
           "ticks": "",
           "title": {
            "standoff": 15
           },
           "zerolinecolor": "white",
           "zerolinewidth": 2
          }
         }
        },
        "xaxis": {
         "anchor": "y",
         "domain": [
          0,
          1
         ],
         "title": {
          "text": "UMAP_1"
         }
        },
        "yaxis": {
         "anchor": "x",
         "domain": [
          0,
          1
         ],
         "title": {
          "text": "UMAP_2"
         }
        }
       }
      }
     },
     "metadata": {},
     "output_type": "display_data"
    }
   ],
   "source": [
    "# Part 4 Task 5\n",
    "fig = px.scatter(umap_df, x='UMAP_1', y='UMAP_2', color='sex')\n",
    "fig.show()"
   ]
  }
 ],
 "metadata": {
  "kernelspec": {
   "display_name": "venv",
   "language": "python",
   "name": "python3"
  },
  "language_info": {
   "codemirror_mode": {
    "name": "ipython",
    "version": 3
   },
   "file_extension": ".py",
   "mimetype": "text/x-python",
   "name": "python",
   "nbconvert_exporter": "python",
   "pygments_lexer": "ipython3",
   "version": "3.12.1"
  }
 },
 "nbformat": 4,
 "nbformat_minor": 2
}
