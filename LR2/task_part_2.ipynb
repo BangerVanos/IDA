{
 "cells": [
  {
   "cell_type": "code",
   "execution_count": 3,
   "metadata": {},
   "outputs": [],
   "source": [
    "import pandas as pd"
   ]
  },
  {
   "cell_type": "code",
   "execution_count": 5,
   "metadata": {},
   "outputs": [],
   "source": [
    "boston_df = pd.read_csv('boston_weather_data.csv')"
   ]
  },
  {
   "cell_type": "markdown",
   "metadata": {},
   "source": [
    "## Part 2 Task 1"
   ]
  },
  {
   "cell_type": "code",
   "execution_count": 11,
   "metadata": {},
   "outputs": [
    {
     "data": {
      "text/plain": [
       "time    1.000000\n",
       "tavg    0.999726\n",
       "tmin    1.000000\n",
       "tmax    1.000000\n",
       "prcp    1.000000\n",
       "wdir    0.839310\n",
       "wspd    1.000000\n",
       "pres    0.955927\n",
       "dtype: float64"
      ]
     },
     "execution_count": 11,
     "metadata": {},
     "output_type": "execute_result"
    }
   ],
   "source": [
    "# Percentage af available data\n",
    "\n",
    "(~boston_df.isna()).mean()"
   ]
  },
  {
   "cell_type": "markdown",
   "metadata": {},
   "source": [
    "## Part 2 Task 2"
   ]
  },
  {
   "cell_type": "code",
   "execution_count": 12,
   "metadata": {},
   "outputs": [
    {
     "name": "stdout",
     "output_type": "stream",
     "text": [
      "<class 'pandas.core.frame.DataFrame'>\n",
      "RangeIndex: 3653 entries, 0 to 3652\n",
      "Data columns (total 8 columns):\n",
      " #   Column  Non-Null Count  Dtype  \n",
      "---  ------  --------------  -----  \n",
      " 0   time    3653 non-null   object \n",
      " 1   tavg    3652 non-null   float64\n",
      " 2   tmin    3653 non-null   float64\n",
      " 3   tmax    3653 non-null   float64\n",
      " 4   prcp    3653 non-null   float64\n",
      " 5   wdir    3066 non-null   float64\n",
      " 6   wspd    3653 non-null   float64\n",
      " 7   pres    3492 non-null   float64\n",
      "dtypes: float64(7), object(1)\n",
      "memory usage: 228.4+ KB\n"
     ]
    }
   ],
   "source": [
    "# dtype info\n",
    "\n",
    "boston_df.info()"
   ]
  },
  {
   "cell_type": "code",
   "execution_count": 13,
   "metadata": {},
   "outputs": [
    {
     "name": "stdout",
     "output_type": "stream",
     "text": [
      "<class 'pandas.core.frame.DataFrame'>\n",
      "RangeIndex: 3653 entries, 0 to 3652\n",
      "Data columns (total 8 columns):\n",
      " #   Column  Non-Null Count  Dtype         \n",
      "---  ------  --------------  -----         \n",
      " 0   time    3653 non-null   datetime64[ns]\n",
      " 1   tavg    3652 non-null   float64       \n",
      " 2   tmin    3653 non-null   float64       \n",
      " 3   tmax    3653 non-null   float64       \n",
      " 4   prcp    3653 non-null   float64       \n",
      " 5   wdir    3066 non-null   float64       \n",
      " 6   wspd    3653 non-null   float64       \n",
      " 7   pres    3492 non-null   float64       \n",
      "dtypes: datetime64[ns](1), float64(7)\n",
      "memory usage: 228.4 KB\n"
     ]
    }
   ],
   "source": [
    "# time column to datetime type\n",
    "\n",
    "boston_df['time'] = pd.to_datetime(boston_df['time'], format='%Y-%m-%d')\n",
    "boston_df.info()"
   ]
  },
  {
   "cell_type": "markdown",
   "metadata": {},
   "source": [
    "## Part 2 Task 3"
   ]
  },
  {
   "cell_type": "markdown",
   "metadata": {},
   "source": [
    "### Dunno how to check that"
   ]
  },
  {
   "cell_type": "markdown",
   "metadata": {},
   "source": [
    "## Part 2 Task 4"
   ]
  },
  {
   "cell_type": "code",
   "execution_count": 24,
   "metadata": {},
   "outputs": [
    {
     "data": {
      "text/html": [
       "<div>\n",
       "<style scoped>\n",
       "    .dataframe tbody tr th:only-of-type {\n",
       "        vertical-align: middle;\n",
       "    }\n",
       "\n",
       "    .dataframe tbody tr th {\n",
       "        vertical-align: top;\n",
       "    }\n",
       "\n",
       "    .dataframe thead th {\n",
       "        text-align: right;\n",
       "    }\n",
       "</style>\n",
       "<table border=\"1\" class=\"dataframe\">\n",
       "  <thead>\n",
       "    <tr style=\"text-align: right;\">\n",
       "      <th></th>\n",
       "      <th>Country</th>\n",
       "      <th>Region</th>\n",
       "    </tr>\n",
       "  </thead>\n",
       "  <tbody>\n",
       "    <tr>\n",
       "      <th>138</th>\n",
       "      <td>Micronesia</td>\n",
       "      <td>Asia &amp; Oceania</td>\n",
       "    </tr>\n",
       "    <tr>\n",
       "      <th>146</th>\n",
       "      <td>Northern Mariana Islands</td>\n",
       "      <td>Asia &amp; Oceania</td>\n",
       "    </tr>\n",
       "    <tr>\n",
       "      <th>159</th>\n",
       "      <td>Tuvalu</td>\n",
       "      <td>Asia &amp; Oceania</td>\n",
       "    </tr>\n",
       "    <tr>\n",
       "      <th>183</th>\n",
       "      <td>U.S. Territories</td>\n",
       "      <td>North America</td>\n",
       "    </tr>\n",
       "    <tr>\n",
       "      <th>368</th>\n",
       "      <td>Micronesia</td>\n",
       "      <td>Asia &amp; Oceania</td>\n",
       "    </tr>\n",
       "    <tr>\n",
       "      <th>376</th>\n",
       "      <td>Northern Mariana Islands</td>\n",
       "      <td>Asia &amp; Oceania</td>\n",
       "    </tr>\n",
       "    <tr>\n",
       "      <th>389</th>\n",
       "      <td>Tuvalu</td>\n",
       "      <td>Asia &amp; Oceania</td>\n",
       "    </tr>\n",
       "    <tr>\n",
       "      <th>413</th>\n",
       "      <td>U.S. Territories</td>\n",
       "      <td>North America</td>\n",
       "    </tr>\n",
       "    <tr>\n",
       "      <th>598</th>\n",
       "      <td>Micronesia</td>\n",
       "      <td>Asia &amp; Oceania</td>\n",
       "    </tr>\n",
       "    <tr>\n",
       "      <th>606</th>\n",
       "      <td>Northern Mariana Islands</td>\n",
       "      <td>Asia &amp; Oceania</td>\n",
       "    </tr>\n",
       "    <tr>\n",
       "      <th>619</th>\n",
       "      <td>Tuvalu</td>\n",
       "      <td>Asia &amp; Oceania</td>\n",
       "    </tr>\n",
       "    <tr>\n",
       "      <th>643</th>\n",
       "      <td>U.S. Territories</td>\n",
       "      <td>North America</td>\n",
       "    </tr>\n",
       "    <tr>\n",
       "      <th>828</th>\n",
       "      <td>Micronesia</td>\n",
       "      <td>Asia &amp; Oceania</td>\n",
       "    </tr>\n",
       "    <tr>\n",
       "      <th>836</th>\n",
       "      <td>Northern Mariana Islands</td>\n",
       "      <td>Asia &amp; Oceania</td>\n",
       "    </tr>\n",
       "    <tr>\n",
       "      <th>849</th>\n",
       "      <td>Tuvalu</td>\n",
       "      <td>Asia &amp; Oceania</td>\n",
       "    </tr>\n",
       "    <tr>\n",
       "      <th>873</th>\n",
       "      <td>U.S. Territories</td>\n",
       "      <td>North America</td>\n",
       "    </tr>\n",
       "    <tr>\n",
       "      <th>1058</th>\n",
       "      <td>Micronesia</td>\n",
       "      <td>Asia &amp; Oceania</td>\n",
       "    </tr>\n",
       "    <tr>\n",
       "      <th>1066</th>\n",
       "      <td>Northern Mariana Islands</td>\n",
       "      <td>Asia &amp; Oceania</td>\n",
       "    </tr>\n",
       "    <tr>\n",
       "      <th>1079</th>\n",
       "      <td>Tuvalu</td>\n",
       "      <td>Asia &amp; Oceania</td>\n",
       "    </tr>\n",
       "    <tr>\n",
       "      <th>1103</th>\n",
       "      <td>U.S. Territories</td>\n",
       "      <td>North America</td>\n",
       "    </tr>\n",
       "    <tr>\n",
       "      <th>1288</th>\n",
       "      <td>Micronesia</td>\n",
       "      <td>Asia &amp; Oceania</td>\n",
       "    </tr>\n",
       "    <tr>\n",
       "      <th>1296</th>\n",
       "      <td>Northern Mariana Islands</td>\n",
       "      <td>Asia &amp; Oceania</td>\n",
       "    </tr>\n",
       "    <tr>\n",
       "      <th>1309</th>\n",
       "      <td>Tuvalu</td>\n",
       "      <td>Asia &amp; Oceania</td>\n",
       "    </tr>\n",
       "    <tr>\n",
       "      <th>1333</th>\n",
       "      <td>U.S. Territories</td>\n",
       "      <td>North America</td>\n",
       "    </tr>\n",
       "    <tr>\n",
       "      <th>1518</th>\n",
       "      <td>Micronesia</td>\n",
       "      <td>Asia &amp; Oceania</td>\n",
       "    </tr>\n",
       "    <tr>\n",
       "      <th>1526</th>\n",
       "      <td>Northern Mariana Islands</td>\n",
       "      <td>Asia &amp; Oceania</td>\n",
       "    </tr>\n",
       "    <tr>\n",
       "      <th>1539</th>\n",
       "      <td>Tuvalu</td>\n",
       "      <td>Asia &amp; Oceania</td>\n",
       "    </tr>\n",
       "    <tr>\n",
       "      <th>1563</th>\n",
       "      <td>U.S. Territories</td>\n",
       "      <td>North America</td>\n",
       "    </tr>\n",
       "  </tbody>\n",
       "</table>\n",
       "</div>"
      ],
      "text/plain": [
       "                               Country          Region\n",
       "138                         Micronesia  Asia & Oceania\n",
       "146           Northern Mariana Islands  Asia & Oceania\n",
       "159                             Tuvalu  Asia & Oceania\n",
       "183                   U.S. Territories   North America\n",
       "368                         Micronesia  Asia & Oceania\n",
       "376           Northern Mariana Islands  Asia & Oceania\n",
       "389                             Tuvalu  Asia & Oceania\n",
       "413                   U.S. Territories   North America\n",
       "598                         Micronesia  Asia & Oceania\n",
       "606           Northern Mariana Islands  Asia & Oceania\n",
       "619                             Tuvalu  Asia & Oceania\n",
       "643                   U.S. Territories   North America\n",
       "828                         Micronesia  Asia & Oceania\n",
       "836           Northern Mariana Islands  Asia & Oceania\n",
       "849                             Tuvalu  Asia & Oceania\n",
       "873                   U.S. Territories   North America\n",
       "1058                        Micronesia  Asia & Oceania\n",
       "1066          Northern Mariana Islands  Asia & Oceania\n",
       "1079                            Tuvalu  Asia & Oceania\n",
       "1103                  U.S. Territories   North America\n",
       "1288                        Micronesia  Asia & Oceania\n",
       "1296          Northern Mariana Islands  Asia & Oceania\n",
       "1309                            Tuvalu  Asia & Oceania\n",
       "1333                  U.S. Territories   North America\n",
       "1518                        Micronesia  Asia & Oceania\n",
       "1526          Northern Mariana Islands  Asia & Oceania\n",
       "1539                            Tuvalu  Asia & Oceania\n",
       "1563                  U.S. Territories   North America"
      ]
     },
     "execution_count": 24,
     "metadata": {},
     "output_type": "execute_result"
    }
   ],
   "source": [
    "electro_df = pd.read_csv('global_electricity.csv')\n",
    "\n",
    "# Check which country electricity is unavailable is 2010\n",
    "electro_df[electro_df['2010'].isna()][['Country', 'Region']]"
   ]
  }
 ],
 "metadata": {
  "kernelspec": {
   "display_name": "venv",
   "language": "python",
   "name": "python3"
  },
  "language_info": {
   "codemirror_mode": {
    "name": "ipython",
    "version": 3
   },
   "file_extension": ".py",
   "mimetype": "text/x-python",
   "name": "python",
   "nbconvert_exporter": "python",
   "pygments_lexer": "ipython3",
   "version": "3.12.1"
  }
 },
 "nbformat": 4,
 "nbformat_minor": 2
}
